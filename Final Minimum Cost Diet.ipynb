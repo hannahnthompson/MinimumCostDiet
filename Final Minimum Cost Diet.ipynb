{
 "cells": [
  {
   "cell_type": "markdown",
   "id": "380f9245",
   "metadata": {},
   "source": [
    "# Justus von Liebig Final Code \n",
    "### Quinn Dahl, Hannah Thompson, Adrianna Ngo, Julia Goswick, Alex Yuan, Nick Everest"
   ]
  },
  {
   "cell_type": "code",
   "execution_count": 1,
   "id": "fe0c1acd",
   "metadata": {},
   "outputs": [
    {
     "name": "stdout",
     "output_type": "stream",
     "text": [
      "Requirement already satisfied: numpy>=1.20.3 in /opt/conda/lib/python3.9/site-packages (from -r requirements.txt (line 4)) (1.21.5)\n",
      "Requirement already satisfied: pandas>=1.2.5 in /opt/conda/lib/python3.9/site-packages (from -r requirements.txt (line 7)) (1.3.5)\n",
      "Collecting pint>=0.18\n",
      "  Using cached Pint-0.18-py2.py3-none-any.whl (209 kB)\n",
      "Requirement already satisfied: requests>=2.26.0 in /opt/conda/lib/python3.9/site-packages (from -r requirements.txt (line 13)) (2.26.0)\n",
      "Collecting eep153_tools\n",
      "  Using cached eep153_tools-0.11-py2.py3-none-any.whl (4.4 kB)\n",
      "Processing /home/jovyan/.cache/pip/wheels/20/7e/30/7d702acd6a1e89911301cd9dbf9cb9870ca80c0e64bc2cde23/gnupg-2.3.1-py3-none-any.whl\n",
      "Requirement already satisfied: python-dateutil>=2.7.3 in /opt/conda/lib/python3.9/site-packages (from pandas>=1.2.5->-r requirements.txt (line 7)) (2.8.0)\n",
      "Requirement already satisfied: pytz>=2017.3 in /opt/conda/lib/python3.9/site-packages (from pandas>=1.2.5->-r requirements.txt (line 7)) (2021.1)\n",
      "Requirement already satisfied: packaging in /opt/conda/lib/python3.9/site-packages (from pint>=0.18->-r requirements.txt (line 10)) (21.3)\n",
      "Requirement already satisfied: charset-normalizer~=2.0.0; python_version >= \"3\" in /opt/conda/lib/python3.9/site-packages (from requests>=2.26.0->-r requirements.txt (line 13)) (2.0.0)\n",
      "Requirement already satisfied: certifi>=2017.4.17 in /opt/conda/lib/python3.9/site-packages (from requests>=2.26.0->-r requirements.txt (line 13)) (2019.11.28)\n",
      "Requirement already satisfied: urllib3<1.27,>=1.21.1 in /opt/conda/lib/python3.9/site-packages (from requests>=2.26.0->-r requirements.txt (line 13)) (1.25.7)\n",
      "Requirement already satisfied: idna<4,>=2.5; python_version >= \"3\" in /opt/conda/lib/python3.9/site-packages (from requests>=2.26.0->-r requirements.txt (line 13)) (2.8)\n",
      "Requirement already satisfied: psutil>=1.2.1 in /opt/conda/lib/python3.9/site-packages (from gnupg->-r requirements.txt (line 17)) (5.9.0)\n",
      "Requirement already satisfied: six>=1.5 in /opt/conda/lib/python3.9/site-packages (from python-dateutil>=2.7.3->pandas>=1.2.5->-r requirements.txt (line 7)) (1.16.0)\n",
      "Requirement already satisfied: pyparsing!=3.0.5,>=2.0.2 in /opt/conda/lib/python3.9/site-packages (from packaging->pint>=0.18->-r requirements.txt (line 10)) (3.0.7)\n",
      "Installing collected packages: pint, eep153-tools, gnupg\n",
      "  Attempting uninstall: pint\n",
      "    Found existing installation: Pint 0.17\n",
      "    Uninstalling Pint-0.17:\n",
      "      Successfully uninstalled Pint-0.17\n",
      "Successfully installed eep153-tools-0.11 gnupg-2.3.1 pint-0.18\n",
      "Requirement already satisfied: scipy in /opt/conda/lib/python3.9/site-packages (1.7.3)\n",
      "Requirement already satisfied: numpy<1.23.0,>=1.16.5 in /opt/conda/lib/python3.9/site-packages (from scipy) (1.21.5)\n"
     ]
    }
   ],
   "source": [
    "!pip install -r requirements.txt\n",
    "!pip install scipy"
   ]
  },
  {
   "cell_type": "markdown",
   "id": "b33386e1",
   "metadata": {},
   "source": [
    "## [A] Description of Population of Interest\n",
    "\n",
    "As students at UC Berkeley, our group was interested in pursuing a topic that could help our peers. We took into consideration the grocery stores at which we most commonly shop and are accessible in terms of distance (taking the bus or walking). Additionally, we were interested in making our project inclusive to different diets.\n",
    "\n",
    "That being said, our project is a comparison of minimum cost diets for students shopping exclusively at specific stores in Berkeley, ideally adjustable based on diet type and personal preferences. We looked into stores such as Safeway, Berkeley Bowl, Whole Foods, and Trader Joe’s. \n",
    "\n",
    "We hope to find minimum cost meals and provide recipes for vegan, vegetarian, pescatarian, and omnivorous students. Hopefully our project can help next time you go grocery shopping!   \n"
   ]
  },
  {
   "cell_type": "markdown",
   "id": "74dc0ecd",
   "metadata": {},
   "source": [
    "## [A] Function for Dietary Reference Intakes"
   ]
  },
  {
   "cell_type": "code",
   "execution_count": 2,
   "id": "dbff53c3",
   "metadata": {},
   "outputs": [],
   "source": [
    "apikey = \"tJl01ofHyVljUR9Zpj444bDQ07REEpVXRdx1kpRl\""
   ]
  },
  {
   "cell_type": "code",
   "execution_count": 3,
   "id": "3cb988f6",
   "metadata": {},
   "outputs": [],
   "source": [
    "from scipy.optimize import linprog as lp\n",
    "import numpy as np\n",
    "import warnings\n",
    "\n",
    "def solve_subsistence_problem(FoodNutrients,Prices,diet_min,diet_max,max_weight=None,tol=1e-6):\n",
    "    \"\"\"Solve Stigler's Subsistence Cost Problem.\n",
    "\n",
    "    Inputs:\n",
    "       - FoodNutrients : A pd.DataFrame with rows corresponding to foods, columns to nutrients.\n",
    "       - Prices : A pd.Series of prices for different foods\n",
    "       - diet_min : A pd.Series of DRIs, with index corresponding to columns of FoodNutrients,\n",
    "                    describing minimum intakes.\n",
    "       - diet_max : A pd.Series of DRIs, with index corresponding to columns of FoodNutrients,\n",
    "                    describing maximum intakes.\n",
    "       - max_weight : Maximum weight (in hectograms) allowed for diet.\n",
    "       - tol : Solution values smaller than this in absolute value treated as zeros.\n",
    "       \n",
    "    \"\"\"\n",
    "    p = Prices.apply(lambda x:x.magnitude).dropna()\n",
    "\n",
    "    # Compile list that we have both prices and nutritional info for; drop if either missing\n",
    "    use = p.index.intersection(FoodNutrients.columns)\n",
    "    p = p[use]\n",
    "\n",
    "    # Drop nutritional information for foods we don't know the price of,\n",
    "    # and replace missing nutrients with zeros.\n",
    "    Aall = FoodNutrients[p.index].fillna(0)\n",
    "\n",
    "    # Drop rows of A that we don't have constraints for.\n",
    "    Amin = Aall.loc[Aall.index.intersection(diet_min.index)]\n",
    "\n",
    "    Amax = Aall.loc[Aall.index.intersection(diet_max.index)]\n",
    "\n",
    "    # Minimum requirements involve multiplying constraint by -1 to make <=.\n",
    "    A = pd.concat([Amin,\n",
    "                   -Amax])\n",
    "\n",
    "    b = pd.concat([diet_min,\n",
    "                   -diet_max]) # Note sign change for max constraints\n",
    "\n",
    "    # Make sure order of p, A, b are consistent\n",
    "    A = A.reindex(p.index,axis=1)\n",
    "    A = A.reindex(b.index,axis=0)\n",
    "\n",
    "    if max_weight is not None:\n",
    "        # Add up weights of foods consumed\n",
    "        A.loc['Hectograms'] = -1\n",
    "        b.loc['Hectograms'] = -max_weight\n",
    "        \n",
    "    # Now solve problem!  (Note that the linear program solver we'll use assumes\n",
    "    # \"less-than-or-equal\" constraints.  We can switch back and forth by\n",
    "    # multiplying $A$ and $b$ by $-1$.)\n",
    "\n",
    "    result = lp(p, -A, -b, method='interior-point')\n",
    "\n",
    "    result.A = A\n",
    "    result.b = b\n",
    "    \n",
    "    if result.success:\n",
    "        result.diet = pd.Series(result.x,index=p.index)\n",
    "    else: # No feasible solution?\n",
    "        warnings.warn(result.message)\n",
    "        result.diet = pd.Series(result.x,index=p.index)*np.nan  \n",
    "\n",
    "    return result"
   ]
  },
  {
   "cell_type": "markdown",
   "id": "6970fcb0",
   "metadata": {},
   "source": [
    "## [A] Data on prices for different foods"
   ]
  },
  {
   "cell_type": "code",
   "execution_count": 4,
   "id": "33f5a22c",
   "metadata": {},
   "outputs": [],
   "source": [
    "SHEETs = [(\"https://docs.google.com/spreadsheets/d/17XCCM7-_Vk2erOKQmZsOZ2fYSsPUGzbGyTYZd_02bVk/edit#gid=0\",\"Berkeley Bowl\")]\n",
    "SHEETs2 = [(\"https://docs.google.com/spreadsheets/d/17XCCM7-_Vk2erOKQmZsOZ2fYSsPUGzbGyTYZd_02bVk/edit#gid=0\",\"Safeway\")]\n",
    "SHEETs3 = [(\"https://docs.google.com/spreadsheets/d/17XCCM7-_Vk2erOKQmZsOZ2fYSsPUGzbGyTYZd_02bVk/edit#gid=0\",\"Whole Foods\")]\n",
    "SHEETs4 = [(\"https://docs.google.com/spreadsheets/d/17XCCM7-_Vk2erOKQmZsOZ2fYSsPUGzbGyTYZd_02bVk/edit#gid=0\",\"Trader Joe's\")]"
   ]
  },
  {
   "cell_type": "code",
   "execution_count": 5,
   "id": "4367e3df",
   "metadata": {},
   "outputs": [
    {
     "name": "stdout",
     "output_type": "stream",
     "text": [
      "Key available for students@eep153.iam.gserviceaccount.com.\n",
      "Key available for students@eep153.iam.gserviceaccount.com.\n",
      "Key available for students@eep153.iam.gserviceaccount.com.\n",
      "Key available for students@eep153.iam.gserviceaccount.com.\n"
     ]
    }
   ],
   "source": [
    "import pandas as pd\n",
    "from eep153_tools.sheets import read_sheets\n",
    "\n",
    "df_bb = read_sheets(SHEETs[0][0])[SHEETs[0][1]]\n",
    "df_sw = read_sheets(SHEETs2[0][0])[SHEETs2[0][1]]\n",
    "df_wf = read_sheets(SHEETs3[0][0])[SHEETs3[0][1]]\n",
    "df_tj = read_sheets(SHEETs4[0][0])[SHEETs4[0][1]]"
   ]
  },
  {
   "cell_type": "code",
   "execution_count": 6,
   "id": "d7825547",
   "metadata": {},
   "outputs": [],
   "source": [
    "# do NOT continuously run next cell"
   ]
  },
  {
   "cell_type": "code",
   "execution_count": 7,
   "id": "1bd698bd",
   "metadata": {},
   "outputs": [],
   "source": [
    "##do not rerun this cell while making changes to other cells, just run once. It takes like 5 minutes to run\n",
    "import fooddatacentral as fdc\n",
    "import warnings\n",
    "\n",
    "D = {}\n",
    "count = 0\n",
    "for food in  df_bb.Food.tolist():\n",
    "    try:\n",
    "        FDC = df_bb.loc[df_bb.Food==food,:].FDC[count]\n",
    "        count+=1\n",
    "        D[food] = fdc.nutrients(apikey,FDC).Quantity\n",
    "    except AttributeError: \n",
    "        warnings.warn(\"Couldn't find FDC Code %s for food %s.\" % (food,FDC))        \n",
    "\n",
    "FoodNutrients = pd.DataFrame(D,dtype=float)"
   ]
  },
  {
   "cell_type": "code",
   "execution_count": 75,
   "id": "3993cb78",
   "metadata": {},
   "outputs": [
    {
     "data": {
      "text/html": [
       "<div>\n",
       "<style scoped>\n",
       "    .dataframe tbody tr th:only-of-type {\n",
       "        vertical-align: middle;\n",
       "    }\n",
       "\n",
       "    .dataframe tbody tr th {\n",
       "        vertical-align: top;\n",
       "    }\n",
       "\n",
       "    .dataframe thead th {\n",
       "        text-align: right;\n",
       "    }\n",
       "</style>\n",
       "<table border=\"1\" class=\"dataframe\">\n",
       "  <thead>\n",
       "    <tr style=\"text-align: right;\">\n",
       "      <th></th>\n",
       "      <th>Chicken breast</th>\n",
       "      <th>Chicken thigh</th>\n",
       "      <th>Ground Beef</th>\n",
       "      <th>Eggs</th>\n",
       "      <th>Peanut Butter</th>\n",
       "      <th>Chickpeas</th>\n",
       "      <th>Tofu</th>\n",
       "      <th>Pork Loin (Pork Loin Chop)</th>\n",
       "      <th>Ground Pork</th>\n",
       "      <th>Ground Turkey</th>\n",
       "      <th>...</th>\n",
       "      <th>Cucumbers</th>\n",
       "      <th>Cremini Mushrooms</th>\n",
       "      <th>Jalepenos</th>\n",
       "      <th>Olive Oil</th>\n",
       "      <th>Vegetable Oil</th>\n",
       "      <th>Salt</th>\n",
       "      <th>Tomato Sauce</th>\n",
       "      <th>Sugar</th>\n",
       "      <th>Honey</th>\n",
       "      <th>Bread (multi grain)</th>\n",
       "    </tr>\n",
       "  </thead>\n",
       "  <tbody>\n",
       "    <tr>\n",
       "      <th>Alanine</th>\n",
       "      <td>NaN</td>\n",
       "      <td>NaN</td>\n",
       "      <td>NaN</td>\n",
       "      <td>NaN</td>\n",
       "      <td>NaN</td>\n",
       "      <td>NaN</td>\n",
       "      <td>NaN</td>\n",
       "      <td>1.253</td>\n",
       "      <td>NaN</td>\n",
       "      <td>NaN</td>\n",
       "      <td>...</td>\n",
       "      <td>NaN</td>\n",
       "      <td>NaN</td>\n",
       "      <td>NaN</td>\n",
       "      <td>NaN</td>\n",
       "      <td>NaN</td>\n",
       "      <td>NaN</td>\n",
       "      <td>NaN</td>\n",
       "      <td>NaN</td>\n",
       "      <td>0.006</td>\n",
       "      <td>0.341</td>\n",
       "    </tr>\n",
       "    <tr>\n",
       "      <th>Alcohol, ethyl</th>\n",
       "      <td>NaN</td>\n",
       "      <td>NaN</td>\n",
       "      <td>NaN</td>\n",
       "      <td>NaN</td>\n",
       "      <td>0.00</td>\n",
       "      <td>0.00</td>\n",
       "      <td>NaN</td>\n",
       "      <td>0.000</td>\n",
       "      <td>NaN</td>\n",
       "      <td>NaN</td>\n",
       "      <td>...</td>\n",
       "      <td>0.00</td>\n",
       "      <td>NaN</td>\n",
       "      <td>0.00</td>\n",
       "      <td>NaN</td>\n",
       "      <td>NaN</td>\n",
       "      <td>NaN</td>\n",
       "      <td>NaN</td>\n",
       "      <td>NaN</td>\n",
       "      <td>0.000</td>\n",
       "      <td>0.000</td>\n",
       "    </tr>\n",
       "    <tr>\n",
       "      <th>Amino acids</th>\n",
       "      <td>NaN</td>\n",
       "      <td>NaN</td>\n",
       "      <td>NaN</td>\n",
       "      <td>NaN</td>\n",
       "      <td>0.00</td>\n",
       "      <td>0.00</td>\n",
       "      <td>NaN</td>\n",
       "      <td>0.000</td>\n",
       "      <td>NaN</td>\n",
       "      <td>NaN</td>\n",
       "      <td>...</td>\n",
       "      <td>0.00</td>\n",
       "      <td>0.0000</td>\n",
       "      <td>0.00</td>\n",
       "      <td>NaN</td>\n",
       "      <td>NaN</td>\n",
       "      <td>NaN</td>\n",
       "      <td>NaN</td>\n",
       "      <td>NaN</td>\n",
       "      <td>0.000</td>\n",
       "      <td>0.000</td>\n",
       "    </tr>\n",
       "    <tr>\n",
       "      <th>Arginine</th>\n",
       "      <td>NaN</td>\n",
       "      <td>NaN</td>\n",
       "      <td>NaN</td>\n",
       "      <td>NaN</td>\n",
       "      <td>NaN</td>\n",
       "      <td>NaN</td>\n",
       "      <td>NaN</td>\n",
       "      <td>1.420</td>\n",
       "      <td>NaN</td>\n",
       "      <td>NaN</td>\n",
       "      <td>...</td>\n",
       "      <td>NaN</td>\n",
       "      <td>NaN</td>\n",
       "      <td>NaN</td>\n",
       "      <td>NaN</td>\n",
       "      <td>NaN</td>\n",
       "      <td>NaN</td>\n",
       "      <td>NaN</td>\n",
       "      <td>NaN</td>\n",
       "      <td>0.005</td>\n",
       "      <td>0.485</td>\n",
       "    </tr>\n",
       "    <tr>\n",
       "      <th>Ash</th>\n",
       "      <td>NaN</td>\n",
       "      <td>NaN</td>\n",
       "      <td>NaN</td>\n",
       "      <td>NaN</td>\n",
       "      <td>NaN</td>\n",
       "      <td>NaN</td>\n",
       "      <td>NaN</td>\n",
       "      <td>0.970</td>\n",
       "      <td>NaN</td>\n",
       "      <td>NaN</td>\n",
       "      <td>...</td>\n",
       "      <td>NaN</td>\n",
       "      <td>0.8750</td>\n",
       "      <td>0.53</td>\n",
       "      <td>NaN</td>\n",
       "      <td>NaN</td>\n",
       "      <td>NaN</td>\n",
       "      <td>NaN</td>\n",
       "      <td>NaN</td>\n",
       "      <td>0.200</td>\n",
       "      <td>2.130</td>\n",
       "    </tr>\n",
       "    <tr>\n",
       "      <th>...</th>\n",
       "      <td>...</td>\n",
       "      <td>...</td>\n",
       "      <td>...</td>\n",
       "      <td>...</td>\n",
       "      <td>...</td>\n",
       "      <td>...</td>\n",
       "      <td>...</td>\n",
       "      <td>...</td>\n",
       "      <td>...</td>\n",
       "      <td>...</td>\n",
       "      <td>...</td>\n",
       "      <td>...</td>\n",
       "      <td>...</td>\n",
       "      <td>...</td>\n",
       "      <td>...</td>\n",
       "      <td>...</td>\n",
       "      <td>...</td>\n",
       "      <td>...</td>\n",
       "      <td>...</td>\n",
       "      <td>...</td>\n",
       "      <td>...</td>\n",
       "    </tr>\n",
       "    <tr>\n",
       "      <th>Vitamin K (Dihydrophylloquinone)</th>\n",
       "      <td>NaN</td>\n",
       "      <td>NaN</td>\n",
       "      <td>NaN</td>\n",
       "      <td>NaN</td>\n",
       "      <td>NaN</td>\n",
       "      <td>NaN</td>\n",
       "      <td>NaN</td>\n",
       "      <td>0.000</td>\n",
       "      <td>NaN</td>\n",
       "      <td>NaN</td>\n",
       "      <td>...</td>\n",
       "      <td>NaN</td>\n",
       "      <td>NaN</td>\n",
       "      <td>NaN</td>\n",
       "      <td>NaN</td>\n",
       "      <td>NaN</td>\n",
       "      <td>NaN</td>\n",
       "      <td>NaN</td>\n",
       "      <td>NaN</td>\n",
       "      <td>NaN</td>\n",
       "      <td>NaN</td>\n",
       "    </tr>\n",
       "    <tr>\n",
       "      <th>Vitamin K (phylloquinone)</th>\n",
       "      <td>NaN</td>\n",
       "      <td>NaN</td>\n",
       "      <td>NaN</td>\n",
       "      <td>NaN</td>\n",
       "      <td>0.30</td>\n",
       "      <td>3.70</td>\n",
       "      <td>NaN</td>\n",
       "      <td>0.000</td>\n",
       "      <td>NaN</td>\n",
       "      <td>NaN</td>\n",
       "      <td>...</td>\n",
       "      <td>16.40</td>\n",
       "      <td>NaN</td>\n",
       "      <td>18.50</td>\n",
       "      <td>NaN</td>\n",
       "      <td>NaN</td>\n",
       "      <td>NaN</td>\n",
       "      <td>NaN</td>\n",
       "      <td>NaN</td>\n",
       "      <td>0.000</td>\n",
       "      <td>1.400</td>\n",
       "    </tr>\n",
       "    <tr>\n",
       "      <th>Vitamins and Other Components</th>\n",
       "      <td>NaN</td>\n",
       "      <td>NaN</td>\n",
       "      <td>NaN</td>\n",
       "      <td>NaN</td>\n",
       "      <td>0.00</td>\n",
       "      <td>0.00</td>\n",
       "      <td>NaN</td>\n",
       "      <td>0.000</td>\n",
       "      <td>NaN</td>\n",
       "      <td>NaN</td>\n",
       "      <td>...</td>\n",
       "      <td>0.00</td>\n",
       "      <td>0.0000</td>\n",
       "      <td>0.00</td>\n",
       "      <td>NaN</td>\n",
       "      <td>NaN</td>\n",
       "      <td>NaN</td>\n",
       "      <td>NaN</td>\n",
       "      <td>NaN</td>\n",
       "      <td>0.000</td>\n",
       "      <td>0.000</td>\n",
       "    </tr>\n",
       "    <tr>\n",
       "      <th>Water</th>\n",
       "      <td>NaN</td>\n",
       "      <td>NaN</td>\n",
       "      <td>NaN</td>\n",
       "      <td>NaN</td>\n",
       "      <td>1.18</td>\n",
       "      <td>64.03</td>\n",
       "      <td>NaN</td>\n",
       "      <td>70.140</td>\n",
       "      <td>NaN</td>\n",
       "      <td>NaN</td>\n",
       "      <td>...</td>\n",
       "      <td>95.23</td>\n",
       "      <td>91.8200</td>\n",
       "      <td>91.69</td>\n",
       "      <td>NaN</td>\n",
       "      <td>NaN</td>\n",
       "      <td>NaN</td>\n",
       "      <td>NaN</td>\n",
       "      <td>NaN</td>\n",
       "      <td>17.100</td>\n",
       "      <td>36.940</td>\n",
       "    </tr>\n",
       "    <tr>\n",
       "      <th>Zinc, Zn</th>\n",
       "      <td>NaN</td>\n",
       "      <td>NaN</td>\n",
       "      <td>NaN</td>\n",
       "      <td>NaN</td>\n",
       "      <td>2.54</td>\n",
       "      <td>1.15</td>\n",
       "      <td>NaN</td>\n",
       "      <td>1.730</td>\n",
       "      <td>NaN</td>\n",
       "      <td>NaN</td>\n",
       "      <td>...</td>\n",
       "      <td>0.20</td>\n",
       "      <td>0.5123</td>\n",
       "      <td>0.14</td>\n",
       "      <td>NaN</td>\n",
       "      <td>NaN</td>\n",
       "      <td>NaN</td>\n",
       "      <td>NaN</td>\n",
       "      <td>NaN</td>\n",
       "      <td>0.220</td>\n",
       "      <td>1.700</td>\n",
       "    </tr>\n",
       "  </tbody>\n",
       "</table>\n",
       "<p>155 rows × 56 columns</p>\n",
       "</div>"
      ],
      "text/plain": [
       "                                  Chicken breast  Chicken thigh  Ground Beef  \\\n",
       "Alanine                                      NaN            NaN          NaN   \n",
       "Alcohol, ethyl                               NaN            NaN          NaN   \n",
       "Amino acids                                  NaN            NaN          NaN   \n",
       "Arginine                                     NaN            NaN          NaN   \n",
       "Ash                                          NaN            NaN          NaN   \n",
       "...                                          ...            ...          ...   \n",
       "Vitamin K (Dihydrophylloquinone)             NaN            NaN          NaN   \n",
       "Vitamin K (phylloquinone)                    NaN            NaN          NaN   \n",
       "Vitamins and Other Components                NaN            NaN          NaN   \n",
       "Water                                        NaN            NaN          NaN   \n",
       "Zinc, Zn                                     NaN            NaN          NaN   \n",
       "\n",
       "                                  Eggs  Peanut Butter  Chickpeas  Tofu  \\\n",
       "Alanine                            NaN            NaN        NaN   NaN   \n",
       "Alcohol, ethyl                     NaN           0.00       0.00   NaN   \n",
       "Amino acids                        NaN           0.00       0.00   NaN   \n",
       "Arginine                           NaN            NaN        NaN   NaN   \n",
       "Ash                                NaN            NaN        NaN   NaN   \n",
       "...                                ...            ...        ...   ...   \n",
       "Vitamin K (Dihydrophylloquinone)   NaN            NaN        NaN   NaN   \n",
       "Vitamin K (phylloquinone)          NaN           0.30       3.70   NaN   \n",
       "Vitamins and Other Components      NaN           0.00       0.00   NaN   \n",
       "Water                              NaN           1.18      64.03   NaN   \n",
       "Zinc, Zn                           NaN           2.54       1.15   NaN   \n",
       "\n",
       "                                  Pork Loin (Pork Loin Chop)  Ground Pork  \\\n",
       "Alanine                                                1.253          NaN   \n",
       "Alcohol, ethyl                                         0.000          NaN   \n",
       "Amino acids                                            0.000          NaN   \n",
       "Arginine                                               1.420          NaN   \n",
       "Ash                                                    0.970          NaN   \n",
       "...                                                      ...          ...   \n",
       "Vitamin K (Dihydrophylloquinone)                       0.000          NaN   \n",
       "Vitamin K (phylloquinone)                              0.000          NaN   \n",
       "Vitamins and Other Components                          0.000          NaN   \n",
       "Water                                                 70.140          NaN   \n",
       "Zinc, Zn                                               1.730          NaN   \n",
       "\n",
       "                                  Ground Turkey  ...  Cucumbers  \\\n",
       "Alanine                                     NaN  ...        NaN   \n",
       "Alcohol, ethyl                              NaN  ...       0.00   \n",
       "Amino acids                                 NaN  ...       0.00   \n",
       "Arginine                                    NaN  ...        NaN   \n",
       "Ash                                         NaN  ...        NaN   \n",
       "...                                         ...  ...        ...   \n",
       "Vitamin K (Dihydrophylloquinone)            NaN  ...        NaN   \n",
       "Vitamin K (phylloquinone)                   NaN  ...      16.40   \n",
       "Vitamins and Other Components               NaN  ...       0.00   \n",
       "Water                                       NaN  ...      95.23   \n",
       "Zinc, Zn                                    NaN  ...       0.20   \n",
       "\n",
       "                                  Cremini Mushrooms  Jalepenos  Olive Oil  \\\n",
       "Alanine                                         NaN        NaN        NaN   \n",
       "Alcohol, ethyl                                  NaN       0.00        NaN   \n",
       "Amino acids                                  0.0000       0.00        NaN   \n",
       "Arginine                                        NaN        NaN        NaN   \n",
       "Ash                                          0.8750       0.53        NaN   \n",
       "...                                             ...        ...        ...   \n",
       "Vitamin K (Dihydrophylloquinone)                NaN        NaN        NaN   \n",
       "Vitamin K (phylloquinone)                       NaN      18.50        NaN   \n",
       "Vitamins and Other Components                0.0000       0.00        NaN   \n",
       "Water                                       91.8200      91.69        NaN   \n",
       "Zinc, Zn                                     0.5123       0.14        NaN   \n",
       "\n",
       "                                  Vegetable Oil  Salt  Tomato Sauce  Sugar  \\\n",
       "Alanine                                     NaN   NaN           NaN    NaN   \n",
       "Alcohol, ethyl                              NaN   NaN           NaN    NaN   \n",
       "Amino acids                                 NaN   NaN           NaN    NaN   \n",
       "Arginine                                    NaN   NaN           NaN    NaN   \n",
       "Ash                                         NaN   NaN           NaN    NaN   \n",
       "...                                         ...   ...           ...    ...   \n",
       "Vitamin K (Dihydrophylloquinone)            NaN   NaN           NaN    NaN   \n",
       "Vitamin K (phylloquinone)                   NaN   NaN           NaN    NaN   \n",
       "Vitamins and Other Components               NaN   NaN           NaN    NaN   \n",
       "Water                                       NaN   NaN           NaN    NaN   \n",
       "Zinc, Zn                                    NaN   NaN           NaN    NaN   \n",
       "\n",
       "                                   Honey  Bread (multi grain)  \n",
       "Alanine                            0.006                0.341  \n",
       "Alcohol, ethyl                     0.000                0.000  \n",
       "Amino acids                        0.000                0.000  \n",
       "Arginine                           0.005                0.485  \n",
       "Ash                                0.200                2.130  \n",
       "...                                  ...                  ...  \n",
       "Vitamin K (Dihydrophylloquinone)     NaN                  NaN  \n",
       "Vitamin K (phylloquinone)          0.000                1.400  \n",
       "Vitamins and Other Components      0.000                0.000  \n",
       "Water                             17.100               36.940  \n",
       "Zinc, Zn                           0.220                1.700  \n",
       "\n",
       "[155 rows x 56 columns]"
      ]
     },
     "execution_count": 75,
     "metadata": {},
     "output_type": "execute_result"
    }
   ],
   "source": [
    "FoodNutrients"
   ]
  },
  {
   "cell_type": "code",
   "execution_count": 8,
   "id": "3daccc85",
   "metadata": {},
   "outputs": [],
   "source": [
    "def change_df_col_to_int(df, col):\n",
    "   # df[col] = df[col].fillna(1)\n",
    "    df[col] = df[col].str.replace('$', '')\n",
    "    df[col] = df[col].astype(float)\n",
    "    return df"
   ]
  },
  {
   "cell_type": "code",
   "execution_count": 9,
   "id": "a1499b6c",
   "metadata": {},
   "outputs": [
    {
     "name": "stderr",
     "output_type": "stream",
     "text": [
      "/tmp/ipykernel_46/2300178093.py:3: FutureWarning: The default value of regex will change from True to False in a future version. In addition, single character regular expressions will *not* be treated as literal strings when regex=True.\n",
      "  df[col] = df[col].str.replace('$', '')\n"
     ]
    },
    {
     "data": {
      "text/html": [
       "<div>\n",
       "<style scoped>\n",
       "    .dataframe tbody tr th:only-of-type {\n",
       "        vertical-align: middle;\n",
       "    }\n",
       "\n",
       "    .dataframe tbody tr th {\n",
       "        vertical-align: top;\n",
       "    }\n",
       "\n",
       "    .dataframe thead th {\n",
       "        text-align: right;\n",
       "    }\n",
       "</style>\n",
       "<table border=\"1\" class=\"dataframe\">\n",
       "  <thead>\n",
       "    <tr style=\"text-align: right;\">\n",
       "      <th></th>\n",
       "      <th>Food Group</th>\n",
       "      <th>Food</th>\n",
       "      <th>Quantity</th>\n",
       "      <th>Units</th>\n",
       "      <th>Price</th>\n",
       "      <th>Date</th>\n",
       "      <th>Location</th>\n",
       "      <th>Brand Name</th>\n",
       "      <th>FDC</th>\n",
       "      <th>Vegan (1/0)</th>\n",
       "      <th>Vegetarian (1/0)</th>\n",
       "      <th>Pescetarian (1/0)</th>\n",
       "    </tr>\n",
       "  </thead>\n",
       "  <tbody>\n",
       "    <tr>\n",
       "      <th>0</th>\n",
       "      <td>Protein</td>\n",
       "      <td>Chicken breast</td>\n",
       "      <td>1.0000</td>\n",
       "      <td>lbs</td>\n",
       "      <td>6.99</td>\n",
       "      <td>02/27/22</td>\n",
       "      <td>Trader Joes</td>\n",
       "      <td>Trader Joes</td>\n",
       "      <td>2092152</td>\n",
       "      <td>0</td>\n",
       "      <td>0</td>\n",
       "      <td>0</td>\n",
       "    </tr>\n",
       "    <tr>\n",
       "      <th>1</th>\n",
       "      <td>Protein</td>\n",
       "      <td>Chicken thigh</td>\n",
       "      <td>1.0000</td>\n",
       "      <td>lbs</td>\n",
       "      <td>4.49</td>\n",
       "      <td>02/27/22</td>\n",
       "      <td>Trader Joes</td>\n",
       "      <td>Trader Joes</td>\n",
       "      <td>1899680</td>\n",
       "      <td>0</td>\n",
       "      <td>0</td>\n",
       "      <td>0</td>\n",
       "    </tr>\n",
       "    <tr>\n",
       "      <th>2</th>\n",
       "      <td>Protein</td>\n",
       "      <td>Ground Beef</td>\n",
       "      <td>1.0000</td>\n",
       "      <td>lbs</td>\n",
       "      <td>6.99</td>\n",
       "      <td>02/27/22</td>\n",
       "      <td>Trader Joes</td>\n",
       "      <td>Trader Joes</td>\n",
       "      <td>1597053</td>\n",
       "      <td>0</td>\n",
       "      <td>0</td>\n",
       "      <td>0</td>\n",
       "    </tr>\n",
       "    <tr>\n",
       "      <th>3</th>\n",
       "      <td>Protein</td>\n",
       "      <td>Eggs</td>\n",
       "      <td>672.0000</td>\n",
       "      <td>g</td>\n",
       "      <td>2.69</td>\n",
       "      <td>02/27/22</td>\n",
       "      <td>Trader Joes</td>\n",
       "      <td>Trader Joes</td>\n",
       "      <td>577532</td>\n",
       "      <td>0</td>\n",
       "      <td>1</td>\n",
       "      <td>1</td>\n",
       "    </tr>\n",
       "    <tr>\n",
       "      <th>4</th>\n",
       "      <td>Protein</td>\n",
       "      <td>Peanut Butter</td>\n",
       "      <td>16.0000</td>\n",
       "      <td>oz</td>\n",
       "      <td>1.99</td>\n",
       "      <td>02/27/22</td>\n",
       "      <td>Trader Joes</td>\n",
       "      <td>Trader Joes</td>\n",
       "      <td>1100559</td>\n",
       "      <td>1</td>\n",
       "      <td>1</td>\n",
       "      <td>1</td>\n",
       "    </tr>\n",
       "    <tr>\n",
       "      <th>5</th>\n",
       "      <td>Protein</td>\n",
       "      <td>Chickpeas</td>\n",
       "      <td>15.5000</td>\n",
       "      <td>oz</td>\n",
       "      <td>0.79</td>\n",
       "      <td>02/27/22</td>\n",
       "      <td>Trader Joes</td>\n",
       "      <td>Trader Joes</td>\n",
       "      <td>1100433</td>\n",
       "      <td>1</td>\n",
       "      <td>1</td>\n",
       "      <td>1</td>\n",
       "    </tr>\n",
       "    <tr>\n",
       "      <th>6</th>\n",
       "      <td>Protein</td>\n",
       "      <td>Tofu</td>\n",
       "      <td>14.0000</td>\n",
       "      <td>oz</td>\n",
       "      <td>1.79</td>\n",
       "      <td>02/27/22</td>\n",
       "      <td>Trader Joes</td>\n",
       "      <td>Trader Joes</td>\n",
       "      <td>1864416</td>\n",
       "      <td>1</td>\n",
       "      <td>1</td>\n",
       "      <td>1</td>\n",
       "    </tr>\n",
       "    <tr>\n",
       "      <th>7</th>\n",
       "      <td>Protein</td>\n",
       "      <td>Pork Loin</td>\n",
       "      <td>1.0000</td>\n",
       "      <td>lbs</td>\n",
       "      <td>7.99</td>\n",
       "      <td>02/27/22</td>\n",
       "      <td>Trader Joes</td>\n",
       "      <td>Trader Joes</td>\n",
       "      <td>168314</td>\n",
       "      <td>0</td>\n",
       "      <td>0</td>\n",
       "      <td>0</td>\n",
       "    </tr>\n",
       "    <tr>\n",
       "      <th>8</th>\n",
       "      <td>Protein</td>\n",
       "      <td>Ground Pork</td>\n",
       "      <td>16.0000</td>\n",
       "      <td>oz</td>\n",
       "      <td>5.99</td>\n",
       "      <td>02/27/22</td>\n",
       "      <td>Trader Joes</td>\n",
       "      <td>Trader Joes</td>\n",
       "      <td>1887701</td>\n",
       "      <td>0</td>\n",
       "      <td>0</td>\n",
       "      <td>0</td>\n",
       "    </tr>\n",
       "    <tr>\n",
       "      <th>9</th>\n",
       "      <td>Protein</td>\n",
       "      <td>Ground Turkey</td>\n",
       "      <td>16.0000</td>\n",
       "      <td>oz</td>\n",
       "      <td>3.49</td>\n",
       "      <td>02/27/22</td>\n",
       "      <td>Trader Joes</td>\n",
       "      <td>Trader Joes</td>\n",
       "      <td>1626048</td>\n",
       "      <td>0</td>\n",
       "      <td>0</td>\n",
       "      <td>0</td>\n",
       "    </tr>\n",
       "    <tr>\n",
       "      <th>10</th>\n",
       "      <td>Protein</td>\n",
       "      <td>Black Beans</td>\n",
       "      <td>15.5000</td>\n",
       "      <td>oz</td>\n",
       "      <td>0.79</td>\n",
       "      <td>02/27/22</td>\n",
       "      <td>Trader Joes</td>\n",
       "      <td>Trader Joes</td>\n",
       "      <td>1580017</td>\n",
       "      <td>1</td>\n",
       "      <td>1</td>\n",
       "      <td>1</td>\n",
       "    </tr>\n",
       "    <tr>\n",
       "      <th>11</th>\n",
       "      <td>Protein</td>\n",
       "      <td>Pinto Beans</td>\n",
       "      <td>15.5000</td>\n",
       "      <td>oz</td>\n",
       "      <td>0.99</td>\n",
       "      <td>02/27/22</td>\n",
       "      <td>Trader Joes</td>\n",
       "      <td>Trader Joes</td>\n",
       "      <td>1478888</td>\n",
       "      <td>1</td>\n",
       "      <td>1</td>\n",
       "      <td>1</td>\n",
       "    </tr>\n",
       "    <tr>\n",
       "      <th>12</th>\n",
       "      <td>Protein</td>\n",
       "      <td>Lentils</td>\n",
       "      <td>16.0000</td>\n",
       "      <td>oz</td>\n",
       "      <td>1.69</td>\n",
       "      <td>02/27/22</td>\n",
       "      <td>Trader Joes</td>\n",
       "      <td>Trader Joes</td>\n",
       "      <td>2115595</td>\n",
       "      <td>1</td>\n",
       "      <td>1</td>\n",
       "      <td>1</td>\n",
       "    </tr>\n",
       "    <tr>\n",
       "      <th>13</th>\n",
       "      <td>Protein</td>\n",
       "      <td>Sliced Turkey</td>\n",
       "      <td>7.0000</td>\n",
       "      <td>oz</td>\n",
       "      <td>3.29</td>\n",
       "      <td>02/27/22</td>\n",
       "      <td>Trader Joes</td>\n",
       "      <td>Trader Joes</td>\n",
       "      <td>1100493</td>\n",
       "      <td>0</td>\n",
       "      <td>0</td>\n",
       "      <td>0</td>\n",
       "    </tr>\n",
       "    <tr>\n",
       "      <th>14</th>\n",
       "      <td>Protein</td>\n",
       "      <td>Sliced Ham</td>\n",
       "      <td>8.0000</td>\n",
       "      <td>oz</td>\n",
       "      <td>3.99</td>\n",
       "      <td>02/27/22</td>\n",
       "      <td>Trader Joes</td>\n",
       "      <td>Trader Joes</td>\n",
       "      <td>1949070</td>\n",
       "      <td>0</td>\n",
       "      <td>0</td>\n",
       "      <td>0</td>\n",
       "    </tr>\n",
       "    <tr>\n",
       "      <th>15</th>\n",
       "      <td>Protein</td>\n",
       "      <td>Salmon</td>\n",
       "      <td>1.0000</td>\n",
       "      <td>lbs</td>\n",
       "      <td>9.99</td>\n",
       "      <td>02/27/22</td>\n",
       "      <td>Trader Joes</td>\n",
       "      <td>Trader Joes</td>\n",
       "      <td>1028841</td>\n",
       "      <td>0</td>\n",
       "      <td>0</td>\n",
       "      <td>1</td>\n",
       "    </tr>\n",
       "    <tr>\n",
       "      <th>16</th>\n",
       "      <td>Protein</td>\n",
       "      <td>Shrimp</td>\n",
       "      <td>16.0000</td>\n",
       "      <td>oz</td>\n",
       "      <td>8.99</td>\n",
       "      <td>02/27/22</td>\n",
       "      <td>Trader Joes</td>\n",
       "      <td>Trader Joes</td>\n",
       "      <td>1899566</td>\n",
       "      <td>0</td>\n",
       "      <td>0</td>\n",
       "      <td>1</td>\n",
       "    </tr>\n",
       "    <tr>\n",
       "      <th>17</th>\n",
       "      <td>Protein</td>\n",
       "      <td>Tuna</td>\n",
       "      <td>5.0000</td>\n",
       "      <td>oz</td>\n",
       "      <td>2.29</td>\n",
       "      <td>02/27/22</td>\n",
       "      <td>Trader Joes</td>\n",
       "      <td>Trader Joes</td>\n",
       "      <td>1099030</td>\n",
       "      <td>0</td>\n",
       "      <td>0</td>\n",
       "      <td>1</td>\n",
       "    </tr>\n",
       "    <tr>\n",
       "      <th>18</th>\n",
       "      <td>Protein</td>\n",
       "      <td>Almond Milk</td>\n",
       "      <td>0.5000</td>\n",
       "      <td>gallon</td>\n",
       "      <td>2.69</td>\n",
       "      <td>02/27/22</td>\n",
       "      <td>Trader Joes</td>\n",
       "      <td>Trader Joes</td>\n",
       "      <td>1097550</td>\n",
       "      <td>1</td>\n",
       "      <td>1</td>\n",
       "      <td>1</td>\n",
       "    </tr>\n",
       "    <tr>\n",
       "      <th>19</th>\n",
       "      <td>Dairy</td>\n",
       "      <td>2% milk</td>\n",
       "      <td>1.0000</td>\n",
       "      <td>gallon</td>\n",
       "      <td>3.79</td>\n",
       "      <td>02/27/22</td>\n",
       "      <td>Trader Joes</td>\n",
       "      <td>Trader Joes</td>\n",
       "      <td>1954790</td>\n",
       "      <td>0</td>\n",
       "      <td>1</td>\n",
       "      <td>1</td>\n",
       "    </tr>\n",
       "    <tr>\n",
       "      <th>20</th>\n",
       "      <td>Dairy</td>\n",
       "      <td>Cheddar cheese</td>\n",
       "      <td>1.0000</td>\n",
       "      <td>lbs</td>\n",
       "      <td>4.99</td>\n",
       "      <td>02/27/22</td>\n",
       "      <td>Trader Joes</td>\n",
       "      <td>Trader Joes</td>\n",
       "      <td>1098007</td>\n",
       "      <td>0</td>\n",
       "      <td>1</td>\n",
       "      <td>1</td>\n",
       "    </tr>\n",
       "    <tr>\n",
       "      <th>21</th>\n",
       "      <td>Dairy</td>\n",
       "      <td>Unsalted butter</td>\n",
       "      <td>16.0000</td>\n",
       "      <td>oz</td>\n",
       "      <td>3.69</td>\n",
       "      <td>02/27/22</td>\n",
       "      <td>Trader Joes</td>\n",
       "      <td>Trader Joes</td>\n",
       "      <td>1923401</td>\n",
       "      <td>0</td>\n",
       "      <td>1</td>\n",
       "      <td>1</td>\n",
       "    </tr>\n",
       "    <tr>\n",
       "      <th>22</th>\n",
       "      <td>Dairy</td>\n",
       "      <td>Greek yogurt</td>\n",
       "      <td>0.1500</td>\n",
       "      <td>gallon</td>\n",
       "      <td>2.49</td>\n",
       "      <td>02/27/22</td>\n",
       "      <td>Trader Joes</td>\n",
       "      <td>Trader Joes</td>\n",
       "      <td>2038865</td>\n",
       "      <td>0</td>\n",
       "      <td>1</td>\n",
       "      <td>1</td>\n",
       "    </tr>\n",
       "    <tr>\n",
       "      <th>23</th>\n",
       "      <td>Dairy</td>\n",
       "      <td>Oat Milk</td>\n",
       "      <td>0.5000</td>\n",
       "      <td>gallon</td>\n",
       "      <td>3.99</td>\n",
       "      <td>02/27/22</td>\n",
       "      <td>Trader Joes</td>\n",
       "      <td>Trader Joes</td>\n",
       "      <td>2150973</td>\n",
       "      <td>1</td>\n",
       "      <td>1</td>\n",
       "      <td>1</td>\n",
       "    </tr>\n",
       "    <tr>\n",
       "      <th>24</th>\n",
       "      <td>Grains</td>\n",
       "      <td>Wheat Cereal</td>\n",
       "      <td>13.2500</td>\n",
       "      <td>oz</td>\n",
       "      <td>2.99</td>\n",
       "      <td>02/27/22</td>\n",
       "      <td>Trader Joes</td>\n",
       "      <td>Trader Joes</td>\n",
       "      <td>1101822</td>\n",
       "      <td>1</td>\n",
       "      <td>1</td>\n",
       "      <td>1</td>\n",
       "    </tr>\n",
       "    <tr>\n",
       "      <th>25</th>\n",
       "      <td>Grains</td>\n",
       "      <td>Granola</td>\n",
       "      <td>12.0000</td>\n",
       "      <td>oz</td>\n",
       "      <td>3.99</td>\n",
       "      <td>02/27/22</td>\n",
       "      <td>Trader Joes</td>\n",
       "      <td>Trader Joes</td>\n",
       "      <td>565809</td>\n",
       "      <td>1</td>\n",
       "      <td>1</td>\n",
       "      <td>1</td>\n",
       "    </tr>\n",
       "    <tr>\n",
       "      <th>26</th>\n",
       "      <td>Grains</td>\n",
       "      <td>Brown Rice</td>\n",
       "      <td>3.0000</td>\n",
       "      <td>lbs</td>\n",
       "      <td>3.49</td>\n",
       "      <td>02/27/22</td>\n",
       "      <td>Trader Joes</td>\n",
       "      <td>Trader Joes</td>\n",
       "      <td>1869015</td>\n",
       "      <td>1</td>\n",
       "      <td>1</td>\n",
       "      <td>1</td>\n",
       "    </tr>\n",
       "    <tr>\n",
       "      <th>27</th>\n",
       "      <td>Grains</td>\n",
       "      <td>Jasmine Rice</td>\n",
       "      <td>3.0000</td>\n",
       "      <td>lbs</td>\n",
       "      <td>3.99</td>\n",
       "      <td>02/27/22</td>\n",
       "      <td>Trader Joes</td>\n",
       "      <td>Trader Joes</td>\n",
       "      <td>1662976</td>\n",
       "      <td>1</td>\n",
       "      <td>1</td>\n",
       "      <td>1</td>\n",
       "    </tr>\n",
       "    <tr>\n",
       "      <th>28</th>\n",
       "      <td>Grains</td>\n",
       "      <td>Potatoes</td>\n",
       "      <td>470.0000</td>\n",
       "      <td>g</td>\n",
       "      <td>0.69</td>\n",
       "      <td>02/27/22</td>\n",
       "      <td>Trader Joes</td>\n",
       "      <td>Trader Joes</td>\n",
       "      <td>1611539</td>\n",
       "      <td>1</td>\n",
       "      <td>1</td>\n",
       "      <td>1</td>\n",
       "    </tr>\n",
       "    <tr>\n",
       "      <th>29</th>\n",
       "      <td>Fruits</td>\n",
       "      <td>Bananas</td>\n",
       "      <td>118.0000</td>\n",
       "      <td>g</td>\n",
       "      <td>0.19</td>\n",
       "      <td>02/27/22</td>\n",
       "      <td>Trader Joes</td>\n",
       "      <td>Trader Joes</td>\n",
       "      <td>1102653</td>\n",
       "      <td>1</td>\n",
       "      <td>1</td>\n",
       "      <td>1</td>\n",
       "    </tr>\n",
       "    <tr>\n",
       "      <th>30</th>\n",
       "      <td>Fruits</td>\n",
       "      <td>Fuji Apples</td>\n",
       "      <td>0.6500</td>\n",
       "      <td>lbs</td>\n",
       "      <td>0.69</td>\n",
       "      <td>02/27/22</td>\n",
       "      <td>Trader Joes</td>\n",
       "      <td>Trader Joes</td>\n",
       "      <td>1102653</td>\n",
       "      <td>1</td>\n",
       "      <td>1</td>\n",
       "      <td>1</td>\n",
       "    </tr>\n",
       "    <tr>\n",
       "      <th>31</th>\n",
       "      <td>Fruits</td>\n",
       "      <td>Avocados</td>\n",
       "      <td>6.0000</td>\n",
       "      <td>oz</td>\n",
       "      <td>1.99</td>\n",
       "      <td>02/27/22</td>\n",
       "      <td>Trader Joes</td>\n",
       "      <td>Trader Joes</td>\n",
       "      <td>1102652</td>\n",
       "      <td>1</td>\n",
       "      <td>1</td>\n",
       "      <td>1</td>\n",
       "    </tr>\n",
       "    <tr>\n",
       "      <th>32</th>\n",
       "      <td>Fruits</td>\n",
       "      <td>Blueberries</td>\n",
       "      <td>11.0000</td>\n",
       "      <td>oz</td>\n",
       "      <td>3.49</td>\n",
       "      <td>02/27/22</td>\n",
       "      <td>Trader Joes</td>\n",
       "      <td>Trader Joes</td>\n",
       "      <td>1936377</td>\n",
       "      <td>1</td>\n",
       "      <td>1</td>\n",
       "      <td>1</td>\n",
       "    </tr>\n",
       "    <tr>\n",
       "      <th>33</th>\n",
       "      <td>Fruits</td>\n",
       "      <td>Roma Tomatoes</td>\n",
       "      <td>60.0000</td>\n",
       "      <td>g</td>\n",
       "      <td>0.29</td>\n",
       "      <td>02/27/22</td>\n",
       "      <td>Trader Joes</td>\n",
       "      <td>Trader Joes</td>\n",
       "      <td>1103276</td>\n",
       "      <td>1</td>\n",
       "      <td>1</td>\n",
       "      <td>1</td>\n",
       "    </tr>\n",
       "    <tr>\n",
       "      <th>34</th>\n",
       "      <td>Vegetables</td>\n",
       "      <td>Kale</td>\n",
       "      <td>10.0000</td>\n",
       "      <td>oz</td>\n",
       "      <td>2.99</td>\n",
       "      <td>02/27/22</td>\n",
       "      <td>Trader Joes</td>\n",
       "      <td>Trader Joes</td>\n",
       "      <td>1602525</td>\n",
       "      <td>1</td>\n",
       "      <td>1</td>\n",
       "      <td>1</td>\n",
       "    </tr>\n",
       "    <tr>\n",
       "      <th>35</th>\n",
       "      <td>Vegetables</td>\n",
       "      <td>Garlic</td>\n",
       "      <td>70.0000</td>\n",
       "      <td>g</td>\n",
       "      <td>0.49</td>\n",
       "      <td>02/27/22</td>\n",
       "      <td>Trader Joes</td>\n",
       "      <td>Trader Joes</td>\n",
       "      <td>1104647</td>\n",
       "      <td>1</td>\n",
       "      <td>1</td>\n",
       "      <td>1</td>\n",
       "    </tr>\n",
       "    <tr>\n",
       "      <th>36</th>\n",
       "      <td>Vegetables</td>\n",
       "      <td>Red Onion</td>\n",
       "      <td>7.0000</td>\n",
       "      <td>oz</td>\n",
       "      <td>1.29</td>\n",
       "      <td>02/27/22</td>\n",
       "      <td>Trader Joes</td>\n",
       "      <td>Trader Joes</td>\n",
       "      <td>790577</td>\n",
       "      <td>1</td>\n",
       "      <td>1</td>\n",
       "      <td>1</td>\n",
       "    </tr>\n",
       "    <tr>\n",
       "      <th>37</th>\n",
       "      <td>Vegetables</td>\n",
       "      <td>Yellow Onion</td>\n",
       "      <td>7.0000</td>\n",
       "      <td>oz</td>\n",
       "      <td>0.79</td>\n",
       "      <td>02/27/22</td>\n",
       "      <td>Trader Joes</td>\n",
       "      <td>Trader Joes</td>\n",
       "      <td>790646</td>\n",
       "      <td>1</td>\n",
       "      <td>1</td>\n",
       "      <td>1</td>\n",
       "    </tr>\n",
       "    <tr>\n",
       "      <th>38</th>\n",
       "      <td>Vegetables</td>\n",
       "      <td>White Onion</td>\n",
       "      <td>7.0000</td>\n",
       "      <td>oz</td>\n",
       "      <td>0.99</td>\n",
       "      <td>02/27/22</td>\n",
       "      <td>Trader Joes</td>\n",
       "      <td>Trader Joes</td>\n",
       "      <td>1104962</td>\n",
       "      <td>1</td>\n",
       "      <td>1</td>\n",
       "      <td>1</td>\n",
       "    </tr>\n",
       "    <tr>\n",
       "      <th>39</th>\n",
       "      <td>Vegetables</td>\n",
       "      <td>Cauliflower</td>\n",
       "      <td>1.7000</td>\n",
       "      <td>lbs</td>\n",
       "      <td>2.49</td>\n",
       "      <td>02/27/22</td>\n",
       "      <td>Trader Joes</td>\n",
       "      <td>Trader Joes</td>\n",
       "      <td>1103345</td>\n",
       "      <td>1</td>\n",
       "      <td>1</td>\n",
       "      <td>1</td>\n",
       "    </tr>\n",
       "    <tr>\n",
       "      <th>40</th>\n",
       "      <td>Vegetables</td>\n",
       "      <td>Broccoli</td>\n",
       "      <td>12.0000</td>\n",
       "      <td>oz</td>\n",
       "      <td>5.99</td>\n",
       "      <td>02/27/22</td>\n",
       "      <td>Trader Joes</td>\n",
       "      <td>Trader Joes</td>\n",
       "      <td>1103170</td>\n",
       "      <td>1</td>\n",
       "      <td>1</td>\n",
       "      <td>1</td>\n",
       "    </tr>\n",
       "    <tr>\n",
       "      <th>41</th>\n",
       "      <td>Vegetables</td>\n",
       "      <td>Carrots</td>\n",
       "      <td>16.0000</td>\n",
       "      <td>oz</td>\n",
       "      <td>0.89</td>\n",
       "      <td>02/27/22</td>\n",
       "      <td>Trader Joes</td>\n",
       "      <td>Trader Joes</td>\n",
       "      <td>1866549</td>\n",
       "      <td>1</td>\n",
       "      <td>1</td>\n",
       "      <td>1</td>\n",
       "    </tr>\n",
       "    <tr>\n",
       "      <th>42</th>\n",
       "      <td>Vegetables</td>\n",
       "      <td>Sweet Potatoes</td>\n",
       "      <td>450.0000</td>\n",
       "      <td>g</td>\n",
       "      <td>0.89</td>\n",
       "      <td>02/27/22</td>\n",
       "      <td>Trader Joes</td>\n",
       "      <td>Trader Joes</td>\n",
       "      <td>983525</td>\n",
       "      <td>1</td>\n",
       "      <td>1</td>\n",
       "      <td>1</td>\n",
       "    </tr>\n",
       "    <tr>\n",
       "      <th>43</th>\n",
       "      <td>Vegetables</td>\n",
       "      <td>Romaine Lettuce</td>\n",
       "      <td>18.0000</td>\n",
       "      <td>oz</td>\n",
       "      <td>3.29</td>\n",
       "      <td>02/27/22</td>\n",
       "      <td>Trader Joes</td>\n",
       "      <td>Trader Joes</td>\n",
       "      <td>1103106</td>\n",
       "      <td>1</td>\n",
       "      <td>1</td>\n",
       "      <td>1</td>\n",
       "    </tr>\n",
       "    <tr>\n",
       "      <th>44</th>\n",
       "      <td>Vegetables</td>\n",
       "      <td>Spinach</td>\n",
       "      <td>6.0000</td>\n",
       "      <td>oz</td>\n",
       "      <td>1.69</td>\n",
       "      <td>02/27/22</td>\n",
       "      <td>Trader Joes</td>\n",
       "      <td>Trader Joes</td>\n",
       "      <td>721056</td>\n",
       "      <td>1</td>\n",
       "      <td>1</td>\n",
       "      <td>1</td>\n",
       "    </tr>\n",
       "    <tr>\n",
       "      <th>45</th>\n",
       "      <td>Vegetables</td>\n",
       "      <td>English Cucumber</td>\n",
       "      <td>300.0000</td>\n",
       "      <td>g</td>\n",
       "      <td>1.69</td>\n",
       "      <td>02/27/22</td>\n",
       "      <td>Trader Joes</td>\n",
       "      <td>Trader Joes</td>\n",
       "      <td>1103352</td>\n",
       "      <td>1</td>\n",
       "      <td>1</td>\n",
       "      <td>1</td>\n",
       "    </tr>\n",
       "    <tr>\n",
       "      <th>46</th>\n",
       "      <td>Vegetables</td>\n",
       "      <td>Cremini Mushrooms</td>\n",
       "      <td>8.0000</td>\n",
       "      <td>oz</td>\n",
       "      <td>2.29</td>\n",
       "      <td>02/27/22</td>\n",
       "      <td>Trader Joes</td>\n",
       "      <td>Trader Joes</td>\n",
       "      <td>2003601</td>\n",
       "      <td>1</td>\n",
       "      <td>1</td>\n",
       "      <td>1</td>\n",
       "    </tr>\n",
       "    <tr>\n",
       "      <th>47</th>\n",
       "      <td>Vegetables</td>\n",
       "      <td>Jalepenos</td>\n",
       "      <td>8.0000</td>\n",
       "      <td>oz</td>\n",
       "      <td>1.79</td>\n",
       "      <td>02/27/22</td>\n",
       "      <td>Trader Joes</td>\n",
       "      <td>Trader Joes</td>\n",
       "      <td>168576</td>\n",
       "      <td>1</td>\n",
       "      <td>1</td>\n",
       "      <td>1</td>\n",
       "    </tr>\n",
       "    <tr>\n",
       "      <th>48</th>\n",
       "      <td>Misc</td>\n",
       "      <td>Olive Oil</td>\n",
       "      <td>0.2500</td>\n",
       "      <td>gallon</td>\n",
       "      <td>7.49</td>\n",
       "      <td>02/27/22</td>\n",
       "      <td>Trader Joes</td>\n",
       "      <td>Trader Joes</td>\n",
       "      <td>1582039</td>\n",
       "      <td>1</td>\n",
       "      <td>1</td>\n",
       "      <td>1</td>\n",
       "    </tr>\n",
       "    <tr>\n",
       "      <th>49</th>\n",
       "      <td>Misc</td>\n",
       "      <td>Vegetable Oil</td>\n",
       "      <td>0.2500</td>\n",
       "      <td>gallon</td>\n",
       "      <td>2.99</td>\n",
       "      <td>02/27/22</td>\n",
       "      <td>Trader Joes</td>\n",
       "      <td>Trader Joes</td>\n",
       "      <td>2115356</td>\n",
       "      <td>1</td>\n",
       "      <td>1</td>\n",
       "      <td>1</td>\n",
       "    </tr>\n",
       "    <tr>\n",
       "      <th>50</th>\n",
       "      <td>Misc</td>\n",
       "      <td>Salt</td>\n",
       "      <td>3.8800</td>\n",
       "      <td>oz</td>\n",
       "      <td>1.99</td>\n",
       "      <td>02/27/22</td>\n",
       "      <td>Trader Joes</td>\n",
       "      <td>Trader Joes</td>\n",
       "      <td>1492094</td>\n",
       "      <td>1</td>\n",
       "      <td>1</td>\n",
       "      <td>1</td>\n",
       "    </tr>\n",
       "    <tr>\n",
       "      <th>51</th>\n",
       "      <td>Misc</td>\n",
       "      <td>Tomato Sauce</td>\n",
       "      <td>0.1875</td>\n",
       "      <td>gallon</td>\n",
       "      <td>1.79</td>\n",
       "      <td>02/27/22</td>\n",
       "      <td>Trader Joes</td>\n",
       "      <td>Trader Joes</td>\n",
       "      <td>1851104</td>\n",
       "      <td>1</td>\n",
       "      <td>1</td>\n",
       "      <td>1</td>\n",
       "    </tr>\n",
       "    <tr>\n",
       "      <th>52</th>\n",
       "      <td>Misc</td>\n",
       "      <td>Sugar</td>\n",
       "      <td>32.0000</td>\n",
       "      <td>oz</td>\n",
       "      <td>3.49</td>\n",
       "      <td>02/27/22</td>\n",
       "      <td>Trader Joes</td>\n",
       "      <td>Trader Joes</td>\n",
       "      <td>2021609</td>\n",
       "      <td>1</td>\n",
       "      <td>1</td>\n",
       "      <td>1</td>\n",
       "    </tr>\n",
       "    <tr>\n",
       "      <th>53</th>\n",
       "      <td>Misc</td>\n",
       "      <td>Honey</td>\n",
       "      <td>12.0000</td>\n",
       "      <td>oz</td>\n",
       "      <td>3.88</td>\n",
       "      <td>02/27/22</td>\n",
       "      <td>Trader Joes</td>\n",
       "      <td>Trader Joes</td>\n",
       "      <td>169640</td>\n",
       "      <td>0</td>\n",
       "      <td>1</td>\n",
       "      <td>1</td>\n",
       "    </tr>\n",
       "    <tr>\n",
       "      <th>54</th>\n",
       "      <td>Misc</td>\n",
       "      <td>Bread (whole wheat)</td>\n",
       "      <td>22.0000</td>\n",
       "      <td>oz</td>\n",
       "      <td>1.99</td>\n",
       "      <td>02/27/22</td>\n",
       "      <td>Trader Joes</td>\n",
       "      <td>Trader Joes</td>\n",
       "      <td>2121542</td>\n",
       "      <td>1</td>\n",
       "      <td>1</td>\n",
       "      <td>1</td>\n",
       "    </tr>\n",
       "  </tbody>\n",
       "</table>\n",
       "</div>"
      ],
      "text/plain": [
       "    Food Group                 Food  Quantity   Units  Price      Date  \\\n",
       "0      Protein       Chicken breast    1.0000     lbs   6.99  02/27/22   \n",
       "1      Protein        Chicken thigh    1.0000     lbs   4.49  02/27/22   \n",
       "2      Protein          Ground Beef    1.0000     lbs   6.99  02/27/22   \n",
       "3      Protein                 Eggs  672.0000       g   2.69  02/27/22   \n",
       "4      Protein        Peanut Butter   16.0000      oz   1.99  02/27/22   \n",
       "5      Protein            Chickpeas   15.5000      oz   0.79  02/27/22   \n",
       "6      Protein                 Tofu   14.0000      oz   1.79  02/27/22   \n",
       "7      Protein            Pork Loin    1.0000     lbs   7.99  02/27/22   \n",
       "8      Protein          Ground Pork   16.0000      oz   5.99  02/27/22   \n",
       "9      Protein        Ground Turkey   16.0000      oz   3.49  02/27/22   \n",
       "10     Protein          Black Beans   15.5000      oz   0.79  02/27/22   \n",
       "11     Protein          Pinto Beans   15.5000      oz   0.99  02/27/22   \n",
       "12     Protein              Lentils   16.0000      oz   1.69  02/27/22   \n",
       "13     Protein        Sliced Turkey    7.0000      oz   3.29  02/27/22   \n",
       "14     Protein           Sliced Ham    8.0000      oz   3.99  02/27/22   \n",
       "15     Protein               Salmon    1.0000     lbs   9.99  02/27/22   \n",
       "16     Protein               Shrimp   16.0000      oz   8.99  02/27/22   \n",
       "17     Protein                 Tuna    5.0000      oz   2.29  02/27/22   \n",
       "18     Protein          Almond Milk    0.5000  gallon   2.69  02/27/22   \n",
       "19       Dairy              2% milk    1.0000  gallon   3.79  02/27/22   \n",
       "20       Dairy       Cheddar cheese    1.0000     lbs   4.99  02/27/22   \n",
       "21       Dairy      Unsalted butter   16.0000      oz   3.69  02/27/22   \n",
       "22       Dairy         Greek yogurt    0.1500  gallon   2.49  02/27/22   \n",
       "23       Dairy             Oat Milk    0.5000  gallon   3.99  02/27/22   \n",
       "24      Grains         Wheat Cereal   13.2500      oz   2.99  02/27/22   \n",
       "25      Grains              Granola   12.0000      oz   3.99  02/27/22   \n",
       "26      Grains           Brown Rice    3.0000     lbs   3.49  02/27/22   \n",
       "27      Grains         Jasmine Rice    3.0000     lbs   3.99  02/27/22   \n",
       "28      Grains             Potatoes  470.0000       g   0.69  02/27/22   \n",
       "29      Fruits              Bananas  118.0000       g   0.19  02/27/22   \n",
       "30      Fruits          Fuji Apples    0.6500     lbs   0.69  02/27/22   \n",
       "31      Fruits             Avocados    6.0000      oz   1.99  02/27/22   \n",
       "32      Fruits          Blueberries   11.0000      oz   3.49  02/27/22   \n",
       "33      Fruits        Roma Tomatoes   60.0000       g   0.29  02/27/22   \n",
       "34  Vegetables                 Kale   10.0000      oz   2.99  02/27/22   \n",
       "35  Vegetables               Garlic   70.0000       g   0.49  02/27/22   \n",
       "36  Vegetables            Red Onion    7.0000      oz   1.29  02/27/22   \n",
       "37  Vegetables         Yellow Onion    7.0000      oz   0.79  02/27/22   \n",
       "38  Vegetables          White Onion    7.0000      oz   0.99  02/27/22   \n",
       "39  Vegetables          Cauliflower    1.7000     lbs   2.49  02/27/22   \n",
       "40  Vegetables             Broccoli   12.0000      oz   5.99  02/27/22   \n",
       "41  Vegetables              Carrots   16.0000      oz   0.89  02/27/22   \n",
       "42  Vegetables       Sweet Potatoes  450.0000       g   0.89  02/27/22   \n",
       "43  Vegetables      Romaine Lettuce   18.0000      oz   3.29  02/27/22   \n",
       "44  Vegetables              Spinach    6.0000      oz   1.69  02/27/22   \n",
       "45  Vegetables     English Cucumber  300.0000       g   1.69  02/27/22   \n",
       "46  Vegetables    Cremini Mushrooms    8.0000      oz   2.29  02/27/22   \n",
       "47  Vegetables            Jalepenos    8.0000      oz   1.79  02/27/22   \n",
       "48        Misc            Olive Oil    0.2500  gallon   7.49  02/27/22   \n",
       "49        Misc        Vegetable Oil    0.2500  gallon   2.99  02/27/22   \n",
       "50        Misc                 Salt    3.8800      oz   1.99  02/27/22   \n",
       "51        Misc         Tomato Sauce    0.1875  gallon   1.79  02/27/22   \n",
       "52        Misc                Sugar   32.0000      oz   3.49  02/27/22   \n",
       "53        Misc                Honey   12.0000      oz   3.88  02/27/22   \n",
       "54        Misc  Bread (whole wheat)   22.0000      oz   1.99  02/27/22   \n",
       "\n",
       "       Location   Brand Name      FDC  Vegan (1/0)  Vegetarian (1/0)  \\\n",
       "0   Trader Joes  Trader Joes  2092152            0                 0   \n",
       "1   Trader Joes  Trader Joes  1899680            0                 0   \n",
       "2   Trader Joes  Trader Joes  1597053            0                 0   \n",
       "3   Trader Joes  Trader Joes   577532            0                 1   \n",
       "4   Trader Joes  Trader Joes  1100559            1                 1   \n",
       "5   Trader Joes  Trader Joes  1100433            1                 1   \n",
       "6   Trader Joes  Trader Joes  1864416            1                 1   \n",
       "7   Trader Joes  Trader Joes   168314            0                 0   \n",
       "8   Trader Joes  Trader Joes  1887701            0                 0   \n",
       "9   Trader Joes  Trader Joes  1626048            0                 0   \n",
       "10  Trader Joes  Trader Joes  1580017            1                 1   \n",
       "11  Trader Joes  Trader Joes  1478888            1                 1   \n",
       "12  Trader Joes  Trader Joes  2115595            1                 1   \n",
       "13  Trader Joes  Trader Joes  1100493            0                 0   \n",
       "14  Trader Joes  Trader Joes  1949070            0                 0   \n",
       "15  Trader Joes  Trader Joes  1028841            0                 0   \n",
       "16  Trader Joes  Trader Joes  1899566            0                 0   \n",
       "17  Trader Joes  Trader Joes  1099030            0                 0   \n",
       "18  Trader Joes  Trader Joes  1097550            1                 1   \n",
       "19  Trader Joes  Trader Joes  1954790            0                 1   \n",
       "20  Trader Joes  Trader Joes  1098007            0                 1   \n",
       "21  Trader Joes  Trader Joes  1923401            0                 1   \n",
       "22  Trader Joes  Trader Joes  2038865            0                 1   \n",
       "23  Trader Joes  Trader Joes  2150973            1                 1   \n",
       "24  Trader Joes  Trader Joes  1101822            1                 1   \n",
       "25  Trader Joes  Trader Joes   565809            1                 1   \n",
       "26  Trader Joes  Trader Joes  1869015            1                 1   \n",
       "27  Trader Joes  Trader Joes  1662976            1                 1   \n",
       "28  Trader Joes  Trader Joes  1611539            1                 1   \n",
       "29  Trader Joes  Trader Joes  1102653            1                 1   \n",
       "30  Trader Joes  Trader Joes  1102653            1                 1   \n",
       "31  Trader Joes  Trader Joes  1102652            1                 1   \n",
       "32  Trader Joes  Trader Joes  1936377            1                 1   \n",
       "33  Trader Joes  Trader Joes  1103276            1                 1   \n",
       "34  Trader Joes  Trader Joes  1602525            1                 1   \n",
       "35  Trader Joes  Trader Joes  1104647            1                 1   \n",
       "36  Trader Joes  Trader Joes   790577            1                 1   \n",
       "37  Trader Joes  Trader Joes   790646            1                 1   \n",
       "38  Trader Joes  Trader Joes  1104962            1                 1   \n",
       "39  Trader Joes  Trader Joes  1103345            1                 1   \n",
       "40  Trader Joes  Trader Joes  1103170            1                 1   \n",
       "41  Trader Joes  Trader Joes  1866549            1                 1   \n",
       "42  Trader Joes  Trader Joes   983525            1                 1   \n",
       "43  Trader Joes  Trader Joes  1103106            1                 1   \n",
       "44  Trader Joes  Trader Joes   721056            1                 1   \n",
       "45  Trader Joes  Trader Joes  1103352            1                 1   \n",
       "46  Trader Joes  Trader Joes  2003601            1                 1   \n",
       "47  Trader Joes  Trader Joes   168576            1                 1   \n",
       "48  Trader Joes  Trader Joes  1582039            1                 1   \n",
       "49  Trader Joes  Trader Joes  2115356            1                 1   \n",
       "50  Trader Joes  Trader Joes  1492094            1                 1   \n",
       "51  Trader Joes  Trader Joes  1851104            1                 1   \n",
       "52  Trader Joes  Trader Joes  2021609            1                 1   \n",
       "53  Trader Joes  Trader Joes   169640            0                 1   \n",
       "54  Trader Joes  Trader Joes  2121542            1                 1   \n",
       "\n",
       "    Pescetarian (1/0)  \n",
       "0                   0  \n",
       "1                   0  \n",
       "2                   0  \n",
       "3                   1  \n",
       "4                   1  \n",
       "5                   1  \n",
       "6                   1  \n",
       "7                   0  \n",
       "8                   0  \n",
       "9                   0  \n",
       "10                  1  \n",
       "11                  1  \n",
       "12                  1  \n",
       "13                  0  \n",
       "14                  0  \n",
       "15                  1  \n",
       "16                  1  \n",
       "17                  1  \n",
       "18                  1  \n",
       "19                  1  \n",
       "20                  1  \n",
       "21                  1  \n",
       "22                  1  \n",
       "23                  1  \n",
       "24                  1  \n",
       "25                  1  \n",
       "26                  1  \n",
       "27                  1  \n",
       "28                  1  \n",
       "29                  1  \n",
       "30                  1  \n",
       "31                  1  \n",
       "32                  1  \n",
       "33                  1  \n",
       "34                  1  \n",
       "35                  1  \n",
       "36                  1  \n",
       "37                  1  \n",
       "38                  1  \n",
       "39                  1  \n",
       "40                  1  \n",
       "41                  1  \n",
       "42                  1  \n",
       "43                  1  \n",
       "44                  1  \n",
       "45                  1  \n",
       "46                  1  \n",
       "47                  1  \n",
       "48                  1  \n",
       "49                  1  \n",
       "50                  1  \n",
       "51                  1  \n",
       "52                  1  \n",
       "53                  1  \n",
       "54                  1  "
      ]
     },
     "execution_count": 9,
     "metadata": {},
     "output_type": "execute_result"
    }
   ],
   "source": [
    "change_df_col_to_int(df_bb, 'Price')\n",
    "change_df_col_to_int(df_sw, 'Price')\n",
    "change_df_col_to_int(df_wf, 'Price')\n",
    "change_df_col_to_int(df_tj, 'Price')"
   ]
  },
  {
   "cell_type": "code",
   "execution_count": 10,
   "id": "6fc2f252",
   "metadata": {},
   "outputs": [],
   "source": [
    "# Convert food quantities to FDC units\n",
    "def find_unit_prices(df):\n",
    "    df['FDC Quantity'] = df[['Quantity','Units']].T.apply(lambda x : fdc.units(x['Quantity'],x['Units']))\n",
    "\n",
    "# Now may want to filter df by time or place--need to get a unique set of food names.\n",
    "    df['FDC Price'] = df['Price']/df['FDC Quantity']\n",
    "\n",
    "    df.dropna(how='any') # Drop food with any missing data\n",
    "\n",
    "# To use minimum price observed\n",
    "    Prices = df.groupby('Food',sort=False)['FDC Price'].min()\n",
    "    return Prices"
   ]
  },
  {
   "cell_type": "markdown",
   "id": "a3cc63f5",
   "metadata": {},
   "source": [
    "## [A] Nutritional Content "
   ]
  },
  {
   "cell_type": "code",
   "execution_count": 11,
   "id": "9647d429",
   "metadata": {},
   "outputs": [
    {
     "name": "stderr",
     "output_type": "stream",
     "text": [
      "/opt/conda/lib/python3.9/site-packages/pandas/core/dtypes/cast.py:1990: UnitStrippedWarning: The unit of the quantity is stripped when downcasting to ndarray.\n",
      "  result[:] = values\n"
     ]
    }
   ],
   "source": [
    "prices_bb = find_unit_prices(df_bb)\n",
    "prices_sw = find_unit_prices(df_sw)\n",
    "prices_wf = find_unit_prices(df_wf)\n",
    "prices_tj = find_unit_prices(df_tj)"
   ]
  },
  {
   "cell_type": "code",
   "execution_count": 12,
   "id": "322b2dd1",
   "metadata": {},
   "outputs": [
    {
     "name": "stdout",
     "output_type": "stream",
     "text": [
      "Key available for students@eep153.iam.gserviceaccount.com.\n"
     ]
    }
   ],
   "source": [
    "from eep153_tools.sheets import read_sheets\n",
    "\n",
    "DRI_url = \"https://docs.google.com/spreadsheets/d/1y95IsQ4HKspPW3HHDtH7QMtlDA66IUsCHJLutVL-MMc/\"\n",
    "\n",
    "DRIs = read_sheets(DRI_url)\n",
    "\n",
    "# Define *minimums*\n",
    "diet_min = DRIs['diet_minimums'].set_index('Nutrition')\n",
    "\n",
    "# Define *maximums*\n",
    "diet_max = DRIs['diet_maximums'].set_index('Nutrition')"
   ]
  },
  {
   "cell_type": "code",
   "execution_count": 13,
   "id": "0c189a16",
   "metadata": {},
   "outputs": [
    {
     "name": "stdout",
     "output_type": "stream",
     "text": [
      "Cost of diet at Berkeley Bowl for M 19-30 is $5.90 per day.\n",
      "\n",
      "\n",
      "Diet (in 100s of grams or milliliters):\n",
      "Peanut Butter     1.252638\n",
      "Black Beans       0.727011\n",
      "Sliced Turkey     0.154066\n",
      "Cheddar cheese    1.682770\n",
      "Bananas           3.103032\n",
      "Jalepenos         6.646954\n",
      "dtype: float64\n",
      "\n",
      "\n",
      "With the following nutritional outcomes of interest:\n",
      "                                    Outcome  Recommendation\n",
      "Nutrition                                                  \n",
      "Energy                          2778.581602          2400.0\n",
      "Protein                           96.088183            56.0\n",
      "Fiber, total dietary              44.420969            33.6\n",
      "Folate, DFE                      400.000001           400.0\n",
      "Calcium, Ca                     1451.566640          1000.0\n",
      "Carbohydrate, by difference      191.411712           130.0\n",
      "Iron, Fe                           8.155628             8.0\n",
      "Magnesium, Mg                    444.160246           400.0\n",
      "Niacin                            29.030873            16.0\n",
      "Phosphorus, P                   1504.537542           700.0\n",
      "Potassium, K                    4700.000007          4700.0\n",
      "Riboflavin                         1.719691             1.3\n",
      "Thiamin                            1.200000             1.2\n",
      "Vitamin A, RAE                   900.000002           900.0\n",
      "Vitamin B-12                       2.400000             2.4\n",
      "Vitamin B-6                        4.733133             1.3\n",
      "Vitamin C, total ascorbic acid   815.325117            90.0\n",
      "Vitamin E (alpha-tocopherol)      37.242201            15.0\n",
      "Vitamin K (phylloquinone)        128.934613           120.0\n",
      "Zinc, Zn                          11.000000            11.0\n",
      "Sodium, Na                      1770.498144          2300.0\n",
      "\n",
      "\n",
      "Constraining nutrients are:\n",
      "['Folate, DFE', 'Potassium, K', 'Thiamin', 'Vitamin A, RAE', 'Vitamin B-12', 'Zinc, Zn']\n"
     ]
    }
   ],
   "source": [
    "group = 'M 19-30'\n",
    "tol = 1e-6\n",
    "\n",
    "result = solve_subsistence_problem(FoodNutrients,prices_bb,diet_min[group],diet_max[group],tol=tol)\n",
    "\n",
    "print(\"Cost of diet at Berkeley Bowl for %s is $%4.2f per day.\\n\" % (group,result.fun))\n",
    "\n",
    "# Put back into nice series\n",
    "diet = result.diet\n",
    "\n",
    "print(\"\\nDiet (in 100s of grams or milliliters):\")\n",
    "print(diet[diet >= tol])  # Drop items with quantities less than precision of calculation.\n",
    "print()\n",
    "\n",
    "tab = pd.DataFrame({\"Outcome\":np.abs(result.A).dot(diet),\"Recommendation\":np.abs(result.b)})\n",
    "print(\"\\nWith the following nutritional outcomes of interest:\")\n",
    "print(tab)\n",
    "print()\n",
    "\n",
    "print(\"\\nConstraining nutrients are:\")\n",
    "excess = tab.diff(axis=1).iloc[:,1]\n",
    "print(excess.loc[np.abs(excess) < tol*100].index.tolist())"
   ]
  },
  {
   "cell_type": "code",
   "execution_count": 14,
   "id": "e13b26af",
   "metadata": {},
   "outputs": [
    {
     "name": "stdout",
     "output_type": "stream",
     "text": [
      "Cost of diet at Berkeley Bowl for F 19-30 is $5.58 per day.\n",
      "\n",
      "\n",
      "Diet (in 100s of grams or milliliters):\n",
      "Peanut Butter     1.323929\n",
      "Black Beans       1.153673\n",
      "Pinto Beans       1.069741\n",
      "Sliced Turkey     0.397261\n",
      "Cheddar cheese    0.765054\n",
      "Cauliflower       0.021551\n",
      "Jalepenos         8.485981\n",
      "dtype: float64\n",
      "\n",
      "\n",
      "With the following nutritional outcomes of interest:\n",
      "                                    Outcome  Recommendation\n",
      "Nutrition                                                  \n",
      "Energy                          2760.029553          2000.0\n",
      "Protein                          109.459821            46.0\n",
      "Fiber, total dietary              90.552010            28.0\n",
      "Folate, DFE                      400.000001           400.0\n",
      "Calcium, Ca                     1000.000010          1000.0\n",
      "Carbohydrate, by difference      224.581427           130.0\n",
      "Iron, Fe                          18.000000            18.0\n",
      "Magnesium, Mg                    381.150386           310.0\n",
      "Niacin                            32.934582            14.0\n",
      "Phosphorus, P                   1196.379522           700.0\n",
      "Potassium, K                    4700.000058          4700.0\n",
      "Riboflavin                         1.305544             1.1\n",
      "Thiamin                            2.134448             1.1\n",
      "Vitamin A, RAE                   700.000011           700.0\n",
      "Vitamin B-12                       2.400000             2.4\n",
      "Vitamin B-6                        4.553369             1.3\n",
      "Vitamin C, total ascorbic acid  1007.476127            75.0\n",
      "Vitamin E (alpha-tocopherol)      44.208097            15.0\n",
      "Vitamin K (phylloquinone)        159.558048            90.0\n",
      "Zinc, Zn                           8.000000             8.0\n",
      "Sodium, Na                      1421.798388          2300.0\n",
      "\n",
      "\n",
      "Constraining nutrients are:\n",
      "['Folate, DFE', 'Calcium, Ca', 'Iron, Fe', 'Potassium, K', 'Vitamin A, RAE', 'Vitamin B-12', 'Zinc, Zn']\n"
     ]
    }
   ],
   "source": [
    "group = 'F 19-30'\n",
    "tol = 1e-6\n",
    "\n",
    "result = solve_subsistence_problem(FoodNutrients,prices_bb,diet_min[group],diet_max[group],tol=tol)\n",
    "\n",
    "print(\"Cost of diet at Berkeley Bowl for %s is $%4.2f per day.\\n\" % (group,result.fun))\n",
    "\n",
    "# Put back into nice series\n",
    "diet = result.diet\n",
    "\n",
    "print(\"\\nDiet (in 100s of grams or milliliters):\")\n",
    "print(diet[diet >= tol])  # Drop items with quantities less than precision of calculation.\n",
    "print()\n",
    "\n",
    "tab = pd.DataFrame({\"Outcome\":np.abs(result.A).dot(diet),\"Recommendation\":np.abs(result.b)})\n",
    "print(\"\\nWith the following nutritional outcomes of interest:\")\n",
    "print(tab)\n",
    "print()\n",
    "\n",
    "print(\"\\nConstraining nutrients are:\")\n",
    "excess = tab.diff(axis=1).iloc[:,1]\n",
    "print(excess.loc[np.abs(excess) < tol*100].index.tolist())"
   ]
  },
  {
   "cell_type": "code",
   "execution_count": 15,
   "id": "9e245cb5",
   "metadata": {},
   "outputs": [],
   "source": [
    "# Get df_bb in terms of diet restrictions\n",
    "def diet_df(df, col):\n",
    "    return df[df[col] == 1]\n",
    "\n",
    "# Creating vegan, vegetarian, and pescetarian dfs for bb\n",
    "vegan_df_bb = diet_df(df_bb, 'Vegan (1/0)')\n",
    "veg_df_bb = diet_df(df_bb, 'Vegetarian (1/0)')\n",
    "pesc_df_bb = diet_df(df_bb, 'Pescetarian (1/0)')"
   ]
  },
  {
   "cell_type": "code",
   "execution_count": 16,
   "id": "219cbcf4",
   "metadata": {},
   "outputs": [
    {
     "name": "stderr",
     "output_type": "stream",
     "text": [
      "/opt/conda/lib/python3.9/site-packages/pandas/core/dtypes/cast.py:1990: UnitStrippedWarning: The unit of the quantity is stripped when downcasting to ndarray.\n",
      "  result[:] = values\n",
      "/tmp/ipykernel_46/3294993695.py:3: SettingWithCopyWarning: \n",
      "A value is trying to be set on a copy of a slice from a DataFrame.\n",
      "Try using .loc[row_indexer,col_indexer] = value instead\n",
      "\n",
      "See the caveats in the documentation: https://pandas.pydata.org/pandas-docs/stable/user_guide/indexing.html#returning-a-view-versus-a-copy\n",
      "  df['FDC Quantity'] = df[['Quantity','Units']].T.apply(lambda x : fdc.units(x['Quantity'],x['Units']))\n",
      "/tmp/ipykernel_46/3294993695.py:6: SettingWithCopyWarning: \n",
      "A value is trying to be set on a copy of a slice from a DataFrame.\n",
      "Try using .loc[row_indexer,col_indexer] = value instead\n",
      "\n",
      "See the caveats in the documentation: https://pandas.pydata.org/pandas-docs/stable/user_guide/indexing.html#returning-a-view-versus-a-copy\n",
      "  df['FDC Price'] = df['Price']/df['FDC Quantity']\n"
     ]
    }
   ],
   "source": [
    "# find prices for diet restricted dfs\n",
    "vegan_prices_bb = find_unit_prices(vegan_df_bb)\n",
    "veg_prices_bb = find_unit_prices(veg_df_bb)\n",
    "pesc_prices_bb = find_unit_prices(pesc_df_bb)"
   ]
  },
  {
   "cell_type": "code",
   "execution_count": 17,
   "id": "b3854510",
   "metadata": {},
   "outputs": [],
   "source": [
    "# find minimum cost meal with diet restrictions using solve_subsistence_problem()\n",
    "\n",
    "def diet_restricted_subsistence(prices, type, sex, store):\n",
    "    group = sex+' 19-30'\n",
    "    tol = 1e-6\n",
    "\n",
    "    result = solve_subsistence_problem(FoodNutrients,prices,diet_min[group],diet_max[group],tol=tol)\n",
    "\n",
    "    print(\"Cost of a \"+type+\" diet at \"+store+\" for %s is $%4.2f per day.\\n\" % (group,result.fun))\n",
    "\n",
    "    # Put back into nice series\n",
    "    diet = result.diet\n",
    "\n",
    "    print(\"\\nDiet (in 100s of grams or milliliters):\")\n",
    "    print(diet[diet >= tol])  # Drop items with quantities less than precision of calculation.\n",
    "    print()\n",
    "\n",
    "    tab = pd.DataFrame({\"Outcome\":np.abs(result.A).dot(diet),\"Recommendation\":np.abs(result.b)})\n",
    "    print(\"\\nWith the following nutritional outcomes of interest:\")\n",
    "    print(tab)\n",
    "    print()\n",
    "\n",
    "    print(\"\\nConstraining nutrients are:\")\n",
    "    excess = tab.diff(axis=1).iloc[:,1]\n",
    "    print(excess.loc[np.abs(excess) < tol*100].index.tolist())"
   ]
  },
  {
   "cell_type": "code",
   "execution_count": 18,
   "id": "de3ce1bf",
   "metadata": {},
   "outputs": [
    {
     "name": "stdout",
     "output_type": "stream",
     "text": [
      "Cost of a vegan diet at Berkeley Bowl for M 19-30 is $6.60 per day.\n",
      "\n",
      "\n",
      "Diet (in 100s of grams or milliliters):\n",
      "Black Beans        0.305245\n",
      "Oat Milk           4.800000\n",
      "Wheat Cereal       3.251026\n",
      "Bananas            0.000002\n",
      "Romaine Lettuce    1.269001\n",
      "Jalepenos          7.971659\n",
      "Salt               0.000005\n",
      "dtype: float64\n",
      "\n",
      "\n",
      "With the following nutritional outcomes of interest:\n",
      "                                    Outcome  Recommendation\n",
      "Nutrition                                                  \n",
      "Energy                          2430.104469          2400.0\n",
      "Protein                           59.565165            56.0\n",
      "Fiber, total dietary              72.976476            33.6\n",
      "Folate, DFE                      400.000008           400.0\n",
      "Calcium, Ca                     1068.965863          1000.0\n",
      "Carbohydrate, by difference      366.870986           130.0\n",
      "Iron, Fe                          13.231337             8.0\n",
      "Magnesium, Mg                    565.207413           400.0\n",
      "Niacin                            30.023207            16.0\n",
      "Phosphorus, P                   2017.054120           700.0\n",
      "Potassium, K                    4700.000064          4700.0\n",
      "Riboflavin                         2.152129             1.3\n",
      "Thiamin                            1.334239             1.2\n",
      "Vitamin A, RAE                   900.000017           900.0\n",
      "Vitamin B-12                       2.400000             2.4\n",
      "Vitamin B-6                        3.958245             1.3\n",
      "Vitamin C, total ascorbic acid   957.113639            90.0\n",
      "Vitamin E (alpha-tocopherol)      29.858051            15.0\n",
      "Vitamin K (phylloquinone)        312.302052           120.0\n",
      "Zinc, Zn                          11.000000            11.0\n",
      "Sodium, Na                       267.751558          2300.0\n",
      "\n",
      "\n",
      "Constraining nutrients are:\n",
      "['Folate, DFE', 'Potassium, K', 'Vitamin A, RAE', 'Vitamin B-12', 'Zinc, Zn']\n"
     ]
    }
   ],
   "source": [
    "vegan_bb_m = diet_restricted_subsistence(vegan_prices_bb, 'vegan', 'M', 'Berkeley Bowl')"
   ]
  },
  {
   "cell_type": "code",
   "execution_count": 19,
   "id": "bee02bf8",
   "metadata": {},
   "outputs": [
    {
     "name": "stdout",
     "output_type": "stream",
     "text": [
      "Cost of a vegan diet at Berkeley Bowl for F 19-30 is $6.21 per day.\n",
      "\n",
      "\n",
      "Diet (in 100s of grams or milliliters):\n",
      "Black Beans         0.202889\n",
      "Pinto Beans         1.044150\n",
      "Oat Milk            4.800000\n",
      "Wheat Cereal        2.258862\n",
      "Romaine Lettuce     0.305253\n",
      "Jalepenos          10.871412\n",
      "Salt                0.000004\n",
      "dtype: float64\n",
      "\n",
      "\n",
      "With the following nutritional outcomes of interest:\n",
      "                                    Outcome  Recommendation\n",
      "Nutrition                                                  \n",
      "Energy                          2558.884273          2000.0\n",
      "Protein                           67.375705            46.0\n",
      "Fiber, total dietary             106.530046            28.0\n",
      "Folate, DFE                      400.000007           400.0\n",
      "Calcium, Ca                     1114.494844          1000.0\n",
      "Carbohydrate, by difference      360.929115           130.0\n",
      "Iron, Fe                          18.000000            18.0\n",
      "Magnesium, Mg                    465.209288           310.0\n",
      "Niacin                            27.470108            14.0\n",
      "Phosphorus, P                   1687.476687           700.0\n",
      "Potassium, K                    4700.000068          4700.0\n",
      "Riboflavin                         2.188717             1.1\n",
      "Thiamin                            1.100000             1.1\n",
      "Vitamin A, RAE                   700.000007           700.0\n",
      "Vitamin B-12                       2.400000             2.4\n",
      "Vitamin B-6                        4.932718             1.3\n",
      "Vitamin C, total ascorbic acid  1292.157853            75.0\n",
      "Vitamin E (alpha-tocopherol)      39.709648            15.0\n",
      "Vitamin K (phylloquinone)        242.837060            90.0\n",
      "Zinc, Zn                           8.285764             8.0\n",
      "Sodium, Na                       291.274715          2300.0\n",
      "\n",
      "\n",
      "Constraining nutrients are:\n",
      "['Folate, DFE', 'Iron, Fe', 'Potassium, K', 'Thiamin', 'Vitamin A, RAE', 'Vitamin B-12']\n"
     ]
    }
   ],
   "source": [
    "vegan_bb_f = diet_restricted_subsistence(vegan_prices_bb, 'vegan', 'F', 'Berkeley Bowl')"
   ]
  },
  {
   "cell_type": "code",
   "execution_count": 20,
   "id": "87370d3c",
   "metadata": {},
   "outputs": [
    {
     "name": "stdout",
     "output_type": "stream",
     "text": [
      "Cost of a vegetarian diet at Berkeley Bowl for M 19-30 is $6.44 per day.\n",
      "\n",
      "\n",
      "Diet (in 100s of grams or milliliters):\n",
      "Black Beans        0.379955\n",
      "Cheddar cheese     0.432985\n",
      "Oat Milk           3.882072\n",
      "Wheat Cereal       2.687290\n",
      "Romaine Lettuce    0.704403\n",
      "Jalepenos          9.306437\n",
      "Salt               0.000002\n",
      "dtype: float64\n",
      "\n",
      "\n",
      "With the following nutritional outcomes of interest:\n",
      "                                    Outcome  Recommendation\n",
      "Nutrition                                                  \n",
      "Energy                          2542.786189          2400.0\n",
      "Protein                           64.123192            56.0\n",
      "Fiber, total dietary              69.443098            33.6\n",
      "Folate, DFE                      400.000003           400.0\n",
      "Calcium, Ca                     1214.788054          1000.0\n",
      "Carbohydrate, by difference      328.244391           130.0\n",
      "Iron, Fe                          11.901004             8.0\n",
      "Magnesium, Mg                    515.166708           400.0\n",
      "Niacin                            28.188283            16.0\n",
      "Phosphorus, P                   1916.664486           700.0\n",
      "Potassium, K                    4700.000008          4700.0\n",
      "Riboflavin                         2.111123             1.3\n",
      "Thiamin                            1.200000             1.2\n",
      "Vitamin A, RAE                   900.000002           900.0\n",
      "Vitamin B-12                       2.400000             2.4\n",
      "Vitamin B-6                        4.409199             1.3\n",
      "Vitamin C, total ascorbic acid  1110.223963            90.0\n",
      "Vitamin E (alpha-tocopherol)      34.656685            15.0\n",
      "Vitamin K (phylloquinone)        265.936596           120.0\n",
      "Zinc, Zn                          11.000000            11.0\n",
      "Sodium, Na                       499.307525          2300.0\n",
      "\n",
      "\n",
      "Constraining nutrients are:\n",
      "['Folate, DFE', 'Potassium, K', 'Thiamin', 'Vitamin A, RAE', 'Vitamin B-12', 'Zinc, Zn']\n"
     ]
    }
   ],
   "source": [
    "veg_bb_m = diet_restricted_subsistence(veg_prices_bb, 'vegetarian', 'M', 'Berkeley Bowl')"
   ]
  },
  {
   "cell_type": "code",
   "execution_count": 21,
   "id": "8d6f716d",
   "metadata": {},
   "outputs": [
    {
     "name": "stdout",
     "output_type": "stream",
     "text": [
      "Cost of a vegetarian diet at Berkeley Bowl for F 19-30 is $6.21 per day.\n",
      "\n",
      "\n",
      "Diet (in 100s of grams or milliliters):\n",
      "Black Beans         0.202889\n",
      "Pinto Beans         1.044150\n",
      "Oat Milk            4.800000\n",
      "Wheat Cereal        2.258862\n",
      "Romaine Lettuce     0.305253\n",
      "Jalepenos          10.871412\n",
      "Salt                0.000010\n",
      "dtype: float64\n",
      "\n",
      "\n",
      "With the following nutritional outcomes of interest:\n",
      "                                    Outcome  Recommendation\n",
      "Nutrition                                                  \n",
      "Energy                          2558.884419          2000.0\n",
      "Protein                           67.375706            46.0\n",
      "Fiber, total dietary             106.530045            28.0\n",
      "Folate, DFE                      400.000015           400.0\n",
      "Calcium, Ca                     1114.494872          1000.0\n",
      "Carbohydrate, by difference      360.929115           130.0\n",
      "Iron, Fe                          18.000000            18.0\n",
      "Magnesium, Mg                    465.209285           310.0\n",
      "Niacin                            27.470108            14.0\n",
      "Phosphorus, P                   1687.476676           700.0\n",
      "Potassium, K                    4700.000142          4700.0\n",
      "Riboflavin                         2.188717             1.1\n",
      "Thiamin                            1.100000             1.1\n",
      "Vitamin A, RAE                   700.000011           700.0\n",
      "Vitamin B-12                       2.400000             2.4\n",
      "Vitamin B-6                        4.932718             1.3\n",
      "Vitamin C, total ascorbic acid  1292.157854            75.0\n",
      "Vitamin E (alpha-tocopherol)      39.709648            15.0\n",
      "Vitamin K (phylloquinone)        242.837075            90.0\n",
      "Zinc, Zn                           8.285764             8.0\n",
      "Sodium, Na                       291.515788          2300.0\n",
      "\n",
      "\n",
      "Constraining nutrients are:\n",
      "['Folate, DFE', 'Iron, Fe', 'Thiamin', 'Vitamin A, RAE', 'Vitamin B-12']\n"
     ]
    }
   ],
   "source": [
    "veg_bb_f = diet_restricted_subsistence(veg_prices_bb, 'vegetarian', 'F', 'Berkeley Bowl')"
   ]
  },
  {
   "cell_type": "code",
   "execution_count": 22,
   "id": "41db6e3f",
   "metadata": {},
   "outputs": [
    {
     "name": "stdout",
     "output_type": "stream",
     "text": [
      "Cost of a pescetarian diet at Berkeley Bowl for M 19-30 is $6.44 per day.\n",
      "\n",
      "\n",
      "Diet (in 100s of grams or milliliters):\n",
      "Black Beans        0.379955\n",
      "Cheddar cheese     0.432985\n",
      "Oat Milk           3.882072\n",
      "Wheat Cereal       2.687290\n",
      "Romaine Lettuce    0.704403\n",
      "Jalepenos          9.306438\n",
      "Salt               0.000010\n",
      "dtype: float64\n",
      "\n",
      "\n",
      "With the following nutritional outcomes of interest:\n",
      "                                    Outcome  Recommendation\n",
      "Nutrition                                                  \n",
      "Energy                          2542.786343          2400.0\n",
      "Protein                           64.123191            56.0\n",
      "Fiber, total dietary              69.443098            33.6\n",
      "Folate, DFE                      400.000029           400.0\n",
      "Calcium, Ca                     1214.788088          1000.0\n",
      "Carbohydrate, by difference      328.244387           130.0\n",
      "Iron, Fe                          11.901003             8.0\n",
      "Magnesium, Mg                    515.166715           400.0\n",
      "Niacin                            28.188284            16.0\n",
      "Phosphorus, P                   1916.664491           700.0\n",
      "Potassium, K                    4700.000054          4700.0\n",
      "Riboflavin                         2.111123             1.3\n",
      "Thiamin                            1.200000             1.2\n",
      "Vitamin A, RAE                   900.000009           900.0\n",
      "Vitamin B-12                       2.400000             2.4\n",
      "Vitamin B-6                        4.409200             1.3\n",
      "Vitamin C, total ascorbic acid  1110.224086            90.0\n",
      "Vitamin E (alpha-tocopherol)      34.656689            15.0\n",
      "Vitamin K (phylloquinone)        265.936627           120.0\n",
      "Zinc, Zn                          11.000000            11.0\n",
      "Sodium, Na                       499.628649          2300.0\n",
      "\n",
      "\n",
      "Constraining nutrients are:\n",
      "['Folate, DFE', 'Potassium, K', 'Thiamin', 'Vitamin A, RAE', 'Vitamin B-12', 'Zinc, Zn']\n"
     ]
    }
   ],
   "source": [
    "pesc_bb_m = diet_restricted_subsistence(pesc_prices_bb, 'pescetarian', 'M', 'Berkeley Bowl')"
   ]
  },
  {
   "cell_type": "code",
   "execution_count": 23,
   "id": "b5505239",
   "metadata": {},
   "outputs": [
    {
     "name": "stdout",
     "output_type": "stream",
     "text": [
      "Cost of a pescetarian diet at Berkeley Bowl for F 19-30 is $6.21 per day.\n",
      "\n",
      "\n",
      "Diet (in 100s of grams or milliliters):\n",
      "Black Beans         0.202889\n",
      "Pinto Beans         1.044150\n",
      "Oat Milk            4.800000\n",
      "Wheat Cereal        2.258861\n",
      "Romaine Lettuce     0.305253\n",
      "Jalepenos          10.871412\n",
      "Salt                0.000012\n",
      "dtype: float64\n",
      "\n",
      "\n",
      "With the following nutritional outcomes of interest:\n",
      "                                    Outcome  Recommendation\n",
      "Nutrition                                                  \n",
      "Energy                          2558.884592          2000.0\n",
      "Protein                           67.375708            46.0\n",
      "Fiber, total dietary             106.530043            28.0\n",
      "Folate, DFE                      400.000020           400.0\n",
      "Calcium, Ca                     1114.494897          1000.0\n",
      "Carbohydrate, by difference      360.929113           130.0\n",
      "Iron, Fe                          18.000000            18.0\n",
      "Magnesium, Mg                    465.209278           310.0\n",
      "Niacin                            27.470107            14.0\n",
      "Phosphorus, P                   1687.476656           700.0\n",
      "Potassium, K                    4700.000195          4700.0\n",
      "Riboflavin                         2.188717             1.1\n",
      "Thiamin                            1.100000             1.1\n",
      "Vitamin A, RAE                   700.000015           700.0\n",
      "Vitamin B-12                       2.400000             2.4\n",
      "Vitamin B-6                        4.932718             1.3\n",
      "Vitamin C, total ascorbic acid  1292.157822            75.0\n",
      "Vitamin E (alpha-tocopherol)      39.709647            15.0\n",
      "Vitamin K (phylloquinone)        242.837095            90.0\n",
      "Zinc, Zn                           8.285764             8.0\n",
      "Sodium, Na                       291.615262          2300.0\n",
      "\n",
      "\n",
      "Constraining nutrients are:\n",
      "['Folate, DFE', 'Iron, Fe', 'Thiamin', 'Vitamin A, RAE', 'Vitamin B-12']\n"
     ]
    }
   ],
   "source": [
    "pesc_bb_f = diet_restricted_subsistence(pesc_prices_bb, 'pescetarian', 'F', 'Berkeley Bowl')"
   ]
  },
  {
   "cell_type": "code",
   "execution_count": 24,
   "id": "def1bfd8",
   "metadata": {},
   "outputs": [
    {
     "name": "stdout",
     "output_type": "stream",
     "text": [
      "Cost of diet at Safeway for M 19-30 is $4.17 per day.\n",
      "\n",
      "\n",
      "Diet (in 100s of grams or milliliters):\n",
      "Peanut Butter      3.607849\n",
      "Chickpeas          0.000002\n",
      "Black Beans        0.003748\n",
      "Pinto Beans        0.173419\n",
      "Sliced Turkey      0.214842\n",
      "Tuna               0.522255\n",
      "Almond Milk        2.944323\n",
      "Oat Milk           0.908684\n",
      "Potatoes           4.090345\n",
      "Romaine Lettuce    1.690839\n",
      "dtype: float64\n",
      "\n",
      "\n",
      "With the following nutritional outcomes of interest:\n",
      "                                    Outcome  Recommendation\n",
      "Nutrition                                                  \n",
      "Energy                          2699.303608          2400.0\n",
      "Protein                          114.112526            56.0\n",
      "Fiber, total dietary              33.600003            33.6\n",
      "Folate, DFE                      400.000008           400.0\n",
      "Calcium, Ca                     1000.000068          1000.0\n",
      "Carbohydrate, by difference      178.874700           130.0\n",
      "Iron, Fe                          13.719934             8.0\n",
      "Magnesium, Mg                    738.039236           400.0\n",
      "Niacin                            65.281777            16.0\n",
      "Phosphorus, P                   1808.218167           700.0\n",
      "Potassium, K                    4700.000209          4700.0\n",
      "Riboflavin                         1.300000             1.3\n",
      "Thiamin                            1.537236             1.2\n",
      "Vitamin A, RAE                   900.000225           900.0\n",
      "Vitamin B-12                       2.400000             2.4\n",
      "Vitamin B-6                        2.984517             1.3\n",
      "Vitamin C, total ascorbic acid    90.000016            90.0\n",
      "Vitamin E (alpha-tocopherol)      42.282904            15.0\n",
      "Vitamin K (phylloquinone)        214.687611           120.0\n",
      "Zinc, Zn                          11.000000            11.0\n",
      "Sodium, Na                      2028.806674          2300.0\n",
      "\n",
      "\n",
      "Constraining nutrients are:\n",
      "['Fiber, total dietary', 'Folate, DFE', 'Calcium, Ca', 'Riboflavin', 'Vitamin B-12', 'Vitamin C, total ascorbic acid', 'Zinc, Zn']\n"
     ]
    }
   ],
   "source": [
    "group = 'M 19-30'\n",
    "tol = 1e-6\n",
    "\n",
    "result = solve_subsistence_problem(FoodNutrients,prices_sw,diet_min[group],diet_max[group],tol=tol)\n",
    "\n",
    "print(\"Cost of diet at Safeway for %s is $%4.2f per day.\\n\" % (group,result.fun))\n",
    "\n",
    "# Put back into nice series\n",
    "diet = result.diet\n",
    "\n",
    "print(\"\\nDiet (in 100s of grams or milliliters):\")\n",
    "print(diet[diet >= tol])  # Drop items with quantities less than precision of calculation.\n",
    "print()\n",
    "\n",
    "tab = pd.DataFrame({\"Outcome\":np.abs(result.A).dot(diet),\"Recommendation\":np.abs(result.b)})\n",
    "print(\"\\nWith the following nutritional outcomes of interest:\")\n",
    "print(tab)\n",
    "print()\n",
    "\n",
    "print(\"\\nConstraining nutrients are:\")\n",
    "excess = tab.diff(axis=1).iloc[:,1]\n",
    "print(excess.loc[np.abs(excess) < tol*100].index.tolist())"
   ]
  },
  {
   "cell_type": "code",
   "execution_count": 25,
   "id": "21902f0c",
   "metadata": {},
   "outputs": [
    {
     "name": "stdout",
     "output_type": "stream",
     "text": [
      "Cost of diet at Safeway for F 19-30 is $3.87 per day.\n",
      "\n",
      "\n",
      "Diet (in 100s of grams or milliliters):\n",
      "Peanut Butter      2.307612\n",
      "Black Beans        0.943213\n",
      "Pinto Beans        0.474155\n",
      "Sliced Turkey      0.542168\n",
      "Almond Milk        2.436239\n",
      "Oat Milk           0.462652\n",
      "Potatoes           2.193451\n",
      "Romaine Lettuce    3.812955\n",
      "dtype: float64\n",
      "\n",
      "\n",
      "With the following nutritional outcomes of interest:\n",
      "                                    Outcome  Recommendation\n",
      "Nutrition                                                  \n",
      "Energy                          2160.119582          2000.0\n",
      "Protein                          103.408963            46.0\n",
      "Fiber, total dietary              53.999672            28.0\n",
      "Folate, DFE                      400.000000           400.0\n",
      "Calcium, Ca                     1000.000000          1000.0\n",
      "Carbohydrate, by difference      196.477615           130.0\n",
      "Iron, Fe                          18.000000            18.0\n",
      "Magnesium, Mg                    501.737338           310.0\n",
      "Niacin                            40.686244            14.0\n",
      "Phosphorus, P                   1296.169269           700.0\n",
      "Potassium, K                    4700.000002          4700.0\n",
      "Riboflavin                         1.100000             1.1\n",
      "Thiamin                            2.754031             1.1\n",
      "Vitamin A, RAE                  1630.054977           700.0\n",
      "Vitamin B-12                       2.400000             2.4\n",
      "Vitamin B-6                        2.145849             1.3\n",
      "Vitamin C, total ascorbic acid    75.000000            75.0\n",
      "Vitamin E (alpha-tocopherol)      30.333531            15.0\n",
      "Vitamin K (phylloquinone)        482.268539            90.0\n",
      "Zinc, Zn                           8.000000             8.0\n",
      "Sodium, Na                      1696.965335          2300.0\n",
      "\n",
      "\n",
      "Constraining nutrients are:\n",
      "['Folate, DFE', 'Calcium, Ca', 'Iron, Fe', 'Potassium, K', 'Riboflavin', 'Vitamin B-12', 'Vitamin C, total ascorbic acid', 'Zinc, Zn']\n"
     ]
    }
   ],
   "source": [
    "group = 'F 19-30'\n",
    "tol = 1e-6\n",
    "\n",
    "result = solve_subsistence_problem(FoodNutrients,prices_sw,diet_min[group],diet_max[group],tol=tol)\n",
    "\n",
    "print(\"Cost of diet at Safeway for %s is $%4.2f per day.\\n\" % (group,result.fun))\n",
    "\n",
    "# Put back into nice series\n",
    "diet = result.diet\n",
    "\n",
    "print(\"\\nDiet (in 100s of grams or milliliters):\")\n",
    "print(diet[diet >= tol])  # Drop items with quantities less than precision of calculation.\n",
    "print()\n",
    "\n",
    "tab = pd.DataFrame({\"Outcome\":np.abs(result.A).dot(diet),\"Recommendation\":np.abs(result.b)})\n",
    "print(\"\\nWith the following nutritional outcomes of interest:\")\n",
    "print(tab)\n",
    "print()\n",
    "\n",
    "print(\"\\nConstraining nutrients are:\")\n",
    "excess = tab.diff(axis=1).iloc[:,1]\n",
    "print(excess.loc[np.abs(excess) < tol*100].index.tolist())"
   ]
  },
  {
   "cell_type": "code",
   "execution_count": 26,
   "id": "ba501078",
   "metadata": {},
   "outputs": [
    {
     "name": "stderr",
     "output_type": "stream",
     "text": [
      "/opt/conda/lib/python3.9/site-packages/pandas/core/dtypes/cast.py:1990: UnitStrippedWarning: The unit of the quantity is stripped when downcasting to ndarray.\n",
      "  result[:] = values\n",
      "/tmp/ipykernel_46/3294993695.py:3: SettingWithCopyWarning: \n",
      "A value is trying to be set on a copy of a slice from a DataFrame.\n",
      "Try using .loc[row_indexer,col_indexer] = value instead\n",
      "\n",
      "See the caveats in the documentation: https://pandas.pydata.org/pandas-docs/stable/user_guide/indexing.html#returning-a-view-versus-a-copy\n",
      "  df['FDC Quantity'] = df[['Quantity','Units']].T.apply(lambda x : fdc.units(x['Quantity'],x['Units']))\n",
      "/tmp/ipykernel_46/3294993695.py:6: SettingWithCopyWarning: \n",
      "A value is trying to be set on a copy of a slice from a DataFrame.\n",
      "Try using .loc[row_indexer,col_indexer] = value instead\n",
      "\n",
      "See the caveats in the documentation: https://pandas.pydata.org/pandas-docs/stable/user_guide/indexing.html#returning-a-view-versus-a-copy\n",
      "  df['FDC Price'] = df['Price']/df['FDC Quantity']\n"
     ]
    }
   ],
   "source": [
    "# Creating vegan, vegetarian, and pescetarian dfs for sw\n",
    "vegan_df_sw = diet_df(df_sw, 'Vegan (1/0)')\n",
    "veg_df_sw = diet_df(df_sw, 'Vegetarian (1/0)')\n",
    "pesc_df_sw = diet_df(df_sw, 'Pescetarian (1/0)')\n",
    "# find prices for diet restricted dfs\n",
    "vegan_prices_sw = find_unit_prices(vegan_df_sw)\n",
    "veg_prices_sw = find_unit_prices(veg_df_sw)\n",
    "pesc_prices_sw = find_unit_prices(pesc_df_sw)"
   ]
  },
  {
   "cell_type": "code",
   "execution_count": 27,
   "id": "bafe1b89",
   "metadata": {},
   "outputs": [
    {
     "name": "stdout",
     "output_type": "stream",
     "text": [
      "Cost of a vegan diet at Safeway for M 19-30 is $5.00 per day.\n",
      "\n",
      "\n",
      "Diet (in 100s of grams or milliliters):\n",
      "Peanut Butter      1.425898\n",
      "Black Beans        0.267523\n",
      "Oat Milk           4.800000\n",
      "Wheat Cereal       1.985236\n",
      "Potatoes           1.786192\n",
      "Romaine Lettuce    6.249055\n",
      "Vegetable Oil      0.385848\n",
      "dtype: float64\n",
      "\n",
      "\n",
      "With the following nutritional outcomes of interest:\n",
      "                                    Outcome  Recommendation\n",
      "Nutrition                                                  \n",
      "Energy                          2400.000000          2400.0\n",
      "Protein                           79.277227            56.0\n",
      "Fiber, total dietary              50.179294            33.6\n",
      "Folate, DFE                      443.471235           400.0\n",
      "Calcium, Ca                     1170.183274          1000.0\n",
      "Carbohydrate, by difference      288.723142           130.0\n",
      "Iron, Fe                          15.897285             8.0\n",
      "Magnesium, Mg                    612.844706           400.0\n",
      "Niacin                            35.050868            16.0\n",
      "Phosphorus, P                   2029.825558           700.0\n",
      "Potassium, K                    4700.000002          4700.0\n",
      "Riboflavin                         2.192025             1.3\n",
      "Thiamin                            1.200000             1.2\n",
      "Vitamin A, RAE                  2312.150324           900.0\n",
      "Vitamin B-12                       2.400000             2.4\n",
      "Vitamin B-6                        1.744361             1.3\n",
      "Vitamin C, total ascorbic acid    90.000000            90.0\n",
      "Vitamin E (alpha-tocopherol)      15.000000            15.0\n",
      "Vitamin K (phylloquinone)        792.462737           120.0\n",
      "Zinc, Zn                          11.000000            11.0\n",
      "Sodium, Na                       992.254335          2300.0\n",
      "\n",
      "\n",
      "Constraining nutrients are:\n",
      "['Energy', 'Potassium, K', 'Thiamin', 'Vitamin B-12', 'Vitamin C, total ascorbic acid', 'Vitamin E (alpha-tocopherol)', 'Zinc, Zn']\n"
     ]
    }
   ],
   "source": [
    "vegan_sw_m = diet_restricted_subsistence(vegan_prices_sw, 'vegan', 'M', 'Safeway')"
   ]
  },
  {
   "cell_type": "code",
   "execution_count": 28,
   "id": "0f809a03",
   "metadata": {},
   "outputs": [
    {
     "name": "stdout",
     "output_type": "stream",
     "text": [
      "Cost of a vegan diet at Safeway for F 19-30 is $4.63 per day.\n",
      "\n",
      "\n",
      "Diet (in 100s of grams or milliliters):\n",
      "Peanut Butter      1.408386\n",
      "Black Beans        0.741499\n",
      "Pinto Beans        0.257980\n",
      "Oat Milk           4.800000\n",
      "Wheat Cereal       1.175406\n",
      "Romaine Lettuce    8.152173\n",
      "Vegetable Oil      0.120797\n",
      "dtype: float64\n",
      "\n",
      "\n",
      "With the following nutritional outcomes of interest:\n",
      "                                    Outcome  Recommendation\n",
      "Nutrition                                                  \n",
      "Energy                          2000.000007          2000.0\n",
      "Protein                           84.256249            46.0\n",
      "Fiber, total dietary              57.598384            28.0\n",
      "Folate, DFE                      480.270783           400.0\n",
      "Calcium, Ca                     1259.766999          1000.0\n",
      "Carbohydrate, by difference      242.327366           130.0\n",
      "Iron, Fe                          18.000000            18.0\n",
      "Magnesium, Mg                    499.148983           310.0\n",
      "Niacin                            28.782257            14.0\n",
      "Phosphorus, P                   1698.109955           700.0\n",
      "Potassium, K                    4700.001536          4700.0\n",
      "Riboflavin                         2.226962             1.1\n",
      "Thiamin                            1.100000             1.1\n",
      "Vitamin A, RAE                  3016.304074           700.0\n",
      "Vitamin B-12                       2.400000             2.4\n",
      "Vitamin B-6                        1.541207             1.3\n",
      "Vitamin C, total ascorbic acid    75.000001            75.0\n",
      "Vitamin E (alpha-tocopherol)      15.000000            15.0\n",
      "Vitamin K (phylloquinone)       1031.687558            90.0\n",
      "Zinc, Zn                           8.535646             8.0\n",
      "Sodium, Na                      1047.244247          2300.0\n",
      "\n",
      "\n",
      "Constraining nutrients are:\n",
      "['Energy', 'Iron, Fe', 'Thiamin', 'Vitamin B-12', 'Vitamin C, total ascorbic acid', 'Vitamin E (alpha-tocopherol)']\n"
     ]
    }
   ],
   "source": [
    "vegan_sw_f = diet_restricted_subsistence(vegan_prices_sw, 'vegan', 'F', 'Safeway')"
   ]
  },
  {
   "cell_type": "code",
   "execution_count": 29,
   "id": "e2b13365",
   "metadata": {},
   "outputs": [
    {
     "name": "stdout",
     "output_type": "stream",
     "text": [
      "Cost of a vegetarian diet at Safeway for M 19-30 is $5.00 per day.\n",
      "\n",
      "\n",
      "Diet (in 100s of grams or milliliters):\n",
      "Peanut Butter      1.425898\n",
      "Black Beans        0.267523\n",
      "Oat Milk           4.800000\n",
      "Wheat Cereal       1.985236\n",
      "Potatoes           1.786192\n",
      "Romaine Lettuce    6.249055\n",
      "Vegetable Oil      0.385848\n",
      "dtype: float64\n",
      "\n",
      "\n",
      "With the following nutritional outcomes of interest:\n",
      "                                    Outcome  Recommendation\n",
      "Nutrition                                                  \n",
      "Energy                          2400.000000          2400.0\n",
      "Protein                           79.277227            56.0\n",
      "Fiber, total dietary              50.179294            33.6\n",
      "Folate, DFE                      443.471236           400.0\n",
      "Calcium, Ca                     1170.183274          1000.0\n",
      "Carbohydrate, by difference      288.723142           130.0\n",
      "Iron, Fe                          15.897285             8.0\n",
      "Magnesium, Mg                    612.844706           400.0\n",
      "Niacin                            35.050868            16.0\n",
      "Phosphorus, P                   2029.825556           700.0\n",
      "Potassium, K                    4700.000001          4700.0\n",
      "Riboflavin                         2.192025             1.3\n",
      "Thiamin                            1.200000             1.2\n",
      "Vitamin A, RAE                  2312.150329           900.0\n",
      "Vitamin B-12                       2.400000             2.4\n",
      "Vitamin B-6                        1.744361             1.3\n",
      "Vitamin C, total ascorbic acid    90.000000            90.0\n",
      "Vitamin E (alpha-tocopherol)      15.000000            15.0\n",
      "Vitamin K (phylloquinone)        792.462739           120.0\n",
      "Zinc, Zn                          11.000000            11.0\n",
      "Sodium, Na                       992.254336          2300.0\n",
      "\n",
      "\n",
      "Constraining nutrients are:\n",
      "['Energy', 'Potassium, K', 'Thiamin', 'Vitamin B-12', 'Vitamin C, total ascorbic acid', 'Vitamin E (alpha-tocopherol)', 'Zinc, Zn']\n"
     ]
    }
   ],
   "source": [
    "veg_sw_m = diet_restricted_subsistence(veg_prices_sw, 'vegetarian', 'M', 'Safeway')"
   ]
  },
  {
   "cell_type": "code",
   "execution_count": 30,
   "id": "12dfc281",
   "metadata": {},
   "outputs": [
    {
     "name": "stdout",
     "output_type": "stream",
     "text": [
      "Cost of a vegetarian diet at Safeway for F 19-30 is $4.63 per day.\n",
      "\n",
      "\n",
      "Diet (in 100s of grams or milliliters):\n",
      "Peanut Butter      1.408387\n",
      "Chickpeas          0.000001\n",
      "Black Beans        0.741621\n",
      "Pinto Beans        0.257914\n",
      "Almond Milk        0.000003\n",
      "2% milk            0.000002\n",
      "Oat Milk           4.800000\n",
      "Wheat Cereal       1.175412\n",
      "Brown Rice         0.000001\n",
      "Potatoes           0.000008\n",
      "Romaine Lettuce    8.152144\n",
      "Vegetable Oil      0.120749\n",
      "Salt               0.000031\n",
      "Sugar              0.000008\n",
      "dtype: float64\n",
      "\n",
      "\n",
      "With the following nutritional outcomes of interest:\n",
      "                                    Outcome  Recommendation\n",
      "Nutrition                                                  \n",
      "Energy                          2000.000456          2000.0\n",
      "Protein                           84.257857            46.0\n",
      "Fiber, total dietary              57.597817            28.0\n",
      "Folate, DFE                      480.270224           400.0\n",
      "Calcium, Ca                     1259.776779          1000.0\n",
      "Carbohydrate, by difference      242.332406           130.0\n",
      "Iron, Fe                          18.000005            18.0\n",
      "Magnesium, Mg                    499.149906           310.0\n",
      "Niacin                            28.782313            14.0\n",
      "Phosphorus, P                   1698.112608           700.0\n",
      "Potassium, K                    4700.185007          4700.0\n",
      "Riboflavin                         2.226961             1.1\n",
      "Thiamin                            1.100000             1.1\n",
      "Vitamin A, RAE                  3016.293813           700.0\n",
      "Vitamin B-12                       2.400000             2.4\n",
      "Vitamin B-6                        1.541208             1.3\n",
      "Vitamin C, total ascorbic acid    75.000074            75.0\n",
      "Vitamin E (alpha-tocopherol)      15.000022            15.0\n",
      "Vitamin K (phylloquinone)       1031.684235            90.0\n",
      "Zinc, Zn                           8.535667             8.0\n",
      "Sodium, Na                      1048.431769          2300.0\n",
      "\n",
      "\n",
      "Constraining nutrients are:\n",
      "['Iron, Fe', 'Thiamin', 'Vitamin B-12', 'Vitamin C, total ascorbic acid', 'Vitamin E (alpha-tocopherol)']\n"
     ]
    }
   ],
   "source": [
    "veg_sw_f = diet_restricted_subsistence(veg_prices_sw, 'vegetarian', 'F', 'Safeway')"
   ]
  },
  {
   "cell_type": "code",
   "execution_count": 31,
   "id": "c5cfdb94",
   "metadata": {},
   "outputs": [
    {
     "name": "stdout",
     "output_type": "stream",
     "text": [
      "Cost of a pescetarian diet at Safeway for M 19-30 is $4.75 per day.\n",
      "\n",
      "\n",
      "Diet (in 100s of grams or milliliters):\n",
      "Chicken thigh        0.000001\n",
      "Eggs                 0.000002\n",
      "Peanut Butter        2.523436\n",
      "Chickpeas            0.000009\n",
      "Tofu                 0.000002\n",
      "Black Beans          0.207883\n",
      "Pinto Beans          0.000007\n",
      "Lentils              0.000005\n",
      "Tuna                 1.153833\n",
      "Almond Milk          2.874458\n",
      "2% milk              0.000025\n",
      "Cheddar cheese       0.000002\n",
      "Unsalted butter      0.000001\n",
      "Greek yogurt         0.000002\n",
      "Oat Milk             0.000062\n",
      "Wheat Cereal         0.828870\n",
      "Granola              0.000001\n",
      "Brown Rice           0.000006\n",
      "Jasmine Rice         0.000003\n",
      "Potatoes             1.483150\n",
      "Bananas              0.000006\n",
      "Apples               0.000003\n",
      "Avocados             0.000002\n",
      "Tomatoes             0.000001\n",
      "Kale                 0.000002\n",
      "Red Onion            0.000002\n",
      "Yellow Onion         0.000006\n",
      "Cauliflower          0.000002\n",
      "Broccoli             0.000005\n",
      "Carrots              0.000004\n",
      "Sweet Potatoes       0.000001\n",
      "Romaine Lettuce      6.848349\n",
      "Cucumbers            0.000002\n",
      "Cremini Mushrooms    0.000001\n",
      "Jalepenos            0.000010\n",
      "Olive Oil            0.000003\n",
      "Vegetable Oil        0.195110\n",
      "Salt                 0.000386\n",
      "Tomato Sauce         0.000005\n",
      "Sugar                0.000045\n",
      "Honey                0.000002\n",
      "dtype: float64\n",
      "\n",
      "\n",
      "With the following nutritional outcomes of interest:\n",
      "                                    Outcome  Recommendation\n",
      "Nutrition                                                  \n",
      "Energy                          2400.002560          2400.0\n",
      "Protein                          112.729459            56.0\n",
      "Fiber, total dietary              37.250644            33.6\n",
      "Folate, DFE                      517.248911           400.0\n",
      "Calcium, Ca                     1000.002835          1000.0\n",
      "Carbohydrate, by difference      184.973848           130.0\n",
      "Iron, Fe                          16.003404             8.0\n",
      "Magnesium, Mg                    706.262597           400.0\n",
      "Niacin                            64.183198            16.0\n",
      "Phosphorus, P                   1776.472883           700.0\n",
      "Potassium, K                    4700.031985          4700.0\n",
      "Riboflavin                         1.300010             1.3\n",
      "Thiamin                            1.200001             1.2\n",
      "Vitamin A, RAE                  2813.360622           900.0\n",
      "Vitamin B-12                       2.400005             2.4\n",
      "Vitamin B-6                        3.142000             1.3\n",
      "Vitamin C, total ascorbic acid    90.000364            90.0\n",
      "Vitamin E (alpha-tocopherol)      33.114576            15.0\n",
      "Vitamin K (phylloquinone)        866.982387           120.0\n",
      "Zinc, Zn                          11.000017            11.0\n",
      "Sodium, Na                      1549.899563          2300.0\n",
      "\n",
      "\n",
      "Constraining nutrients are:\n",
      "['Riboflavin', 'Thiamin', 'Vitamin B-12', 'Zinc, Zn']\n"
     ]
    }
   ],
   "source": [
    "pesc_sw_m = diet_restricted_subsistence(pesc_prices_sw, 'pescetarian', 'M', 'Safeway')"
   ]
  },
  {
   "cell_type": "code",
   "execution_count": 32,
   "id": "d4bd88c5",
   "metadata": {},
   "outputs": [
    {
     "name": "stdout",
     "output_type": "stream",
     "text": [
      "Cost of a pescetarian diet at Safeway for F 19-30 is $4.30 per day.\n",
      "\n",
      "\n",
      "Diet (in 100s of grams or milliliters):\n",
      "Peanut Butter      1.329986\n",
      "Black Beans        1.265065\n",
      "Tuna               1.153846\n",
      "Almond Milk        2.347686\n",
      "Wheat Cereal       0.887338\n",
      "Potatoes           0.312217\n",
      "Romaine Lettuce    7.534526\n",
      "Vegetable Oil      0.215326\n",
      "dtype: float64\n",
      "\n",
      "\n",
      "With the following nutritional outcomes of interest:\n",
      "                                    Outcome  Recommendation\n",
      "Nutrition                                                  \n",
      "Energy                          2000.000000          2000.0\n",
      "Protein                          108.928655            46.0\n",
      "Fiber, total dietary              48.202975            28.0\n",
      "Folate, DFE                      442.614359           400.0\n",
      "Calcium, Ca                     1000.000000          1000.0\n",
      "Carbohydrate, by difference      208.615017           130.0\n",
      "Iron, Fe                          18.000000            18.0\n",
      "Magnesium, Mg                    499.311272           310.0\n",
      "Niacin                            47.613074            14.0\n",
      "Phosphorus, P                   1361.254182           700.0\n",
      "Potassium, K                    5218.008714          4700.0\n",
      "Riboflavin                         1.100000             1.1\n",
      "Thiamin                            1.100000             1.1\n",
      "Vitamin A, RAE                  3019.835691           700.0\n",
      "Vitamin B-12                       2.400000             2.4\n",
      "Vitamin B-6                        2.524846             1.3\n",
      "Vitamin C, total ascorbic acid    75.000000            75.0\n",
      "Vitamin E (alpha-tocopherol)      20.931638            15.0\n",
      "Vitamin K (phylloquinone)        953.367315            90.0\n",
      "Zinc, Zn                           8.000000             8.0\n",
      "Sodium, Na                      1004.261915          2300.0\n",
      "\n",
      "\n",
      "Constraining nutrients are:\n",
      "['Energy', 'Calcium, Ca', 'Iron, Fe', 'Riboflavin', 'Thiamin', 'Vitamin B-12', 'Vitamin C, total ascorbic acid', 'Zinc, Zn']\n"
     ]
    }
   ],
   "source": [
    "pesc_sw_f = diet_restricted_subsistence(pesc_prices_sw, 'pescetarian', 'F', 'Safeway')"
   ]
  },
  {
   "cell_type": "code",
   "execution_count": 33,
   "id": "c531bc13",
   "metadata": {},
   "outputs": [
    {
     "name": "stdout",
     "output_type": "stream",
     "text": [
      "Cost of diet at Whole Foods for M 19-30 is $5.65 per day.\n",
      "\n",
      "\n",
      "Diet (in 100s of grams or milliliters):\n",
      "Peanut Butter     1.658280\n",
      "Chickpeas         0.648133\n",
      "Black Beans       0.012525\n",
      "Sliced Turkey     0.318226\n",
      "Almond Milk       5.928579\n",
      "Cheddar cheese    1.063297\n",
      "Bananas           8.068819\n",
      "Broccoli          0.158821\n",
      "Spinach           0.195205\n",
      "dtype: float64\n",
      "\n",
      "\n",
      "With the following nutritional outcomes of interest:\n",
      "                                    Outcome  Recommendation\n",
      "Nutrition                                                  \n",
      "Energy                          2400.000007          2400.0\n",
      "Protein                           85.410140            56.0\n",
      "Fiber, total dietary              36.286390            33.6\n",
      "Folate, DFE                      400.000000           400.0\n",
      "Calcium, Ca                     2043.341393          1000.0\n",
      "Carbohydrate, by difference      250.108059           130.0\n",
      "Iron, Fe                           9.324228             8.0\n",
      "Magnesium, Mg                    602.208403           400.0\n",
      "Niacin                            31.661033            16.0\n",
      "Phosphorus, P                   1517.358055           700.0\n",
      "Potassium, K                    4700.000005          4700.0\n",
      "Riboflavin                         1.564197             1.3\n",
      "Thiamin                            1.827048             1.2\n",
      "Vitamin A, RAE                   900.000000           900.0\n",
      "Vitamin B-12                       2.400000             2.4\n",
      "Vitamin B-6                        4.566401             1.3\n",
      "Vitamin C, total ascorbic acid    90.000001            90.0\n",
      "Vitamin E (alpha-tocopherol)      34.656557            15.0\n",
      "Vitamin K (phylloquinone)        120.000000           120.0\n",
      "Zinc, Zn                          11.000000            11.0\n",
      "Sodium, Na                      2299.999998          2300.0\n",
      "\n",
      "\n",
      "Constraining nutrients are:\n",
      "['Energy', 'Folate, DFE', 'Potassium, K', 'Vitamin A, RAE', 'Vitamin B-12', 'Vitamin C, total ascorbic acid', 'Vitamin K (phylloquinone)', 'Zinc, Zn', 'Sodium, Na']\n"
     ]
    }
   ],
   "source": [
    "group = 'M 19-30'\n",
    "tol = 1e-6\n",
    "\n",
    "result = solve_subsistence_problem(FoodNutrients,prices_wf,diet_min[group],diet_max[group],tol=tol)\n",
    "\n",
    "print(\"Cost of diet at Whole Foods for %s is $%4.2f per day.\\n\" % (group,result.fun))\n",
    "\n",
    "# Put back into nice series\n",
    "diet = result.diet\n",
    "\n",
    "print(\"\\nDiet (in 100s of grams or milliliters):\")\n",
    "print(diet[diet >= tol])  # Drop items with quantities less than precision of calculation.\n",
    "print()\n",
    "\n",
    "tab = pd.DataFrame({\"Outcome\":np.abs(result.A).dot(diet),\"Recommendation\":np.abs(result.b)})\n",
    "print(\"\\nWith the following nutritional outcomes of interest:\")\n",
    "print(tab)\n",
    "print()\n",
    "\n",
    "print(\"\\nConstraining nutrients are:\")\n",
    "excess = tab.diff(axis=1).iloc[:,1]\n",
    "print(excess.loc[np.abs(excess) < tol*100].index.tolist())"
   ]
  },
  {
   "cell_type": "code",
   "execution_count": 34,
   "id": "7fec4069",
   "metadata": {},
   "outputs": [
    {
     "name": "stdout",
     "output_type": "stream",
     "text": [
      "Cost of diet at Whole Foods for F 19-30 is $4.84 per day.\n",
      "\n",
      "\n",
      "Diet (in 100s of grams or milliliters):\n",
      "Peanut Butter    0.954956\n",
      "Chickpeas        2.749680\n",
      "Black Beans      0.217461\n",
      "Pinto Beans      0.601510\n",
      "Sliced Turkey    0.552867\n",
      "Almond Milk      7.445309\n",
      "Oat Milk         0.377060\n",
      "Bananas          6.870437\n",
      "Broccoli         0.122949\n",
      "Spinach          0.131567\n",
      "dtype: float64\n",
      "\n",
      "\n",
      "With the following nutritional outcomes of interest:\n",
      "                                    Outcome  Recommendation\n",
      "Nutrition                                                  \n",
      "Energy                          2000.000149          2000.0\n",
      "Protein                           82.066739            46.0\n",
      "Fiber, total dietary              72.410243            28.0\n",
      "Folate, DFE                      400.000008           400.0\n",
      "Calcium, Ca                     1803.427953          1000.0\n",
      "Carbohydrate, by difference      306.052219           130.0\n",
      "Iron, Fe                          18.000001            18.0\n",
      "Magnesium, Mg                    530.594650           310.0\n",
      "Niacin                            24.575529            14.0\n",
      "Phosphorus, P                   1202.307669           700.0\n",
      "Potassium, K                    4762.216560          4700.0\n",
      "Riboflavin                         1.100000             1.1\n",
      "Thiamin                            2.705200             1.1\n",
      "Vitamin A, RAE                   700.000014           700.0\n",
      "Vitamin B-12                       2.400000             2.4\n",
      "Vitamin B-6                        5.515227             1.3\n",
      "Vitamin C, total ascorbic acid    75.000087            75.0\n",
      "Vitamin E (alpha-tocopherol)      32.942411            15.0\n",
      "Vitamin K (phylloquinone)         90.000034            90.0\n",
      "Zinc, Zn                           8.000001             8.0\n",
      "Sodium, Na                      2299.999624          2300.0\n",
      "\n",
      "\n",
      "Constraining nutrients are:\n",
      "['Folate, DFE', 'Iron, Fe', 'Riboflavin', 'Vitamin A, RAE', 'Vitamin B-12', 'Vitamin C, total ascorbic acid', 'Vitamin K (phylloquinone)', 'Zinc, Zn']\n"
     ]
    }
   ],
   "source": [
    "group = 'F 19-30'\n",
    "tol = 1e-6\n",
    "\n",
    "result = solve_subsistence_problem(FoodNutrients,prices_wf,diet_min[group],diet_max[group],tol=tol)\n",
    "\n",
    "print(\"Cost of diet at Whole Foods for %s is $%4.2f per day.\\n\" % (group,result.fun))\n",
    "\n",
    "# Put back into nice series\n",
    "diet = result.diet\n",
    "\n",
    "print(\"\\nDiet (in 100s of grams or milliliters):\")\n",
    "print(diet[diet >= tol])  # Drop items with quantities less than precision of calculation.\n",
    "print()\n",
    "\n",
    "tab = pd.DataFrame({\"Outcome\":np.abs(result.A).dot(diet),\"Recommendation\":np.abs(result.b)})\n",
    "print(\"\\nWith the following nutritional outcomes of interest:\")\n",
    "print(tab)\n",
    "print()\n",
    "\n",
    "print(\"\\nConstraining nutrients are:\")\n",
    "excess = tab.diff(axis=1).iloc[:,1]\n",
    "print(excess.loc[np.abs(excess) < tol*100].index.tolist())"
   ]
  },
  {
   "cell_type": "code",
   "execution_count": 35,
   "id": "4e7a3ac2",
   "metadata": {},
   "outputs": [
    {
     "name": "stderr",
     "output_type": "stream",
     "text": [
      "/opt/conda/lib/python3.9/site-packages/pandas/core/dtypes/cast.py:1990: UnitStrippedWarning: The unit of the quantity is stripped when downcasting to ndarray.\n",
      "  result[:] = values\n",
      "/tmp/ipykernel_46/3294993695.py:3: SettingWithCopyWarning: \n",
      "A value is trying to be set on a copy of a slice from a DataFrame.\n",
      "Try using .loc[row_indexer,col_indexer] = value instead\n",
      "\n",
      "See the caveats in the documentation: https://pandas.pydata.org/pandas-docs/stable/user_guide/indexing.html#returning-a-view-versus-a-copy\n",
      "  df['FDC Quantity'] = df[['Quantity','Units']].T.apply(lambda x : fdc.units(x['Quantity'],x['Units']))\n",
      "/tmp/ipykernel_46/3294993695.py:6: SettingWithCopyWarning: \n",
      "A value is trying to be set on a copy of a slice from a DataFrame.\n",
      "Try using .loc[row_indexer,col_indexer] = value instead\n",
      "\n",
      "See the caveats in the documentation: https://pandas.pydata.org/pandas-docs/stable/user_guide/indexing.html#returning-a-view-versus-a-copy\n",
      "  df['FDC Price'] = df['Price']/df['FDC Quantity']\n"
     ]
    }
   ],
   "source": [
    "# Creating vegan, vegetarian, and pescetarian dfs for wf\n",
    "vegan_df_wf = diet_df(df_wf, 'Vegan (1/0)')\n",
    "veg_df_wf = diet_df(df_wf, 'Vegetarian (1/0)')\n",
    "pesc_df_wf = diet_df(df_wf, 'Pescetarian (1/0)')\n",
    "# find prices for diet restricted dfs\n",
    "vegan_prices_wf = find_unit_prices(vegan_df_wf)\n",
    "veg_prices_wf = find_unit_prices(veg_df_wf)\n",
    "pesc_prices_wf = find_unit_prices(pesc_df_wf)"
   ]
  },
  {
   "cell_type": "code",
   "execution_count": 36,
   "id": "5d181965",
   "metadata": {},
   "outputs": [
    {
     "name": "stdout",
     "output_type": "stream",
     "text": [
      "Cost of a vegan diet at Whole Foods for M 19-30 is $6.80 per day.\n",
      "\n",
      "\n",
      "Diet (in 100s of grams or milliliters):\n",
      "Chickpeas       3.009007\n",
      "Almond Milk     9.604722\n",
      "Oat Milk        4.800000\n",
      "Wheat Cereal    2.896846\n",
      "Bananas         6.351040\n",
      "Broccoli        0.338836\n",
      "Spinach         0.139007\n",
      "dtype: float64\n",
      "\n",
      "\n",
      "With the following nutritional outcomes of interest:\n",
      "                                    Outcome  Recommendation\n",
      "Nutrition                                                  \n",
      "Energy                          2400.000001          2400.0\n",
      "Protein                           76.235950            56.0\n",
      "Fiber, total dietary              81.374880            33.6\n",
      "Folate, DFE                      400.000000           400.0\n",
      "Calcium, Ca                     2869.153603          1000.0\n",
      "Carbohydrate, by difference      492.217813           130.0\n",
      "Iron, Fe                          19.074999             8.0\n",
      "Magnesium, Mg                    754.010937           400.0\n",
      "Niacin                            22.965367            16.0\n",
      "Phosphorus, P                   2287.127910           700.0\n",
      "Potassium, K                    5714.116250          4700.0\n",
      "Riboflavin                         2.132249             1.3\n",
      "Thiamin                            1.200000             1.2\n",
      "Vitamin A, RAE                   900.000000           900.0\n",
      "Vitamin B-12                       2.400000             2.4\n",
      "Vitamin B-6                        5.089877             1.3\n",
      "Vitamin C, total ascorbic acid    90.000001            90.0\n",
      "Vitamin E (alpha-tocopherol)      29.778537            15.0\n",
      "Vitamin K (phylloquinone)        120.000000           120.0\n",
      "Zinc, Zn                          13.731852            11.0\n",
      "Sodium, Na                      1910.976296          2300.0\n",
      "\n",
      "\n",
      "Constraining nutrients are:\n",
      "['Energy', 'Folate, DFE', 'Thiamin', 'Vitamin A, RAE', 'Vitamin B-12', 'Vitamin C, total ascorbic acid', 'Vitamin K (phylloquinone)']\n"
     ]
    }
   ],
   "source": [
    "vegan_sw_m = diet_restricted_subsistence(vegan_prices_wf, 'vegan', 'M', 'Whole Foods')"
   ]
  },
  {
   "cell_type": "code",
   "execution_count": 37,
   "id": "ff8b80d2",
   "metadata": {},
   "outputs": [
    {
     "name": "stdout",
     "output_type": "stream",
     "text": [
      "Cost of a vegan diet at Whole Foods for F 19-30 is $6.15 per day.\n",
      "\n",
      "\n",
      "Diet (in 100s of grams or milliliters):\n",
      "Chickpeas       3.432067\n",
      "Almond Milk     7.391906\n",
      "Oat Milk        4.800000\n",
      "Wheat Cereal    2.639425\n",
      "Bananas         3.096977\n",
      "Avocados        0.670678\n",
      "Broccoli        0.447699\n",
      "Spinach         0.025827\n",
      "dtype: float64\n",
      "\n",
      "\n",
      "With the following nutritional outcomes of interest:\n",
      "                                    Outcome  Recommendation\n",
      "Nutrition                                                  \n",
      "Energy                          2158.703775          2000.0\n",
      "Protein                           73.670203            46.0\n",
      "Fiber, total dietary              76.873031            28.0\n",
      "Folate, DFE                      400.000000           400.0\n",
      "Calcium, Ca                     2457.549494          1000.0\n",
      "Carbohydrate, by difference      409.898155           130.0\n",
      "Iron, Fe                          18.000000            18.0\n",
      "Magnesium, Mg                    659.668326           310.0\n",
      "Niacin                            20.436796            14.0\n",
      "Phosphorus, P                   2196.130586           700.0\n",
      "Potassium, K                    4700.000000          4700.0\n",
      "Riboflavin                         1.959485             1.1\n",
      "Thiamin                            1.100000             1.1\n",
      "Vitamin A, RAE                   700.000000           700.0\n",
      "Vitamin B-12                       2.400000             2.4\n",
      "Vitamin B-6                        4.363600             1.3\n",
      "Vitamin C, total ascorbic acid    75.000000            75.0\n",
      "Vitamin E (alpha-tocopherol)      24.761339            15.0\n",
      "Vitamin K (phylloquinone)         90.000000            90.0\n",
      "Zinc, Zn                          13.306822             8.0\n",
      "Sodium, Na                      1885.910667          2300.0\n",
      "\n",
      "\n",
      "Constraining nutrients are:\n",
      "['Folate, DFE', 'Iron, Fe', 'Potassium, K', 'Thiamin', 'Vitamin A, RAE', 'Vitamin B-12', 'Vitamin C, total ascorbic acid', 'Vitamin K (phylloquinone)']\n"
     ]
    }
   ],
   "source": [
    "vegan_sw_f = diet_restricted_subsistence(vegan_prices_wf, 'vegan', 'F', 'Whole Foods')"
   ]
  },
  {
   "cell_type": "code",
   "execution_count": 38,
   "id": "ac68986c",
   "metadata": {},
   "outputs": [
    {
     "name": "stdout",
     "output_type": "stream",
     "text": [
      "Cost of a vegetarian diet at Whole Foods for M 19-30 is $6.80 per day.\n",
      "\n",
      "\n",
      "Diet (in 100s of grams or milliliters):\n",
      "Peanut Butter    0.000007\n",
      "Chickpeas        3.008835\n",
      "Almond Milk      9.604720\n",
      "Oat Milk         4.799999\n",
      "Wheat Cereal     2.896852\n",
      "Bananas          6.351134\n",
      "Avocados         0.000063\n",
      "Kale             0.000002\n",
      "Broccoli         0.338821\n",
      "Spinach          0.139005\n",
      "Cucumbers        0.000003\n",
      "dtype: float64\n",
      "\n",
      "\n",
      "With the following nutritional outcomes of interest:\n",
      "                                    Outcome  Recommendation\n",
      "Nutrition                                                  \n",
      "Energy                          2400.001222          2400.0\n",
      "Protein                           76.235024            56.0\n",
      "Fiber, total dietary              81.374401            33.6\n",
      "Folate, DFE                      400.000046           400.0\n",
      "Calcium, Ca                     2869.145349          1000.0\n",
      "Carbohydrate, by difference      492.217376           130.0\n",
      "Iron, Fe                          19.074731             8.0\n",
      "Magnesium, Mg                    754.009373           400.0\n",
      "Niacin                            22.965631            16.0\n",
      "Phosphorus, P                   2287.114408           700.0\n",
      "Potassium, K                    5714.143046          4700.0\n",
      "Riboflavin                         2.132261             1.3\n",
      "Thiamin                            1.200000             1.2\n",
      "Vitamin A, RAE                   900.000057           900.0\n",
      "Vitamin B-12                       2.400000             2.4\n",
      "Vitamin B-6                        5.089801             1.3\n",
      "Vitamin C, total ascorbic acid    90.000382            90.0\n",
      "Vitamin E (alpha-tocopherol)      29.778679            15.0\n",
      "Vitamin K (phylloquinone)        120.000112           120.0\n",
      "Zinc, Zn                          13.731741            11.0\n",
      "Sodium, Na                      1910.932842          2300.0\n",
      "\n",
      "\n",
      "Constraining nutrients are:\n",
      "['Folate, DFE', 'Thiamin', 'Vitamin A, RAE', 'Vitamin B-12']\n"
     ]
    }
   ],
   "source": [
    "veg_sw_m = diet_restricted_subsistence(veg_prices_wf, 'vegetarian', 'M', 'Whole Foods')"
   ]
  },
  {
   "cell_type": "code",
   "execution_count": 39,
   "id": "83a5af87",
   "metadata": {},
   "outputs": [
    {
     "name": "stdout",
     "output_type": "stream",
     "text": [
      "Cost of a vegetarian diet at Whole Foods for F 19-30 is $6.15 per day.\n",
      "\n",
      "\n",
      "Diet (in 100s of grams or milliliters):\n",
      "Chickpeas       3.432067\n",
      "Almond Milk     7.391906\n",
      "Oat Milk        4.800000\n",
      "Wheat Cereal    2.639425\n",
      "Bananas         3.096977\n",
      "Avocados        0.670678\n",
      "Broccoli        0.447699\n",
      "Spinach         0.025827\n",
      "dtype: float64\n",
      "\n",
      "\n",
      "With the following nutritional outcomes of interest:\n",
      "                                    Outcome  Recommendation\n",
      "Nutrition                                                  \n",
      "Energy                          2158.703777          2000.0\n",
      "Protein                           73.670203            46.0\n",
      "Fiber, total dietary              76.873032            28.0\n",
      "Folate, DFE                      400.000000           400.0\n",
      "Calcium, Ca                     2457.549496          1000.0\n",
      "Carbohydrate, by difference      409.898156           130.0\n",
      "Iron, Fe                          18.000000            18.0\n",
      "Magnesium, Mg                    659.668327           310.0\n",
      "Niacin                            20.436796            14.0\n",
      "Phosphorus, P                   2196.130590           700.0\n",
      "Potassium, K                    4700.000001          4700.0\n",
      "Riboflavin                         1.959485             1.1\n",
      "Thiamin                            1.100000             1.1\n",
      "Vitamin A, RAE                   700.000000           700.0\n",
      "Vitamin B-12                       2.400000             2.4\n",
      "Vitamin B-6                        4.363600             1.3\n",
      "Vitamin C, total ascorbic acid    75.000000            75.0\n",
      "Vitamin E (alpha-tocopherol)      24.761339            15.0\n",
      "Vitamin K (phylloquinone)         90.000000            90.0\n",
      "Zinc, Zn                          13.306822             8.0\n",
      "Sodium, Na                      1885.910686          2300.0\n",
      "\n",
      "\n",
      "Constraining nutrients are:\n",
      "['Folate, DFE', 'Iron, Fe', 'Potassium, K', 'Thiamin', 'Vitamin A, RAE', 'Vitamin B-12', 'Vitamin C, total ascorbic acid', 'Vitamin K (phylloquinone)']\n"
     ]
    }
   ],
   "source": [
    "veg_sw_f = diet_restricted_subsistence(veg_prices_wf, 'vegetarian', 'F', 'Whole Foods')"
   ]
  },
  {
   "cell_type": "code",
   "execution_count": 40,
   "id": "0dc72ebc",
   "metadata": {},
   "outputs": [
    {
     "name": "stdout",
     "output_type": "stream",
     "text": [
      "Cost of a pescetarian diet at Whole Foods for M 19-30 is $6.80 per day.\n",
      "\n",
      "\n",
      "Diet (in 100s of grams or milliliters):\n",
      "Chickpeas       3.009007\n",
      "Almond Milk     9.604722\n",
      "Oat Milk        4.800000\n",
      "Wheat Cereal    2.896846\n",
      "Bananas         6.351042\n",
      "Broccoli        0.338836\n",
      "Spinach         0.139007\n",
      "dtype: float64\n",
      "\n",
      "\n",
      "With the following nutritional outcomes of interest:\n",
      "                                    Outcome  Recommendation\n",
      "Nutrition                                                  \n",
      "Energy                          2400.000050          2400.0\n",
      "Protein                           76.235946            56.0\n",
      "Fiber, total dietary              81.374879            33.6\n",
      "Folate, DFE                      400.000001           400.0\n",
      "Calcium, Ca                     2869.153557          1000.0\n",
      "Carbohydrate, by difference      492.217831           130.0\n",
      "Iron, Fe                          19.074998             8.0\n",
      "Magnesium, Mg                    754.010942           400.0\n",
      "Niacin                            22.965368            16.0\n",
      "Phosphorus, P                   2287.127828           700.0\n",
      "Potassium, K                    5714.116641          4700.0\n",
      "Riboflavin                         2.132249             1.3\n",
      "Thiamin                            1.200000             1.2\n",
      "Vitamin A, RAE                   900.000001           900.0\n",
      "Vitamin B-12                       2.400000             2.4\n",
      "Vitamin B-6                        5.089877             1.3\n",
      "Vitamin C, total ascorbic acid    90.000014            90.0\n",
      "Vitamin E (alpha-tocopherol)      29.778537            15.0\n",
      "Vitamin K (phylloquinone)        120.000002           120.0\n",
      "Zinc, Zn                          13.731852            11.0\n",
      "Sodium, Na                      1910.976203          2300.0\n",
      "\n",
      "\n",
      "Constraining nutrients are:\n",
      "['Energy', 'Folate, DFE', 'Thiamin', 'Vitamin A, RAE', 'Vitamin B-12', 'Vitamin C, total ascorbic acid', 'Vitamin K (phylloquinone)']\n"
     ]
    }
   ],
   "source": [
    "pesc_sw_m = diet_restricted_subsistence(pesc_prices_wf, 'pescetarian', 'M', 'Whole Foods')"
   ]
  },
  {
   "cell_type": "code",
   "execution_count": 41,
   "id": "ec8f3de8",
   "metadata": {},
   "outputs": [
    {
     "name": "stdout",
     "output_type": "stream",
     "text": [
      "Cost of a pescetarian diet at Whole Foods for F 19-30 is $6.15 per day.\n",
      "\n",
      "\n",
      "Diet (in 100s of grams or milliliters):\n",
      "Chickpeas       3.432067\n",
      "Almond Milk     7.391906\n",
      "Oat Milk        4.800000\n",
      "Wheat Cereal    2.639425\n",
      "Bananas         3.096977\n",
      "Avocados        0.670678\n",
      "Broccoli        0.447699\n",
      "Spinach         0.025827\n",
      "dtype: float64\n",
      "\n",
      "\n",
      "With the following nutritional outcomes of interest:\n",
      "                                    Outcome  Recommendation\n",
      "Nutrition                                                  \n",
      "Energy                          2158.703776          2000.0\n",
      "Protein                           73.670203            46.0\n",
      "Fiber, total dietary              76.873032            28.0\n",
      "Folate, DFE                      400.000000           400.0\n",
      "Calcium, Ca                     2457.549494          1000.0\n",
      "Carbohydrate, by difference      409.898156           130.0\n",
      "Iron, Fe                          18.000000            18.0\n",
      "Magnesium, Mg                    659.668326           310.0\n",
      "Niacin                            20.436796            14.0\n",
      "Phosphorus, P                   2196.130586           700.0\n",
      "Potassium, K                    4700.000004          4700.0\n",
      "Riboflavin                         1.959485             1.1\n",
      "Thiamin                            1.100000             1.1\n",
      "Vitamin A, RAE                   700.000000           700.0\n",
      "Vitamin B-12                       2.400000             2.4\n",
      "Vitamin B-6                        4.363600             1.3\n",
      "Vitamin C, total ascorbic acid    75.000000            75.0\n",
      "Vitamin E (alpha-tocopherol)      24.761339            15.0\n",
      "Vitamin K (phylloquinone)         90.000000            90.0\n",
      "Zinc, Zn                          13.306822             8.0\n",
      "Sodium, Na                      1885.910672          2300.0\n",
      "\n",
      "\n",
      "Constraining nutrients are:\n",
      "['Folate, DFE', 'Iron, Fe', 'Potassium, K', 'Thiamin', 'Vitamin A, RAE', 'Vitamin B-12', 'Vitamin C, total ascorbic acid', 'Vitamin K (phylloquinone)']\n"
     ]
    }
   ],
   "source": [
    "pesc_sw_f = diet_restricted_subsistence(pesc_prices_wf, 'pescetarian', 'F', 'Whole Foods')"
   ]
  },
  {
   "cell_type": "code",
   "execution_count": 42,
   "id": "f5c9d4e6",
   "metadata": {},
   "outputs": [
    {
     "name": "stdout",
     "output_type": "stream",
     "text": [
      "Cost of diet at Trader Joe's for M 19-30 is $4.50 per day.\n",
      "\n",
      "\n",
      "Diet (in 100s of grams or milliliters):\n",
      "Peanut Butter      1.873266\n",
      "Chickpeas          1.129695\n",
      "Black Beans        1.605966\n",
      "Sliced Turkey      0.240180\n",
      "Cheddar cheese     1.051570\n",
      "Oat Milk           0.649234\n",
      "Cauliflower        1.570837\n",
      "Romaine Lettuce    1.528228\n",
      "dtype: float64\n",
      "\n",
      "\n",
      "With the following nutritional outcomes of interest:\n",
      "                                    Outcome  Recommendation\n",
      "Nutrition                                                  \n",
      "Energy                          2400.000072          2400.0\n",
      "Protein                          122.582203            56.0\n",
      "Fiber, total dietary              48.685268            33.6\n",
      "Folate, DFE                      400.000001           400.0\n",
      "Calcium, Ca                     1313.393832          1000.0\n",
      "Carbohydrate, by difference      185.833265           130.0\n",
      "Iron, Fe                          14.777537             8.0\n",
      "Magnesium, Mg                    444.764233           400.0\n",
      "Niacin                            29.238600            16.0\n",
      "Phosphorus, P                   1559.214610           700.0\n",
      "Potassium, K                    4700.000137          4700.0\n",
      "Riboflavin                         1.300000             1.3\n",
      "Thiamin                            1.492857             1.2\n",
      "Vitamin A, RAE                   900.000001           900.0\n",
      "Vitamin B-12                       2.400000             2.4\n",
      "Vitamin B-6                        2.389395             1.3\n",
      "Vitamin C, total ascorbic acid    90.000001            90.0\n",
      "Vitamin E (alpha-tocopherol)      19.398048            15.0\n",
      "Vitamin K (phylloquinone)        224.628854           120.0\n",
      "Zinc, Zn                          11.000000            11.0\n",
      "Sodium, Na                      2148.719208          2300.0\n",
      "\n",
      "\n",
      "Constraining nutrients are:\n",
      "['Energy', 'Folate, DFE', 'Riboflavin', 'Vitamin A, RAE', 'Vitamin B-12', 'Vitamin C, total ascorbic acid', 'Zinc, Zn']\n"
     ]
    }
   ],
   "source": [
    "group = 'M 19-30'\n",
    "tol = 1e-6\n",
    "\n",
    "result = solve_subsistence_problem(FoodNutrients,prices_tj,diet_min[group],diet_max[group],tol=tol)\n",
    "\n",
    "print(\"Cost of diet at Trader Joe's for %s is $%4.2f per day.\\n\" % (group,result.fun))\n",
    "\n",
    "# Put back into nice series\n",
    "diet = result.diet\n",
    "\n",
    "print(\"\\nDiet (in 100s of grams or milliliters):\")\n",
    "print(diet[diet >= tol])  # Drop items with quantities less than precision of calculation.\n",
    "print()\n",
    "\n",
    "tab = pd.DataFrame({\"Outcome\":np.abs(result.A).dot(diet),\"Recommendation\":np.abs(result.b)})\n",
    "print(\"\\nWith the following nutritional outcomes of interest:\")\n",
    "print(tab)\n",
    "print()\n",
    "\n",
    "print(\"\\nConstraining nutrients are:\")\n",
    "excess = tab.diff(axis=1).iloc[:,1]\n",
    "print(excess.loc[np.abs(excess) < tol*100].index.tolist())"
   ]
  },
  {
   "cell_type": "code",
   "execution_count": 43,
   "id": "793e60a9",
   "metadata": {},
   "outputs": [
    {
     "name": "stdout",
     "output_type": "stream",
     "text": [
      "Cost of diet at Trader Joe's for F 19-30 is $3.99 per day.\n",
      "\n",
      "\n",
      "Diet (in 100s of grams or milliliters):\n",
      "Peanut Butter      1.311644\n",
      "Chickpeas          2.907576\n",
      "Black Beans        1.636532\n",
      "Sliced Turkey      0.373079\n",
      "Almond Milk        0.942324\n",
      "Cheddar cheese     0.012023\n",
      "Oat Milk           1.789882\n",
      "Cauliflower        1.231554\n",
      "Romaine Lettuce    1.636693\n",
      "dtype: float64\n",
      "\n",
      "\n",
      "With the following nutritional outcomes of interest:\n",
      "                                    Outcome  Recommendation\n",
      "Nutrition                                                  \n",
      "Energy                          2000.000001          2000.0\n",
      "Protein                          104.641631            46.0\n",
      "Fiber, total dietary              60.163615            28.0\n",
      "Folate, DFE                      400.000000           400.0\n",
      "Calcium, Ca                     1000.000011          1000.0\n",
      "Carbohydrate, by difference      220.619218           130.0\n",
      "Iron, Fe                          18.000000            18.0\n",
      "Magnesium, Mg                    406.818392           310.0\n",
      "Niacin                            23.490565            14.0\n",
      "Phosphorus, P                   1312.362167           700.0\n",
      "Potassium, K                    4969.133881          4700.0\n",
      "Riboflavin                         1.100000             1.1\n",
      "Thiamin                            1.998103             1.1\n",
      "Vitamin A, RAE                   700.000000           700.0\n",
      "Vitamin B-12                       2.400000             2.4\n",
      "Vitamin B-6                        3.463642             1.3\n",
      "Vitamin C, total ascorbic acid    75.000000            75.0\n",
      "Vitamin E (alpha-tocopherol)      17.114279            15.0\n",
      "Vitamin K (phylloquinone)        236.983843            90.0\n",
      "Zinc, Zn                           8.000000             8.0\n",
      "Sodium, Na                      2012.390666          2300.0\n",
      "\n",
      "\n",
      "Constraining nutrients are:\n",
      "['Energy', 'Folate, DFE', 'Calcium, Ca', 'Iron, Fe', 'Riboflavin', 'Vitamin A, RAE', 'Vitamin B-12', 'Vitamin C, total ascorbic acid', 'Zinc, Zn']\n"
     ]
    }
   ],
   "source": [
    "group = 'F 19-30'\n",
    "tol = 1e-6\n",
    "\n",
    "result = solve_subsistence_problem(FoodNutrients,prices_tj,diet_min[group],diet_max[group],tol=tol)\n",
    "\n",
    "print(\"Cost of diet at Trader Joe's for %s is $%4.2f per day.\\n\" % (group,result.fun))\n",
    "\n",
    "# Put back into nice series\n",
    "diet = result.diet\n",
    "\n",
    "print(\"\\nDiet (in 100s of grams or milliliters):\")\n",
    "print(diet[diet >= tol])  # Drop items with quantities less than precision of calculation.\n",
    "print()\n",
    "\n",
    "tab = pd.DataFrame({\"Outcome\":np.abs(result.A).dot(diet),\"Recommendation\":np.abs(result.b)})\n",
    "print(\"\\nWith the following nutritional outcomes of interest:\")\n",
    "print(tab)\n",
    "print()\n",
    "\n",
    "print(\"\\nConstraining nutrients are:\")\n",
    "excess = tab.diff(axis=1).iloc[:,1]\n",
    "print(excess.loc[np.abs(excess) < tol*100].index.tolist())"
   ]
  },
  {
   "cell_type": "code",
   "execution_count": 44,
   "id": "4ced7604",
   "metadata": {},
   "outputs": [
    {
     "name": "stderr",
     "output_type": "stream",
     "text": [
      "/opt/conda/lib/python3.9/site-packages/pandas/core/dtypes/cast.py:1990: UnitStrippedWarning: The unit of the quantity is stripped when downcasting to ndarray.\n",
      "  result[:] = values\n",
      "/tmp/ipykernel_46/3294993695.py:3: SettingWithCopyWarning: \n",
      "A value is trying to be set on a copy of a slice from a DataFrame.\n",
      "Try using .loc[row_indexer,col_indexer] = value instead\n",
      "\n",
      "See the caveats in the documentation: https://pandas.pydata.org/pandas-docs/stable/user_guide/indexing.html#returning-a-view-versus-a-copy\n",
      "  df['FDC Quantity'] = df[['Quantity','Units']].T.apply(lambda x : fdc.units(x['Quantity'],x['Units']))\n",
      "/tmp/ipykernel_46/3294993695.py:6: SettingWithCopyWarning: \n",
      "A value is trying to be set on a copy of a slice from a DataFrame.\n",
      "Try using .loc[row_indexer,col_indexer] = value instead\n",
      "\n",
      "See the caveats in the documentation: https://pandas.pydata.org/pandas-docs/stable/user_guide/indexing.html#returning-a-view-versus-a-copy\n",
      "  df['FDC Price'] = df['Price']/df['FDC Quantity']\n"
     ]
    }
   ],
   "source": [
    "# Creating vegan, vegetarian, and pescetarian dfs for tj\n",
    "vegan_df_tj = diet_df(df_tj, 'Vegan (1/0)')\n",
    "veg_df_tj = diet_df(df_tj, 'Vegetarian (1/0)')\n",
    "pesc_df_tj = diet_df(df_tj, 'Pescetarian (1/0)')\n",
    "# find prices for diet restricted dfs\n",
    "vegan_prices_tj = find_unit_prices(vegan_df_tj)\n",
    "veg_prices_tj = find_unit_prices(veg_df_tj)\n",
    "pesc_prices_tj = find_unit_prices(pesc_df_tj)"
   ]
  },
  {
   "cell_type": "code",
   "execution_count": 45,
   "id": "d2d7ae00",
   "metadata": {},
   "outputs": [
    {
     "name": "stdout",
     "output_type": "stream",
     "text": [
      "Cost of a vegan diet at Trader Joe's for M 19-30 is $5.94 per day.\n",
      "\n",
      "\n",
      "Diet (in 100s of grams or milliliters):\n",
      "Peanut Butter      1.541385\n",
      "Black Beans        0.782246\n",
      "Oat Milk           4.800000\n",
      "Wheat Cereal       2.620602\n",
      "Cauliflower        1.402938\n",
      "Romaine Lettuce    2.432432\n",
      "dtype: float64\n",
      "\n",
      "\n",
      "With the following nutritional outcomes of interest:\n",
      "                                    Outcome  Recommendation\n",
      "Nutrition                                                  \n",
      "Energy                          2400.000005          2400.0\n",
      "Protein                           94.809941            56.0\n",
      "Fiber, total dietary              62.139863            33.6\n",
      "Folate, DFE                      415.024351           400.0\n",
      "Calcium, Ca                     1150.519841          1000.0\n",
      "Carbohydrate, by difference      338.461063           130.0\n",
      "Iron, Fe                          15.831849             8.0\n",
      "Magnesium, Mg                    659.079325           400.0\n",
      "Niacin                            37.716461            16.0\n",
      "Phosphorus, P                   2188.228325           700.0\n",
      "Potassium, K                    4700.000002          4700.0\n",
      "Riboflavin                         2.009030             1.3\n",
      "Thiamin                            1.200000             1.2\n",
      "Vitamin A, RAE                   900.000000           900.0\n",
      "Vitamin B-12                       2.400000             2.4\n",
      "Vitamin B-6                        1.567628             1.3\n",
      "Vitamin C, total ascorbic acid    90.000000            90.0\n",
      "Vitamin E (alpha-tocopherol)      15.527984            15.0\n",
      "Vitamin K (phylloquinone)        333.093017           120.0\n",
      "Zinc, Zn                          12.514939            11.0\n",
      "Sodium, Na                       978.291824          2300.0\n",
      "\n",
      "\n",
      "Constraining nutrients are:\n",
      "['Energy', 'Potassium, K', 'Thiamin', 'Vitamin A, RAE', 'Vitamin B-12', 'Vitamin C, total ascorbic acid']\n"
     ]
    }
   ],
   "source": [
    "vegan_tj_m = diet_restricted_subsistence(vegan_prices_tj, 'vegan', 'M', \"Trader Joe's\")"
   ]
  },
  {
   "cell_type": "code",
   "execution_count": 46,
   "id": "581e1a93",
   "metadata": {},
   "outputs": [
    {
     "name": "stdout",
     "output_type": "stream",
     "text": [
      "Cost of a vegan diet at Trader Joe's for F 19-30 is $5.43 per day.\n",
      "\n",
      "\n",
      "Diet (in 100s of grams or milliliters):\n",
      "Peanut Butter      1.439477\n",
      "Chickpeas          2.208076\n",
      "Black Beans        0.714480\n",
      "Oat Milk           4.800000\n",
      "Wheat Cereal       2.097341\n",
      "Cauliflower        1.188025\n",
      "Romaine Lettuce    1.879956\n",
      "dtype: float64\n",
      "\n",
      "\n",
      "With the following nutritional outcomes of interest:\n",
      "                                    Outcome  Recommendation\n",
      "Nutrition                                                  \n",
      "Energy                          2444.769708          2000.0\n",
      "Protein                          101.837460            46.0\n",
      "Fiber, total dietary              69.055697            28.0\n",
      "Folate, DFE                      439.362123           400.0\n",
      "Calcium, Ca                     1209.935473          1000.0\n",
      "Carbohydrate, by difference      336.992883           130.0\n",
      "Iron, Fe                          18.000000            18.0\n",
      "Magnesium, Mg                    661.743811           310.0\n",
      "Niacin                            33.384188            14.0\n",
      "Phosphorus, P                   2223.038129           700.0\n",
      "Potassium, K                    4700.000000          4700.0\n",
      "Riboflavin                         1.938373             1.1\n",
      "Thiamin                            1.100000             1.1\n",
      "Vitamin A, RAE                   700.000000           700.0\n",
      "Vitamin B-12                       2.400000             2.4\n",
      "Vitamin B-6                        3.003649             1.3\n",
      "Vitamin C, total ascorbic acid    75.000000            75.0\n",
      "Vitamin E (alpha-tocopherol)      15.000000            15.0\n",
      "Vitamin K (phylloquinone)        267.390871            90.0\n",
      "Zinc, Zn                          13.083820             8.0\n",
      "Sodium, Na                      1633.650754          2300.0\n",
      "\n",
      "\n",
      "Constraining nutrients are:\n",
      "['Iron, Fe', 'Potassium, K', 'Thiamin', 'Vitamin A, RAE', 'Vitamin B-12', 'Vitamin C, total ascorbic acid', 'Vitamin E (alpha-tocopherol)']\n"
     ]
    }
   ],
   "source": [
    "vegan_tj_f = diet_restricted_subsistence(vegan_prices_tj, 'vegan', 'F', \"Trader Joe's\")"
   ]
  },
  {
   "cell_type": "code",
   "execution_count": 47,
   "id": "74c65538",
   "metadata": {},
   "outputs": [
    {
     "name": "stdout",
     "output_type": "stream",
     "text": [
      "Cost of a vegetarian diet at Trader Joe's for M 19-30 is $5.94 per day.\n",
      "\n",
      "\n",
      "Diet (in 100s of grams or milliliters):\n",
      "Peanut Butter      1.541385\n",
      "Black Beans        0.782246\n",
      "Oat Milk           4.800000\n",
      "Wheat Cereal       2.620602\n",
      "Cauliflower        1.402938\n",
      "Romaine Lettuce    2.432432\n",
      "dtype: float64\n",
      "\n",
      "\n",
      "With the following nutritional outcomes of interest:\n",
      "                                    Outcome  Recommendation\n",
      "Nutrition                                                  \n",
      "Energy                          2400.000001          2400.0\n",
      "Protein                           94.809941            56.0\n",
      "Fiber, total dietary              62.139863            33.6\n",
      "Folate, DFE                      415.024350           400.0\n",
      "Calcium, Ca                     1150.519840          1000.0\n",
      "Carbohydrate, by difference      338.461063           130.0\n",
      "Iron, Fe                          15.831849             8.0\n",
      "Magnesium, Mg                    659.079325           400.0\n",
      "Niacin                            37.716461            16.0\n",
      "Phosphorus, P                   2188.228323           700.0\n",
      "Potassium, K                    4700.000000          4700.0\n",
      "Riboflavin                         2.009030             1.3\n",
      "Thiamin                            1.200000             1.2\n",
      "Vitamin A, RAE                   900.000000           900.0\n",
      "Vitamin B-12                       2.400000             2.4\n",
      "Vitamin B-6                        1.567628             1.3\n",
      "Vitamin C, total ascorbic acid    90.000000            90.0\n",
      "Vitamin E (alpha-tocopherol)      15.527984            15.0\n",
      "Vitamin K (phylloquinone)        333.093017           120.0\n",
      "Zinc, Zn                          12.514939            11.0\n",
      "Sodium, Na                       978.291810          2300.0\n",
      "\n",
      "\n",
      "Constraining nutrients are:\n",
      "['Energy', 'Potassium, K', 'Thiamin', 'Vitamin A, RAE', 'Vitamin B-12', 'Vitamin C, total ascorbic acid']\n"
     ]
    }
   ],
   "source": [
    "veg_tj_m = diet_restricted_subsistence(veg_prices_tj, 'vegetarian', 'M', \"Trader Joe's\")"
   ]
  },
  {
   "cell_type": "code",
   "execution_count": 48,
   "id": "15dcb339",
   "metadata": {},
   "outputs": [
    {
     "name": "stdout",
     "output_type": "stream",
     "text": [
      "Cost of a vegetarian diet at Trader Joe's for F 19-30 is $5.43 per day.\n",
      "\n",
      "\n",
      "Diet (in 100s of grams or milliliters):\n",
      "Peanut Butter      1.439531\n",
      "Chickpeas          2.208115\n",
      "Black Beans        0.714460\n",
      "Pinto Beans        0.000001\n",
      "Almond Milk        0.000003\n",
      "Oat Milk           4.800000\n",
      "Wheat Cereal       2.097307\n",
      "Potatoes           0.000001\n",
      "Bananas            0.000008\n",
      "Cauliflower        1.188022\n",
      "Romaine Lettuce    1.879955\n",
      "dtype: float64\n",
      "\n",
      "\n",
      "With the following nutritional outcomes of interest:\n",
      "                                    Outcome  Recommendation\n",
      "Nutrition                                                  \n",
      "Energy                          2444.791617          2000.0\n",
      "Protein                          101.838217            46.0\n",
      "Fiber, total dietary              69.055583            28.0\n",
      "Folate, DFE                      439.366942           400.0\n",
      "Calcium, Ca                     1209.936792          1000.0\n",
      "Carbohydrate, by difference      336.991446           130.0\n",
      "Iron, Fe                          18.000020            18.0\n",
      "Magnesium, Mg                    661.750554           310.0\n",
      "Niacin                            33.384725            14.0\n",
      "Phosphorus, P                   2223.049302           700.0\n",
      "Potassium, K                    4700.001378          4700.0\n",
      "Riboflavin                         1.938381             1.1\n",
      "Thiamin                            1.100000             1.1\n",
      "Vitamin A, RAE                   700.000056           700.0\n",
      "Vitamin B-12                       2.400000             2.4\n",
      "Vitamin B-6                        3.003700             1.3\n",
      "Vitamin C, total ascorbic acid    75.000028            75.0\n",
      "Vitamin E (alpha-tocopherol)      15.000506            15.0\n",
      "Vitamin K (phylloquinone)        267.390942            90.0\n",
      "Zinc, Zn                          13.083905             8.0\n",
      "Sodium, Na                      1633.687517          2300.0\n",
      "\n",
      "\n",
      "Constraining nutrients are:\n",
      "['Iron, Fe', 'Thiamin', 'Vitamin A, RAE', 'Vitamin B-12', 'Vitamin C, total ascorbic acid']\n"
     ]
    }
   ],
   "source": [
    "veg_tj_f = diet_restricted_subsistence(veg_prices_tj, 'vegetarian', 'F', \"Trader Joe's\")"
   ]
  },
  {
   "cell_type": "code",
   "execution_count": 49,
   "id": "af7aa24f",
   "metadata": {},
   "outputs": [
    {
     "name": "stdout",
     "output_type": "stream",
     "text": [
      "Cost of a pescetarian diet at Trader Joe's for M 19-30 is $5.94 per day.\n",
      "\n",
      "\n",
      "Diet (in 100s of grams or milliliters):\n",
      "Peanut Butter      1.541384\n",
      "Chickpeas          0.000008\n",
      "Black Beans        0.782245\n",
      "Oat Milk           4.800000\n",
      "Wheat Cereal       2.620601\n",
      "Cauliflower        1.402938\n",
      "Romaine Lettuce    2.432432\n",
      "dtype: float64\n",
      "\n",
      "\n",
      "With the following nutritional outcomes of interest:\n",
      "                                    Outcome  Recommendation\n",
      "Nutrition                                                  \n",
      "Energy                          2400.000114          2400.0\n",
      "Protein                           94.809958            56.0\n",
      "Fiber, total dietary              62.139901            33.6\n",
      "Folate, DFE                      415.024513           400.0\n",
      "Calcium, Ca                     1150.520241          1000.0\n",
      "Carbohydrate, by difference      338.461150           130.0\n",
      "Iron, Fe                          15.831860             8.0\n",
      "Magnesium, Mg                    659.079373           400.0\n",
      "Niacin                            37.716440            16.0\n",
      "Phosphorus, P                   2188.228679           700.0\n",
      "Potassium, K                    4700.000156          4700.0\n",
      "Riboflavin                         2.009030             1.3\n",
      "Thiamin                            1.200000             1.2\n",
      "Vitamin A, RAE                   900.000010           900.0\n",
      "Vitamin B-12                       2.400000             2.4\n",
      "Vitamin B-6                        1.567634             1.3\n",
      "Vitamin C, total ascorbic acid    90.000003            90.0\n",
      "Vitamin E (alpha-tocopherol)      15.527975            15.0\n",
      "Vitamin K (phylloquinone)        333.093041           120.0\n",
      "Zinc, Zn                          12.514943            11.0\n",
      "Sodium, Na                       978.294725          2300.0\n",
      "\n",
      "\n",
      "Constraining nutrients are:\n",
      "['Thiamin', 'Vitamin A, RAE', 'Vitamin B-12', 'Vitamin C, total ascorbic acid']\n"
     ]
    }
   ],
   "source": [
    "pesc_tj_m = diet_restricted_subsistence(pesc_prices_tj, 'pescetarian', 'M', \"Trader Joe's\")"
   ]
  },
  {
   "cell_type": "code",
   "execution_count": 50,
   "id": "3023a434",
   "metadata": {},
   "outputs": [
    {
     "name": "stdout",
     "output_type": "stream",
     "text": [
      "Cost of a pescetarian diet at Trader Joe's for F 19-30 is $5.43 per day.\n",
      "\n",
      "\n",
      "Diet (in 100s of grams or milliliters):\n",
      "Peanut Butter      1.439477\n",
      "Chickpeas          2.208076\n",
      "Black Beans        0.714480\n",
      "Oat Milk           4.800000\n",
      "Wheat Cereal       2.097341\n",
      "Cauliflower        1.188025\n",
      "Romaine Lettuce    1.879956\n",
      "dtype: float64\n",
      "\n",
      "\n",
      "With the following nutritional outcomes of interest:\n",
      "                                    Outcome  Recommendation\n",
      "Nutrition                                                  \n",
      "Energy                          2444.769723          2000.0\n",
      "Protein                          101.837460            46.0\n",
      "Fiber, total dietary              69.055697            28.0\n",
      "Folate, DFE                      439.362125           400.0\n",
      "Calcium, Ca                     1209.935473          1000.0\n",
      "Carbohydrate, by difference      336.992882           130.0\n",
      "Iron, Fe                          18.000000            18.0\n",
      "Magnesium, Mg                    661.743816           310.0\n",
      "Niacin                            33.384188            14.0\n",
      "Phosphorus, P                   2223.038135           700.0\n",
      "Potassium, K                    4700.000008          4700.0\n",
      "Riboflavin                         1.938373             1.1\n",
      "Thiamin                            1.100000             1.1\n",
      "Vitamin A, RAE                   700.000000           700.0\n",
      "Vitamin B-12                       2.400000             2.4\n",
      "Vitamin B-6                        3.003649             1.3\n",
      "Vitamin C, total ascorbic acid    75.000000            75.0\n",
      "Vitamin E (alpha-tocopherol)      15.000000            15.0\n",
      "Vitamin K (phylloquinone)        267.390871            90.0\n",
      "Zinc, Zn                          13.083820             8.0\n",
      "Sodium, Na                      1633.650770          2300.0\n",
      "\n",
      "\n",
      "Constraining nutrients are:\n",
      "['Iron, Fe', 'Potassium, K', 'Thiamin', 'Vitamin A, RAE', 'Vitamin B-12', 'Vitamin C, total ascorbic acid', 'Vitamin E (alpha-tocopherol)']\n"
     ]
    }
   ],
   "source": [
    "pesc_tj_f = diet_restricted_subsistence(pesc_prices_tj, 'pescetarian', 'F', \"Trader Joe's\")"
   ]
  },
  {
   "cell_type": "markdown",
   "id": "28e163b9",
   "metadata": {},
   "source": [
    "## Survey Data \n",
    "### Guide for identifying our Central Resarch question"
   ]
  },
  {
   "cell_type": "code",
   "execution_count": 51,
   "id": "4d64f947",
   "metadata": {},
   "outputs": [
    {
     "name": "stdout",
     "output_type": "stream",
     "text": [
      "Requirement already satisfied: eep153_tools in /opt/conda/lib/python3.9/site-packages (0.11)\n",
      "Collecting python_gnupg\n",
      "  Using cached python_gnupg-0.4.8-py2.py3-none-any.whl (18 kB)\n",
      "Installing collected packages: python-gnupg\n",
      "Successfully installed python-gnupg-0.4.8\n"
     ]
    }
   ],
   "source": [
    "!pip install eep153_tools\n",
    "!pip install python_gnupg\n",
    "\n",
    "from eep153_tools.sheets import decrypt_credentials\n",
    "#decrypt_credentials('../students.json.gpg')"
   ]
  },
  {
   "cell_type": "code",
   "execution_count": 52,
   "id": "03cf42ee",
   "metadata": {},
   "outputs": [],
   "source": [
    "import matplotlib.pyplot as plt\n",
    "from  scipy.optimize import linprog as lp\n",
    "import numpy as np\n",
    "import warnings\n",
    "import pandas as pd\n",
    "\n",
    "from eep153_tools.sheets import read_sheets\n",
    "SHEET = [(\"https://docs.google.com/spreadsheets/d/1aI1wYbJ1LY-en_B9wt1kHJ0CB9Hh6QibausCN5l6FlA/edit?usp=sharing\",\"Form Responses 1\")]"
   ]
  },
  {
   "cell_type": "code",
   "execution_count": 53,
   "id": "29c442c1",
   "metadata": {},
   "outputs": [
    {
     "name": "stdout",
     "output_type": "stream",
     "text": [
      "Key available for students@eep153.iam.gserviceaccount.com.\n"
     ]
    }
   ],
   "source": [
    "df_survey = read_sheets(SHEET[0][0])[SHEET[0][1]]"
   ]
  },
  {
   "cell_type": "code",
   "execution_count": 54,
   "id": "ff9a93f4",
   "metadata": {},
   "outputs": [
    {
     "data": {
      "text/html": [
       "<div>\n",
       "<style scoped>\n",
       "    .dataframe tbody tr th:only-of-type {\n",
       "        vertical-align: middle;\n",
       "    }\n",
       "\n",
       "    .dataframe tbody tr th {\n",
       "        vertical-align: top;\n",
       "    }\n",
       "\n",
       "    .dataframe thead th {\n",
       "        text-align: right;\n",
       "    }\n",
       "</style>\n",
       "<table border=\"1\" class=\"dataframe\">\n",
       "  <thead>\n",
       "    <tr style=\"text-align: right;\">\n",
       "      <th></th>\n",
       "      <th>Timestamp</th>\n",
       "      <th>Score</th>\n",
       "      <th>What is your preferred diet?</th>\n",
       "      <th>Where do you grocery shop the most in Berkeley?</th>\n",
       "      <th>How much do you spend on an average grocery-shopping trip?</th>\n",
       "      <th>How many times per week do you go grocery shopping?</th>\n",
       "    </tr>\n",
       "  </thead>\n",
       "  <tbody>\n",
       "    <tr>\n",
       "      <th>0</th>\n",
       "      <td>2/28/2022 17:22:24</td>\n",
       "      <td>NaN</td>\n",
       "      <td>Omnivorous</td>\n",
       "      <td>Berkeley Bowl</td>\n",
       "      <td>$ 100 +</td>\n",
       "      <td>1.0</td>\n",
       "    </tr>\n",
       "    <tr>\n",
       "      <th>1</th>\n",
       "      <td>2/28/2022 17:22:29</td>\n",
       "      <td>NaN</td>\n",
       "      <td>Omnivorous</td>\n",
       "      <td>Trader Joe's</td>\n",
       "      <td>$ 0 - 20</td>\n",
       "      <td>1.0</td>\n",
       "    </tr>\n",
       "    <tr>\n",
       "      <th>2</th>\n",
       "      <td>2/28/2022 17:22:46</td>\n",
       "      <td>NaN</td>\n",
       "      <td>Vegetarian</td>\n",
       "      <td>Trader Joe's</td>\n",
       "      <td>$ 60 - 80</td>\n",
       "      <td>1.0</td>\n",
       "    </tr>\n",
       "    <tr>\n",
       "      <th>3</th>\n",
       "      <td>2/28/2022 17:22:51</td>\n",
       "      <td>NaN</td>\n",
       "      <td>Omnivorous</td>\n",
       "      <td>Trader Joe's</td>\n",
       "      <td>$ 40 - 60</td>\n",
       "      <td>1.0</td>\n",
       "    </tr>\n",
       "    <tr>\n",
       "      <th>4</th>\n",
       "      <td>2/28/2022 17:23:42</td>\n",
       "      <td>NaN</td>\n",
       "      <td>Omnivorous</td>\n",
       "      <td>Trader Joe's</td>\n",
       "      <td>$ 100 +</td>\n",
       "      <td>1.0</td>\n",
       "    </tr>\n",
       "    <tr>\n",
       "      <th>...</th>\n",
       "      <td>...</td>\n",
       "      <td>...</td>\n",
       "      <td>...</td>\n",
       "      <td>...</td>\n",
       "      <td>...</td>\n",
       "      <td>...</td>\n",
       "    </tr>\n",
       "    <tr>\n",
       "      <th>82</th>\n",
       "      <td>3/1/2022 20:49:14</td>\n",
       "      <td>NaN</td>\n",
       "      <td>Omnivorous</td>\n",
       "      <td>Trader Joe's</td>\n",
       "      <td>$ 40 - 60</td>\n",
       "      <td>2.0</td>\n",
       "    </tr>\n",
       "    <tr>\n",
       "      <th>83</th>\n",
       "      <td>3/1/2022 22:26:14</td>\n",
       "      <td>NaN</td>\n",
       "      <td>Omnivorous</td>\n",
       "      <td>Trader Joe's</td>\n",
       "      <td>$ 80 - 100</td>\n",
       "      <td>1.0</td>\n",
       "    </tr>\n",
       "    <tr>\n",
       "      <th>84</th>\n",
       "      <td>3/2/2022 18:35:35</td>\n",
       "      <td>NaN</td>\n",
       "      <td>Omnivorous</td>\n",
       "      <td>Trader Joe's</td>\n",
       "      <td>$ 80 - 100</td>\n",
       "      <td>1.0</td>\n",
       "    </tr>\n",
       "    <tr>\n",
       "      <th>85</th>\n",
       "      <td>3/2/2022 20:36:39</td>\n",
       "      <td>NaN</td>\n",
       "      <td>Omnivorous</td>\n",
       "      <td>Trader Joe's</td>\n",
       "      <td>$ 20 - 40</td>\n",
       "      <td>1.0</td>\n",
       "    </tr>\n",
       "    <tr>\n",
       "      <th>86</th>\n",
       "      <td>3/8/2022 8:37:59</td>\n",
       "      <td>NaN</td>\n",
       "      <td>Pescatarian</td>\n",
       "      <td>Safeway</td>\n",
       "      <td>$ 40 - 60</td>\n",
       "      <td>1.0</td>\n",
       "    </tr>\n",
       "  </tbody>\n",
       "</table>\n",
       "<p>87 rows × 6 columns</p>\n",
       "</div>"
      ],
      "text/plain": [
       "             Timestamp  Score What is your preferred diet?  \\\n",
       "0   2/28/2022 17:22:24    NaN                   Omnivorous   \n",
       "1   2/28/2022 17:22:29    NaN                   Omnivorous   \n",
       "2   2/28/2022 17:22:46    NaN                   Vegetarian   \n",
       "3   2/28/2022 17:22:51    NaN                   Omnivorous   \n",
       "4   2/28/2022 17:23:42    NaN                   Omnivorous   \n",
       "..                 ...    ...                          ...   \n",
       "82   3/1/2022 20:49:14    NaN                   Omnivorous   \n",
       "83   3/1/2022 22:26:14    NaN                   Omnivorous   \n",
       "84   3/2/2022 18:35:35    NaN                   Omnivorous   \n",
       "85   3/2/2022 20:36:39    NaN                   Omnivorous   \n",
       "86    3/8/2022 8:37:59    NaN                  Pescatarian   \n",
       "\n",
       "   Where do you grocery shop the most in Berkeley?  \\\n",
       "0                                    Berkeley Bowl   \n",
       "1                                     Trader Joe's   \n",
       "2                                     Trader Joe's   \n",
       "3                                     Trader Joe's   \n",
       "4                                     Trader Joe's   \n",
       "..                                             ...   \n",
       "82                                    Trader Joe's   \n",
       "83                                    Trader Joe's   \n",
       "84                                    Trader Joe's   \n",
       "85                                    Trader Joe's   \n",
       "86                                         Safeway   \n",
       "\n",
       "   How much do you spend on an average grocery-shopping trip?  \\\n",
       "0                                             $ 100 +           \n",
       "1                                            $ 0 - 20           \n",
       "2                                           $ 60 - 80           \n",
       "3                                           $ 40 - 60           \n",
       "4                                             $ 100 +           \n",
       "..                                                ...           \n",
       "82                                          $ 40 - 60           \n",
       "83                                         $ 80 - 100           \n",
       "84                                         $ 80 - 100           \n",
       "85                                          $ 20 - 40           \n",
       "86                                          $ 40 - 60           \n",
       "\n",
       "    How many times per week do you go grocery shopping?  \n",
       "0                                                 1.0    \n",
       "1                                                 1.0    \n",
       "2                                                 1.0    \n",
       "3                                                 1.0    \n",
       "4                                                 1.0    \n",
       "..                                                ...    \n",
       "82                                                2.0    \n",
       "83                                                1.0    \n",
       "84                                                1.0    \n",
       "85                                                1.0    \n",
       "86                                                1.0    \n",
       "\n",
       "[87 rows x 6 columns]"
      ]
     },
     "execution_count": 54,
     "metadata": {},
     "output_type": "execute_result"
    }
   ],
   "source": [
    "df_survey"
   ]
  },
  {
   "cell_type": "code",
   "execution_count": 55,
   "id": "6fa56c74",
   "metadata": {},
   "outputs": [],
   "source": [
    "def change_df_col_to_int(df, col):\n",
    "   # df[col] = df[col].dropna()\n",
    "    df[col] = df[col].str.replace('$', '')\n",
    "    df[col] = df[col].astype(float)\n",
    "    return df"
   ]
  },
  {
   "cell_type": "code",
   "execution_count": 56,
   "id": "85388254",
   "metadata": {},
   "outputs": [
    {
     "data": {
      "text/plain": [
       "1.0    78\n",
       "2.0     5\n",
       "4.0     2\n",
       "3.0     1\n",
       "Name: How many times per week do you go grocery shopping?, dtype: int64"
      ]
     },
     "execution_count": 56,
     "metadata": {},
     "output_type": "execute_result"
    }
   ],
   "source": [
    "df_survey['How many times per week do you go grocery shopping?'].value_counts()"
   ]
  },
  {
   "cell_type": "code",
   "execution_count": 57,
   "id": "0cab126a",
   "metadata": {},
   "outputs": [
    {
     "data": {
      "image/png": "[encoded data removed]",
      "text/plain": [
       "<Figure size 720x360 with 1 Axes>"
      ]
     },
     "metadata": {
      "needs_background": "light"
     },
     "output_type": "display_data"
    }
   ],
   "source": [
    "GroceryShopping_dict = {'Once a Week':77, 'Twice a Week':5, 'Three times a Week':1, 'Four Times a Week': 2}\n",
    "frequency_of_shopping = list(GroceryShopping_dict.keys())\n",
    "values = list(GroceryShopping_dict.values())\n",
    "fig_GroceryShopping_Freq = plt.figure(figsize = (10, 5))\n",
    "\n",
    "# Bar plot\n",
    "plt.bar(frequency_of_shopping, values, color ='green',\n",
    "        width = 0.5)\n",
    "plt.xlabel(\"Grocery Shop Trips Per Week\")\n",
    "plt.ylabel(\"Number of Respondents\")\n",
    "plt.title(\"How many times per week do you go grocery shopping?\")\n",
    "plt.show()"
   ]
  },
  {
   "cell_type": "code",
   "execution_count": 58,
   "id": "834078d7",
   "metadata": {},
   "outputs": [
    {
     "data": {
      "text/plain": [
       "$ 20 - 40     33\n",
       "$ 40 - 60     26\n",
       "$ 60 - 80     12\n",
       "$ 80 - 100     7\n",
       "$ 100 +        5\n",
       "$ 0 - 20       3\n",
       "               1\n",
       "Name: How much do you spend on an average grocery-shopping trip?, dtype: int64"
      ]
     },
     "execution_count": 58,
     "metadata": {},
     "output_type": "execute_result"
    }
   ],
   "source": [
    "df_survey['How much do you spend on an average grocery-shopping trip?'].value_counts()"
   ]
  },
  {
   "cell_type": "code",
   "execution_count": 59,
   "id": "36f715e8",
   "metadata": {},
   "outputs": [
    {
     "data": {
      "image/png": "[encoded data removed]",
      "text/plain": [
       "<Figure size 720x360 with 1 Axes>"
      ]
     },
     "metadata": {
      "needs_background": "light"
     },
     "output_type": "display_data"
    }
   ],
   "source": [
    "GrocerySpending_dict = {'$ 0 - 20':3, '$ 20 - 40 ':33, '$ 40 - 60':25, '$ 60 - 80':12, '$ 80 - 100':7, '$ 100 +':5}\n",
    "spending_per_shopping = list(GrocerySpending_dict.keys())\n",
    "values = list(GrocerySpending_dict.values())\n",
    "fig_GrocerySpending_Per = plt.figure(figsize = (10, 5))\n",
    "\n",
    "# Bar plot\n",
    "plt.bar(spending_per_shopping, values, color = ['green','blue', 'red', 'purple', 'orange', 'brown']\n",
    "        , width = 0.5)\n",
    "\n",
    "plt.xlabel(\"Approx Grocery Spending Per Trip\")\n",
    "plt.ylabel(\"Number of Respondents\")\n",
    "plt.title(\"How much do you spend on an average grocery-shopping trip?\")\n",
    "plt.show()"
   ]
  },
  {
   "cell_type": "code",
   "execution_count": 60,
   "id": "b004aef2",
   "metadata": {},
   "outputs": [
    {
     "data": {
      "text/plain": [
       "Trader Joe's     59\n",
       "Safeway          15\n",
       "Berkeley Bowl    11\n",
       "Whole Foods       2\n",
       "Name: Where do you grocery shop the most in Berkeley?, dtype: int64"
      ]
     },
     "execution_count": 60,
     "metadata": {},
     "output_type": "execute_result"
    }
   ],
   "source": [
    "df_survey['Where do you grocery shop the most in Berkeley?'].value_counts()"
   ]
  },
  {
   "cell_type": "code",
   "execution_count": 61,
   "id": "706fe900",
   "metadata": {},
   "outputs": [],
   "source": [
    "tj_percent = (59/86)*100\n",
    "safeway_percent = (14/86)*100\n",
    "bb_percent= (11/86)*100\n",
    "wf_percent = (2/86)*100"
   ]
  },
  {
   "cell_type": "code",
   "execution_count": 62,
   "id": "66bc8737",
   "metadata": {},
   "outputs": [
    {
     "data": {
      "image/png": "[encoded data removed]",
      "text/plain": [
       "<Figure size 432x288 with 1 Axes>"
      ]
     },
     "metadata": {},
     "output_type": "display_data"
    }
   ],
   "source": [
    "# Pie chart, where the slices will be ordered and plotted counter-clockwise:\n",
    "labels = 'Trader Joes', 'Safeway', 'Berkeley Bowl', 'Whole Foods'\n",
    "sizes = [tj_percent, safeway_percent, bb_percent, wf_percent]\n",
    "explode = (0.1, 0, 0, 0)  # only \"explode\" the 1st slice Trader Joes\n",
    "\n",
    "fig1, ax1 = plt.subplots()\n",
    "ax1.pie(sizes, explode=explode, labels=labels, autopct='%1.1f%%',\n",
    "        shadow=True, startangle=90)\n",
    "ax1.axis('equal')  # Equal aspect ratio ensures that pie is drawn as a circle.\n",
    "plt.title(\"Where do you grocery shop the most in Berkeley?\")\n",
    "plt.show()"
   ]
  },
  {
   "cell_type": "code",
   "execution_count": 63,
   "id": "33f4ddb0",
   "metadata": {},
   "outputs": [
    {
     "data": {
      "text/plain": [
       "Omnivorous     66\n",
       "Vegetarian     14\n",
       "Pescatarian     4\n",
       "Vegan           3\n",
       "Name: What is your preferred diet?, dtype: int64"
      ]
     },
     "execution_count": 63,
     "metadata": {},
     "output_type": "execute_result"
    }
   ],
   "source": [
    "df_survey['What is your preferred diet?'].value_counts()"
   ]
  },
  {
   "cell_type": "code",
   "execution_count": 64,
   "id": "0b286052",
   "metadata": {},
   "outputs": [],
   "source": [
    "om_percent = (66/86)*100\n",
    "veget_percent = (14/86)*100\n",
    "vegan_percent= (3/86)*100\n",
    "pesc_percent = (3/86)*100"
   ]
  },
  {
   "cell_type": "code",
   "execution_count": 65,
   "id": "77fdbb9e",
   "metadata": {},
   "outputs": [
    {
     "data": {
      "image/png": "[encoded data removed]",
      "text/plain": [
       "<Figure size 432x288 with 1 Axes>"
      ]
     },
     "metadata": {},
     "output_type": "display_data"
    }
   ],
   "source": [
    "labels_diet = 'Omnivorous', 'Vegetarian', 'Vegan', 'Pescatarian'\n",
    "sizes_diet = [om_percent, veget_percent, vegan_percent, pesc_percent]\n",
    "explode_diet = (0.1, 0, 0, 0)  # only \"explode\" the 1st slice Trader Joes\n",
    "\n",
    "fig1, ax1 = plt.subplots()\n",
    "ax1.pie(sizes, explode=explode_diet, labels=labels_diet, autopct='%1.1f%%',\n",
    "        shadow=True, startangle=90)\n",
    "ax1.axis('equal')  # Equal aspect ratio ensures that pie is drawn as a circle.\n",
    "plt.title(\"What is your preferred diet?\")\n",
    "plt.show()"
   ]
  },
  {
   "cell_type": "markdown",
   "id": "22bae65d",
   "metadata": {},
   "source": [
    "## [C]Sensitivity Analysis\n",
    "As prices change, we should expect the minimum cost diet to also change. The code below creates a graph which changes prices away from the `base’ case one food at a time, and plots changes in total diet cost. We see that increases in price have a relatively lower impact (increase) on total diet cost compared to a decrease in price. For example, if there were discounts one week, it would most likely have a pretty large impact on the cost of the total diet. We find that cheddar cheese is very sensitive to price, while sliced turkey is sensitive to increases and jalapenos are sensitive to decreases."
   ]
  },
  {
   "cell_type": "code",
   "execution_count": 66,
   "id": "22a42f35",
   "metadata": {},
   "outputs": [
    {
     "name": "stderr",
     "output_type": "stream",
     "text": [
      "/opt/conda/lib/python3.9/site-packages/geopandas/_compat.py:111: UserWarning:\n",
      "\n",
      "The Shapely GEOS version (3.10.2-CAPI-1.16.0) is incompatible with the GEOS version PyGEOS was compiled with (3.10.1-CAPI-1.16.0). Conversions between both will be slow.\n",
      "\n"
     ]
    },
    {
     "data": {
      "text/html": [
       "        <script type=\"text/javascript\">\n",
       "        window.PlotlyConfig = {MathJaxConfig: 'local'};\n",
       "        if (window.MathJax) {MathJax.Hub.Config({SVG: {font: \"STIX-Web\"}});}\n",
       "        if (typeof require !== 'undefined') {\n",
       "        require.undef(\"plotly\");\n",
       "        requirejs.config({\n",
       "            paths: {\n",
       "                'plotly': ['https://cdn.plot.ly/plotly-2.3.1.min']\n",
       "            }\n",
       "        });\n",
       "        require(['plotly'], function(Plotly) {\n",
       "            window._Plotly = Plotly;\n",
       "        });\n",
       "        }\n",
       "        </script>\n",
       "        "
      ]
     },
     "metadata": {},
     "output_type": "display_data"
    },
    {
     "data": {
      "application/vnd.plotly.v1+json": {
       "config": {
        "linkText": "Export to plot.ly",
        "plotlyServerURL": "https://plot.ly",
        "showLink": true
       },
       "data": [
        {
         "line": {
          "color": "rgba(255, 153, 51, 1.0)",
          "dash": "solid",
          "shape": "linear",
          "width": 1.3
         },
         "mode": "lines",
         "name": "Chicken breast",
         "text": "",
         "type": "scatter",
         "x": [
          -0.6931471805599453,
          -0.5108256237659907,
          -0.35667494393873245,
          -0.2231435513142097,
          -0.10536051565782628,
          0,
          0.09531017980432493,
          0.1823215567939546,
          0.26236426446749106,
          0.3364722366212129,
          0.4054651081081644
         ],
         "y": [
          -3.766463156794814e-08,
          -3.607691743808071e-08,
          -3.0064592268032294e-08,
          -1.8180297210850704e-08,
          -4.281938923719586e-09,
          0,
          -3.290032200840416e-08,
          2.4301504009494093e-07,
          -1.7287945224931328e-08,
          1.0998072491891647e-07,
          2.0139736959578286e-07
         ]
        },
        {
         "line": {
          "color": "rgba(55, 128, 191, 1.0)",
          "dash": "solid",
          "shape": "linear",
          "width": 1.3
         },
         "mode": "lines",
         "name": "Chicken thigh",
         "text": "",
         "type": "scatter",
         "x": [
          -0.6931471805599453,
          -0.5108256237659907,
          -0.35667494393873245,
          -0.2231435513142097,
          -0.10536051565782628,
          0,
          0.09531017980432493,
          0.1823215567939546,
          0.26236426446749106,
          0.3364722366212129,
          0.4054651081081644
         ],
         "y": [
          7.924389113477505e-09,
          1.197405582940326e-07,
          1.1607382669724939e-07,
          -3.0222624415723266e-08,
          -3.793608255101987e-08,
          0,
          -1.1540132471817325e-08,
          -2.9504799261618514e-08,
          -3.6956457577611024e-08,
          -3.813840327445204e-08,
          2.043249542871957e-07
         ]
        },
        {
         "line": {
          "color": "rgba(50, 171, 96, 1.0)",
          "dash": "solid",
          "shape": "linear",
          "width": 1.3
         },
         "mode": "lines",
         "name": "Ground Beef",
         "text": "",
         "type": "scatter",
         "x": [
          -0.6931471805599453,
          -0.5108256237659907,
          -0.35667494393873245,
          -0.2231435513142097,
          -0.10536051565782628,
          0,
          0.09531017980432493,
          0.1823215567939546,
          0.26236426446749106,
          0.3364722366212129,
          0.4054651081081644
         ],
         "y": [
          -3.827487544656679e-08,
          -3.774458539230418e-08,
          -3.484872440277205e-08,
          -2.350968458677141e-08,
          -5.6717029012079706e-09,
          0,
          -3.7684679865059836e-08,
          -1.9367159508259074e-08,
          8.30309562162628e-08,
          1.7458803832924283e-07,
          1.4557447475916225e-07
         ]
        },
        {
         "line": {
          "color": "rgba(128, 0, 128, 1.0)",
          "dash": "solid",
          "shape": "linear",
          "width": 1.3
         },
         "mode": "lines",
         "name": "Eggs",
         "text": "",
         "type": "scatter",
         "x": [
          -0.6931471805599453,
          -0.5108256237659907,
          -0.35667494393873245,
          -0.2231435513142097,
          -0.10536051565782628,
          0,
          0.09531017980432493,
          0.1823215567939546,
          0.26236426446749106,
          0.3364722366212129,
          0.4054651081081644
         ],
         "y": [
          4.08796944671009e-07,
          1.0201753077070834e-07,
          1.4365229595456543e-07,
          -7.35383945333345e-09,
          -3.756937487294124e-08,
          0,
          -1.3648697487651719e-08,
          -3.1708045359115605e-08,
          -3.750334679856386e-08,
          -3.8299759653326575e-08,
          -3.836743396652062e-08
         ]
        },
        {
         "line": {
          "color": "rgba(219, 64, 82, 1.0)",
          "dash": "solid",
          "shape": "linear",
          "width": 1.3
         },
         "mode": "lines",
         "name": "Peanut Butter",
         "text": "",
         "type": "scatter",
         "x": [
          -0.6931471805599453,
          -0.5108256237659907,
          -0.35667494393873245,
          -0.2231435513142097,
          -0.10536051565782628,
          0,
          0.09531017980432493,
          0.1823215567939546,
          0.26236426446749106,
          0.3364722366212129,
          0.4054651081081644
         ],
         "y": [
          -0.1398949327680565,
          -0.08470505501927732,
          -0.05967243504716673,
          -0.03938299515883115,
          -0.019497240132654074,
          0,
          0.009575648542467724,
          0.009575648567360335,
          0.00957612069354138,
          0.009575648527239874,
          0.009576239014999589
         ]
        },
        {
         "line": {
          "color": "rgba(0, 128, 128, 1.0)",
          "dash": "solid",
          "shape": "linear",
          "width": 1.3
         },
         "mode": "lines",
         "name": "Chickpeas",
         "text": "",
         "type": "scatter",
         "x": [
          -0.6931471805599453,
          -0.5108256237659907,
          -0.35667494393873245,
          -0.2231435513142097,
          -0.10536051565782628,
          0,
          0.09531017980432493,
          0.1823215567939546,
          0.26236426446749106,
          0.3364722366212129,
          0.4054651081081644
         ],
         "y": [
          -3.7893772283014124e-08,
          -3.8304743888764234e-08,
          -3.7749113326058725e-08,
          2.676468344048762e-07,
          1.2438024147601969e-07,
          0,
          -3.799283448965801e-08,
          -3.8315429341696403e-08,
          -3.835073698874589e-08,
          9.16767209357291e-07,
          1.2530530256412307e-06
         ]
        },
        {
         "line": {
          "color": "rgba(255, 255, 51, 1.0)",
          "dash": "solid",
          "shape": "linear",
          "width": 1.3
         },
         "mode": "lines",
         "name": "Tofu",
         "text": "",
         "type": "scatter",
         "x": [
          -0.6931471805599453,
          -0.5108256237659907,
          -0.35667494393873245,
          -0.2231435513142097,
          -0.10536051565782628,
          0,
          0.09531017980432493,
          0.1823215567939546,
          0.26236426446749106,
          0.3364722366212129,
          0.4054651081081644
         ],
         "y": [
          -3.71816845341628e-08,
          1.0013293656926431e-06,
          -3.4445330959024746e-08,
          3.158119748851185e-07,
          1.3039441497959854e-07,
          0,
          -3.8337967869160844e-08,
          4.470418712984221e-08,
          4.9058579994042084e-08,
          -1.102243963376949e-09,
          -1.03056275156176e-08
         ]
        },
        {
         "line": {
          "color": "rgba(128, 128, 0, 1.0)",
          "dash": "solid",
          "shape": "linear",
          "width": 1.3
         },
         "mode": "lines",
         "name": "Pork Loin (Pork Loin Chop)",
         "text": "",
         "type": "scatter",
         "x": [
          -0.6931471805599453,
          -0.5108256237659907,
          -0.35667494393873245,
          -0.2231435513142097,
          -0.10536051565782628,
          0,
          0.09531017980432493,
          0.1823215567939546,
          0.26236426446749106,
          0.3364722366212129,
          0.4054651081081644
         ],
         "y": [
          1.1139031608232094e-06,
          1.0905323046865838e-06,
          3.7383477920048537e-07,
          1.2549220763391324e-07,
          -3.773157957316909e-08,
          0,
          -1.0515804060642081e-08,
          -3.563769165546287e-08,
          1.3662471727220901e-08,
          -3.2031764087930394e-08,
          -3.8196589954371185e-08
         ]
        },
        {
         "line": {
          "color": "rgba(251, 128, 114, 1.0)",
          "dash": "solid",
          "shape": "linear",
          "width": 1.3
         },
         "mode": "lines",
         "name": "Ground Pork",
         "text": "",
         "type": "scatter",
         "x": [
          -0.6931471805599453,
          -0.5108256237659907,
          -0.35667494393873245,
          -0.2231435513142097,
          -0.10536051565782628,
          0,
          0.09531017980432493,
          0.1823215567939546,
          0.26236426446749106,
          0.3364722366212129,
          0.4054651081081644
         ],
         "y": [
          5.628879346775881e-09,
          9.007439198361347e-09,
          7.185798374937212e-09,
          4.8527830525049684e-09,
          2.640405890441906e-09,
          0,
          -7.46374487224746e-09,
          -2.74789884625198e-08,
          -2.8422391067168072e-08,
          1.1654542429221846e-07,
          -3.070948775798738e-08
         ]
        },
        {
         "line": {
          "color": "rgba(128, 177, 211, 1.0)",
          "dash": "solid",
          "shape": "linear",
          "width": 1.3
         },
         "mode": "lines",
         "name": "Ground Turkey",
         "text": "",
         "type": "scatter",
         "x": [
          -0.6931471805599453,
          -0.5108256237659907,
          -0.35667494393873245,
          -0.2231435513142097,
          -0.10536051565782628,
          0,
          0.09531017980432493,
          0.1823215567939546,
          0.26236426446749106,
          0.3364722366212129,
          0.4054651081081644
         ],
         "y": [
          5.003474511073134e-09,
          4.579418167511251e-09,
          3.879249358654495e-09,
          2.9174089768067707e-09,
          1.7831689442448998e-09,
          0,
          -5.488193026220679e-09,
          -2.269732605421217e-08,
          -3.835026902972307e-08,
          1.1511515433332873e-07,
          -9.506000435776802e-10
         ]
        },
        {
         "line": {
          "color": "rgba(128, 177, 211, 0.8999999999999999)",
          "dash": "solid",
          "shape": "linear",
          "width": 1.3
         },
         "mode": "lines",
         "name": "Black Beans",
         "text": "",
         "type": "scatter",
         "x": [
          -0.6931471805599453,
          -0.5108256237659907,
          -0.35667494393873245,
          -0.2231435513142097,
          -0.10536051565782628,
          0,
          0.09531017980432493,
          0.1823215567939546,
          0.26236426446749106,
          0.3364722366212129,
          0.4054651081081644
         ],
         "y": [
          -0.04465255790008762,
          -0.027853149623957994,
          -0.019002389269075298,
          -0.012628056606915329,
          -0.006293213343886379,
          0,
          0.0062546754553164585,
          0.012471573397100153,
          0.01864981811652772,
          0.02472845559965787,
          0.03053643930319979
         ]
        },
        {
         "line": {
          "color": "rgba(255, 153, 51, 0.8999999999999999)",
          "dash": "solid",
          "shape": "linear",
          "width": 1.3
         },
         "mode": "lines",
         "name": "Pinto Beans",
         "text": "",
         "type": "scatter",
         "x": [
          -0.6931471805599453,
          -0.5108256237659907,
          -0.35667494393873245,
          -0.2231435513142097,
          -0.10536051565782628,
          0,
          0.09531017980432493,
          0.1823215567939546,
          0.26236426446749106,
          0.3364722366212129,
          0.4054651081081644
         ],
         "y": [
          -0.03184596168038247,
          -0.025395127650331195,
          -0.018985639142774454,
          -0.012616971263518937,
          -0.006287843651352187,
          0,
          0.006249235960034972,
          0.012460588573848595,
          0.01863187952519271,
          0.024767716611757824,
          0.03086294530769962
         ]
        },
        {
         "line": {
          "color": "rgba(55, 128, 191, 0.8999999999999999)",
          "dash": "solid",
          "shape": "linear",
          "width": 1.3
         },
         "mode": "lines",
         "name": "Lentils",
         "text": "",
         "type": "scatter",
         "x": [
          -0.6931471805599453,
          -0.5108256237659907,
          -0.35667494393873245,
          -0.2231435513142097,
          -0.10536051565782628,
          0,
          0.09531017980432493,
          0.1823215567939546,
          0.26236426446749106,
          0.3364722366212129,
          0.4054651081081644
         ],
         "y": [
          2.0855985387708794e-08,
          1.2958964262087436e-08,
          6.8749790068807045e-09,
          4.080275664566496e-09,
          2.630170744404859e-09,
          0,
          -1.3820545914391552e-08,
          -3.796247555091897e-08,
          2.220617130089987e-07,
          -3.120240359251841e-08,
          1.8927252696990407e-08
         ]
        },
        {
         "line": {
          "color": "rgba(50, 171, 96, 0.8999999999999999)",
          "dash": "solid",
          "shape": "linear",
          "width": 1.3
         },
         "mode": "lines",
         "name": "Sliced Turkey",
         "text": "",
         "type": "scatter",
         "x": [
          -0.6931471805599453,
          -0.5108256237659907,
          -0.35667494393873245,
          -0.2231435513142097,
          -0.10536051565782628,
          0,
          0.09531017980432493,
          0.1823215567939546,
          0.26236426446749106,
          0.3364722366212129,
          0.4054651081081644
         ],
         "y": [
          -0.10756421625129542,
          -0.08510497925109335,
          -0.06313948443916045,
          -0.0416470992154807,
          -0.02060667819787946,
          0,
          0.020191553076856574,
          0.03998235233679058,
          0.059389656971752164,
          0.07473670083093543,
          0.08116812303758726
         ]
        },
        {
         "line": {
          "color": "rgba(128, 0, 128, 0.8999999999999999)",
          "dash": "solid",
          "shape": "linear",
          "width": 1.3
         },
         "mode": "lines",
         "name": "Sliced Ham",
         "text": "",
         "type": "scatter",
         "x": [
          -0.6931471805599453,
          -0.5108256237659907,
          -0.35667494393873245,
          -0.2231435513142097,
          -0.10536051565782628,
          0,
          0.09531017980432493,
          0.1823215567939546,
          0.26236426446749106,
          0.3364722366212129,
          0.4054651081081644
         ],
         "y": [
          -3.8264855794408394e-08,
          -3.8268406176754705e-08,
          -3.833736246452231e-08,
          7.516465533973489e-07,
          -3.312895057648022e-08,
          0,
          2.559251022773964e-08,
          8.95942513344816e-08,
          1.992772630416548e-07,
          -7.253147775379671e-09,
          -3.757033044193444e-08
         ]
        },
        {
         "line": {
          "color": "rgba(219, 64, 82, 0.8999999999999999)",
          "dash": "solid",
          "shape": "linear",
          "width": 1.3
         },
         "mode": "lines",
         "name": "Salmon",
         "text": "",
         "type": "scatter",
         "x": [
          -0.6931471805599453,
          -0.5108256237659907,
          -0.35667494393873245,
          -0.2231435513142097,
          -0.10536051565782628,
          0,
          0.09531017980432493,
          0.1823215567939546,
          0.26236426446749106,
          0.3364722366212129,
          0.4054651081081644
         ],
         "y": [
          3.911552238709334e-07,
          2.923454153309667e-07,
          -2.017821918817031e-08,
          1.3669293006950747e-07,
          1.1174081597529206e-08,
          0,
          6.612815032292645e-08,
          1.3097549625687584e-08,
          -3.8379058113056804e-08,
          -3.4870031914825726e-08,
          -3.794195185628453e-08
         ]
        },
        {
         "line": {
          "color": "rgba(0, 128, 128, 0.8999999999999999)",
          "dash": "solid",
          "shape": "linear",
          "width": 1.3
         },
         "mode": "lines",
         "name": "Halibut",
         "text": "",
         "type": "scatter",
         "x": [
          -0.6931471805599453,
          -0.5108256237659907,
          -0.35667494393873245,
          -0.2231435513142097,
          -0.10536051565782628,
          0,
          0.09531017980432493,
          0.1823215567939546,
          0.26236426446749106,
          0.3364722366212129,
          0.4054651081081644
         ],
         "y": [
          -3.7500704689710776e-08,
          -3.7403208563772756e-08,
          -3.7417600607423985e-08,
          -2.311117279835029e-08,
          -3.74245620391158e-08,
          0,
          -1.4269647232393958e-08,
          2.1925133246177618e-08,
          -3.8356456969010446e-08,
          1.092020761529856e-06,
          -3.646002299926118e-08
         ]
        },
        {
         "line": {
          "color": "rgba(255, 255, 51, 0.8999999999999999)",
          "dash": "solid",
          "shape": "linear",
          "width": 1.3
         },
         "mode": "lines",
         "name": "Shrimp",
         "text": "",
         "type": "scatter",
         "x": [
          -0.6931471805599453,
          -0.5108256237659907,
          -0.35667494393873245,
          -0.2231435513142097,
          -0.10536051565782628,
          0,
          0.09531017980432493,
          0.1823215567939546,
          0.26236426446749106,
          0.3364722366212129,
          0.4054651081081644
         ],
         "y": [
          2.1660146395466096e-07,
          2.2231706291565882e-07,
          1.9993192234875277e-07,
          1.3152479463422194e-08,
          -9.956355234312639e-09,
          0,
          -1.7744575188999098e-08,
          1.2340554749357109e-07,
          -3.3767016642267185e-08,
          -8.146661711771511e-09,
          -3.829231505254985e-08
         ]
        },
        {
         "line": {
          "color": "rgba(128, 128, 0, 0.8999999999999999)",
          "dash": "solid",
          "shape": "linear",
          "width": 1.3
         },
         "mode": "lines",
         "name": "Tuna",
         "text": "",
         "type": "scatter",
         "x": [
          -0.6931471805599453,
          -0.5108256237659907,
          -0.35667494393873245,
          -0.2231435513142097,
          -0.10536051565782628,
          0,
          0.09531017980432493,
          0.1823215567939546,
          0.26236426446749106,
          0.3364722366212129,
          0.4054651081081644
         ],
         "y": [
          1.334123102004701e-06,
          -2.1601256017405457e-08,
          -3.732065226555486e-08,
          -3.754219283751929e-08,
          4.6898450650190344e-07,
          0,
          -3.825673429062792e-08,
          2.2341206637489734e-09,
          -2.8743001170360923e-08,
          -3.196126225907562e-08,
          -3.2812438416221836e-08
         ]
        },
        {
         "line": {
          "color": "rgba(251, 128, 114, 0.8999999999999999)",
          "dash": "solid",
          "shape": "linear",
          "width": 1.3
         },
         "mode": "lines",
         "name": "Almond Milk",
         "text": "",
         "type": "scatter",
         "x": [
          -0.6931471805599453,
          -0.5108256237659907,
          -0.35667494393873245,
          -0.2231435513142097,
          -0.10536051565782628,
          0,
          0.09531017980432493,
          0.1823215567939546,
          0.26236426446749106,
          0.3364722366212129,
          0.4054651081081644
         ],
         "y": [
          -5.524650467534588e-05,
          9.308652126625635e-08,
          -2.0504814723213066e-08,
          -1.536663685891014e-08,
          1.2244816197076783e-08,
          0,
          -3.816239130914876e-08,
          8.208805887556619e-07,
          5.271968821812606e-07,
          3.825228770422488e-07,
          6.139396600539966e-07
         ]
        },
        {
         "line": {
          "color": "rgba(251, 128, 114, 0.7999999999999998)",
          "dash": "solid",
          "shape": "linear",
          "width": 1.3
         },
         "mode": "lines",
         "name": "2% milk",
         "text": "",
         "type": "scatter",
         "x": [
          -0.6931471805599453,
          -0.5108256237659907,
          -0.35667494393873245,
          -0.2231435513142097,
          -0.10536051565782628,
          0,
          0.09531017980432493,
          0.1823215567939546,
          0.26236426446749106,
          0.3364722366212129,
          0.4054651081081644
         ],
         "y": [
          1.0460912303852154e-08,
          -7.1669775926574925e-09,
          -1.4448772189148452e-09,
          4.376270494597339e-08,
          3.604102196131115e-08,
          0,
          2.2327193999126795e-07,
          -3.839197344902033e-08,
          -3.7469250737976466e-08,
          -3.809282684119717e-08,
          -3.810492261048899e-08
         ]
        },
        {
         "line": {
          "color": "rgba(128, 177, 211, 0.7999999999999998)",
          "dash": "solid",
          "shape": "linear",
          "width": 1.3
         },
         "mode": "lines",
         "name": "Cheddar cheese",
         "text": "",
         "type": "scatter",
         "x": [
          -0.6931471805599453,
          -0.5108256237659907,
          -0.35667494393873245,
          -0.2231435513142097,
          -0.10536051565782628,
          0,
          0.09531017980432493,
          0.1823215567939546,
          0.26236426446749106,
          0.3364722366212129,
          0.4054651081081644
         ],
         "y": [
          -0.17267277323568933,
          -0.12531943295313033,
          -0.0803154461260356,
          -0.0450526548980063,
          -0.021363167275550102,
          0,
          0.020916958692244227,
          0.0414039698072057,
          0.06144996887299758,
          0.06852874109935529,
          0.06852894678107754
         ]
        },
        {
         "line": {
          "color": "rgba(255, 153, 51, 0.7999999999999998)",
          "dash": "solid",
          "shape": "linear",
          "width": 1.3
         },
         "mode": "lines",
         "name": "Unsalted butter",
         "text": "",
         "type": "scatter",
         "x": [
          -0.6931471805599453,
          -0.5108256237659907,
          -0.35667494393873245,
          -0.2231435513142097,
          -0.10536051565782628,
          0,
          0.09531017980432493,
          0.1823215567939546,
          0.26236426446749106,
          0.3364722366212129,
          0.4054651081081644
         ],
         "y": [
          1.0065673232368154e-07,
          2.572557760093624e-07,
          1.1599074560933231e-07,
          1.525906207098962e-07,
          -3.4860549166574874e-08,
          0,
          -7.196559707405686e-09,
          -1.7123873354904748e-08,
          -2.404856431821115e-08,
          -2.810198180342881e-08,
          -3.0347476326095475e-08
         ]
        },
        {
         "line": {
          "color": "rgba(55, 128, 191, 0.7999999999999998)",
          "dash": "solid",
          "shape": "linear",
          "width": 1.3
         },
         "mode": "lines",
         "name": "Greek yogurt",
         "text": "",
         "type": "scatter",
         "x": [
          -0.6931471805599453,
          -0.5108256237659907,
          -0.35667494393873245,
          -0.2231435513142097,
          -0.10536051565782628,
          0,
          0.09531017980432493,
          0.1823215567939546,
          0.26236426446749106,
          0.3364722366212129,
          0.4054651081081644
         ],
         "y": [
          -3.8001367997216433e-08,
          -3.800963549532812e-08,
          4.622435882697368e-08,
          -1.4456868140528488e-08,
          3.199129045097616e-07,
          0,
          1.6053690692277897e-08,
          1.2787025797794972e-07,
          -1.0356977440460773e-08,
          -2.5095064008628594e-08,
          -2.401049043991206e-08
         ]
        },
        {
         "line": {
          "color": "rgba(50, 171, 96, 0.7999999999999998)",
          "dash": "solid",
          "shape": "linear",
          "width": 1.3
         },
         "mode": "lines",
         "name": "Oat Milk",
         "text": "",
         "type": "scatter",
         "x": [
          -0.6931471805599453,
          -0.5108256237659907,
          -0.35667494393873245,
          -0.2231435513142097,
          -0.10536051565782628,
          0,
          0.09531017980432493,
          0.1823215567939546,
          0.26236426446749106,
          0.3364722366212129,
          0.4054651081081644
         ],
         "y": [
          -0.07936375348829887,
          -0.04123051397403098,
          -0.004707627385082649,
          -4.88015807601459e-06,
          -2.815385819695892e-08,
          0,
          -6.864431602272737e-09,
          2.5330398035049817e-07,
          1.0262846401214194e-07,
          1.2153331912848232e-07,
          -3.7388982942559343e-08
         ]
        },
        {
         "line": {
          "color": "rgba(128, 0, 128, 0.7999999999999998)",
          "dash": "solid",
          "shape": "linear",
          "width": 1.3
         },
         "mode": "lines",
         "name": "Wheat Cereal",
         "text": "",
         "type": "scatter",
         "x": [
          -0.6931471805599453,
          -0.5108256237659907,
          -0.35667494393873245,
          -0.2231435513142097,
          -0.10536051565782628,
          0,
          0.09531017980432493,
          0.1823215567939546,
          0.26236426446749106,
          0.3364722366212129,
          0.4054651081081644
         ],
         "y": [
          -0.06657448983296516,
          -0.04876475980672063,
          -0.03385695220191377,
          -0.019168684252242378,
          -0.004693179527085833,
          0,
          1.0726645434239046e-06,
          8.013563499346842e-07,
          8.106810027960114e-07,
          7.968432347735244e-07,
          7.745190451636883e-07
         ]
        },
        {
         "line": {
          "color": "rgba(219, 64, 82, 0.7999999999999998)",
          "dash": "solid",
          "shape": "linear",
          "width": 1.3
         },
         "mode": "lines",
         "name": "Granola",
         "text": "",
         "type": "scatter",
         "x": [
          -0.6931471805599453,
          -0.5108256237659907,
          -0.35667494393873245,
          -0.2231435513142097,
          -0.10536051565782628,
          0,
          0.09531017980432493,
          0.1823215567939546,
          0.26236426446749106,
          0.3364722366212129,
          0.4054651081081644
         ],
         "y": [
          -3.8105894943851007e-08,
          -3.7652561555836786e-08,
          -3.5131435600457575e-08,
          -2.466671675140933e-08,
          -6.5785851427364375e-09,
          0,
          -3.770760286275798e-08,
          -1.0054459315709094e-08,
          5.709864062865195e-08,
          1.4138134818197463e-07,
          1.3798525502781397e-07
         ]
        },
        {
         "line": {
          "color": "rgba(0, 128, 128, 0.7999999999999998)",
          "dash": "solid",
          "shape": "linear",
          "width": 1.3
         },
         "mode": "lines",
         "name": "Brown Rice",
         "text": "",
         "type": "scatter",
         "x": [
          -0.6931471805599453,
          -0.5108256237659907,
          -0.35667494393873245,
          -0.2231435513142097,
          -0.10536051565782628,
          0,
          0.09531017980432493,
          0.1823215567939546,
          0.26236426446749106,
          0.3364722366212129,
          0.4054651081081644
         ],
         "y": [
          1.538488191734885e-07,
          -3.8324172459372664e-08,
          -2.230516951591638e-08,
          -4.183370103529386e-09,
          -2.669624521801602e-10,
          0,
          -5.406135540693397e-10,
          -1.5276292464905061e-09,
          -2.915262813182884e-09,
          -4.7552417672221795e-09,
          -7.34685315285504e-09
         ]
        },
        {
         "line": {
          "color": "rgba(255, 255, 51, 0.7999999999999998)",
          "dash": "solid",
          "shape": "linear",
          "width": 1.3
         },
         "mode": "lines",
         "name": "Jasmine Rice",
         "text": "",
         "type": "scatter",
         "x": [
          -0.6931471805599453,
          -0.5108256237659907,
          -0.35667494393873245,
          -0.2231435513142097,
          -0.10536051565782628,
          0,
          0.09531017980432493,
          0.1823215567939546,
          0.26236426446749106,
          0.3364722366212129,
          0.4054651081081644
         ],
         "y": [
          9.546535661495865e-08,
          -2.4689558924570882e-08,
          2.4178028631748025e-07,
          -3.775846506801511e-08,
          -1.178673432474487e-08,
          0,
          -2.7446659427361992e-09,
          -9.825356354605444e-09,
          -1.7743053406272242e-08,
          -2.4560094260169065e-08,
          -2.9770267361439716e-08
         ]
        },
        {
         "line": {
          "color": "rgba(128, 128, 0, 0.7999999999999998)",
          "dash": "solid",
          "shape": "linear",
          "width": 1.3
         },
         "mode": "lines",
         "name": "Potatoes",
         "text": "",
         "type": "scatter",
         "x": [
          -0.6931471805599453,
          -0.5108256237659907,
          -0.35667494393873245,
          -0.2231435513142097,
          -0.10536051565782628,
          0,
          0.09531017980432493,
          0.1823215567939546,
          0.26236426446749106,
          0.3364722366212129,
          0.4054651081081644
         ],
         "y": [
          2.9685042570082005e-07,
          2.272089135447371e-08,
          7.890152653794926e-07,
          -3.434933607701008e-08,
          -1.2918566966347069e-08,
          0,
          -2.220789810060504e-08,
          -2.850682730535254e-08,
          3.222284794974581e-07,
          2.634492929837477e-07,
          2.055733396484432e-07
         ]
        },
        {
         "line": {
          "color": "rgba(128, 128, 0, 0.7)",
          "dash": "solid",
          "shape": "linear",
          "width": 1.3
         },
         "mode": "lines",
         "name": "Bananas",
         "text": "",
         "type": "scatter",
         "x": [
          -0.6931471805599453,
          -0.5108256237659907,
          -0.35667494393873245,
          -0.2231435513142097,
          -0.10536051565782628,
          0,
          0.09531017980432493,
          0.1823215567939546,
          0.26236426446749106,
          0.3364722366212129,
          0.4054651081081644
         ],
         "y": [
          -0.10889083912328991,
          -0.07151065364764912,
          -0.04018590038656962,
          -0.011843723223375227,
          -4.1160078763422344e-09,
          0,
          -3.7854142093493056e-08,
          -3.816426658693122e-08,
          1.5586965857832957e-07,
          -3.564179304150661e-08,
          1.2257168760342036e-08
         ]
        },
        {
         "line": {
          "color": "rgba(251, 128, 114, 0.7)",
          "dash": "solid",
          "shape": "linear",
          "width": 1.3
         },
         "mode": "lines",
         "name": "Apples",
         "text": "",
         "type": "scatter",
         "x": [
          -0.6931471805599453,
          -0.5108256237659907,
          -0.35667494393873245,
          -0.2231435513142097,
          -0.10536051565782628,
          0,
          0.09531017980432493,
          0.1823215567939546,
          0.26236426446749106,
          0.3364722366212129,
          0.4054651081081644
         ],
         "y": [
          -0.03501991611386427,
          -0.00011786924257767204,
          -3.8183378521918203e-08,
          6.599133789138543e-07,
          8.950821172231336e-08,
          0,
          1.1752098065803296e-06,
          3.980217076652745e-08,
          -3.839972447136436e-08,
          3.32964650303706e-08,
          2.41758596883658e-08
         ]
        },
        {
         "line": {
          "color": "rgba(128, 177, 211, 0.7)",
          "dash": "solid",
          "shape": "linear",
          "width": 1.3
         },
         "mode": "lines",
         "name": "Avocados",
         "text": "",
         "type": "scatter",
         "x": [
          -0.6931471805599453,
          -0.5108256237659907,
          -0.35667494393873245,
          -0.2231435513142097,
          -0.10536051565782628,
          0,
          0.09531017980432493,
          0.1823215567939546,
          0.26236426446749106,
          0.3364722366212129,
          0.4054651081081644
         ],
         "y": [
          -3.3196667410867584e-08,
          -3.0089795885761574e-08,
          6.375096974379092e-07,
          -3.393168237334046e-08,
          -3.803018750065215e-08,
          0,
          4.158664659428859e-08,
          -3.803233311775114e-08,
          -3.3664600563193916e-08,
          -3.836460078827538e-08,
          -3.282388370575831e-08
         ]
        },
        {
         "line": {
          "color": "rgba(255, 153, 51, 0.7)",
          "dash": "solid",
          "shape": "linear",
          "width": 1.3
         },
         "mode": "lines",
         "name": "Blue Berries",
         "text": "",
         "type": "scatter",
         "x": [
          -0.6931471805599453,
          -0.5108256237659907,
          -0.35667494393873245,
          -0.2231435513142097,
          -0.10536051565782628,
          0,
          0.09531017980432493,
          0.1823215567939546,
          0.26236426446749106,
          0.3364722366212129,
          0.4054651081081644
         ],
         "y": [
          2.971642683371888e-07,
          4.932769108927872e-07,
          2.820391186993221e-07,
          8.682922203972467e-08,
          -1.1592684657251192e-08,
          0,
          -8.947706504676658e-09,
          -3.771568883939587e-08,
          -3.747965752491008e-08,
          6.213823795629715e-08,
          2.7365424218595596e-08
         ]
        },
        {
         "line": {
          "color": "rgba(55, 128, 191, 0.7)",
          "dash": "solid",
          "shape": "linear",
          "width": 1.3
         },
         "mode": "lines",
         "name": "Tomatoes",
         "text": "",
         "type": "scatter",
         "x": [
          -0.6931471805599453,
          -0.5108256237659907,
          -0.35667494393873245,
          -0.2231435513142097,
          -0.10536051565782628,
          0,
          0.09531017980432493,
          0.1823215567939546,
          0.26236426446749106,
          0.3364722366212129,
          0.4054651081081644
         ],
         "y": [
          1.1317800340493192e-06,
          -3.824331657872829e-08,
          8.423936557336741e-07,
          4.169858352972186e-07,
          -3.805412224463907e-08,
          0,
          1.1392285791431848e-06,
          1.2537051660537574e-06,
          1.2276763117458994e-06,
          2.2393838474151405e-07,
          4.1255289978533566e-07
         ]
        },
        {
         "line": {
          "color": "rgba(50, 171, 96, 0.7)",
          "dash": "solid",
          "shape": "linear",
          "width": 1.3
         },
         "mode": "lines",
         "name": "Kale",
         "text": "",
         "type": "scatter",
         "x": [
          -0.6931471805599453,
          -0.5108256237659907,
          -0.35667494393873245,
          -0.2231435513142097,
          -0.10536051565782628,
          0,
          0.09531017980432493,
          0.1823215567939546,
          0.26236426446749106,
          0.3364722366212129,
          0.4054651081081644
         ],
         "y": [
          2.228988546806794e-09,
          -3.729869747089484e-10,
          -1.144505713079806e-09,
          -1.1886759361660464e-09,
          -6.968386980984317e-10,
          0,
          8.65598925495273e-10,
          1.8229895354419355e-09,
          2.7822963894071746e-09,
          3.615902015709668e-09,
          4.1245562435881985e-09
         ]
        },
        {
         "line": {
          "color": "rgba(128, 0, 128, 0.7)",
          "dash": "solid",
          "shape": "linear",
          "width": 1.3
         },
         "mode": "lines",
         "name": "Garlic",
         "text": "",
         "type": "scatter",
         "x": [
          -0.6931471805599453,
          -0.5108256237659907,
          -0.35667494393873245,
          -0.2231435513142097,
          -0.10536051565782628,
          0,
          0.09531017980432493,
          0.1823215567939546,
          0.26236426446749106,
          0.3364722366212129,
          0.4054651081081644
         ],
         "y": [
          6.094109098180941e-08,
          2.2181959895619247e-07,
          1.3654633113433833e-07,
          4.077288645743955e-08,
          -3.778115358660329e-08,
          0,
          -7.883816408584738e-09,
          -2.0399106612118286e-08,
          -2.8629209191254625e-08,
          -3.317350216260083e-08,
          -3.531761967517855e-08
         ]
        },
        {
         "line": {
          "color": "rgba(219, 64, 82, 0.7)",
          "dash": "solid",
          "shape": "linear",
          "width": 1.3
         },
         "mode": "lines",
         "name": "Red Onion",
         "text": "",
         "type": "scatter",
         "x": [
          -0.6931471805599453,
          -0.5108256237659907,
          -0.35667494393873245,
          -0.2231435513142097,
          -0.10536051565782628,
          0,
          0.09531017980432493,
          0.1823215567939546,
          0.26236426446749106,
          0.3364722366212129,
          0.4054651081081644
         ],
         "y": [
          9.27847017132389e-09,
          5.225120988887968e-09,
          3.246520158543269e-09,
          2.5776172274480464e-09,
          1.9433705736861322e-09,
          0,
          -9.161490275078088e-09,
          -3.2717100786416e-08,
          -3.8114834459985974e-08,
          1.7408167657617344e-07,
          -2.8053835981413382e-08
         ]
        },
        {
         "line": {
          "color": "rgba(0, 128, 128, 0.7)",
          "dash": "solid",
          "shape": "linear",
          "width": 1.3
         },
         "mode": "lines",
         "name": "Yellow Onion",
         "text": "",
         "type": "scatter",
         "x": [
          -0.6931471805599453,
          -0.5108256237659907,
          -0.35667494393873245,
          -0.2231435513142097,
          -0.10536051565782628,
          0,
          0.09531017980432493,
          0.1823215567939546,
          0.26236426446749106,
          0.3364722366212129,
          0.4054651081081644
         ],
         "y": [
          -1.5258963542552627e-08,
          3.104830394844684e-07,
          -3.7257443602669983e-08,
          -8.370885464301091e-09,
          -3.267358606430002e-10,
          0,
          -1.2679654001469088e-09,
          -3.182409119074773e-09,
          -5.07079368670125e-09,
          -6.941241272538609e-09,
          -8.956128323549948e-09
         ]
        },
        {
         "line": {
          "color": "rgba(255, 255, 51, 0.7)",
          "dash": "solid",
          "shape": "linear",
          "width": 1.3
         },
         "mode": "lines",
         "name": "White Onion",
         "text": "",
         "type": "scatter",
         "x": [
          -0.6931471805599453,
          -0.5108256237659907,
          -0.35667494393873245,
          -0.2231435513142097,
          -0.10536051565782628,
          0,
          0.09531017980432493,
          0.1823215567939546,
          0.26236426446749106,
          0.3364722366212129,
          0.4054651081081644
         ],
         "y": [
          1.3964089397929792e-07,
          -1.4057417551112202e-08,
          2.959032682959199e-07,
          -3.7903913948683825e-08,
          -6.118843672699535e-09,
          0,
          -2.2584325546327264e-09,
          -6.529051765012036e-09,
          -1.0755827730803043e-08,
          -1.4397554696626765e-08,
          -1.7329842156026006e-08
         ]
        },
        {
         "line": {
          "color": "rgba(255, 255, 51, 0.5999999999999999)",
          "dash": "solid",
          "shape": "linear",
          "width": 1.3
         },
         "mode": "lines",
         "name": "Cauliflower",
         "text": "",
         "type": "scatter",
         "x": [
          -0.6931471805599453,
          -0.5108256237659907,
          -0.35667494393873245,
          -0.2231435513142097,
          -0.10536051565782628,
          0,
          0.09531017980432493,
          0.1823215567939546,
          0.26236426446749106,
          0.3364722366212129,
          0.4054651081081644
         ],
         "y": [
          -0.05847985701051432,
          -0.03939909704867969,
          -0.022511462325868904,
          -0.006732674255379834,
          -0.00011731287252124067,
          0,
          5.328409883215115e-05,
          5.307991741257672e-05,
          5.3080724140404494e-05,
          5.310128555200517e-05,
          5.310308769244314e-05
         ]
        },
        {
         "line": {
          "color": "rgba(128, 128, 0, 0.5999999999999999)",
          "dash": "solid",
          "shape": "linear",
          "width": 1.3
         },
         "mode": "lines",
         "name": "Broccoli",
         "text": "",
         "type": "scatter",
         "x": [
          -0.6931471805599453,
          -0.5108256237659907,
          -0.35667494393873245,
          -0.2231435513142097,
          -0.10536051565782628,
          0,
          0.09531017980432493,
          0.1823215567939546,
          0.26236426446749106,
          0.3364722366212129,
          0.4054651081081644
         ],
         "y": [
          -0.08292641181647056,
          -0.05843669732902234,
          -0.03467284648306031,
          -0.012617936397725057,
          -0.00011337688848276199,
          0,
          -3.7168218638596525e-08,
          -3.8158557153786904e-08,
          9.821262827394506e-07,
          2.749528093573125e-07,
          1.7557676148156943e-07
         ]
        },
        {
         "line": {
          "color": "rgba(251, 128, 114, 0.5999999999999999)",
          "dash": "solid",
          "shape": "linear",
          "width": 1.3
         },
         "mode": "lines",
         "name": "Carrots",
         "text": "",
         "type": "scatter",
         "x": [
          -0.6931471805599453,
          -0.5108256237659907,
          -0.35667494393873245,
          -0.2231435513142097,
          -0.10536051565782628,
          0,
          0.09531017980432493,
          0.1823215567939546,
          0.26236426446749106,
          0.3364722366212129,
          0.4054651081081644
         ],
         "y": [
          -2.871297740824346e-08,
          1.6989913997900577e-08,
          -6.156707385097565e-09,
          2.2119980443344351e-07,
          6.885057664564345e-08,
          0,
          -3.6184015661132194e-08,
          8.810736651261309e-07,
          2.7571875735468822e-08,
          1.8263086729439518e-07,
          2.0383132502832437e-07
         ]
        },
        {
         "line": {
          "color": "rgba(128, 177, 211, 0.5999999999999999)",
          "dash": "solid",
          "shape": "linear",
          "width": 1.3
         },
         "mode": "lines",
         "name": "Sweet Potatoes",
         "text": "",
         "type": "scatter",
         "x": [
          -0.6931471805599453,
          -0.5108256237659907,
          -0.35667494393873245,
          -0.2231435513142097,
          -0.10536051565782628,
          0,
          0.09531017980432493,
          0.1823215567939546,
          0.26236426446749106,
          0.3364722366212129,
          0.4054651081081644
         ],
         "y": [
          4.921227848893358e-07,
          4.1078129987068245e-07,
          1.6767494119627227e-07,
          1.243121794840029e-07,
          2.3164554678194e-07,
          0,
          -2.0154904726227613e-08,
          -3.635712508310191e-08,
          -3.8263181022911664e-08,
          -3.8345463762243615e-08,
          -3.833471857931011e-08
         ]
        },
        {
         "line": {
          "color": "rgba(255, 153, 51, 0.5999999999999999)",
          "dash": "solid",
          "shape": "linear",
          "width": 1.3
         },
         "mode": "lines",
         "name": "Romaine Lettuce",
         "text": "",
         "type": "scatter",
         "x": [
          -0.6931471805599453,
          -0.5108256237659907,
          -0.35667494393873245,
          -0.2231435513142097,
          -0.10536051565782628,
          0,
          0.09531017980432493,
          0.1823215567939546,
          0.26236426446749106,
          0.3364722366212129,
          0.4054651081081644
         ],
         "y": [
          -0.034750032769330086,
          -0.012640729885577111,
          -0.005533937826629226,
          -1.6021461841210955e-08,
          -3.14585832336071e-08,
          0,
          8.258097575621593e-08,
          6.929517776756184e-07,
          1.9431209574224613e-07,
          8.326684960966079e-07,
          -3.8302468375565804e-08
         ]
        },
        {
         "line": {
          "color": "rgba(55, 128, 191, 0.5999999999999999)",
          "dash": "solid",
          "shape": "linear",
          "width": 1.3
         },
         "mode": "lines",
         "name": "Spinach",
         "text": "",
         "type": "scatter",
         "x": [
          -0.6931471805599453,
          -0.5108256237659907,
          -0.35667494393873245,
          -0.2231435513142097,
          -0.10536051565782628,
          0,
          0.09531017980432493,
          0.1823215567939546,
          0.26236426446749106,
          0.3364722366212129,
          0.4054651081081644
         ],
         "y": [
          3.886432015942953e-07,
          3.2160261367326215e-07,
          1.6165696848644332e-06,
          -3.1002109360639207e-08,
          -7.256447580277401e-09,
          0,
          -4.000274556848676e-10,
          -4.804154086095759e-09,
          -1.1138608764089155e-08,
          -1.8122927101145653e-08,
          -2.439624010368977e-08
         ]
        },
        {
         "line": {
          "color": "rgba(50, 171, 96, 0.5999999999999999)",
          "dash": "solid",
          "shape": "linear",
          "width": 1.3
         },
         "mode": "lines",
         "name": "Cucumbers",
         "text": "",
         "type": "scatter",
         "x": [
          -0.6931471805599453,
          -0.5108256237659907,
          -0.35667494393873245,
          -0.2231435513142097,
          -0.10536051565782628,
          0,
          0.09531017980432493,
          0.1823215567939546,
          0.26236426446749106,
          0.3364722366212129,
          0.4054651081081644
         ],
         "y": [
          -0.06770167597497798,
          -0.02813589787659725,
          -3.831049351198442e-08,
          -1.337831920867357e-08,
          -2.309335614294232e-09,
          0,
          -3.773460215546768e-08,
          -3.748662495180688e-08,
          -3.8110733629043626e-08,
          -3.809934629309073e-08,
          -3.789150387524425e-08
         ]
        },
        {
         "line": {
          "color": "rgba(128, 0, 128, 0.5999999999999999)",
          "dash": "solid",
          "shape": "linear",
          "width": 1.3
         },
         "mode": "lines",
         "name": "Cremini Mushrooms",
         "text": "",
         "type": "scatter",
         "x": [
          -0.6931471805599453,
          -0.5108256237659907,
          -0.35667494393873245,
          -0.2231435513142097,
          -0.10536051565782628,
          0,
          0.09531017980432493,
          0.1823215567939546,
          0.26236426446749106,
          0.3364722366212129,
          0.4054651081081644
         ],
         "y": [
          -1.4435478583427063e-08,
          -3.693323248823394e-08,
          4.833713142797304e-07,
          5.546020736842947e-07,
          -3.8351591194373796e-08,
          0,
          -2.174360226639204e-08,
          -3.683879580405291e-08,
          -3.833455426629616e-08,
          1.1406840223597732e-06,
          7.701965303810039e-07
         ]
        },
        {
         "line": {
          "color": "rgba(219, 64, 82, 0.5999999999999999)",
          "dash": "solid",
          "shape": "linear",
          "width": 1.3
         },
         "mode": "lines",
         "name": "Jalepenos",
         "text": "",
         "type": "scatter",
         "x": [
          -0.6931471805599453,
          -0.5108256237659907,
          -0.35667494393873245,
          -0.2231435513142097,
          -0.10536051565782628,
          0,
          0.09531017980432493,
          0.1823215567939546,
          0.26236426446749106,
          0.3364722366212129,
          0.4054651081081644
         ],
         "y": [
          -0.17042384868896596,
          -0.12980213052518733,
          -0.09076582798515247,
          -0.05459794172754366,
          -0.02685310433985291,
          0,
          0.024377656195674023,
          0.026728020865834784,
          0.026728468150667237,
          0.02672802100392945,
          0.02672802085285678
         ]
        },
        {
         "line": {
          "color": "rgba(0, 128, 128, 0.5999999999999999)",
          "dash": "solid",
          "shape": "linear",
          "width": 1.3
         },
         "mode": "lines",
         "name": "Olive Oil",
         "text": "",
         "type": "scatter",
         "x": [
          -0.6931471805599453,
          -0.5108256237659907,
          -0.35667494393873245,
          -0.2231435513142097,
          -0.10536051565782628,
          0,
          0.09531017980432493,
          0.1823215567939546,
          0.26236426446749106,
          0.3364722366212129,
          0.4054651081081644
         ],
         "y": [
          2.7901728432054095e-07,
          2.0915153708865633e-07,
          2.3016301044422602e-08,
          -3.7857523499887165e-08,
          -1.1148805274505544e-08,
          0,
          -5.828569754950641e-09,
          -1.2594651401174837e-08,
          -1.7903403031599104e-08,
          -2.1718213907757803e-08,
          -2.4358638847330537e-08
         ]
        },
        {
         "line": {
          "color": "rgba(0, 128, 128, 0.49999999999999983)",
          "dash": "solid",
          "shape": "linear",
          "width": 1.3
         },
         "mode": "lines",
         "name": "Vegetable Oil",
         "text": "",
         "type": "scatter",
         "x": [
          -0.6931471805599453,
          -0.5108256237659907,
          -0.35667494393873245,
          -0.2231435513142097,
          -0.10536051565782628,
          0,
          0.09531017980432493,
          0.1823215567939546,
          0.26236426446749106,
          0.3364722366212129,
          0.4054651081081644
         ],
         "y": [
          2.1555186555122303e-07,
          1.3437861386697474e-07,
          -9.212031846470832e-09,
          2.3262963314349114e-07,
          -3.354053335806768e-08,
          0,
          -5.2517073050552215e-09,
          -1.8413364003206292e-08,
          -2.9419631497377333e-08,
          -3.5596095149962303e-08,
          -3.759118009805354e-08
         ]
        },
        {
         "line": {
          "color": "rgba(255, 255, 51, 0.49999999999999983)",
          "dash": "solid",
          "shape": "linear",
          "width": 1.3
         },
         "mode": "lines",
         "name": "Salt",
         "text": "",
         "type": "scatter",
         "x": [
          -0.6931471805599453,
          -0.5108256237659907,
          -0.35667494393873245,
          -0.2231435513142097,
          -0.10536051565782628,
          0,
          0.09531017980432493,
          0.1823215567939546,
          0.26236426446749106,
          0.3364722366212129,
          0.4054651081081644
         ],
         "y": [
          -3.6310699218261226e-08,
          -3.300651251274055e-08,
          -2.777372659345924e-08,
          -2.0827172314944618e-08,
          -1.1418519306437664e-08,
          0,
          9.873527058275008e-09,
          2.0397860525786524e-08,
          3.1236728493332175e-08,
          4.1632422197912213e-08,
          4.9952106313817505e-08
         ]
        },
        {
         "line": {
          "color": "rgba(128, 128, 0, 0.49999999999999983)",
          "dash": "solid",
          "shape": "linear",
          "width": 1.3
         },
         "mode": "lines",
         "name": "Tomato Sauce",
         "text": "",
         "type": "scatter",
         "x": [
          -0.6931471805599453,
          -0.5108256237659907,
          -0.35667494393873245,
          -0.2231435513142097,
          -0.10536051565782628,
          0,
          0.09531017980432493,
          0.1823215567939546,
          0.26236426446749106,
          0.3364722366212129,
          0.4054651081081644
         ],
         "y": [
          2.429138326326951e-07,
          1.6153486995262406e-06,
          1.5111545219191672e-06,
          3.634536899311581e-07,
          2.388262986401002e-07,
          0,
          -3.7371359594674584e-08,
          6.481630261366217e-07,
          1.0076456285227036e-08,
          1.637047373138295e-08,
          4.928596185682953e-09
         ]
        },
        {
         "line": {
          "color": "rgba(251, 128, 114, 0.49999999999999983)",
          "dash": "solid",
          "shape": "linear",
          "width": 1.3
         },
         "mode": "lines",
         "name": "Sugar",
         "text": "",
         "type": "scatter",
         "x": [
          -0.6931471805599453,
          -0.5108256237659907,
          -0.35667494393873245,
          -0.2231435513142097,
          -0.10536051565782628,
          0,
          0.09531017980432493,
          0.1823215567939546,
          0.26236426446749106,
          0.3364722366212129,
          0.4054651081081644
         ],
         "y": [
          3.5323843448123534e-08,
          4.645755103149644e-09,
          2.561562607019282e-07,
          -3.762303373009559e-08,
          -1.3148219044474582e-08,
          0,
          -1.6152639239208888e-09,
          -8.630360685595547e-09,
          -1.735169833993469e-08,
          -2.5226985152625924e-08,
          -3.123909946223011e-08
         ]
        },
        {
         "line": {
          "color": "rgba(128, 177, 211, 0.49999999999999983)",
          "dash": "solid",
          "shape": "linear",
          "width": 1.3
         },
         "mode": "lines",
         "name": "Honey",
         "text": "",
         "type": "scatter",
         "x": [
          -0.6931471805599453,
          -0.5108256237659907,
          -0.35667494393873245,
          -0.2231435513142097,
          -0.10536051565782628,
          0,
          0.09531017980432493,
          0.1823215567939546,
          0.26236426446749106,
          0.3364722366212129,
          0.4054651081081644
         ],
         "y": [
          1.0437210034004582e-06,
          1.5482457201370363e-06,
          3.0278222319636493e-07,
          4.52793385859614e-08,
          1.2828721084118449e-07,
          0,
          -3.6124271671437264e-08,
          -3.837499547378688e-08,
          3.8848605602551437e-07,
          3.226275128301538e-08,
          2.839966380692431e-07
         ]
        },
        {
         "line": {
          "color": "rgba(255, 153, 51, 0.49999999999999983)",
          "dash": "solid",
          "shape": "linear",
          "width": 1.3
         },
         "mode": "lines",
         "name": "Bread (multi grain)",
         "text": "",
         "type": "scatter",
         "x": [
          -0.6931471805599453,
          -0.5108256237659907,
          -0.35667494393873245,
          -0.2231435513142097,
          -0.10536051565782628,
          0,
          0.09531017980432493,
          0.1823215567939546,
          0.26236426446749106,
          0.3364722366212129,
          0.4054651081081644
         ],
         "y": [
          -0.13222052214734414,
          -0.08637215581761698,
          -0.04271518411984001,
          -0.005339881772156746,
          8.529115960589303e-08,
          0,
          -2.2351482359400405e-08,
          -3.071127266359889e-08,
          -3.544153544609933e-08,
          -3.785076046505435e-08,
          -3.8158785193604864e-08
         ]
        }
       ],
       "layout": {
        "legend": {
         "bgcolor": "#F5F6F9",
         "font": {
          "color": "#4D5663"
         }
        },
        "paper_bgcolor": "#F5F6F9",
        "plot_bgcolor": "#F5F6F9",
        "template": {
         "data": {
          "bar": [
           {
            "error_x": {
             "color": "#2a3f5f"
            },
            "error_y": {
             "color": "#2a3f5f"
            },
            "marker": {
             "line": {
              "color": "#E5ECF6",
              "width": 0.5
             },
             "pattern": {
              "fillmode": "overlay",
              "size": 10,
              "solidity": 0.2
             }
            },
            "type": "bar"
           }
          ],
          "barpolar": [
           {
            "marker": {
             "line": {
              "color": "#E5ECF6",
              "width": 0.5
             },
             "pattern": {
              "fillmode": "overlay",
              "size": 10,
              "solidity": 0.2
             }
            },
            "type": "barpolar"
           }
          ],
          "carpet": [
           {
            "aaxis": {
             "endlinecolor": "#2a3f5f",
             "gridcolor": "white",
             "linecolor": "white",
             "minorgridcolor": "white",
             "startlinecolor": "#2a3f5f"
            },
            "baxis": {
             "endlinecolor": "#2a3f5f",
             "gridcolor": "white",
             "linecolor": "white",
             "minorgridcolor": "white",
             "startlinecolor": "#2a3f5f"
            },
            "type": "carpet"
           }
          ],
          "choropleth": [
           {
            "colorbar": {
             "outlinewidth": 0,
             "ticks": ""
            },
            "type": "choropleth"
           }
          ],
          "contour": [
           {
            "colorbar": {
             "outlinewidth": 0,
             "ticks": ""
            },
            "colorscale": [
             [
              0,
              "#0d0887"
             ],
             [
              0.1111111111111111,
              "#46039f"
             ],
             [
              0.2222222222222222,
              "#7201a8"
             ],
             [
              0.3333333333333333,
              "#9c179e"
             ],
             [
              0.4444444444444444,
              "#bd3786"
             ],
             [
              0.5555555555555556,
              "#d8576b"
             ],
             [
              0.6666666666666666,
              "#ed7953"
             ],
             [
              0.7777777777777778,
              "#fb9f3a"
             ],
             [
              0.8888888888888888,
              "#fdca26"
             ],
             [
              1,
              "#f0f921"
             ]
            ],
            "type": "contour"
           }
          ],
          "contourcarpet": [
           {
            "colorbar": {
             "outlinewidth": 0,
             "ticks": ""
            },
            "type": "contourcarpet"
           }
          ],
          "heatmap": [
           {
            "colorbar": {
             "outlinewidth": 0,
             "ticks": ""
            },
            "colorscale": [
             [
              0,
              "#0d0887"
             ],
             [
              0.1111111111111111,
              "#46039f"
             ],
             [
              0.2222222222222222,
              "#7201a8"
             ],
             [
              0.3333333333333333,
              "#9c179e"
             ],
             [
              0.4444444444444444,
              "#bd3786"
             ],
             [
              0.5555555555555556,
              "#d8576b"
             ],
             [
              0.6666666666666666,
              "#ed7953"
             ],
             [
              0.7777777777777778,
              "#fb9f3a"
             ],
             [
              0.8888888888888888,
              "#fdca26"
             ],
             [
              1,
              "#f0f921"
             ]
            ],
            "type": "heatmap"
           }
          ],
          "heatmapgl": [
           {
            "colorbar": {
             "outlinewidth": 0,
             "ticks": ""
            },
            "colorscale": [
             [
              0,
              "#0d0887"
             ],
             [
              0.1111111111111111,
              "#46039f"
             ],
             [
              0.2222222222222222,
              "#7201a8"
             ],
             [
              0.3333333333333333,
              "#9c179e"
             ],
             [
              0.4444444444444444,
              "#bd3786"
             ],
             [
              0.5555555555555556,
              "#d8576b"
             ],
             [
              0.6666666666666666,
              "#ed7953"
             ],
             [
              0.7777777777777778,
              "#fb9f3a"
             ],
             [
              0.8888888888888888,
              "#fdca26"
             ],
             [
              1,
              "#f0f921"
             ]
            ],
            "type": "heatmapgl"
           }
          ],
          "histogram": [
           {
            "marker": {
             "pattern": {
              "fillmode": "overlay",
              "size": 10,
              "solidity": 0.2
             }
            },
            "type": "histogram"
           }
          ],
          "histogram2d": [
           {
            "colorbar": {
             "outlinewidth": 0,
             "ticks": ""
            },
            "colorscale": [
             [
              0,
              "#0d0887"
             ],
             [
              0.1111111111111111,
              "#46039f"
             ],
             [
              0.2222222222222222,
              "#7201a8"
             ],
             [
              0.3333333333333333,
              "#9c179e"
             ],
             [
              0.4444444444444444,
              "#bd3786"
             ],
             [
              0.5555555555555556,
              "#d8576b"
             ],
             [
              0.6666666666666666,
              "#ed7953"
             ],
             [
              0.7777777777777778,
              "#fb9f3a"
             ],
             [
              0.8888888888888888,
              "#fdca26"
             ],
             [
              1,
              "#f0f921"
             ]
            ],
            "type": "histogram2d"
           }
          ],
          "histogram2dcontour": [
           {
            "colorbar": {
             "outlinewidth": 0,
             "ticks": ""
            },
            "colorscale": [
             [
              0,
              "#0d0887"
             ],
             [
              0.1111111111111111,
              "#46039f"
             ],
             [
              0.2222222222222222,
              "#7201a8"
             ],
             [
              0.3333333333333333,
              "#9c179e"
             ],
             [
              0.4444444444444444,
              "#bd3786"
             ],
             [
              0.5555555555555556,
              "#d8576b"
             ],
             [
              0.6666666666666666,
              "#ed7953"
             ],
             [
              0.7777777777777778,
              "#fb9f3a"
             ],
             [
              0.8888888888888888,
              "#fdca26"
             ],
             [
              1,
              "#f0f921"
             ]
            ],
            "type": "histogram2dcontour"
           }
          ],
          "mesh3d": [
           {
            "colorbar": {
             "outlinewidth": 0,
             "ticks": ""
            },
            "type": "mesh3d"
           }
          ],
          "parcoords": [
           {
            "line": {
             "colorbar": {
              "outlinewidth": 0,
              "ticks": ""
             }
            },
            "type": "parcoords"
           }
          ],
          "pie": [
           {
            "automargin": true,
            "type": "pie"
           }
          ],
          "scatter": [
           {
            "marker": {
             "colorbar": {
              "outlinewidth": 0,
              "ticks": ""
             }
            },
            "type": "scatter"
           }
          ],
          "scatter3d": [
           {
            "line": {
             "colorbar": {
              "outlinewidth": 0,
              "ticks": ""
             }
            },
            "marker": {
             "colorbar": {
              "outlinewidth": 0,
              "ticks": ""
             }
            },
            "type": "scatter3d"
           }
          ],
          "scattercarpet": [
           {
            "marker": {
             "colorbar": {
              "outlinewidth": 0,
              "ticks": ""
             }
            },
            "type": "scattercarpet"
           }
          ],
          "scattergeo": [
           {
            "marker": {
             "colorbar": {
              "outlinewidth": 0,
              "ticks": ""
             }
            },
            "type": "scattergeo"
           }
          ],
          "scattergl": [
           {
            "marker": {
             "colorbar": {
              "outlinewidth": 0,
              "ticks": ""
             }
            },
            "type": "scattergl"
           }
          ],
          "scattermapbox": [
           {
            "marker": {
             "colorbar": {
              "outlinewidth": 0,
              "ticks": ""
             }
            },
            "type": "scattermapbox"
           }
          ],
          "scatterpolar": [
           {
            "marker": {
             "colorbar": {
              "outlinewidth": 0,
              "ticks": ""
             }
            },
            "type": "scatterpolar"
           }
          ],
          "scatterpolargl": [
           {
            "marker": {
             "colorbar": {
              "outlinewidth": 0,
              "ticks": ""
             }
            },
            "type": "scatterpolargl"
           }
          ],
          "scatterternary": [
           {
            "marker": {
             "colorbar": {
              "outlinewidth": 0,
              "ticks": ""
             }
            },
            "type": "scatterternary"
           }
          ],
          "surface": [
           {
            "colorbar": {
             "outlinewidth": 0,
             "ticks": ""
            },
            "colorscale": [
             [
              0,
              "#0d0887"
             ],
             [
              0.1111111111111111,
              "#46039f"
             ],
             [
              0.2222222222222222,
              "#7201a8"
             ],
             [
              0.3333333333333333,
              "#9c179e"
             ],
             [
              0.4444444444444444,
              "#bd3786"
             ],
             [
              0.5555555555555556,
              "#d8576b"
             ],
             [
              0.6666666666666666,
              "#ed7953"
             ],
             [
              0.7777777777777778,
              "#fb9f3a"
             ],
             [
              0.8888888888888888,
              "#fdca26"
             ],
             [
              1,
              "#f0f921"
             ]
            ],
            "type": "surface"
           }
          ],
          "table": [
           {
            "cells": {
             "fill": {
              "color": "#EBF0F8"
             },
             "line": {
              "color": "white"
             }
            },
            "header": {
             "fill": {
              "color": "#C8D4E3"
             },
             "line": {
              "color": "white"
             }
            },
            "type": "table"
           }
          ]
         },
         "layout": {
          "annotationdefaults": {
           "arrowcolor": "#2a3f5f",
           "arrowhead": 0,
           "arrowwidth": 1
          },
          "autotypenumbers": "strict",
          "coloraxis": {
           "colorbar": {
            "outlinewidth": 0,
            "ticks": ""
           }
          },
          "colorscale": {
           "diverging": [
            [
             0,
             "#8e0152"
            ],
            [
             0.1,
             "#c51b7d"
            ],
            [
             0.2,
             "#de77ae"
            ],
            [
             0.3,
             "#f1b6da"
            ],
            [
             0.4,
             "#fde0ef"
            ],
            [
             0.5,
             "#f7f7f7"
            ],
            [
             0.6,
             "#e6f5d0"
            ],
            [
             0.7,
             "#b8e186"
            ],
            [
             0.8,
             "#7fbc41"
            ],
            [
             0.9,
             "#4d9221"
            ],
            [
             1,
             "#276419"
            ]
           ],
           "sequential": [
            [
             0,
             "#0d0887"
            ],
            [
             0.1111111111111111,
             "#46039f"
            ],
            [
             0.2222222222222222,
             "#7201a8"
            ],
            [
             0.3333333333333333,
             "#9c179e"
            ],
            [
             0.4444444444444444,
             "#bd3786"
            ],
            [
             0.5555555555555556,
             "#d8576b"
            ],
            [
             0.6666666666666666,
             "#ed7953"
            ],
            [
             0.7777777777777778,
             "#fb9f3a"
            ],
            [
             0.8888888888888888,
             "#fdca26"
            ],
            [
             1,
             "#f0f921"
            ]
           ],
           "sequentialminus": [
            [
             0,
             "#0d0887"
            ],
            [
             0.1111111111111111,
             "#46039f"
            ],
            [
             0.2222222222222222,
             "#7201a8"
            ],
            [
             0.3333333333333333,
             "#9c179e"
            ],
            [
             0.4444444444444444,
             "#bd3786"
            ],
            [
             0.5555555555555556,
             "#d8576b"
            ],
            [
             0.6666666666666666,
             "#ed7953"
            ],
            [
             0.7777777777777778,
             "#fb9f3a"
            ],
            [
             0.8888888888888888,
             "#fdca26"
            ],
            [
             1,
             "#f0f921"
            ]
           ]
          },
          "colorway": [
           "#636efa",
           "#EF553B",
           "#00cc96",
           "#ab63fa",
           "#FFA15A",
           "#19d3f3",
           "#FF6692",
           "#B6E880",
           "#FF97FF",
           "#FECB52"
          ],
          "font": {
           "color": "#2a3f5f"
          },
          "geo": {
           "bgcolor": "white",
           "lakecolor": "white",
           "landcolor": "#E5ECF6",
           "showlakes": true,
           "showland": true,
           "subunitcolor": "white"
          },
          "hoverlabel": {
           "align": "left"
          },
          "hovermode": "closest",
          "mapbox": {
           "style": "light"
          },
          "paper_bgcolor": "white",
          "plot_bgcolor": "#E5ECF6",
          "polar": {
           "angularaxis": {
            "gridcolor": "white",
            "linecolor": "white",
            "ticks": ""
           },
           "bgcolor": "#E5ECF6",
           "radialaxis": {
            "gridcolor": "white",
            "linecolor": "white",
            "ticks": ""
           }
          },
          "scene": {
           "xaxis": {
            "backgroundcolor": "#E5ECF6",
            "gridcolor": "white",
            "gridwidth": 2,
            "linecolor": "white",
            "showbackground": true,
            "ticks": "",
            "zerolinecolor": "white"
           },
           "yaxis": {
            "backgroundcolor": "#E5ECF6",
            "gridcolor": "white",
            "gridwidth": 2,
            "linecolor": "white",
            "showbackground": true,
            "ticks": "",
            "zerolinecolor": "white"
           },
           "zaxis": {
            "backgroundcolor": "#E5ECF6",
            "gridcolor": "white",
            "gridwidth": 2,
            "linecolor": "white",
            "showbackground": true,
            "ticks": "",
            "zerolinecolor": "white"
           }
          },
          "shapedefaults": {
           "line": {
            "color": "#2a3f5f"
           }
          },
          "ternary": {
           "aaxis": {
            "gridcolor": "white",
            "linecolor": "white",
            "ticks": ""
           },
           "baxis": {
            "gridcolor": "white",
            "linecolor": "white",
            "ticks": ""
           },
           "bgcolor": "#E5ECF6",
           "caxis": {
            "gridcolor": "white",
            "linecolor": "white",
            "ticks": ""
           }
          },
          "title": {
           "x": 0.05
          },
          "xaxis": {
           "automargin": true,
           "gridcolor": "white",
           "linecolor": "white",
           "ticks": "",
           "title": {
            "standoff": 15
           },
           "zerolinecolor": "white",
           "zerolinewidth": 2
          },
          "yaxis": {
           "automargin": true,
           "gridcolor": "white",
           "linecolor": "white",
           "ticks": "",
           "title": {
            "standoff": 15
           },
           "zerolinecolor": "white",
           "zerolinewidth": 2
          }
         }
        },
        "title": {
         "font": {
          "color": "#4D5663"
         }
        },
        "xaxis": {
         "gridcolor": "#E1E5ED",
         "showgrid": true,
         "tickfont": {
          "color": "#4D5663"
         },
         "title": {
          "font": {
           "color": "#4D5663"
          },
          "text": "change in log price"
         },
         "zerolinecolor": "#E1E5ED"
        },
        "yaxis": {
         "gridcolor": "#E1E5ED",
         "showgrid": true,
         "tickfont": {
          "color": "#4D5663"
         },
         "title": {
          "font": {
           "color": "#4D5663"
          },
          "text": "change in log cost"
         },
         "zerolinecolor": "#E1E5ED"
        }
       }
      },
      "text/html": [
       "<div>                            <div id=\"0d103a52-2a92-40bf-9856-cfe127bf773b\" class=\"plotly-graph-div\" style=\"height:525px; width:100%;\"></div>            <script type=\"text/javascript\">                require([\"plotly\"], function(Plotly) {                    window.PLOTLYENV=window.PLOTLYENV || {};\n",
       "                    window.PLOTLYENV.BASE_URL='https://plot.ly';                                    if (document.getElementById(\"0d103a52-2a92-40bf-9856-cfe127bf773b\")) {                    Plotly.newPlot(                        \"0d103a52-2a92-40bf-9856-cfe127bf773b\",                        [{\"line\":{\"color\":\"rgba(255, 153, 51, 1.0)\",\"dash\":\"solid\",\"shape\":\"linear\",\"width\":1.3},\"mode\":\"lines\",\"name\":\"Chicken breast\",\"text\":\"\",\"type\":\"scatter\",\"x\":[-0.6931471805599453,-0.5108256237659907,-0.35667494393873245,-0.2231435513142097,-0.10536051565782628,0.0,0.09531017980432493,0.1823215567939546,0.26236426446749106,0.3364722366212129,0.4054651081081644],\"y\":[-3.766463156794814e-08,-3.607691743808071e-08,-3.0064592268032294e-08,-1.8180297210850704e-08,-4.281938923719586e-09,0.0,-3.290032200840416e-08,2.4301504009494093e-07,-1.7287945224931328e-08,1.0998072491891647e-07,2.0139736959578286e-07]},{\"line\":{\"color\":\"rgba(55, 128, 191, 1.0)\",\"dash\":\"solid\",\"shape\":\"linear\",\"width\":1.3},\"mode\":\"lines\",\"name\":\"Chicken thigh\",\"text\":\"\",\"type\":\"scatter\",\"x\":[-0.6931471805599453,-0.5108256237659907,-0.35667494393873245,-0.2231435513142097,-0.10536051565782628,0.0,0.09531017980432493,0.1823215567939546,0.26236426446749106,0.3364722366212129,0.4054651081081644],\"y\":[7.924389113477505e-09,1.197405582940326e-07,1.1607382669724939e-07,-3.0222624415723266e-08,-3.793608255101987e-08,0.0,-1.1540132471817325e-08,-2.9504799261618514e-08,-3.6956457577611024e-08,-3.813840327445204e-08,2.043249542871957e-07]},{\"line\":{\"color\":\"rgba(50, 171, 96, 1.0)\",\"dash\":\"solid\",\"shape\":\"linear\",\"width\":1.3},\"mode\":\"lines\",\"name\":\"Ground Beef\",\"text\":\"\",\"type\":\"scatter\",\"x\":[-0.6931471805599453,-0.5108256237659907,-0.35667494393873245,-0.2231435513142097,-0.10536051565782628,0.0,0.09531017980432493,0.1823215567939546,0.26236426446749106,0.3364722366212129,0.4054651081081644],\"y\":[-3.827487544656679e-08,-3.774458539230418e-08,-3.484872440277205e-08,-2.350968458677141e-08,-5.6717029012079706e-09,0.0,-3.7684679865059836e-08,-1.9367159508259074e-08,8.30309562162628e-08,1.7458803832924283e-07,1.4557447475916225e-07]},{\"line\":{\"color\":\"rgba(128, 0, 128, 1.0)\",\"dash\":\"solid\",\"shape\":\"linear\",\"width\":1.3},\"mode\":\"lines\",\"name\":\"Eggs\",\"text\":\"\",\"type\":\"scatter\",\"x\":[-0.6931471805599453,-0.5108256237659907,-0.35667494393873245,-0.2231435513142097,-0.10536051565782628,0.0,0.09531017980432493,0.1823215567939546,0.26236426446749106,0.3364722366212129,0.4054651081081644],\"y\":[4.08796944671009e-07,1.0201753077070834e-07,1.4365229595456543e-07,-7.35383945333345e-09,-3.756937487294124e-08,0.0,-1.3648697487651719e-08,-3.1708045359115605e-08,-3.750334679856386e-08,-3.8299759653326575e-08,-3.836743396652062e-08]},{\"line\":{\"color\":\"rgba(219, 64, 82, 1.0)\",\"dash\":\"solid\",\"shape\":\"linear\",\"width\":1.3},\"mode\":\"lines\",\"name\":\"Peanut Butter\",\"text\":\"\",\"type\":\"scatter\",\"x\":[-0.6931471805599453,-0.5108256237659907,-0.35667494393873245,-0.2231435513142097,-0.10536051565782628,0.0,0.09531017980432493,0.1823215567939546,0.26236426446749106,0.3364722366212129,0.4054651081081644],\"y\":[-0.1398949327680565,-0.08470505501927732,-0.05967243504716673,-0.03938299515883115,-0.019497240132654074,0.0,0.009575648542467724,0.009575648567360335,0.00957612069354138,0.009575648527239874,0.009576239014999589]},{\"line\":{\"color\":\"rgba(0, 128, 128, 1.0)\",\"dash\":\"solid\",\"shape\":\"linear\",\"width\":1.3},\"mode\":\"lines\",\"name\":\"Chickpeas\",\"text\":\"\",\"type\":\"scatter\",\"x\":[-0.6931471805599453,-0.5108256237659907,-0.35667494393873245,-0.2231435513142097,-0.10536051565782628,0.0,0.09531017980432493,0.1823215567939546,0.26236426446749106,0.3364722366212129,0.4054651081081644],\"y\":[-3.7893772283014124e-08,-3.8304743888764234e-08,-3.7749113326058725e-08,2.676468344048762e-07,1.2438024147601969e-07,0.0,-3.799283448965801e-08,-3.8315429341696403e-08,-3.835073698874589e-08,9.16767209357291e-07,1.2530530256412307e-06]},{\"line\":{\"color\":\"rgba(255, 255, 51, 1.0)\",\"dash\":\"solid\",\"shape\":\"linear\",\"width\":1.3},\"mode\":\"lines\",\"name\":\"Tofu\",\"text\":\"\",\"type\":\"scatter\",\"x\":[-0.6931471805599453,-0.5108256237659907,-0.35667494393873245,-0.2231435513142097,-0.10536051565782628,0.0,0.09531017980432493,0.1823215567939546,0.26236426446749106,0.3364722366212129,0.4054651081081644],\"y\":[-3.71816845341628e-08,1.0013293656926431e-06,-3.4445330959024746e-08,3.158119748851185e-07,1.3039441497959854e-07,0.0,-3.8337967869160844e-08,4.470418712984221e-08,4.9058579994042084e-08,-1.102243963376949e-09,-1.03056275156176e-08]},{\"line\":{\"color\":\"rgba(128, 128, 0, 1.0)\",\"dash\":\"solid\",\"shape\":\"linear\",\"width\":1.3},\"mode\":\"lines\",\"name\":\"Pork Loin (Pork Loin Chop)\",\"text\":\"\",\"type\":\"scatter\",\"x\":[-0.6931471805599453,-0.5108256237659907,-0.35667494393873245,-0.2231435513142097,-0.10536051565782628,0.0,0.09531017980432493,0.1823215567939546,0.26236426446749106,0.3364722366212129,0.4054651081081644],\"y\":[1.1139031608232094e-06,1.0905323046865838e-06,3.7383477920048537e-07,1.2549220763391324e-07,-3.773157957316909e-08,0.0,-1.0515804060642081e-08,-3.563769165546287e-08,1.3662471727220901e-08,-3.2031764087930394e-08,-3.8196589954371185e-08]},{\"line\":{\"color\":\"rgba(251, 128, 114, 1.0)\",\"dash\":\"solid\",\"shape\":\"linear\",\"width\":1.3},\"mode\":\"lines\",\"name\":\"Ground Pork\",\"text\":\"\",\"type\":\"scatter\",\"x\":[-0.6931471805599453,-0.5108256237659907,-0.35667494393873245,-0.2231435513142097,-0.10536051565782628,0.0,0.09531017980432493,0.1823215567939546,0.26236426446749106,0.3364722366212129,0.4054651081081644],\"y\":[5.628879346775881e-09,9.007439198361347e-09,7.185798374937212e-09,4.8527830525049684e-09,2.640405890441906e-09,0.0,-7.46374487224746e-09,-2.74789884625198e-08,-2.8422391067168072e-08,1.1654542429221846e-07,-3.070948775798738e-08]},{\"line\":{\"color\":\"rgba(128, 177, 211, 1.0)\",\"dash\":\"solid\",\"shape\":\"linear\",\"width\":1.3},\"mode\":\"lines\",\"name\":\"Ground Turkey\",\"text\":\"\",\"type\":\"scatter\",\"x\":[-0.6931471805599453,-0.5108256237659907,-0.35667494393873245,-0.2231435513142097,-0.10536051565782628,0.0,0.09531017980432493,0.1823215567939546,0.26236426446749106,0.3364722366212129,0.4054651081081644],\"y\":[5.003474511073134e-09,4.579418167511251e-09,3.879249358654495e-09,2.9174089768067707e-09,1.7831689442448998e-09,0.0,-5.488193026220679e-09,-2.269732605421217e-08,-3.835026902972307e-08,1.1511515433332873e-07,-9.506000435776802e-10]},{\"line\":{\"color\":\"rgba(128, 177, 211, 0.8999999999999999)\",\"dash\":\"solid\",\"shape\":\"linear\",\"width\":1.3},\"mode\":\"lines\",\"name\":\"Black Beans\",\"text\":\"\",\"type\":\"scatter\",\"x\":[-0.6931471805599453,-0.5108256237659907,-0.35667494393873245,-0.2231435513142097,-0.10536051565782628,0.0,0.09531017980432493,0.1823215567939546,0.26236426446749106,0.3364722366212129,0.4054651081081644],\"y\":[-0.04465255790008762,-0.027853149623957994,-0.019002389269075298,-0.012628056606915329,-0.006293213343886379,0.0,0.0062546754553164585,0.012471573397100153,0.01864981811652772,0.02472845559965787,0.03053643930319979]},{\"line\":{\"color\":\"rgba(255, 153, 51, 0.8999999999999999)\",\"dash\":\"solid\",\"shape\":\"linear\",\"width\":1.3},\"mode\":\"lines\",\"name\":\"Pinto Beans\",\"text\":\"\",\"type\":\"scatter\",\"x\":[-0.6931471805599453,-0.5108256237659907,-0.35667494393873245,-0.2231435513142097,-0.10536051565782628,0.0,0.09531017980432493,0.1823215567939546,0.26236426446749106,0.3364722366212129,0.4054651081081644],\"y\":[-0.03184596168038247,-0.025395127650331195,-0.018985639142774454,-0.012616971263518937,-0.006287843651352187,0.0,0.006249235960034972,0.012460588573848595,0.01863187952519271,0.024767716611757824,0.03086294530769962]},{\"line\":{\"color\":\"rgba(55, 128, 191, 0.8999999999999999)\",\"dash\":\"solid\",\"shape\":\"linear\",\"width\":1.3},\"mode\":\"lines\",\"name\":\"Lentils\",\"text\":\"\",\"type\":\"scatter\",\"x\":[-0.6931471805599453,-0.5108256237659907,-0.35667494393873245,-0.2231435513142097,-0.10536051565782628,0.0,0.09531017980432493,0.1823215567939546,0.26236426446749106,0.3364722366212129,0.4054651081081644],\"y\":[2.0855985387708794e-08,1.2958964262087436e-08,6.8749790068807045e-09,4.080275664566496e-09,2.630170744404859e-09,0.0,-1.3820545914391552e-08,-3.796247555091897e-08,2.220617130089987e-07,-3.120240359251841e-08,1.8927252696990407e-08]},{\"line\":{\"color\":\"rgba(50, 171, 96, 0.8999999999999999)\",\"dash\":\"solid\",\"shape\":\"linear\",\"width\":1.3},\"mode\":\"lines\",\"name\":\"Sliced Turkey\",\"text\":\"\",\"type\":\"scatter\",\"x\":[-0.6931471805599453,-0.5108256237659907,-0.35667494393873245,-0.2231435513142097,-0.10536051565782628,0.0,0.09531017980432493,0.1823215567939546,0.26236426446749106,0.3364722366212129,0.4054651081081644],\"y\":[-0.10756421625129542,-0.08510497925109335,-0.06313948443916045,-0.0416470992154807,-0.02060667819787946,0.0,0.020191553076856574,0.03998235233679058,0.059389656971752164,0.07473670083093543,0.08116812303758726]},{\"line\":{\"color\":\"rgba(128, 0, 128, 0.8999999999999999)\",\"dash\":\"solid\",\"shape\":\"linear\",\"width\":1.3},\"mode\":\"lines\",\"name\":\"Sliced Ham\",\"text\":\"\",\"type\":\"scatter\",\"x\":[-0.6931471805599453,-0.5108256237659907,-0.35667494393873245,-0.2231435513142097,-0.10536051565782628,0.0,0.09531017980432493,0.1823215567939546,0.26236426446749106,0.3364722366212129,0.4054651081081644],\"y\":[-3.8264855794408394e-08,-3.8268406176754705e-08,-3.833736246452231e-08,7.516465533973489e-07,-3.312895057648022e-08,0.0,2.559251022773964e-08,8.95942513344816e-08,1.992772630416548e-07,-7.253147775379671e-09,-3.757033044193444e-08]},{\"line\":{\"color\":\"rgba(219, 64, 82, 0.8999999999999999)\",\"dash\":\"solid\",\"shape\":\"linear\",\"width\":1.3},\"mode\":\"lines\",\"name\":\"Salmon\",\"text\":\"\",\"type\":\"scatter\",\"x\":[-0.6931471805599453,-0.5108256237659907,-0.35667494393873245,-0.2231435513142097,-0.10536051565782628,0.0,0.09531017980432493,0.1823215567939546,0.26236426446749106,0.3364722366212129,0.4054651081081644],\"y\":[3.911552238709334e-07,2.923454153309667e-07,-2.017821918817031e-08,1.3669293006950747e-07,1.1174081597529206e-08,0.0,6.612815032292645e-08,1.3097549625687584e-08,-3.8379058113056804e-08,-3.4870031914825726e-08,-3.794195185628453e-08]},{\"line\":{\"color\":\"rgba(0, 128, 128, 0.8999999999999999)\",\"dash\":\"solid\",\"shape\":\"linear\",\"width\":1.3},\"mode\":\"lines\",\"name\":\"Halibut\",\"text\":\"\",\"type\":\"scatter\",\"x\":[-0.6931471805599453,-0.5108256237659907,-0.35667494393873245,-0.2231435513142097,-0.10536051565782628,0.0,0.09531017980432493,0.1823215567939546,0.26236426446749106,0.3364722366212129,0.4054651081081644],\"y\":[-3.7500704689710776e-08,-3.7403208563772756e-08,-3.7417600607423985e-08,-2.311117279835029e-08,-3.74245620391158e-08,0.0,-1.4269647232393958e-08,2.1925133246177618e-08,-3.8356456969010446e-08,1.092020761529856e-06,-3.646002299926118e-08]},{\"line\":{\"color\":\"rgba(255, 255, 51, 0.8999999999999999)\",\"dash\":\"solid\",\"shape\":\"linear\",\"width\":1.3},\"mode\":\"lines\",\"name\":\"Shrimp\",\"text\":\"\",\"type\":\"scatter\",\"x\":[-0.6931471805599453,-0.5108256237659907,-0.35667494393873245,-0.2231435513142097,-0.10536051565782628,0.0,0.09531017980432493,0.1823215567939546,0.26236426446749106,0.3364722366212129,0.4054651081081644],\"y\":[2.1660146395466096e-07,2.2231706291565882e-07,1.9993192234875277e-07,1.3152479463422194e-08,-9.956355234312639e-09,0.0,-1.7744575188999098e-08,1.2340554749357109e-07,-3.3767016642267185e-08,-8.146661711771511e-09,-3.829231505254985e-08]},{\"line\":{\"color\":\"rgba(128, 128, 0, 0.8999999999999999)\",\"dash\":\"solid\",\"shape\":\"linear\",\"width\":1.3},\"mode\":\"lines\",\"name\":\"Tuna\",\"text\":\"\",\"type\":\"scatter\",\"x\":[-0.6931471805599453,-0.5108256237659907,-0.35667494393873245,-0.2231435513142097,-0.10536051565782628,0.0,0.09531017980432493,0.1823215567939546,0.26236426446749106,0.3364722366212129,0.4054651081081644],\"y\":[1.334123102004701e-06,-2.1601256017405457e-08,-3.732065226555486e-08,-3.754219283751929e-08,4.6898450650190344e-07,0.0,-3.825673429062792e-08,2.2341206637489734e-09,-2.8743001170360923e-08,-3.196126225907562e-08,-3.2812438416221836e-08]},{\"line\":{\"color\":\"rgba(251, 128, 114, 0.8999999999999999)\",\"dash\":\"solid\",\"shape\":\"linear\",\"width\":1.3},\"mode\":\"lines\",\"name\":\"Almond Milk\",\"text\":\"\",\"type\":\"scatter\",\"x\":[-0.6931471805599453,-0.5108256237659907,-0.35667494393873245,-0.2231435513142097,-0.10536051565782628,0.0,0.09531017980432493,0.1823215567939546,0.26236426446749106,0.3364722366212129,0.4054651081081644],\"y\":[-5.524650467534588e-05,9.308652126625635e-08,-2.0504814723213066e-08,-1.536663685891014e-08,1.2244816197076783e-08,0.0,-3.816239130914876e-08,8.208805887556619e-07,5.271968821812606e-07,3.825228770422488e-07,6.139396600539966e-07]},{\"line\":{\"color\":\"rgba(251, 128, 114, 0.7999999999999998)\",\"dash\":\"solid\",\"shape\":\"linear\",\"width\":1.3},\"mode\":\"lines\",\"name\":\"2% milk\",\"text\":\"\",\"type\":\"scatter\",\"x\":[-0.6931471805599453,-0.5108256237659907,-0.35667494393873245,-0.2231435513142097,-0.10536051565782628,0.0,0.09531017980432493,0.1823215567939546,0.26236426446749106,0.3364722366212129,0.4054651081081644],\"y\":[1.0460912303852154e-08,-7.1669775926574925e-09,-1.4448772189148452e-09,4.376270494597339e-08,3.604102196131115e-08,0.0,2.2327193999126795e-07,-3.839197344902033e-08,-3.7469250737976466e-08,-3.809282684119717e-08,-3.810492261048899e-08]},{\"line\":{\"color\":\"rgba(128, 177, 211, 0.7999999999999998)\",\"dash\":\"solid\",\"shape\":\"linear\",\"width\":1.3},\"mode\":\"lines\",\"name\":\"Cheddar cheese\",\"text\":\"\",\"type\":\"scatter\",\"x\":[-0.6931471805599453,-0.5108256237659907,-0.35667494393873245,-0.2231435513142097,-0.10536051565782628,0.0,0.09531017980432493,0.1823215567939546,0.26236426446749106,0.3364722366212129,0.4054651081081644],\"y\":[-0.17267277323568933,-0.12531943295313033,-0.0803154461260356,-0.0450526548980063,-0.021363167275550102,0.0,0.020916958692244227,0.0414039698072057,0.06144996887299758,0.06852874109935529,0.06852894678107754]},{\"line\":{\"color\":\"rgba(255, 153, 51, 0.7999999999999998)\",\"dash\":\"solid\",\"shape\":\"linear\",\"width\":1.3},\"mode\":\"lines\",\"name\":\"Unsalted butter\",\"text\":\"\",\"type\":\"scatter\",\"x\":[-0.6931471805599453,-0.5108256237659907,-0.35667494393873245,-0.2231435513142097,-0.10536051565782628,0.0,0.09531017980432493,0.1823215567939546,0.26236426446749106,0.3364722366212129,0.4054651081081644],\"y\":[1.0065673232368154e-07,2.572557760093624e-07,1.1599074560933231e-07,1.525906207098962e-07,-3.4860549166574874e-08,0.0,-7.196559707405686e-09,-1.7123873354904748e-08,-2.404856431821115e-08,-2.810198180342881e-08,-3.0347476326095475e-08]},{\"line\":{\"color\":\"rgba(55, 128, 191, 0.7999999999999998)\",\"dash\":\"solid\",\"shape\":\"linear\",\"width\":1.3},\"mode\":\"lines\",\"name\":\"Greek yogurt\",\"text\":\"\",\"type\":\"scatter\",\"x\":[-0.6931471805599453,-0.5108256237659907,-0.35667494393873245,-0.2231435513142097,-0.10536051565782628,0.0,0.09531017980432493,0.1823215567939546,0.26236426446749106,0.3364722366212129,0.4054651081081644],\"y\":[-3.8001367997216433e-08,-3.800963549532812e-08,4.622435882697368e-08,-1.4456868140528488e-08,3.199129045097616e-07,0.0,1.6053690692277897e-08,1.2787025797794972e-07,-1.0356977440460773e-08,-2.5095064008628594e-08,-2.401049043991206e-08]},{\"line\":{\"color\":\"rgba(50, 171, 96, 0.7999999999999998)\",\"dash\":\"solid\",\"shape\":\"linear\",\"width\":1.3},\"mode\":\"lines\",\"name\":\"Oat Milk\",\"text\":\"\",\"type\":\"scatter\",\"x\":[-0.6931471805599453,-0.5108256237659907,-0.35667494393873245,-0.2231435513142097,-0.10536051565782628,0.0,0.09531017980432493,0.1823215567939546,0.26236426446749106,0.3364722366212129,0.4054651081081644],\"y\":[-0.07936375348829887,-0.04123051397403098,-0.004707627385082649,-4.88015807601459e-06,-2.815385819695892e-08,0.0,-6.864431602272737e-09,2.5330398035049817e-07,1.0262846401214194e-07,1.2153331912848232e-07,-3.7388982942559343e-08]},{\"line\":{\"color\":\"rgba(128, 0, 128, 0.7999999999999998)\",\"dash\":\"solid\",\"shape\":\"linear\",\"width\":1.3},\"mode\":\"lines\",\"name\":\"Wheat Cereal\",\"text\":\"\",\"type\":\"scatter\",\"x\":[-0.6931471805599453,-0.5108256237659907,-0.35667494393873245,-0.2231435513142097,-0.10536051565782628,0.0,0.09531017980432493,0.1823215567939546,0.26236426446749106,0.3364722366212129,0.4054651081081644],\"y\":[-0.06657448983296516,-0.04876475980672063,-0.03385695220191377,-0.019168684252242378,-0.004693179527085833,0.0,1.0726645434239046e-06,8.013563499346842e-07,8.106810027960114e-07,7.968432347735244e-07,7.745190451636883e-07]},{\"line\":{\"color\":\"rgba(219, 64, 82, 0.7999999999999998)\",\"dash\":\"solid\",\"shape\":\"linear\",\"width\":1.3},\"mode\":\"lines\",\"name\":\"Granola\",\"text\":\"\",\"type\":\"scatter\",\"x\":[-0.6931471805599453,-0.5108256237659907,-0.35667494393873245,-0.2231435513142097,-0.10536051565782628,0.0,0.09531017980432493,0.1823215567939546,0.26236426446749106,0.3364722366212129,0.4054651081081644],\"y\":[-3.8105894943851007e-08,-3.7652561555836786e-08,-3.5131435600457575e-08,-2.466671675140933e-08,-6.5785851427364375e-09,0.0,-3.770760286275798e-08,-1.0054459315709094e-08,5.709864062865195e-08,1.4138134818197463e-07,1.3798525502781397e-07]},{\"line\":{\"color\":\"rgba(0, 128, 128, 0.7999999999999998)\",\"dash\":\"solid\",\"shape\":\"linear\",\"width\":1.3},\"mode\":\"lines\",\"name\":\"Brown Rice\",\"text\":\"\",\"type\":\"scatter\",\"x\":[-0.6931471805599453,-0.5108256237659907,-0.35667494393873245,-0.2231435513142097,-0.10536051565782628,0.0,0.09531017980432493,0.1823215567939546,0.26236426446749106,0.3364722366212129,0.4054651081081644],\"y\":[1.538488191734885e-07,-3.8324172459372664e-08,-2.230516951591638e-08,-4.183370103529386e-09,-2.669624521801602e-10,0.0,-5.406135540693397e-10,-1.5276292464905061e-09,-2.915262813182884e-09,-4.7552417672221795e-09,-7.34685315285504e-09]},{\"line\":{\"color\":\"rgba(255, 255, 51, 0.7999999999999998)\",\"dash\":\"solid\",\"shape\":\"linear\",\"width\":1.3},\"mode\":\"lines\",\"name\":\"Jasmine Rice\",\"text\":\"\",\"type\":\"scatter\",\"x\":[-0.6931471805599453,-0.5108256237659907,-0.35667494393873245,-0.2231435513142097,-0.10536051565782628,0.0,0.09531017980432493,0.1823215567939546,0.26236426446749106,0.3364722366212129,0.4054651081081644],\"y\":[9.546535661495865e-08,-2.4689558924570882e-08,2.4178028631748025e-07,-3.775846506801511e-08,-1.178673432474487e-08,0.0,-2.7446659427361992e-09,-9.825356354605444e-09,-1.7743053406272242e-08,-2.4560094260169065e-08,-2.9770267361439716e-08]},{\"line\":{\"color\":\"rgba(128, 128, 0, 0.7999999999999998)\",\"dash\":\"solid\",\"shape\":\"linear\",\"width\":1.3},\"mode\":\"lines\",\"name\":\"Potatoes\",\"text\":\"\",\"type\":\"scatter\",\"x\":[-0.6931471805599453,-0.5108256237659907,-0.35667494393873245,-0.2231435513142097,-0.10536051565782628,0.0,0.09531017980432493,0.1823215567939546,0.26236426446749106,0.3364722366212129,0.4054651081081644],\"y\":[2.9685042570082005e-07,2.272089135447371e-08,7.890152653794926e-07,-3.434933607701008e-08,-1.2918566966347069e-08,0.0,-2.220789810060504e-08,-2.850682730535254e-08,3.222284794974581e-07,2.634492929837477e-07,2.055733396484432e-07]},{\"line\":{\"color\":\"rgba(128, 128, 0, 0.7)\",\"dash\":\"solid\",\"shape\":\"linear\",\"width\":1.3},\"mode\":\"lines\",\"name\":\"Bananas\",\"text\":\"\",\"type\":\"scatter\",\"x\":[-0.6931471805599453,-0.5108256237659907,-0.35667494393873245,-0.2231435513142097,-0.10536051565782628,0.0,0.09531017980432493,0.1823215567939546,0.26236426446749106,0.3364722366212129,0.4054651081081644],\"y\":[-0.10889083912328991,-0.07151065364764912,-0.04018590038656962,-0.011843723223375227,-4.1160078763422344e-09,0.0,-3.7854142093493056e-08,-3.816426658693122e-08,1.5586965857832957e-07,-3.564179304150661e-08,1.2257168760342036e-08]},{\"line\":{\"color\":\"rgba(251, 128, 114, 0.7)\",\"dash\":\"solid\",\"shape\":\"linear\",\"width\":1.3},\"mode\":\"lines\",\"name\":\"Apples\",\"text\":\"\",\"type\":\"scatter\",\"x\":[-0.6931471805599453,-0.5108256237659907,-0.35667494393873245,-0.2231435513142097,-0.10536051565782628,0.0,0.09531017980432493,0.1823215567939546,0.26236426446749106,0.3364722366212129,0.4054651081081644],\"y\":[-0.03501991611386427,-0.00011786924257767204,-3.8183378521918203e-08,6.599133789138543e-07,8.950821172231336e-08,0.0,1.1752098065803296e-06,3.980217076652745e-08,-3.839972447136436e-08,3.32964650303706e-08,2.41758596883658e-08]},{\"line\":{\"color\":\"rgba(128, 177, 211, 0.7)\",\"dash\":\"solid\",\"shape\":\"linear\",\"width\":1.3},\"mode\":\"lines\",\"name\":\"Avocados\",\"text\":\"\",\"type\":\"scatter\",\"x\":[-0.6931471805599453,-0.5108256237659907,-0.35667494393873245,-0.2231435513142097,-0.10536051565782628,0.0,0.09531017980432493,0.1823215567939546,0.26236426446749106,0.3364722366212129,0.4054651081081644],\"y\":[-3.3196667410867584e-08,-3.0089795885761574e-08,6.375096974379092e-07,-3.393168237334046e-08,-3.803018750065215e-08,0.0,4.158664659428859e-08,-3.803233311775114e-08,-3.3664600563193916e-08,-3.836460078827538e-08,-3.282388370575831e-08]},{\"line\":{\"color\":\"rgba(255, 153, 51, 0.7)\",\"dash\":\"solid\",\"shape\":\"linear\",\"width\":1.3},\"mode\":\"lines\",\"name\":\"Blue Berries\",\"text\":\"\",\"type\":\"scatter\",\"x\":[-0.6931471805599453,-0.5108256237659907,-0.35667494393873245,-0.2231435513142097,-0.10536051565782628,0.0,0.09531017980432493,0.1823215567939546,0.26236426446749106,0.3364722366212129,0.4054651081081644],\"y\":[2.971642683371888e-07,4.932769108927872e-07,2.820391186993221e-07,8.682922203972467e-08,-1.1592684657251192e-08,0.0,-8.947706504676658e-09,-3.771568883939587e-08,-3.747965752491008e-08,6.213823795629715e-08,2.7365424218595596e-08]},{\"line\":{\"color\":\"rgba(55, 128, 191, 0.7)\",\"dash\":\"solid\",\"shape\":\"linear\",\"width\":1.3},\"mode\":\"lines\",\"name\":\"Tomatoes\",\"text\":\"\",\"type\":\"scatter\",\"x\":[-0.6931471805599453,-0.5108256237659907,-0.35667494393873245,-0.2231435513142097,-0.10536051565782628,0.0,0.09531017980432493,0.1823215567939546,0.26236426446749106,0.3364722366212129,0.4054651081081644],\"y\":[1.1317800340493192e-06,-3.824331657872829e-08,8.423936557336741e-07,4.169858352972186e-07,-3.805412224463907e-08,0.0,1.1392285791431848e-06,1.2537051660537574e-06,1.2276763117458994e-06,2.2393838474151405e-07,4.1255289978533566e-07]},{\"line\":{\"color\":\"rgba(50, 171, 96, 0.7)\",\"dash\":\"solid\",\"shape\":\"linear\",\"width\":1.3},\"mode\":\"lines\",\"name\":\"Kale\",\"text\":\"\",\"type\":\"scatter\",\"x\":[-0.6931471805599453,-0.5108256237659907,-0.35667494393873245,-0.2231435513142097,-0.10536051565782628,0.0,0.09531017980432493,0.1823215567939546,0.26236426446749106,0.3364722366212129,0.4054651081081644],\"y\":[2.228988546806794e-09,-3.729869747089484e-10,-1.144505713079806e-09,-1.1886759361660464e-09,-6.968386980984317e-10,0.0,8.65598925495273e-10,1.8229895354419355e-09,2.7822963894071746e-09,3.615902015709668e-09,4.1245562435881985e-09]},{\"line\":{\"color\":\"rgba(128, 0, 128, 0.7)\",\"dash\":\"solid\",\"shape\":\"linear\",\"width\":1.3},\"mode\":\"lines\",\"name\":\"Garlic\",\"text\":\"\",\"type\":\"scatter\",\"x\":[-0.6931471805599453,-0.5108256237659907,-0.35667494393873245,-0.2231435513142097,-0.10536051565782628,0.0,0.09531017980432493,0.1823215567939546,0.26236426446749106,0.3364722366212129,0.4054651081081644],\"y\":[6.094109098180941e-08,2.2181959895619247e-07,1.3654633113433833e-07,4.077288645743955e-08,-3.778115358660329e-08,0.0,-7.883816408584738e-09,-2.0399106612118286e-08,-2.8629209191254625e-08,-3.317350216260083e-08,-3.531761967517855e-08]},{\"line\":{\"color\":\"rgba(219, 64, 82, 0.7)\",\"dash\":\"solid\",\"shape\":\"linear\",\"width\":1.3},\"mode\":\"lines\",\"name\":\"Red Onion\",\"text\":\"\",\"type\":\"scatter\",\"x\":[-0.6931471805599453,-0.5108256237659907,-0.35667494393873245,-0.2231435513142097,-0.10536051565782628,0.0,0.09531017980432493,0.1823215567939546,0.26236426446749106,0.3364722366212129,0.4054651081081644],\"y\":[9.27847017132389e-09,5.225120988887968e-09,3.246520158543269e-09,2.5776172274480464e-09,1.9433705736861322e-09,0.0,-9.161490275078088e-09,-3.2717100786416e-08,-3.8114834459985974e-08,1.7408167657617344e-07,-2.8053835981413382e-08]},{\"line\":{\"color\":\"rgba(0, 128, 128, 0.7)\",\"dash\":\"solid\",\"shape\":\"linear\",\"width\":1.3},\"mode\":\"lines\",\"name\":\"Yellow Onion\",\"text\":\"\",\"type\":\"scatter\",\"x\":[-0.6931471805599453,-0.5108256237659907,-0.35667494393873245,-0.2231435513142097,-0.10536051565782628,0.0,0.09531017980432493,0.1823215567939546,0.26236426446749106,0.3364722366212129,0.4054651081081644],\"y\":[-1.5258963542552627e-08,3.104830394844684e-07,-3.7257443602669983e-08,-8.370885464301091e-09,-3.267358606430002e-10,0.0,-1.2679654001469088e-09,-3.182409119074773e-09,-5.07079368670125e-09,-6.941241272538609e-09,-8.956128323549948e-09]},{\"line\":{\"color\":\"rgba(255, 255, 51, 0.7)\",\"dash\":\"solid\",\"shape\":\"linear\",\"width\":1.3},\"mode\":\"lines\",\"name\":\"White Onion\",\"text\":\"\",\"type\":\"scatter\",\"x\":[-0.6931471805599453,-0.5108256237659907,-0.35667494393873245,-0.2231435513142097,-0.10536051565782628,0.0,0.09531017980432493,0.1823215567939546,0.26236426446749106,0.3364722366212129,0.4054651081081644],\"y\":[1.3964089397929792e-07,-1.4057417551112202e-08,2.959032682959199e-07,-3.7903913948683825e-08,-6.118843672699535e-09,0.0,-2.2584325546327264e-09,-6.529051765012036e-09,-1.0755827730803043e-08,-1.4397554696626765e-08,-1.7329842156026006e-08]},{\"line\":{\"color\":\"rgba(255, 255, 51, 0.5999999999999999)\",\"dash\":\"solid\",\"shape\":\"linear\",\"width\":1.3},\"mode\":\"lines\",\"name\":\"Cauliflower\",\"text\":\"\",\"type\":\"scatter\",\"x\":[-0.6931471805599453,-0.5108256237659907,-0.35667494393873245,-0.2231435513142097,-0.10536051565782628,0.0,0.09531017980432493,0.1823215567939546,0.26236426446749106,0.3364722366212129,0.4054651081081644],\"y\":[-0.05847985701051432,-0.03939909704867969,-0.022511462325868904,-0.006732674255379834,-0.00011731287252124067,0.0,5.328409883215115e-05,5.307991741257672e-05,5.3080724140404494e-05,5.310128555200517e-05,5.310308769244314e-05]},{\"line\":{\"color\":\"rgba(128, 128, 0, 0.5999999999999999)\",\"dash\":\"solid\",\"shape\":\"linear\",\"width\":1.3},\"mode\":\"lines\",\"name\":\"Broccoli\",\"text\":\"\",\"type\":\"scatter\",\"x\":[-0.6931471805599453,-0.5108256237659907,-0.35667494393873245,-0.2231435513142097,-0.10536051565782628,0.0,0.09531017980432493,0.1823215567939546,0.26236426446749106,0.3364722366212129,0.4054651081081644],\"y\":[-0.08292641181647056,-0.05843669732902234,-0.03467284648306031,-0.012617936397725057,-0.00011337688848276199,0.0,-3.7168218638596525e-08,-3.8158557153786904e-08,9.821262827394506e-07,2.749528093573125e-07,1.7557676148156943e-07]},{\"line\":{\"color\":\"rgba(251, 128, 114, 0.5999999999999999)\",\"dash\":\"solid\",\"shape\":\"linear\",\"width\":1.3},\"mode\":\"lines\",\"name\":\"Carrots\",\"text\":\"\",\"type\":\"scatter\",\"x\":[-0.6931471805599453,-0.5108256237659907,-0.35667494393873245,-0.2231435513142097,-0.10536051565782628,0.0,0.09531017980432493,0.1823215567939546,0.26236426446749106,0.3364722366212129,0.4054651081081644],\"y\":[-2.871297740824346e-08,1.6989913997900577e-08,-6.156707385097565e-09,2.2119980443344351e-07,6.885057664564345e-08,0.0,-3.6184015661132194e-08,8.810736651261309e-07,2.7571875735468822e-08,1.8263086729439518e-07,2.0383132502832437e-07]},{\"line\":{\"color\":\"rgba(128, 177, 211, 0.5999999999999999)\",\"dash\":\"solid\",\"shape\":\"linear\",\"width\":1.3},\"mode\":\"lines\",\"name\":\"Sweet Potatoes\",\"text\":\"\",\"type\":\"scatter\",\"x\":[-0.6931471805599453,-0.5108256237659907,-0.35667494393873245,-0.2231435513142097,-0.10536051565782628,0.0,0.09531017980432493,0.1823215567939546,0.26236426446749106,0.3364722366212129,0.4054651081081644],\"y\":[4.921227848893358e-07,4.1078129987068245e-07,1.6767494119627227e-07,1.243121794840029e-07,2.3164554678194e-07,0.0,-2.0154904726227613e-08,-3.635712508310191e-08,-3.8263181022911664e-08,-3.8345463762243615e-08,-3.833471857931011e-08]},{\"line\":{\"color\":\"rgba(255, 153, 51, 0.5999999999999999)\",\"dash\":\"solid\",\"shape\":\"linear\",\"width\":1.3},\"mode\":\"lines\",\"name\":\"Romaine Lettuce\",\"text\":\"\",\"type\":\"scatter\",\"x\":[-0.6931471805599453,-0.5108256237659907,-0.35667494393873245,-0.2231435513142097,-0.10536051565782628,0.0,0.09531017980432493,0.1823215567939546,0.26236426446749106,0.3364722366212129,0.4054651081081644],\"y\":[-0.034750032769330086,-0.012640729885577111,-0.005533937826629226,-1.6021461841210955e-08,-3.14585832336071e-08,0.0,8.258097575621593e-08,6.929517776756184e-07,1.9431209574224613e-07,8.326684960966079e-07,-3.8302468375565804e-08]},{\"line\":{\"color\":\"rgba(55, 128, 191, 0.5999999999999999)\",\"dash\":\"solid\",\"shape\":\"linear\",\"width\":1.3},\"mode\":\"lines\",\"name\":\"Spinach\",\"text\":\"\",\"type\":\"scatter\",\"x\":[-0.6931471805599453,-0.5108256237659907,-0.35667494393873245,-0.2231435513142097,-0.10536051565782628,0.0,0.09531017980432493,0.1823215567939546,0.26236426446749106,0.3364722366212129,0.4054651081081644],\"y\":[3.886432015942953e-07,3.2160261367326215e-07,1.6165696848644332e-06,-3.1002109360639207e-08,-7.256447580277401e-09,0.0,-4.000274556848676e-10,-4.804154086095759e-09,-1.1138608764089155e-08,-1.8122927101145653e-08,-2.439624010368977e-08]},{\"line\":{\"color\":\"rgba(50, 171, 96, 0.5999999999999999)\",\"dash\":\"solid\",\"shape\":\"linear\",\"width\":1.3},\"mode\":\"lines\",\"name\":\"Cucumbers\",\"text\":\"\",\"type\":\"scatter\",\"x\":[-0.6931471805599453,-0.5108256237659907,-0.35667494393873245,-0.2231435513142097,-0.10536051565782628,0.0,0.09531017980432493,0.1823215567939546,0.26236426446749106,0.3364722366212129,0.4054651081081644],\"y\":[-0.06770167597497798,-0.02813589787659725,-3.831049351198442e-08,-1.337831920867357e-08,-2.309335614294232e-09,0.0,-3.773460215546768e-08,-3.748662495180688e-08,-3.8110733629043626e-08,-3.809934629309073e-08,-3.789150387524425e-08]},{\"line\":{\"color\":\"rgba(128, 0, 128, 0.5999999999999999)\",\"dash\":\"solid\",\"shape\":\"linear\",\"width\":1.3},\"mode\":\"lines\",\"name\":\"Cremini Mushrooms\",\"text\":\"\",\"type\":\"scatter\",\"x\":[-0.6931471805599453,-0.5108256237659907,-0.35667494393873245,-0.2231435513142097,-0.10536051565782628,0.0,0.09531017980432493,0.1823215567939546,0.26236426446749106,0.3364722366212129,0.4054651081081644],\"y\":[-1.4435478583427063e-08,-3.693323248823394e-08,4.833713142797304e-07,5.546020736842947e-07,-3.8351591194373796e-08,0.0,-2.174360226639204e-08,-3.683879580405291e-08,-3.833455426629616e-08,1.1406840223597732e-06,7.701965303810039e-07]},{\"line\":{\"color\":\"rgba(219, 64, 82, 0.5999999999999999)\",\"dash\":\"solid\",\"shape\":\"linear\",\"width\":1.3},\"mode\":\"lines\",\"name\":\"Jalepenos\",\"text\":\"\",\"type\":\"scatter\",\"x\":[-0.6931471805599453,-0.5108256237659907,-0.35667494393873245,-0.2231435513142097,-0.10536051565782628,0.0,0.09531017980432493,0.1823215567939546,0.26236426446749106,0.3364722366212129,0.4054651081081644],\"y\":[-0.17042384868896596,-0.12980213052518733,-0.09076582798515247,-0.05459794172754366,-0.02685310433985291,0.0,0.024377656195674023,0.026728020865834784,0.026728468150667237,0.02672802100392945,0.02672802085285678]},{\"line\":{\"color\":\"rgba(0, 128, 128, 0.5999999999999999)\",\"dash\":\"solid\",\"shape\":\"linear\",\"width\":1.3},\"mode\":\"lines\",\"name\":\"Olive Oil\",\"text\":\"\",\"type\":\"scatter\",\"x\":[-0.6931471805599453,-0.5108256237659907,-0.35667494393873245,-0.2231435513142097,-0.10536051565782628,0.0,0.09531017980432493,0.1823215567939546,0.26236426446749106,0.3364722366212129,0.4054651081081644],\"y\":[2.7901728432054095e-07,2.0915153708865633e-07,2.3016301044422602e-08,-3.7857523499887165e-08,-1.1148805274505544e-08,0.0,-5.828569754950641e-09,-1.2594651401174837e-08,-1.7903403031599104e-08,-2.1718213907757803e-08,-2.4358638847330537e-08]},{\"line\":{\"color\":\"rgba(0, 128, 128, 0.49999999999999983)\",\"dash\":\"solid\",\"shape\":\"linear\",\"width\":1.3},\"mode\":\"lines\",\"name\":\"Vegetable Oil\",\"text\":\"\",\"type\":\"scatter\",\"x\":[-0.6931471805599453,-0.5108256237659907,-0.35667494393873245,-0.2231435513142097,-0.10536051565782628,0.0,0.09531017980432493,0.1823215567939546,0.26236426446749106,0.3364722366212129,0.4054651081081644],\"y\":[2.1555186555122303e-07,1.3437861386697474e-07,-9.212031846470832e-09,2.3262963314349114e-07,-3.354053335806768e-08,0.0,-5.2517073050552215e-09,-1.8413364003206292e-08,-2.9419631497377333e-08,-3.5596095149962303e-08,-3.759118009805354e-08]},{\"line\":{\"color\":\"rgba(255, 255, 51, 0.49999999999999983)\",\"dash\":\"solid\",\"shape\":\"linear\",\"width\":1.3},\"mode\":\"lines\",\"name\":\"Salt\",\"text\":\"\",\"type\":\"scatter\",\"x\":[-0.6931471805599453,-0.5108256237659907,-0.35667494393873245,-0.2231435513142097,-0.10536051565782628,0.0,0.09531017980432493,0.1823215567939546,0.26236426446749106,0.3364722366212129,0.4054651081081644],\"y\":[-3.6310699218261226e-08,-3.300651251274055e-08,-2.777372659345924e-08,-2.0827172314944618e-08,-1.1418519306437664e-08,0.0,9.873527058275008e-09,2.0397860525786524e-08,3.1236728493332175e-08,4.1632422197912213e-08,4.9952106313817505e-08]},{\"line\":{\"color\":\"rgba(128, 128, 0, 0.49999999999999983)\",\"dash\":\"solid\",\"shape\":\"linear\",\"width\":1.3},\"mode\":\"lines\",\"name\":\"Tomato Sauce\",\"text\":\"\",\"type\":\"scatter\",\"x\":[-0.6931471805599453,-0.5108256237659907,-0.35667494393873245,-0.2231435513142097,-0.10536051565782628,0.0,0.09531017980432493,0.1823215567939546,0.26236426446749106,0.3364722366212129,0.4054651081081644],\"y\":[2.429138326326951e-07,1.6153486995262406e-06,1.5111545219191672e-06,3.634536899311581e-07,2.388262986401002e-07,0.0,-3.7371359594674584e-08,6.481630261366217e-07,1.0076456285227036e-08,1.637047373138295e-08,4.928596185682953e-09]},{\"line\":{\"color\":\"rgba(251, 128, 114, 0.49999999999999983)\",\"dash\":\"solid\",\"shape\":\"linear\",\"width\":1.3},\"mode\":\"lines\",\"name\":\"Sugar\",\"text\":\"\",\"type\":\"scatter\",\"x\":[-0.6931471805599453,-0.5108256237659907,-0.35667494393873245,-0.2231435513142097,-0.10536051565782628,0.0,0.09531017980432493,0.1823215567939546,0.26236426446749106,0.3364722366212129,0.4054651081081644],\"y\":[3.5323843448123534e-08,4.645755103149644e-09,2.561562607019282e-07,-3.762303373009559e-08,-1.3148219044474582e-08,0.0,-1.6152639239208888e-09,-8.630360685595547e-09,-1.735169833993469e-08,-2.5226985152625924e-08,-3.123909946223011e-08]},{\"line\":{\"color\":\"rgba(128, 177, 211, 0.49999999999999983)\",\"dash\":\"solid\",\"shape\":\"linear\",\"width\":1.3},\"mode\":\"lines\",\"name\":\"Honey\",\"text\":\"\",\"type\":\"scatter\",\"x\":[-0.6931471805599453,-0.5108256237659907,-0.35667494393873245,-0.2231435513142097,-0.10536051565782628,0.0,0.09531017980432493,0.1823215567939546,0.26236426446749106,0.3364722366212129,0.4054651081081644],\"y\":[1.0437210034004582e-06,1.5482457201370363e-06,3.0278222319636493e-07,4.52793385859614e-08,1.2828721084118449e-07,0.0,-3.6124271671437264e-08,-3.837499547378688e-08,3.8848605602551437e-07,3.226275128301538e-08,2.839966380692431e-07]},{\"line\":{\"color\":\"rgba(255, 153, 51, 0.49999999999999983)\",\"dash\":\"solid\",\"shape\":\"linear\",\"width\":1.3},\"mode\":\"lines\",\"name\":\"Bread (multi grain)\",\"text\":\"\",\"type\":\"scatter\",\"x\":[-0.6931471805599453,-0.5108256237659907,-0.35667494393873245,-0.2231435513142097,-0.10536051565782628,0.0,0.09531017980432493,0.1823215567939546,0.26236426446749106,0.3364722366212129,0.4054651081081644],\"y\":[-0.13222052214734414,-0.08637215581761698,-0.04271518411984001,-0.005339881772156746,8.529115960589303e-08,0.0,-2.2351482359400405e-08,-3.071127266359889e-08,-3.544153544609933e-08,-3.785076046505435e-08,-3.8158785193604864e-08]}],                        {\"legend\":{\"bgcolor\":\"#F5F6F9\",\"font\":{\"color\":\"#4D5663\"}},\"paper_bgcolor\":\"#F5F6F9\",\"plot_bgcolor\":\"#F5F6F9\",\"template\":{\"data\":{\"bar\":[{\"error_x\":{\"color\":\"#2a3f5f\"},\"error_y\":{\"color\":\"#2a3f5f\"},\"marker\":{\"line\":{\"color\":\"#E5ECF6\",\"width\":0.5},\"pattern\":{\"fillmode\":\"overlay\",\"size\":10,\"solidity\":0.2}},\"type\":\"bar\"}],\"barpolar\":[{\"marker\":{\"line\":{\"color\":\"#E5ECF6\",\"width\":0.5},\"pattern\":{\"fillmode\":\"overlay\",\"size\":10,\"solidity\":0.2}},\"type\":\"barpolar\"}],\"carpet\":[{\"aaxis\":{\"endlinecolor\":\"#2a3f5f\",\"gridcolor\":\"white\",\"linecolor\":\"white\",\"minorgridcolor\":\"white\",\"startlinecolor\":\"#2a3f5f\"},\"baxis\":{\"endlinecolor\":\"#2a3f5f\",\"gridcolor\":\"white\",\"linecolor\":\"white\",\"minorgridcolor\":\"white\",\"startlinecolor\":\"#2a3f5f\"},\"type\":\"carpet\"}],\"choropleth\":[{\"colorbar\":{\"outlinewidth\":0,\"ticks\":\"\"},\"type\":\"choropleth\"}],\"contour\":[{\"colorbar\":{\"outlinewidth\":0,\"ticks\":\"\"},\"colorscale\":[[0.0,\"#0d0887\"],[0.1111111111111111,\"#46039f\"],[0.2222222222222222,\"#7201a8\"],[0.3333333333333333,\"#9c179e\"],[0.4444444444444444,\"#bd3786\"],[0.5555555555555556,\"#d8576b\"],[0.6666666666666666,\"#ed7953\"],[0.7777777777777778,\"#fb9f3a\"],[0.8888888888888888,\"#fdca26\"],[1.0,\"#f0f921\"]],\"type\":\"contour\"}],\"contourcarpet\":[{\"colorbar\":{\"outlinewidth\":0,\"ticks\":\"\"},\"type\":\"contourcarpet\"}],\"heatmap\":[{\"colorbar\":{\"outlinewidth\":0,\"ticks\":\"\"},\"colorscale\":[[0.0,\"#0d0887\"],[0.1111111111111111,\"#46039f\"],[0.2222222222222222,\"#7201a8\"],[0.3333333333333333,\"#9c179e\"],[0.4444444444444444,\"#bd3786\"],[0.5555555555555556,\"#d8576b\"],[0.6666666666666666,\"#ed7953\"],[0.7777777777777778,\"#fb9f3a\"],[0.8888888888888888,\"#fdca26\"],[1.0,\"#f0f921\"]],\"type\":\"heatmap\"}],\"heatmapgl\":[{\"colorbar\":{\"outlinewidth\":0,\"ticks\":\"\"},\"colorscale\":[[0.0,\"#0d0887\"],[0.1111111111111111,\"#46039f\"],[0.2222222222222222,\"#7201a8\"],[0.3333333333333333,\"#9c179e\"],[0.4444444444444444,\"#bd3786\"],[0.5555555555555556,\"#d8576b\"],[0.6666666666666666,\"#ed7953\"],[0.7777777777777778,\"#fb9f3a\"],[0.8888888888888888,\"#fdca26\"],[1.0,\"#f0f921\"]],\"type\":\"heatmapgl\"}],\"histogram\":[{\"marker\":{\"pattern\":{\"fillmode\":\"overlay\",\"size\":10,\"solidity\":0.2}},\"type\":\"histogram\"}],\"histogram2d\":[{\"colorbar\":{\"outlinewidth\":0,\"ticks\":\"\"},\"colorscale\":[[0.0,\"#0d0887\"],[0.1111111111111111,\"#46039f\"],[0.2222222222222222,\"#7201a8\"],[0.3333333333333333,\"#9c179e\"],[0.4444444444444444,\"#bd3786\"],[0.5555555555555556,\"#d8576b\"],[0.6666666666666666,\"#ed7953\"],[0.7777777777777778,\"#fb9f3a\"],[0.8888888888888888,\"#fdca26\"],[1.0,\"#f0f921\"]],\"type\":\"histogram2d\"}],\"histogram2dcontour\":[{\"colorbar\":{\"outlinewidth\":0,\"ticks\":\"\"},\"colorscale\":[[0.0,\"#0d0887\"],[0.1111111111111111,\"#46039f\"],[0.2222222222222222,\"#7201a8\"],[0.3333333333333333,\"#9c179e\"],[0.4444444444444444,\"#bd3786\"],[0.5555555555555556,\"#d8576b\"],[0.6666666666666666,\"#ed7953\"],[0.7777777777777778,\"#fb9f3a\"],[0.8888888888888888,\"#fdca26\"],[1.0,\"#f0f921\"]],\"type\":\"histogram2dcontour\"}],\"mesh3d\":[{\"colorbar\":{\"outlinewidth\":0,\"ticks\":\"\"},\"type\":\"mesh3d\"}],\"parcoords\":[{\"line\":{\"colorbar\":{\"outlinewidth\":0,\"ticks\":\"\"}},\"type\":\"parcoords\"}],\"pie\":[{\"automargin\":true,\"type\":\"pie\"}],\"scatter\":[{\"marker\":{\"colorbar\":{\"outlinewidth\":0,\"ticks\":\"\"}},\"type\":\"scatter\"}],\"scatter3d\":[{\"line\":{\"colorbar\":{\"outlinewidth\":0,\"ticks\":\"\"}},\"marker\":{\"colorbar\":{\"outlinewidth\":0,\"ticks\":\"\"}},\"type\":\"scatter3d\"}],\"scattercarpet\":[{\"marker\":{\"colorbar\":{\"outlinewidth\":0,\"ticks\":\"\"}},\"type\":\"scattercarpet\"}],\"scattergeo\":[{\"marker\":{\"colorbar\":{\"outlinewidth\":0,\"ticks\":\"\"}},\"type\":\"scattergeo\"}],\"scattergl\":[{\"marker\":{\"colorbar\":{\"outlinewidth\":0,\"ticks\":\"\"}},\"type\":\"scattergl\"}],\"scattermapbox\":[{\"marker\":{\"colorbar\":{\"outlinewidth\":0,\"ticks\":\"\"}},\"type\":\"scattermapbox\"}],\"scatterpolar\":[{\"marker\":{\"colorbar\":{\"outlinewidth\":0,\"ticks\":\"\"}},\"type\":\"scatterpolar\"}],\"scatterpolargl\":[{\"marker\":{\"colorbar\":{\"outlinewidth\":0,\"ticks\":\"\"}},\"type\":\"scatterpolargl\"}],\"scatterternary\":[{\"marker\":{\"colorbar\":{\"outlinewidth\":0,\"ticks\":\"\"}},\"type\":\"scatterternary\"}],\"surface\":[{\"colorbar\":{\"outlinewidth\":0,\"ticks\":\"\"},\"colorscale\":[[0.0,\"#0d0887\"],[0.1111111111111111,\"#46039f\"],[0.2222222222222222,\"#7201a8\"],[0.3333333333333333,\"#9c179e\"],[0.4444444444444444,\"#bd3786\"],[0.5555555555555556,\"#d8576b\"],[0.6666666666666666,\"#ed7953\"],[0.7777777777777778,\"#fb9f3a\"],[0.8888888888888888,\"#fdca26\"],[1.0,\"#f0f921\"]],\"type\":\"surface\"}],\"table\":[{\"cells\":{\"fill\":{\"color\":\"#EBF0F8\"},\"line\":{\"color\":\"white\"}},\"header\":{\"fill\":{\"color\":\"#C8D4E3\"},\"line\":{\"color\":\"white\"}},\"type\":\"table\"}]},\"layout\":{\"annotationdefaults\":{\"arrowcolor\":\"#2a3f5f\",\"arrowhead\":0,\"arrowwidth\":1},\"autotypenumbers\":\"strict\",\"coloraxis\":{\"colorbar\":{\"outlinewidth\":0,\"ticks\":\"\"}},\"colorscale\":{\"diverging\":[[0,\"#8e0152\"],[0.1,\"#c51b7d\"],[0.2,\"#de77ae\"],[0.3,\"#f1b6da\"],[0.4,\"#fde0ef\"],[0.5,\"#f7f7f7\"],[0.6,\"#e6f5d0\"],[0.7,\"#b8e186\"],[0.8,\"#7fbc41\"],[0.9,\"#4d9221\"],[1,\"#276419\"]],\"sequential\":[[0.0,\"#0d0887\"],[0.1111111111111111,\"#46039f\"],[0.2222222222222222,\"#7201a8\"],[0.3333333333333333,\"#9c179e\"],[0.4444444444444444,\"#bd3786\"],[0.5555555555555556,\"#d8576b\"],[0.6666666666666666,\"#ed7953\"],[0.7777777777777778,\"#fb9f3a\"],[0.8888888888888888,\"#fdca26\"],[1.0,\"#f0f921\"]],\"sequentialminus\":[[0.0,\"#0d0887\"],[0.1111111111111111,\"#46039f\"],[0.2222222222222222,\"#7201a8\"],[0.3333333333333333,\"#9c179e\"],[0.4444444444444444,\"#bd3786\"],[0.5555555555555556,\"#d8576b\"],[0.6666666666666666,\"#ed7953\"],[0.7777777777777778,\"#fb9f3a\"],[0.8888888888888888,\"#fdca26\"],[1.0,\"#f0f921\"]]},\"colorway\":[\"#636efa\",\"#EF553B\",\"#00cc96\",\"#ab63fa\",\"#FFA15A\",\"#19d3f3\",\"#FF6692\",\"#B6E880\",\"#FF97FF\",\"#FECB52\"],\"font\":{\"color\":\"#2a3f5f\"},\"geo\":{\"bgcolor\":\"white\",\"lakecolor\":\"white\",\"landcolor\":\"#E5ECF6\",\"showlakes\":true,\"showland\":true,\"subunitcolor\":\"white\"},\"hoverlabel\":{\"align\":\"left\"},\"hovermode\":\"closest\",\"mapbox\":{\"style\":\"light\"},\"paper_bgcolor\":\"white\",\"plot_bgcolor\":\"#E5ECF6\",\"polar\":{\"angularaxis\":{\"gridcolor\":\"white\",\"linecolor\":\"white\",\"ticks\":\"\"},\"bgcolor\":\"#E5ECF6\",\"radialaxis\":{\"gridcolor\":\"white\",\"linecolor\":\"white\",\"ticks\":\"\"}},\"scene\":{\"xaxis\":{\"backgroundcolor\":\"#E5ECF6\",\"gridcolor\":\"white\",\"gridwidth\":2,\"linecolor\":\"white\",\"showbackground\":true,\"ticks\":\"\",\"zerolinecolor\":\"white\"},\"yaxis\":{\"backgroundcolor\":\"#E5ECF6\",\"gridcolor\":\"white\",\"gridwidth\":2,\"linecolor\":\"white\",\"showbackground\":true,\"ticks\":\"\",\"zerolinecolor\":\"white\"},\"zaxis\":{\"backgroundcolor\":\"#E5ECF6\",\"gridcolor\":\"white\",\"gridwidth\":2,\"linecolor\":\"white\",\"showbackground\":true,\"ticks\":\"\",\"zerolinecolor\":\"white\"}},\"shapedefaults\":{\"line\":{\"color\":\"#2a3f5f\"}},\"ternary\":{\"aaxis\":{\"gridcolor\":\"white\",\"linecolor\":\"white\",\"ticks\":\"\"},\"baxis\":{\"gridcolor\":\"white\",\"linecolor\":\"white\",\"ticks\":\"\"},\"bgcolor\":\"#E5ECF6\",\"caxis\":{\"gridcolor\":\"white\",\"linecolor\":\"white\",\"ticks\":\"\"}},\"title\":{\"x\":0.05},\"xaxis\":{\"automargin\":true,\"gridcolor\":\"white\",\"linecolor\":\"white\",\"ticks\":\"\",\"title\":{\"standoff\":15},\"zerolinecolor\":\"white\",\"zerolinewidth\":2},\"yaxis\":{\"automargin\":true,\"gridcolor\":\"white\",\"linecolor\":\"white\",\"ticks\":\"\",\"title\":{\"standoff\":15},\"zerolinecolor\":\"white\",\"zerolinewidth\":2}}},\"title\":{\"font\":{\"color\":\"#4D5663\"}},\"xaxis\":{\"gridcolor\":\"#E1E5ED\",\"showgrid\":true,\"tickfont\":{\"color\":\"#4D5663\"},\"title\":{\"font\":{\"color\":\"#4D5663\"},\"text\":\"change in log price\"},\"zerolinecolor\":\"#E1E5ED\"},\"yaxis\":{\"gridcolor\":\"#E1E5ED\",\"showgrid\":true,\"tickfont\":{\"color\":\"#4D5663\"},\"title\":{\"font\":{\"color\":\"#4D5663\"},\"text\":\"change in log cost\"},\"zerolinecolor\":\"#E1E5ED\"}},                        {\"showLink\": true, \"linkText\": \"Export to plot.ly\", \"plotlyServerURL\": \"https://plot.ly\", \"responsive\": true}                    ).then(function(){\n",
       "                            \n",
       "var gd = document.getElementById('0d103a52-2a92-40bf-9856-cfe127bf773b');\n",
       "var x = new MutationObserver(function (mutations, observer) {{\n",
       "        var display = window.getComputedStyle(gd).display;\n",
       "        if (!display || display === 'none') {{\n",
       "            console.log([gd, 'removed!']);\n",
       "            Plotly.purge(gd);\n",
       "            observer.disconnect();\n",
       "        }}\n",
       "}});\n",
       "\n",
       "// Listen for the removal of the full notebook cells\n",
       "var notebookContainer = gd.closest('#notebook-container');\n",
       "if (notebookContainer) {{\n",
       "    x.observe(notebookContainer, {childList: true});\n",
       "}}\n",
       "\n",
       "// Listen for the clearing of the current output cell\n",
       "var outputEl = gd.closest('.output');\n",
       "if (outputEl) {{\n",
       "    x.observe(outputEl, {childList: true});\n",
       "}}\n",
       "\n",
       "                        })                };                });            </script>        </div>"
      ]
     },
     "metadata": {},
     "output_type": "display_data"
    }
   ],
   "source": [
    "import cufflinks as cf\n",
    "cf.go_offline()\n",
    "\n",
    "#Berkeley Bowl\n",
    "\n",
    "scale = [.5,.6,.7,.8,.9,1.,1.1,1.2,1.3,1.4,1.5]\n",
    "\n",
    "cost0 = solve_subsistence_problem(FoodNutrients,prices_bb,diet_min[group],diet_max[group],tol=tol).fun\n",
    "\n",
    "Price_response={}\n",
    "for s in scale:\n",
    "    cost = {}\n",
    "    for i,p in enumerate(prices_bb):\n",
    "        my_p = prices_bb.copy()\n",
    "        my_p[i] = p*s\n",
    "        result = solve_subsistence_problem(FoodNutrients,my_p,diet_min[group],diet_max[group],tol=tol)\n",
    "        cost[prices_bb.index[i]] = np.log(result.fun/cost0)\n",
    "    Price_response[np.log(s)] = cost\n",
    "\n",
    "Price_response = pd.DataFrame(Price_response).T\n",
    "Price_response.iplot(xTitle='change in log price',yTitle='change in log cost')"
   ]
  },
  {
   "cell_type": "markdown",
   "id": "3fd71c4d",
   "metadata": {},
   "source": [
    "###  Trader Joe's\n",
    "We find that at Trader Joe's, Romaine Lettuce and peanut butter are most sensitive to price changes, both increases and decreases"
   ]
  },
  {
   "cell_type": "code",
   "execution_count": 67,
   "id": "4ae6d895",
   "metadata": {},
   "outputs": [
    {
     "data": {
      "application/vnd.plotly.v1+json": {
       "config": {
        "linkText": "Export to plot.ly",
        "plotlyServerURL": "https://plot.ly",
        "showLink": true
       },
       "data": [
        {
         "line": {
          "color": "rgba(255, 153, 51, 1.0)",
          "dash": "solid",
          "shape": "linear",
          "width": 1.3
         },
         "mode": "lines",
         "name": "Chicken breast",
         "text": "",
         "type": "scatter",
         "x": [
          -0.6931471805599453,
          -0.5108256237659907,
          -0.35667494393873245,
          -0.2231435513142097,
          -0.10536051565782628,
          0,
          0.09531017980432493,
          0.1823215567939546,
          0.26236426446749106,
          0.3364722366212129,
          0.4054651081081644
         ],
         "y": [
          9.459863045099627e-08,
          3.7613383255636635e-08,
          1.7202476850472083e-08,
          8.259550120821987e-09,
          3.0038764763776522e-09,
          0,
          -1.3348953062958435e-09,
          -1.7281613932607285e-09,
          -1.8233006232572935e-09,
          -1.8096985038017852e-09,
          -1.6924417437391621e-09
         ]
        },
        {
         "line": {
          "color": "rgba(55, 128, 191, 1.0)",
          "dash": "solid",
          "shape": "linear",
          "width": 1.3
         },
         "mode": "lines",
         "name": "Chicken thigh",
         "text": "",
         "type": "scatter",
         "x": [
          -0.6931471805599453,
          -0.5108256237659907,
          -0.35667494393873245,
          -0.2231435513142097,
          -0.10536051565782628,
          0,
          0.09531017980432493,
          0.1823215567939546,
          0.26236426446749106,
          0.3364722366212129,
          0.4054651081081644
         ],
         "y": [
          -1.824963293262005e-09,
          -1.7868008200115303e-09,
          -1.6618947343214857e-09,
          -1.379793280584139e-09,
          -7.868825594213377e-10,
          0,
          8.131364467336711e-10,
          1.1362539791487962e-09,
          7.458751391514211e-10,
          4.8996362521557085e-11,
          -6.295861611810428e-10
         ]
        },
        {
         "line": {
          "color": "rgba(50, 171, 96, 1.0)",
          "dash": "solid",
          "shape": "linear",
          "width": 1.3
         },
         "mode": "lines",
         "name": "Ground Beef",
         "text": "",
         "type": "scatter",
         "x": [
          -0.6931471805599453,
          -0.5108256237659907,
          -0.35667494393873245,
          -0.2231435513142097,
          -0.10536051565782628,
          0,
          0.09531017980432493,
          0.1823215567939546,
          0.26236426446749106,
          0.3364722366212129,
          0.4054651081081644
         ],
         "y": [
          -1.7761896413901667e-09,
          4.970939405823497e-07,
          -1.7988532901661665e-09,
          -1.6457277776324597e-09,
          -1.050206810956042e-09,
          0,
          1.0551812751320065e-09,
          1.2591689905038797e-09,
          4.76692463166797e-10,
          -5.743200361380521e-10,
          -1.3612037062343384e-09
         ]
        },
        {
         "line": {
          "color": "rgba(128, 0, 128, 1.0)",
          "dash": "solid",
          "shape": "linear",
          "width": 1.3
         },
         "mode": "lines",
         "name": "Eggs",
         "text": "",
         "type": "scatter",
         "x": [
          -0.6931471805599453,
          -0.5108256237659907,
          -0.35667494393873245,
          -0.2231435513142097,
          -0.10536051565782628,
          0,
          0.09531017980432493,
          0.1823215567939546,
          0.26236426446749106,
          0.3364722366212129,
          0.4054651081081644
         ],
         "y": [
          5.183225755345695e-07,
          -1.8070154278133215e-09,
          -1.6992752774896212e-09,
          -1.4574882422698631e-09,
          -8.455567360976436e-10,
          0,
          8.525926627729629e-10,
          6.916387460360207e-10,
          -1.4855905395842956e-10,
          -1.1032185171490396e-09,
          -1.6529641002965992e-09
         ]
        },
        {
         "line": {
          "color": "rgba(219, 64, 82, 1.0)",
          "dash": "solid",
          "shape": "linear",
          "width": 1.3
         },
         "mode": "lines",
         "name": "Peanut Butter",
         "text": "",
         "type": "scatter",
         "x": [
          -0.6931471805599453,
          -0.5108256237659907,
          -0.35667494393873245,
          -0.2231435513142097,
          -0.10536051565782628,
          0,
          0.09531017980432493,
          0.1823215567939546,
          0.26236426446749106,
          0.3364722366212129,
          0.4054651081081644
         ],
         "y": [
          -0.11191075894619516,
          -0.08042310994964712,
          -0.049896611370869766,
          -0.030780766441555033,
          -0.01453335646491482,
          0,
          0.013859521676824462,
          0.02526519540888792,
          0.03404801552782216,
          0.04187889518998146,
          0.04964914047505155
         ]
        },
        {
         "line": {
          "color": "rgba(0, 128, 128, 1.0)",
          "dash": "solid",
          "shape": "linear",
          "width": 1.3
         },
         "mode": "lines",
         "name": "Chickpeas",
         "text": "",
         "type": "scatter",
         "x": [
          -0.6931471805599453,
          -0.5108256237659907,
          -0.35667494393873245,
          -0.2231435513142097,
          -0.10536051565782628,
          0,
          0.09531017980432493,
          0.1823215567939546,
          0.26236426446749106,
          0.3364722366212129,
          0.4054651081081644
         ],
         "y": [
          -0.09335031988709575,
          -0.07176889424249201,
          -0.05064337360086401,
          -0.029954925882908847,
          -0.013541608583804161,
          0,
          0.013021531088680269,
          0.024788714181288307,
          0.036020941537136454,
          0.03646023645145333,
          0.03646023632381119
         ]
        },
        {
         "line": {
          "color": "rgba(255, 255, 51, 1.0)",
          "dash": "solid",
          "shape": "linear",
          "width": 1.3
         },
         "mode": "lines",
         "name": "Tofu",
         "text": "",
         "type": "scatter",
         "x": [
          -0.6931471805599453,
          -0.5108256237659907,
          -0.35667494393873245,
          -0.2231435513142097,
          -0.10536051565782628,
          0,
          0.09531017980432493,
          0.1823215567939546,
          0.26236426446749106,
          0.3364722366212129,
          0.4054651081081644
         ],
         "y": [
          -1.8244048510795997e-09,
          -1.8253027994635551e-09,
          -1.7783451393963073e-09,
          -1.646963344838599e-09,
          -1.1377095938491103e-09,
          0,
          2.1613861788073483e-09,
          4.314663728095473e-09,
          5.261677968361932e-09,
          4.0843441878459285e-09,
          1.0619880524887778e-09
         ]
        },
        {
         "line": {
          "color": "rgba(128, 128, 0, 1.0)",
          "dash": "solid",
          "shape": "linear",
          "width": 1.3
         },
         "mode": "lines",
         "name": "Pork Loin",
         "text": "",
         "type": "scatter",
         "x": [
          -0.6931471805599453,
          -0.5108256237659907,
          -0.35667494393873245,
          -0.2231435513142097,
          -0.10536051565782628,
          0,
          0.09531017980432493,
          0.1823215567939546,
          0.26236426446749106,
          0.3364722366212129,
          0.4054651081081644
         ],
         "y": [
          0,
          0,
          0,
          0,
          0,
          0,
          0,
          0,
          0,
          0,
          0
         ]
        },
        {
         "line": {
          "color": "rgba(251, 128, 114, 1.0)",
          "dash": "solid",
          "shape": "linear",
          "width": 1.3
         },
         "mode": "lines",
         "name": "Ground Pork",
         "text": "",
         "type": "scatter",
         "x": [
          -0.6931471805599453,
          -0.5108256237659907,
          -0.35667494393873245,
          -0.2231435513142097,
          -0.10536051565782628,
          0,
          0.09531017980432493,
          0.1823215567939546,
          0.26236426446749106,
          0.3364722366212129,
          0.4054651081081644
         ],
         "y": [
          -1.6666402716258414e-09,
          -1.3573699951027943e-09,
          -8.229629203715554e-10,
          -2.410854849379262e-10,
          1.1550649325230579e-10,
          0,
          -4.9641624156991e-10,
          -1.0996870087261196e-09,
          -1.567953768052633e-09,
          -1.7239478748303984e-09,
          -1.807248685671217e-09
         ]
        },
        {
         "line": {
          "color": "rgba(128, 177, 211, 1.0)",
          "dash": "solid",
          "shape": "linear",
          "width": 1.3
         },
         "mode": "lines",
         "name": "Ground Turkey",
         "text": "",
         "type": "scatter",
         "x": [
          -0.6931471805599453,
          -0.5108256237659907,
          -0.35667494393873245,
          -0.2231435513142097,
          -0.10536051565782628,
          0,
          0.09531017980432493,
          0.1823215567939546,
          0.26236426446749106,
          0.3364722366212129,
          0.4054651081081644
         ],
         "y": [
          -1.8192135592292973e-09,
          5.305577377739625e-07,
          -1.7946060209555294e-09,
          -1.6551469097889251e-09,
          -1.1983343213803001e-09,
          0,
          2.333955914698129e-09,
          4.420638068046764e-09,
          4.698654121401408e-09,
          2.5139570393781053e-09,
          -5.081166599877063e-10
         ]
        },
        {
         "line": {
          "color": "rgba(128, 177, 211, 0.8999999999999999)",
          "dash": "solid",
          "shape": "linear",
          "width": 1.3
         },
         "mode": "lines",
         "name": "Black Beans",
         "text": "",
         "type": "scatter",
         "x": [
          -0.6931471805599453,
          -0.5108256237659907,
          -0.35667494393873245,
          -0.2231435513142097,
          -0.10536051565782628,
          0,
          0.09531017980432493,
          0.1823215567939546,
          0.26236426446749106,
          0.3364722366212129,
          0.4054651081081644
         ],
         "y": [
          -0.037582988850542925,
          -0.029952542884934426,
          -0.022379881072879824,
          -0.014864130650304442,
          -0.007404441765284863,
          0,
          0.007350023271957891,
          0.014646457819672755,
          0.02114511146358845,
          0.02751586913379264,
          0.03384629715815989
         ]
        },
        {
         "line": {
          "color": "rgba(255, 153, 51, 0.8999999999999999)",
          "dash": "solid",
          "shape": "linear",
          "width": 1.3
         },
         "mode": "lines",
         "name": "Pinto Beans",
         "text": "",
         "type": "scatter",
         "x": [
          -0.6931471805599453,
          -0.5108256237659907,
          -0.35667494393873245,
          -0.2231435513142097,
          -0.10536051565782628,
          0,
          0.09531017980432493,
          0.1823215567939546,
          0.26236426446749106,
          0.3364722366212129,
          0.4054651081081644
         ],
         "y": [
          -0.002466322798829502,
          -0.0016234759549486977,
          -0.0007813406342006259,
          -1.359319879803592e-09,
          -1.3262507767477024e-09,
          0,
          -1.828815212052979e-09,
          -1.5223091687706919e-09,
          1.1248647949785325e-08,
          -1.0972850412097046e-09,
          -1.1795724404202477e-09
         ]
        },
        {
         "line": {
          "color": "rgba(55, 128, 191, 0.8999999999999999)",
          "dash": "solid",
          "shape": "linear",
          "width": 1.3
         },
         "mode": "lines",
         "name": "Lentils",
         "text": "",
         "type": "scatter",
         "x": [
          -0.6931471805599453,
          -0.5108256237659907,
          -0.35667494393873245,
          -0.2231435513142097,
          -0.10536051565782628,
          0,
          0.09531017980432493,
          0.1823215567939546,
          0.26236426446749106,
          0.3364722366212129,
          0.4054651081081644
         ],
         "y": [
          1.3480248382171538e-08,
          3.66763418962131e-09,
          1.2874836743986562e-09,
          4.3007841723141436e-10,
          9.305045622476428e-11,
          0,
          5.2588600139851784e-11,
          9.548406509451321e-11,
          1.1796807974221732e-10,
          1.8825696555428864e-10,
          2.7179924973667026e-10
         ]
        },
        {
         "line": {
          "color": "rgba(50, 171, 96, 0.8999999999999999)",
          "dash": "solid",
          "shape": "linear",
          "width": 1.3
         },
         "mode": "lines",
         "name": "Sliced Turkey",
         "text": "",
         "type": "scatter",
         "x": [
          -0.6931471805599453,
          -0.5108256237659907,
          -0.35667494393873245,
          -0.2231435513142097,
          -0.10536051565782628,
          0,
          0.09531017980432493,
          0.1823215567939546,
          0.26236426446749106,
          0.3364722366212129,
          0.4054651081081644
         ],
         "y": [
          -0.0815257218626412,
          -0.06429636341089506,
          -0.04764198838898933,
          -0.03150746192949265,
          -0.015629819755488432,
          0,
          0.015102031855864015,
          0.022580447542920754,
          0.02830222953149981,
          0.03399145763497939,
          0.03964850019273472
         ]
        },
        {
         "line": {
          "color": "rgba(128, 0, 128, 0.8999999999999999)",
          "dash": "solid",
          "shape": "linear",
          "width": 1.3
         },
         "mode": "lines",
         "name": "Sliced Ham",
         "text": "",
         "type": "scatter",
         "x": [
          -0.6931471805599453,
          -0.5108256237659907,
          -0.35667494393873245,
          -0.2231435513142097,
          -0.10536051565782628,
          0,
          0.09531017980432493,
          0.1823215567939546,
          0.26236426446749106,
          0.3364722366212129,
          0.4054651081081644
         ],
         "y": [
          2.4199942785823237e-07,
          1.433076661238239e-07,
          7.980355257934315e-08,
          3.483038152745459e-08,
          9.869687240959944e-09,
          0,
          -1.6888309653900693e-09,
          4.752554703981581e-07,
          -1.7467074468747095e-09,
          -1.6716804621214475e-09,
          2.494916033400511e-07
         ]
        },
        {
         "line": {
          "color": "rgba(219, 64, 82, 0.8999999999999999)",
          "dash": "solid",
          "shape": "linear",
          "width": 1.3
         },
         "mode": "lines",
         "name": "Salmon",
         "text": "",
         "type": "scatter",
         "x": [
          -0.6931471805599453,
          -0.5108256237659907,
          -0.35667494393873245,
          -0.2231435513142097,
          -0.10536051565782628,
          0,
          0.09531017980432493,
          0.1823215567939546,
          0.26236426446749106,
          0.3364722366212129,
          0.4054651081081644
         ],
         "y": [
          2.7841813260531368e-09,
          -1.5777759111669406e-09,
          2.78884149659557e-08,
          -1.821965024956235e-09,
          2.5953242773380705e-08,
          0,
          -1.7953932801037043e-09,
          -1.8021903985395935e-09,
          -1.6636657620933127e-09,
          2.4303350398753165e-07,
          -1.8326233880567174e-09
         ]
        },
        {
         "line": {
          "color": "rgba(0, 128, 128, 0.8999999999999999)",
          "dash": "solid",
          "shape": "linear",
          "width": 1.3
         },
         "mode": "lines",
         "name": "Shrimp",
         "text": "",
         "type": "scatter",
         "x": [
          -0.6931471805599453,
          -0.5108256237659907,
          -0.35667494393873245,
          -0.2231435513142097,
          -0.10536051565782628,
          0,
          0.09531017980432493,
          0.1823215567939546,
          0.26236426446749106,
          0.3364722366212129,
          0.4054651081081644
         ],
         "y": [
          -5.306892704468994e-10,
          1.1549259320001566e-09,
          3.1095184156953143e-09,
          3.464623915088228e-09,
          1.9146846312312033e-09,
          0,
          -1.1196078515013764e-09,
          -1.644842152724259e-09,
          -1.7656437438828789e-09,
          -1.8049534105859613e-09,
          -1.8248205185807776e-09
         ]
        },
        {
         "line": {
          "color": "rgba(255, 255, 51, 0.8999999999999999)",
          "dash": "solid",
          "shape": "linear",
          "width": 1.3
         },
         "mode": "lines",
         "name": "Tuna",
         "text": "",
         "type": "scatter",
         "x": [
          -0.6931471805599453,
          -0.5108256237659907,
          -0.35667494393873245,
          -0.2231435513142097,
          -0.10536051565782628,
          0,
          0.09531017980432493,
          0.1823215567939546,
          0.26236426446749106,
          0.3364722366212129,
          0.4054651081081644
         ],
         "y": [
          -1.8100860826603833e-09,
          2.3031047903420382e-07,
          5.1645161479363e-08,
          1.321658862500011e-08,
          3.191152226260408e-09,
          0,
          -1.0648960607880896e-09,
          -1.5139158826917838e-09,
          -1.6528952664689585e-09,
          -1.7322939764324411e-09,
          -1.7823315061956236e-09
         ]
        },
        {
         "line": {
          "color": "rgba(128, 128, 0, 0.8999999999999999)",
          "dash": "solid",
          "shape": "linear",
          "width": 1.3
         },
         "mode": "lines",
         "name": "Almond Milk",
         "text": "",
         "type": "scatter",
         "x": [
          -0.6931471805599453,
          -0.5108256237659907,
          -0.35667494393873245,
          -0.2231435513142097,
          -0.10536051565782628,
          0,
          0.09531017980432493,
          0.1823215567939546,
          0.26236426446749106,
          0.3364722366212129,
          0.4054651081081644
         ],
         "y": [
          -0.07512615488079424,
          -0.05184152278453066,
          -0.03365064035470578,
          -0.020330384742470342,
          -0.007512856437728449,
          0,
          0.00335237618443078,
          0.00597463525081476,
          0.007269960958329504,
          0.008563675349119443,
          0.009281649925068611
         ]
        },
        {
         "line": {
          "color": "rgba(251, 128, 114, 0.8999999999999999)",
          "dash": "solid",
          "shape": "linear",
          "width": 1.3
         },
         "mode": "lines",
         "name": "2% milk",
         "text": "",
         "type": "scatter",
         "x": [
          -0.6931471805599453,
          -0.5108256237659907,
          -0.35667494393873245,
          -0.2231435513142097,
          -0.10536051565782628,
          0,
          0.09531017980432493,
          0.1823215567939546,
          0.26236426446749106,
          0.3364722366212129,
          0.4054651081081644
         ],
         "y": [
          -1.6531434013153725e-09,
          -1.6419958739513499e-09,
          -1.5463957903937994e-09,
          -1.245877957133439e-09,
          -7.506553159661538e-10,
          0,
          1.1479692745358655e-09,
          2.6735043032532997e-09,
          4.568940548786579e-09,
          6.647118167114845e-09,
          8.881177753747543e-09
         ]
        },
        {
         "line": {
          "color": "rgba(251, 128, 114, 0.7999999999999998)",
          "dash": "solid",
          "shape": "linear",
          "width": 1.3
         },
         "mode": "lines",
         "name": "Cheddar cheese",
         "text": "",
         "type": "scatter",
         "x": [
          -0.6931471805599453,
          -0.5108256237659907,
          -0.35667494393873245,
          -0.2231435513142097,
          -0.10536051565782628,
          0,
          0.09531017980432493,
          0.1823215567939546,
          0.26236426446749106,
          0.3364722366212129,
          0.4054651081081644
         ],
         "y": [
          -0.08518938832509872,
          -0.04562508997034805,
          -0.023853003955852263,
          -0.010216671488204444,
          -0.0016806867141320359,
          0,
          0.00019212711897202003,
          0.00019209191941431416,
          0.0001920921601543453,
          0.00019209662981118012,
          0.0001925029475888715
         ]
        },
        {
         "line": {
          "color": "rgba(128, 177, 211, 0.7999999999999998)",
          "dash": "solid",
          "shape": "linear",
          "width": 1.3
         },
         "mode": "lines",
         "name": "Unsalted butter",
         "text": "",
         "type": "scatter",
         "x": [
          -0.6931471805599453,
          -0.5108256237659907,
          -0.35667494393873245,
          -0.2231435513142097,
          -0.10536051565782628,
          0,
          0.09531017980432493,
          0.1823215567939546,
          0.26236426446749106,
          0.3364722366212129,
          0.4054651081081644
         ],
         "y": [
          -1.675184325993028e-09,
          -1.7026904345414797e-09,
          -1.6492204282513818e-09,
          -1.4346772669060208e-09,
          -9.10949427417009e-10,
          0,
          1.4642509416456111e-09,
          3.289879696583692e-09,
          4.769598038472913e-09,
          5.90790170593819e-09,
          6.501853922992669e-09
         ]
        },
        {
         "line": {
          "color": "rgba(255, 153, 51, 0.7999999999999998)",
          "dash": "solid",
          "shape": "linear",
          "width": 1.3
         },
         "mode": "lines",
         "name": "Greek yogurt",
         "text": "",
         "type": "scatter",
         "x": [
          -0.6931471805599453,
          -0.5108256237659907,
          -0.35667494393873245,
          -0.2231435513142097,
          -0.10536051565782628,
          0,
          0.09531017980432493,
          0.1823215567939546,
          0.26236426446749106,
          0.3364722366212129,
          0.4054651081081644
         ],
         "y": [
          -1.8211303592848015e-09,
          -1.7842775051166568e-09,
          -1.6705412622739759e-09,
          -1.4632783884186466e-09,
          -9.180871622711542e-10,
          0,
          1.4856049712697557e-09,
          3.1913218683380295e-09,
          4.451098146815263e-09,
          5.065441386836012e-09,
          4.6779306985209126e-09
         ]
        },
        {
         "line": {
          "color": "rgba(55, 128, 191, 0.7999999999999998)",
          "dash": "solid",
          "shape": "linear",
          "width": 1.3
         },
         "mode": "lines",
         "name": "Oat Milk",
         "text": "",
         "type": "scatter",
         "x": [
          -0.6931471805599453,
          -0.5108256237659907,
          -0.35667494393873245,
          -0.2231435513142097,
          -0.10536051565782628,
          0,
          0.09531017980432493,
          0.1823215567939546,
          0.26236426446749106,
          0.3364722366212129,
          0.4054651081081644
         ],
         "y": [
          -0.08982108882198235,
          -0.06881910484359159,
          -0.04824912471831995,
          -0.028093766663488295,
          -0.00988875706023799,
          0,
          0.009416528081119925,
          0.01874473034266298,
          0.027986967980510688,
          0.03651290943476583,
          0.044351405967993654
         ]
        },
        {
         "line": {
          "color": "rgba(50, 171, 96, 0.7999999999999998)",
          "dash": "solid",
          "shape": "linear",
          "width": 1.3
         },
         "mode": "lines",
         "name": "Wheat Cereal",
         "text": "",
         "type": "scatter",
         "x": [
          -0.6931471805599453,
          -0.5108256237659907,
          -0.35667494393873245,
          -0.2231435513142097,
          -0.10536051565782628,
          0,
          0.09531017980432493,
          0.1823215567939546,
          0.26236426446749106,
          0.3364722366212129,
          0.4054651081081644
         ],
         "y": [
          -1.833321274251276e-09,
          1.99644153042352e-07,
          8.773252250635776e-08,
          2.9329826581417824e-08,
          7.116448516244536e-09,
          0,
          -1.5069716597068695e-09,
          -1.7508118303816237e-09,
          -1.8135878371086982e-09,
          4.7321061819221926e-07,
          -1.824491559497981e-09
         ]
        },
        {
         "line": {
          "color": "rgba(128, 0, 128, 0.7999999999999998)",
          "dash": "solid",
          "shape": "linear",
          "width": 1.3
         },
         "mode": "lines",
         "name": "Granola",
         "text": "",
         "type": "scatter",
         "x": [
          -0.6931471805599453,
          -0.5108256237659907,
          -0.35667494393873245,
          -0.2231435513142097,
          -0.10536051565782628,
          0,
          0.09531017980432493,
          0.1823215567939546,
          0.26236426446749106,
          0.3364722366212129,
          0.4054651081081644
         ],
         "y": [
          5.516008189897423e-07,
          -1.8083332625459339e-09,
          -1.6600998367545928e-09,
          -1.0755293328401193e-09,
          -2.860177650685827e-10,
          0,
          -4.668669896214646e-10,
          -1.2350739327781995e-09,
          -1.6415605555026797e-09,
          -1.787051064281728e-09,
          -1.8246809635463277e-09
         ]
        },
        {
         "line": {
          "color": "rgba(219, 64, 82, 0.7999999999999998)",
          "dash": "solid",
          "shape": "linear",
          "width": 1.3
         },
         "mode": "lines",
         "name": "Brown Rice",
         "text": "",
         "type": "scatter",
         "x": [
          -0.6931471805599453,
          -0.5108256237659907,
          -0.35667494393873245,
          -0.2231435513142097,
          -0.10536051565782628,
          0,
          0.09531017980432493,
          0.1823215567939546,
          0.26236426446749106,
          0.3364722366212129,
          0.4054651081081644
         ],
         "y": [
          -0.0018642167377303604,
          -2.7019949313297e-05,
          -9.860521293235496e-10,
          -9.232048463301779e-10,
          -5.13944886780757e-10,
          0,
          9.194427437400921e-10,
          2.3689803424182246e-09,
          4.436713431238329e-09,
          6.663675811149302e-09,
          9.215226539355528e-09
         ]
        },
        {
         "line": {
          "color": "rgba(0, 128, 128, 0.7999999999999998)",
          "dash": "solid",
          "shape": "linear",
          "width": 1.3
         },
         "mode": "lines",
         "name": "Jasmine Rice",
         "text": "",
         "type": "scatter",
         "x": [
          -0.6931471805599453,
          -0.5108256237659907,
          -0.35667494393873245,
          -0.2231435513142097,
          -0.10536051565782628,
          0,
          0.09531017980432493,
          0.1823215567939546,
          0.26236426446749106,
          0.3364722366212129,
          0.4054651081081644
         ],
         "y": [
          4.986113509634574e-09,
          2.072318092756129e-09,
          1.9616730460322242e-10,
          -2.6959201541469033e-10,
          -2.5327839828658334e-10,
          0,
          4.654616690995844e-10,
          1.1253447056765607e-09,
          1.976423689421282e-09,
          2.985279574637056e-09,
          3.963744880013688e-09
         ]
        },
        {
         "line": {
          "color": "rgba(255, 255, 51, 0.7999999999999998)",
          "dash": "solid",
          "shape": "linear",
          "width": 1.3
         },
         "mode": "lines",
         "name": "Potatoes",
         "text": "",
         "type": "scatter",
         "x": [
          -0.6931471805599453,
          -0.5108256237659907,
          -0.35667494393873245,
          -0.2231435513142097,
          -0.10536051565782628,
          0,
          0.09531017980432493,
          0.1823215567939546,
          0.26236426446749106,
          0.3364722366212129,
          0.4054651081081644
         ],
         "y": [
          -0.011318085154640582,
          -0.005384680405832966,
          -0.0002085550791404543,
          -1.9819675330734732e-05,
          -1.8073003110419553e-09,
          0,
          -1.7859198580399165e-09,
          3.174396115059479e-07,
          -1.7950003721745841e-09,
          -1.6700129071356744e-09,
          -1.4733744235525047e-09
         ]
        },
        {
         "line": {
          "color": "rgba(128, 128, 0, 0.7999999999999998)",
          "dash": "solid",
          "shape": "linear",
          "width": 1.3
         },
         "mode": "lines",
         "name": "Bananas",
         "text": "",
         "type": "scatter",
         "x": [
          -0.6931471805599453,
          -0.5108256237659907,
          -0.35667494393873245,
          -0.2231435513142097,
          -0.10536051565782628,
          0,
          0.09531017980432493,
          0.1823215567939546,
          0.26236426446749106,
          0.3364722366212129,
          0.4054651081081644
         ],
         "y": [
          -0.06957453787347923,
          -0.035803404821343913,
          -0.0041567499287662475,
          1.1383117272827866e-08,
          1.9130723285245462e-07,
          0,
          -1.8136135942829162e-09,
          2.8377441922238797e-07,
          1.1010963334420915e-07,
          -1.3758014736935993e-09,
          3.000639847095323e-08
         ]
        },
        {
         "line": {
          "color": "rgba(128, 128, 0, 0.7)",
          "dash": "solid",
          "shape": "linear",
          "width": 1.3
         },
         "mode": "lines",
         "name": "Fuji Apples",
         "text": "",
         "type": "scatter",
         "x": [
          -0.6931471805599453,
          -0.5108256237659907,
          -0.35667494393873245,
          -0.2231435513142097,
          -0.10536051565782628,
          0,
          0.09531017980432493,
          0.1823215567939546,
          0.26236426446749106,
          0.3364722366212129,
          0.4054651081081644
         ],
         "y": [
          0,
          0,
          0,
          0,
          0,
          0,
          0,
          0,
          0,
          0,
          0
         ]
        },
        {
         "line": {
          "color": "rgba(251, 128, 114, 0.7)",
          "dash": "solid",
          "shape": "linear",
          "width": 1.3
         },
         "mode": "lines",
         "name": "Avocados",
         "text": "",
         "type": "scatter",
         "x": [
          -0.6931471805599453,
          -0.5108256237659907,
          -0.35667494393873245,
          -0.2231435513142097,
          -0.10536051565782628,
          0,
          0.09531017980432493,
          0.1823215567939546,
          0.26236426446749106,
          0.3364722366212129,
          0.4054651081081644
         ],
         "y": [
          -1.8172287025022635e-09,
          1.0918542010863214e-08,
          2.5370661124292277e-10,
          1.2830960730109768e-09,
          3.926884348277482e-07,
          0,
          -1.8190579059609618e-09,
          2.0448753592285145e-08,
          8.006819908510355e-08,
          1.1113092662149456e-09,
          4.7573084561432e-08
         ]
        },
        {
         "line": {
          "color": "rgba(128, 177, 211, 0.7)",
          "dash": "solid",
          "shape": "linear",
          "width": 1.3
         },
         "mode": "lines",
         "name": "Blueberries",
         "text": "",
         "type": "scatter",
         "x": [
          -0.6931471805599453,
          -0.5108256237659907,
          -0.35667494393873245,
          -0.2231435513142097,
          -0.10536051565782628,
          0,
          0.09531017980432493,
          0.1823215567939546,
          0.26236426446749106,
          0.3364722366212129,
          0.4054651081081644
         ],
         "y": [
          0,
          0,
          0,
          0,
          0,
          0,
          0,
          0,
          0,
          0,
          0
         ]
        },
        {
         "line": {
          "color": "rgba(255, 153, 51, 0.7)",
          "dash": "solid",
          "shape": "linear",
          "width": 1.3
         },
         "mode": "lines",
         "name": "Roma Tomatoes",
         "text": "",
         "type": "scatter",
         "x": [
          -0.6931471805599453,
          -0.5108256237659907,
          -0.35667494393873245,
          -0.2231435513142097,
          -0.10536051565782628,
          0,
          0.09531017980432493,
          0.1823215567939546,
          0.26236426446749106,
          0.3364722366212129,
          0.4054651081081644
         ],
         "y": [
          0,
          0,
          0,
          0,
          0,
          0,
          0,
          0,
          0,
          0,
          0
         ]
        },
        {
         "line": {
          "color": "rgba(55, 128, 191, 0.7)",
          "dash": "solid",
          "shape": "linear",
          "width": 1.3
         },
         "mode": "lines",
         "name": "Kale",
         "text": "",
         "type": "scatter",
         "x": [
          -0.6931471805599453,
          -0.5108256237659907,
          -0.35667494393873245,
          -0.2231435513142097,
          -0.10536051565782628,
          0,
          0.09531017980432493,
          0.1823215567939546,
          0.26236426446749106,
          0.3364722366212129,
          0.4054651081081644
         ],
         "y": [
          -0.00011253482450478254,
          -1.6125301107406398e-09,
          -1.802351158833849e-09,
          -1.6414133399293726e-09,
          -9.796685689702857e-10,
          0,
          1.3550323076628605e-09,
          3.0225928381149913e-09,
          5.0520782984900145e-09,
          7.280846343744699e-09,
          9.702300915576696e-09
         ]
        },
        {
         "line": {
          "color": "rgba(50, 171, 96, 0.7)",
          "dash": "solid",
          "shape": "linear",
          "width": 1.3
         },
         "mode": "lines",
         "name": "Garlic",
         "text": "",
         "type": "scatter",
         "x": [
          -0.6931471805599453,
          -0.5108256237659907,
          -0.35667494393873245,
          -0.2231435513142097,
          -0.10536051565782628,
          0,
          0.09531017980432493,
          0.1823215567939546,
          0.26236426446749106,
          0.3364722366212129,
          0.4054651081081644
         ],
         "y": [
          -7.616229871901138e-10,
          -1.244073844716177e-09,
          -1.1840293197355702e-09,
          -9.047301800720178e-10,
          -4.817782840499754e-10,
          0,
          4.4209680351234554e-10,
          6.755416224129843e-10,
          4.925884143810712e-10,
          6.988054579193466e-11,
          -4.2446035584247066e-10
         ]
        },
        {
         "line": {
          "color": "rgba(128, 0, 128, 0.7)",
          "dash": "solid",
          "shape": "linear",
          "width": 1.3
         },
         "mode": "lines",
         "name": "Red Onion",
         "text": "",
         "type": "scatter",
         "x": [
          -0.6931471805599453,
          -0.5108256237659907,
          -0.35667494393873245,
          -0.2231435513142097,
          -0.10536051565782628,
          0,
          0.09531017980432493,
          0.1823215567939546,
          0.26236426446749106,
          0.3364722366212129,
          0.4054651081081644
         ],
         "y": [
          -1.6183542297149295e-09,
          -1.3977952138865297e-09,
          -1.1236829251178338e-09,
          -7.919033210095634e-10,
          -4.1105430179221896e-10,
          0,
          4.305071853633401e-10,
          7.900218254241085e-10,
          1.0053646798899807e-09,
          1.0137548573232076e-09,
          7.86678499810388e-10
         ]
        },
        {
         "line": {
          "color": "rgba(219, 64, 82, 0.7)",
          "dash": "solid",
          "shape": "linear",
          "width": 1.3
         },
         "mode": "lines",
         "name": "Yellow Onion",
         "text": "",
         "type": "scatter",
         "x": [
          -0.6931471805599453,
          -0.5108256237659907,
          -0.35667494393873245,
          -0.2231435513142097,
          -0.10536051565782628,
          0,
          0.09531017980432493,
          0.1823215567939546,
          0.26236426446749106,
          0.3364722366212129,
          0.4054651081081644
         ],
         "y": [
          -1.2852506844839693e-09,
          -1.0218775830742388e-09,
          -7.6904904696291e-10,
          -5.220596178942482e-10,
          -2.7071711542814945e-10,
          0,
          3.1429769892844747e-10,
          6.618898760221127e-10,
          1.0458984783882625e-09,
          1.4670842308003019e-09,
          1.9235757412845484e-09
         ]
        },
        {
         "line": {
          "color": "rgba(0, 128, 128, 0.7)",
          "dash": "solid",
          "shape": "linear",
          "width": 1.3
         },
         "mode": "lines",
         "name": "White Onion",
         "text": "",
         "type": "scatter",
         "x": [
          -0.6931471805599453,
          -0.5108256237659907,
          -0.35667494393873245,
          -0.2231435513142097,
          -0.10536051565782628,
          0,
          0.09531017980432493,
          0.1823215567939546,
          0.26236426446749106,
          0.3364722366212129,
          0.4054651081081644
         ],
         "y": [
          -1.7649565158294229e-09,
          -1.6641517067119997e-09,
          -1.5398250464347185e-09,
          -1.2081575747140033e-09,
          -7.119146386050407e-10,
          0,
          1.0558711677187803e-09,
          2.441062682341678e-09,
          4.148299473094619e-09,
          6.135485434207241e-09,
          8.326084231823784e-09
         ]
        },
        {
         "line": {
          "color": "rgba(255, 255, 51, 0.7)",
          "dash": "solid",
          "shape": "linear",
          "width": 1.3
         },
         "mode": "lines",
         "name": "Cauliflower",
         "text": "",
         "type": "scatter",
         "x": [
          -0.6931471805599453,
          -0.5108256237659907,
          -0.35667494393873245,
          -0.2231435513142097,
          -0.10536051565782628,
          0,
          0.09531017980432493,
          0.1823215567939546,
          0.26236426446749106,
          0.3364722366212129,
          0.4054651081081644
         ],
         "y": [
          -0.051318254073703114,
          -0.040801730852096235,
          -0.030394623518665075,
          -0.020143906349642516,
          -0.010021305054564058,
          0,
          0.00992202313448018,
          0.019625671811746268,
          0.027415703559313824,
          0.033830635314966065,
          0.03592328913700524
         ]
        },
        {
         "line": {
          "color": "rgba(255, 255, 51, 0.5999999999999999)",
          "dash": "solid",
          "shape": "linear",
          "width": 1.3
         },
         "mode": "lines",
         "name": "Broccoli",
         "text": "",
         "type": "scatter",
         "x": [
          -0.6931471805599453,
          -0.5108256237659907,
          -0.35667494393873245,
          -0.2231435513142097,
          -0.10536051565782628,
          0,
          0.09531017980432493,
          0.1823215567939546,
          0.26236426446749106,
          0.3364722366212129,
          0.4054651081081644
         ],
         "y": [
          -1.6219396949787653e-09,
          8.087327746866983e-08,
          -1.3801071406336338e-09,
          1.3326333725438618e-08,
          -1.8068446755118256e-09,
          0,
          4.424508240189367e-07,
          -1.708717724330148e-09,
          -1.6828214391699447e-09,
          -1.827063946250734e-09,
          -1.7944147295280432e-09
         ]
        },
        {
         "line": {
          "color": "rgba(128, 128, 0, 0.5999999999999999)",
          "dash": "solid",
          "shape": "linear",
          "width": 1.3
         },
         "mode": "lines",
         "name": "Carrots",
         "text": "",
         "type": "scatter",
         "x": [
          -0.6931471805599453,
          -0.5108256237659907,
          -0.35667494393873245,
          -0.2231435513142097,
          -0.10536051565782628,
          0,
          0.09531017980432493,
          0.1823215567939546,
          0.26236426446749106,
          0.3364722366212129,
          0.4054651081081644
         ],
         "y": [
          -1.7981860461271668e-09,
          -1.822286323500147e-09,
          -1.7609274054436525e-09,
          -1.6423793449846851e-09,
          -1.1381181559226374e-09,
          0,
          2.657264627026183e-09,
          7.859930897444113e-09,
          1.6844784092264556e-08,
          3.263510297595766e-08,
          5.714565035540915e-08
         ]
        },
        {
         "line": {
          "color": "rgba(251, 128, 114, 0.5999999999999999)",
          "dash": "solid",
          "shape": "linear",
          "width": 1.3
         },
         "mode": "lines",
         "name": "Sweet Potatoes",
         "text": "",
         "type": "scatter",
         "x": [
          -0.6931471805599453,
          -0.5108256237659907,
          -0.35667494393873245,
          -0.2231435513142097,
          -0.10536051565782628,
          0,
          0.09531017980432493,
          0.1823215567939546,
          0.26236426446749106,
          0.3364722366212129,
          0.4054651081081644
         ],
         "y": [
          -1.7910319909882485e-09,
          -1.6838319641686596e-09,
          -1.510108927934588e-09,
          -1.1182559329227776e-09,
          -5.990681286167936e-10,
          0,
          6.619387258351638e-10,
          1.223996236949005e-09,
          1.4487555589134868e-09,
          1.545059412549784e-09,
          1.5342567204922086e-09
         ]
        },
        {
         "line": {
          "color": "rgba(128, 177, 211, 0.5999999999999999)",
          "dash": "solid",
          "shape": "linear",
          "width": 1.3
         },
         "mode": "lines",
         "name": "Romaine Lettuce",
         "text": "",
         "type": "scatter",
         "x": [
          -0.6931471805599453,
          -0.5108256237659907,
          -0.35667494393873245,
          -0.2231435513142097,
          -0.10536051565782628,
          0,
          0.09531017980432493,
          0.1823215567939546,
          0.26236426446749106,
          0.3364722366212129,
          0.4054651081081644
         ],
         "y": [
          -0.1533519982747335,
          -0.1187987101664236,
          -0.0863926871377328,
          -0.055564785994574276,
          -0.026814019245386376,
          0,
          0.021280597933211392,
          0.03710367777316372,
          0.0524006379502182,
          0.06007326063470276,
          0.06594714277525138
         ]
        },
        {
         "line": {
          "color": "rgba(255, 153, 51, 0.5999999999999999)",
          "dash": "solid",
          "shape": "linear",
          "width": 1.3
         },
         "mode": "lines",
         "name": "Spinach",
         "text": "",
         "type": "scatter",
         "x": [
          -0.6931471805599453,
          -0.5108256237659907,
          -0.35667494393873245,
          -0.2231435513142097,
          -0.10536051565782628,
          0,
          0.09531017980432493,
          0.1823215567939546,
          0.26236426446749106,
          0.3364722366212129,
          0.4054651081081644
         ],
         "y": [
          -1.8014030283691105e-09,
          -1.8308030663822079e-09,
          1.9077863001424225e-07,
          5.758556043851421e-08,
          1.1216027377242193e-08,
          0,
          -1.6404240201905058e-09,
          -1.8062187317694112e-09,
          4.951123082635488e-07,
          -1.7936310230935543e-09,
          -1.728108546644665e-09
         ]
        },
        {
         "line": {
          "color": "rgba(55, 128, 191, 0.5999999999999999)",
          "dash": "solid",
          "shape": "linear",
          "width": 1.3
         },
         "mode": "lines",
         "name": "English Cucumber",
         "text": "",
         "type": "scatter",
         "x": [
          -0.6931471805599453,
          -0.5108256237659907,
          -0.35667494393873245,
          -0.2231435513142097,
          -0.10536051565782628,
          0,
          0.09531017980432493,
          0.1823215567939546,
          0.26236426446749106,
          0.3364722366212129,
          0.4054651081081644
         ],
         "y": [
          0,
          0,
          0,
          0,
          0,
          0,
          0,
          0,
          0,
          0,
          0
         ]
        },
        {
         "line": {
          "color": "rgba(50, 171, 96, 0.5999999999999999)",
          "dash": "solid",
          "shape": "linear",
          "width": 1.3
         },
         "mode": "lines",
         "name": "Cremini Mushrooms",
         "text": "",
         "type": "scatter",
         "x": [
          -0.6931471805599453,
          -0.5108256237659907,
          -0.35667494393873245,
          -0.2231435513142097,
          -0.10536051565782628,
          0,
          0.09531017980432493,
          0.1823215567939546,
          0.26236426446749106,
          0.3364722366212129,
          0.4054651081081644
         ],
         "y": [
          -1.7060356475426793e-09,
          3.078048966055978e-07,
          1.51912079538676e-08,
          9.20560601284655e-09,
          -1.813639795546345e-09,
          0,
          -1.381307402747213e-09,
          8.543981074540673e-10,
          -1.0196290483801703e-09,
          5.979369426143792e-09,
          4.98468973664064e-08
         ]
        },
        {
         "line": {
          "color": "rgba(128, 0, 128, 0.5999999999999999)",
          "dash": "solid",
          "shape": "linear",
          "width": 1.3
         },
         "mode": "lines",
         "name": "Jalepenos",
         "text": "",
         "type": "scatter",
         "x": [
          -0.6931471805599453,
          -0.5108256237659907,
          -0.35667494393873245,
          -0.2231435513142097,
          -0.10536051565782628,
          0,
          0.09531017980432493,
          0.1823215567939546,
          0.26236426446749106,
          0.3364722366212129,
          0.4054651081081644
         ],
         "y": [
          -0.010678357726854406,
          -0.0052095404941434565,
          -0.0021477912507888303,
          -0.0001223288711702931,
          2.1167345874110484e-08,
          0,
          -1.6003710591777145e-09,
          -1.8247157135270617e-09,
          1.967314077973082e-07,
          2.9325055192030113e-07,
          4.686864706013418e-07
         ]
        },
        {
         "line": {
          "color": "rgba(219, 64, 82, 0.5999999999999999)",
          "dash": "solid",
          "shape": "linear",
          "width": 1.3
         },
         "mode": "lines",
         "name": "Olive Oil",
         "text": "",
         "type": "scatter",
         "x": [
          -0.6931471805599453,
          -0.5108256237659907,
          -0.35667494393873245,
          -0.2231435513142097,
          -0.10536051565782628,
          0,
          0.09531017980432493,
          0.1823215567939546,
          0.26236426446749106,
          0.3364722366212129,
          0.4054651081081644
         ],
         "y": [
          -8.148199895907739e-10,
          -1.5473304871596772e-09,
          -1.5546934862704113e-09,
          -1.3366497917440022e-09,
          -8.58343174683145e-10,
          0,
          1.4395031822842274e-09,
          3.3252409659348585e-09,
          5.004362467443785e-09,
          6.4693348246784885e-09,
          7.47339676237707e-09
         ]
        },
        {
         "line": {
          "color": "rgba(0, 128, 128, 0.5999999999999999)",
          "dash": "solid",
          "shape": "linear",
          "width": 1.3
         },
         "mode": "lines",
         "name": "Vegetable Oil",
         "text": "",
         "type": "scatter",
         "x": [
          -0.6931471805599453,
          -0.5108256237659907,
          -0.35667494393873245,
          -0.2231435513142097,
          -0.10536051565782628,
          0,
          0.09531017980432493,
          0.1823215567939546,
          0.26236426446749106,
          0.3364722366212129,
          0.4054651081081644
         ],
         "y": [
          -0.003971728544572942,
          -0.0026728261719731225,
          -0.001375608825982549,
          -0.00017888266271243205,
          -1.0322848137177643e-09,
          0,
          -1.740092627060158e-09,
          -1.7499474107331376e-09,
          -1.7498880138012161e-09,
          -1.7463025485369214e-09,
          -1.7432306724447264e-09
         ]
        },
        {
         "line": {
          "color": "rgba(0, 128, 128, 0.49999999999999983)",
          "dash": "solid",
          "shape": "linear",
          "width": 1.3
         },
         "mode": "lines",
         "name": "Salt",
         "text": "",
         "type": "scatter",
         "x": [
          -0.6931471805599453,
          -0.5108256237659907,
          -0.35667494393873245,
          -0.2231435513142097,
          -0.10536051565782628,
          0,
          0.09531017980432493,
          0.1823215567939546,
          0.26236426446749106,
          0.3364722366212129,
          0.4054651081081644
         ],
         "y": [
          5.621803021523433e-10,
          3.376505741100104e-10,
          -1.324805377390027e-09,
          -1.035502573113362e-09,
          2.8977931123755186e-09,
          0,
          3.348402121201029e-07,
          9.320810644129442e-08,
          -7.620425404714393e-10,
          -1.4765849664998513e-09,
          6.1087650307033585e-09
         ]
        },
        {
         "line": {
          "color": "rgba(255, 255, 51, 0.49999999999999983)",
          "dash": "solid",
          "shape": "linear",
          "width": 1.3
         },
         "mode": "lines",
         "name": "Tomato Sauce",
         "text": "",
         "type": "scatter",
         "x": [
          -0.6931471805599453,
          -0.5108256237659907,
          -0.35667494393873245,
          -0.2231435513142097,
          -0.10536051565782628,
          0,
          0.09531017980432493,
          0.1823215567939546,
          0.26236426446749106,
          0.3364722366212129,
          0.4054651081081644
         ],
         "y": [
          -9.810722239416955e-10,
          -9.615351852691804e-10,
          1.743160042037341e-07,
          -1.7763321940267819e-09,
          2.2555516311227623e-08,
          0,
          -1.5715072588931286e-09,
          -1.6304481111864216e-09,
          -1.598319033958018e-09,
          -9.15857501368755e-10,
          4.002162815360195e-09
         ]
        },
        {
         "line": {
          "color": "rgba(128, 128, 0, 0.49999999999999983)",
          "dash": "solid",
          "shape": "linear",
          "width": 1.3
         },
         "mode": "lines",
         "name": "Sugar",
         "text": "",
         "type": "scatter",
         "x": [
          -0.6931471805599453,
          -0.5108256237659907,
          -0.35667494393873245,
          -0.2231435513142097,
          -0.10536051565782628,
          0,
          0.09531017980432493,
          0.1823215567939546,
          0.26236426446749106,
          0.3364722366212129,
          0.4054651081081644
         ],
         "y": [
          1.226630352094003e-09,
          -6.186342551254903e-10,
          -8.909355479563625e-10,
          -7.949234607058475e-10,
          -4.91805374324061e-10,
          0,
          7.380023256450404e-10,
          1.6923182840746737e-09,
          2.838097530735652e-09,
          4.127875144284318e-09,
          5.430123003159015e-09
         ]
        },
        {
         "line": {
          "color": "rgba(251, 128, 114, 0.49999999999999983)",
          "dash": "solid",
          "shape": "linear",
          "width": 1.3
         },
         "mode": "lines",
         "name": "Honey",
         "text": "",
         "type": "scatter",
         "x": [
          -0.6931471805599453,
          -0.5108256237659907,
          -0.35667494393873245,
          -0.2231435513142097,
          -0.10536051565782628,
          0,
          0.09531017980432493,
          0.1823215567939546,
          0.26236426446749106,
          0.3364722366212129,
          0.4054651081081644
         ],
         "y": [
          3.9369142789944074e-07,
          2.964274559449475e-07,
          4.7367373123321214e-08,
          8.286793661353269e-09,
          1.6956158684968294e-09,
          0,
          -5.992226716619139e-10,
          -1.0503102837420456e-09,
          -1.301108222009802e-09,
          -1.4566743377693247e-09,
          -1.5619905381334339e-09
         ]
        },
        {
         "line": {
          "color": "rgba(128, 177, 211, 0.49999999999999983)",
          "dash": "solid",
          "shape": "linear",
          "width": 1.3
         },
         "mode": "lines",
         "name": "Bread (whole wheat)",
         "text": "",
         "type": "scatter",
         "x": [
          -0.6931471805599453,
          -0.5108256237659907,
          -0.35667494393873245,
          -0.2231435513142097,
          -0.10536051565782628,
          0,
          0.09531017980432493,
          0.1823215567939546,
          0.26236426446749106,
          0.3364722366212129,
          0.4054651081081644
         ],
         "y": [
          0,
          0,
          0,
          0,
          0,
          0,
          0,
          0,
          0,
          0,
          0
         ]
        }
       ],
       "layout": {
        "legend": {
         "bgcolor": "#F5F6F9",
         "font": {
          "color": "#4D5663"
         }
        },
        "paper_bgcolor": "#F5F6F9",
        "plot_bgcolor": "#F5F6F9",
        "template": {
         "data": {
          "bar": [
           {
            "error_x": {
             "color": "#2a3f5f"
            },
            "error_y": {
             "color": "#2a3f5f"
            },
            "marker": {
             "line": {
              "color": "#E5ECF6",
              "width": 0.5
             },
             "pattern": {
              "fillmode": "overlay",
              "size": 10,
              "solidity": 0.2
             }
            },
            "type": "bar"
           }
          ],
          "barpolar": [
           {
            "marker": {
             "line": {
              "color": "#E5ECF6",
              "width": 0.5
             },
             "pattern": {
              "fillmode": "overlay",
              "size": 10,
              "solidity": 0.2
             }
            },
            "type": "barpolar"
           }
          ],
          "carpet": [
           {
            "aaxis": {
             "endlinecolor": "#2a3f5f",
             "gridcolor": "white",
             "linecolor": "white",
             "minorgridcolor": "white",
             "startlinecolor": "#2a3f5f"
            },
            "baxis": {
             "endlinecolor": "#2a3f5f",
             "gridcolor": "white",
             "linecolor": "white",
             "minorgridcolor": "white",
             "startlinecolor": "#2a3f5f"
            },
            "type": "carpet"
           }
          ],
          "choropleth": [
           {
            "colorbar": {
             "outlinewidth": 0,
             "ticks": ""
            },
            "type": "choropleth"
           }
          ],
          "contour": [
           {
            "colorbar": {
             "outlinewidth": 0,
             "ticks": ""
            },
            "colorscale": [
             [
              0,
              "#0d0887"
             ],
             [
              0.1111111111111111,
              "#46039f"
             ],
             [
              0.2222222222222222,
              "#7201a8"
             ],
             [
              0.3333333333333333,
              "#9c179e"
             ],
             [
              0.4444444444444444,
              "#bd3786"
             ],
             [
              0.5555555555555556,
              "#d8576b"
             ],
             [
              0.6666666666666666,
              "#ed7953"
             ],
             [
              0.7777777777777778,
              "#fb9f3a"
             ],
             [
              0.8888888888888888,
              "#fdca26"
             ],
             [
              1,
              "#f0f921"
             ]
            ],
            "type": "contour"
           }
          ],
          "contourcarpet": [
           {
            "colorbar": {
             "outlinewidth": 0,
             "ticks": ""
            },
            "type": "contourcarpet"
           }
          ],
          "heatmap": [
           {
            "colorbar": {
             "outlinewidth": 0,
             "ticks": ""
            },
            "colorscale": [
             [
              0,
              "#0d0887"
             ],
             [
              0.1111111111111111,
              "#46039f"
             ],
             [
              0.2222222222222222,
              "#7201a8"
             ],
             [
              0.3333333333333333,
              "#9c179e"
             ],
             [
              0.4444444444444444,
              "#bd3786"
             ],
             [
              0.5555555555555556,
              "#d8576b"
             ],
             [
              0.6666666666666666,
              "#ed7953"
             ],
             [
              0.7777777777777778,
              "#fb9f3a"
             ],
             [
              0.8888888888888888,
              "#fdca26"
             ],
             [
              1,
              "#f0f921"
             ]
            ],
            "type": "heatmap"
           }
          ],
          "heatmapgl": [
           {
            "colorbar": {
             "outlinewidth": 0,
             "ticks": ""
            },
            "colorscale": [
             [
              0,
              "#0d0887"
             ],
             [
              0.1111111111111111,
              "#46039f"
             ],
             [
              0.2222222222222222,
              "#7201a8"
             ],
             [
              0.3333333333333333,
              "#9c179e"
             ],
             [
              0.4444444444444444,
              "#bd3786"
             ],
             [
              0.5555555555555556,
              "#d8576b"
             ],
             [
              0.6666666666666666,
              "#ed7953"
             ],
             [
              0.7777777777777778,
              "#fb9f3a"
             ],
             [
              0.8888888888888888,
              "#fdca26"
             ],
             [
              1,
              "#f0f921"
             ]
            ],
            "type": "heatmapgl"
           }
          ],
          "histogram": [
           {
            "marker": {
             "pattern": {
              "fillmode": "overlay",
              "size": 10,
              "solidity": 0.2
             }
            },
            "type": "histogram"
           }
          ],
          "histogram2d": [
           {
            "colorbar": {
             "outlinewidth": 0,
             "ticks": ""
            },
            "colorscale": [
             [
              0,
              "#0d0887"
             ],
             [
              0.1111111111111111,
              "#46039f"
             ],
             [
              0.2222222222222222,
              "#7201a8"
             ],
             [
              0.3333333333333333,
              "#9c179e"
             ],
             [
              0.4444444444444444,
              "#bd3786"
             ],
             [
              0.5555555555555556,
              "#d8576b"
             ],
             [
              0.6666666666666666,
              "#ed7953"
             ],
             [
              0.7777777777777778,
              "#fb9f3a"
             ],
             [
              0.8888888888888888,
              "#fdca26"
             ],
             [
              1,
              "#f0f921"
             ]
            ],
            "type": "histogram2d"
           }
          ],
          "histogram2dcontour": [
           {
            "colorbar": {
             "outlinewidth": 0,
             "ticks": ""
            },
            "colorscale": [
             [
              0,
              "#0d0887"
             ],
             [
              0.1111111111111111,
              "#46039f"
             ],
             [
              0.2222222222222222,
              "#7201a8"
             ],
             [
              0.3333333333333333,
              "#9c179e"
             ],
             [
              0.4444444444444444,
              "#bd3786"
             ],
             [
              0.5555555555555556,
              "#d8576b"
             ],
             [
              0.6666666666666666,
              "#ed7953"
             ],
             [
              0.7777777777777778,
              "#fb9f3a"
             ],
             [
              0.8888888888888888,
              "#fdca26"
             ],
             [
              1,
              "#f0f921"
             ]
            ],
            "type": "histogram2dcontour"
           }
          ],
          "mesh3d": [
           {
            "colorbar": {
             "outlinewidth": 0,
             "ticks": ""
            },
            "type": "mesh3d"
           }
          ],
          "parcoords": [
           {
            "line": {
             "colorbar": {
              "outlinewidth": 0,
              "ticks": ""
             }
            },
            "type": "parcoords"
           }
          ],
          "pie": [
           {
            "automargin": true,
            "type": "pie"
           }
          ],
          "scatter": [
           {
            "marker": {
             "colorbar": {
              "outlinewidth": 0,
              "ticks": ""
             }
            },
            "type": "scatter"
           }
          ],
          "scatter3d": [
           {
            "line": {
             "colorbar": {
              "outlinewidth": 0,
              "ticks": ""
             }
            },
            "marker": {
             "colorbar": {
              "outlinewidth": 0,
              "ticks": ""
             }
            },
            "type": "scatter3d"
           }
          ],
          "scattercarpet": [
           {
            "marker": {
             "colorbar": {
              "outlinewidth": 0,
              "ticks": ""
             }
            },
            "type": "scattercarpet"
           }
          ],
          "scattergeo": [
           {
            "marker": {
             "colorbar": {
              "outlinewidth": 0,
              "ticks": ""
             }
            },
            "type": "scattergeo"
           }
          ],
          "scattergl": [
           {
            "marker": {
             "colorbar": {
              "outlinewidth": 0,
              "ticks": ""
             }
            },
            "type": "scattergl"
           }
          ],
          "scattermapbox": [
           {
            "marker": {
             "colorbar": {
              "outlinewidth": 0,
              "ticks": ""
             }
            },
            "type": "scattermapbox"
           }
          ],
          "scatterpolar": [
           {
            "marker": {
             "colorbar": {
              "outlinewidth": 0,
              "ticks": ""
             }
            },
            "type": "scatterpolar"
           }
          ],
          "scatterpolargl": [
           {
            "marker": {
             "colorbar": {
              "outlinewidth": 0,
              "ticks": ""
             }
            },
            "type": "scatterpolargl"
           }
          ],
          "scatterternary": [
           {
            "marker": {
             "colorbar": {
              "outlinewidth": 0,
              "ticks": ""
             }
            },
            "type": "scatterternary"
           }
          ],
          "surface": [
           {
            "colorbar": {
             "outlinewidth": 0,
             "ticks": ""
            },
            "colorscale": [
             [
              0,
              "#0d0887"
             ],
             [
              0.1111111111111111,
              "#46039f"
             ],
             [
              0.2222222222222222,
              "#7201a8"
             ],
             [
              0.3333333333333333,
              "#9c179e"
             ],
             [
              0.4444444444444444,
              "#bd3786"
             ],
             [
              0.5555555555555556,
              "#d8576b"
             ],
             [
              0.6666666666666666,
              "#ed7953"
             ],
             [
              0.7777777777777778,
              "#fb9f3a"
             ],
             [
              0.8888888888888888,
              "#fdca26"
             ],
             [
              1,
              "#f0f921"
             ]
            ],
            "type": "surface"
           }
          ],
          "table": [
           {
            "cells": {
             "fill": {
              "color": "#EBF0F8"
             },
             "line": {
              "color": "white"
             }
            },
            "header": {
             "fill": {
              "color": "#C8D4E3"
             },
             "line": {
              "color": "white"
             }
            },
            "type": "table"
           }
          ]
         },
         "layout": {
          "annotationdefaults": {
           "arrowcolor": "#2a3f5f",
           "arrowhead": 0,
           "arrowwidth": 1
          },
          "autotypenumbers": "strict",
          "coloraxis": {
           "colorbar": {
            "outlinewidth": 0,
            "ticks": ""
           }
          },
          "colorscale": {
           "diverging": [
            [
             0,
             "#8e0152"
            ],
            [
             0.1,
             "#c51b7d"
            ],
            [
             0.2,
             "#de77ae"
            ],
            [
             0.3,
             "#f1b6da"
            ],
            [
             0.4,
             "#fde0ef"
            ],
            [
             0.5,
             "#f7f7f7"
            ],
            [
             0.6,
             "#e6f5d0"
            ],
            [
             0.7,
             "#b8e186"
            ],
            [
             0.8,
             "#7fbc41"
            ],
            [
             0.9,
             "#4d9221"
            ],
            [
             1,
             "#276419"
            ]
           ],
           "sequential": [
            [
             0,
             "#0d0887"
            ],
            [
             0.1111111111111111,
             "#46039f"
            ],
            [
             0.2222222222222222,
             "#7201a8"
            ],
            [
             0.3333333333333333,
             "#9c179e"
            ],
            [
             0.4444444444444444,
             "#bd3786"
            ],
            [
             0.5555555555555556,
             "#d8576b"
            ],
            [
             0.6666666666666666,
             "#ed7953"
            ],
            [
             0.7777777777777778,
             "#fb9f3a"
            ],
            [
             0.8888888888888888,
             "#fdca26"
            ],
            [
             1,
             "#f0f921"
            ]
           ],
           "sequentialminus": [
            [
             0,
             "#0d0887"
            ],
            [
             0.1111111111111111,
             "#46039f"
            ],
            [
             0.2222222222222222,
             "#7201a8"
            ],
            [
             0.3333333333333333,
             "#9c179e"
            ],
            [
             0.4444444444444444,
             "#bd3786"
            ],
            [
             0.5555555555555556,
             "#d8576b"
            ],
            [
             0.6666666666666666,
             "#ed7953"
            ],
            [
             0.7777777777777778,
             "#fb9f3a"
            ],
            [
             0.8888888888888888,
             "#fdca26"
            ],
            [
             1,
             "#f0f921"
            ]
           ]
          },
          "colorway": [
           "#636efa",
           "#EF553B",
           "#00cc96",
           "#ab63fa",
           "#FFA15A",
           "#19d3f3",
           "#FF6692",
           "#B6E880",
           "#FF97FF",
           "#FECB52"
          ],
          "font": {
           "color": "#2a3f5f"
          },
          "geo": {
           "bgcolor": "white",
           "lakecolor": "white",
           "landcolor": "#E5ECF6",
           "showlakes": true,
           "showland": true,
           "subunitcolor": "white"
          },
          "hoverlabel": {
           "align": "left"
          },
          "hovermode": "closest",
          "mapbox": {
           "style": "light"
          },
          "paper_bgcolor": "white",
          "plot_bgcolor": "#E5ECF6",
          "polar": {
           "angularaxis": {
            "gridcolor": "white",
            "linecolor": "white",
            "ticks": ""
           },
           "bgcolor": "#E5ECF6",
           "radialaxis": {
            "gridcolor": "white",
            "linecolor": "white",
            "ticks": ""
           }
          },
          "scene": {
           "xaxis": {
            "backgroundcolor": "#E5ECF6",
            "gridcolor": "white",
            "gridwidth": 2,
            "linecolor": "white",
            "showbackground": true,
            "ticks": "",
            "zerolinecolor": "white"
           },
           "yaxis": {
            "backgroundcolor": "#E5ECF6",
            "gridcolor": "white",
            "gridwidth": 2,
            "linecolor": "white",
            "showbackground": true,
            "ticks": "",
            "zerolinecolor": "white"
           },
           "zaxis": {
            "backgroundcolor": "#E5ECF6",
            "gridcolor": "white",
            "gridwidth": 2,
            "linecolor": "white",
            "showbackground": true,
            "ticks": "",
            "zerolinecolor": "white"
           }
          },
          "shapedefaults": {
           "line": {
            "color": "#2a3f5f"
           }
          },
          "ternary": {
           "aaxis": {
            "gridcolor": "white",
            "linecolor": "white",
            "ticks": ""
           },
           "baxis": {
            "gridcolor": "white",
            "linecolor": "white",
            "ticks": ""
           },
           "bgcolor": "#E5ECF6",
           "caxis": {
            "gridcolor": "white",
            "linecolor": "white",
            "ticks": ""
           }
          },
          "title": {
           "x": 0.05
          },
          "xaxis": {
           "automargin": true,
           "gridcolor": "white",
           "linecolor": "white",
           "ticks": "",
           "title": {
            "standoff": 15
           },
           "zerolinecolor": "white",
           "zerolinewidth": 2
          },
          "yaxis": {
           "automargin": true,
           "gridcolor": "white",
           "linecolor": "white",
           "ticks": "",
           "title": {
            "standoff": 15
           },
           "zerolinecolor": "white",
           "zerolinewidth": 2
          }
         }
        },
        "title": {
         "font": {
          "color": "#4D5663"
         }
        },
        "xaxis": {
         "gridcolor": "#E1E5ED",
         "showgrid": true,
         "tickfont": {
          "color": "#4D5663"
         },
         "title": {
          "font": {
           "color": "#4D5663"
          },
          "text": "change in log price"
         },
         "zerolinecolor": "#E1E5ED"
        },
        "yaxis": {
         "gridcolor": "#E1E5ED",
         "showgrid": true,
         "tickfont": {
          "color": "#4D5663"
         },
         "title": {
          "font": {
           "color": "#4D5663"
          },
          "text": "change in log cost"
         },
         "zerolinecolor": "#E1E5ED"
        }
       }
      },
      "text/html": [
       "<div>                            <div id=\"75e80487-0b9c-4f3d-be6e-4b721809314c\" class=\"plotly-graph-div\" style=\"height:525px; width:100%;\"></div>            <script type=\"text/javascript\">                require([\"plotly\"], function(Plotly) {                    window.PLOTLYENV=window.PLOTLYENV || {};\n",
       "                    window.PLOTLYENV.BASE_URL='https://plot.ly';                                    if (document.getElementById(\"75e80487-0b9c-4f3d-be6e-4b721809314c\")) {                    Plotly.newPlot(                        \"75e80487-0b9c-4f3d-be6e-4b721809314c\",                        [{\"line\":{\"color\":\"rgba(255, 153, 51, 1.0)\",\"dash\":\"solid\",\"shape\":\"linear\",\"width\":1.3},\"mode\":\"lines\",\"name\":\"Chicken breast\",\"text\":\"\",\"type\":\"scatter\",\"x\":[-0.6931471805599453,-0.5108256237659907,-0.35667494393873245,-0.2231435513142097,-0.10536051565782628,0.0,0.09531017980432493,0.1823215567939546,0.26236426446749106,0.3364722366212129,0.4054651081081644],\"y\":[9.459863045099627e-08,3.7613383255636635e-08,1.7202476850472083e-08,8.259550120821987e-09,3.0038764763776522e-09,0.0,-1.3348953062958435e-09,-1.7281613932607285e-09,-1.8233006232572935e-09,-1.8096985038017852e-09,-1.6924417437391621e-09]},{\"line\":{\"color\":\"rgba(55, 128, 191, 1.0)\",\"dash\":\"solid\",\"shape\":\"linear\",\"width\":1.3},\"mode\":\"lines\",\"name\":\"Chicken thigh\",\"text\":\"\",\"type\":\"scatter\",\"x\":[-0.6931471805599453,-0.5108256237659907,-0.35667494393873245,-0.2231435513142097,-0.10536051565782628,0.0,0.09531017980432493,0.1823215567939546,0.26236426446749106,0.3364722366212129,0.4054651081081644],\"y\":[-1.824963293262005e-09,-1.7868008200115303e-09,-1.6618947343214857e-09,-1.379793280584139e-09,-7.868825594213377e-10,0.0,8.131364467336711e-10,1.1362539791487962e-09,7.458751391514211e-10,4.8996362521557085e-11,-6.295861611810428e-10]},{\"line\":{\"color\":\"rgba(50, 171, 96, 1.0)\",\"dash\":\"solid\",\"shape\":\"linear\",\"width\":1.3},\"mode\":\"lines\",\"name\":\"Ground Beef\",\"text\":\"\",\"type\":\"scatter\",\"x\":[-0.6931471805599453,-0.5108256237659907,-0.35667494393873245,-0.2231435513142097,-0.10536051565782628,0.0,0.09531017980432493,0.1823215567939546,0.26236426446749106,0.3364722366212129,0.4054651081081644],\"y\":[-1.7761896413901667e-09,4.970939405823497e-07,-1.7988532901661665e-09,-1.6457277776324597e-09,-1.050206810956042e-09,0.0,1.0551812751320065e-09,1.2591689905038797e-09,4.76692463166797e-10,-5.743200361380521e-10,-1.3612037062343384e-09]},{\"line\":{\"color\":\"rgba(128, 0, 128, 1.0)\",\"dash\":\"solid\",\"shape\":\"linear\",\"width\":1.3},\"mode\":\"lines\",\"name\":\"Eggs\",\"text\":\"\",\"type\":\"scatter\",\"x\":[-0.6931471805599453,-0.5108256237659907,-0.35667494393873245,-0.2231435513142097,-0.10536051565782628,0.0,0.09531017980432493,0.1823215567939546,0.26236426446749106,0.3364722366212129,0.4054651081081644],\"y\":[5.183225755345695e-07,-1.8070154278133215e-09,-1.6992752774896212e-09,-1.4574882422698631e-09,-8.455567360976436e-10,0.0,8.525926627729629e-10,6.916387460360207e-10,-1.4855905395842956e-10,-1.1032185171490396e-09,-1.6529641002965992e-09]},{\"line\":{\"color\":\"rgba(219, 64, 82, 1.0)\",\"dash\":\"solid\",\"shape\":\"linear\",\"width\":1.3},\"mode\":\"lines\",\"name\":\"Peanut Butter\",\"text\":\"\",\"type\":\"scatter\",\"x\":[-0.6931471805599453,-0.5108256237659907,-0.35667494393873245,-0.2231435513142097,-0.10536051565782628,0.0,0.09531017980432493,0.1823215567939546,0.26236426446749106,0.3364722366212129,0.4054651081081644],\"y\":[-0.11191075894619516,-0.08042310994964712,-0.049896611370869766,-0.030780766441555033,-0.01453335646491482,0.0,0.013859521676824462,0.02526519540888792,0.03404801552782216,0.04187889518998146,0.04964914047505155]},{\"line\":{\"color\":\"rgba(0, 128, 128, 1.0)\",\"dash\":\"solid\",\"shape\":\"linear\",\"width\":1.3},\"mode\":\"lines\",\"name\":\"Chickpeas\",\"text\":\"\",\"type\":\"scatter\",\"x\":[-0.6931471805599453,-0.5108256237659907,-0.35667494393873245,-0.2231435513142097,-0.10536051565782628,0.0,0.09531017980432493,0.1823215567939546,0.26236426446749106,0.3364722366212129,0.4054651081081644],\"y\":[-0.09335031988709575,-0.07176889424249201,-0.05064337360086401,-0.029954925882908847,-0.013541608583804161,0.0,0.013021531088680269,0.024788714181288307,0.036020941537136454,0.03646023645145333,0.03646023632381119]},{\"line\":{\"color\":\"rgba(255, 255, 51, 1.0)\",\"dash\":\"solid\",\"shape\":\"linear\",\"width\":1.3},\"mode\":\"lines\",\"name\":\"Tofu\",\"text\":\"\",\"type\":\"scatter\",\"x\":[-0.6931471805599453,-0.5108256237659907,-0.35667494393873245,-0.2231435513142097,-0.10536051565782628,0.0,0.09531017980432493,0.1823215567939546,0.26236426446749106,0.3364722366212129,0.4054651081081644],\"y\":[-1.8244048510795997e-09,-1.8253027994635551e-09,-1.7783451393963073e-09,-1.646963344838599e-09,-1.1377095938491103e-09,0.0,2.1613861788073483e-09,4.314663728095473e-09,5.261677968361932e-09,4.0843441878459285e-09,1.0619880524887778e-09]},{\"line\":{\"color\":\"rgba(128, 128, 0, 1.0)\",\"dash\":\"solid\",\"shape\":\"linear\",\"width\":1.3},\"mode\":\"lines\",\"name\":\"Pork Loin\",\"text\":\"\",\"type\":\"scatter\",\"x\":[-0.6931471805599453,-0.5108256237659907,-0.35667494393873245,-0.2231435513142097,-0.10536051565782628,0.0,0.09531017980432493,0.1823215567939546,0.26236426446749106,0.3364722366212129,0.4054651081081644],\"y\":[0.0,0.0,0.0,0.0,0.0,0.0,0.0,0.0,0.0,0.0,0.0]},{\"line\":{\"color\":\"rgba(251, 128, 114, 1.0)\",\"dash\":\"solid\",\"shape\":\"linear\",\"width\":1.3},\"mode\":\"lines\",\"name\":\"Ground Pork\",\"text\":\"\",\"type\":\"scatter\",\"x\":[-0.6931471805599453,-0.5108256237659907,-0.35667494393873245,-0.2231435513142097,-0.10536051565782628,0.0,0.09531017980432493,0.1823215567939546,0.26236426446749106,0.3364722366212129,0.4054651081081644],\"y\":[-1.6666402716258414e-09,-1.3573699951027943e-09,-8.229629203715554e-10,-2.410854849379262e-10,1.1550649325230579e-10,0.0,-4.9641624156991e-10,-1.0996870087261196e-09,-1.567953768052633e-09,-1.7239478748303984e-09,-1.807248685671217e-09]},{\"line\":{\"color\":\"rgba(128, 177, 211, 1.0)\",\"dash\":\"solid\",\"shape\":\"linear\",\"width\":1.3},\"mode\":\"lines\",\"name\":\"Ground Turkey\",\"text\":\"\",\"type\":\"scatter\",\"x\":[-0.6931471805599453,-0.5108256237659907,-0.35667494393873245,-0.2231435513142097,-0.10536051565782628,0.0,0.09531017980432493,0.1823215567939546,0.26236426446749106,0.3364722366212129,0.4054651081081644],\"y\":[-1.8192135592292973e-09,5.305577377739625e-07,-1.7946060209555294e-09,-1.6551469097889251e-09,-1.1983343213803001e-09,0.0,2.333955914698129e-09,4.420638068046764e-09,4.698654121401408e-09,2.5139570393781053e-09,-5.081166599877063e-10]},{\"line\":{\"color\":\"rgba(128, 177, 211, 0.8999999999999999)\",\"dash\":\"solid\",\"shape\":\"linear\",\"width\":1.3},\"mode\":\"lines\",\"name\":\"Black Beans\",\"text\":\"\",\"type\":\"scatter\",\"x\":[-0.6931471805599453,-0.5108256237659907,-0.35667494393873245,-0.2231435513142097,-0.10536051565782628,0.0,0.09531017980432493,0.1823215567939546,0.26236426446749106,0.3364722366212129,0.4054651081081644],\"y\":[-0.037582988850542925,-0.029952542884934426,-0.022379881072879824,-0.014864130650304442,-0.007404441765284863,0.0,0.007350023271957891,0.014646457819672755,0.02114511146358845,0.02751586913379264,0.03384629715815989]},{\"line\":{\"color\":\"rgba(255, 153, 51, 0.8999999999999999)\",\"dash\":\"solid\",\"shape\":\"linear\",\"width\":1.3},\"mode\":\"lines\",\"name\":\"Pinto Beans\",\"text\":\"\",\"type\":\"scatter\",\"x\":[-0.6931471805599453,-0.5108256237659907,-0.35667494393873245,-0.2231435513142097,-0.10536051565782628,0.0,0.09531017980432493,0.1823215567939546,0.26236426446749106,0.3364722366212129,0.4054651081081644],\"y\":[-0.002466322798829502,-0.0016234759549486977,-0.0007813406342006259,-1.359319879803592e-09,-1.3262507767477024e-09,0.0,-1.828815212052979e-09,-1.5223091687706919e-09,1.1248647949785325e-08,-1.0972850412097046e-09,-1.1795724404202477e-09]},{\"line\":{\"color\":\"rgba(55, 128, 191, 0.8999999999999999)\",\"dash\":\"solid\",\"shape\":\"linear\",\"width\":1.3},\"mode\":\"lines\",\"name\":\"Lentils\",\"text\":\"\",\"type\":\"scatter\",\"x\":[-0.6931471805599453,-0.5108256237659907,-0.35667494393873245,-0.2231435513142097,-0.10536051565782628,0.0,0.09531017980432493,0.1823215567939546,0.26236426446749106,0.3364722366212129,0.4054651081081644],\"y\":[1.3480248382171538e-08,3.66763418962131e-09,1.2874836743986562e-09,4.3007841723141436e-10,9.305045622476428e-11,0.0,5.2588600139851784e-11,9.548406509451321e-11,1.1796807974221732e-10,1.8825696555428864e-10,2.7179924973667026e-10]},{\"line\":{\"color\":\"rgba(50, 171, 96, 0.8999999999999999)\",\"dash\":\"solid\",\"shape\":\"linear\",\"width\":1.3},\"mode\":\"lines\",\"name\":\"Sliced Turkey\",\"text\":\"\",\"type\":\"scatter\",\"x\":[-0.6931471805599453,-0.5108256237659907,-0.35667494393873245,-0.2231435513142097,-0.10536051565782628,0.0,0.09531017980432493,0.1823215567939546,0.26236426446749106,0.3364722366212129,0.4054651081081644],\"y\":[-0.0815257218626412,-0.06429636341089506,-0.04764198838898933,-0.03150746192949265,-0.015629819755488432,0.0,0.015102031855864015,0.022580447542920754,0.02830222953149981,0.03399145763497939,0.03964850019273472]},{\"line\":{\"color\":\"rgba(128, 0, 128, 0.8999999999999999)\",\"dash\":\"solid\",\"shape\":\"linear\",\"width\":1.3},\"mode\":\"lines\",\"name\":\"Sliced Ham\",\"text\":\"\",\"type\":\"scatter\",\"x\":[-0.6931471805599453,-0.5108256237659907,-0.35667494393873245,-0.2231435513142097,-0.10536051565782628,0.0,0.09531017980432493,0.1823215567939546,0.26236426446749106,0.3364722366212129,0.4054651081081644],\"y\":[2.4199942785823237e-07,1.433076661238239e-07,7.980355257934315e-08,3.483038152745459e-08,9.869687240959944e-09,0.0,-1.6888309653900693e-09,4.752554703981581e-07,-1.7467074468747095e-09,-1.6716804621214475e-09,2.494916033400511e-07]},{\"line\":{\"color\":\"rgba(219, 64, 82, 0.8999999999999999)\",\"dash\":\"solid\",\"shape\":\"linear\",\"width\":1.3},\"mode\":\"lines\",\"name\":\"Salmon\",\"text\":\"\",\"type\":\"scatter\",\"x\":[-0.6931471805599453,-0.5108256237659907,-0.35667494393873245,-0.2231435513142097,-0.10536051565782628,0.0,0.09531017980432493,0.1823215567939546,0.26236426446749106,0.3364722366212129,0.4054651081081644],\"y\":[2.7841813260531368e-09,-1.5777759111669406e-09,2.78884149659557e-08,-1.821965024956235e-09,2.5953242773380705e-08,0.0,-1.7953932801037043e-09,-1.8021903985395935e-09,-1.6636657620933127e-09,2.4303350398753165e-07,-1.8326233880567174e-09]},{\"line\":{\"color\":\"rgba(0, 128, 128, 0.8999999999999999)\",\"dash\":\"solid\",\"shape\":\"linear\",\"width\":1.3},\"mode\":\"lines\",\"name\":\"Shrimp\",\"text\":\"\",\"type\":\"scatter\",\"x\":[-0.6931471805599453,-0.5108256237659907,-0.35667494393873245,-0.2231435513142097,-0.10536051565782628,0.0,0.09531017980432493,0.1823215567939546,0.26236426446749106,0.3364722366212129,0.4054651081081644],\"y\":[-5.306892704468994e-10,1.1549259320001566e-09,3.1095184156953143e-09,3.464623915088228e-09,1.9146846312312033e-09,0.0,-1.1196078515013764e-09,-1.644842152724259e-09,-1.7656437438828789e-09,-1.8049534105859613e-09,-1.8248205185807776e-09]},{\"line\":{\"color\":\"rgba(255, 255, 51, 0.8999999999999999)\",\"dash\":\"solid\",\"shape\":\"linear\",\"width\":1.3},\"mode\":\"lines\",\"name\":\"Tuna\",\"text\":\"\",\"type\":\"scatter\",\"x\":[-0.6931471805599453,-0.5108256237659907,-0.35667494393873245,-0.2231435513142097,-0.10536051565782628,0.0,0.09531017980432493,0.1823215567939546,0.26236426446749106,0.3364722366212129,0.4054651081081644],\"y\":[-1.8100860826603833e-09,2.3031047903420382e-07,5.1645161479363e-08,1.321658862500011e-08,3.191152226260408e-09,0.0,-1.0648960607880896e-09,-1.5139158826917838e-09,-1.6528952664689585e-09,-1.7322939764324411e-09,-1.7823315061956236e-09]},{\"line\":{\"color\":\"rgba(128, 128, 0, 0.8999999999999999)\",\"dash\":\"solid\",\"shape\":\"linear\",\"width\":1.3},\"mode\":\"lines\",\"name\":\"Almond Milk\",\"text\":\"\",\"type\":\"scatter\",\"x\":[-0.6931471805599453,-0.5108256237659907,-0.35667494393873245,-0.2231435513142097,-0.10536051565782628,0.0,0.09531017980432493,0.1823215567939546,0.26236426446749106,0.3364722366212129,0.4054651081081644],\"y\":[-0.07512615488079424,-0.05184152278453066,-0.03365064035470578,-0.020330384742470342,-0.007512856437728449,0.0,0.00335237618443078,0.00597463525081476,0.007269960958329504,0.008563675349119443,0.009281649925068611]},{\"line\":{\"color\":\"rgba(251, 128, 114, 0.8999999999999999)\",\"dash\":\"solid\",\"shape\":\"linear\",\"width\":1.3},\"mode\":\"lines\",\"name\":\"2% milk\",\"text\":\"\",\"type\":\"scatter\",\"x\":[-0.6931471805599453,-0.5108256237659907,-0.35667494393873245,-0.2231435513142097,-0.10536051565782628,0.0,0.09531017980432493,0.1823215567939546,0.26236426446749106,0.3364722366212129,0.4054651081081644],\"y\":[-1.6531434013153725e-09,-1.6419958739513499e-09,-1.5463957903937994e-09,-1.245877957133439e-09,-7.506553159661538e-10,0.0,1.1479692745358655e-09,2.6735043032532997e-09,4.568940548786579e-09,6.647118167114845e-09,8.881177753747543e-09]},{\"line\":{\"color\":\"rgba(251, 128, 114, 0.7999999999999998)\",\"dash\":\"solid\",\"shape\":\"linear\",\"width\":1.3},\"mode\":\"lines\",\"name\":\"Cheddar cheese\",\"text\":\"\",\"type\":\"scatter\",\"x\":[-0.6931471805599453,-0.5108256237659907,-0.35667494393873245,-0.2231435513142097,-0.10536051565782628,0.0,0.09531017980432493,0.1823215567939546,0.26236426446749106,0.3364722366212129,0.4054651081081644],\"y\":[-0.08518938832509872,-0.04562508997034805,-0.023853003955852263,-0.010216671488204444,-0.0016806867141320359,0.0,0.00019212711897202003,0.00019209191941431416,0.0001920921601543453,0.00019209662981118012,0.0001925029475888715]},{\"line\":{\"color\":\"rgba(128, 177, 211, 0.7999999999999998)\",\"dash\":\"solid\",\"shape\":\"linear\",\"width\":1.3},\"mode\":\"lines\",\"name\":\"Unsalted butter\",\"text\":\"\",\"type\":\"scatter\",\"x\":[-0.6931471805599453,-0.5108256237659907,-0.35667494393873245,-0.2231435513142097,-0.10536051565782628,0.0,0.09531017980432493,0.1823215567939546,0.26236426446749106,0.3364722366212129,0.4054651081081644],\"y\":[-1.675184325993028e-09,-1.7026904345414797e-09,-1.6492204282513818e-09,-1.4346772669060208e-09,-9.10949427417009e-10,0.0,1.4642509416456111e-09,3.289879696583692e-09,4.769598038472913e-09,5.90790170593819e-09,6.501853922992669e-09]},{\"line\":{\"color\":\"rgba(255, 153, 51, 0.7999999999999998)\",\"dash\":\"solid\",\"shape\":\"linear\",\"width\":1.3},\"mode\":\"lines\",\"name\":\"Greek yogurt\",\"text\":\"\",\"type\":\"scatter\",\"x\":[-0.6931471805599453,-0.5108256237659907,-0.35667494393873245,-0.2231435513142097,-0.10536051565782628,0.0,0.09531017980432493,0.1823215567939546,0.26236426446749106,0.3364722366212129,0.4054651081081644],\"y\":[-1.8211303592848015e-09,-1.7842775051166568e-09,-1.6705412622739759e-09,-1.4632783884186466e-09,-9.180871622711542e-10,0.0,1.4856049712697557e-09,3.1913218683380295e-09,4.451098146815263e-09,5.065441386836012e-09,4.6779306985209126e-09]},{\"line\":{\"color\":\"rgba(55, 128, 191, 0.7999999999999998)\",\"dash\":\"solid\",\"shape\":\"linear\",\"width\":1.3},\"mode\":\"lines\",\"name\":\"Oat Milk\",\"text\":\"\",\"type\":\"scatter\",\"x\":[-0.6931471805599453,-0.5108256237659907,-0.35667494393873245,-0.2231435513142097,-0.10536051565782628,0.0,0.09531017980432493,0.1823215567939546,0.26236426446749106,0.3364722366212129,0.4054651081081644],\"y\":[-0.08982108882198235,-0.06881910484359159,-0.04824912471831995,-0.028093766663488295,-0.00988875706023799,0.0,0.009416528081119925,0.01874473034266298,0.027986967980510688,0.03651290943476583,0.044351405967993654]},{\"line\":{\"color\":\"rgba(50, 171, 96, 0.7999999999999998)\",\"dash\":\"solid\",\"shape\":\"linear\",\"width\":1.3},\"mode\":\"lines\",\"name\":\"Wheat Cereal\",\"text\":\"\",\"type\":\"scatter\",\"x\":[-0.6931471805599453,-0.5108256237659907,-0.35667494393873245,-0.2231435513142097,-0.10536051565782628,0.0,0.09531017980432493,0.1823215567939546,0.26236426446749106,0.3364722366212129,0.4054651081081644],\"y\":[-1.833321274251276e-09,1.99644153042352e-07,8.773252250635776e-08,2.9329826581417824e-08,7.116448516244536e-09,0.0,-1.5069716597068695e-09,-1.7508118303816237e-09,-1.8135878371086982e-09,4.7321061819221926e-07,-1.824491559497981e-09]},{\"line\":{\"color\":\"rgba(128, 0, 128, 0.7999999999999998)\",\"dash\":\"solid\",\"shape\":\"linear\",\"width\":1.3},\"mode\":\"lines\",\"name\":\"Granola\",\"text\":\"\",\"type\":\"scatter\",\"x\":[-0.6931471805599453,-0.5108256237659907,-0.35667494393873245,-0.2231435513142097,-0.10536051565782628,0.0,0.09531017980432493,0.1823215567939546,0.26236426446749106,0.3364722366212129,0.4054651081081644],\"y\":[5.516008189897423e-07,-1.8083332625459339e-09,-1.6600998367545928e-09,-1.0755293328401193e-09,-2.860177650685827e-10,0.0,-4.668669896214646e-10,-1.2350739327781995e-09,-1.6415605555026797e-09,-1.787051064281728e-09,-1.8246809635463277e-09]},{\"line\":{\"color\":\"rgba(219, 64, 82, 0.7999999999999998)\",\"dash\":\"solid\",\"shape\":\"linear\",\"width\":1.3},\"mode\":\"lines\",\"name\":\"Brown Rice\",\"text\":\"\",\"type\":\"scatter\",\"x\":[-0.6931471805599453,-0.5108256237659907,-0.35667494393873245,-0.2231435513142097,-0.10536051565782628,0.0,0.09531017980432493,0.1823215567939546,0.26236426446749106,0.3364722366212129,0.4054651081081644],\"y\":[-0.0018642167377303604,-2.7019949313297e-05,-9.860521293235496e-10,-9.232048463301779e-10,-5.13944886780757e-10,0.0,9.194427437400921e-10,2.3689803424182246e-09,4.436713431238329e-09,6.663675811149302e-09,9.215226539355528e-09]},{\"line\":{\"color\":\"rgba(0, 128, 128, 0.7999999999999998)\",\"dash\":\"solid\",\"shape\":\"linear\",\"width\":1.3},\"mode\":\"lines\",\"name\":\"Jasmine Rice\",\"text\":\"\",\"type\":\"scatter\",\"x\":[-0.6931471805599453,-0.5108256237659907,-0.35667494393873245,-0.2231435513142097,-0.10536051565782628,0.0,0.09531017980432493,0.1823215567939546,0.26236426446749106,0.3364722366212129,0.4054651081081644],\"y\":[4.986113509634574e-09,2.072318092756129e-09,1.9616730460322242e-10,-2.6959201541469033e-10,-2.5327839828658334e-10,0.0,4.654616690995844e-10,1.1253447056765607e-09,1.976423689421282e-09,2.985279574637056e-09,3.963744880013688e-09]},{\"line\":{\"color\":\"rgba(255, 255, 51, 0.7999999999999998)\",\"dash\":\"solid\",\"shape\":\"linear\",\"width\":1.3},\"mode\":\"lines\",\"name\":\"Potatoes\",\"text\":\"\",\"type\":\"scatter\",\"x\":[-0.6931471805599453,-0.5108256237659907,-0.35667494393873245,-0.2231435513142097,-0.10536051565782628,0.0,0.09531017980432493,0.1823215567939546,0.26236426446749106,0.3364722366212129,0.4054651081081644],\"y\":[-0.011318085154640582,-0.005384680405832966,-0.0002085550791404543,-1.9819675330734732e-05,-1.8073003110419553e-09,0.0,-1.7859198580399165e-09,3.174396115059479e-07,-1.7950003721745841e-09,-1.6700129071356744e-09,-1.4733744235525047e-09]},{\"line\":{\"color\":\"rgba(128, 128, 0, 0.7999999999999998)\",\"dash\":\"solid\",\"shape\":\"linear\",\"width\":1.3},\"mode\":\"lines\",\"name\":\"Bananas\",\"text\":\"\",\"type\":\"scatter\",\"x\":[-0.6931471805599453,-0.5108256237659907,-0.35667494393873245,-0.2231435513142097,-0.10536051565782628,0.0,0.09531017980432493,0.1823215567939546,0.26236426446749106,0.3364722366212129,0.4054651081081644],\"y\":[-0.06957453787347923,-0.035803404821343913,-0.0041567499287662475,1.1383117272827866e-08,1.9130723285245462e-07,0.0,-1.8136135942829162e-09,2.8377441922238797e-07,1.1010963334420915e-07,-1.3758014736935993e-09,3.000639847095323e-08]},{\"line\":{\"color\":\"rgba(128, 128, 0, 0.7)\",\"dash\":\"solid\",\"shape\":\"linear\",\"width\":1.3},\"mode\":\"lines\",\"name\":\"Fuji Apples\",\"text\":\"\",\"type\":\"scatter\",\"x\":[-0.6931471805599453,-0.5108256237659907,-0.35667494393873245,-0.2231435513142097,-0.10536051565782628,0.0,0.09531017980432493,0.1823215567939546,0.26236426446749106,0.3364722366212129,0.4054651081081644],\"y\":[0.0,0.0,0.0,0.0,0.0,0.0,0.0,0.0,0.0,0.0,0.0]},{\"line\":{\"color\":\"rgba(251, 128, 114, 0.7)\",\"dash\":\"solid\",\"shape\":\"linear\",\"width\":1.3},\"mode\":\"lines\",\"name\":\"Avocados\",\"text\":\"\",\"type\":\"scatter\",\"x\":[-0.6931471805599453,-0.5108256237659907,-0.35667494393873245,-0.2231435513142097,-0.10536051565782628,0.0,0.09531017980432493,0.1823215567939546,0.26236426446749106,0.3364722366212129,0.4054651081081644],\"y\":[-1.8172287025022635e-09,1.0918542010863214e-08,2.5370661124292277e-10,1.2830960730109768e-09,3.926884348277482e-07,0.0,-1.8190579059609618e-09,2.0448753592285145e-08,8.006819908510355e-08,1.1113092662149456e-09,4.7573084561432e-08]},{\"line\":{\"color\":\"rgba(128, 177, 211, 0.7)\",\"dash\":\"solid\",\"shape\":\"linear\",\"width\":1.3},\"mode\":\"lines\",\"name\":\"Blueberries\",\"text\":\"\",\"type\":\"scatter\",\"x\":[-0.6931471805599453,-0.5108256237659907,-0.35667494393873245,-0.2231435513142097,-0.10536051565782628,0.0,0.09531017980432493,0.1823215567939546,0.26236426446749106,0.3364722366212129,0.4054651081081644],\"y\":[0.0,0.0,0.0,0.0,0.0,0.0,0.0,0.0,0.0,0.0,0.0]},{\"line\":{\"color\":\"rgba(255, 153, 51, 0.7)\",\"dash\":\"solid\",\"shape\":\"linear\",\"width\":1.3},\"mode\":\"lines\",\"name\":\"Roma Tomatoes\",\"text\":\"\",\"type\":\"scatter\",\"x\":[-0.6931471805599453,-0.5108256237659907,-0.35667494393873245,-0.2231435513142097,-0.10536051565782628,0.0,0.09531017980432493,0.1823215567939546,0.26236426446749106,0.3364722366212129,0.4054651081081644],\"y\":[0.0,0.0,0.0,0.0,0.0,0.0,0.0,0.0,0.0,0.0,0.0]},{\"line\":{\"color\":\"rgba(55, 128, 191, 0.7)\",\"dash\":\"solid\",\"shape\":\"linear\",\"width\":1.3},\"mode\":\"lines\",\"name\":\"Kale\",\"text\":\"\",\"type\":\"scatter\",\"x\":[-0.6931471805599453,-0.5108256237659907,-0.35667494393873245,-0.2231435513142097,-0.10536051565782628,0.0,0.09531017980432493,0.1823215567939546,0.26236426446749106,0.3364722366212129,0.4054651081081644],\"y\":[-0.00011253482450478254,-1.6125301107406398e-09,-1.802351158833849e-09,-1.6414133399293726e-09,-9.796685689702857e-10,0.0,1.3550323076628605e-09,3.0225928381149913e-09,5.0520782984900145e-09,7.280846343744699e-09,9.702300915576696e-09]},{\"line\":{\"color\":\"rgba(50, 171, 96, 0.7)\",\"dash\":\"solid\",\"shape\":\"linear\",\"width\":1.3},\"mode\":\"lines\",\"name\":\"Garlic\",\"text\":\"\",\"type\":\"scatter\",\"x\":[-0.6931471805599453,-0.5108256237659907,-0.35667494393873245,-0.2231435513142097,-0.10536051565782628,0.0,0.09531017980432493,0.1823215567939546,0.26236426446749106,0.3364722366212129,0.4054651081081644],\"y\":[-7.616229871901138e-10,-1.244073844716177e-09,-1.1840293197355702e-09,-9.047301800720178e-10,-4.817782840499754e-10,0.0,4.4209680351234554e-10,6.755416224129843e-10,4.925884143810712e-10,6.988054579193466e-11,-4.2446035584247066e-10]},{\"line\":{\"color\":\"rgba(128, 0, 128, 0.7)\",\"dash\":\"solid\",\"shape\":\"linear\",\"width\":1.3},\"mode\":\"lines\",\"name\":\"Red Onion\",\"text\":\"\",\"type\":\"scatter\",\"x\":[-0.6931471805599453,-0.5108256237659907,-0.35667494393873245,-0.2231435513142097,-0.10536051565782628,0.0,0.09531017980432493,0.1823215567939546,0.26236426446749106,0.3364722366212129,0.4054651081081644],\"y\":[-1.6183542297149295e-09,-1.3977952138865297e-09,-1.1236829251178338e-09,-7.919033210095634e-10,-4.1105430179221896e-10,0.0,4.305071853633401e-10,7.900218254241085e-10,1.0053646798899807e-09,1.0137548573232076e-09,7.86678499810388e-10]},{\"line\":{\"color\":\"rgba(219, 64, 82, 0.7)\",\"dash\":\"solid\",\"shape\":\"linear\",\"width\":1.3},\"mode\":\"lines\",\"name\":\"Yellow Onion\",\"text\":\"\",\"type\":\"scatter\",\"x\":[-0.6931471805599453,-0.5108256237659907,-0.35667494393873245,-0.2231435513142097,-0.10536051565782628,0.0,0.09531017980432493,0.1823215567939546,0.26236426446749106,0.3364722366212129,0.4054651081081644],\"y\":[-1.2852506844839693e-09,-1.0218775830742388e-09,-7.6904904696291e-10,-5.220596178942482e-10,-2.7071711542814945e-10,0.0,3.1429769892844747e-10,6.618898760221127e-10,1.0458984783882625e-09,1.4670842308003019e-09,1.9235757412845484e-09]},{\"line\":{\"color\":\"rgba(0, 128, 128, 0.7)\",\"dash\":\"solid\",\"shape\":\"linear\",\"width\":1.3},\"mode\":\"lines\",\"name\":\"White Onion\",\"text\":\"\",\"type\":\"scatter\",\"x\":[-0.6931471805599453,-0.5108256237659907,-0.35667494393873245,-0.2231435513142097,-0.10536051565782628,0.0,0.09531017980432493,0.1823215567939546,0.26236426446749106,0.3364722366212129,0.4054651081081644],\"y\":[-1.7649565158294229e-09,-1.6641517067119997e-09,-1.5398250464347185e-09,-1.2081575747140033e-09,-7.119146386050407e-10,0.0,1.0558711677187803e-09,2.441062682341678e-09,4.148299473094619e-09,6.135485434207241e-09,8.326084231823784e-09]},{\"line\":{\"color\":\"rgba(255, 255, 51, 0.7)\",\"dash\":\"solid\",\"shape\":\"linear\",\"width\":1.3},\"mode\":\"lines\",\"name\":\"Cauliflower\",\"text\":\"\",\"type\":\"scatter\",\"x\":[-0.6931471805599453,-0.5108256237659907,-0.35667494393873245,-0.2231435513142097,-0.10536051565782628,0.0,0.09531017980432493,0.1823215567939546,0.26236426446749106,0.3364722366212129,0.4054651081081644],\"y\":[-0.051318254073703114,-0.040801730852096235,-0.030394623518665075,-0.020143906349642516,-0.010021305054564058,0.0,0.00992202313448018,0.019625671811746268,0.027415703559313824,0.033830635314966065,0.03592328913700524]},{\"line\":{\"color\":\"rgba(255, 255, 51, 0.5999999999999999)\",\"dash\":\"solid\",\"shape\":\"linear\",\"width\":1.3},\"mode\":\"lines\",\"name\":\"Broccoli\",\"text\":\"\",\"type\":\"scatter\",\"x\":[-0.6931471805599453,-0.5108256237659907,-0.35667494393873245,-0.2231435513142097,-0.10536051565782628,0.0,0.09531017980432493,0.1823215567939546,0.26236426446749106,0.3364722366212129,0.4054651081081644],\"y\":[-1.6219396949787653e-09,8.087327746866983e-08,-1.3801071406336338e-09,1.3326333725438618e-08,-1.8068446755118256e-09,0.0,4.424508240189367e-07,-1.708717724330148e-09,-1.6828214391699447e-09,-1.827063946250734e-09,-1.7944147295280432e-09]},{\"line\":{\"color\":\"rgba(128, 128, 0, 0.5999999999999999)\",\"dash\":\"solid\",\"shape\":\"linear\",\"width\":1.3},\"mode\":\"lines\",\"name\":\"Carrots\",\"text\":\"\",\"type\":\"scatter\",\"x\":[-0.6931471805599453,-0.5108256237659907,-0.35667494393873245,-0.2231435513142097,-0.10536051565782628,0.0,0.09531017980432493,0.1823215567939546,0.26236426446749106,0.3364722366212129,0.4054651081081644],\"y\":[-1.7981860461271668e-09,-1.822286323500147e-09,-1.7609274054436525e-09,-1.6423793449846851e-09,-1.1381181559226374e-09,0.0,2.657264627026183e-09,7.859930897444113e-09,1.6844784092264556e-08,3.263510297595766e-08,5.714565035540915e-08]},{\"line\":{\"color\":\"rgba(251, 128, 114, 0.5999999999999999)\",\"dash\":\"solid\",\"shape\":\"linear\",\"width\":1.3},\"mode\":\"lines\",\"name\":\"Sweet Potatoes\",\"text\":\"\",\"type\":\"scatter\",\"x\":[-0.6931471805599453,-0.5108256237659907,-0.35667494393873245,-0.2231435513142097,-0.10536051565782628,0.0,0.09531017980432493,0.1823215567939546,0.26236426446749106,0.3364722366212129,0.4054651081081644],\"y\":[-1.7910319909882485e-09,-1.6838319641686596e-09,-1.510108927934588e-09,-1.1182559329227776e-09,-5.990681286167936e-10,0.0,6.619387258351638e-10,1.223996236949005e-09,1.4487555589134868e-09,1.545059412549784e-09,1.5342567204922086e-09]},{\"line\":{\"color\":\"rgba(128, 177, 211, 0.5999999999999999)\",\"dash\":\"solid\",\"shape\":\"linear\",\"width\":1.3},\"mode\":\"lines\",\"name\":\"Romaine Lettuce\",\"text\":\"\",\"type\":\"scatter\",\"x\":[-0.6931471805599453,-0.5108256237659907,-0.35667494393873245,-0.2231435513142097,-0.10536051565782628,0.0,0.09531017980432493,0.1823215567939546,0.26236426446749106,0.3364722366212129,0.4054651081081644],\"y\":[-0.1533519982747335,-0.1187987101664236,-0.0863926871377328,-0.055564785994574276,-0.026814019245386376,0.0,0.021280597933211392,0.03710367777316372,0.0524006379502182,0.06007326063470276,0.06594714277525138]},{\"line\":{\"color\":\"rgba(255, 153, 51, 0.5999999999999999)\",\"dash\":\"solid\",\"shape\":\"linear\",\"width\":1.3},\"mode\":\"lines\",\"name\":\"Spinach\",\"text\":\"\",\"type\":\"scatter\",\"x\":[-0.6931471805599453,-0.5108256237659907,-0.35667494393873245,-0.2231435513142097,-0.10536051565782628,0.0,0.09531017980432493,0.1823215567939546,0.26236426446749106,0.3364722366212129,0.4054651081081644],\"y\":[-1.8014030283691105e-09,-1.8308030663822079e-09,1.9077863001424225e-07,5.758556043851421e-08,1.1216027377242193e-08,0.0,-1.6404240201905058e-09,-1.8062187317694112e-09,4.951123082635488e-07,-1.7936310230935543e-09,-1.728108546644665e-09]},{\"line\":{\"color\":\"rgba(55, 128, 191, 0.5999999999999999)\",\"dash\":\"solid\",\"shape\":\"linear\",\"width\":1.3},\"mode\":\"lines\",\"name\":\"English Cucumber\",\"text\":\"\",\"type\":\"scatter\",\"x\":[-0.6931471805599453,-0.5108256237659907,-0.35667494393873245,-0.2231435513142097,-0.10536051565782628,0.0,0.09531017980432493,0.1823215567939546,0.26236426446749106,0.3364722366212129,0.4054651081081644],\"y\":[0.0,0.0,0.0,0.0,0.0,0.0,0.0,0.0,0.0,0.0,0.0]},{\"line\":{\"color\":\"rgba(50, 171, 96, 0.5999999999999999)\",\"dash\":\"solid\",\"shape\":\"linear\",\"width\":1.3},\"mode\":\"lines\",\"name\":\"Cremini Mushrooms\",\"text\":\"\",\"type\":\"scatter\",\"x\":[-0.6931471805599453,-0.5108256237659907,-0.35667494393873245,-0.2231435513142097,-0.10536051565782628,0.0,0.09531017980432493,0.1823215567939546,0.26236426446749106,0.3364722366212129,0.4054651081081644],\"y\":[-1.7060356475426793e-09,3.078048966055978e-07,1.51912079538676e-08,9.20560601284655e-09,-1.813639795546345e-09,0.0,-1.381307402747213e-09,8.543981074540673e-10,-1.0196290483801703e-09,5.979369426143792e-09,4.98468973664064e-08]},{\"line\":{\"color\":\"rgba(128, 0, 128, 0.5999999999999999)\",\"dash\":\"solid\",\"shape\":\"linear\",\"width\":1.3},\"mode\":\"lines\",\"name\":\"Jalepenos\",\"text\":\"\",\"type\":\"scatter\",\"x\":[-0.6931471805599453,-0.5108256237659907,-0.35667494393873245,-0.2231435513142097,-0.10536051565782628,0.0,0.09531017980432493,0.1823215567939546,0.26236426446749106,0.3364722366212129,0.4054651081081644],\"y\":[-0.010678357726854406,-0.0052095404941434565,-0.0021477912507888303,-0.0001223288711702931,2.1167345874110484e-08,0.0,-1.6003710591777145e-09,-1.8247157135270617e-09,1.967314077973082e-07,2.9325055192030113e-07,4.686864706013418e-07]},{\"line\":{\"color\":\"rgba(219, 64, 82, 0.5999999999999999)\",\"dash\":\"solid\",\"shape\":\"linear\",\"width\":1.3},\"mode\":\"lines\",\"name\":\"Olive Oil\",\"text\":\"\",\"type\":\"scatter\",\"x\":[-0.6931471805599453,-0.5108256237659907,-0.35667494393873245,-0.2231435513142097,-0.10536051565782628,0.0,0.09531017980432493,0.1823215567939546,0.26236426446749106,0.3364722366212129,0.4054651081081644],\"y\":[-8.148199895907739e-10,-1.5473304871596772e-09,-1.5546934862704113e-09,-1.3366497917440022e-09,-8.58343174683145e-10,0.0,1.4395031822842274e-09,3.3252409659348585e-09,5.004362467443785e-09,6.4693348246784885e-09,7.47339676237707e-09]},{\"line\":{\"color\":\"rgba(0, 128, 128, 0.5999999999999999)\",\"dash\":\"solid\",\"shape\":\"linear\",\"width\":1.3},\"mode\":\"lines\",\"name\":\"Vegetable Oil\",\"text\":\"\",\"type\":\"scatter\",\"x\":[-0.6931471805599453,-0.5108256237659907,-0.35667494393873245,-0.2231435513142097,-0.10536051565782628,0.0,0.09531017980432493,0.1823215567939546,0.26236426446749106,0.3364722366212129,0.4054651081081644],\"y\":[-0.003971728544572942,-0.0026728261719731225,-0.001375608825982549,-0.00017888266271243205,-1.0322848137177643e-09,0.0,-1.740092627060158e-09,-1.7499474107331376e-09,-1.7498880138012161e-09,-1.7463025485369214e-09,-1.7432306724447264e-09]},{\"line\":{\"color\":\"rgba(0, 128, 128, 0.49999999999999983)\",\"dash\":\"solid\",\"shape\":\"linear\",\"width\":1.3},\"mode\":\"lines\",\"name\":\"Salt\",\"text\":\"\",\"type\":\"scatter\",\"x\":[-0.6931471805599453,-0.5108256237659907,-0.35667494393873245,-0.2231435513142097,-0.10536051565782628,0.0,0.09531017980432493,0.1823215567939546,0.26236426446749106,0.3364722366212129,0.4054651081081644],\"y\":[5.621803021523433e-10,3.376505741100104e-10,-1.324805377390027e-09,-1.035502573113362e-09,2.8977931123755186e-09,0.0,3.348402121201029e-07,9.320810644129442e-08,-7.620425404714393e-10,-1.4765849664998513e-09,6.1087650307033585e-09]},{\"line\":{\"color\":\"rgba(255, 255, 51, 0.49999999999999983)\",\"dash\":\"solid\",\"shape\":\"linear\",\"width\":1.3},\"mode\":\"lines\",\"name\":\"Tomato Sauce\",\"text\":\"\",\"type\":\"scatter\",\"x\":[-0.6931471805599453,-0.5108256237659907,-0.35667494393873245,-0.2231435513142097,-0.10536051565782628,0.0,0.09531017980432493,0.1823215567939546,0.26236426446749106,0.3364722366212129,0.4054651081081644],\"y\":[-9.810722239416955e-10,-9.615351852691804e-10,1.743160042037341e-07,-1.7763321940267819e-09,2.2555516311227623e-08,0.0,-1.5715072588931286e-09,-1.6304481111864216e-09,-1.598319033958018e-09,-9.15857501368755e-10,4.002162815360195e-09]},{\"line\":{\"color\":\"rgba(128, 128, 0, 0.49999999999999983)\",\"dash\":\"solid\",\"shape\":\"linear\",\"width\":1.3},\"mode\":\"lines\",\"name\":\"Sugar\",\"text\":\"\",\"type\":\"scatter\",\"x\":[-0.6931471805599453,-0.5108256237659907,-0.35667494393873245,-0.2231435513142097,-0.10536051565782628,0.0,0.09531017980432493,0.1823215567939546,0.26236426446749106,0.3364722366212129,0.4054651081081644],\"y\":[1.226630352094003e-09,-6.186342551254903e-10,-8.909355479563625e-10,-7.949234607058475e-10,-4.91805374324061e-10,0.0,7.380023256450404e-10,1.6923182840746737e-09,2.838097530735652e-09,4.127875144284318e-09,5.430123003159015e-09]},{\"line\":{\"color\":\"rgba(251, 128, 114, 0.49999999999999983)\",\"dash\":\"solid\",\"shape\":\"linear\",\"width\":1.3},\"mode\":\"lines\",\"name\":\"Honey\",\"text\":\"\",\"type\":\"scatter\",\"x\":[-0.6931471805599453,-0.5108256237659907,-0.35667494393873245,-0.2231435513142097,-0.10536051565782628,0.0,0.09531017980432493,0.1823215567939546,0.26236426446749106,0.3364722366212129,0.4054651081081644],\"y\":[3.9369142789944074e-07,2.964274559449475e-07,4.7367373123321214e-08,8.286793661353269e-09,1.6956158684968294e-09,0.0,-5.992226716619139e-10,-1.0503102837420456e-09,-1.301108222009802e-09,-1.4566743377693247e-09,-1.5619905381334339e-09]},{\"line\":{\"color\":\"rgba(128, 177, 211, 0.49999999999999983)\",\"dash\":\"solid\",\"shape\":\"linear\",\"width\":1.3},\"mode\":\"lines\",\"name\":\"Bread (whole wheat)\",\"text\":\"\",\"type\":\"scatter\",\"x\":[-0.6931471805599453,-0.5108256237659907,-0.35667494393873245,-0.2231435513142097,-0.10536051565782628,0.0,0.09531017980432493,0.1823215567939546,0.26236426446749106,0.3364722366212129,0.4054651081081644],\"y\":[0.0,0.0,0.0,0.0,0.0,0.0,0.0,0.0,0.0,0.0,0.0]}],                        {\"legend\":{\"bgcolor\":\"#F5F6F9\",\"font\":{\"color\":\"#4D5663\"}},\"paper_bgcolor\":\"#F5F6F9\",\"plot_bgcolor\":\"#F5F6F9\",\"template\":{\"data\":{\"bar\":[{\"error_x\":{\"color\":\"#2a3f5f\"},\"error_y\":{\"color\":\"#2a3f5f\"},\"marker\":{\"line\":{\"color\":\"#E5ECF6\",\"width\":0.5},\"pattern\":{\"fillmode\":\"overlay\",\"size\":10,\"solidity\":0.2}},\"type\":\"bar\"}],\"barpolar\":[{\"marker\":{\"line\":{\"color\":\"#E5ECF6\",\"width\":0.5},\"pattern\":{\"fillmode\":\"overlay\",\"size\":10,\"solidity\":0.2}},\"type\":\"barpolar\"}],\"carpet\":[{\"aaxis\":{\"endlinecolor\":\"#2a3f5f\",\"gridcolor\":\"white\",\"linecolor\":\"white\",\"minorgridcolor\":\"white\",\"startlinecolor\":\"#2a3f5f\"},\"baxis\":{\"endlinecolor\":\"#2a3f5f\",\"gridcolor\":\"white\",\"linecolor\":\"white\",\"minorgridcolor\":\"white\",\"startlinecolor\":\"#2a3f5f\"},\"type\":\"carpet\"}],\"choropleth\":[{\"colorbar\":{\"outlinewidth\":0,\"ticks\":\"\"},\"type\":\"choropleth\"}],\"contour\":[{\"colorbar\":{\"outlinewidth\":0,\"ticks\":\"\"},\"colorscale\":[[0.0,\"#0d0887\"],[0.1111111111111111,\"#46039f\"],[0.2222222222222222,\"#7201a8\"],[0.3333333333333333,\"#9c179e\"],[0.4444444444444444,\"#bd3786\"],[0.5555555555555556,\"#d8576b\"],[0.6666666666666666,\"#ed7953\"],[0.7777777777777778,\"#fb9f3a\"],[0.8888888888888888,\"#fdca26\"],[1.0,\"#f0f921\"]],\"type\":\"contour\"}],\"contourcarpet\":[{\"colorbar\":{\"outlinewidth\":0,\"ticks\":\"\"},\"type\":\"contourcarpet\"}],\"heatmap\":[{\"colorbar\":{\"outlinewidth\":0,\"ticks\":\"\"},\"colorscale\":[[0.0,\"#0d0887\"],[0.1111111111111111,\"#46039f\"],[0.2222222222222222,\"#7201a8\"],[0.3333333333333333,\"#9c179e\"],[0.4444444444444444,\"#bd3786\"],[0.5555555555555556,\"#d8576b\"],[0.6666666666666666,\"#ed7953\"],[0.7777777777777778,\"#fb9f3a\"],[0.8888888888888888,\"#fdca26\"],[1.0,\"#f0f921\"]],\"type\":\"heatmap\"}],\"heatmapgl\":[{\"colorbar\":{\"outlinewidth\":0,\"ticks\":\"\"},\"colorscale\":[[0.0,\"#0d0887\"],[0.1111111111111111,\"#46039f\"],[0.2222222222222222,\"#7201a8\"],[0.3333333333333333,\"#9c179e\"],[0.4444444444444444,\"#bd3786\"],[0.5555555555555556,\"#d8576b\"],[0.6666666666666666,\"#ed7953\"],[0.7777777777777778,\"#fb9f3a\"],[0.8888888888888888,\"#fdca26\"],[1.0,\"#f0f921\"]],\"type\":\"heatmapgl\"}],\"histogram\":[{\"marker\":{\"pattern\":{\"fillmode\":\"overlay\",\"size\":10,\"solidity\":0.2}},\"type\":\"histogram\"}],\"histogram2d\":[{\"colorbar\":{\"outlinewidth\":0,\"ticks\":\"\"},\"colorscale\":[[0.0,\"#0d0887\"],[0.1111111111111111,\"#46039f\"],[0.2222222222222222,\"#7201a8\"],[0.3333333333333333,\"#9c179e\"],[0.4444444444444444,\"#bd3786\"],[0.5555555555555556,\"#d8576b\"],[0.6666666666666666,\"#ed7953\"],[0.7777777777777778,\"#fb9f3a\"],[0.8888888888888888,\"#fdca26\"],[1.0,\"#f0f921\"]],\"type\":\"histogram2d\"}],\"histogram2dcontour\":[{\"colorbar\":{\"outlinewidth\":0,\"ticks\":\"\"},\"colorscale\":[[0.0,\"#0d0887\"],[0.1111111111111111,\"#46039f\"],[0.2222222222222222,\"#7201a8\"],[0.3333333333333333,\"#9c179e\"],[0.4444444444444444,\"#bd3786\"],[0.5555555555555556,\"#d8576b\"],[0.6666666666666666,\"#ed7953\"],[0.7777777777777778,\"#fb9f3a\"],[0.8888888888888888,\"#fdca26\"],[1.0,\"#f0f921\"]],\"type\":\"histogram2dcontour\"}],\"mesh3d\":[{\"colorbar\":{\"outlinewidth\":0,\"ticks\":\"\"},\"type\":\"mesh3d\"}],\"parcoords\":[{\"line\":{\"colorbar\":{\"outlinewidth\":0,\"ticks\":\"\"}},\"type\":\"parcoords\"}],\"pie\":[{\"automargin\":true,\"type\":\"pie\"}],\"scatter\":[{\"marker\":{\"colorbar\":{\"outlinewidth\":0,\"ticks\":\"\"}},\"type\":\"scatter\"}],\"scatter3d\":[{\"line\":{\"colorbar\":{\"outlinewidth\":0,\"ticks\":\"\"}},\"marker\":{\"colorbar\":{\"outlinewidth\":0,\"ticks\":\"\"}},\"type\":\"scatter3d\"}],\"scattercarpet\":[{\"marker\":{\"colorbar\":{\"outlinewidth\":0,\"ticks\":\"\"}},\"type\":\"scattercarpet\"}],\"scattergeo\":[{\"marker\":{\"colorbar\":{\"outlinewidth\":0,\"ticks\":\"\"}},\"type\":\"scattergeo\"}],\"scattergl\":[{\"marker\":{\"colorbar\":{\"outlinewidth\":0,\"ticks\":\"\"}},\"type\":\"scattergl\"}],\"scattermapbox\":[{\"marker\":{\"colorbar\":{\"outlinewidth\":0,\"ticks\":\"\"}},\"type\":\"scattermapbox\"}],\"scatterpolar\":[{\"marker\":{\"colorbar\":{\"outlinewidth\":0,\"ticks\":\"\"}},\"type\":\"scatterpolar\"}],\"scatterpolargl\":[{\"marker\":{\"colorbar\":{\"outlinewidth\":0,\"ticks\":\"\"}},\"type\":\"scatterpolargl\"}],\"scatterternary\":[{\"marker\":{\"colorbar\":{\"outlinewidth\":0,\"ticks\":\"\"}},\"type\":\"scatterternary\"}],\"surface\":[{\"colorbar\":{\"outlinewidth\":0,\"ticks\":\"\"},\"colorscale\":[[0.0,\"#0d0887\"],[0.1111111111111111,\"#46039f\"],[0.2222222222222222,\"#7201a8\"],[0.3333333333333333,\"#9c179e\"],[0.4444444444444444,\"#bd3786\"],[0.5555555555555556,\"#d8576b\"],[0.6666666666666666,\"#ed7953\"],[0.7777777777777778,\"#fb9f3a\"],[0.8888888888888888,\"#fdca26\"],[1.0,\"#f0f921\"]],\"type\":\"surface\"}],\"table\":[{\"cells\":{\"fill\":{\"color\":\"#EBF0F8\"},\"line\":{\"color\":\"white\"}},\"header\":{\"fill\":{\"color\":\"#C8D4E3\"},\"line\":{\"color\":\"white\"}},\"type\":\"table\"}]},\"layout\":{\"annotationdefaults\":{\"arrowcolor\":\"#2a3f5f\",\"arrowhead\":0,\"arrowwidth\":1},\"autotypenumbers\":\"strict\",\"coloraxis\":{\"colorbar\":{\"outlinewidth\":0,\"ticks\":\"\"}},\"colorscale\":{\"diverging\":[[0,\"#8e0152\"],[0.1,\"#c51b7d\"],[0.2,\"#de77ae\"],[0.3,\"#f1b6da\"],[0.4,\"#fde0ef\"],[0.5,\"#f7f7f7\"],[0.6,\"#e6f5d0\"],[0.7,\"#b8e186\"],[0.8,\"#7fbc41\"],[0.9,\"#4d9221\"],[1,\"#276419\"]],\"sequential\":[[0.0,\"#0d0887\"],[0.1111111111111111,\"#46039f\"],[0.2222222222222222,\"#7201a8\"],[0.3333333333333333,\"#9c179e\"],[0.4444444444444444,\"#bd3786\"],[0.5555555555555556,\"#d8576b\"],[0.6666666666666666,\"#ed7953\"],[0.7777777777777778,\"#fb9f3a\"],[0.8888888888888888,\"#fdca26\"],[1.0,\"#f0f921\"]],\"sequentialminus\":[[0.0,\"#0d0887\"],[0.1111111111111111,\"#46039f\"],[0.2222222222222222,\"#7201a8\"],[0.3333333333333333,\"#9c179e\"],[0.4444444444444444,\"#bd3786\"],[0.5555555555555556,\"#d8576b\"],[0.6666666666666666,\"#ed7953\"],[0.7777777777777778,\"#fb9f3a\"],[0.8888888888888888,\"#fdca26\"],[1.0,\"#f0f921\"]]},\"colorway\":[\"#636efa\",\"#EF553B\",\"#00cc96\",\"#ab63fa\",\"#FFA15A\",\"#19d3f3\",\"#FF6692\",\"#B6E880\",\"#FF97FF\",\"#FECB52\"],\"font\":{\"color\":\"#2a3f5f\"},\"geo\":{\"bgcolor\":\"white\",\"lakecolor\":\"white\",\"landcolor\":\"#E5ECF6\",\"showlakes\":true,\"showland\":true,\"subunitcolor\":\"white\"},\"hoverlabel\":{\"align\":\"left\"},\"hovermode\":\"closest\",\"mapbox\":{\"style\":\"light\"},\"paper_bgcolor\":\"white\",\"plot_bgcolor\":\"#E5ECF6\",\"polar\":{\"angularaxis\":{\"gridcolor\":\"white\",\"linecolor\":\"white\",\"ticks\":\"\"},\"bgcolor\":\"#E5ECF6\",\"radialaxis\":{\"gridcolor\":\"white\",\"linecolor\":\"white\",\"ticks\":\"\"}},\"scene\":{\"xaxis\":{\"backgroundcolor\":\"#E5ECF6\",\"gridcolor\":\"white\",\"gridwidth\":2,\"linecolor\":\"white\",\"showbackground\":true,\"ticks\":\"\",\"zerolinecolor\":\"white\"},\"yaxis\":{\"backgroundcolor\":\"#E5ECF6\",\"gridcolor\":\"white\",\"gridwidth\":2,\"linecolor\":\"white\",\"showbackground\":true,\"ticks\":\"\",\"zerolinecolor\":\"white\"},\"zaxis\":{\"backgroundcolor\":\"#E5ECF6\",\"gridcolor\":\"white\",\"gridwidth\":2,\"linecolor\":\"white\",\"showbackground\":true,\"ticks\":\"\",\"zerolinecolor\":\"white\"}},\"shapedefaults\":{\"line\":{\"color\":\"#2a3f5f\"}},\"ternary\":{\"aaxis\":{\"gridcolor\":\"white\",\"linecolor\":\"white\",\"ticks\":\"\"},\"baxis\":{\"gridcolor\":\"white\",\"linecolor\":\"white\",\"ticks\":\"\"},\"bgcolor\":\"#E5ECF6\",\"caxis\":{\"gridcolor\":\"white\",\"linecolor\":\"white\",\"ticks\":\"\"}},\"title\":{\"x\":0.05},\"xaxis\":{\"automargin\":true,\"gridcolor\":\"white\",\"linecolor\":\"white\",\"ticks\":\"\",\"title\":{\"standoff\":15},\"zerolinecolor\":\"white\",\"zerolinewidth\":2},\"yaxis\":{\"automargin\":true,\"gridcolor\":\"white\",\"linecolor\":\"white\",\"ticks\":\"\",\"title\":{\"standoff\":15},\"zerolinecolor\":\"white\",\"zerolinewidth\":2}}},\"title\":{\"font\":{\"color\":\"#4D5663\"}},\"xaxis\":{\"gridcolor\":\"#E1E5ED\",\"showgrid\":true,\"tickfont\":{\"color\":\"#4D5663\"},\"title\":{\"font\":{\"color\":\"#4D5663\"},\"text\":\"change in log price\"},\"zerolinecolor\":\"#E1E5ED\"},\"yaxis\":{\"gridcolor\":\"#E1E5ED\",\"showgrid\":true,\"tickfont\":{\"color\":\"#4D5663\"},\"title\":{\"font\":{\"color\":\"#4D5663\"},\"text\":\"change in log cost\"},\"zerolinecolor\":\"#E1E5ED\"}},                        {\"showLink\": true, \"linkText\": \"Export to plot.ly\", \"plotlyServerURL\": \"https://plot.ly\", \"responsive\": true}                    ).then(function(){\n",
       "                            \n",
       "var gd = document.getElementById('75e80487-0b9c-4f3d-be6e-4b721809314c');\n",
       "var x = new MutationObserver(function (mutations, observer) {{\n",
       "        var display = window.getComputedStyle(gd).display;\n",
       "        if (!display || display === 'none') {{\n",
       "            console.log([gd, 'removed!']);\n",
       "            Plotly.purge(gd);\n",
       "            observer.disconnect();\n",
       "        }}\n",
       "}});\n",
       "\n",
       "// Listen for the removal of the full notebook cells\n",
       "var notebookContainer = gd.closest('#notebook-container');\n",
       "if (notebookContainer) {{\n",
       "    x.observe(notebookContainer, {childList: true});\n",
       "}}\n",
       "\n",
       "// Listen for the clearing of the current output cell\n",
       "var outputEl = gd.closest('.output');\n",
       "if (outputEl) {{\n",
       "    x.observe(outputEl, {childList: true});\n",
       "}}\n",
       "\n",
       "                        })                };                });            </script>        </div>"
      ]
     },
     "metadata": {},
     "output_type": "display_data"
    }
   ],
   "source": [
    "#trader joes\n",
    "\n",
    "scale = [.5,.6,.7,.8,.9,1.,1.1,1.2,1.3,1.4,1.5]\n",
    "\n",
    "cost0 = solve_subsistence_problem(FoodNutrients,prices_tj,diet_min[group],diet_max[group],tol=tol).fun\n",
    "\n",
    "Price_response={}\n",
    "for s in scale:\n",
    "    cost = {}\n",
    "    for i,p in enumerate(prices_tj):\n",
    "        my_p = prices_tj.copy()\n",
    "        my_p[i] = p*s\n",
    "        result = solve_subsistence_problem(FoodNutrients,my_p,diet_min[group],diet_max[group],tol=tol)\n",
    "        cost[prices_tj.index[i]] = np.log(result.fun/cost0)\n",
    "    Price_response[np.log(s)] = cost\n",
    "\n",
    "Price_response = pd.DataFrame(Price_response).T\n",
    "Price_response.iplot(xTitle='change in log price',yTitle='change in log cost')"
   ]
  },
  {
   "cell_type": "markdown",
   "id": "84ff8eb6",
   "metadata": {},
   "source": [
    "### Whole Foods\n",
    "We find that at Whole Foods, Almond milk is the most sensitive to price changes across the board, while bananas and peanut butter are specifically sensitive to decreases, and sliced turkey and chickpeas are more sensitive to price increases."
   ]
  },
  {
   "cell_type": "code",
   "execution_count": 68,
   "id": "255197ad",
   "metadata": {},
   "outputs": [
    {
     "data": {
      "application/vnd.plotly.v1+json": {
       "config": {
        "linkText": "Export to plot.ly",
        "plotlyServerURL": "https://plot.ly",
        "showLink": true
       },
       "data": [
        {
         "line": {
          "color": "rgba(255, 153, 51, 1.0)",
          "dash": "solid",
          "shape": "linear",
          "width": 1.3
         },
         "mode": "lines",
         "name": "Chicken breast",
         "text": "",
         "type": "scatter",
         "x": [
          -0.6931471805599453,
          -0.5108256237659907,
          -0.35667494393873245,
          -0.2231435513142097,
          -0.10536051565782628,
          0,
          0.09531017980432493,
          0.1823215567939546,
          0.26236426446749106,
          0.3364722366212129,
          0.4054651081081644
         ],
         "y": [
          -3.402207819128045e-07,
          -3.4031509472470425e-07,
          -3.4031567659278945e-07,
          3.932958992189451e-08,
          -1.3106243572202447e-07,
          0,
          -3.4031202917584537e-07,
          -3.402955675603904e-07,
          -3.402835342930209e-07,
          -3.402771173127773e-07,
          -3.402758839655996e-07
         ]
        },
        {
         "line": {
          "color": "rgba(55, 128, 191, 1.0)",
          "dash": "solid",
          "shape": "linear",
          "width": 1.3
         },
         "mode": "lines",
         "name": "Chicken thigh",
         "text": "",
         "type": "scatter",
         "x": [
          -0.6931471805599453,
          -0.5108256237659907,
          -0.35667494393873245,
          -0.2231435513142097,
          -0.10536051565782628,
          0,
          0.09531017980432493,
          0.1823215567939546,
          0.26236426446749106,
          0.3364722366212129,
          0.4054651081081644
         ],
         "y": [
          -3.4031103363852043e-07,
          -3.4031602864463036e-07,
          5.314561693834131e-08,
          -7.361925895661286e-08,
          -3.6279784723951584e-08,
          0,
          8.836302254742036e-08,
          -3.4031165713998324e-07,
          -3.4030352786218587e-07,
          -3.4029708701213895e-07,
          -3.402929237854022e-07
         ]
        },
        {
         "line": {
          "color": "rgba(50, 171, 96, 1.0)",
          "dash": "solid",
          "shape": "linear",
          "width": 1.3
         },
         "mode": "lines",
         "name": "Ground Beef",
         "text": "",
         "type": "scatter",
         "x": [
          -0.6931471805599453,
          -0.5108256237659907,
          -0.35667494393873245,
          -0.2231435513142097,
          -0.10536051565782628,
          0,
          0.09531017980432493,
          0.1823215567939546,
          0.26236426446749106,
          0.3364722366212129,
          0.4054651081081644
         ],
         "y": [
          -3.4017979501830456e-07,
          -3.4029735801767154e-07,
          -3.403047056981935e-07,
          -3.403180009565048e-07,
          -1.0389833256138532e-07,
          0,
          -3.403140876410559e-07,
          -3.403018009096834e-07,
          -3.4029493839678825e-07,
          -3.4029356360714903e-07,
          -3.4029677759287675e-07
         ]
        },
        {
         "line": {
          "color": "rgba(128, 0, 128, 1.0)",
          "dash": "solid",
          "shape": "linear",
          "width": 1.3
         },
         "mode": "lines",
         "name": "Eggs",
         "text": "",
         "type": "scatter",
         "x": [
          -0.6931471805599453,
          -0.5108256237659907,
          -0.35667494393873245,
          -0.2231435513142097,
          -0.10536051565782628,
          0,
          0.09531017980432493,
          0.1823215567939546,
          0.26236426446749106,
          0.3364722366212129,
          0.4054651081081644
         ],
         "y": [
          1.3097546611081305e-07,
          3.541395847148825e-08,
          -5.799456894131879e-08,
          -7.295784798211067e-08,
          -2.403730809976075e-08,
          0,
          4.8784845860972704e-08,
          -3.4031530588919537e-07,
          -3.4030808000018056e-07,
          -3.403012843227342e-07,
          -3.402950596331838e-07
         ]
        },
        {
         "line": {
          "color": "rgba(219, 64, 82, 1.0)",
          "dash": "solid",
          "shape": "linear",
          "width": 1.3
         },
         "mode": "lines",
         "name": "Peanut Butter",
         "text": "",
         "type": "scatter",
         "x": [
          -0.6931471805599453,
          -0.5108256237659907,
          -0.35667494393873245,
          -0.2231435513142097,
          -0.10536051565782628,
          0,
          0.09531017980432493,
          0.1823215567939546,
          0.26236426446749106,
          0.3364722366212129,
          0.4054651081081644
         ],
         "y": [
          -0.12768679185631562,
          -0.08598819559385038,
          -0.04595968163220897,
          -0.024627883250974033,
          -0.01184812798446169,
          0,
          0.007275985346142792,
          0.008620968013530213,
          0.009964161685865995,
          0.010950428095933044,
          0.011259040346799394
         ]
        },
        {
         "line": {
          "color": "rgba(0, 128, 128, 1.0)",
          "dash": "solid",
          "shape": "linear",
          "width": 1.3
         },
         "mode": "lines",
         "name": "Chickpeas",
         "text": "",
         "type": "scatter",
         "x": [
          -0.6931471805599453,
          -0.5108256237659907,
          -0.35667494393873245,
          -0.2231435513142097,
          -0.10536051565782628,
          0,
          0.09531017980432493,
          0.1823215567939546,
          0.26236426446749106,
          0.3364722366212129,
          0.4054651081081644
         ],
         "y": [
          -0.08749484918899876,
          -0.06777399339756456,
          -0.04843608612280144,
          -0.030212303498840295,
          -0.014000152180038403,
          0,
          0.012693447619330604,
          0.024895720565282917,
          0.036950881456800796,
          0.037786618726878586,
          0.03778699711013295
         ]
        },
        {
         "line": {
          "color": "rgba(255, 255, 51, 1.0)",
          "dash": "solid",
          "shape": "linear",
          "width": 1.3
         },
         "mode": "lines",
         "name": "Tofu",
         "text": "",
         "type": "scatter",
         "x": [
          -0.6931471805599453,
          -0.5108256237659907,
          -0.35667494393873245,
          -0.2231435513142097,
          -0.10536051565782628,
          0,
          0.09531017980432493,
          0.1823215567939546,
          0.26236426446749106,
          0.3364722366212129,
          0.4054651081081644
         ],
         "y": [
          -1.417126745332736e-07,
          -9.860920055970562e-08,
          -6.244427958721842e-08,
          -3.4140798438261255e-08,
          -1.3585489825463845e-08,
          0,
          7.744780786674483e-09,
          2.2230448790056338e-08,
          7.708048257918475e-08,
          -3.4031869651146645e-07,
          -3.4031640934023505e-07
         ]
        },
        {
         "line": {
          "color": "rgba(128, 128, 0, 1.0)",
          "dash": "solid",
          "shape": "linear",
          "width": 1.3
         },
         "mode": "lines",
         "name": "Pork Loin",
         "text": "",
         "type": "scatter",
         "x": [
          -0.6931471805599453,
          -0.5108256237659907,
          -0.35667494393873245,
          -0.2231435513142097,
          -0.10536051565782628,
          0,
          0.09531017980432493,
          0.1823215567939546,
          0.26236426446749106,
          0.3364722366212129,
          0.4054651081081644
         ],
         "y": [
          0,
          0,
          0,
          0,
          0,
          0,
          0,
          0,
          0,
          0,
          0
         ]
        },
        {
         "line": {
          "color": "rgba(251, 128, 114, 1.0)",
          "dash": "solid",
          "shape": "linear",
          "width": 1.3
         },
         "mode": "lines",
         "name": "Ground Pork",
         "text": "",
         "type": "scatter",
         "x": [
          -0.6931471805599453,
          -0.5108256237659907,
          -0.35667494393873245,
          -0.2231435513142097,
          -0.10536051565782628,
          0,
          0.09531017980432493,
          0.1823215567939546,
          0.26236426446749106,
          0.3364722366212129,
          0.4054651081081644
         ],
         "y": [
          -3.397027759872965e-07,
          -3.402164872356172e-07,
          -3.4026452127316537e-07,
          -3.402997714213037e-07,
          -1.9260725089367853e-08,
          0,
          -3.403161744169631e-07,
          -3.403095192937995e-07,
          -3.403094798808687e-07,
          -3.403135531795099e-07,
          -3.403195338419566e-07
         ]
        },
        {
         "line": {
          "color": "rgba(128, 177, 211, 1.0)",
          "dash": "solid",
          "shape": "linear",
          "width": 1.3
         },
         "mode": "lines",
         "name": "Ground Turkey",
         "text": "",
         "type": "scatter",
         "x": [
          -0.6931471805599453,
          -0.5108256237659907,
          -0.35667494393873245,
          -0.2231435513142097,
          -0.10536051565782628,
          0,
          0.09531017980432493,
          0.1823215567939546,
          0.26236426446749106,
          0.3364722366212129,
          0.4054651081081644
         ],
         "y": [
          -3.4026555089434876e-07,
          -3.402759731165388e-07,
          -3.4029381973568795e-07,
          -3.4031422974965137e-07,
          -8.949147446069953e-08,
          0,
          -3.4031594515583053e-07,
          -3.4030551160936136e-07,
          -3.40299850802277e-07,
          -3.4029886359162753e-07,
          -3.4030156099040613e-07
         ]
        },
        {
         "line": {
          "color": "rgba(128, 177, 211, 0.8999999999999999)",
          "dash": "solid",
          "shape": "linear",
          "width": 1.3
         },
         "mode": "lines",
         "name": "Black Beans",
         "text": "",
         "type": "scatter",
         "x": [
          -0.6931471805599453,
          -0.5108256237659907,
          -0.35667494393873245,
          -0.2231435513142097,
          -0.10536051565782628,
          0,
          0.09531017980432493,
          0.1823215567939546,
          0.26236426446749106,
          0.3364722366212129,
          0.4054651081081644
         ],
         "y": [
          -0.02907199145897212,
          -0.022816534838212436,
          -0.016690566204699893,
          -0.010601068600733822,
          -0.005049133577347602,
          0,
          0.0008113560534777006,
          0.0014707132140405932,
          0.0021261045920549382,
          0.0027507260619411104,
          0.0033281103782546936
         ]
        },
        {
         "line": {
          "color": "rgba(255, 153, 51, 0.8999999999999999)",
          "dash": "solid",
          "shape": "linear",
          "width": 1.3
         },
         "mode": "lines",
         "name": "Pinto Beans",
         "text": "",
         "type": "scatter",
         "x": [
          -0.6931471805599453,
          -0.5108256237659907,
          -0.35667494393873245,
          -0.2231435513142097,
          -0.10536051565782628,
          0,
          0.09531017980432493,
          0.1823215567939546,
          0.26236426446749106,
          0.3364722366212129,
          0.4054651081081644
         ],
         "y": [
          -0.015094034441210694,
          -0.012008973735643724,
          -0.008949477633611964,
          -0.005906687082125835,
          -0.002873049189850423,
          0,
          0.0007834669103559758,
          0.0012219323188741307,
          0.0014653467206857868,
          0.0014653448955935352,
          0.0014653599110841032
         ]
        },
        {
         "line": {
          "color": "rgba(55, 128, 191, 0.8999999999999999)",
          "dash": "solid",
          "shape": "linear",
          "width": 1.3
         },
         "mode": "lines",
         "name": "Lentils",
         "text": "",
         "type": "scatter",
         "x": [
          -0.6931471805599453,
          -0.5108256237659907,
          -0.35667494393873245,
          -0.2231435513142097,
          -0.10536051565782628,
          0,
          0.09531017980432493,
          0.1823215567939546,
          0.26236426446749106,
          0.3364722366212129,
          0.4054651081081644
         ],
         "y": [
          1.0945390311929614e-08,
          4.723957113815459e-08,
          5.159633498348347e-08,
          4.0109325722381454e-08,
          2.14375461749281e-08,
          0,
          -2.200497763790484e-08,
          -4.35172628519777e-08,
          -6.405760172078654e-08,
          -8.344379691193787e-08,
          -1.016443664269324e-07
         ]
        },
        {
         "line": {
          "color": "rgba(50, 171, 96, 0.8999999999999999)",
          "dash": "solid",
          "shape": "linear",
          "width": 1.3
         },
         "mode": "lines",
         "name": "Sliced Turkey",
         "text": "",
         "type": "scatter",
         "x": [
          -0.6931471805599453,
          -0.5108256237659907,
          -0.35667494393873245,
          -0.2231435513142097,
          -0.10536051565782628,
          0,
          0.09531017980432493,
          0.1823215567939546,
          0.26236426446749106,
          0.3364722366212129,
          0.4054651081081644
         ],
         "y": [
          -0.11611052668028643,
          -0.09172231068730362,
          -0.06792717615264157,
          -0.04468597095028984,
          -0.021998587784157034,
          0,
          0.01709191853886505,
          0.03285290029647601,
          0.04410594824343179,
          0.05027128409020456,
          0.056398842322766596
         ]
        },
        {
         "line": {
          "color": "rgba(128, 0, 128, 0.8999999999999999)",
          "dash": "solid",
          "shape": "linear",
          "width": 1.3
         },
         "mode": "lines",
         "name": "Sliced Ham",
         "text": "",
         "type": "scatter",
         "x": [
          -0.6931471805599453,
          -0.5108256237659907,
          -0.35667494393873245,
          -0.2231435513142097,
          -0.10536051565782628,
          0,
          0.09531017980432493,
          0.1823215567939546,
          0.26236426446749106,
          0.3364722366212129,
          0.4054651081081644
         ],
         "y": [
          -3.402848450227698e-07,
          -3.40303985052183e-07,
          -3.4031216617741325e-07,
          4.892865792730752e-08,
          -6.882653828354701e-08,
          0,
          -3.403161487708025e-07,
          -3.4030382362570027e-07,
          -3.4029432299995627e-07,
          -3.4028853651558284e-07,
          -3.4028665524202746e-07
         ]
        },
        {
         "line": {
          "color": "rgba(219, 64, 82, 0.8999999999999999)",
          "dash": "solid",
          "shape": "linear",
          "width": 1.3
         },
         "mode": "lines",
         "name": "Salmon",
         "text": "",
         "type": "scatter",
         "x": [
          -0.6931471805599453,
          -0.5108256237659907,
          -0.35667494393873245,
          -0.2231435513142097,
          -0.10536051565782628,
          0,
          0.09531017980432493,
          0.1823215567939546,
          0.26236426446749106,
          0.3364722366212129,
          0.4054651081081644
         ],
         "y": [
          -3.4026840683302906e-07,
          -3.4030311341578975e-07,
          -3.40315144240668e-07,
          -3.4031512148108825e-07,
          1.0276273081823782e-07,
          0,
          -1.5321360821378e-07,
          -3.7736962378684797e-08,
          -3.403129447770854e-07,
          -3.400189780482708e-07,
          -3.38680995757791e-07
         ]
        },
        {
         "line": {
          "color": "rgba(0, 128, 128, 0.8999999999999999)",
          "dash": "solid",
          "shape": "linear",
          "width": 1.3
         },
         "mode": "lines",
         "name": "Halibut",
         "text": "",
         "type": "scatter",
         "x": [
          -0.6931471805599453,
          -0.5108256237659907,
          -0.35667494393873245,
          -0.2231435513142097,
          -0.10536051565782628,
          0,
          0.09531017980432493,
          0.1823215567939546,
          0.26236426446749106,
          0.3364722366212129,
          0.4054651081081644
         ],
         "y": [
          -3.246772671548359e-07,
          -3.4010395554667393e-07,
          2.0471139331110145e-07,
          -3.3943620601949444e-07,
          -3.3735696275997775e-07,
          0,
          -3.064106945762345e-07,
          -3.398916367563236e-07,
          -3.4022409437534776e-07,
          -3.38571661512414e-07,
          -3.356121215675325e-07
         ]
        },
        {
         "line": {
          "color": "rgba(255, 255, 51, 0.8999999999999999)",
          "dash": "solid",
          "shape": "linear",
          "width": 1.3
         },
         "mode": "lines",
         "name": "Shrimp",
         "text": "",
         "type": "scatter",
         "x": [
          -0.6931471805599453,
          -0.5108256237659907,
          -0.35667494393873245,
          -0.2231435513142097,
          -0.10536051565782628,
          0,
          0.09531017980432493,
          0.1823215567939546,
          0.26236426446749106,
          0.3364722366212129,
          0.4054651081081644
         ],
         "y": [
          -3.4024608390414433e-07,
          -3.402478951226029e-07,
          -3.402527795504617e-07,
          -3.4026532074503745e-07,
          -3.4029220758028533e-07,
          0,
          -1.1341748761630421e-07,
          -9.370802528907217e-08,
          -3.3938678731135985e-07,
          -3.402104415140798e-07,
          -3.402533445431512e-07
         ]
        },
        {
         "line": {
          "color": "rgba(128, 128, 0, 0.8999999999999999)",
          "dash": "solid",
          "shape": "linear",
          "width": 1.3
         },
         "mode": "lines",
         "name": "Tuna",
         "text": "",
         "type": "scatter",
         "x": [
          -0.6931471805599453,
          -0.5108256237659907,
          -0.35667494393873245,
          -0.2231435513142097,
          -0.10536051565782628,
          0,
          0.09531017980432493,
          0.1823215567939546,
          0.26236426446749106,
          0.3364722366212129,
          0.4054651081081644
         ],
         "y": [
          -0.0274679716652045,
          -0.003509532347048138,
          -3.402956295108563e-07,
          -3.4018334395843236e-07,
          -3.4024499666236637e-07,
          0,
          -1.692638021858393e-08,
          3.503241690597643e-09,
          3.58660474882521e-08,
          6.53766466242198e-08,
          8.936119333800579e-08
         ]
        },
        {
         "line": {
          "color": "rgba(251, 128, 114, 0.8999999999999999)",
          "dash": "solid",
          "shape": "linear",
          "width": 1.3
         },
         "mode": "lines",
         "name": "Almond Milk",
         "text": "",
         "type": "scatter",
         "x": [
          -0.6931471805599453,
          -0.5108256237659907,
          -0.35667494393873245,
          -0.2231435513142097,
          -0.10536051565782628,
          0,
          0.09531017980432493,
          0.1823215567939546,
          0.26236426446749106,
          0.3364722366212129,
          0.4054651081081644
         ],
         "y": [
          -0.14372967546725665,
          -0.11324499003318929,
          -0.08366782057200439,
          -0.05493995066560919,
          -0.027083733515607222,
          0,
          0.026368983021888115,
          0.05195181254282563,
          0.07427513764897521,
          0.09605707894866239,
          0.1170967472024642
         ]
        },
        {
         "line": {
          "color": "rgba(251, 128, 114, 0.7999999999999998)",
          "dash": "solid",
          "shape": "linear",
          "width": 1.3
         },
         "mode": "lines",
         "name": "2% milk",
         "text": "",
         "type": "scatter",
         "x": [
          -0.6931471805599453,
          -0.5108256237659907,
          -0.35667494393873245,
          -0.2231435513142097,
          -0.10536051565782628,
          0,
          0.09531017980432493,
          0.1823215567939546,
          0.26236426446749106,
          0.3364722366212129,
          0.4054651081081644
         ],
         "y": [
          -7.64019865472029e-08,
          -5.187335684536543e-08,
          -3.293351334806322e-08,
          -1.8382310620547003e-08,
          -7.548090736507375e-09,
          0,
          4.583221569531586e-09,
          6.474852855119767e-09,
          3.0408893385071885e-08,
          7.340296123532802e-08,
          -3.4031928459680275e-07
         ]
        },
        {
         "line": {
          "color": "rgba(128, 177, 211, 0.7999999999999998)",
          "dash": "solid",
          "shape": "linear",
          "width": 1.3
         },
         "mode": "lines",
         "name": "Cheddar cheese",
         "text": "",
         "type": "scatter",
         "x": [
          -0.6931471805599453,
          -0.5108256237659907,
          -0.35667494393873245,
          -0.2231435513142097,
          -0.10536051565782628,
          0,
          0.09531017980432493,
          0.1823215567939546,
          0.26236426446749106,
          0.3364722366212129,
          0.4054651081081644
         ],
         "y": [
          -0.13036369115640323,
          -0.07225036677076084,
          -0.03404986878272113,
          -0.009063880988733298,
          -0.001333151441904377,
          0,
          -1.1919393543262119e-08,
          -2.998837655987411e-07,
          -3.396762921631593e-07,
          -1.4966434401553163e-07,
          -3.4019372698973544e-07
         ]
        },
        {
         "line": {
          "color": "rgba(255, 153, 51, 0.7999999999999998)",
          "dash": "solid",
          "shape": "linear",
          "width": 1.3
         },
         "mode": "lines",
         "name": "Unsalted butter",
         "text": "",
         "type": "scatter",
         "x": [
          -0.6931471805599453,
          -0.5108256237659907,
          -0.35667494393873245,
          -0.2231435513142097,
          -0.10536051565782628,
          0,
          0.09531017980432493,
          0.1823215567939546,
          0.26236426446749106,
          0.3364722366212129,
          0.4054651081081644
         ],
         "y": [
          -1.1798418372192083e-07,
          -8.707954159415986e-08,
          -1.1732507032489422e-07,
          -1.0992995340954592e-07,
          -3.833113555640539e-08,
          0,
          9.842009381228828e-09,
          -1.1584843091543527e-09,
          -3.075259738629147e-08,
          -8.353477614368802e-08,
          -1.656218947028706e-07
         ]
        },
        {
         "line": {
          "color": "rgba(55, 128, 191, 0.7999999999999998)",
          "dash": "solid",
          "shape": "linear",
          "width": 1.3
         },
         "mode": "lines",
         "name": "Greek yogurt",
         "text": "",
         "type": "scatter",
         "x": [
          -0.6931471805599453,
          -0.5108256237659907,
          -0.35667494393873245,
          -0.2231435513142097,
          -0.10536051565782628,
          0,
          0.09531017980432493,
          0.1823215567939546,
          0.26236426446749106,
          0.3364722366212129,
          0.4054651081081644
         ],
         "y": [
          -8.891871944980295e-09,
          -3.2617286654702897e-10,
          3.7012641771809276e-09,
          4.5067469654523276e-09,
          3.035256930073927e-09,
          0,
          -4.094116831719719e-09,
          -8.954326986676362e-09,
          -1.4506674300446688e-08,
          -2.0901555260745012e-08,
          -2.8516683643601582e-08
         ]
        },
        {
         "line": {
          "color": "rgba(50, 171, 96, 0.7999999999999998)",
          "dash": "solid",
          "shape": "linear",
          "width": 1.3
         },
         "mode": "lines",
         "name": "Oat Milk",
         "text": "",
         "type": "scatter",
         "x": [
          -0.6931471805599453,
          -0.5108256237659907,
          -0.35667494393873245,
          -0.2231435513142097,
          -0.10536051565782628,
          0,
          0.09531017980432493,
          0.1823215567939546,
          0.26236426446749106,
          0.3364722366212129,
          0.4054651081081644
         ],
         "y": [
          -0.07129968303565126,
          -0.05120182926950906,
          -0.031499954809303496,
          -0.015306017752693421,
          -0.006925492270308644,
          0,
          0.0017825200201076218,
          0.0033256630783259256,
          0.004858624682328485,
          0.005963269888600919,
          0.0059632645140172405
         ]
        },
        {
         "line": {
          "color": "rgba(128, 0, 128, 0.7999999999999998)",
          "dash": "solid",
          "shape": "linear",
          "width": 1.3
         },
         "mode": "lines",
         "name": "Wheat Cereal",
         "text": "",
         "type": "scatter",
         "x": [
          -0.6931471805599453,
          -0.5108256237659907,
          -0.35667494393873245,
          -0.2231435513142097,
          -0.10536051565782628,
          0,
          0.09531017980432493,
          0.1823215567939546,
          0.26236426446749106,
          0.3364722366212129,
          0.4054651081081644
         ],
         "y": [
          -0.006145665271162162,
          -0.0031077651684389865,
          -7.931219470972106e-05,
          -3.401172099487614e-07,
          -3.725731703724046e-08,
          0,
          -3.333383793896531e-07,
          -3.352678908080744e-07,
          -3.288643368817442e-07,
          -3.268421754466083e-07,
          -3.3514270779101537e-07
         ]
        },
        {
         "line": {
          "color": "rgba(219, 64, 82, 0.7999999999999998)",
          "dash": "solid",
          "shape": "linear",
          "width": 1.3
         },
         "mode": "lines",
         "name": "Granola",
         "text": "",
         "type": "scatter",
         "x": [
          -0.6931471805599453,
          -0.5108256237659907,
          -0.35667494393873245,
          -0.2231435513142097,
          -0.10536051565782628,
          0,
          0.09531017980432493,
          0.1823215567939546,
          0.26236426446749106,
          0.3364722366212129,
          0.4054651081081644
         ],
         "y": [
          -3.401767665509078e-07,
          -3.40246314497545e-07,
          -3.4029125234406984e-07,
          -3.403169398049768e-07,
          9.740702747387967e-08,
          0,
          -1.3017829229242022e-07,
          -2.8042684720558525e-07,
          -2.861551824136241e-07,
          -2.490391102151812e-08,
          -3.4029940704598305e-07
         ]
        },
        {
         "line": {
          "color": "rgba(0, 128, 128, 0.7999999999999998)",
          "dash": "solid",
          "shape": "linear",
          "width": 1.3
         },
         "mode": "lines",
         "name": "Brown Rice",
         "text": "",
         "type": "scatter",
         "x": [
          -0.6931471805599453,
          -0.5108256237659907,
          -0.35667494393873245,
          -0.2231435513142097,
          -0.10536051565782628,
          0,
          0.09531017980432493,
          0.1823215567939546,
          0.26236426446749106,
          0.3364722366212129,
          0.4054651081081644
         ],
         "y": [
          -3.2556495136980566e-07,
          -2.923938873279956e-07,
          -2.454485804958398e-07,
          -1.7332446725574203e-07,
          -7.801143280338566e-08,
          0,
          6.77219697370665e-08,
          -3.403124785942787e-07,
          -3.4030265833521705e-07,
          -3.4029267587251646e-07,
          -3.4028291390018364e-07
         ]
        },
        {
         "line": {
          "color": "rgba(255, 255, 51, 0.7999999999999998)",
          "dash": "solid",
          "shape": "linear",
          "width": 1.3
         },
         "mode": "lines",
         "name": "Jasmine Rice",
         "text": "",
         "type": "scatter",
         "x": [
          -0.6931471805599453,
          -0.5108256237659907,
          -0.35667494393873245,
          -0.2231435513142097,
          -0.10536051565782628,
          0,
          0.09531017980432493,
          0.1823215567939546,
          0.26236426446749106,
          0.3364722366212129,
          0.4054651081081644
         ],
         "y": [
          -1.9184005614560874e-07,
          -1.0782851526817129e-07,
          -4.74463330999762e-08,
          -1.15668407743624e-08,
          2.8572624225767612e-09,
          0,
          -1.577245235754994e-08,
          1.3863128770993346e-08,
          4.993657629288008e-08,
          7.285905790831443e-08,
          8.290119513626722e-08
         ]
        },
        {
         "line": {
          "color": "rgba(128, 128, 0, 0.7999999999999998)",
          "dash": "solid",
          "shape": "linear",
          "width": 1.3
         },
         "mode": "lines",
         "name": "Potatoes",
         "text": "",
         "type": "scatter",
         "x": [
          -0.6931471805599453,
          -0.5108256237659907,
          -0.35667494393873245,
          -0.2231435513142097,
          -0.10536051565782628,
          0,
          0.09531017980432493,
          0.1823215567939546,
          0.26236426446749106,
          0.3364722366212129,
          0.4054651081081644
         ],
         "y": [
          -3.397872407845057e-07,
          -3.12255339931091e-07,
          -3.33546313129269e-07,
          -2.183574097904181e-07,
          -3.402959415946547e-07,
          0,
          7.962279096586406e-08,
          -3.4031481450431744e-07,
          -3.403069491266228e-07,
          -3.402988951219722e-07,
          -3.402907771684536e-07
         ]
        },
        {
         "line": {
          "color": "rgba(128, 128, 0, 0.7)",
          "dash": "solid",
          "shape": "linear",
          "width": 1.3
         },
         "mode": "lines",
         "name": "Bananas",
         "text": "",
         "type": "scatter",
         "x": [
          -0.6931471805599453,
          -0.5108256237659907,
          -0.35667494393873245,
          -0.2231435513142097,
          -0.10536051565782628,
          0,
          0.09531017980432493,
          0.1823215567939546,
          0.26236426446749106,
          0.3364722366212129,
          0.4054651081081644
         ],
         "y": [
          -0.11914585878494026,
          -0.0920873989787194,
          -0.0661435010464468,
          -0.0410607479463206,
          -0.019411016952055986,
          0,
          0.0028663495001164372,
          0.0028663420790484674,
          0.002866346837946828,
          0.0028663488979252007,
          0.002866363618253678
         ]
        },
        {
         "line": {
          "color": "rgba(251, 128, 114, 0.7)",
          "dash": "solid",
          "shape": "linear",
          "width": 1.3
         },
         "mode": "lines",
         "name": "Apples",
         "text": "",
         "type": "scatter",
         "x": [
          -0.6931471805599453,
          -0.5108256237659907,
          -0.35667494393873245,
          -0.2231435513142097,
          -0.10536051565782628,
          0,
          0.09531017980432493,
          0.1823215567939546,
          0.26236426446749106,
          0.3364722366212129,
          0.4054651081081644
         ],
         "y": [
          -3.063848970930631e-07,
          -2.979096399230573e-07,
          -2.861673436890936e-07,
          -2.21334991959713e-07,
          -1.2102930268755192e-07,
          0,
          -3.403192408540007e-07,
          -3.403072994021063e-07,
          -3.4029353962632354e-07,
          -3.4027956213573176e-07,
          -3.40266776580985e-07
         ]
        },
        {
         "line": {
          "color": "rgba(128, 177, 211, 0.7)",
          "dash": "solid",
          "shape": "linear",
          "width": 1.3
         },
         "mode": "lines",
         "name": "Avocados",
         "text": "",
         "type": "scatter",
         "x": [
          -0.6931471805599453,
          -0.5108256237659907,
          -0.35667494393873245,
          -0.2231435513142097,
          -0.10536051565782628,
          0,
          0.09531017980432493,
          0.1823215567939546,
          0.26236426446749106,
          0.3364722366212129,
          0.4054651081081644
         ],
         "y": [
          -0.08393392372354741,
          -0.057153777093294805,
          -0.03891546168478572,
          -0.02360577352703063,
          -0.009621187110832513,
          0,
          -3.326256963506801e-07,
          -3.3921303779314205e-07,
          -3.3970184184532624e-07,
          -3.402672497581991e-07,
          -3.4030294965783787e-07
         ]
        },
        {
         "line": {
          "color": "rgba(255, 153, 51, 0.7)",
          "dash": "solid",
          "shape": "linear",
          "width": 1.3
         },
         "mode": "lines",
         "name": "Blue Berries",
         "text": "",
         "type": "scatter",
         "x": [
          -0.6931471805599453,
          -0.5108256237659907,
          -0.35667494393873245,
          -0.2231435513142097,
          -0.10536051565782628,
          0,
          0.09531017980432493,
          0.1823215567939546,
          0.26236426446749106,
          0.3364722366212129,
          0.4054651081081644
         ],
         "y": [
          -3.392920560563477e-07,
          -3.400556377360319e-07,
          -3.40294168234814e-07,
          -3.4031562740989273e-07,
          2.6733038314294795e-08,
          0,
          7.524017969825944e-08,
          -3.4031800339899633e-07,
          -3.403185895969528e-07,
          6.648680251817977e-08,
          -2.018589060738069e-08
         ]
        },
        {
         "line": {
          "color": "rgba(55, 128, 191, 0.7)",
          "dash": "solid",
          "shape": "linear",
          "width": 1.3
         },
         "mode": "lines",
         "name": "Tomatoes",
         "text": "",
         "type": "scatter",
         "x": [
          -0.6931471805599453,
          -0.5108256237659907,
          -0.35667494393873245,
          -0.2231435513142097,
          -0.10536051565782628,
          0,
          0.09531017980432493,
          0.1823215567939546,
          0.26236426446749106,
          0.3364722366212129,
          0.4054651081081644
         ],
         "y": [
          -3.403102482664855e-07,
          -3.4029259871199e-07,
          -3.3882429950857355e-07,
          -2.3012903821537643e-07,
          -3.402345472397033e-07,
          0,
          -1.745272037088616e-07,
          1.7888933044646692e-07,
          -2.2554256274793882e-07,
          -3.4030362100992935e-07,
          -3.3966438446206397e-07
         ]
        },
        {
         "line": {
          "color": "rgba(50, 171, 96, 0.7)",
          "dash": "solid",
          "shape": "linear",
          "width": 1.3
         },
         "mode": "lines",
         "name": "Kale",
         "text": "",
         "type": "scatter",
         "x": [
          -0.6931471805599453,
          -0.5108256237659907,
          -0.35667494393873245,
          -0.2231435513142097,
          -0.10536051565782628,
          0,
          0.09531017980432493,
          0.1823215567939546,
          0.26236426446749106,
          0.3364722366212129,
          0.4054651081081644
         ],
         "y": [
          -0.010863559896852526,
          -0.0086285040120122,
          -0.006397897954061327,
          -0.004180593644790768,
          -0.001969356411558644,
          0,
          -1.4711797685357802e-07,
          -5.27453186160235e-08,
          1.4688618552942118e-07,
          -3.4029504764277103e-07,
          -3.4023116316775054e-07
         ]
        },
        {
         "line": {
          "color": "rgba(128, 0, 128, 0.7)",
          "dash": "solid",
          "shape": "linear",
          "width": 1.3
         },
         "mode": "lines",
         "name": "Garlic",
         "text": "",
         "type": "scatter",
         "x": [
          -0.6931471805599453,
          -0.5108256237659907,
          -0.35667494393873245,
          -0.2231435513142097,
          -0.10536051565782628,
          0,
          0.09531017980432493,
          0.1823215567939546,
          0.26236426446749106,
          0.3364722366212129,
          0.4054651081081644
         ],
         "y": [
          -3.287747165411031e-07,
          -3.36597875377693e-07,
          -3.3398907466016114e-07,
          -3.064559006512038e-07,
          -1.8669602730167895e-07,
          0,
          -3.403146692870964e-07,
          -3.4030454971180544e-07,
          -3.402907641788398e-07,
          -3.402757187643573e-07,
          -3.402608251174141e-07
         ]
        },
        {
         "line": {
          "color": "rgba(219, 64, 82, 0.7)",
          "dash": "solid",
          "shape": "linear",
          "width": 1.3
         },
         "mode": "lines",
         "name": "Red Onion",
         "text": "",
         "type": "scatter",
         "x": [
          -0.6931471805599453,
          -0.5108256237659907,
          -0.35667494393873245,
          -0.2231435513142097,
          -0.10536051565782628,
          0,
          0.09531017980432493,
          0.1823215567939546,
          0.26236426446749106,
          0.3364722366212129,
          0.4054651081081644
         ],
         "y": [
          -8.711501022528369e-08,
          -5.367450261746844e-08,
          -3.5154170304265596e-08,
          -2.195703842869238e-08,
          -1.058996707049198e-08,
          0,
          1.0009980572072209e-08,
          1.9397534057381105e-08,
          2.8103653009535546e-08,
          3.911733504988139e-08,
          7.329098770199091e-08
         ]
        },
        {
         "line": {
          "color": "rgba(0, 128, 128, 0.7)",
          "dash": "solid",
          "shape": "linear",
          "width": 1.3
         },
         "mode": "lines",
         "name": "Yellow Onion",
         "text": "",
         "type": "scatter",
         "x": [
          -0.6931471805599453,
          -0.5108256237659907,
          -0.35667494393873245,
          -0.2231435513142097,
          -0.10536051565782628,
          0,
          0.09531017980432493,
          0.1823215567939546,
          0.26236426446749106,
          0.3364722366212129,
          0.4054651081081644
         ],
         "y": [
          -1.219553352729832e-07,
          -1.4179620694833138e-07,
          -1.278750966941011e-07,
          -8.007946071590086e-08,
          -3.568947723313725e-08,
          0,
          2.3688936087477504e-08,
          -3.403179428918209e-07,
          -3.4031111401869473e-07,
          -3.4030395019116817e-07,
          -3.4029660384291426e-07
         ]
        },
        {
         "line": {
          "color": "rgba(255, 255, 51, 0.7)",
          "dash": "solid",
          "shape": "linear",
          "width": 1.3
         },
         "mode": "lines",
         "name": "White Onion",
         "text": "",
         "type": "scatter",
         "x": [
          -0.6931471805599453,
          -0.5108256237659907,
          -0.35667494393873245,
          -0.2231435513142097,
          -0.10536051565782628,
          0,
          0.09531017980432493,
          0.1823215567939546,
          0.26236426446749106,
          0.3364722366212129,
          0.4054651081081644
         ],
         "y": [
          -1.1236808626525647e-07,
          -8.797213944575719e-08,
          -6.440828245000732e-08,
          -4.100827583881721e-08,
          -1.904590814324098e-08,
          0,
          1.5004727569995072e-08,
          4.745954183605411e-08,
          -3.4031890556653313e-07,
          -3.403147649883537e-07,
          -3.4031061852599023e-07
         ]
        },
        {
         "line": {
          "color": "rgba(255, 255, 51, 0.5999999999999999)",
          "dash": "solid",
          "shape": "linear",
          "width": 1.3
         },
         "mode": "lines",
         "name": "Cauliflower",
         "text": "",
         "type": "scatter",
         "x": [
          -0.6931471805599453,
          -0.5108256237659907,
          -0.35667494393873245,
          -0.2231435513142097,
          -0.10536051565782628,
          0,
          0.09531017980432493,
          0.1823215567939546,
          0.26236426446749106,
          0.3364722366212129,
          0.4054651081081644
         ],
         "y": [
          0,
          0,
          0,
          0,
          0,
          0,
          0,
          0,
          0,
          0,
          0
         ]
        },
        {
         "line": {
          "color": "rgba(128, 128, 0, 0.5999999999999999)",
          "dash": "solid",
          "shape": "linear",
          "width": 1.3
         },
         "mode": "lines",
         "name": "Broccoli",
         "text": "",
         "type": "scatter",
         "x": [
          -0.6931471805599453,
          -0.5108256237659907,
          -0.35667494393873245,
          -0.2231435513142097,
          -0.10536051565782628,
          0,
          0.09531017980432493,
          0.1823215567939546,
          0.26236426446749106,
          0.3364722366212129,
          0.4054651081081644
         ],
         "y": [
          -0.055074388916015585,
          -0.02991825289191427,
          -0.017033307398783525,
          -0.01120688985335514,
          -0.005414225067676185,
          0,
          0.00026209922867718376,
          0.0002620970011549456,
          0.0002620969738197604,
          0.00026209696882018236,
          0.00026209696704739883
         ]
        },
        {
         "line": {
          "color": "rgba(251, 128, 114, 0.5999999999999999)",
          "dash": "solid",
          "shape": "linear",
          "width": 1.3
         },
         "mode": "lines",
         "name": "Carrots",
         "text": "",
         "type": "scatter",
         "x": [
          -0.6931471805599453,
          -0.5108256237659907,
          -0.35667494393873245,
          -0.2231435513142097,
          -0.10536051565782628,
          0,
          0.09531017980432493,
          0.1823215567939546,
          0.26236426446749106,
          0.3364722366212129,
          0.4054651081081644
         ],
         "y": [
          -4.20784064034012e-09,
          -3.873720397317935e-08,
          -9.54502921181273e-08,
          -1.5651224386742847e-07,
          -6.135081198079795e-08,
          0,
          8.932908635713605e-08,
          -3.40310866771943e-07,
          -3.4030089896419123e-07,
          -3.402912202586135e-07,
          -3.4028213785402536e-07
         ]
        },
        {
         "line": {
          "color": "rgba(128, 177, 211, 0.5999999999999999)",
          "dash": "solid",
          "shape": "linear",
          "width": 1.3
         },
         "mode": "lines",
         "name": "Sweet Potatoes",
         "text": "",
         "type": "scatter",
         "x": [
          -0.6931471805599453,
          -0.5108256237659907,
          -0.35667494393873245,
          -0.2231435513142097,
          -0.10536051565782628,
          0,
          0.09531017980432493,
          0.1823215567939546,
          0.26236426446749106,
          0.3364722366212129,
          0.4054651081081644
         ],
         "y": [
          -3.4030924606782015e-07,
          -3.4031798263781867e-07,
          1.3595293770403034e-09,
          -1.5947179259936582e-08,
          9.227287336050024e-09,
          0,
          1.7503492058004402e-08,
          -3.403195625967427e-07,
          -3.403160424114006e-07,
          -3.4031368285360335e-07,
          -3.4031251867334353e-07
         ]
        },
        {
         "line": {
          "color": "rgba(255, 153, 51, 0.5999999999999999)",
          "dash": "solid",
          "shape": "linear",
          "width": 1.3
         },
         "mode": "lines",
         "name": "Romaine Lettuce",
         "text": "",
         "type": "scatter",
         "x": [
          -0.6931471805599453,
          -0.5108256237659907,
          -0.35667494393873245,
          -0.2231435513142097,
          -0.10536051565782628,
          0,
          0.09531017980432493,
          0.1823215567939546,
          0.26236426446749106,
          0.3364722366212129,
          0.4054651081081644
         ],
         "y": [
          0,
          0,
          0,
          0,
          0,
          0,
          0,
          0,
          0,
          0,
          0
         ]
        },
        {
         "line": {
          "color": "rgba(55, 128, 191, 0.5999999999999999)",
          "dash": "solid",
          "shape": "linear",
          "width": 1.3
         },
         "mode": "lines",
         "name": "Spinach",
         "text": "",
         "type": "scatter",
         "x": [
          -0.6931471805599453,
          -0.5108256237659907,
          -0.35667494393873245,
          -0.2231435513142097,
          -0.10536051565782628,
          0,
          0.09531017980432493,
          0.1823215567939546,
          0.26236426446749106,
          0.3364722366212129,
          0.4054651081081644
         ],
         "y": [
          -0.009459864471605163,
          -0.0074057568807160785,
          -0.005355953173832962,
          -0.0034732101426612916,
          -0.001735269158572099,
          0,
          0.0001816497631068716,
          0.00018164513934858188,
          0.00018164123069978915,
          0.00018163911195269268,
          0.00018163789191620163
         ]
        },
        {
         "line": {
          "color": "rgba(50, 171, 96, 0.5999999999999999)",
          "dash": "solid",
          "shape": "linear",
          "width": 1.3
         },
         "mode": "lines",
         "name": "Cucumbers",
         "text": "",
         "type": "scatter",
         "x": [
          -0.6931471805599453,
          -0.5108256237659907,
          -0.35667494393873245,
          -0.2231435513142097,
          -0.10536051565782628,
          0,
          0.09531017980432493,
          0.1823215567939546,
          0.26236426446749106,
          0.3364722366212129,
          0.4054651081081644
         ],
         "y": [
          -0.008078441098504452,
          -0.0003234179045871341,
          -3.402633927310768e-07,
          -3.4011987992502143e-07,
          -3.3942049513711796e-07,
          0,
          -3.402096048497238e-07,
          -3.4008237235964573e-07,
          -3.3964836815722605e-07,
          -3.3955876069420995e-07,
          -3.394657880330495e-07
         ]
        },
        {
         "line": {
          "color": "rgba(128, 0, 128, 0.5999999999999999)",
          "dash": "solid",
          "shape": "linear",
          "width": 1.3
         },
         "mode": "lines",
         "name": "Cremini Mushrooms",
         "text": "",
         "type": "scatter",
         "x": [
          -0.6931471805599453,
          -0.5108256237659907,
          -0.35667494393873245,
          -0.2231435513142097,
          -0.10536051565782628,
          0,
          0.09531017980432493,
          0.1823215567939546,
          0.26236426446749106,
          0.3364722366212129,
          0.4054651081081644
         ],
         "y": [
          -3.3111177319435015e-07,
          9.321661399293806e-09,
          -3.3530089974806527e-07,
          -1.579870953404828e-07,
          -3.388071189124687e-07,
          0,
          -3.402360600301113e-07,
          -3.3913944619090503e-07,
          1.3574202173595572e-07,
          -3.40304451346012e-07,
          -3.3981061287449505e-07
         ]
        },
        {
         "line": {
          "color": "rgba(219, 64, 82, 0.5999999999999999)",
          "dash": "solid",
          "shape": "linear",
          "width": 1.3
         },
         "mode": "lines",
         "name": "Jalepenos",
         "text": "",
         "type": "scatter",
         "x": [
          -0.6931471805599453,
          -0.5108256237659907,
          -0.35667494393873245,
          -0.2231435513142097,
          -0.10536051565782628,
          0,
          0.09531017980432493,
          0.1823215567939546,
          0.26236426446749106,
          0.3364722366212129,
          0.4054651081081644
         ],
         "y": [
          -0.04960591095573754,
          -0.011507151435660112,
          -0.006592464795939419,
          -0.0023896650633174186,
          -3.2202329503169693e-07,
          0,
          -3.002943647212027e-07,
          -2.8416084514913536e-07,
          -2.8545400254334174e-07,
          -3.402884052871767e-07,
          -3.3988413741928795e-07
         ]
        },
        {
         "line": {
          "color": "rgba(0, 128, 128, 0.5999999999999999)",
          "dash": "solid",
          "shape": "linear",
          "width": 1.3
         },
         "mode": "lines",
         "name": "Olive Oil",
         "text": "",
         "type": "scatter",
         "x": [
          -0.6931471805599453,
          -0.5108256237659907,
          -0.35667494393873245,
          -0.2231435513142097,
          -0.10536051565782628,
          0,
          0.09531017980432493,
          0.1823215567939546,
          0.26236426446749106,
          0.3364722366212129,
          0.4054651081081644
         ],
         "y": [
          -1.9236158573205872e-07,
          -1.522489535990302e-07,
          -1.610666890788403e-07,
          -8.36726871711584e-08,
          -2.741007813873543e-08,
          0,
          2.9237023870257805e-09,
          -1.485067002629344e-08,
          -5.450882427439615e-08,
          -1.2115568693926573e-07,
          -2.1462988191864246e-07
         ]
        },
        {
         "line": {
          "color": "rgba(0, 128, 128, 0.49999999999999983)",
          "dash": "solid",
          "shape": "linear",
          "width": 1.3
         },
         "mode": "lines",
         "name": "Vegetable Oil",
         "text": "",
         "type": "scatter",
         "x": [
          -0.6931471805599453,
          -0.5108256237659907,
          -0.35667494393873245,
          -0.2231435513142097,
          -0.10536051565782628,
          0,
          0.09531017980432493,
          0.1823215567939546,
          0.26236426446749106,
          0.3364722366212129,
          0.4054651081081644
         ],
         "y": [
          -0.0008758422671440216,
          -0.00020039458748296622,
          -3.3363536758947335e-07,
          -1.4751509147553472e-07,
          -3.403125494265318e-07,
          0,
          -1.3227447757084798e-07,
          -3.0296388824040254e-07,
          -2.318192582366967e-07,
          -4.42396327142933e-08,
          -3.400206414959942e-07
         ]
        },
        {
         "line": {
          "color": "rgba(255, 255, 51, 0.49999999999999983)",
          "dash": "solid",
          "shape": "linear",
          "width": 1.3
         },
         "mode": "lines",
         "name": "Salt",
         "text": "",
         "type": "scatter",
         "x": [
          -0.6931471805599453,
          -0.5108256237659907,
          -0.35667494393873245,
          -0.2231435513142097,
          -0.10536051565782628,
          0,
          0.09531017980432493,
          0.1823215567939546,
          0.26236426446749106,
          0.3364722366212129,
          0.4054651081081644
         ],
         "y": [
          2.4330650975507737e-08,
          1.917968898627095e-08,
          1.4178850659640441e-08,
          9.320185912907832e-09,
          4.59624914848735e-09,
          0,
          -4.474909119942942e-09,
          -8.8348461159711e-09,
          -1.3085307811869795e-08,
          -1.7231685005254315e-08,
          -2.1279035760015442e-08
         ]
        },
        {
         "line": {
          "color": "rgba(128, 128, 0, 0.49999999999999983)",
          "dash": "solid",
          "shape": "linear",
          "width": 1.3
         },
         "mode": "lines",
         "name": "Tomato Sauce",
         "text": "",
         "type": "scatter",
         "x": [
          -0.6931471805599453,
          -0.5108256237659907,
          -0.35667494393873245,
          -0.2231435513142097,
          -0.10536051565782628,
          0,
          0.09531017980432493,
          0.1823215567939546,
          0.26236426446749106,
          0.3364722366212129,
          0.4054651081081644
         ],
         "y": [
          -3.4031158086763546e-07,
          -3.403128215422877e-07,
          -3.4031679880660464e-07,
          9.435749954700749e-10,
          -1.3063833124827954e-07,
          0,
          -3.4031298052627895e-07,
          -3.4029519052852295e-07,
          -3.4027802669676624e-07,
          -3.402621593838991e-07,
          -3.402476072416747e-07
         ]
        },
        {
         "line": {
          "color": "rgba(251, 128, 114, 0.49999999999999983)",
          "dash": "solid",
          "shape": "linear",
          "width": 1.3
         },
         "mode": "lines",
         "name": "Sugar",
         "text": "",
         "type": "scatter",
         "x": [
          -0.6931471805599453,
          -0.5108256237659907,
          -0.35667494393873245,
          -0.2231435513142097,
          -0.10536051565782628,
          0,
          0.09531017980432493,
          0.1823215567939546,
          0.26236426446749106,
          0.3364722366212129,
          0.4054651081081644
         ],
         "y": [
          -3.293956691460589e-07,
          -2.9367343017492163e-07,
          -2.183925828847645e-07,
          -1.3445598883365163e-07,
          -5.912638387165108e-08,
          0,
          4.139631396364693e-08,
          6.640329487848521e-08,
          -3.4031871394197386e-07,
          -3.4031567337314156e-07,
          -3.403129629847492e-07
         ]
        },
        {
         "line": {
          "color": "rgba(128, 177, 211, 0.49999999999999983)",
          "dash": "solid",
          "shape": "linear",
          "width": 1.3
         },
         "mode": "lines",
         "name": "Honey",
         "text": "",
         "type": "scatter",
         "x": [
          -0.6931471805599453,
          -0.5108256237659907,
          -0.35667494393873245,
          -0.2231435513142097,
          -0.10536051565782628,
          0,
          0.09531017980432493,
          0.1823215567939546,
          0.26236426446749106,
          0.3364722366212129,
          0.4054651081081644
         ],
         "y": [
          -3.4027470746186006e-07,
          -3.3777430161999564e-07,
          -1.115823906686242e-07,
          -3.402703939108747e-07,
          -3.402678145288439e-07,
          0,
          -1.0347091075241998e-07,
          -3.3992074070769526e-07,
          -3.398748073238625e-07,
          -3.402496255167979e-07,
          -3.3652539755176154e-07
         ]
        },
        {
         "line": {
          "color": "rgba(255, 153, 51, 0.49999999999999983)",
          "dash": "solid",
          "shape": "linear",
          "width": 1.3
         },
         "mode": "lines",
         "name": "Bread (white bread)",
         "text": "",
         "type": "scatter",
         "x": [
          -0.6931471805599453,
          -0.5108256237659907,
          -0.35667494393873245,
          -0.2231435513142097,
          -0.10536051565782628,
          0,
          0.09531017980432493,
          0.1823215567939546,
          0.26236426446749106,
          0.3364722366212129,
          0.4054651081081644
         ],
         "y": [
          0,
          0,
          0,
          0,
          0,
          0,
          0,
          0,
          0,
          0,
          0
         ]
        }
       ],
       "layout": {
        "legend": {
         "bgcolor": "#F5F6F9",
         "font": {
          "color": "#4D5663"
         }
        },
        "paper_bgcolor": "#F5F6F9",
        "plot_bgcolor": "#F5F6F9",
        "template": {
         "data": {
          "bar": [
           {
            "error_x": {
             "color": "#2a3f5f"
            },
            "error_y": {
             "color": "#2a3f5f"
            },
            "marker": {
             "line": {
              "color": "#E5ECF6",
              "width": 0.5
             },
             "pattern": {
              "fillmode": "overlay",
              "size": 10,
              "solidity": 0.2
             }
            },
            "type": "bar"
           }
          ],
          "barpolar": [
           {
            "marker": {
             "line": {
              "color": "#E5ECF6",
              "width": 0.5
             },
             "pattern": {
              "fillmode": "overlay",
              "size": 10,
              "solidity": 0.2
             }
            },
            "type": "barpolar"
           }
          ],
          "carpet": [
           {
            "aaxis": {
             "endlinecolor": "#2a3f5f",
             "gridcolor": "white",
             "linecolor": "white",
             "minorgridcolor": "white",
             "startlinecolor": "#2a3f5f"
            },
            "baxis": {
             "endlinecolor": "#2a3f5f",
             "gridcolor": "white",
             "linecolor": "white",
             "minorgridcolor": "white",
             "startlinecolor": "#2a3f5f"
            },
            "type": "carpet"
           }
          ],
          "choropleth": [
           {
            "colorbar": {
             "outlinewidth": 0,
             "ticks": ""
            },
            "type": "choropleth"
           }
          ],
          "contour": [
           {
            "colorbar": {
             "outlinewidth": 0,
             "ticks": ""
            },
            "colorscale": [
             [
              0,
              "#0d0887"
             ],
             [
              0.1111111111111111,
              "#46039f"
             ],
             [
              0.2222222222222222,
              "#7201a8"
             ],
             [
              0.3333333333333333,
              "#9c179e"
             ],
             [
              0.4444444444444444,
              "#bd3786"
             ],
             [
              0.5555555555555556,
              "#d8576b"
             ],
             [
              0.6666666666666666,
              "#ed7953"
             ],
             [
              0.7777777777777778,
              "#fb9f3a"
             ],
             [
              0.8888888888888888,
              "#fdca26"
             ],
             [
              1,
              "#f0f921"
             ]
            ],
            "type": "contour"
           }
          ],
          "contourcarpet": [
           {
            "colorbar": {
             "outlinewidth": 0,
             "ticks": ""
            },
            "type": "contourcarpet"
           }
          ],
          "heatmap": [
           {
            "colorbar": {
             "outlinewidth": 0,
             "ticks": ""
            },
            "colorscale": [
             [
              0,
              "#0d0887"
             ],
             [
              0.1111111111111111,
              "#46039f"
             ],
             [
              0.2222222222222222,
              "#7201a8"
             ],
             [
              0.3333333333333333,
              "#9c179e"
             ],
             [
              0.4444444444444444,
              "#bd3786"
             ],
             [
              0.5555555555555556,
              "#d8576b"
             ],
             [
              0.6666666666666666,
              "#ed7953"
             ],
             [
              0.7777777777777778,
              "#fb9f3a"
             ],
             [
              0.8888888888888888,
              "#fdca26"
             ],
             [
              1,
              "#f0f921"
             ]
            ],
            "type": "heatmap"
           }
          ],
          "heatmapgl": [
           {
            "colorbar": {
             "outlinewidth": 0,
             "ticks": ""
            },
            "colorscale": [
             [
              0,
              "#0d0887"
             ],
             [
              0.1111111111111111,
              "#46039f"
             ],
             [
              0.2222222222222222,
              "#7201a8"
             ],
             [
              0.3333333333333333,
              "#9c179e"
             ],
             [
              0.4444444444444444,
              "#bd3786"
             ],
             [
              0.5555555555555556,
              "#d8576b"
             ],
             [
              0.6666666666666666,
              "#ed7953"
             ],
             [
              0.7777777777777778,
              "#fb9f3a"
             ],
             [
              0.8888888888888888,
              "#fdca26"
             ],
             [
              1,
              "#f0f921"
             ]
            ],
            "type": "heatmapgl"
           }
          ],
          "histogram": [
           {
            "marker": {
             "pattern": {
              "fillmode": "overlay",
              "size": 10,
              "solidity": 0.2
             }
            },
            "type": "histogram"
           }
          ],
          "histogram2d": [
           {
            "colorbar": {
             "outlinewidth": 0,
             "ticks": ""
            },
            "colorscale": [
             [
              0,
              "#0d0887"
             ],
             [
              0.1111111111111111,
              "#46039f"
             ],
             [
              0.2222222222222222,
              "#7201a8"
             ],
             [
              0.3333333333333333,
              "#9c179e"
             ],
             [
              0.4444444444444444,
              "#bd3786"
             ],
             [
              0.5555555555555556,
              "#d8576b"
             ],
             [
              0.6666666666666666,
              "#ed7953"
             ],
             [
              0.7777777777777778,
              "#fb9f3a"
             ],
             [
              0.8888888888888888,
              "#fdca26"
             ],
             [
              1,
              "#f0f921"
             ]
            ],
            "type": "histogram2d"
           }
          ],
          "histogram2dcontour": [
           {
            "colorbar": {
             "outlinewidth": 0,
             "ticks": ""
            },
            "colorscale": [
             [
              0,
              "#0d0887"
             ],
             [
              0.1111111111111111,
              "#46039f"
             ],
             [
              0.2222222222222222,
              "#7201a8"
             ],
             [
              0.3333333333333333,
              "#9c179e"
             ],
             [
              0.4444444444444444,
              "#bd3786"
             ],
             [
              0.5555555555555556,
              "#d8576b"
             ],
             [
              0.6666666666666666,
              "#ed7953"
             ],
             [
              0.7777777777777778,
              "#fb9f3a"
             ],
             [
              0.8888888888888888,
              "#fdca26"
             ],
             [
              1,
              "#f0f921"
             ]
            ],
            "type": "histogram2dcontour"
           }
          ],
          "mesh3d": [
           {
            "colorbar": {
             "outlinewidth": 0,
             "ticks": ""
            },
            "type": "mesh3d"
           }
          ],
          "parcoords": [
           {
            "line": {
             "colorbar": {
              "outlinewidth": 0,
              "ticks": ""
             }
            },
            "type": "parcoords"
           }
          ],
          "pie": [
           {
            "automargin": true,
            "type": "pie"
           }
          ],
          "scatter": [
           {
            "marker": {
             "colorbar": {
              "outlinewidth": 0,
              "ticks": ""
             }
            },
            "type": "scatter"
           }
          ],
          "scatter3d": [
           {
            "line": {
             "colorbar": {
              "outlinewidth": 0,
              "ticks": ""
             }
            },
            "marker": {
             "colorbar": {
              "outlinewidth": 0,
              "ticks": ""
             }
            },
            "type": "scatter3d"
           }
          ],
          "scattercarpet": [
           {
            "marker": {
             "colorbar": {
              "outlinewidth": 0,
              "ticks": ""
             }
            },
            "type": "scattercarpet"
           }
          ],
          "scattergeo": [
           {
            "marker": {
             "colorbar": {
              "outlinewidth": 0,
              "ticks": ""
             }
            },
            "type": "scattergeo"
           }
          ],
          "scattergl": [
           {
            "marker": {
             "colorbar": {
              "outlinewidth": 0,
              "ticks": ""
             }
            },
            "type": "scattergl"
           }
          ],
          "scattermapbox": [
           {
            "marker": {
             "colorbar": {
              "outlinewidth": 0,
              "ticks": ""
             }
            },
            "type": "scattermapbox"
           }
          ],
          "scatterpolar": [
           {
            "marker": {
             "colorbar": {
              "outlinewidth": 0,
              "ticks": ""
             }
            },
            "type": "scatterpolar"
           }
          ],
          "scatterpolargl": [
           {
            "marker": {
             "colorbar": {
              "outlinewidth": 0,
              "ticks": ""
             }
            },
            "type": "scatterpolargl"
           }
          ],
          "scatterternary": [
           {
            "marker": {
             "colorbar": {
              "outlinewidth": 0,
              "ticks": ""
             }
            },
            "type": "scatterternary"
           }
          ],
          "surface": [
           {
            "colorbar": {
             "outlinewidth": 0,
             "ticks": ""
            },
            "colorscale": [
             [
              0,
              "#0d0887"
             ],
             [
              0.1111111111111111,
              "#46039f"
             ],
             [
              0.2222222222222222,
              "#7201a8"
             ],
             [
              0.3333333333333333,
              "#9c179e"
             ],
             [
              0.4444444444444444,
              "#bd3786"
             ],
             [
              0.5555555555555556,
              "#d8576b"
             ],
             [
              0.6666666666666666,
              "#ed7953"
             ],
             [
              0.7777777777777778,
              "#fb9f3a"
             ],
             [
              0.8888888888888888,
              "#fdca26"
             ],
             [
              1,
              "#f0f921"
             ]
            ],
            "type": "surface"
           }
          ],
          "table": [
           {
            "cells": {
             "fill": {
              "color": "#EBF0F8"
             },
             "line": {
              "color": "white"
             }
            },
            "header": {
             "fill": {
              "color": "#C8D4E3"
             },
             "line": {
              "color": "white"
             }
            },
            "type": "table"
           }
          ]
         },
         "layout": {
          "annotationdefaults": {
           "arrowcolor": "#2a3f5f",
           "arrowhead": 0,
           "arrowwidth": 1
          },
          "autotypenumbers": "strict",
          "coloraxis": {
           "colorbar": {
            "outlinewidth": 0,
            "ticks": ""
           }
          },
          "colorscale": {
           "diverging": [
            [
             0,
             "#8e0152"
            ],
            [
             0.1,
             "#c51b7d"
            ],
            [
             0.2,
             "#de77ae"
            ],
            [
             0.3,
             "#f1b6da"
            ],
            [
             0.4,
             "#fde0ef"
            ],
            [
             0.5,
             "#f7f7f7"
            ],
            [
             0.6,
             "#e6f5d0"
            ],
            [
             0.7,
             "#b8e186"
            ],
            [
             0.8,
             "#7fbc41"
            ],
            [
             0.9,
             "#4d9221"
            ],
            [
             1,
             "#276419"
            ]
           ],
           "sequential": [
            [
             0,
             "#0d0887"
            ],
            [
             0.1111111111111111,
             "#46039f"
            ],
            [
             0.2222222222222222,
             "#7201a8"
            ],
            [
             0.3333333333333333,
             "#9c179e"
            ],
            [
             0.4444444444444444,
             "#bd3786"
            ],
            [
             0.5555555555555556,
             "#d8576b"
            ],
            [
             0.6666666666666666,
             "#ed7953"
            ],
            [
             0.7777777777777778,
             "#fb9f3a"
            ],
            [
             0.8888888888888888,
             "#fdca26"
            ],
            [
             1,
             "#f0f921"
            ]
           ],
           "sequentialminus": [
            [
             0,
             "#0d0887"
            ],
            [
             0.1111111111111111,
             "#46039f"
            ],
            [
             0.2222222222222222,
             "#7201a8"
            ],
            [
             0.3333333333333333,
             "#9c179e"
            ],
            [
             0.4444444444444444,
             "#bd3786"
            ],
            [
             0.5555555555555556,
             "#d8576b"
            ],
            [
             0.6666666666666666,
             "#ed7953"
            ],
            [
             0.7777777777777778,
             "#fb9f3a"
            ],
            [
             0.8888888888888888,
             "#fdca26"
            ],
            [
             1,
             "#f0f921"
            ]
           ]
          },
          "colorway": [
           "#636efa",
           "#EF553B",
           "#00cc96",
           "#ab63fa",
           "#FFA15A",
           "#19d3f3",
           "#FF6692",
           "#B6E880",
           "#FF97FF",
           "#FECB52"
          ],
          "font": {
           "color": "#2a3f5f"
          },
          "geo": {
           "bgcolor": "white",
           "lakecolor": "white",
           "landcolor": "#E5ECF6",
           "showlakes": true,
           "showland": true,
           "subunitcolor": "white"
          },
          "hoverlabel": {
           "align": "left"
          },
          "hovermode": "closest",
          "mapbox": {
           "style": "light"
          },
          "paper_bgcolor": "white",
          "plot_bgcolor": "#E5ECF6",
          "polar": {
           "angularaxis": {
            "gridcolor": "white",
            "linecolor": "white",
            "ticks": ""
           },
           "bgcolor": "#E5ECF6",
           "radialaxis": {
            "gridcolor": "white",
            "linecolor": "white",
            "ticks": ""
           }
          },
          "scene": {
           "xaxis": {
            "backgroundcolor": "#E5ECF6",
            "gridcolor": "white",
            "gridwidth": 2,
            "linecolor": "white",
            "showbackground": true,
            "ticks": "",
            "zerolinecolor": "white"
           },
           "yaxis": {
            "backgroundcolor": "#E5ECF6",
            "gridcolor": "white",
            "gridwidth": 2,
            "linecolor": "white",
            "showbackground": true,
            "ticks": "",
            "zerolinecolor": "white"
           },
           "zaxis": {
            "backgroundcolor": "#E5ECF6",
            "gridcolor": "white",
            "gridwidth": 2,
            "linecolor": "white",
            "showbackground": true,
            "ticks": "",
            "zerolinecolor": "white"
           }
          },
          "shapedefaults": {
           "line": {
            "color": "#2a3f5f"
           }
          },
          "ternary": {
           "aaxis": {
            "gridcolor": "white",
            "linecolor": "white",
            "ticks": ""
           },
           "baxis": {
            "gridcolor": "white",
            "linecolor": "white",
            "ticks": ""
           },
           "bgcolor": "#E5ECF6",
           "caxis": {
            "gridcolor": "white",
            "linecolor": "white",
            "ticks": ""
           }
          },
          "title": {
           "x": 0.05
          },
          "xaxis": {
           "automargin": true,
           "gridcolor": "white",
           "linecolor": "white",
           "ticks": "",
           "title": {
            "standoff": 15
           },
           "zerolinecolor": "white",
           "zerolinewidth": 2
          },
          "yaxis": {
           "automargin": true,
           "gridcolor": "white",
           "linecolor": "white",
           "ticks": "",
           "title": {
            "standoff": 15
           },
           "zerolinecolor": "white",
           "zerolinewidth": 2
          }
         }
        },
        "title": {
         "font": {
          "color": "#4D5663"
         }
        },
        "xaxis": {
         "gridcolor": "#E1E5ED",
         "showgrid": true,
         "tickfont": {
          "color": "#4D5663"
         },
         "title": {
          "font": {
           "color": "#4D5663"
          },
          "text": "change in log price"
         },
         "zerolinecolor": "#E1E5ED"
        },
        "yaxis": {
         "gridcolor": "#E1E5ED",
         "showgrid": true,
         "tickfont": {
          "color": "#4D5663"
         },
         "title": {
          "font": {
           "color": "#4D5663"
          },
          "text": "change in log cost"
         },
         "zerolinecolor": "#E1E5ED"
        }
       }
      },
      "text/html": [
       "<div>                            <div id=\"574a7d71-86f9-4612-863b-bf5c4a5590a7\" class=\"plotly-graph-div\" style=\"height:525px; width:100%;\"></div>            <script type=\"text/javascript\">                require([\"plotly\"], function(Plotly) {                    window.PLOTLYENV=window.PLOTLYENV || {};\n",
       "                    window.PLOTLYENV.BASE_URL='https://plot.ly';                                    if (document.getElementById(\"574a7d71-86f9-4612-863b-bf5c4a5590a7\")) {                    Plotly.newPlot(                        \"574a7d71-86f9-4612-863b-bf5c4a5590a7\",                        [{\"line\":{\"color\":\"rgba(255, 153, 51, 1.0)\",\"dash\":\"solid\",\"shape\":\"linear\",\"width\":1.3},\"mode\":\"lines\",\"name\":\"Chicken breast\",\"text\":\"\",\"type\":\"scatter\",\"x\":[-0.6931471805599453,-0.5108256237659907,-0.35667494393873245,-0.2231435513142097,-0.10536051565782628,0.0,0.09531017980432493,0.1823215567939546,0.26236426446749106,0.3364722366212129,0.4054651081081644],\"y\":[-3.402207819128045e-07,-3.4031509472470425e-07,-3.4031567659278945e-07,3.932958992189451e-08,-1.3106243572202447e-07,0.0,-3.4031202917584537e-07,-3.402955675603904e-07,-3.402835342930209e-07,-3.402771173127773e-07,-3.402758839655996e-07]},{\"line\":{\"color\":\"rgba(55, 128, 191, 1.0)\",\"dash\":\"solid\",\"shape\":\"linear\",\"width\":1.3},\"mode\":\"lines\",\"name\":\"Chicken thigh\",\"text\":\"\",\"type\":\"scatter\",\"x\":[-0.6931471805599453,-0.5108256237659907,-0.35667494393873245,-0.2231435513142097,-0.10536051565782628,0.0,0.09531017980432493,0.1823215567939546,0.26236426446749106,0.3364722366212129,0.4054651081081644],\"y\":[-3.4031103363852043e-07,-3.4031602864463036e-07,5.314561693834131e-08,-7.361925895661286e-08,-3.6279784723951584e-08,0.0,8.836302254742036e-08,-3.4031165713998324e-07,-3.4030352786218587e-07,-3.4029708701213895e-07,-3.402929237854022e-07]},{\"line\":{\"color\":\"rgba(50, 171, 96, 1.0)\",\"dash\":\"solid\",\"shape\":\"linear\",\"width\":1.3},\"mode\":\"lines\",\"name\":\"Ground Beef\",\"text\":\"\",\"type\":\"scatter\",\"x\":[-0.6931471805599453,-0.5108256237659907,-0.35667494393873245,-0.2231435513142097,-0.10536051565782628,0.0,0.09531017980432493,0.1823215567939546,0.26236426446749106,0.3364722366212129,0.4054651081081644],\"y\":[-3.4017979501830456e-07,-3.4029735801767154e-07,-3.403047056981935e-07,-3.403180009565048e-07,-1.0389833256138532e-07,0.0,-3.403140876410559e-07,-3.403018009096834e-07,-3.4029493839678825e-07,-3.4029356360714903e-07,-3.4029677759287675e-07]},{\"line\":{\"color\":\"rgba(128, 0, 128, 1.0)\",\"dash\":\"solid\",\"shape\":\"linear\",\"width\":1.3},\"mode\":\"lines\",\"name\":\"Eggs\",\"text\":\"\",\"type\":\"scatter\",\"x\":[-0.6931471805599453,-0.5108256237659907,-0.35667494393873245,-0.2231435513142097,-0.10536051565782628,0.0,0.09531017980432493,0.1823215567939546,0.26236426446749106,0.3364722366212129,0.4054651081081644],\"y\":[1.3097546611081305e-07,3.541395847148825e-08,-5.799456894131879e-08,-7.295784798211067e-08,-2.403730809976075e-08,0.0,4.8784845860972704e-08,-3.4031530588919537e-07,-3.4030808000018056e-07,-3.403012843227342e-07,-3.402950596331838e-07]},{\"line\":{\"color\":\"rgba(219, 64, 82, 1.0)\",\"dash\":\"solid\",\"shape\":\"linear\",\"width\":1.3},\"mode\":\"lines\",\"name\":\"Peanut Butter\",\"text\":\"\",\"type\":\"scatter\",\"x\":[-0.6931471805599453,-0.5108256237659907,-0.35667494393873245,-0.2231435513142097,-0.10536051565782628,0.0,0.09531017980432493,0.1823215567939546,0.26236426446749106,0.3364722366212129,0.4054651081081644],\"y\":[-0.12768679185631562,-0.08598819559385038,-0.04595968163220897,-0.024627883250974033,-0.01184812798446169,0.0,0.007275985346142792,0.008620968013530213,0.009964161685865995,0.010950428095933044,0.011259040346799394]},{\"line\":{\"color\":\"rgba(0, 128, 128, 1.0)\",\"dash\":\"solid\",\"shape\":\"linear\",\"width\":1.3},\"mode\":\"lines\",\"name\":\"Chickpeas\",\"text\":\"\",\"type\":\"scatter\",\"x\":[-0.6931471805599453,-0.5108256237659907,-0.35667494393873245,-0.2231435513142097,-0.10536051565782628,0.0,0.09531017980432493,0.1823215567939546,0.26236426446749106,0.3364722366212129,0.4054651081081644],\"y\":[-0.08749484918899876,-0.06777399339756456,-0.04843608612280144,-0.030212303498840295,-0.014000152180038403,0.0,0.012693447619330604,0.024895720565282917,0.036950881456800796,0.037786618726878586,0.03778699711013295]},{\"line\":{\"color\":\"rgba(255, 255, 51, 1.0)\",\"dash\":\"solid\",\"shape\":\"linear\",\"width\":1.3},\"mode\":\"lines\",\"name\":\"Tofu\",\"text\":\"\",\"type\":\"scatter\",\"x\":[-0.6931471805599453,-0.5108256237659907,-0.35667494393873245,-0.2231435513142097,-0.10536051565782628,0.0,0.09531017980432493,0.1823215567939546,0.26236426446749106,0.3364722366212129,0.4054651081081644],\"y\":[-1.417126745332736e-07,-9.860920055970562e-08,-6.244427958721842e-08,-3.4140798438261255e-08,-1.3585489825463845e-08,0.0,7.744780786674483e-09,2.2230448790056338e-08,7.708048257918475e-08,-3.4031869651146645e-07,-3.4031640934023505e-07]},{\"line\":{\"color\":\"rgba(128, 128, 0, 1.0)\",\"dash\":\"solid\",\"shape\":\"linear\",\"width\":1.3},\"mode\":\"lines\",\"name\":\"Pork Loin\",\"text\":\"\",\"type\":\"scatter\",\"x\":[-0.6931471805599453,-0.5108256237659907,-0.35667494393873245,-0.2231435513142097,-0.10536051565782628,0.0,0.09531017980432493,0.1823215567939546,0.26236426446749106,0.3364722366212129,0.4054651081081644],\"y\":[0.0,0.0,0.0,0.0,0.0,0.0,0.0,0.0,0.0,0.0,0.0]},{\"line\":{\"color\":\"rgba(251, 128, 114, 1.0)\",\"dash\":\"solid\",\"shape\":\"linear\",\"width\":1.3},\"mode\":\"lines\",\"name\":\"Ground Pork\",\"text\":\"\",\"type\":\"scatter\",\"x\":[-0.6931471805599453,-0.5108256237659907,-0.35667494393873245,-0.2231435513142097,-0.10536051565782628,0.0,0.09531017980432493,0.1823215567939546,0.26236426446749106,0.3364722366212129,0.4054651081081644],\"y\":[-3.397027759872965e-07,-3.402164872356172e-07,-3.4026452127316537e-07,-3.402997714213037e-07,-1.9260725089367853e-08,0.0,-3.403161744169631e-07,-3.403095192937995e-07,-3.403094798808687e-07,-3.403135531795099e-07,-3.403195338419566e-07]},{\"line\":{\"color\":\"rgba(128, 177, 211, 1.0)\",\"dash\":\"solid\",\"shape\":\"linear\",\"width\":1.3},\"mode\":\"lines\",\"name\":\"Ground Turkey\",\"text\":\"\",\"type\":\"scatter\",\"x\":[-0.6931471805599453,-0.5108256237659907,-0.35667494393873245,-0.2231435513142097,-0.10536051565782628,0.0,0.09531017980432493,0.1823215567939546,0.26236426446749106,0.3364722366212129,0.4054651081081644],\"y\":[-3.4026555089434876e-07,-3.402759731165388e-07,-3.4029381973568795e-07,-3.4031422974965137e-07,-8.949147446069953e-08,0.0,-3.4031594515583053e-07,-3.4030551160936136e-07,-3.40299850802277e-07,-3.4029886359162753e-07,-3.4030156099040613e-07]},{\"line\":{\"color\":\"rgba(128, 177, 211, 0.8999999999999999)\",\"dash\":\"solid\",\"shape\":\"linear\",\"width\":1.3},\"mode\":\"lines\",\"name\":\"Black Beans\",\"text\":\"\",\"type\":\"scatter\",\"x\":[-0.6931471805599453,-0.5108256237659907,-0.35667494393873245,-0.2231435513142097,-0.10536051565782628,0.0,0.09531017980432493,0.1823215567939546,0.26236426446749106,0.3364722366212129,0.4054651081081644],\"y\":[-0.02907199145897212,-0.022816534838212436,-0.016690566204699893,-0.010601068600733822,-0.005049133577347602,0.0,0.0008113560534777006,0.0014707132140405932,0.0021261045920549382,0.0027507260619411104,0.0033281103782546936]},{\"line\":{\"color\":\"rgba(255, 153, 51, 0.8999999999999999)\",\"dash\":\"solid\",\"shape\":\"linear\",\"width\":1.3},\"mode\":\"lines\",\"name\":\"Pinto Beans\",\"text\":\"\",\"type\":\"scatter\",\"x\":[-0.6931471805599453,-0.5108256237659907,-0.35667494393873245,-0.2231435513142097,-0.10536051565782628,0.0,0.09531017980432493,0.1823215567939546,0.26236426446749106,0.3364722366212129,0.4054651081081644],\"y\":[-0.015094034441210694,-0.012008973735643724,-0.008949477633611964,-0.005906687082125835,-0.002873049189850423,0.0,0.0007834669103559758,0.0012219323188741307,0.0014653467206857868,0.0014653448955935352,0.0014653599110841032]},{\"line\":{\"color\":\"rgba(55, 128, 191, 0.8999999999999999)\",\"dash\":\"solid\",\"shape\":\"linear\",\"width\":1.3},\"mode\":\"lines\",\"name\":\"Lentils\",\"text\":\"\",\"type\":\"scatter\",\"x\":[-0.6931471805599453,-0.5108256237659907,-0.35667494393873245,-0.2231435513142097,-0.10536051565782628,0.0,0.09531017980432493,0.1823215567939546,0.26236426446749106,0.3364722366212129,0.4054651081081644],\"y\":[1.0945390311929614e-08,4.723957113815459e-08,5.159633498348347e-08,4.0109325722381454e-08,2.14375461749281e-08,0.0,-2.200497763790484e-08,-4.35172628519777e-08,-6.405760172078654e-08,-8.344379691193787e-08,-1.016443664269324e-07]},{\"line\":{\"color\":\"rgba(50, 171, 96, 0.8999999999999999)\",\"dash\":\"solid\",\"shape\":\"linear\",\"width\":1.3},\"mode\":\"lines\",\"name\":\"Sliced Turkey\",\"text\":\"\",\"type\":\"scatter\",\"x\":[-0.6931471805599453,-0.5108256237659907,-0.35667494393873245,-0.2231435513142097,-0.10536051565782628,0.0,0.09531017980432493,0.1823215567939546,0.26236426446749106,0.3364722366212129,0.4054651081081644],\"y\":[-0.11611052668028643,-0.09172231068730362,-0.06792717615264157,-0.04468597095028984,-0.021998587784157034,0.0,0.01709191853886505,0.03285290029647601,0.04410594824343179,0.05027128409020456,0.056398842322766596]},{\"line\":{\"color\":\"rgba(128, 0, 128, 0.8999999999999999)\",\"dash\":\"solid\",\"shape\":\"linear\",\"width\":1.3},\"mode\":\"lines\",\"name\":\"Sliced Ham\",\"text\":\"\",\"type\":\"scatter\",\"x\":[-0.6931471805599453,-0.5108256237659907,-0.35667494393873245,-0.2231435513142097,-0.10536051565782628,0.0,0.09531017980432493,0.1823215567939546,0.26236426446749106,0.3364722366212129,0.4054651081081644],\"y\":[-3.402848450227698e-07,-3.40303985052183e-07,-3.4031216617741325e-07,4.892865792730752e-08,-6.882653828354701e-08,0.0,-3.403161487708025e-07,-3.4030382362570027e-07,-3.4029432299995627e-07,-3.4028853651558284e-07,-3.4028665524202746e-07]},{\"line\":{\"color\":\"rgba(219, 64, 82, 0.8999999999999999)\",\"dash\":\"solid\",\"shape\":\"linear\",\"width\":1.3},\"mode\":\"lines\",\"name\":\"Salmon\",\"text\":\"\",\"type\":\"scatter\",\"x\":[-0.6931471805599453,-0.5108256237659907,-0.35667494393873245,-0.2231435513142097,-0.10536051565782628,0.0,0.09531017980432493,0.1823215567939546,0.26236426446749106,0.3364722366212129,0.4054651081081644],\"y\":[-3.4026840683302906e-07,-3.4030311341578975e-07,-3.40315144240668e-07,-3.4031512148108825e-07,1.0276273081823782e-07,0.0,-1.5321360821378e-07,-3.7736962378684797e-08,-3.403129447770854e-07,-3.400189780482708e-07,-3.38680995757791e-07]},{\"line\":{\"color\":\"rgba(0, 128, 128, 0.8999999999999999)\",\"dash\":\"solid\",\"shape\":\"linear\",\"width\":1.3},\"mode\":\"lines\",\"name\":\"Halibut\",\"text\":\"\",\"type\":\"scatter\",\"x\":[-0.6931471805599453,-0.5108256237659907,-0.35667494393873245,-0.2231435513142097,-0.10536051565782628,0.0,0.09531017980432493,0.1823215567939546,0.26236426446749106,0.3364722366212129,0.4054651081081644],\"y\":[-3.246772671548359e-07,-3.4010395554667393e-07,2.0471139331110145e-07,-3.3943620601949444e-07,-3.3735696275997775e-07,0.0,-3.064106945762345e-07,-3.398916367563236e-07,-3.4022409437534776e-07,-3.38571661512414e-07,-3.356121215675325e-07]},{\"line\":{\"color\":\"rgba(255, 255, 51, 0.8999999999999999)\",\"dash\":\"solid\",\"shape\":\"linear\",\"width\":1.3},\"mode\":\"lines\",\"name\":\"Shrimp\",\"text\":\"\",\"type\":\"scatter\",\"x\":[-0.6931471805599453,-0.5108256237659907,-0.35667494393873245,-0.2231435513142097,-0.10536051565782628,0.0,0.09531017980432493,0.1823215567939546,0.26236426446749106,0.3364722366212129,0.4054651081081644],\"y\":[-3.4024608390414433e-07,-3.402478951226029e-07,-3.402527795504617e-07,-3.4026532074503745e-07,-3.4029220758028533e-07,0.0,-1.1341748761630421e-07,-9.370802528907217e-08,-3.3938678731135985e-07,-3.402104415140798e-07,-3.402533445431512e-07]},{\"line\":{\"color\":\"rgba(128, 128, 0, 0.8999999999999999)\",\"dash\":\"solid\",\"shape\":\"linear\",\"width\":1.3},\"mode\":\"lines\",\"name\":\"Tuna\",\"text\":\"\",\"type\":\"scatter\",\"x\":[-0.6931471805599453,-0.5108256237659907,-0.35667494393873245,-0.2231435513142097,-0.10536051565782628,0.0,0.09531017980432493,0.1823215567939546,0.26236426446749106,0.3364722366212129,0.4054651081081644],\"y\":[-0.0274679716652045,-0.003509532347048138,-3.402956295108563e-07,-3.4018334395843236e-07,-3.4024499666236637e-07,0.0,-1.692638021858393e-08,3.503241690597643e-09,3.58660474882521e-08,6.53766466242198e-08,8.936119333800579e-08]},{\"line\":{\"color\":\"rgba(251, 128, 114, 0.8999999999999999)\",\"dash\":\"solid\",\"shape\":\"linear\",\"width\":1.3},\"mode\":\"lines\",\"name\":\"Almond Milk\",\"text\":\"\",\"type\":\"scatter\",\"x\":[-0.6931471805599453,-0.5108256237659907,-0.35667494393873245,-0.2231435513142097,-0.10536051565782628,0.0,0.09531017980432493,0.1823215567939546,0.26236426446749106,0.3364722366212129,0.4054651081081644],\"y\":[-0.14372967546725665,-0.11324499003318929,-0.08366782057200439,-0.05493995066560919,-0.027083733515607222,0.0,0.026368983021888115,0.05195181254282563,0.07427513764897521,0.09605707894866239,0.1170967472024642]},{\"line\":{\"color\":\"rgba(251, 128, 114, 0.7999999999999998)\",\"dash\":\"solid\",\"shape\":\"linear\",\"width\":1.3},\"mode\":\"lines\",\"name\":\"2% milk\",\"text\":\"\",\"type\":\"scatter\",\"x\":[-0.6931471805599453,-0.5108256237659907,-0.35667494393873245,-0.2231435513142097,-0.10536051565782628,0.0,0.09531017980432493,0.1823215567939546,0.26236426446749106,0.3364722366212129,0.4054651081081644],\"y\":[-7.64019865472029e-08,-5.187335684536543e-08,-3.293351334806322e-08,-1.8382310620547003e-08,-7.548090736507375e-09,0.0,4.583221569531586e-09,6.474852855119767e-09,3.0408893385071885e-08,7.340296123532802e-08,-3.4031928459680275e-07]},{\"line\":{\"color\":\"rgba(128, 177, 211, 0.7999999999999998)\",\"dash\":\"solid\",\"shape\":\"linear\",\"width\":1.3},\"mode\":\"lines\",\"name\":\"Cheddar cheese\",\"text\":\"\",\"type\":\"scatter\",\"x\":[-0.6931471805599453,-0.5108256237659907,-0.35667494393873245,-0.2231435513142097,-0.10536051565782628,0.0,0.09531017980432493,0.1823215567939546,0.26236426446749106,0.3364722366212129,0.4054651081081644],\"y\":[-0.13036369115640323,-0.07225036677076084,-0.03404986878272113,-0.009063880988733298,-0.001333151441904377,0.0,-1.1919393543262119e-08,-2.998837655987411e-07,-3.396762921631593e-07,-1.4966434401553163e-07,-3.4019372698973544e-07]},{\"line\":{\"color\":\"rgba(255, 153, 51, 0.7999999999999998)\",\"dash\":\"solid\",\"shape\":\"linear\",\"width\":1.3},\"mode\":\"lines\",\"name\":\"Unsalted butter\",\"text\":\"\",\"type\":\"scatter\",\"x\":[-0.6931471805599453,-0.5108256237659907,-0.35667494393873245,-0.2231435513142097,-0.10536051565782628,0.0,0.09531017980432493,0.1823215567939546,0.26236426446749106,0.3364722366212129,0.4054651081081644],\"y\":[-1.1798418372192083e-07,-8.707954159415986e-08,-1.1732507032489422e-07,-1.0992995340954592e-07,-3.833113555640539e-08,0.0,9.842009381228828e-09,-1.1584843091543527e-09,-3.075259738629147e-08,-8.353477614368802e-08,-1.656218947028706e-07]},{\"line\":{\"color\":\"rgba(55, 128, 191, 0.7999999999999998)\",\"dash\":\"solid\",\"shape\":\"linear\",\"width\":1.3},\"mode\":\"lines\",\"name\":\"Greek yogurt\",\"text\":\"\",\"type\":\"scatter\",\"x\":[-0.6931471805599453,-0.5108256237659907,-0.35667494393873245,-0.2231435513142097,-0.10536051565782628,0.0,0.09531017980432493,0.1823215567939546,0.26236426446749106,0.3364722366212129,0.4054651081081644],\"y\":[-8.891871944980295e-09,-3.2617286654702897e-10,3.7012641771809276e-09,4.5067469654523276e-09,3.035256930073927e-09,0.0,-4.094116831719719e-09,-8.954326986676362e-09,-1.4506674300446688e-08,-2.0901555260745012e-08,-2.8516683643601582e-08]},{\"line\":{\"color\":\"rgba(50, 171, 96, 0.7999999999999998)\",\"dash\":\"solid\",\"shape\":\"linear\",\"width\":1.3},\"mode\":\"lines\",\"name\":\"Oat Milk\",\"text\":\"\",\"type\":\"scatter\",\"x\":[-0.6931471805599453,-0.5108256237659907,-0.35667494393873245,-0.2231435513142097,-0.10536051565782628,0.0,0.09531017980432493,0.1823215567939546,0.26236426446749106,0.3364722366212129,0.4054651081081644],\"y\":[-0.07129968303565126,-0.05120182926950906,-0.031499954809303496,-0.015306017752693421,-0.006925492270308644,0.0,0.0017825200201076218,0.0033256630783259256,0.004858624682328485,0.005963269888600919,0.0059632645140172405]},{\"line\":{\"color\":\"rgba(128, 0, 128, 0.7999999999999998)\",\"dash\":\"solid\",\"shape\":\"linear\",\"width\":1.3},\"mode\":\"lines\",\"name\":\"Wheat Cereal\",\"text\":\"\",\"type\":\"scatter\",\"x\":[-0.6931471805599453,-0.5108256237659907,-0.35667494393873245,-0.2231435513142097,-0.10536051565782628,0.0,0.09531017980432493,0.1823215567939546,0.26236426446749106,0.3364722366212129,0.4054651081081644],\"y\":[-0.006145665271162162,-0.0031077651684389865,-7.931219470972106e-05,-3.401172099487614e-07,-3.725731703724046e-08,0.0,-3.333383793896531e-07,-3.352678908080744e-07,-3.288643368817442e-07,-3.268421754466083e-07,-3.3514270779101537e-07]},{\"line\":{\"color\":\"rgba(219, 64, 82, 0.7999999999999998)\",\"dash\":\"solid\",\"shape\":\"linear\",\"width\":1.3},\"mode\":\"lines\",\"name\":\"Granola\",\"text\":\"\",\"type\":\"scatter\",\"x\":[-0.6931471805599453,-0.5108256237659907,-0.35667494393873245,-0.2231435513142097,-0.10536051565782628,0.0,0.09531017980432493,0.1823215567939546,0.26236426446749106,0.3364722366212129,0.4054651081081644],\"y\":[-3.401767665509078e-07,-3.40246314497545e-07,-3.4029125234406984e-07,-3.403169398049768e-07,9.740702747387967e-08,0.0,-1.3017829229242022e-07,-2.8042684720558525e-07,-2.861551824136241e-07,-2.490391102151812e-08,-3.4029940704598305e-07]},{\"line\":{\"color\":\"rgba(0, 128, 128, 0.7999999999999998)\",\"dash\":\"solid\",\"shape\":\"linear\",\"width\":1.3},\"mode\":\"lines\",\"name\":\"Brown Rice\",\"text\":\"\",\"type\":\"scatter\",\"x\":[-0.6931471805599453,-0.5108256237659907,-0.35667494393873245,-0.2231435513142097,-0.10536051565782628,0.0,0.09531017980432493,0.1823215567939546,0.26236426446749106,0.3364722366212129,0.4054651081081644],\"y\":[-3.2556495136980566e-07,-2.923938873279956e-07,-2.454485804958398e-07,-1.7332446725574203e-07,-7.801143280338566e-08,0.0,6.77219697370665e-08,-3.403124785942787e-07,-3.4030265833521705e-07,-3.4029267587251646e-07,-3.4028291390018364e-07]},{\"line\":{\"color\":\"rgba(255, 255, 51, 0.7999999999999998)\",\"dash\":\"solid\",\"shape\":\"linear\",\"width\":1.3},\"mode\":\"lines\",\"name\":\"Jasmine Rice\",\"text\":\"\",\"type\":\"scatter\",\"x\":[-0.6931471805599453,-0.5108256237659907,-0.35667494393873245,-0.2231435513142097,-0.10536051565782628,0.0,0.09531017980432493,0.1823215567939546,0.26236426446749106,0.3364722366212129,0.4054651081081644],\"y\":[-1.9184005614560874e-07,-1.0782851526817129e-07,-4.74463330999762e-08,-1.15668407743624e-08,2.8572624225767612e-09,0.0,-1.577245235754994e-08,1.3863128770993346e-08,4.993657629288008e-08,7.285905790831443e-08,8.290119513626722e-08]},{\"line\":{\"color\":\"rgba(128, 128, 0, 0.7999999999999998)\",\"dash\":\"solid\",\"shape\":\"linear\",\"width\":1.3},\"mode\":\"lines\",\"name\":\"Potatoes\",\"text\":\"\",\"type\":\"scatter\",\"x\":[-0.6931471805599453,-0.5108256237659907,-0.35667494393873245,-0.2231435513142097,-0.10536051565782628,0.0,0.09531017980432493,0.1823215567939546,0.26236426446749106,0.3364722366212129,0.4054651081081644],\"y\":[-3.397872407845057e-07,-3.12255339931091e-07,-3.33546313129269e-07,-2.183574097904181e-07,-3.402959415946547e-07,0.0,7.962279096586406e-08,-3.4031481450431744e-07,-3.403069491266228e-07,-3.402988951219722e-07,-3.402907771684536e-07]},{\"line\":{\"color\":\"rgba(128, 128, 0, 0.7)\",\"dash\":\"solid\",\"shape\":\"linear\",\"width\":1.3},\"mode\":\"lines\",\"name\":\"Bananas\",\"text\":\"\",\"type\":\"scatter\",\"x\":[-0.6931471805599453,-0.5108256237659907,-0.35667494393873245,-0.2231435513142097,-0.10536051565782628,0.0,0.09531017980432493,0.1823215567939546,0.26236426446749106,0.3364722366212129,0.4054651081081644],\"y\":[-0.11914585878494026,-0.0920873989787194,-0.0661435010464468,-0.0410607479463206,-0.019411016952055986,0.0,0.0028663495001164372,0.0028663420790484674,0.002866346837946828,0.0028663488979252007,0.002866363618253678]},{\"line\":{\"color\":\"rgba(251, 128, 114, 0.7)\",\"dash\":\"solid\",\"shape\":\"linear\",\"width\":1.3},\"mode\":\"lines\",\"name\":\"Apples\",\"text\":\"\",\"type\":\"scatter\",\"x\":[-0.6931471805599453,-0.5108256237659907,-0.35667494393873245,-0.2231435513142097,-0.10536051565782628,0.0,0.09531017980432493,0.1823215567939546,0.26236426446749106,0.3364722366212129,0.4054651081081644],\"y\":[-3.063848970930631e-07,-2.979096399230573e-07,-2.861673436890936e-07,-2.21334991959713e-07,-1.2102930268755192e-07,0.0,-3.403192408540007e-07,-3.403072994021063e-07,-3.4029353962632354e-07,-3.4027956213573176e-07,-3.40266776580985e-07]},{\"line\":{\"color\":\"rgba(128, 177, 211, 0.7)\",\"dash\":\"solid\",\"shape\":\"linear\",\"width\":1.3},\"mode\":\"lines\",\"name\":\"Avocados\",\"text\":\"\",\"type\":\"scatter\",\"x\":[-0.6931471805599453,-0.5108256237659907,-0.35667494393873245,-0.2231435513142097,-0.10536051565782628,0.0,0.09531017980432493,0.1823215567939546,0.26236426446749106,0.3364722366212129,0.4054651081081644],\"y\":[-0.08393392372354741,-0.057153777093294805,-0.03891546168478572,-0.02360577352703063,-0.009621187110832513,0.0,-3.326256963506801e-07,-3.3921303779314205e-07,-3.3970184184532624e-07,-3.402672497581991e-07,-3.4030294965783787e-07]},{\"line\":{\"color\":\"rgba(255, 153, 51, 0.7)\",\"dash\":\"solid\",\"shape\":\"linear\",\"width\":1.3},\"mode\":\"lines\",\"name\":\"Blue Berries\",\"text\":\"\",\"type\":\"scatter\",\"x\":[-0.6931471805599453,-0.5108256237659907,-0.35667494393873245,-0.2231435513142097,-0.10536051565782628,0.0,0.09531017980432493,0.1823215567939546,0.26236426446749106,0.3364722366212129,0.4054651081081644],\"y\":[-3.392920560563477e-07,-3.400556377360319e-07,-3.40294168234814e-07,-3.4031562740989273e-07,2.6733038314294795e-08,0.0,7.524017969825944e-08,-3.4031800339899633e-07,-3.403185895969528e-07,6.648680251817977e-08,-2.018589060738069e-08]},{\"line\":{\"color\":\"rgba(55, 128, 191, 0.7)\",\"dash\":\"solid\",\"shape\":\"linear\",\"width\":1.3},\"mode\":\"lines\",\"name\":\"Tomatoes\",\"text\":\"\",\"type\":\"scatter\",\"x\":[-0.6931471805599453,-0.5108256237659907,-0.35667494393873245,-0.2231435513142097,-0.10536051565782628,0.0,0.09531017980432493,0.1823215567939546,0.26236426446749106,0.3364722366212129,0.4054651081081644],\"y\":[-3.403102482664855e-07,-3.4029259871199e-07,-3.3882429950857355e-07,-2.3012903821537643e-07,-3.402345472397033e-07,0.0,-1.745272037088616e-07,1.7888933044646692e-07,-2.2554256274793882e-07,-3.4030362100992935e-07,-3.3966438446206397e-07]},{\"line\":{\"color\":\"rgba(50, 171, 96, 0.7)\",\"dash\":\"solid\",\"shape\":\"linear\",\"width\":1.3},\"mode\":\"lines\",\"name\":\"Kale\",\"text\":\"\",\"type\":\"scatter\",\"x\":[-0.6931471805599453,-0.5108256237659907,-0.35667494393873245,-0.2231435513142097,-0.10536051565782628,0.0,0.09531017980432493,0.1823215567939546,0.26236426446749106,0.3364722366212129,0.4054651081081644],\"y\":[-0.010863559896852526,-0.0086285040120122,-0.006397897954061327,-0.004180593644790768,-0.001969356411558644,0.0,-1.4711797685357802e-07,-5.27453186160235e-08,1.4688618552942118e-07,-3.4029504764277103e-07,-3.4023116316775054e-07]},{\"line\":{\"color\":\"rgba(128, 0, 128, 0.7)\",\"dash\":\"solid\",\"shape\":\"linear\",\"width\":1.3},\"mode\":\"lines\",\"name\":\"Garlic\",\"text\":\"\",\"type\":\"scatter\",\"x\":[-0.6931471805599453,-0.5108256237659907,-0.35667494393873245,-0.2231435513142097,-0.10536051565782628,0.0,0.09531017980432493,0.1823215567939546,0.26236426446749106,0.3364722366212129,0.4054651081081644],\"y\":[-3.287747165411031e-07,-3.36597875377693e-07,-3.3398907466016114e-07,-3.064559006512038e-07,-1.8669602730167895e-07,0.0,-3.403146692870964e-07,-3.4030454971180544e-07,-3.402907641788398e-07,-3.402757187643573e-07,-3.402608251174141e-07]},{\"line\":{\"color\":\"rgba(219, 64, 82, 0.7)\",\"dash\":\"solid\",\"shape\":\"linear\",\"width\":1.3},\"mode\":\"lines\",\"name\":\"Red Onion\",\"text\":\"\",\"type\":\"scatter\",\"x\":[-0.6931471805599453,-0.5108256237659907,-0.35667494393873245,-0.2231435513142097,-0.10536051565782628,0.0,0.09531017980432493,0.1823215567939546,0.26236426446749106,0.3364722366212129,0.4054651081081644],\"y\":[-8.711501022528369e-08,-5.367450261746844e-08,-3.5154170304265596e-08,-2.195703842869238e-08,-1.058996707049198e-08,0.0,1.0009980572072209e-08,1.9397534057381105e-08,2.8103653009535546e-08,3.911733504988139e-08,7.329098770199091e-08]},{\"line\":{\"color\":\"rgba(0, 128, 128, 0.7)\",\"dash\":\"solid\",\"shape\":\"linear\",\"width\":1.3},\"mode\":\"lines\",\"name\":\"Yellow Onion\",\"text\":\"\",\"type\":\"scatter\",\"x\":[-0.6931471805599453,-0.5108256237659907,-0.35667494393873245,-0.2231435513142097,-0.10536051565782628,0.0,0.09531017980432493,0.1823215567939546,0.26236426446749106,0.3364722366212129,0.4054651081081644],\"y\":[-1.219553352729832e-07,-1.4179620694833138e-07,-1.278750966941011e-07,-8.007946071590086e-08,-3.568947723313725e-08,0.0,2.3688936087477504e-08,-3.403179428918209e-07,-3.4031111401869473e-07,-3.4030395019116817e-07,-3.4029660384291426e-07]},{\"line\":{\"color\":\"rgba(255, 255, 51, 0.7)\",\"dash\":\"solid\",\"shape\":\"linear\",\"width\":1.3},\"mode\":\"lines\",\"name\":\"White Onion\",\"text\":\"\",\"type\":\"scatter\",\"x\":[-0.6931471805599453,-0.5108256237659907,-0.35667494393873245,-0.2231435513142097,-0.10536051565782628,0.0,0.09531017980432493,0.1823215567939546,0.26236426446749106,0.3364722366212129,0.4054651081081644],\"y\":[-1.1236808626525647e-07,-8.797213944575719e-08,-6.440828245000732e-08,-4.100827583881721e-08,-1.904590814324098e-08,0.0,1.5004727569995072e-08,4.745954183605411e-08,-3.4031890556653313e-07,-3.403147649883537e-07,-3.4031061852599023e-07]},{\"line\":{\"color\":\"rgba(255, 255, 51, 0.5999999999999999)\",\"dash\":\"solid\",\"shape\":\"linear\",\"width\":1.3},\"mode\":\"lines\",\"name\":\"Cauliflower\",\"text\":\"\",\"type\":\"scatter\",\"x\":[-0.6931471805599453,-0.5108256237659907,-0.35667494393873245,-0.2231435513142097,-0.10536051565782628,0.0,0.09531017980432493,0.1823215567939546,0.26236426446749106,0.3364722366212129,0.4054651081081644],\"y\":[0.0,0.0,0.0,0.0,0.0,0.0,0.0,0.0,0.0,0.0,0.0]},{\"line\":{\"color\":\"rgba(128, 128, 0, 0.5999999999999999)\",\"dash\":\"solid\",\"shape\":\"linear\",\"width\":1.3},\"mode\":\"lines\",\"name\":\"Broccoli\",\"text\":\"\",\"type\":\"scatter\",\"x\":[-0.6931471805599453,-0.5108256237659907,-0.35667494393873245,-0.2231435513142097,-0.10536051565782628,0.0,0.09531017980432493,0.1823215567939546,0.26236426446749106,0.3364722366212129,0.4054651081081644],\"y\":[-0.055074388916015585,-0.02991825289191427,-0.017033307398783525,-0.01120688985335514,-0.005414225067676185,0.0,0.00026209922867718376,0.0002620970011549456,0.0002620969738197604,0.00026209696882018236,0.00026209696704739883]},{\"line\":{\"color\":\"rgba(251, 128, 114, 0.5999999999999999)\",\"dash\":\"solid\",\"shape\":\"linear\",\"width\":1.3},\"mode\":\"lines\",\"name\":\"Carrots\",\"text\":\"\",\"type\":\"scatter\",\"x\":[-0.6931471805599453,-0.5108256237659907,-0.35667494393873245,-0.2231435513142097,-0.10536051565782628,0.0,0.09531017980432493,0.1823215567939546,0.26236426446749106,0.3364722366212129,0.4054651081081644],\"y\":[-4.20784064034012e-09,-3.873720397317935e-08,-9.54502921181273e-08,-1.5651224386742847e-07,-6.135081198079795e-08,0.0,8.932908635713605e-08,-3.40310866771943e-07,-3.4030089896419123e-07,-3.402912202586135e-07,-3.4028213785402536e-07]},{\"line\":{\"color\":\"rgba(128, 177, 211, 0.5999999999999999)\",\"dash\":\"solid\",\"shape\":\"linear\",\"width\":1.3},\"mode\":\"lines\",\"name\":\"Sweet Potatoes\",\"text\":\"\",\"type\":\"scatter\",\"x\":[-0.6931471805599453,-0.5108256237659907,-0.35667494393873245,-0.2231435513142097,-0.10536051565782628,0.0,0.09531017980432493,0.1823215567939546,0.26236426446749106,0.3364722366212129,0.4054651081081644],\"y\":[-3.4030924606782015e-07,-3.4031798263781867e-07,1.3595293770403034e-09,-1.5947179259936582e-08,9.227287336050024e-09,0.0,1.7503492058004402e-08,-3.403195625967427e-07,-3.403160424114006e-07,-3.4031368285360335e-07,-3.4031251867334353e-07]},{\"line\":{\"color\":\"rgba(255, 153, 51, 0.5999999999999999)\",\"dash\":\"solid\",\"shape\":\"linear\",\"width\":1.3},\"mode\":\"lines\",\"name\":\"Romaine Lettuce\",\"text\":\"\",\"type\":\"scatter\",\"x\":[-0.6931471805599453,-0.5108256237659907,-0.35667494393873245,-0.2231435513142097,-0.10536051565782628,0.0,0.09531017980432493,0.1823215567939546,0.26236426446749106,0.3364722366212129,0.4054651081081644],\"y\":[0.0,0.0,0.0,0.0,0.0,0.0,0.0,0.0,0.0,0.0,0.0]},{\"line\":{\"color\":\"rgba(55, 128, 191, 0.5999999999999999)\",\"dash\":\"solid\",\"shape\":\"linear\",\"width\":1.3},\"mode\":\"lines\",\"name\":\"Spinach\",\"text\":\"\",\"type\":\"scatter\",\"x\":[-0.6931471805599453,-0.5108256237659907,-0.35667494393873245,-0.2231435513142097,-0.10536051565782628,0.0,0.09531017980432493,0.1823215567939546,0.26236426446749106,0.3364722366212129,0.4054651081081644],\"y\":[-0.009459864471605163,-0.0074057568807160785,-0.005355953173832962,-0.0034732101426612916,-0.001735269158572099,0.0,0.0001816497631068716,0.00018164513934858188,0.00018164123069978915,0.00018163911195269268,0.00018163789191620163]},{\"line\":{\"color\":\"rgba(50, 171, 96, 0.5999999999999999)\",\"dash\":\"solid\",\"shape\":\"linear\",\"width\":1.3},\"mode\":\"lines\",\"name\":\"Cucumbers\",\"text\":\"\",\"type\":\"scatter\",\"x\":[-0.6931471805599453,-0.5108256237659907,-0.35667494393873245,-0.2231435513142097,-0.10536051565782628,0.0,0.09531017980432493,0.1823215567939546,0.26236426446749106,0.3364722366212129,0.4054651081081644],\"y\":[-0.008078441098504452,-0.0003234179045871341,-3.402633927310768e-07,-3.4011987992502143e-07,-3.3942049513711796e-07,0.0,-3.402096048497238e-07,-3.4008237235964573e-07,-3.3964836815722605e-07,-3.3955876069420995e-07,-3.394657880330495e-07]},{\"line\":{\"color\":\"rgba(128, 0, 128, 0.5999999999999999)\",\"dash\":\"solid\",\"shape\":\"linear\",\"width\":1.3},\"mode\":\"lines\",\"name\":\"Cremini Mushrooms\",\"text\":\"\",\"type\":\"scatter\",\"x\":[-0.6931471805599453,-0.5108256237659907,-0.35667494393873245,-0.2231435513142097,-0.10536051565782628,0.0,0.09531017980432493,0.1823215567939546,0.26236426446749106,0.3364722366212129,0.4054651081081644],\"y\":[-3.3111177319435015e-07,9.321661399293806e-09,-3.3530089974806527e-07,-1.579870953404828e-07,-3.388071189124687e-07,0.0,-3.402360600301113e-07,-3.3913944619090503e-07,1.3574202173595572e-07,-3.40304451346012e-07,-3.3981061287449505e-07]},{\"line\":{\"color\":\"rgba(219, 64, 82, 0.5999999999999999)\",\"dash\":\"solid\",\"shape\":\"linear\",\"width\":1.3},\"mode\":\"lines\",\"name\":\"Jalepenos\",\"text\":\"\",\"type\":\"scatter\",\"x\":[-0.6931471805599453,-0.5108256237659907,-0.35667494393873245,-0.2231435513142097,-0.10536051565782628,0.0,0.09531017980432493,0.1823215567939546,0.26236426446749106,0.3364722366212129,0.4054651081081644],\"y\":[-0.04960591095573754,-0.011507151435660112,-0.006592464795939419,-0.0023896650633174186,-3.2202329503169693e-07,0.0,-3.002943647212027e-07,-2.8416084514913536e-07,-2.8545400254334174e-07,-3.402884052871767e-07,-3.3988413741928795e-07]},{\"line\":{\"color\":\"rgba(0, 128, 128, 0.5999999999999999)\",\"dash\":\"solid\",\"shape\":\"linear\",\"width\":1.3},\"mode\":\"lines\",\"name\":\"Olive Oil\",\"text\":\"\",\"type\":\"scatter\",\"x\":[-0.6931471805599453,-0.5108256237659907,-0.35667494393873245,-0.2231435513142097,-0.10536051565782628,0.0,0.09531017980432493,0.1823215567939546,0.26236426446749106,0.3364722366212129,0.4054651081081644],\"y\":[-1.9236158573205872e-07,-1.522489535990302e-07,-1.610666890788403e-07,-8.36726871711584e-08,-2.741007813873543e-08,0.0,2.9237023870257805e-09,-1.485067002629344e-08,-5.450882427439615e-08,-1.2115568693926573e-07,-2.1462988191864246e-07]},{\"line\":{\"color\":\"rgba(0, 128, 128, 0.49999999999999983)\",\"dash\":\"solid\",\"shape\":\"linear\",\"width\":1.3},\"mode\":\"lines\",\"name\":\"Vegetable Oil\",\"text\":\"\",\"type\":\"scatter\",\"x\":[-0.6931471805599453,-0.5108256237659907,-0.35667494393873245,-0.2231435513142097,-0.10536051565782628,0.0,0.09531017980432493,0.1823215567939546,0.26236426446749106,0.3364722366212129,0.4054651081081644],\"y\":[-0.0008758422671440216,-0.00020039458748296622,-3.3363536758947335e-07,-1.4751509147553472e-07,-3.403125494265318e-07,0.0,-1.3227447757084798e-07,-3.0296388824040254e-07,-2.318192582366967e-07,-4.42396327142933e-08,-3.400206414959942e-07]},{\"line\":{\"color\":\"rgba(255, 255, 51, 0.49999999999999983)\",\"dash\":\"solid\",\"shape\":\"linear\",\"width\":1.3},\"mode\":\"lines\",\"name\":\"Salt\",\"text\":\"\",\"type\":\"scatter\",\"x\":[-0.6931471805599453,-0.5108256237659907,-0.35667494393873245,-0.2231435513142097,-0.10536051565782628,0.0,0.09531017980432493,0.1823215567939546,0.26236426446749106,0.3364722366212129,0.4054651081081644],\"y\":[2.4330650975507737e-08,1.917968898627095e-08,1.4178850659640441e-08,9.320185912907832e-09,4.59624914848735e-09,0.0,-4.474909119942942e-09,-8.8348461159711e-09,-1.3085307811869795e-08,-1.7231685005254315e-08,-2.1279035760015442e-08]},{\"line\":{\"color\":\"rgba(128, 128, 0, 0.49999999999999983)\",\"dash\":\"solid\",\"shape\":\"linear\",\"width\":1.3},\"mode\":\"lines\",\"name\":\"Tomato Sauce\",\"text\":\"\",\"type\":\"scatter\",\"x\":[-0.6931471805599453,-0.5108256237659907,-0.35667494393873245,-0.2231435513142097,-0.10536051565782628,0.0,0.09531017980432493,0.1823215567939546,0.26236426446749106,0.3364722366212129,0.4054651081081644],\"y\":[-3.4031158086763546e-07,-3.403128215422877e-07,-3.4031679880660464e-07,9.435749954700749e-10,-1.3063833124827954e-07,0.0,-3.4031298052627895e-07,-3.4029519052852295e-07,-3.4027802669676624e-07,-3.402621593838991e-07,-3.402476072416747e-07]},{\"line\":{\"color\":\"rgba(251, 128, 114, 0.49999999999999983)\",\"dash\":\"solid\",\"shape\":\"linear\",\"width\":1.3},\"mode\":\"lines\",\"name\":\"Sugar\",\"text\":\"\",\"type\":\"scatter\",\"x\":[-0.6931471805599453,-0.5108256237659907,-0.35667494393873245,-0.2231435513142097,-0.10536051565782628,0.0,0.09531017980432493,0.1823215567939546,0.26236426446749106,0.3364722366212129,0.4054651081081644],\"y\":[-3.293956691460589e-07,-2.9367343017492163e-07,-2.183925828847645e-07,-1.3445598883365163e-07,-5.912638387165108e-08,0.0,4.139631396364693e-08,6.640329487848521e-08,-3.4031871394197386e-07,-3.4031567337314156e-07,-3.403129629847492e-07]},{\"line\":{\"color\":\"rgba(128, 177, 211, 0.49999999999999983)\",\"dash\":\"solid\",\"shape\":\"linear\",\"width\":1.3},\"mode\":\"lines\",\"name\":\"Honey\",\"text\":\"\",\"type\":\"scatter\",\"x\":[-0.6931471805599453,-0.5108256237659907,-0.35667494393873245,-0.2231435513142097,-0.10536051565782628,0.0,0.09531017980432493,0.1823215567939546,0.26236426446749106,0.3364722366212129,0.4054651081081644],\"y\":[-3.4027470746186006e-07,-3.3777430161999564e-07,-1.115823906686242e-07,-3.402703939108747e-07,-3.402678145288439e-07,0.0,-1.0347091075241998e-07,-3.3992074070769526e-07,-3.398748073238625e-07,-3.402496255167979e-07,-3.3652539755176154e-07]},{\"line\":{\"color\":\"rgba(255, 153, 51, 0.49999999999999983)\",\"dash\":\"solid\",\"shape\":\"linear\",\"width\":1.3},\"mode\":\"lines\",\"name\":\"Bread (white bread)\",\"text\":\"\",\"type\":\"scatter\",\"x\":[-0.6931471805599453,-0.5108256237659907,-0.35667494393873245,-0.2231435513142097,-0.10536051565782628,0.0,0.09531017980432493,0.1823215567939546,0.26236426446749106,0.3364722366212129,0.4054651081081644],\"y\":[0.0,0.0,0.0,0.0,0.0,0.0,0.0,0.0,0.0,0.0,0.0]}],                        {\"legend\":{\"bgcolor\":\"#F5F6F9\",\"font\":{\"color\":\"#4D5663\"}},\"paper_bgcolor\":\"#F5F6F9\",\"plot_bgcolor\":\"#F5F6F9\",\"template\":{\"data\":{\"bar\":[{\"error_x\":{\"color\":\"#2a3f5f\"},\"error_y\":{\"color\":\"#2a3f5f\"},\"marker\":{\"line\":{\"color\":\"#E5ECF6\",\"width\":0.5},\"pattern\":{\"fillmode\":\"overlay\",\"size\":10,\"solidity\":0.2}},\"type\":\"bar\"}],\"barpolar\":[{\"marker\":{\"line\":{\"color\":\"#E5ECF6\",\"width\":0.5},\"pattern\":{\"fillmode\":\"overlay\",\"size\":10,\"solidity\":0.2}},\"type\":\"barpolar\"}],\"carpet\":[{\"aaxis\":{\"endlinecolor\":\"#2a3f5f\",\"gridcolor\":\"white\",\"linecolor\":\"white\",\"minorgridcolor\":\"white\",\"startlinecolor\":\"#2a3f5f\"},\"baxis\":{\"endlinecolor\":\"#2a3f5f\",\"gridcolor\":\"white\",\"linecolor\":\"white\",\"minorgridcolor\":\"white\",\"startlinecolor\":\"#2a3f5f\"},\"type\":\"carpet\"}],\"choropleth\":[{\"colorbar\":{\"outlinewidth\":0,\"ticks\":\"\"},\"type\":\"choropleth\"}],\"contour\":[{\"colorbar\":{\"outlinewidth\":0,\"ticks\":\"\"},\"colorscale\":[[0.0,\"#0d0887\"],[0.1111111111111111,\"#46039f\"],[0.2222222222222222,\"#7201a8\"],[0.3333333333333333,\"#9c179e\"],[0.4444444444444444,\"#bd3786\"],[0.5555555555555556,\"#d8576b\"],[0.6666666666666666,\"#ed7953\"],[0.7777777777777778,\"#fb9f3a\"],[0.8888888888888888,\"#fdca26\"],[1.0,\"#f0f921\"]],\"type\":\"contour\"}],\"contourcarpet\":[{\"colorbar\":{\"outlinewidth\":0,\"ticks\":\"\"},\"type\":\"contourcarpet\"}],\"heatmap\":[{\"colorbar\":{\"outlinewidth\":0,\"ticks\":\"\"},\"colorscale\":[[0.0,\"#0d0887\"],[0.1111111111111111,\"#46039f\"],[0.2222222222222222,\"#7201a8\"],[0.3333333333333333,\"#9c179e\"],[0.4444444444444444,\"#bd3786\"],[0.5555555555555556,\"#d8576b\"],[0.6666666666666666,\"#ed7953\"],[0.7777777777777778,\"#fb9f3a\"],[0.8888888888888888,\"#fdca26\"],[1.0,\"#f0f921\"]],\"type\":\"heatmap\"}],\"heatmapgl\":[{\"colorbar\":{\"outlinewidth\":0,\"ticks\":\"\"},\"colorscale\":[[0.0,\"#0d0887\"],[0.1111111111111111,\"#46039f\"],[0.2222222222222222,\"#7201a8\"],[0.3333333333333333,\"#9c179e\"],[0.4444444444444444,\"#bd3786\"],[0.5555555555555556,\"#d8576b\"],[0.6666666666666666,\"#ed7953\"],[0.7777777777777778,\"#fb9f3a\"],[0.8888888888888888,\"#fdca26\"],[1.0,\"#f0f921\"]],\"type\":\"heatmapgl\"}],\"histogram\":[{\"marker\":{\"pattern\":{\"fillmode\":\"overlay\",\"size\":10,\"solidity\":0.2}},\"type\":\"histogram\"}],\"histogram2d\":[{\"colorbar\":{\"outlinewidth\":0,\"ticks\":\"\"},\"colorscale\":[[0.0,\"#0d0887\"],[0.1111111111111111,\"#46039f\"],[0.2222222222222222,\"#7201a8\"],[0.3333333333333333,\"#9c179e\"],[0.4444444444444444,\"#bd3786\"],[0.5555555555555556,\"#d8576b\"],[0.6666666666666666,\"#ed7953\"],[0.7777777777777778,\"#fb9f3a\"],[0.8888888888888888,\"#fdca26\"],[1.0,\"#f0f921\"]],\"type\":\"histogram2d\"}],\"histogram2dcontour\":[{\"colorbar\":{\"outlinewidth\":0,\"ticks\":\"\"},\"colorscale\":[[0.0,\"#0d0887\"],[0.1111111111111111,\"#46039f\"],[0.2222222222222222,\"#7201a8\"],[0.3333333333333333,\"#9c179e\"],[0.4444444444444444,\"#bd3786\"],[0.5555555555555556,\"#d8576b\"],[0.6666666666666666,\"#ed7953\"],[0.7777777777777778,\"#fb9f3a\"],[0.8888888888888888,\"#fdca26\"],[1.0,\"#f0f921\"]],\"type\":\"histogram2dcontour\"}],\"mesh3d\":[{\"colorbar\":{\"outlinewidth\":0,\"ticks\":\"\"},\"type\":\"mesh3d\"}],\"parcoords\":[{\"line\":{\"colorbar\":{\"outlinewidth\":0,\"ticks\":\"\"}},\"type\":\"parcoords\"}],\"pie\":[{\"automargin\":true,\"type\":\"pie\"}],\"scatter\":[{\"marker\":{\"colorbar\":{\"outlinewidth\":0,\"ticks\":\"\"}},\"type\":\"scatter\"}],\"scatter3d\":[{\"line\":{\"colorbar\":{\"outlinewidth\":0,\"ticks\":\"\"}},\"marker\":{\"colorbar\":{\"outlinewidth\":0,\"ticks\":\"\"}},\"type\":\"scatter3d\"}],\"scattercarpet\":[{\"marker\":{\"colorbar\":{\"outlinewidth\":0,\"ticks\":\"\"}},\"type\":\"scattercarpet\"}],\"scattergeo\":[{\"marker\":{\"colorbar\":{\"outlinewidth\":0,\"ticks\":\"\"}},\"type\":\"scattergeo\"}],\"scattergl\":[{\"marker\":{\"colorbar\":{\"outlinewidth\":0,\"ticks\":\"\"}},\"type\":\"scattergl\"}],\"scattermapbox\":[{\"marker\":{\"colorbar\":{\"outlinewidth\":0,\"ticks\":\"\"}},\"type\":\"scattermapbox\"}],\"scatterpolar\":[{\"marker\":{\"colorbar\":{\"outlinewidth\":0,\"ticks\":\"\"}},\"type\":\"scatterpolar\"}],\"scatterpolargl\":[{\"marker\":{\"colorbar\":{\"outlinewidth\":0,\"ticks\":\"\"}},\"type\":\"scatterpolargl\"}],\"scatterternary\":[{\"marker\":{\"colorbar\":{\"outlinewidth\":0,\"ticks\":\"\"}},\"type\":\"scatterternary\"}],\"surface\":[{\"colorbar\":{\"outlinewidth\":0,\"ticks\":\"\"},\"colorscale\":[[0.0,\"#0d0887\"],[0.1111111111111111,\"#46039f\"],[0.2222222222222222,\"#7201a8\"],[0.3333333333333333,\"#9c179e\"],[0.4444444444444444,\"#bd3786\"],[0.5555555555555556,\"#d8576b\"],[0.6666666666666666,\"#ed7953\"],[0.7777777777777778,\"#fb9f3a\"],[0.8888888888888888,\"#fdca26\"],[1.0,\"#f0f921\"]],\"type\":\"surface\"}],\"table\":[{\"cells\":{\"fill\":{\"color\":\"#EBF0F8\"},\"line\":{\"color\":\"white\"}},\"header\":{\"fill\":{\"color\":\"#C8D4E3\"},\"line\":{\"color\":\"white\"}},\"type\":\"table\"}]},\"layout\":{\"annotationdefaults\":{\"arrowcolor\":\"#2a3f5f\",\"arrowhead\":0,\"arrowwidth\":1},\"autotypenumbers\":\"strict\",\"coloraxis\":{\"colorbar\":{\"outlinewidth\":0,\"ticks\":\"\"}},\"colorscale\":{\"diverging\":[[0,\"#8e0152\"],[0.1,\"#c51b7d\"],[0.2,\"#de77ae\"],[0.3,\"#f1b6da\"],[0.4,\"#fde0ef\"],[0.5,\"#f7f7f7\"],[0.6,\"#e6f5d0\"],[0.7,\"#b8e186\"],[0.8,\"#7fbc41\"],[0.9,\"#4d9221\"],[1,\"#276419\"]],\"sequential\":[[0.0,\"#0d0887\"],[0.1111111111111111,\"#46039f\"],[0.2222222222222222,\"#7201a8\"],[0.3333333333333333,\"#9c179e\"],[0.4444444444444444,\"#bd3786\"],[0.5555555555555556,\"#d8576b\"],[0.6666666666666666,\"#ed7953\"],[0.7777777777777778,\"#fb9f3a\"],[0.8888888888888888,\"#fdca26\"],[1.0,\"#f0f921\"]],\"sequentialminus\":[[0.0,\"#0d0887\"],[0.1111111111111111,\"#46039f\"],[0.2222222222222222,\"#7201a8\"],[0.3333333333333333,\"#9c179e\"],[0.4444444444444444,\"#bd3786\"],[0.5555555555555556,\"#d8576b\"],[0.6666666666666666,\"#ed7953\"],[0.7777777777777778,\"#fb9f3a\"],[0.8888888888888888,\"#fdca26\"],[1.0,\"#f0f921\"]]},\"colorway\":[\"#636efa\",\"#EF553B\",\"#00cc96\",\"#ab63fa\",\"#FFA15A\",\"#19d3f3\",\"#FF6692\",\"#B6E880\",\"#FF97FF\",\"#FECB52\"],\"font\":{\"color\":\"#2a3f5f\"},\"geo\":{\"bgcolor\":\"white\",\"lakecolor\":\"white\",\"landcolor\":\"#E5ECF6\",\"showlakes\":true,\"showland\":true,\"subunitcolor\":\"white\"},\"hoverlabel\":{\"align\":\"left\"},\"hovermode\":\"closest\",\"mapbox\":{\"style\":\"light\"},\"paper_bgcolor\":\"white\",\"plot_bgcolor\":\"#E5ECF6\",\"polar\":{\"angularaxis\":{\"gridcolor\":\"white\",\"linecolor\":\"white\",\"ticks\":\"\"},\"bgcolor\":\"#E5ECF6\",\"radialaxis\":{\"gridcolor\":\"white\",\"linecolor\":\"white\",\"ticks\":\"\"}},\"scene\":{\"xaxis\":{\"backgroundcolor\":\"#E5ECF6\",\"gridcolor\":\"white\",\"gridwidth\":2,\"linecolor\":\"white\",\"showbackground\":true,\"ticks\":\"\",\"zerolinecolor\":\"white\"},\"yaxis\":{\"backgroundcolor\":\"#E5ECF6\",\"gridcolor\":\"white\",\"gridwidth\":2,\"linecolor\":\"white\",\"showbackground\":true,\"ticks\":\"\",\"zerolinecolor\":\"white\"},\"zaxis\":{\"backgroundcolor\":\"#E5ECF6\",\"gridcolor\":\"white\",\"gridwidth\":2,\"linecolor\":\"white\",\"showbackground\":true,\"ticks\":\"\",\"zerolinecolor\":\"white\"}},\"shapedefaults\":{\"line\":{\"color\":\"#2a3f5f\"}},\"ternary\":{\"aaxis\":{\"gridcolor\":\"white\",\"linecolor\":\"white\",\"ticks\":\"\"},\"baxis\":{\"gridcolor\":\"white\",\"linecolor\":\"white\",\"ticks\":\"\"},\"bgcolor\":\"#E5ECF6\",\"caxis\":{\"gridcolor\":\"white\",\"linecolor\":\"white\",\"ticks\":\"\"}},\"title\":{\"x\":0.05},\"xaxis\":{\"automargin\":true,\"gridcolor\":\"white\",\"linecolor\":\"white\",\"ticks\":\"\",\"title\":{\"standoff\":15},\"zerolinecolor\":\"white\",\"zerolinewidth\":2},\"yaxis\":{\"automargin\":true,\"gridcolor\":\"white\",\"linecolor\":\"white\",\"ticks\":\"\",\"title\":{\"standoff\":15},\"zerolinecolor\":\"white\",\"zerolinewidth\":2}}},\"title\":{\"font\":{\"color\":\"#4D5663\"}},\"xaxis\":{\"gridcolor\":\"#E1E5ED\",\"showgrid\":true,\"tickfont\":{\"color\":\"#4D5663\"},\"title\":{\"font\":{\"color\":\"#4D5663\"},\"text\":\"change in log price\"},\"zerolinecolor\":\"#E1E5ED\"},\"yaxis\":{\"gridcolor\":\"#E1E5ED\",\"showgrid\":true,\"tickfont\":{\"color\":\"#4D5663\"},\"title\":{\"font\":{\"color\":\"#4D5663\"},\"text\":\"change in log cost\"},\"zerolinecolor\":\"#E1E5ED\"}},                        {\"showLink\": true, \"linkText\": \"Export to plot.ly\", \"plotlyServerURL\": \"https://plot.ly\", \"responsive\": true}                    ).then(function(){\n",
       "                            \n",
       "var gd = document.getElementById('574a7d71-86f9-4612-863b-bf5c4a5590a7');\n",
       "var x = new MutationObserver(function (mutations, observer) {{\n",
       "        var display = window.getComputedStyle(gd).display;\n",
       "        if (!display || display === 'none') {{\n",
       "            console.log([gd, 'removed!']);\n",
       "            Plotly.purge(gd);\n",
       "            observer.disconnect();\n",
       "        }}\n",
       "}});\n",
       "\n",
       "// Listen for the removal of the full notebook cells\n",
       "var notebookContainer = gd.closest('#notebook-container');\n",
       "if (notebookContainer) {{\n",
       "    x.observe(notebookContainer, {childList: true});\n",
       "}}\n",
       "\n",
       "// Listen for the clearing of the current output cell\n",
       "var outputEl = gd.closest('.output');\n",
       "if (outputEl) {{\n",
       "    x.observe(outputEl, {childList: true});\n",
       "}}\n",
       "\n",
       "                        })                };                });            </script>        </div>"
      ]
     },
     "metadata": {},
     "output_type": "display_data"
    }
   ],
   "source": [
    "#whole foods\n",
    "\n",
    "scale = [.5,.6,.7,.8,.9,1.,1.1,1.2,1.3,1.4,1.5]\n",
    "\n",
    "cost0 = solve_subsistence_problem(FoodNutrients,prices_wf,diet_min[group],diet_max[group],tol=tol).fun\n",
    "\n",
    "Price_response={}\n",
    "for s in scale:\n",
    "    cost = {}\n",
    "    for i,p in enumerate(prices_wf):\n",
    "        my_p = prices_wf.copy()\n",
    "        my_p[i] = p*s\n",
    "        result = solve_subsistence_problem(FoodNutrients,my_p,diet_min[group],diet_max[group],tol=tol)\n",
    "        cost[prices_wf.index[i]] = np.log(result.fun/cost0)\n",
    "    Price_response[np.log(s)] = cost\n",
    "\n",
    "Price_response = pd.DataFrame(Price_response).T\n",
    "Price_response.iplot(xTitle='change in log price',yTitle='change in log cost')"
   ]
  },
  {
   "cell_type": "markdown",
   "id": "e20db41a",
   "metadata": {},
   "source": [
    "### Safeway\n",
    "We find that at Safeway, Peanut butter is sensitive to price across the board, while romaine lettuce is sensitive to increases and sliced turkey is sensitive to decreases."
   ]
  },
  {
   "cell_type": "code",
   "execution_count": 69,
   "id": "5a7d0653",
   "metadata": {},
   "outputs": [
    {
     "data": {
      "application/vnd.plotly.v1+json": {
       "config": {
        "linkText": "Export to plot.ly",
        "plotlyServerURL": "https://plot.ly",
        "showLink": true
       },
       "data": [
        {
         "line": {
          "color": "rgba(255, 153, 51, 1.0)",
          "dash": "solid",
          "shape": "linear",
          "width": 1.3
         },
         "mode": "lines",
         "name": "Chicken breast",
         "text": "",
         "type": "scatter",
         "x": [
          -0.6931471805599453,
          -0.5108256237659907,
          -0.35667494393873245,
          -0.2231435513142097,
          -0.10536051565782628,
          0,
          0.09531017980432493,
          0.1823215567939546,
          0.26236426446749106,
          0.3364722366212129,
          0.4054651081081644
         ],
         "y": [
          -1.2075109808236807e-09,
          -1.3077607894043361e-09,
          1.1687670703254106e-07,
          1.0594552734499218e-08,
          3.09905589598833e-09,
          0,
          -7.673248706043426e-10,
          -1.2145291446600453e-09,
          -1.4645823453629777e-09,
          3.2782481867068506e-06,
          2.5854085881509147e-06
         ]
        },
        {
         "line": {
          "color": "rgba(55, 128, 191, 1.0)",
          "dash": "solid",
          "shape": "linear",
          "width": 1.3
         },
         "mode": "lines",
         "name": "Chicken thigh",
         "text": "",
         "type": "scatter",
         "x": [
          -0.6931471805599453,
          -0.5108256237659907,
          -0.35667494393873245,
          -0.2231435513142097,
          -0.10536051565782628,
          0,
          0.09531017980432493,
          0.1823215567939546,
          0.26236426446749106,
          0.3364722366212129,
          0.4054651081081644
         ],
         "y": [
          3.3902385286040834e-09,
          6.964061303358776e-09,
          4.058707361954875e-09,
          1.2891321335434958e-09,
          5.736389139829921e-10,
          0,
          -3.4715852421016376e-10,
          -3.938052107408862e-10,
          8.490035337820083e-10,
          8.812979418483434e-09,
          1.1661080021149132e-07
         ]
        },
        {
         "line": {
          "color": "rgba(50, 171, 96, 1.0)",
          "dash": "solid",
          "shape": "linear",
          "width": 1.3
         },
         "mode": "lines",
         "name": "Ground Beef",
         "text": "",
         "type": "scatter",
         "x": [
          -0.6931471805599453,
          -0.5108256237659907,
          -0.35667494393873245,
          -0.2231435513142097,
          -0.10536051565782628,
          0,
          0.09531017980432493,
          0.1823215567939546,
          0.26236426446749106,
          0.3364722366212129,
          0.4054651081081644
         ],
         "y": [
          -1.2055689787066632e-09,
          1.080656881098477e-07,
          1.400604711282802e-08,
          5.467044801909383e-09,
          6.787876924901853e-10,
          0,
          -5.04785768867539e-10,
          -8.484611905548256e-10,
          -9.00080232973784e-10,
          3.2608848949079625e-10,
          2.24999996158998e-09
         ]
        },
        {
         "line": {
          "color": "rgba(128, 0, 128, 1.0)",
          "dash": "solid",
          "shape": "linear",
          "width": 1.3
         },
         "mode": "lines",
         "name": "Eggs",
         "text": "",
         "type": "scatter",
         "x": [
          -0.6931471805599453,
          -0.5108256237659907,
          -0.35667494393873245,
          -0.2231435513142097,
          -0.10536051565782628,
          0,
          0.09531017980432493,
          0.1823215567939546,
          0.26236426446749106,
          0.3364722366212129,
          0.4054651081081644
         ],
         "y": [
          4.782868076010285e-08,
          -1.2862751982924107e-09,
          -1.2145983115545634e-09,
          1.1760258386157114e-07,
          5.872423197127637e-09,
          0,
          -7.863824039483507e-10,
          -1.0853412618977526e-09,
          -8.707277125335454e-10,
          -3.6224567796405385e-10,
          5.926195072651301e-09
         ]
        },
        {
         "line": {
          "color": "rgba(219, 64, 82, 1.0)",
          "dash": "solid",
          "shape": "linear",
          "width": 1.3
         },
         "mode": "lines",
         "name": "Peanut Butter",
         "text": "",
         "type": "scatter",
         "x": [
          -0.6931471805599453,
          -0.5108256237659907,
          -0.35667494393873245,
          -0.2231435513142097,
          -0.10536051565782628,
          0,
          0.09531017980432493,
          0.1823215567939546,
          0.26236426446749106,
          0.3364722366212129,
          0.4054651081081644
         ],
         "y": [
          -0.21800734700078334,
          -0.1584654796219717,
          -0.1164334838819451,
          -0.07609701572851826,
          -0.03732490008375889,
          0,
          0.03202803229439496,
          0.05934033018606489,
          0.08276472588062438,
          0.09658988324891733,
          0.10926028354425148
         ]
        },
        {
         "line": {
          "color": "rgba(0, 128, 128, 1.0)",
          "dash": "solid",
          "shape": "linear",
          "width": 1.3
         },
         "mode": "lines",
         "name": "Chickpeas",
         "text": "",
         "type": "scatter",
         "x": [
          -0.6931471805599453,
          -0.5108256237659907,
          -0.35667494393873245,
          -0.2231435513142097,
          -0.10536051565782628,
          0,
          0.09531017980432493,
          0.1823215567939546,
          0.26236426446749106,
          0.3364722366212129,
          0.4054651081081644
         ],
         "y": [
          -0.1213192156582393,
          -0.0791932431834952,
          -0.04196903038266568,
          -0.01709110113321532,
          -0.006307591141145982,
          0,
          8.25972487378331e-08,
          1.0661814062791808e-07,
          1.0384625772000808e-08,
          1.262471978313892e-07,
          1.1083655867265953e-07
         ]
        },
        {
         "line": {
          "color": "rgba(255, 255, 51, 1.0)",
          "dash": "solid",
          "shape": "linear",
          "width": 1.3
         },
         "mode": "lines",
         "name": "Tofu",
         "text": "",
         "type": "scatter",
         "x": [
          -0.6931471805599453,
          -0.5108256237659907,
          -0.35667494393873245,
          -0.2231435513142097,
          -0.10536051565782628,
          0,
          0.09531017980432493,
          0.1823215567939546,
          0.26236426446749106,
          0.3364722366212129,
          0.4054651081081644
         ],
         "y": [
          5.863132200247621e-10,
          1.7784458636379575e-08,
          9.449458035896597e-08,
          4.74920735895772e-08,
          1.8487522453005833e-08,
          0,
          3.3690450423771393e-10,
          -1.503126069188385e-09,
          5.5813186735729587e-08,
          1.4631105109232696e-08,
          2.667117580083612e-08
         ]
        },
        {
         "line": {
          "color": "rgba(128, 128, 0, 1.0)",
          "dash": "solid",
          "shape": "linear",
          "width": 1.3
         },
         "mode": "lines",
         "name": "Pork Loin",
         "text": "",
         "type": "scatter",
         "x": [
          -0.6931471805599453,
          -0.5108256237659907,
          -0.35667494393873245,
          -0.2231435513142097,
          -0.10536051565782628,
          0,
          0.09531017980432493,
          0.1823215567939546,
          0.26236426446749106,
          0.3364722366212129,
          0.4054651081081644
         ],
         "y": [
          0,
          0,
          0,
          0,
          0,
          0,
          0,
          0,
          0,
          0,
          0
         ]
        },
        {
         "line": {
          "color": "rgba(251, 128, 114, 1.0)",
          "dash": "solid",
          "shape": "linear",
          "width": 1.3
         },
         "mode": "lines",
         "name": "Ground Pork",
         "text": "",
         "type": "scatter",
         "x": [
          -0.6931471805599453,
          -0.5108256237659907,
          -0.35667494393873245,
          -0.2231435513142097,
          -0.10536051565782628,
          0,
          0.09531017980432493,
          0.1823215567939546,
          0.26236426446749106,
          0.3364722366212129,
          0.4054651081081644
         ],
         "y": [
          1.1595150478107774e-07,
          1.0865843277171942e-08,
          6.60972829838396e-09,
          3.00079782793961e-09,
          6.693550156347233e-10,
          0,
          -5.443743235449952e-10,
          -9.373445357626552e-10,
          -1.1382690352318556e-09,
          -1.0325921234512978e-09,
          5.920550714601355e-10
         ]
        },
        {
         "line": {
          "color": "rgba(128, 177, 211, 1.0)",
          "dash": "solid",
          "shape": "linear",
          "width": 1.3
         },
         "mode": "lines",
         "name": "Ground Turkey",
         "text": "",
         "type": "scatter",
         "x": [
          -0.6931471805599453,
          -0.5108256237659907,
          -0.35667494393873245,
          -0.2231435513142097,
          -0.10536051565782628,
          0,
          0.09531017980432493,
          0.1823215567939546,
          0.26236426446749106,
          0.3364722366212129,
          0.4054651081081644
         ],
         "y": [
          2.8393582415155784e-08,
          -3.100593116070984e-10,
          1.5010223395929095e-08,
          8.442754681923564e-09,
          2.5917779000459342e-09,
          0,
          -9.4490437741135e-10,
          -1.5717437363977454e-09,
          1.9576148732503608e-08,
          -1.2762980680465306e-09,
          -9.051958076089669e-10
         ]
        },
        {
         "line": {
          "color": "rgba(128, 177, 211, 0.8999999999999999)",
          "dash": "solid",
          "shape": "linear",
          "width": 1.3
         },
         "mode": "lines",
         "name": "Black Beans",
         "text": "",
         "type": "scatter",
         "x": [
          -0.6931471805599453,
          -0.5108256237659907,
          -0.35667494393873245,
          -0.2231435513142097,
          -0.10536051565782628,
          0,
          0.09531017980432493,
          0.1823215567939546,
          0.26236426446749106,
          0.3364722366212129,
          0.4054651081081644
         ],
         "y": [
          -0.03919652937280626,
          -0.02664346311386176,
          -0.01889887409419888,
          -0.012559482013287623,
          -0.006259959892421164,
          0,
          0.006221083161564031,
          0.012403694944971197,
          0.01854831868325723,
          0.0246554237707191,
          0.030492344074107003
         ]
        },
        {
         "line": {
          "color": "rgba(255, 153, 51, 0.8999999999999999)",
          "dash": "solid",
          "shape": "linear",
          "width": 1.3
         },
         "mode": "lines",
         "name": "Pinto Beans",
         "text": "",
         "type": "scatter",
         "x": [
          -0.6931471805599453,
          -0.5108256237659907,
          -0.35667494393873245,
          -0.2231435513142097,
          -0.10536051565782628,
          0,
          0.09531017980432493,
          0.1823215567939546,
          0.26236426446749106,
          0.3364722366212129,
          0.4054651081081644
         ],
         "y": [
          -0.015295866068670977,
          -0.012217773011678658,
          -0.009149414611779287,
          -0.006090290637060681,
          -0.003040514690875678,
          0,
          0.0030313998219587274,
          0.006053452425471458,
          0.009066529021048937,
          0.011303184540588066,
          0.013133358768130632
         ]
        },
        {
         "line": {
          "color": "rgba(55, 128, 191, 0.8999999999999999)",
          "dash": "solid",
          "shape": "linear",
          "width": 1.3
         },
         "mode": "lines",
         "name": "Lentils",
         "text": "",
         "type": "scatter",
         "x": [
          -0.6931471805599453,
          -0.5108256237659907,
          -0.35667494393873245,
          -0.2231435513142097,
          -0.10536051565782628,
          0,
          0.09531017980432493,
          0.1823215567939546,
          0.26236426446749106,
          0.3364722366212129,
          0.4054651081081644
         ],
         "y": [
          4.663847954544721e-08,
          -1.211359457920896e-09,
          1.0913767005210441e-07,
          1.1211081555767554e-08,
          2.415500463395571e-09,
          0,
          -3.633575663236193e-10,
          -4.336598858730668e-10,
          -2.328628401486963e-10,
          2.8639424161431917e-10,
          9.265004315011201e-10
         ]
        },
        {
         "line": {
          "color": "rgba(50, 171, 96, 0.8999999999999999)",
          "dash": "solid",
          "shape": "linear",
          "width": 1.3
         },
         "mode": "lines",
         "name": "Sliced Turkey",
         "text": "",
         "type": "scatter",
         "x": [
          -0.6931471805599453,
          -0.5108256237659907,
          -0.35667494393873245,
          -0.2231435513142097,
          -0.10536051565782628,
          0,
          0.09531017980432493,
          0.1823215567939546,
          0.26236426446749106,
          0.3364722366212129,
          0.4054651081081644
         ],
         "y": [
          -0.1174568877724086,
          -0.09283584657741312,
          -0.06880638628016,
          -0.045341004729007435,
          -0.022413535023762157,
          0,
          0.01345485480725425,
          0.016729971929869802,
          0.01999440749071375,
          0.023251219891790128,
          0.02649149112774199
         ]
        },
        {
         "line": {
          "color": "rgba(128, 0, 128, 0.8999999999999999)",
          "dash": "solid",
          "shape": "linear",
          "width": 1.3
         },
         "mode": "lines",
         "name": "Sliced Ham",
         "text": "",
         "type": "scatter",
         "x": [
          -0.6931471805599453,
          -0.5108256237659907,
          -0.35667494393873245,
          -0.2231435513142097,
          -0.10536051565782628,
          0,
          0.09531017980432493,
          0.1823215567939546,
          0.26236426446749106,
          0.3364722366212129,
          0.4054651081081644
         ],
         "y": [
          5.14346678676796e-08,
          1.2804091260771697e-08,
          -1.4069884156548307e-09,
          2.1990227392600856e-09,
          5.288063319165016e-10,
          0,
          3.245641305999829e-09,
          1.113646983681352e-07,
          4.792612347599666e-08,
          1.0973315764611992e-07,
          -1.2523481148844314e-09
         ]
        },
        {
         "line": {
          "color": "rgba(219, 64, 82, 0.8999999999999999)",
          "dash": "solid",
          "shape": "linear",
          "width": 1.3
         },
         "mode": "lines",
         "name": "Salmon",
         "text": "",
         "type": "scatter",
         "x": [
          -0.6931471805599453,
          -0.5108256237659907,
          -0.35667494393873245,
          -0.2231435513142097,
          -0.10536051565782628,
          0,
          0.09531017980432493,
          0.1823215567939546,
          0.26236426446749106,
          0.3364722366212129,
          0.4054651081081644
         ],
         "y": [
          4.5503443132089006e-09,
          1.1837921985870803e-07,
          9.398503486822544e-09,
          5.594040770503244e-09,
          1.4886001309411353e-09,
          0,
          -1.0077348960383968e-09,
          -1.5188417202149101e-09,
          -8.293026269143098e-10,
          -1.325668020681304e-09,
          4.449785196787378e-08
         ]
        },
        {
         "line": {
          "color": "rgba(0, 128, 128, 0.8999999999999999)",
          "dash": "solid",
          "shape": "linear",
          "width": 1.3
         },
         "mode": "lines",
         "name": "Halibut",
         "text": "",
         "type": "scatter",
         "x": [
          -0.6931471805599453,
          -0.5108256237659907,
          -0.35667494393873245,
          -0.2231435513142097,
          -0.10536051565782628,
          0,
          0.09531017980432493,
          0.1823215567939546,
          0.26236426446749106,
          0.3364722366212129,
          0.4054651081081644
         ],
         "y": [
          7.004023114717249e-09,
          4.682048861142065e-08,
          9.891277257029548e-07,
          3.744993911466551e-08,
          4.058379180030128e-09,
          0,
          -1.2633885057220987e-09,
          -1.3072459789871443e-09,
          3.44319236079387e-08,
          9.078265726754339e-08,
          -1.3686126685769844e-09
         ]
        },
        {
         "line": {
          "color": "rgba(255, 255, 51, 0.8999999999999999)",
          "dash": "solid",
          "shape": "linear",
          "width": 1.3
         },
         "mode": "lines",
         "name": "Shrimp",
         "text": "",
         "type": "scatter",
         "x": [
          -0.6931471805599453,
          -0.5108256237659907,
          -0.35667494393873245,
          -0.2231435513142097,
          -0.10536051565782628,
          0,
          0.09531017980432493,
          0.1823215567939546,
          0.26236426446749106,
          0.3364722366212129,
          0.4054651081081644
         ],
         "y": [
          5.0032514878489983e-08,
          5.2012455211295716e-08,
          4.8632723775682065e-08,
          3.985377526292435e-08,
          1.0598029115340287e-09,
          0,
          7.104449003835104e-09,
          -1.2074772300436914e-09,
          4.615333120203094e-08,
          1.0471105034389884e-07,
          -1.2412298974127631e-09
         ]
        },
        {
         "line": {
          "color": "rgba(128, 128, 0, 0.8999999999999999)",
          "dash": "solid",
          "shape": "linear",
          "width": 1.3
         },
         "mode": "lines",
         "name": "Tuna",
         "text": "",
         "type": "scatter",
         "x": [
          -0.6931471805599453,
          -0.5108256237659907,
          -0.35667494393873245,
          -0.2231435513142097,
          -0.10536051565782628,
          0,
          0.09531017980432493,
          0.1823215567939546,
          0.26236426446749106,
          0.3364722366212129,
          0.4054651081081644
         ],
         "y": [
          -0.07822725193250446,
          -0.05991182649985006,
          -0.04192584023050033,
          -0.024257615184881898,
          -0.006896205589386569,
          0,
          -3.6562930467743535e-10,
          -5.181828301125431e-10,
          -5.615997668484873e-10,
          -5.359469536274208e-10,
          -3.9391245828510723e-10
         ]
        },
        {
         "line": {
          "color": "rgba(251, 128, 114, 0.8999999999999999)",
          "dash": "solid",
          "shape": "linear",
          "width": 1.3
         },
         "mode": "lines",
         "name": "Almond Milk",
         "text": "",
         "type": "scatter",
         "x": [
          -0.6931471805599453,
          -0.5108256237659907,
          -0.35667494393873245,
          -0.2231435513142097,
          -0.10536051565782628,
          0,
          0.09531017980432493,
          0.1823215567939546,
          0.26236426446749106,
          0.3364722366212129,
          0.4054651081081644
         ],
         "y": [
          -0.02514868856844941,
          -0.020068099129027434,
          -0.015013189298686547,
          -0.009983663964643901,
          -0.004979389665427076,
          0,
          0.004954735811590953,
          0.009885053713977719,
          0.01479112419502297,
          0.019673279135615486,
          0.024531713223258055
         ]
        },
        {
         "line": {
          "color": "rgba(251, 128, 114, 0.7999999999999998)",
          "dash": "solid",
          "shape": "linear",
          "width": 1.3
         },
         "mode": "lines",
         "name": "2% milk",
         "text": "",
         "type": "scatter",
         "x": [
          -0.6931471805599453,
          -0.5108256237659907,
          -0.35667494393873245,
          -0.2231435513142097,
          -0.10536051565782628,
          0,
          0.09531017980432493,
          0.1823215567939546,
          0.26236426446749106,
          0.3364722366212129,
          0.4054651081081644
         ],
         "y": [
          8.956235046791728e-09,
          7.923217637226006e-11,
          -5.493249190368085e-10,
          -6.714777625072658e-10,
          -4.6323167534794135e-10,
          0,
          1.2379552930650388e-09,
          5.466409088208958e-09,
          1.1102682267432415e-08,
          1.1766249859435934e-07,
          -1.3545448105681998e-09
         ]
        },
        {
         "line": {
          "color": "rgba(128, 177, 211, 0.7999999999999998)",
          "dash": "solid",
          "shape": "linear",
          "width": 1.3
         },
         "mode": "lines",
         "name": "Cheddar cheese",
         "text": "",
         "type": "scatter",
         "x": [
          -0.6931471805599453,
          -0.5108256237659907,
          -0.35667494393873245,
          -0.2231435513142097,
          -0.10536051565782628,
          0,
          0.09531017980432493,
          0.1823215567939546,
          0.26236426446749106,
          0.3364722366212129,
          0.4054651081081644
         ],
         "y": [
          -0.052978936901227305,
          -0.030804187452126423,
          -0.011741018676190061,
          1.1045403847727635e-07,
          -5.651508151947515e-10,
          0,
          1.312918809489465e-08,
          -1.2845096106140797e-09,
          7.419497074591799e-08,
          5.132950110889725e-08,
          7.519386119715601e-08
         ]
        },
        {
         "line": {
          "color": "rgba(255, 153, 51, 0.7999999999999998)",
          "dash": "solid",
          "shape": "linear",
          "width": 1.3
         },
         "mode": "lines",
         "name": "Unsalted butter",
         "text": "",
         "type": "scatter",
         "x": [
          -0.6931471805599453,
          -0.5108256237659907,
          -0.35667494393873245,
          -0.2231435513142097,
          -0.10536051565782628,
          0,
          0.09531017980432493,
          0.1823215567939546,
          0.26236426446749106,
          0.3364722366212129,
          0.4054651081081644
         ],
         "y": [
          4.3727736474941076e-08,
          4.7182493020841094e-08,
          -1.2020551228294946e-09,
          1.1778341918698508e-07,
          6.108953324527185e-09,
          0,
          -1.2234057108196511e-09,
          3.1667041376224716e-08,
          -1.4924563818165466e-09,
          -9.716625286872977e-10,
          -2.5791813132998025e-10
         ]
        },
        {
         "line": {
          "color": "rgba(55, 128, 191, 0.7999999999999998)",
          "dash": "solid",
          "shape": "linear",
          "width": 1.3
         },
         "mode": "lines",
         "name": "Greek yogurt",
         "text": "",
         "type": "scatter",
         "x": [
          -0.6931471805599453,
          -0.5108256237659907,
          -0.35667494393873245,
          -0.2231435513142097,
          -0.10536051565782628,
          0,
          0.09531017980432493,
          0.1823215567939546,
          0.26236426446749106,
          0.3364722366212129,
          0.4054651081081644
         ],
         "y": [
          3.651579541272842e-06,
          5.209088913323379e-08,
          1.3986342652818154e-08,
          4.596195857782413e-09,
          7.637970253352071e-10,
          0,
          2.409119123510024e-09,
          1.171010926274852e-07,
          -1.2298164716386076e-09,
          4.6502478563531895e-08,
          1.1043883863756958e-07
         ]
        },
        {
         "line": {
          "color": "rgba(50, 171, 96, 0.7999999999999998)",
          "dash": "solid",
          "shape": "linear",
          "width": 1.3
         },
         "mode": "lines",
         "name": "Oat Milk",
         "text": "",
         "type": "scatter",
         "x": [
          -0.6931471805599453,
          -0.5108256237659907,
          -0.35667494393873245,
          -0.2231435513142097,
          -0.10536051565782628,
          0,
          0.09531017980432493,
          0.1823215567939546,
          0.26236426446749106,
          0.3364722366212129,
          0.4054651081081644
         ],
         "y": [
          -0.0837228048821697,
          -0.058952242149611256,
          -0.035675576227260634,
          -0.01413953880448772,
          -0.002721524887100924,
          0,
          0.002714224662254135,
          0.005421361620640781,
          0.008120654399994135,
          0.01081294424221325,
          0.013498020106857215
         ]
        },
        {
         "line": {
          "color": "rgba(128, 0, 128, 0.7999999999999998)",
          "dash": "solid",
          "shape": "linear",
          "width": 1.3
         },
         "mode": "lines",
         "name": "Wheat Cereal",
         "text": "",
         "type": "scatter",
         "x": [
          -0.6931471805599453,
          -0.5108256237659907,
          -0.35667494393873245,
          -0.2231435513142097,
          -0.10536051565782628,
          0,
          0.09531017980432493,
          0.1823215567939546,
          0.26236426446749106,
          0.3364722366212129,
          0.4054651081081644
         ],
         "y": [
          -0.026092591055591478,
          -0.012193758451433919,
          -0.004039430381781109,
          -1.2271933476951032e-09,
          1.0676718119231795e-08,
          0,
          -3.8553960031933103e-10,
          -4.626895534447659e-10,
          1.991352041198549e-08,
          5.0166014527576223e-08,
          4.7797968662041096e-08
         ]
        },
        {
         "line": {
          "color": "rgba(219, 64, 82, 0.7999999999999998)",
          "dash": "solid",
          "shape": "linear",
          "width": 1.3
         },
         "mode": "lines",
         "name": "Granola",
         "text": "",
         "type": "scatter",
         "x": [
          -0.6931471805599453,
          -0.5108256237659907,
          -0.35667494393873245,
          -0.2231435513142097,
          -0.10536051565782628,
          0,
          0.09531017980432493,
          0.1823215567939546,
          0.26236426446749106,
          0.3364722366212129,
          0.4054651081081644
         ],
         "y": [
          1.1792129532567359e-07,
          6.623997106646633e-09,
          9.325062900564939e-09,
          4.776723005721739e-09,
          9.177292255254595e-10,
          0,
          -5.869016385719218e-10,
          -4.704469037660461e-10,
          8.138737872718884e-09,
          2.5138966432457174e-09,
          4.92950623716391e-08
         ]
        },
        {
         "line": {
          "color": "rgba(0, 128, 128, 0.7999999999999998)",
          "dash": "solid",
          "shape": "linear",
          "width": 1.3
         },
         "mode": "lines",
         "name": "Brown Rice",
         "text": "",
         "type": "scatter",
         "x": [
          -0.6931471805599453,
          -0.5108256237659907,
          -0.35667494393873245,
          -0.2231435513142097,
          -0.10536051565782628,
          0,
          0.09531017980432493,
          0.1823215567939546,
          0.26236426446749106,
          0.3364722366212129,
          0.4054651081081644
         ],
         "y": [
          -1.206534317627739e-09,
          -1.5562964262758585e-09,
          1.1764334880374982e-07,
          1.0626235390661385e-08,
          3.205944837793199e-09,
          0,
          -8.285969691592731e-10,
          -1.317366216981396e-09,
          -1.572698306155819e-09,
          2.4534539636407748e-06,
          2.54758842562567e-06
         ]
        },
        {
         "line": {
          "color": "rgba(255, 255, 51, 0.7999999999999998)",
          "dash": "solid",
          "shape": "linear",
          "width": 1.3
         },
         "mode": "lines",
         "name": "Jasmine Rice",
         "text": "",
         "type": "scatter",
         "x": [
          -0.6931471805599453,
          -0.5108256237659907,
          -0.35667494393873245,
          -0.2231435513142097,
          -0.10536051565782628,
          0,
          0.09531017980432493,
          0.1823215567939546,
          0.26236426446749106,
          0.3364722366212129,
          0.4054651081081644
         ],
         "y": [
          1.1857719243910314e-09,
          1.152957211939885e-08,
          8.011465458917273e-09,
          4.747849213613212e-09,
          1.0063998518371e-09,
          0,
          -8.764512452973956e-10,
          -1.5513451646452443e-09,
          -1.7040300296452742e-09,
          -6.399809573226017e-10,
          1.248941393969254e-09
         ]
        },
        {
         "line": {
          "color": "rgba(128, 128, 0, 0.7999999999999998)",
          "dash": "solid",
          "shape": "linear",
          "width": 1.3
         },
         "mode": "lines",
         "name": "Potatoes",
         "text": "",
         "type": "scatter",
         "x": [
          -0.6931471805599453,
          -0.5108256237659907,
          -0.35667494393873245,
          -0.2231435513142097,
          -0.10536051565782628,
          0,
          0.09531017980432493,
          0.1823215567939546,
          0.26236426446749106,
          0.3364722366212129,
          0.4054651081081644
         ],
         "y": [
          -0.044567456121755986,
          -0.031333423688859385,
          -0.01886210059236882,
          -0.012535143389004334,
          -0.0062479363971643725,
          0,
          0.006209257128946482,
          0.012380033070902777,
          0.018512955371501744,
          0.023272406441675456,
          0.023272400646237472
         ]
        },
        {
         "line": {
          "color": "rgba(128, 128, 0, 0.7)",
          "dash": "solid",
          "shape": "linear",
          "width": 1.3
         },
         "mode": "lines",
         "name": "Bananas",
         "text": "",
         "type": "scatter",
         "x": [
          -0.6931471805599453,
          -0.5108256237659907,
          -0.35667494393873245,
          -0.2231435513142097,
          -0.10536051565782628,
          0,
          0.09531017980432493,
          0.1823215567939546,
          0.26236426446749106,
          0.3364722366212129,
          0.4054651081081644
         ],
         "y": [
          1.0317156013080144e-09,
          4.286958112635109e-09,
          -1.0507935638251727e-09,
          1.4423393860481861e-07,
          1.6581302193705816e-08,
          0,
          5.0252787556422655e-08,
          4.999750288693653e-08,
          5.0451086479267667e-08,
          5.142440940745965e-08,
          5.256493213548256e-08
         ]
        },
        {
         "line": {
          "color": "rgba(251, 128, 114, 0.7)",
          "dash": "solid",
          "shape": "linear",
          "width": 1.3
         },
         "mode": "lines",
         "name": "Apples",
         "text": "",
         "type": "scatter",
         "x": [
          -0.6931471805599453,
          -0.5108256237659907,
          -0.35667494393873245,
          -0.2231435513142097,
          -0.10536051565782628,
          0,
          0.09531017980432493,
          0.1823215567939546,
          0.26236426446749106,
          0.3364722366212129,
          0.4054651081081644
         ],
         "y": [
          4.985427529306198e-07,
          1.6700799214531613e-07,
          7.13958218149808e-08,
          2.461698157136132e-06,
          2.126875497529567e-08,
          0,
          4.662176869130439e-08,
          1.0837369947068261e-07,
          1.1678859885542232e-07,
          4.9951690646337844e-08,
          8.813160390583128e-08
         ]
        },
        {
         "line": {
          "color": "rgba(128, 177, 211, 0.7)",
          "dash": "solid",
          "shape": "linear",
          "width": 1.3
         },
         "mode": "lines",
         "name": "Avocados",
         "text": "",
         "type": "scatter",
         "x": [
          -0.6931471805599453,
          -0.5108256237659907,
          -0.35667494393873245,
          -0.2231435513142097,
          -0.10536051565782628,
          0,
          0.09531017980432493,
          0.1823215567939546,
          0.26236426446749106,
          0.3364722366212129,
          0.4054651081081644
         ],
         "y": [
          1.8224435276680472e-07,
          1.2077668091258872e-07,
          8.971104878460241e-08,
          2.8514186382978373e-08,
          2.0815518647482782e-08,
          0,
          2.110487555855614e-06,
          1.0125550292231797e-06,
          -1.562126540454163e-09,
          -1.2796963489700185e-10,
          -1.2820016167982331e-09
         ]
        },
        {
         "line": {
          "color": "rgba(255, 153, 51, 0.7)",
          "dash": "solid",
          "shape": "linear",
          "width": 1.3
         },
         "mode": "lines",
         "name": "Blue Berries",
         "text": "",
         "type": "scatter",
         "x": [
          -0.6931471805599453,
          -0.5108256237659907,
          -0.35667494393873245,
          -0.2231435513142097,
          -0.10536051565782628,
          0,
          0.09531017980432493,
          0.1823215567939546,
          0.26236426446749106,
          0.3364722366212129,
          0.4054651081081644
         ],
         "y": [
          6.848073962116463e-08,
          5.3551588839428884e-08,
          1.9423038766341555e-08,
          3.094494211638877e-09,
          2.2446933198561942e-10,
          0,
          5.9821407648412866e-09,
          1.0722948154039196e-07,
          1.7599108821432299e-09,
          3.458781401424945e-08,
          1.4946998416069764e-08
         ]
        },
        {
         "line": {
          "color": "rgba(55, 128, 191, 0.7)",
          "dash": "solid",
          "shape": "linear",
          "width": 1.3
         },
         "mode": "lines",
         "name": "Tomatoes",
         "text": "",
         "type": "scatter",
         "x": [
          -0.6931471805599453,
          -0.5108256237659907,
          -0.35667494393873245,
          -0.2231435513142097,
          -0.10536051565782628,
          0,
          0.09531017980432493,
          0.1823215567939546,
          0.26236426446749106,
          0.3364722366212129,
          0.4054651081081644
         ],
         "y": [
          6.811715515015323e-08,
          1.5087328691772852e-07,
          6.473147408416532e-08,
          5.001984856668029e-08,
          -1.4957953775680955e-09,
          0,
          4.822264693418428e-08,
          3.1068988676525415e-08,
          -1.3667791352493084e-09,
          9.520889401049763e-08,
          -1.2136126555521046e-09
         ]
        },
        {
         "line": {
          "color": "rgba(50, 171, 96, 0.7)",
          "dash": "solid",
          "shape": "linear",
          "width": 1.3
         },
         "mode": "lines",
         "name": "Kale",
         "text": "",
         "type": "scatter",
         "x": [
          -0.6931471805599453,
          -0.5108256237659907,
          -0.35667494393873245,
          -0.2231435513142097,
          -0.10536051565782628,
          0,
          0.09531017980432493,
          0.1823215567939546,
          0.26236426446749106,
          0.3364722366212129,
          0.4054651081081644
         ],
         "y": [
          5.692287291977766e-09,
          8.708016526287544e-10,
          4.6034676121743414e-08,
          4.870862812328483e-09,
          3.5940230726868578e-09,
          0,
          -1.1355901780926919e-09,
          2.144540883627293e-07,
          -1.419726226478963e-09,
          -1.0998256755820477e-09,
          -8.013246736040377e-10
         ]
        },
        {
         "line": {
          "color": "rgba(128, 0, 128, 0.7)",
          "dash": "solid",
          "shape": "linear",
          "width": 1.3
         },
         "mode": "lines",
         "name": "Garlic",
         "text": "",
         "type": "scatter",
         "x": [
          -0.6931471805599453,
          -0.5108256237659907,
          -0.35667494393873245,
          -0.2231435513142097,
          -0.10536051565782628,
          0,
          0.09531017980432493,
          0.1823215567939546,
          0.26236426446749106,
          0.3364722366212129,
          0.4054651081081644
         ],
         "y": [
          7.674882921939823e-09,
          2.776059898061824e-06,
          3.666444925375888e-11,
          -1.0603735672924732e-09,
          -1.5404784126857167e-09,
          0,
          -1.4020874471280418e-09,
          9.535882517479514e-08,
          5.1612857987817093e-08,
          4.767649228333305e-08,
          2.0650626550927336e-08
         ]
        },
        {
         "line": {
          "color": "rgba(219, 64, 82, 0.7)",
          "dash": "solid",
          "shape": "linear",
          "width": 1.3
         },
         "mode": "lines",
         "name": "Red Onion",
         "text": "",
         "type": "scatter",
         "x": [
          -0.6931471805599453,
          -0.5108256237659907,
          -0.35667494393873245,
          -0.2231435513142097,
          -0.10536051565782628,
          0,
          0.09531017980432493,
          0.1823215567939546,
          0.26236426446749106,
          0.3364722366212129,
          0.4054651081081644
         ],
         "y": [
          -1.2879164409918265e-09,
          1.0885308261841807e-07,
          4.753567648657459e-08,
          -1.2066276873842227e-09,
          8.838129744527512e-09,
          0,
          -1.7202861359125507e-10,
          5.558422609529062e-10,
          -1.4877055154424914e-09,
          1.5010614194427897e-08,
          3.415781754616496e-08
         ]
        },
        {
         "line": {
          "color": "rgba(0, 128, 128, 0.7)",
          "dash": "solid",
          "shape": "linear",
          "width": 1.3
         },
         "mode": "lines",
         "name": "Yellow Onion",
         "text": "",
         "type": "scatter",
         "x": [
          -0.6931471805599453,
          -0.5108256237659907,
          -0.35667494393873245,
          -0.2231435513142097,
          -0.10536051565782628,
          0,
          0.09531017980432493,
          0.1823215567939546,
          0.26236426446749106,
          0.3364722366212129,
          0.4054651081081644
         ],
         "y": [
          4.706902179377828e-08,
          1.1305604146599538e-07,
          -1.298072317145019e-09,
          1.4981191952448912e-08,
          3.165401047375282e-09,
          0,
          -2.6754320984449684e-10,
          -1.5250734010149836e-10,
          4.150071396784961e-10,
          2.0480903618734632e-09,
          4.507143068224585e-08
         ]
        },
        {
         "line": {
          "color": "rgba(255, 255, 51, 0.7)",
          "dash": "solid",
          "shape": "linear",
          "width": 1.3
         },
         "mode": "lines",
         "name": "White Onion",
         "text": "",
         "type": "scatter",
         "x": [
          -0.6931471805599453,
          -0.5108256237659907,
          -0.35667494393873245,
          -0.2231435513142097,
          -0.10536051565782628,
          0,
          0.09531017980432493,
          0.1823215567939546,
          0.26236426446749106,
          0.3364722366212129,
          0.4054651081081644
         ],
         "y": [
          9.709801713108635e-08,
          4.555892426119737e-08,
          -1.2190050087892677e-09,
          -7.98895061535004e-10,
          3.4812808131134357e-09,
          0,
          -4.452060943119398e-10,
          -7.037612717287248e-10,
          -8.916979381080521e-10,
          -9.801053307086013e-10,
          -1.2776487653800144e-09
         ]
        },
        {
         "line": {
          "color": "rgba(255, 255, 51, 0.5999999999999999)",
          "dash": "solid",
          "shape": "linear",
          "width": 1.3
         },
         "mode": "lines",
         "name": "Cauliflower",
         "text": "",
         "type": "scatter",
         "x": [
          -0.6931471805599453,
          -0.5108256237659907,
          -0.35667494393873245,
          -0.2231435513142097,
          -0.10536051565782628,
          0,
          0.09531017980432493,
          0.1823215567939546,
          0.26236426446749106,
          0.3364722366212129,
          0.4054651081081644
         ],
         "y": [
          1.6575722656965758e-08,
          4.235205940638165e-08,
          9.586749126332757e-09,
          -1.285303864166917e-09,
          2.931527977553719e-06,
          0,
          -5.211147070774968e-10,
          -7.917370096003428e-10,
          -2.007797261984247e-10,
          -1.3960306254087254e-09,
          3.5020348673939055e-08
         ]
        },
        {
         "line": {
          "color": "rgba(128, 128, 0, 0.5999999999999999)",
          "dash": "solid",
          "shape": "linear",
          "width": 1.3
         },
         "mode": "lines",
         "name": "Broccoli",
         "text": "",
         "type": "scatter",
         "x": [
          -0.6931471805599453,
          -0.5108256237659907,
          -0.35667494393873245,
          -0.2231435513142097,
          -0.10536051565782628,
          0,
          0.09531017980432493,
          0.1823215567939546,
          0.26236426446749106,
          0.3364722366212129,
          0.4054651081081644
         ],
         "y": [
          -0.015222202718914198,
          -0.0056111110307677115,
          5.808069579150444e-10,
          8.850435935761425e-10,
          8.548744786604198e-09,
          0,
          3.2261777839498794e-08,
          1.926087248907406e-08,
          -1.0436571612377112e-09,
          1.819795586539138e-08,
          2.1692899907575777e-08
         ]
        },
        {
         "line": {
          "color": "rgba(251, 128, 114, 0.5999999999999999)",
          "dash": "solid",
          "shape": "linear",
          "width": 1.3
         },
         "mode": "lines",
         "name": "Carrots",
         "text": "",
         "type": "scatter",
         "x": [
          -0.6931471805599453,
          -0.5108256237659907,
          -0.35667494393873245,
          -0.2231435513142097,
          -0.10536051565782628,
          0,
          0.09531017980432493,
          0.1823215567939546,
          0.26236426446749106,
          0.3364722366212129,
          0.4054651081081644
         ],
         "y": [
          2.5830790942446126e-06,
          4.913815655769264e-08,
          1.4079560273582521e-06,
          -9.87992244060997e-10,
          -9.528943194602516e-10,
          0,
          1.689507208740581e-08,
          -1.2056375904896678e-09,
          1.8424138711476757e-08,
          4.426053248101879e-08,
          -1.2095182640546287e-09
         ]
        },
        {
         "line": {
          "color": "rgba(128, 177, 211, 0.5999999999999999)",
          "dash": "solid",
          "shape": "linear",
          "width": 1.3
         },
         "mode": "lines",
         "name": "Sweet Potatoes",
         "text": "",
         "type": "scatter",
         "x": [
          -0.6931471805599453,
          -0.5108256237659907,
          -0.35667494393873245,
          -0.2231435513142097,
          -0.10536051565782628,
          0,
          0.09531017980432493,
          0.1823215567939546,
          0.26236426446749106,
          0.3364722366212129,
          0.4054651081081644
         ],
         "y": [
          9.230482390488336e-07,
          4.353412731933001e-09,
          4.774479244999687e-09,
          1.5905003967872402e-09,
          5.792566424843571e-10,
          0,
          -4.3796555280904453e-10,
          -7.846998609532095e-10,
          -1.0801710642887778e-09,
          -1.343847256599991e-09,
          -1.5685899258467408e-09
         ]
        },
        {
         "line": {
          "color": "rgba(255, 153, 51, 0.5999999999999999)",
          "dash": "solid",
          "shape": "linear",
          "width": 1.3
         },
         "mode": "lines",
         "name": "Romaine Lettuce",
         "text": "",
         "type": "scatter",
         "x": [
          -0.6931471805599453,
          -0.5108256237659907,
          -0.35667494393873245,
          -0.2231435513142097,
          -0.10536051565782628,
          0,
          0.09531017980432493,
          0.1823215567939546,
          0.26236426446749106,
          0.3364722366212129,
          0.4054651081081644
         ],
         "y": [
          -0.11100561692146876,
          -0.0817741512688465,
          -0.057983807558604286,
          -0.036682809186087524,
          -0.018173219231632128,
          0,
          0.01784888487941636,
          0.035384720416794135,
          0.0526184466176124,
          0.06956001973976211,
          0.08621983737119256
         ]
        },
        {
         "line": {
          "color": "rgba(55, 128, 191, 0.5999999999999999)",
          "dash": "solid",
          "shape": "linear",
          "width": 1.3
         },
         "mode": "lines",
         "name": "Spinach",
         "text": "",
         "type": "scatter",
         "x": [
          -0.6931471805599453,
          -0.5108256237659907,
          -0.35667494393873245,
          -0.2231435513142097,
          -0.10536051565782628,
          0,
          0.09531017980432493,
          0.1823215567939546,
          0.26236426446749106,
          0.3364722366212129,
          0.4054651081081644
         ],
         "y": [
          -6.275979737872943e-10,
          -9.661805804532943e-10,
          -1.3979283296273681e-09,
          7.101808031182973e-07,
          -1.5424217470710162e-09,
          0,
          1.6884684747209911e-09,
          2.1606317612562624e-08,
          4.860526463094905e-08,
          3.941399551219686e-08,
          2.3238169139716544e-09
         ]
        },
        {
         "line": {
          "color": "rgba(50, 171, 96, 0.5999999999999999)",
          "dash": "solid",
          "shape": "linear",
          "width": 1.3
         },
         "mode": "lines",
         "name": "Cucumbers",
         "text": "",
         "type": "scatter",
         "x": [
          -0.6931471805599453,
          -0.5108256237659907,
          -0.35667494393873245,
          -0.2231435513142097,
          -0.10536051565782628,
          0,
          0.09531017980432493,
          0.1823215567939546,
          0.26236426446749106,
          0.3364722366212129,
          0.4054651081081644
         ],
         "y": [
          2.1219289433573553e-08,
          1.6725887423973306e-08,
          4.928148523289555e-08,
          1.519545677731829e-08,
          -2.7025504060517545e-10,
          0,
          4.800507862502297e-07,
          1.4139770365637775e-08,
          1.275577642697834e-09,
          -1.367488456740711e-09,
          1.5454778004499403e-08
         ]
        },
        {
         "line": {
          "color": "rgba(128, 0, 128, 0.5999999999999999)",
          "dash": "solid",
          "shape": "linear",
          "width": 1.3
         },
         "mode": "lines",
         "name": "Cremini Mushrooms",
         "text": "",
         "type": "scatter",
         "x": [
          -0.6931471805599453,
          -0.5108256237659907,
          -0.35667494393873245,
          -0.2231435513142097,
          -0.10536051565782628,
          0,
          0.09531017980432493,
          0.1823215567939546,
          0.26236426446749106,
          0.3364722366212129,
          0.4054651081081644
         ],
         "y": [
          4.851129930429322e-09,
          1.4036514296731804e-08,
          8.350131440292051e-09,
          -1.5873614657544214e-09,
          2.5047406501617642e-08,
          0,
          3.1452794540497055e-08,
          8.697380681574618e-08,
          -8.751536166250772e-10,
          1.044967951149565e-08,
          2.0723148798449115e-06
         ]
        },
        {
         "line": {
          "color": "rgba(219, 64, 82, 0.5999999999999999)",
          "dash": "solid",
          "shape": "linear",
          "width": 1.3
         },
         "mode": "lines",
         "name": "Jalepenos",
         "text": "",
         "type": "scatter",
         "x": [
          -0.6931471805599453,
          -0.5108256237659907,
          -0.35667494393873245,
          -0.2231435513142097,
          -0.10536051565782628,
          0,
          0.09531017980432493,
          0.1823215567939546,
          0.26236426446749106,
          0.3364722366212129,
          0.4054651081081644
         ],
         "y": [
          -0.0042380951195136966,
          2.0138441378218458e-08,
          -1.4003694880173295e-09,
          1.7245017931507744e-08,
          1.305738175718194e-08,
          0,
          5.587217376991234e-08,
          5.8621266121726904e-08,
          -1.407423956148004e-09,
          -2.62693422604741e-10,
          1.6374013255041117e-10
         ]
        },
        {
         "line": {
          "color": "rgba(0, 128, 128, 0.5999999999999999)",
          "dash": "solid",
          "shape": "linear",
          "width": 1.3
         },
         "mode": "lines",
         "name": "Olive Oil",
         "text": "",
         "type": "scatter",
         "x": [
          -0.6931471805599453,
          -0.5108256237659907,
          -0.35667494393873245,
          -0.2231435513142097,
          -0.10536051565782628,
          0,
          0.09531017980432493,
          0.1823215567939546,
          0.26236426446749106,
          0.3364722366212129,
          0.4054651081081644
         ],
         "y": [
          1.0842375253805452e-07,
          4.553448669922619e-08,
          1.0960239781306575e-07,
          -1.546165308093531e-09,
          8.555362159863581e-09,
          0,
          -9.251404091530982e-10,
          -1.2964905823997835e-09,
          -1.1025732555264156e-09,
          -8.662277565662266e-10,
          5.129012061205598e-08
         ]
        },
        {
         "line": {
          "color": "rgba(0, 128, 128, 0.49999999999999983)",
          "dash": "solid",
          "shape": "linear",
          "width": 1.3
         },
         "mode": "lines",
         "name": "Vegetable Oil",
         "text": "",
         "type": "scatter",
         "x": [
          -0.6931471805599453,
          -0.5108256237659907,
          -0.35667494393873245,
          -0.2231435513142097,
          -0.10536051565782628,
          0,
          0.09531017980432493,
          0.1823215567939546,
          0.26236426446749106,
          0.3364722366212129,
          0.4054651081081644
         ],
         "y": [
          4.669366584284614e-08,
          1.0464110696680268e-07,
          -1.2217510344217267e-09,
          5.599034567747194e-10,
          5.4142319370045095e-09,
          0,
          -7.85869369888268e-10,
          -1.1356804392246965e-09,
          -1.148982909476346e-09,
          -8.785102649206721e-10,
          2.7787375003860775e-07
         ]
        },
        {
         "line": {
          "color": "rgba(255, 255, 51, 0.49999999999999983)",
          "dash": "solid",
          "shape": "linear",
          "width": 1.3
         },
         "mode": "lines",
         "name": "Salt",
         "text": "",
         "type": "scatter",
         "x": [
          -0.6931471805599453,
          -0.5108256237659907,
          -0.35667494393873245,
          -0.2231435513142097,
          -0.10536051565782628,
          0,
          0.09531017980432493,
          0.1823215567939546,
          0.26236426446749106,
          0.3364722366212129,
          0.4054651081081644
         ],
         "y": [
          7.936505643382964e-09,
          5.690945254393238e-09,
          3.65652840670205e-09,
          2.0549986136077183e-09,
          8.61192672358945e-10,
          0,
          -6.448873659384797e-10,
          -1.1552994123599258e-09,
          -1.5375906115719197e-09,
          4.3664129504997686e-07,
          -1.4656531554717977e-09
         ]
        },
        {
         "line": {
          "color": "rgba(128, 128, 0, 0.49999999999999983)",
          "dash": "solid",
          "shape": "linear",
          "width": 1.3
         },
         "mode": "lines",
         "name": "Tomato Sauce",
         "text": "",
         "type": "scatter",
         "x": [
          -0.6931471805599453,
          -0.5108256237659907,
          -0.35667494393873245,
          -0.2231435513142097,
          -0.10536051565782628,
          0,
          0.09531017980432493,
          0.1823215567939546,
          0.26236426446749106,
          0.3364722366212129,
          0.4054651081081644
         ],
         "y": [
          -6.754456995999484e-10,
          1.4159744831880383e-08,
          -1.5875203386694975e-09,
          2.759480862225137e-09,
          2.1195505835747278e-07,
          0,
          1.3598609402070708e-07,
          1.803470501293869e-07,
          -7.437785945464871e-10,
          8.886229712553916e-09,
          1.111846614158267e-09
         ]
        },
        {
         "line": {
          "color": "rgba(251, 128, 114, 0.49999999999999983)",
          "dash": "solid",
          "shape": "linear",
          "width": 1.3
         },
         "mode": "lines",
         "name": "Sugar",
         "text": "",
         "type": "scatter",
         "x": [
          -0.6931471805599453,
          -0.5108256237659907,
          -0.35667494393873245,
          -0.2231435513142097,
          -0.10536051565782628,
          0,
          0.09531017980432493,
          0.1823215567939546,
          0.26236426446749106,
          0.3364722366212129,
          0.4054651081081644
         ],
         "y": [
          9.97714017533199e-09,
          7.618890600477859e-09,
          5.287965606955739e-09,
          2.635888392966624e-09,
          6.688876117416689e-10,
          0,
          -6.323385150831277e-10,
          -1.184897070052645e-09,
          3.3534772562536756e-06,
          2.6976502667540343e-08,
          -1.284094609246942e-09
         ]
        },
        {
         "line": {
          "color": "rgba(128, 177, 211, 0.49999999999999983)",
          "dash": "solid",
          "shape": "linear",
          "width": 1.3
         },
         "mode": "lines",
         "name": "Honey",
         "text": "",
         "type": "scatter",
         "x": [
          -0.6931471805599453,
          -0.5108256237659907,
          -0.35667494393873245,
          -0.2231435513142097,
          -0.10536051565782628,
          0,
          0.09531017980432493,
          0.1823215567939546,
          0.26236426446749106,
          0.3364722366212129,
          0.4054651081081644
         ],
         "y": [
          1.550266414325632e-08,
          -1.23740862077957e-09,
          4.442301183696461e-09,
          6.428863420933622e-09,
          1.738494680035672e-09,
          0,
          -7.772075208656755e-10,
          7.932737324422683e-09,
          -1.2173192461466232e-09,
          2.4087556103831712e-08,
          4.910403563106369e-08
         ]
        },
        {
         "line": {
          "color": "rgba(255, 153, 51, 0.49999999999999983)",
          "dash": "solid",
          "shape": "linear",
          "width": 1.3
         },
         "mode": "lines",
         "name": "Bread (white bread)",
         "text": "",
         "type": "scatter",
         "x": [
          -0.6931471805599453,
          -0.5108256237659907,
          -0.35667494393873245,
          -0.2231435513142097,
          -0.10536051565782628,
          0,
          0.09531017980432493,
          0.1823215567939546,
          0.26236426446749106,
          0.3364722366212129,
          0.4054651081081644
         ],
         "y": [
          0,
          0,
          0,
          0,
          0,
          0,
          0,
          0,
          0,
          0,
          0
         ]
        }
       ],
       "layout": {
        "legend": {
         "bgcolor": "#F5F6F9",
         "font": {
          "color": "#4D5663"
         }
        },
        "paper_bgcolor": "#F5F6F9",
        "plot_bgcolor": "#F5F6F9",
        "template": {
         "data": {
          "bar": [
           {
            "error_x": {
             "color": "#2a3f5f"
            },
            "error_y": {
             "color": "#2a3f5f"
            },
            "marker": {
             "line": {
              "color": "#E5ECF6",
              "width": 0.5
             },
             "pattern": {
              "fillmode": "overlay",
              "size": 10,
              "solidity": 0.2
             }
            },
            "type": "bar"
           }
          ],
          "barpolar": [
           {
            "marker": {
             "line": {
              "color": "#E5ECF6",
              "width": 0.5
             },
             "pattern": {
              "fillmode": "overlay",
              "size": 10,
              "solidity": 0.2
             }
            },
            "type": "barpolar"
           }
          ],
          "carpet": [
           {
            "aaxis": {
             "endlinecolor": "#2a3f5f",
             "gridcolor": "white",
             "linecolor": "white",
             "minorgridcolor": "white",
             "startlinecolor": "#2a3f5f"
            },
            "baxis": {
             "endlinecolor": "#2a3f5f",
             "gridcolor": "white",
             "linecolor": "white",
             "minorgridcolor": "white",
             "startlinecolor": "#2a3f5f"
            },
            "type": "carpet"
           }
          ],
          "choropleth": [
           {
            "colorbar": {
             "outlinewidth": 0,
             "ticks": ""
            },
            "type": "choropleth"
           }
          ],
          "contour": [
           {
            "colorbar": {
             "outlinewidth": 0,
             "ticks": ""
            },
            "colorscale": [
             [
              0,
              "#0d0887"
             ],
             [
              0.1111111111111111,
              "#46039f"
             ],
             [
              0.2222222222222222,
              "#7201a8"
             ],
             [
              0.3333333333333333,
              "#9c179e"
             ],
             [
              0.4444444444444444,
              "#bd3786"
             ],
             [
              0.5555555555555556,
              "#d8576b"
             ],
             [
              0.6666666666666666,
              "#ed7953"
             ],
             [
              0.7777777777777778,
              "#fb9f3a"
             ],
             [
              0.8888888888888888,
              "#fdca26"
             ],
             [
              1,
              "#f0f921"
             ]
            ],
            "type": "contour"
           }
          ],
          "contourcarpet": [
           {
            "colorbar": {
             "outlinewidth": 0,
             "ticks": ""
            },
            "type": "contourcarpet"
           }
          ],
          "heatmap": [
           {
            "colorbar": {
             "outlinewidth": 0,
             "ticks": ""
            },
            "colorscale": [
             [
              0,
              "#0d0887"
             ],
             [
              0.1111111111111111,
              "#46039f"
             ],
             [
              0.2222222222222222,
              "#7201a8"
             ],
             [
              0.3333333333333333,
              "#9c179e"
             ],
             [
              0.4444444444444444,
              "#bd3786"
             ],
             [
              0.5555555555555556,
              "#d8576b"
             ],
             [
              0.6666666666666666,
              "#ed7953"
             ],
             [
              0.7777777777777778,
              "#fb9f3a"
             ],
             [
              0.8888888888888888,
              "#fdca26"
             ],
             [
              1,
              "#f0f921"
             ]
            ],
            "type": "heatmap"
           }
          ],
          "heatmapgl": [
           {
            "colorbar": {
             "outlinewidth": 0,
             "ticks": ""
            },
            "colorscale": [
             [
              0,
              "#0d0887"
             ],
             [
              0.1111111111111111,
              "#46039f"
             ],
             [
              0.2222222222222222,
              "#7201a8"
             ],
             [
              0.3333333333333333,
              "#9c179e"
             ],
             [
              0.4444444444444444,
              "#bd3786"
             ],
             [
              0.5555555555555556,
              "#d8576b"
             ],
             [
              0.6666666666666666,
              "#ed7953"
             ],
             [
              0.7777777777777778,
              "#fb9f3a"
             ],
             [
              0.8888888888888888,
              "#fdca26"
             ],
             [
              1,
              "#f0f921"
             ]
            ],
            "type": "heatmapgl"
           }
          ],
          "histogram": [
           {
            "marker": {
             "pattern": {
              "fillmode": "overlay",
              "size": 10,
              "solidity": 0.2
             }
            },
            "type": "histogram"
           }
          ],
          "histogram2d": [
           {
            "colorbar": {
             "outlinewidth": 0,
             "ticks": ""
            },
            "colorscale": [
             [
              0,
              "#0d0887"
             ],
             [
              0.1111111111111111,
              "#46039f"
             ],
             [
              0.2222222222222222,
              "#7201a8"
             ],
             [
              0.3333333333333333,
              "#9c179e"
             ],
             [
              0.4444444444444444,
              "#bd3786"
             ],
             [
              0.5555555555555556,
              "#d8576b"
             ],
             [
              0.6666666666666666,
              "#ed7953"
             ],
             [
              0.7777777777777778,
              "#fb9f3a"
             ],
             [
              0.8888888888888888,
              "#fdca26"
             ],
             [
              1,
              "#f0f921"
             ]
            ],
            "type": "histogram2d"
           }
          ],
          "histogram2dcontour": [
           {
            "colorbar": {
             "outlinewidth": 0,
             "ticks": ""
            },
            "colorscale": [
             [
              0,
              "#0d0887"
             ],
             [
              0.1111111111111111,
              "#46039f"
             ],
             [
              0.2222222222222222,
              "#7201a8"
             ],
             [
              0.3333333333333333,
              "#9c179e"
             ],
             [
              0.4444444444444444,
              "#bd3786"
             ],
             [
              0.5555555555555556,
              "#d8576b"
             ],
             [
              0.6666666666666666,
              "#ed7953"
             ],
             [
              0.7777777777777778,
              "#fb9f3a"
             ],
             [
              0.8888888888888888,
              "#fdca26"
             ],
             [
              1,
              "#f0f921"
             ]
            ],
            "type": "histogram2dcontour"
           }
          ],
          "mesh3d": [
           {
            "colorbar": {
             "outlinewidth": 0,
             "ticks": ""
            },
            "type": "mesh3d"
           }
          ],
          "parcoords": [
           {
            "line": {
             "colorbar": {
              "outlinewidth": 0,
              "ticks": ""
             }
            },
            "type": "parcoords"
           }
          ],
          "pie": [
           {
            "automargin": true,
            "type": "pie"
           }
          ],
          "scatter": [
           {
            "marker": {
             "colorbar": {
              "outlinewidth": 0,
              "ticks": ""
             }
            },
            "type": "scatter"
           }
          ],
          "scatter3d": [
           {
            "line": {
             "colorbar": {
              "outlinewidth": 0,
              "ticks": ""
             }
            },
            "marker": {
             "colorbar": {
              "outlinewidth": 0,
              "ticks": ""
             }
            },
            "type": "scatter3d"
           }
          ],
          "scattercarpet": [
           {
            "marker": {
             "colorbar": {
              "outlinewidth": 0,
              "ticks": ""
             }
            },
            "type": "scattercarpet"
           }
          ],
          "scattergeo": [
           {
            "marker": {
             "colorbar": {
              "outlinewidth": 0,
              "ticks": ""
             }
            },
            "type": "scattergeo"
           }
          ],
          "scattergl": [
           {
            "marker": {
             "colorbar": {
              "outlinewidth": 0,
              "ticks": ""
             }
            },
            "type": "scattergl"
           }
          ],
          "scattermapbox": [
           {
            "marker": {
             "colorbar": {
              "outlinewidth": 0,
              "ticks": ""
             }
            },
            "type": "scattermapbox"
           }
          ],
          "scatterpolar": [
           {
            "marker": {
             "colorbar": {
              "outlinewidth": 0,
              "ticks": ""
             }
            },
            "type": "scatterpolar"
           }
          ],
          "scatterpolargl": [
           {
            "marker": {
             "colorbar": {
              "outlinewidth": 0,
              "ticks": ""
             }
            },
            "type": "scatterpolargl"
           }
          ],
          "scatterternary": [
           {
            "marker": {
             "colorbar": {
              "outlinewidth": 0,
              "ticks": ""
             }
            },
            "type": "scatterternary"
           }
          ],
          "surface": [
           {
            "colorbar": {
             "outlinewidth": 0,
             "ticks": ""
            },
            "colorscale": [
             [
              0,
              "#0d0887"
             ],
             [
              0.1111111111111111,
              "#46039f"
             ],
             [
              0.2222222222222222,
              "#7201a8"
             ],
             [
              0.3333333333333333,
              "#9c179e"
             ],
             [
              0.4444444444444444,
              "#bd3786"
             ],
             [
              0.5555555555555556,
              "#d8576b"
             ],
             [
              0.6666666666666666,
              "#ed7953"
             ],
             [
              0.7777777777777778,
              "#fb9f3a"
             ],
             [
              0.8888888888888888,
              "#fdca26"
             ],
             [
              1,
              "#f0f921"
             ]
            ],
            "type": "surface"
           }
          ],
          "table": [
           {
            "cells": {
             "fill": {
              "color": "#EBF0F8"
             },
             "line": {
              "color": "white"
             }
            },
            "header": {
             "fill": {
              "color": "#C8D4E3"
             },
             "line": {
              "color": "white"
             }
            },
            "type": "table"
           }
          ]
         },
         "layout": {
          "annotationdefaults": {
           "arrowcolor": "#2a3f5f",
           "arrowhead": 0,
           "arrowwidth": 1
          },
          "autotypenumbers": "strict",
          "coloraxis": {
           "colorbar": {
            "outlinewidth": 0,
            "ticks": ""
           }
          },
          "colorscale": {
           "diverging": [
            [
             0,
             "#8e0152"
            ],
            [
             0.1,
             "#c51b7d"
            ],
            [
             0.2,
             "#de77ae"
            ],
            [
             0.3,
             "#f1b6da"
            ],
            [
             0.4,
             "#fde0ef"
            ],
            [
             0.5,
             "#f7f7f7"
            ],
            [
             0.6,
             "#e6f5d0"
            ],
            [
             0.7,
             "#b8e186"
            ],
            [
             0.8,
             "#7fbc41"
            ],
            [
             0.9,
             "#4d9221"
            ],
            [
             1,
             "#276419"
            ]
           ],
           "sequential": [
            [
             0,
             "#0d0887"
            ],
            [
             0.1111111111111111,
             "#46039f"
            ],
            [
             0.2222222222222222,
             "#7201a8"
            ],
            [
             0.3333333333333333,
             "#9c179e"
            ],
            [
             0.4444444444444444,
             "#bd3786"
            ],
            [
             0.5555555555555556,
             "#d8576b"
            ],
            [
             0.6666666666666666,
             "#ed7953"
            ],
            [
             0.7777777777777778,
             "#fb9f3a"
            ],
            [
             0.8888888888888888,
             "#fdca26"
            ],
            [
             1,
             "#f0f921"
            ]
           ],
           "sequentialminus": [
            [
             0,
             "#0d0887"
            ],
            [
             0.1111111111111111,
             "#46039f"
            ],
            [
             0.2222222222222222,
             "#7201a8"
            ],
            [
             0.3333333333333333,
             "#9c179e"
            ],
            [
             0.4444444444444444,
             "#bd3786"
            ],
            [
             0.5555555555555556,
             "#d8576b"
            ],
            [
             0.6666666666666666,
             "#ed7953"
            ],
            [
             0.7777777777777778,
             "#fb9f3a"
            ],
            [
             0.8888888888888888,
             "#fdca26"
            ],
            [
             1,
             "#f0f921"
            ]
           ]
          },
          "colorway": [
           "#636efa",
           "#EF553B",
           "#00cc96",
           "#ab63fa",
           "#FFA15A",
           "#19d3f3",
           "#FF6692",
           "#B6E880",
           "#FF97FF",
           "#FECB52"
          ],
          "font": {
           "color": "#2a3f5f"
          },
          "geo": {
           "bgcolor": "white",
           "lakecolor": "white",
           "landcolor": "#E5ECF6",
           "showlakes": true,
           "showland": true,
           "subunitcolor": "white"
          },
          "hoverlabel": {
           "align": "left"
          },
          "hovermode": "closest",
          "mapbox": {
           "style": "light"
          },
          "paper_bgcolor": "white",
          "plot_bgcolor": "#E5ECF6",
          "polar": {
           "angularaxis": {
            "gridcolor": "white",
            "linecolor": "white",
            "ticks": ""
           },
           "bgcolor": "#E5ECF6",
           "radialaxis": {
            "gridcolor": "white",
            "linecolor": "white",
            "ticks": ""
           }
          },
          "scene": {
           "xaxis": {
            "backgroundcolor": "#E5ECF6",
            "gridcolor": "white",
            "gridwidth": 2,
            "linecolor": "white",
            "showbackground": true,
            "ticks": "",
            "zerolinecolor": "white"
           },
           "yaxis": {
            "backgroundcolor": "#E5ECF6",
            "gridcolor": "white",
            "gridwidth": 2,
            "linecolor": "white",
            "showbackground": true,
            "ticks": "",
            "zerolinecolor": "white"
           },
           "zaxis": {
            "backgroundcolor": "#E5ECF6",
            "gridcolor": "white",
            "gridwidth": 2,
            "linecolor": "white",
            "showbackground": true,
            "ticks": "",
            "zerolinecolor": "white"
           }
          },
          "shapedefaults": {
           "line": {
            "color": "#2a3f5f"
           }
          },
          "ternary": {
           "aaxis": {
            "gridcolor": "white",
            "linecolor": "white",
            "ticks": ""
           },
           "baxis": {
            "gridcolor": "white",
            "linecolor": "white",
            "ticks": ""
           },
           "bgcolor": "#E5ECF6",
           "caxis": {
            "gridcolor": "white",
            "linecolor": "white",
            "ticks": ""
           }
          },
          "title": {
           "x": 0.05
          },
          "xaxis": {
           "automargin": true,
           "gridcolor": "white",
           "linecolor": "white",
           "ticks": "",
           "title": {
            "standoff": 15
           },
           "zerolinecolor": "white",
           "zerolinewidth": 2
          },
          "yaxis": {
           "automargin": true,
           "gridcolor": "white",
           "linecolor": "white",
           "ticks": "",
           "title": {
            "standoff": 15
           },
           "zerolinecolor": "white",
           "zerolinewidth": 2
          }
         }
        },
        "title": {
         "font": {
          "color": "#4D5663"
         }
        },
        "xaxis": {
         "gridcolor": "#E1E5ED",
         "showgrid": true,
         "tickfont": {
          "color": "#4D5663"
         },
         "title": {
          "font": {
           "color": "#4D5663"
          },
          "text": "change in log price"
         },
         "zerolinecolor": "#E1E5ED"
        },
        "yaxis": {
         "gridcolor": "#E1E5ED",
         "showgrid": true,
         "tickfont": {
          "color": "#4D5663"
         },
         "title": {
          "font": {
           "color": "#4D5663"
          },
          "text": "change in log cost"
         },
         "zerolinecolor": "#E1E5ED"
        }
       }
      },
      "text/html": [
       "<div>                            <div id=\"28761548-54c1-4b60-92e8-a0d4ab47fb1f\" class=\"plotly-graph-div\" style=\"height:525px; width:100%;\"></div>            <script type=\"text/javascript\">                require([\"plotly\"], function(Plotly) {                    window.PLOTLYENV=window.PLOTLYENV || {};\n",
       "                    window.PLOTLYENV.BASE_URL='https://plot.ly';                                    if (document.getElementById(\"28761548-54c1-4b60-92e8-a0d4ab47fb1f\")) {                    Plotly.newPlot(                        \"28761548-54c1-4b60-92e8-a0d4ab47fb1f\",                        [{\"line\":{\"color\":\"rgba(255, 153, 51, 1.0)\",\"dash\":\"solid\",\"shape\":\"linear\",\"width\":1.3},\"mode\":\"lines\",\"name\":\"Chicken breast\",\"text\":\"\",\"type\":\"scatter\",\"x\":[-0.6931471805599453,-0.5108256237659907,-0.35667494393873245,-0.2231435513142097,-0.10536051565782628,0.0,0.09531017980432493,0.1823215567939546,0.26236426446749106,0.3364722366212129,0.4054651081081644],\"y\":[-1.2075109808236807e-09,-1.3077607894043361e-09,1.1687670703254106e-07,1.0594552734499218e-08,3.09905589598833e-09,0.0,-7.673248706043426e-10,-1.2145291446600453e-09,-1.4645823453629777e-09,3.2782481867068506e-06,2.5854085881509147e-06]},{\"line\":{\"color\":\"rgba(55, 128, 191, 1.0)\",\"dash\":\"solid\",\"shape\":\"linear\",\"width\":1.3},\"mode\":\"lines\",\"name\":\"Chicken thigh\",\"text\":\"\",\"type\":\"scatter\",\"x\":[-0.6931471805599453,-0.5108256237659907,-0.35667494393873245,-0.2231435513142097,-0.10536051565782628,0.0,0.09531017980432493,0.1823215567939546,0.26236426446749106,0.3364722366212129,0.4054651081081644],\"y\":[3.3902385286040834e-09,6.964061303358776e-09,4.058707361954875e-09,1.2891321335434958e-09,5.736389139829921e-10,0.0,-3.4715852421016376e-10,-3.938052107408862e-10,8.490035337820083e-10,8.812979418483434e-09,1.1661080021149132e-07]},{\"line\":{\"color\":\"rgba(50, 171, 96, 1.0)\",\"dash\":\"solid\",\"shape\":\"linear\",\"width\":1.3},\"mode\":\"lines\",\"name\":\"Ground Beef\",\"text\":\"\",\"type\":\"scatter\",\"x\":[-0.6931471805599453,-0.5108256237659907,-0.35667494393873245,-0.2231435513142097,-0.10536051565782628,0.0,0.09531017980432493,0.1823215567939546,0.26236426446749106,0.3364722366212129,0.4054651081081644],\"y\":[-1.2055689787066632e-09,1.080656881098477e-07,1.400604711282802e-08,5.467044801909383e-09,6.787876924901853e-10,0.0,-5.04785768867539e-10,-8.484611905548256e-10,-9.00080232973784e-10,3.2608848949079625e-10,2.24999996158998e-09]},{\"line\":{\"color\":\"rgba(128, 0, 128, 1.0)\",\"dash\":\"solid\",\"shape\":\"linear\",\"width\":1.3},\"mode\":\"lines\",\"name\":\"Eggs\",\"text\":\"\",\"type\":\"scatter\",\"x\":[-0.6931471805599453,-0.5108256237659907,-0.35667494393873245,-0.2231435513142097,-0.10536051565782628,0.0,0.09531017980432493,0.1823215567939546,0.26236426446749106,0.3364722366212129,0.4054651081081644],\"y\":[4.782868076010285e-08,-1.2862751982924107e-09,-1.2145983115545634e-09,1.1760258386157114e-07,5.872423197127637e-09,0.0,-7.863824039483507e-10,-1.0853412618977526e-09,-8.707277125335454e-10,-3.6224567796405385e-10,5.926195072651301e-09]},{\"line\":{\"color\":\"rgba(219, 64, 82, 1.0)\",\"dash\":\"solid\",\"shape\":\"linear\",\"width\":1.3},\"mode\":\"lines\",\"name\":\"Peanut Butter\",\"text\":\"\",\"type\":\"scatter\",\"x\":[-0.6931471805599453,-0.5108256237659907,-0.35667494393873245,-0.2231435513142097,-0.10536051565782628,0.0,0.09531017980432493,0.1823215567939546,0.26236426446749106,0.3364722366212129,0.4054651081081644],\"y\":[-0.21800734700078334,-0.1584654796219717,-0.1164334838819451,-0.07609701572851826,-0.03732490008375889,0.0,0.03202803229439496,0.05934033018606489,0.08276472588062438,0.09658988324891733,0.10926028354425148]},{\"line\":{\"color\":\"rgba(0, 128, 128, 1.0)\",\"dash\":\"solid\",\"shape\":\"linear\",\"width\":1.3},\"mode\":\"lines\",\"name\":\"Chickpeas\",\"text\":\"\",\"type\":\"scatter\",\"x\":[-0.6931471805599453,-0.5108256237659907,-0.35667494393873245,-0.2231435513142097,-0.10536051565782628,0.0,0.09531017980432493,0.1823215567939546,0.26236426446749106,0.3364722366212129,0.4054651081081644],\"y\":[-0.1213192156582393,-0.0791932431834952,-0.04196903038266568,-0.01709110113321532,-0.006307591141145982,0.0,8.25972487378331e-08,1.0661814062791808e-07,1.0384625772000808e-08,1.262471978313892e-07,1.1083655867265953e-07]},{\"line\":{\"color\":\"rgba(255, 255, 51, 1.0)\",\"dash\":\"solid\",\"shape\":\"linear\",\"width\":1.3},\"mode\":\"lines\",\"name\":\"Tofu\",\"text\":\"\",\"type\":\"scatter\",\"x\":[-0.6931471805599453,-0.5108256237659907,-0.35667494393873245,-0.2231435513142097,-0.10536051565782628,0.0,0.09531017980432493,0.1823215567939546,0.26236426446749106,0.3364722366212129,0.4054651081081644],\"y\":[5.863132200247621e-10,1.7784458636379575e-08,9.449458035896597e-08,4.74920735895772e-08,1.8487522453005833e-08,0.0,3.3690450423771393e-10,-1.503126069188385e-09,5.5813186735729587e-08,1.4631105109232696e-08,2.667117580083612e-08]},{\"line\":{\"color\":\"rgba(128, 128, 0, 1.0)\",\"dash\":\"solid\",\"shape\":\"linear\",\"width\":1.3},\"mode\":\"lines\",\"name\":\"Pork Loin\",\"text\":\"\",\"type\":\"scatter\",\"x\":[-0.6931471805599453,-0.5108256237659907,-0.35667494393873245,-0.2231435513142097,-0.10536051565782628,0.0,0.09531017980432493,0.1823215567939546,0.26236426446749106,0.3364722366212129,0.4054651081081644],\"y\":[0.0,0.0,0.0,0.0,0.0,0.0,0.0,0.0,0.0,0.0,0.0]},{\"line\":{\"color\":\"rgba(251, 128, 114, 1.0)\",\"dash\":\"solid\",\"shape\":\"linear\",\"width\":1.3},\"mode\":\"lines\",\"name\":\"Ground Pork\",\"text\":\"\",\"type\":\"scatter\",\"x\":[-0.6931471805599453,-0.5108256237659907,-0.35667494393873245,-0.2231435513142097,-0.10536051565782628,0.0,0.09531017980432493,0.1823215567939546,0.26236426446749106,0.3364722366212129,0.4054651081081644],\"y\":[1.1595150478107774e-07,1.0865843277171942e-08,6.60972829838396e-09,3.00079782793961e-09,6.693550156347233e-10,0.0,-5.443743235449952e-10,-9.373445357626552e-10,-1.1382690352318556e-09,-1.0325921234512978e-09,5.920550714601355e-10]},{\"line\":{\"color\":\"rgba(128, 177, 211, 1.0)\",\"dash\":\"solid\",\"shape\":\"linear\",\"width\":1.3},\"mode\":\"lines\",\"name\":\"Ground Turkey\",\"text\":\"\",\"type\":\"scatter\",\"x\":[-0.6931471805599453,-0.5108256237659907,-0.35667494393873245,-0.2231435513142097,-0.10536051565782628,0.0,0.09531017980432493,0.1823215567939546,0.26236426446749106,0.3364722366212129,0.4054651081081644],\"y\":[2.8393582415155784e-08,-3.100593116070984e-10,1.5010223395929095e-08,8.442754681923564e-09,2.5917779000459342e-09,0.0,-9.4490437741135e-10,-1.5717437363977454e-09,1.9576148732503608e-08,-1.2762980680465306e-09,-9.051958076089669e-10]},{\"line\":{\"color\":\"rgba(128, 177, 211, 0.8999999999999999)\",\"dash\":\"solid\",\"shape\":\"linear\",\"width\":1.3},\"mode\":\"lines\",\"name\":\"Black Beans\",\"text\":\"\",\"type\":\"scatter\",\"x\":[-0.6931471805599453,-0.5108256237659907,-0.35667494393873245,-0.2231435513142097,-0.10536051565782628,0.0,0.09531017980432493,0.1823215567939546,0.26236426446749106,0.3364722366212129,0.4054651081081644],\"y\":[-0.03919652937280626,-0.02664346311386176,-0.01889887409419888,-0.012559482013287623,-0.006259959892421164,0.0,0.006221083161564031,0.012403694944971197,0.01854831868325723,0.0246554237707191,0.030492344074107003]},{\"line\":{\"color\":\"rgba(255, 153, 51, 0.8999999999999999)\",\"dash\":\"solid\",\"shape\":\"linear\",\"width\":1.3},\"mode\":\"lines\",\"name\":\"Pinto Beans\",\"text\":\"\",\"type\":\"scatter\",\"x\":[-0.6931471805599453,-0.5108256237659907,-0.35667494393873245,-0.2231435513142097,-0.10536051565782628,0.0,0.09531017980432493,0.1823215567939546,0.26236426446749106,0.3364722366212129,0.4054651081081644],\"y\":[-0.015295866068670977,-0.012217773011678658,-0.009149414611779287,-0.006090290637060681,-0.003040514690875678,0.0,0.0030313998219587274,0.006053452425471458,0.009066529021048937,0.011303184540588066,0.013133358768130632]},{\"line\":{\"color\":\"rgba(55, 128, 191, 0.8999999999999999)\",\"dash\":\"solid\",\"shape\":\"linear\",\"width\":1.3},\"mode\":\"lines\",\"name\":\"Lentils\",\"text\":\"\",\"type\":\"scatter\",\"x\":[-0.6931471805599453,-0.5108256237659907,-0.35667494393873245,-0.2231435513142097,-0.10536051565782628,0.0,0.09531017980432493,0.1823215567939546,0.26236426446749106,0.3364722366212129,0.4054651081081644],\"y\":[4.663847954544721e-08,-1.211359457920896e-09,1.0913767005210441e-07,1.1211081555767554e-08,2.415500463395571e-09,0.0,-3.633575663236193e-10,-4.336598858730668e-10,-2.328628401486963e-10,2.8639424161431917e-10,9.265004315011201e-10]},{\"line\":{\"color\":\"rgba(50, 171, 96, 0.8999999999999999)\",\"dash\":\"solid\",\"shape\":\"linear\",\"width\":1.3},\"mode\":\"lines\",\"name\":\"Sliced Turkey\",\"text\":\"\",\"type\":\"scatter\",\"x\":[-0.6931471805599453,-0.5108256237659907,-0.35667494393873245,-0.2231435513142097,-0.10536051565782628,0.0,0.09531017980432493,0.1823215567939546,0.26236426446749106,0.3364722366212129,0.4054651081081644],\"y\":[-0.1174568877724086,-0.09283584657741312,-0.06880638628016,-0.045341004729007435,-0.022413535023762157,0.0,0.01345485480725425,0.016729971929869802,0.01999440749071375,0.023251219891790128,0.02649149112774199]},{\"line\":{\"color\":\"rgba(128, 0, 128, 0.8999999999999999)\",\"dash\":\"solid\",\"shape\":\"linear\",\"width\":1.3},\"mode\":\"lines\",\"name\":\"Sliced Ham\",\"text\":\"\",\"type\":\"scatter\",\"x\":[-0.6931471805599453,-0.5108256237659907,-0.35667494393873245,-0.2231435513142097,-0.10536051565782628,0.0,0.09531017980432493,0.1823215567939546,0.26236426446749106,0.3364722366212129,0.4054651081081644],\"y\":[5.14346678676796e-08,1.2804091260771697e-08,-1.4069884156548307e-09,2.1990227392600856e-09,5.288063319165016e-10,0.0,3.245641305999829e-09,1.113646983681352e-07,4.792612347599666e-08,1.0973315764611992e-07,-1.2523481148844314e-09]},{\"line\":{\"color\":\"rgba(219, 64, 82, 0.8999999999999999)\",\"dash\":\"solid\",\"shape\":\"linear\",\"width\":1.3},\"mode\":\"lines\",\"name\":\"Salmon\",\"text\":\"\",\"type\":\"scatter\",\"x\":[-0.6931471805599453,-0.5108256237659907,-0.35667494393873245,-0.2231435513142097,-0.10536051565782628,0.0,0.09531017980432493,0.1823215567939546,0.26236426446749106,0.3364722366212129,0.4054651081081644],\"y\":[4.5503443132089006e-09,1.1837921985870803e-07,9.398503486822544e-09,5.594040770503244e-09,1.4886001309411353e-09,0.0,-1.0077348960383968e-09,-1.5188417202149101e-09,-8.293026269143098e-10,-1.325668020681304e-09,4.449785196787378e-08]},{\"line\":{\"color\":\"rgba(0, 128, 128, 0.8999999999999999)\",\"dash\":\"solid\",\"shape\":\"linear\",\"width\":1.3},\"mode\":\"lines\",\"name\":\"Halibut\",\"text\":\"\",\"type\":\"scatter\",\"x\":[-0.6931471805599453,-0.5108256237659907,-0.35667494393873245,-0.2231435513142097,-0.10536051565782628,0.0,0.09531017980432493,0.1823215567939546,0.26236426446749106,0.3364722366212129,0.4054651081081644],\"y\":[7.004023114717249e-09,4.682048861142065e-08,9.891277257029548e-07,3.744993911466551e-08,4.058379180030128e-09,0.0,-1.2633885057220987e-09,-1.3072459789871443e-09,3.44319236079387e-08,9.078265726754339e-08,-1.3686126685769844e-09]},{\"line\":{\"color\":\"rgba(255, 255, 51, 0.8999999999999999)\",\"dash\":\"solid\",\"shape\":\"linear\",\"width\":1.3},\"mode\":\"lines\",\"name\":\"Shrimp\",\"text\":\"\",\"type\":\"scatter\",\"x\":[-0.6931471805599453,-0.5108256237659907,-0.35667494393873245,-0.2231435513142097,-0.10536051565782628,0.0,0.09531017980432493,0.1823215567939546,0.26236426446749106,0.3364722366212129,0.4054651081081644],\"y\":[5.0032514878489983e-08,5.2012455211295716e-08,4.8632723775682065e-08,3.985377526292435e-08,1.0598029115340287e-09,0.0,7.104449003835104e-09,-1.2074772300436914e-09,4.615333120203094e-08,1.0471105034389884e-07,-1.2412298974127631e-09]},{\"line\":{\"color\":\"rgba(128, 128, 0, 0.8999999999999999)\",\"dash\":\"solid\",\"shape\":\"linear\",\"width\":1.3},\"mode\":\"lines\",\"name\":\"Tuna\",\"text\":\"\",\"type\":\"scatter\",\"x\":[-0.6931471805599453,-0.5108256237659907,-0.35667494393873245,-0.2231435513142097,-0.10536051565782628,0.0,0.09531017980432493,0.1823215567939546,0.26236426446749106,0.3364722366212129,0.4054651081081644],\"y\":[-0.07822725193250446,-0.05991182649985006,-0.04192584023050033,-0.024257615184881898,-0.006896205589386569,0.0,-3.6562930467743535e-10,-5.181828301125431e-10,-5.615997668484873e-10,-5.359469536274208e-10,-3.9391245828510723e-10]},{\"line\":{\"color\":\"rgba(251, 128, 114, 0.8999999999999999)\",\"dash\":\"solid\",\"shape\":\"linear\",\"width\":1.3},\"mode\":\"lines\",\"name\":\"Almond Milk\",\"text\":\"\",\"type\":\"scatter\",\"x\":[-0.6931471805599453,-0.5108256237659907,-0.35667494393873245,-0.2231435513142097,-0.10536051565782628,0.0,0.09531017980432493,0.1823215567939546,0.26236426446749106,0.3364722366212129,0.4054651081081644],\"y\":[-0.02514868856844941,-0.020068099129027434,-0.015013189298686547,-0.009983663964643901,-0.004979389665427076,0.0,0.004954735811590953,0.009885053713977719,0.01479112419502297,0.019673279135615486,0.024531713223258055]},{\"line\":{\"color\":\"rgba(251, 128, 114, 0.7999999999999998)\",\"dash\":\"solid\",\"shape\":\"linear\",\"width\":1.3},\"mode\":\"lines\",\"name\":\"2% milk\",\"text\":\"\",\"type\":\"scatter\",\"x\":[-0.6931471805599453,-0.5108256237659907,-0.35667494393873245,-0.2231435513142097,-0.10536051565782628,0.0,0.09531017980432493,0.1823215567939546,0.26236426446749106,0.3364722366212129,0.4054651081081644],\"y\":[8.956235046791728e-09,7.923217637226006e-11,-5.493249190368085e-10,-6.714777625072658e-10,-4.6323167534794135e-10,0.0,1.2379552930650388e-09,5.466409088208958e-09,1.1102682267432415e-08,1.1766249859435934e-07,-1.3545448105681998e-09]},{\"line\":{\"color\":\"rgba(128, 177, 211, 0.7999999999999998)\",\"dash\":\"solid\",\"shape\":\"linear\",\"width\":1.3},\"mode\":\"lines\",\"name\":\"Cheddar cheese\",\"text\":\"\",\"type\":\"scatter\",\"x\":[-0.6931471805599453,-0.5108256237659907,-0.35667494393873245,-0.2231435513142097,-0.10536051565782628,0.0,0.09531017980432493,0.1823215567939546,0.26236426446749106,0.3364722366212129,0.4054651081081644],\"y\":[-0.052978936901227305,-0.030804187452126423,-0.011741018676190061,1.1045403847727635e-07,-5.651508151947515e-10,0.0,1.312918809489465e-08,-1.2845096106140797e-09,7.419497074591799e-08,5.132950110889725e-08,7.519386119715601e-08]},{\"line\":{\"color\":\"rgba(255, 153, 51, 0.7999999999999998)\",\"dash\":\"solid\",\"shape\":\"linear\",\"width\":1.3},\"mode\":\"lines\",\"name\":\"Unsalted butter\",\"text\":\"\",\"type\":\"scatter\",\"x\":[-0.6931471805599453,-0.5108256237659907,-0.35667494393873245,-0.2231435513142097,-0.10536051565782628,0.0,0.09531017980432493,0.1823215567939546,0.26236426446749106,0.3364722366212129,0.4054651081081644],\"y\":[4.3727736474941076e-08,4.7182493020841094e-08,-1.2020551228294946e-09,1.1778341918698508e-07,6.108953324527185e-09,0.0,-1.2234057108196511e-09,3.1667041376224716e-08,-1.4924563818165466e-09,-9.716625286872977e-10,-2.5791813132998025e-10]},{\"line\":{\"color\":\"rgba(55, 128, 191, 0.7999999999999998)\",\"dash\":\"solid\",\"shape\":\"linear\",\"width\":1.3},\"mode\":\"lines\",\"name\":\"Greek yogurt\",\"text\":\"\",\"type\":\"scatter\",\"x\":[-0.6931471805599453,-0.5108256237659907,-0.35667494393873245,-0.2231435513142097,-0.10536051565782628,0.0,0.09531017980432493,0.1823215567939546,0.26236426446749106,0.3364722366212129,0.4054651081081644],\"y\":[3.651579541272842e-06,5.209088913323379e-08,1.3986342652818154e-08,4.596195857782413e-09,7.637970253352071e-10,0.0,2.409119123510024e-09,1.171010926274852e-07,-1.2298164716386076e-09,4.6502478563531895e-08,1.1043883863756958e-07]},{\"line\":{\"color\":\"rgba(50, 171, 96, 0.7999999999999998)\",\"dash\":\"solid\",\"shape\":\"linear\",\"width\":1.3},\"mode\":\"lines\",\"name\":\"Oat Milk\",\"text\":\"\",\"type\":\"scatter\",\"x\":[-0.6931471805599453,-0.5108256237659907,-0.35667494393873245,-0.2231435513142097,-0.10536051565782628,0.0,0.09531017980432493,0.1823215567939546,0.26236426446749106,0.3364722366212129,0.4054651081081644],\"y\":[-0.0837228048821697,-0.058952242149611256,-0.035675576227260634,-0.01413953880448772,-0.002721524887100924,0.0,0.002714224662254135,0.005421361620640781,0.008120654399994135,0.01081294424221325,0.013498020106857215]},{\"line\":{\"color\":\"rgba(128, 0, 128, 0.7999999999999998)\",\"dash\":\"solid\",\"shape\":\"linear\",\"width\":1.3},\"mode\":\"lines\",\"name\":\"Wheat Cereal\",\"text\":\"\",\"type\":\"scatter\",\"x\":[-0.6931471805599453,-0.5108256237659907,-0.35667494393873245,-0.2231435513142097,-0.10536051565782628,0.0,0.09531017980432493,0.1823215567939546,0.26236426446749106,0.3364722366212129,0.4054651081081644],\"y\":[-0.026092591055591478,-0.012193758451433919,-0.004039430381781109,-1.2271933476951032e-09,1.0676718119231795e-08,0.0,-3.8553960031933103e-10,-4.626895534447659e-10,1.991352041198549e-08,5.0166014527576223e-08,4.7797968662041096e-08]},{\"line\":{\"color\":\"rgba(219, 64, 82, 0.7999999999999998)\",\"dash\":\"solid\",\"shape\":\"linear\",\"width\":1.3},\"mode\":\"lines\",\"name\":\"Granola\",\"text\":\"\",\"type\":\"scatter\",\"x\":[-0.6931471805599453,-0.5108256237659907,-0.35667494393873245,-0.2231435513142097,-0.10536051565782628,0.0,0.09531017980432493,0.1823215567939546,0.26236426446749106,0.3364722366212129,0.4054651081081644],\"y\":[1.1792129532567359e-07,6.623997106646633e-09,9.325062900564939e-09,4.776723005721739e-09,9.177292255254595e-10,0.0,-5.869016385719218e-10,-4.704469037660461e-10,8.138737872718884e-09,2.5138966432457174e-09,4.92950623716391e-08]},{\"line\":{\"color\":\"rgba(0, 128, 128, 0.7999999999999998)\",\"dash\":\"solid\",\"shape\":\"linear\",\"width\":1.3},\"mode\":\"lines\",\"name\":\"Brown Rice\",\"text\":\"\",\"type\":\"scatter\",\"x\":[-0.6931471805599453,-0.5108256237659907,-0.35667494393873245,-0.2231435513142097,-0.10536051565782628,0.0,0.09531017980432493,0.1823215567939546,0.26236426446749106,0.3364722366212129,0.4054651081081644],\"y\":[-1.206534317627739e-09,-1.5562964262758585e-09,1.1764334880374982e-07,1.0626235390661385e-08,3.205944837793199e-09,0.0,-8.285969691592731e-10,-1.317366216981396e-09,-1.572698306155819e-09,2.4534539636407748e-06,2.54758842562567e-06]},{\"line\":{\"color\":\"rgba(255, 255, 51, 0.7999999999999998)\",\"dash\":\"solid\",\"shape\":\"linear\",\"width\":1.3},\"mode\":\"lines\",\"name\":\"Jasmine Rice\",\"text\":\"\",\"type\":\"scatter\",\"x\":[-0.6931471805599453,-0.5108256237659907,-0.35667494393873245,-0.2231435513142097,-0.10536051565782628,0.0,0.09531017980432493,0.1823215567939546,0.26236426446749106,0.3364722366212129,0.4054651081081644],\"y\":[1.1857719243910314e-09,1.152957211939885e-08,8.011465458917273e-09,4.747849213613212e-09,1.0063998518371e-09,0.0,-8.764512452973956e-10,-1.5513451646452443e-09,-1.7040300296452742e-09,-6.399809573226017e-10,1.248941393969254e-09]},{\"line\":{\"color\":\"rgba(128, 128, 0, 0.7999999999999998)\",\"dash\":\"solid\",\"shape\":\"linear\",\"width\":1.3},\"mode\":\"lines\",\"name\":\"Potatoes\",\"text\":\"\",\"type\":\"scatter\",\"x\":[-0.6931471805599453,-0.5108256237659907,-0.35667494393873245,-0.2231435513142097,-0.10536051565782628,0.0,0.09531017980432493,0.1823215567939546,0.26236426446749106,0.3364722366212129,0.4054651081081644],\"y\":[-0.044567456121755986,-0.031333423688859385,-0.01886210059236882,-0.012535143389004334,-0.0062479363971643725,0.0,0.006209257128946482,0.012380033070902777,0.018512955371501744,0.023272406441675456,0.023272400646237472]},{\"line\":{\"color\":\"rgba(128, 128, 0, 0.7)\",\"dash\":\"solid\",\"shape\":\"linear\",\"width\":1.3},\"mode\":\"lines\",\"name\":\"Bananas\",\"text\":\"\",\"type\":\"scatter\",\"x\":[-0.6931471805599453,-0.5108256237659907,-0.35667494393873245,-0.2231435513142097,-0.10536051565782628,0.0,0.09531017980432493,0.1823215567939546,0.26236426446749106,0.3364722366212129,0.4054651081081644],\"y\":[1.0317156013080144e-09,4.286958112635109e-09,-1.0507935638251727e-09,1.4423393860481861e-07,1.6581302193705816e-08,0.0,5.0252787556422655e-08,4.999750288693653e-08,5.0451086479267667e-08,5.142440940745965e-08,5.256493213548256e-08]},{\"line\":{\"color\":\"rgba(251, 128, 114, 0.7)\",\"dash\":\"solid\",\"shape\":\"linear\",\"width\":1.3},\"mode\":\"lines\",\"name\":\"Apples\",\"text\":\"\",\"type\":\"scatter\",\"x\":[-0.6931471805599453,-0.5108256237659907,-0.35667494393873245,-0.2231435513142097,-0.10536051565782628,0.0,0.09531017980432493,0.1823215567939546,0.26236426446749106,0.3364722366212129,0.4054651081081644],\"y\":[4.985427529306198e-07,1.6700799214531613e-07,7.13958218149808e-08,2.461698157136132e-06,2.126875497529567e-08,0.0,4.662176869130439e-08,1.0837369947068261e-07,1.1678859885542232e-07,4.9951690646337844e-08,8.813160390583128e-08]},{\"line\":{\"color\":\"rgba(128, 177, 211, 0.7)\",\"dash\":\"solid\",\"shape\":\"linear\",\"width\":1.3},\"mode\":\"lines\",\"name\":\"Avocados\",\"text\":\"\",\"type\":\"scatter\",\"x\":[-0.6931471805599453,-0.5108256237659907,-0.35667494393873245,-0.2231435513142097,-0.10536051565782628,0.0,0.09531017980432493,0.1823215567939546,0.26236426446749106,0.3364722366212129,0.4054651081081644],\"y\":[1.8224435276680472e-07,1.2077668091258872e-07,8.971104878460241e-08,2.8514186382978373e-08,2.0815518647482782e-08,0.0,2.110487555855614e-06,1.0125550292231797e-06,-1.562126540454163e-09,-1.2796963489700185e-10,-1.2820016167982331e-09]},{\"line\":{\"color\":\"rgba(255, 153, 51, 0.7)\",\"dash\":\"solid\",\"shape\":\"linear\",\"width\":1.3},\"mode\":\"lines\",\"name\":\"Blue Berries\",\"text\":\"\",\"type\":\"scatter\",\"x\":[-0.6931471805599453,-0.5108256237659907,-0.35667494393873245,-0.2231435513142097,-0.10536051565782628,0.0,0.09531017980432493,0.1823215567939546,0.26236426446749106,0.3364722366212129,0.4054651081081644],\"y\":[6.848073962116463e-08,5.3551588839428884e-08,1.9423038766341555e-08,3.094494211638877e-09,2.2446933198561942e-10,0.0,5.9821407648412866e-09,1.0722948154039196e-07,1.7599108821432299e-09,3.458781401424945e-08,1.4946998416069764e-08]},{\"line\":{\"color\":\"rgba(55, 128, 191, 0.7)\",\"dash\":\"solid\",\"shape\":\"linear\",\"width\":1.3},\"mode\":\"lines\",\"name\":\"Tomatoes\",\"text\":\"\",\"type\":\"scatter\",\"x\":[-0.6931471805599453,-0.5108256237659907,-0.35667494393873245,-0.2231435513142097,-0.10536051565782628,0.0,0.09531017980432493,0.1823215567939546,0.26236426446749106,0.3364722366212129,0.4054651081081644],\"y\":[6.811715515015323e-08,1.5087328691772852e-07,6.473147408416532e-08,5.001984856668029e-08,-1.4957953775680955e-09,0.0,4.822264693418428e-08,3.1068988676525415e-08,-1.3667791352493084e-09,9.520889401049763e-08,-1.2136126555521046e-09]},{\"line\":{\"color\":\"rgba(50, 171, 96, 0.7)\",\"dash\":\"solid\",\"shape\":\"linear\",\"width\":1.3},\"mode\":\"lines\",\"name\":\"Kale\",\"text\":\"\",\"type\":\"scatter\",\"x\":[-0.6931471805599453,-0.5108256237659907,-0.35667494393873245,-0.2231435513142097,-0.10536051565782628,0.0,0.09531017980432493,0.1823215567939546,0.26236426446749106,0.3364722366212129,0.4054651081081644],\"y\":[5.692287291977766e-09,8.708016526287544e-10,4.6034676121743414e-08,4.870862812328483e-09,3.5940230726868578e-09,0.0,-1.1355901780926919e-09,2.144540883627293e-07,-1.419726226478963e-09,-1.0998256755820477e-09,-8.013246736040377e-10]},{\"line\":{\"color\":\"rgba(128, 0, 128, 0.7)\",\"dash\":\"solid\",\"shape\":\"linear\",\"width\":1.3},\"mode\":\"lines\",\"name\":\"Garlic\",\"text\":\"\",\"type\":\"scatter\",\"x\":[-0.6931471805599453,-0.5108256237659907,-0.35667494393873245,-0.2231435513142097,-0.10536051565782628,0.0,0.09531017980432493,0.1823215567939546,0.26236426446749106,0.3364722366212129,0.4054651081081644],\"y\":[7.674882921939823e-09,2.776059898061824e-06,3.666444925375888e-11,-1.0603735672924732e-09,-1.5404784126857167e-09,0.0,-1.4020874471280418e-09,9.535882517479514e-08,5.1612857987817093e-08,4.767649228333305e-08,2.0650626550927336e-08]},{\"line\":{\"color\":\"rgba(219, 64, 82, 0.7)\",\"dash\":\"solid\",\"shape\":\"linear\",\"width\":1.3},\"mode\":\"lines\",\"name\":\"Red Onion\",\"text\":\"\",\"type\":\"scatter\",\"x\":[-0.6931471805599453,-0.5108256237659907,-0.35667494393873245,-0.2231435513142097,-0.10536051565782628,0.0,0.09531017980432493,0.1823215567939546,0.26236426446749106,0.3364722366212129,0.4054651081081644],\"y\":[-1.2879164409918265e-09,1.0885308261841807e-07,4.753567648657459e-08,-1.2066276873842227e-09,8.838129744527512e-09,0.0,-1.7202861359125507e-10,5.558422609529062e-10,-1.4877055154424914e-09,1.5010614194427897e-08,3.415781754616496e-08]},{\"line\":{\"color\":\"rgba(0, 128, 128, 0.7)\",\"dash\":\"solid\",\"shape\":\"linear\",\"width\":1.3},\"mode\":\"lines\",\"name\":\"Yellow Onion\",\"text\":\"\",\"type\":\"scatter\",\"x\":[-0.6931471805599453,-0.5108256237659907,-0.35667494393873245,-0.2231435513142097,-0.10536051565782628,0.0,0.09531017980432493,0.1823215567939546,0.26236426446749106,0.3364722366212129,0.4054651081081644],\"y\":[4.706902179377828e-08,1.1305604146599538e-07,-1.298072317145019e-09,1.4981191952448912e-08,3.165401047375282e-09,0.0,-2.6754320984449684e-10,-1.5250734010149836e-10,4.150071396784961e-10,2.0480903618734632e-09,4.507143068224585e-08]},{\"line\":{\"color\":\"rgba(255, 255, 51, 0.7)\",\"dash\":\"solid\",\"shape\":\"linear\",\"width\":1.3},\"mode\":\"lines\",\"name\":\"White Onion\",\"text\":\"\",\"type\":\"scatter\",\"x\":[-0.6931471805599453,-0.5108256237659907,-0.35667494393873245,-0.2231435513142097,-0.10536051565782628,0.0,0.09531017980432493,0.1823215567939546,0.26236426446749106,0.3364722366212129,0.4054651081081644],\"y\":[9.709801713108635e-08,4.555892426119737e-08,-1.2190050087892677e-09,-7.98895061535004e-10,3.4812808131134357e-09,0.0,-4.452060943119398e-10,-7.037612717287248e-10,-8.916979381080521e-10,-9.801053307086013e-10,-1.2776487653800144e-09]},{\"line\":{\"color\":\"rgba(255, 255, 51, 0.5999999999999999)\",\"dash\":\"solid\",\"shape\":\"linear\",\"width\":1.3},\"mode\":\"lines\",\"name\":\"Cauliflower\",\"text\":\"\",\"type\":\"scatter\",\"x\":[-0.6931471805599453,-0.5108256237659907,-0.35667494393873245,-0.2231435513142097,-0.10536051565782628,0.0,0.09531017980432493,0.1823215567939546,0.26236426446749106,0.3364722366212129,0.4054651081081644],\"y\":[1.6575722656965758e-08,4.235205940638165e-08,9.586749126332757e-09,-1.285303864166917e-09,2.931527977553719e-06,0.0,-5.211147070774968e-10,-7.917370096003428e-10,-2.007797261984247e-10,-1.3960306254087254e-09,3.5020348673939055e-08]},{\"line\":{\"color\":\"rgba(128, 128, 0, 0.5999999999999999)\",\"dash\":\"solid\",\"shape\":\"linear\",\"width\":1.3},\"mode\":\"lines\",\"name\":\"Broccoli\",\"text\":\"\",\"type\":\"scatter\",\"x\":[-0.6931471805599453,-0.5108256237659907,-0.35667494393873245,-0.2231435513142097,-0.10536051565782628,0.0,0.09531017980432493,0.1823215567939546,0.26236426446749106,0.3364722366212129,0.4054651081081644],\"y\":[-0.015222202718914198,-0.0056111110307677115,5.808069579150444e-10,8.850435935761425e-10,8.548744786604198e-09,0.0,3.2261777839498794e-08,1.926087248907406e-08,-1.0436571612377112e-09,1.819795586539138e-08,2.1692899907575777e-08]},{\"line\":{\"color\":\"rgba(251, 128, 114, 0.5999999999999999)\",\"dash\":\"solid\",\"shape\":\"linear\",\"width\":1.3},\"mode\":\"lines\",\"name\":\"Carrots\",\"text\":\"\",\"type\":\"scatter\",\"x\":[-0.6931471805599453,-0.5108256237659907,-0.35667494393873245,-0.2231435513142097,-0.10536051565782628,0.0,0.09531017980432493,0.1823215567939546,0.26236426446749106,0.3364722366212129,0.4054651081081644],\"y\":[2.5830790942446126e-06,4.913815655769264e-08,1.4079560273582521e-06,-9.87992244060997e-10,-9.528943194602516e-10,0.0,1.689507208740581e-08,-1.2056375904896678e-09,1.8424138711476757e-08,4.426053248101879e-08,-1.2095182640546287e-09]},{\"line\":{\"color\":\"rgba(128, 177, 211, 0.5999999999999999)\",\"dash\":\"solid\",\"shape\":\"linear\",\"width\":1.3},\"mode\":\"lines\",\"name\":\"Sweet Potatoes\",\"text\":\"\",\"type\":\"scatter\",\"x\":[-0.6931471805599453,-0.5108256237659907,-0.35667494393873245,-0.2231435513142097,-0.10536051565782628,0.0,0.09531017980432493,0.1823215567939546,0.26236426446749106,0.3364722366212129,0.4054651081081644],\"y\":[9.230482390488336e-07,4.353412731933001e-09,4.774479244999687e-09,1.5905003967872402e-09,5.792566424843571e-10,0.0,-4.3796555280904453e-10,-7.846998609532095e-10,-1.0801710642887778e-09,-1.343847256599991e-09,-1.5685899258467408e-09]},{\"line\":{\"color\":\"rgba(255, 153, 51, 0.5999999999999999)\",\"dash\":\"solid\",\"shape\":\"linear\",\"width\":1.3},\"mode\":\"lines\",\"name\":\"Romaine Lettuce\",\"text\":\"\",\"type\":\"scatter\",\"x\":[-0.6931471805599453,-0.5108256237659907,-0.35667494393873245,-0.2231435513142097,-0.10536051565782628,0.0,0.09531017980432493,0.1823215567939546,0.26236426446749106,0.3364722366212129,0.4054651081081644],\"y\":[-0.11100561692146876,-0.0817741512688465,-0.057983807558604286,-0.036682809186087524,-0.018173219231632128,0.0,0.01784888487941636,0.035384720416794135,0.0526184466176124,0.06956001973976211,0.08621983737119256]},{\"line\":{\"color\":\"rgba(55, 128, 191, 0.5999999999999999)\",\"dash\":\"solid\",\"shape\":\"linear\",\"width\":1.3},\"mode\":\"lines\",\"name\":\"Spinach\",\"text\":\"\",\"type\":\"scatter\",\"x\":[-0.6931471805599453,-0.5108256237659907,-0.35667494393873245,-0.2231435513142097,-0.10536051565782628,0.0,0.09531017980432493,0.1823215567939546,0.26236426446749106,0.3364722366212129,0.4054651081081644],\"y\":[-6.275979737872943e-10,-9.661805804532943e-10,-1.3979283296273681e-09,7.101808031182973e-07,-1.5424217470710162e-09,0.0,1.6884684747209911e-09,2.1606317612562624e-08,4.860526463094905e-08,3.941399551219686e-08,2.3238169139716544e-09]},{\"line\":{\"color\":\"rgba(50, 171, 96, 0.5999999999999999)\",\"dash\":\"solid\",\"shape\":\"linear\",\"width\":1.3},\"mode\":\"lines\",\"name\":\"Cucumbers\",\"text\":\"\",\"type\":\"scatter\",\"x\":[-0.6931471805599453,-0.5108256237659907,-0.35667494393873245,-0.2231435513142097,-0.10536051565782628,0.0,0.09531017980432493,0.1823215567939546,0.26236426446749106,0.3364722366212129,0.4054651081081644],\"y\":[2.1219289433573553e-08,1.6725887423973306e-08,4.928148523289555e-08,1.519545677731829e-08,-2.7025504060517545e-10,0.0,4.800507862502297e-07,1.4139770365637775e-08,1.275577642697834e-09,-1.367488456740711e-09,1.5454778004499403e-08]},{\"line\":{\"color\":\"rgba(128, 0, 128, 0.5999999999999999)\",\"dash\":\"solid\",\"shape\":\"linear\",\"width\":1.3},\"mode\":\"lines\",\"name\":\"Cremini Mushrooms\",\"text\":\"\",\"type\":\"scatter\",\"x\":[-0.6931471805599453,-0.5108256237659907,-0.35667494393873245,-0.2231435513142097,-0.10536051565782628,0.0,0.09531017980432493,0.1823215567939546,0.26236426446749106,0.3364722366212129,0.4054651081081644],\"y\":[4.851129930429322e-09,1.4036514296731804e-08,8.350131440292051e-09,-1.5873614657544214e-09,2.5047406501617642e-08,0.0,3.1452794540497055e-08,8.697380681574618e-08,-8.751536166250772e-10,1.044967951149565e-08,2.0723148798449115e-06]},{\"line\":{\"color\":\"rgba(219, 64, 82, 0.5999999999999999)\",\"dash\":\"solid\",\"shape\":\"linear\",\"width\":1.3},\"mode\":\"lines\",\"name\":\"Jalepenos\",\"text\":\"\",\"type\":\"scatter\",\"x\":[-0.6931471805599453,-0.5108256237659907,-0.35667494393873245,-0.2231435513142097,-0.10536051565782628,0.0,0.09531017980432493,0.1823215567939546,0.26236426446749106,0.3364722366212129,0.4054651081081644],\"y\":[-0.0042380951195136966,2.0138441378218458e-08,-1.4003694880173295e-09,1.7245017931507744e-08,1.305738175718194e-08,0.0,5.587217376991234e-08,5.8621266121726904e-08,-1.407423956148004e-09,-2.62693422604741e-10,1.6374013255041117e-10]},{\"line\":{\"color\":\"rgba(0, 128, 128, 0.5999999999999999)\",\"dash\":\"solid\",\"shape\":\"linear\",\"width\":1.3},\"mode\":\"lines\",\"name\":\"Olive Oil\",\"text\":\"\",\"type\":\"scatter\",\"x\":[-0.6931471805599453,-0.5108256237659907,-0.35667494393873245,-0.2231435513142097,-0.10536051565782628,0.0,0.09531017980432493,0.1823215567939546,0.26236426446749106,0.3364722366212129,0.4054651081081644],\"y\":[1.0842375253805452e-07,4.553448669922619e-08,1.0960239781306575e-07,-1.546165308093531e-09,8.555362159863581e-09,0.0,-9.251404091530982e-10,-1.2964905823997835e-09,-1.1025732555264156e-09,-8.662277565662266e-10,5.129012061205598e-08]},{\"line\":{\"color\":\"rgba(0, 128, 128, 0.49999999999999983)\",\"dash\":\"solid\",\"shape\":\"linear\",\"width\":1.3},\"mode\":\"lines\",\"name\":\"Vegetable Oil\",\"text\":\"\",\"type\":\"scatter\",\"x\":[-0.6931471805599453,-0.5108256237659907,-0.35667494393873245,-0.2231435513142097,-0.10536051565782628,0.0,0.09531017980432493,0.1823215567939546,0.26236426446749106,0.3364722366212129,0.4054651081081644],\"y\":[4.669366584284614e-08,1.0464110696680268e-07,-1.2217510344217267e-09,5.599034567747194e-10,5.4142319370045095e-09,0.0,-7.85869369888268e-10,-1.1356804392246965e-09,-1.148982909476346e-09,-8.785102649206721e-10,2.7787375003860775e-07]},{\"line\":{\"color\":\"rgba(255, 255, 51, 0.49999999999999983)\",\"dash\":\"solid\",\"shape\":\"linear\",\"width\":1.3},\"mode\":\"lines\",\"name\":\"Salt\",\"text\":\"\",\"type\":\"scatter\",\"x\":[-0.6931471805599453,-0.5108256237659907,-0.35667494393873245,-0.2231435513142097,-0.10536051565782628,0.0,0.09531017980432493,0.1823215567939546,0.26236426446749106,0.3364722366212129,0.4054651081081644],\"y\":[7.936505643382964e-09,5.690945254393238e-09,3.65652840670205e-09,2.0549986136077183e-09,8.61192672358945e-10,0.0,-6.448873659384797e-10,-1.1552994123599258e-09,-1.5375906115719197e-09,4.3664129504997686e-07,-1.4656531554717977e-09]},{\"line\":{\"color\":\"rgba(128, 128, 0, 0.49999999999999983)\",\"dash\":\"solid\",\"shape\":\"linear\",\"width\":1.3},\"mode\":\"lines\",\"name\":\"Tomato Sauce\",\"text\":\"\",\"type\":\"scatter\",\"x\":[-0.6931471805599453,-0.5108256237659907,-0.35667494393873245,-0.2231435513142097,-0.10536051565782628,0.0,0.09531017980432493,0.1823215567939546,0.26236426446749106,0.3364722366212129,0.4054651081081644],\"y\":[-6.754456995999484e-10,1.4159744831880383e-08,-1.5875203386694975e-09,2.759480862225137e-09,2.1195505835747278e-07,0.0,1.3598609402070708e-07,1.803470501293869e-07,-7.437785945464871e-10,8.886229712553916e-09,1.111846614158267e-09]},{\"line\":{\"color\":\"rgba(251, 128, 114, 0.49999999999999983)\",\"dash\":\"solid\",\"shape\":\"linear\",\"width\":1.3},\"mode\":\"lines\",\"name\":\"Sugar\",\"text\":\"\",\"type\":\"scatter\",\"x\":[-0.6931471805599453,-0.5108256237659907,-0.35667494393873245,-0.2231435513142097,-0.10536051565782628,0.0,0.09531017980432493,0.1823215567939546,0.26236426446749106,0.3364722366212129,0.4054651081081644],\"y\":[9.97714017533199e-09,7.618890600477859e-09,5.287965606955739e-09,2.635888392966624e-09,6.688876117416689e-10,0.0,-6.323385150831277e-10,-1.184897070052645e-09,3.3534772562536756e-06,2.6976502667540343e-08,-1.284094609246942e-09]},{\"line\":{\"color\":\"rgba(128, 177, 211, 0.49999999999999983)\",\"dash\":\"solid\",\"shape\":\"linear\",\"width\":1.3},\"mode\":\"lines\",\"name\":\"Honey\",\"text\":\"\",\"type\":\"scatter\",\"x\":[-0.6931471805599453,-0.5108256237659907,-0.35667494393873245,-0.2231435513142097,-0.10536051565782628,0.0,0.09531017980432493,0.1823215567939546,0.26236426446749106,0.3364722366212129,0.4054651081081644],\"y\":[1.550266414325632e-08,-1.23740862077957e-09,4.442301183696461e-09,6.428863420933622e-09,1.738494680035672e-09,0.0,-7.772075208656755e-10,7.932737324422683e-09,-1.2173192461466232e-09,2.4087556103831712e-08,4.910403563106369e-08]},{\"line\":{\"color\":\"rgba(255, 153, 51, 0.49999999999999983)\",\"dash\":\"solid\",\"shape\":\"linear\",\"width\":1.3},\"mode\":\"lines\",\"name\":\"Bread (white bread)\",\"text\":\"\",\"type\":\"scatter\",\"x\":[-0.6931471805599453,-0.5108256237659907,-0.35667494393873245,-0.2231435513142097,-0.10536051565782628,0.0,0.09531017980432493,0.1823215567939546,0.26236426446749106,0.3364722366212129,0.4054651081081644],\"y\":[0.0,0.0,0.0,0.0,0.0,0.0,0.0,0.0,0.0,0.0,0.0]}],                        {\"legend\":{\"bgcolor\":\"#F5F6F9\",\"font\":{\"color\":\"#4D5663\"}},\"paper_bgcolor\":\"#F5F6F9\",\"plot_bgcolor\":\"#F5F6F9\",\"template\":{\"data\":{\"bar\":[{\"error_x\":{\"color\":\"#2a3f5f\"},\"error_y\":{\"color\":\"#2a3f5f\"},\"marker\":{\"line\":{\"color\":\"#E5ECF6\",\"width\":0.5},\"pattern\":{\"fillmode\":\"overlay\",\"size\":10,\"solidity\":0.2}},\"type\":\"bar\"}],\"barpolar\":[{\"marker\":{\"line\":{\"color\":\"#E5ECF6\",\"width\":0.5},\"pattern\":{\"fillmode\":\"overlay\",\"size\":10,\"solidity\":0.2}},\"type\":\"barpolar\"}],\"carpet\":[{\"aaxis\":{\"endlinecolor\":\"#2a3f5f\",\"gridcolor\":\"white\",\"linecolor\":\"white\",\"minorgridcolor\":\"white\",\"startlinecolor\":\"#2a3f5f\"},\"baxis\":{\"endlinecolor\":\"#2a3f5f\",\"gridcolor\":\"white\",\"linecolor\":\"white\",\"minorgridcolor\":\"white\",\"startlinecolor\":\"#2a3f5f\"},\"type\":\"carpet\"}],\"choropleth\":[{\"colorbar\":{\"outlinewidth\":0,\"ticks\":\"\"},\"type\":\"choropleth\"}],\"contour\":[{\"colorbar\":{\"outlinewidth\":0,\"ticks\":\"\"},\"colorscale\":[[0.0,\"#0d0887\"],[0.1111111111111111,\"#46039f\"],[0.2222222222222222,\"#7201a8\"],[0.3333333333333333,\"#9c179e\"],[0.4444444444444444,\"#bd3786\"],[0.5555555555555556,\"#d8576b\"],[0.6666666666666666,\"#ed7953\"],[0.7777777777777778,\"#fb9f3a\"],[0.8888888888888888,\"#fdca26\"],[1.0,\"#f0f921\"]],\"type\":\"contour\"}],\"contourcarpet\":[{\"colorbar\":{\"outlinewidth\":0,\"ticks\":\"\"},\"type\":\"contourcarpet\"}],\"heatmap\":[{\"colorbar\":{\"outlinewidth\":0,\"ticks\":\"\"},\"colorscale\":[[0.0,\"#0d0887\"],[0.1111111111111111,\"#46039f\"],[0.2222222222222222,\"#7201a8\"],[0.3333333333333333,\"#9c179e\"],[0.4444444444444444,\"#bd3786\"],[0.5555555555555556,\"#d8576b\"],[0.6666666666666666,\"#ed7953\"],[0.7777777777777778,\"#fb9f3a\"],[0.8888888888888888,\"#fdca26\"],[1.0,\"#f0f921\"]],\"type\":\"heatmap\"}],\"heatmapgl\":[{\"colorbar\":{\"outlinewidth\":0,\"ticks\":\"\"},\"colorscale\":[[0.0,\"#0d0887\"],[0.1111111111111111,\"#46039f\"],[0.2222222222222222,\"#7201a8\"],[0.3333333333333333,\"#9c179e\"],[0.4444444444444444,\"#bd3786\"],[0.5555555555555556,\"#d8576b\"],[0.6666666666666666,\"#ed7953\"],[0.7777777777777778,\"#fb9f3a\"],[0.8888888888888888,\"#fdca26\"],[1.0,\"#f0f921\"]],\"type\":\"heatmapgl\"}],\"histogram\":[{\"marker\":{\"pattern\":{\"fillmode\":\"overlay\",\"size\":10,\"solidity\":0.2}},\"type\":\"histogram\"}],\"histogram2d\":[{\"colorbar\":{\"outlinewidth\":0,\"ticks\":\"\"},\"colorscale\":[[0.0,\"#0d0887\"],[0.1111111111111111,\"#46039f\"],[0.2222222222222222,\"#7201a8\"],[0.3333333333333333,\"#9c179e\"],[0.4444444444444444,\"#bd3786\"],[0.5555555555555556,\"#d8576b\"],[0.6666666666666666,\"#ed7953\"],[0.7777777777777778,\"#fb9f3a\"],[0.8888888888888888,\"#fdca26\"],[1.0,\"#f0f921\"]],\"type\":\"histogram2d\"}],\"histogram2dcontour\":[{\"colorbar\":{\"outlinewidth\":0,\"ticks\":\"\"},\"colorscale\":[[0.0,\"#0d0887\"],[0.1111111111111111,\"#46039f\"],[0.2222222222222222,\"#7201a8\"],[0.3333333333333333,\"#9c179e\"],[0.4444444444444444,\"#bd3786\"],[0.5555555555555556,\"#d8576b\"],[0.6666666666666666,\"#ed7953\"],[0.7777777777777778,\"#fb9f3a\"],[0.8888888888888888,\"#fdca26\"],[1.0,\"#f0f921\"]],\"type\":\"histogram2dcontour\"}],\"mesh3d\":[{\"colorbar\":{\"outlinewidth\":0,\"ticks\":\"\"},\"type\":\"mesh3d\"}],\"parcoords\":[{\"line\":{\"colorbar\":{\"outlinewidth\":0,\"ticks\":\"\"}},\"type\":\"parcoords\"}],\"pie\":[{\"automargin\":true,\"type\":\"pie\"}],\"scatter\":[{\"marker\":{\"colorbar\":{\"outlinewidth\":0,\"ticks\":\"\"}},\"type\":\"scatter\"}],\"scatter3d\":[{\"line\":{\"colorbar\":{\"outlinewidth\":0,\"ticks\":\"\"}},\"marker\":{\"colorbar\":{\"outlinewidth\":0,\"ticks\":\"\"}},\"type\":\"scatter3d\"}],\"scattercarpet\":[{\"marker\":{\"colorbar\":{\"outlinewidth\":0,\"ticks\":\"\"}},\"type\":\"scattercarpet\"}],\"scattergeo\":[{\"marker\":{\"colorbar\":{\"outlinewidth\":0,\"ticks\":\"\"}},\"type\":\"scattergeo\"}],\"scattergl\":[{\"marker\":{\"colorbar\":{\"outlinewidth\":0,\"ticks\":\"\"}},\"type\":\"scattergl\"}],\"scattermapbox\":[{\"marker\":{\"colorbar\":{\"outlinewidth\":0,\"ticks\":\"\"}},\"type\":\"scattermapbox\"}],\"scatterpolar\":[{\"marker\":{\"colorbar\":{\"outlinewidth\":0,\"ticks\":\"\"}},\"type\":\"scatterpolar\"}],\"scatterpolargl\":[{\"marker\":{\"colorbar\":{\"outlinewidth\":0,\"ticks\":\"\"}},\"type\":\"scatterpolargl\"}],\"scatterternary\":[{\"marker\":{\"colorbar\":{\"outlinewidth\":0,\"ticks\":\"\"}},\"type\":\"scatterternary\"}],\"surface\":[{\"colorbar\":{\"outlinewidth\":0,\"ticks\":\"\"},\"colorscale\":[[0.0,\"#0d0887\"],[0.1111111111111111,\"#46039f\"],[0.2222222222222222,\"#7201a8\"],[0.3333333333333333,\"#9c179e\"],[0.4444444444444444,\"#bd3786\"],[0.5555555555555556,\"#d8576b\"],[0.6666666666666666,\"#ed7953\"],[0.7777777777777778,\"#fb9f3a\"],[0.8888888888888888,\"#fdca26\"],[1.0,\"#f0f921\"]],\"type\":\"surface\"}],\"table\":[{\"cells\":{\"fill\":{\"color\":\"#EBF0F8\"},\"line\":{\"color\":\"white\"}},\"header\":{\"fill\":{\"color\":\"#C8D4E3\"},\"line\":{\"color\":\"white\"}},\"type\":\"table\"}]},\"layout\":{\"annotationdefaults\":{\"arrowcolor\":\"#2a3f5f\",\"arrowhead\":0,\"arrowwidth\":1},\"autotypenumbers\":\"strict\",\"coloraxis\":{\"colorbar\":{\"outlinewidth\":0,\"ticks\":\"\"}},\"colorscale\":{\"diverging\":[[0,\"#8e0152\"],[0.1,\"#c51b7d\"],[0.2,\"#de77ae\"],[0.3,\"#f1b6da\"],[0.4,\"#fde0ef\"],[0.5,\"#f7f7f7\"],[0.6,\"#e6f5d0\"],[0.7,\"#b8e186\"],[0.8,\"#7fbc41\"],[0.9,\"#4d9221\"],[1,\"#276419\"]],\"sequential\":[[0.0,\"#0d0887\"],[0.1111111111111111,\"#46039f\"],[0.2222222222222222,\"#7201a8\"],[0.3333333333333333,\"#9c179e\"],[0.4444444444444444,\"#bd3786\"],[0.5555555555555556,\"#d8576b\"],[0.6666666666666666,\"#ed7953\"],[0.7777777777777778,\"#fb9f3a\"],[0.8888888888888888,\"#fdca26\"],[1.0,\"#f0f921\"]],\"sequentialminus\":[[0.0,\"#0d0887\"],[0.1111111111111111,\"#46039f\"],[0.2222222222222222,\"#7201a8\"],[0.3333333333333333,\"#9c179e\"],[0.4444444444444444,\"#bd3786\"],[0.5555555555555556,\"#d8576b\"],[0.6666666666666666,\"#ed7953\"],[0.7777777777777778,\"#fb9f3a\"],[0.8888888888888888,\"#fdca26\"],[1.0,\"#f0f921\"]]},\"colorway\":[\"#636efa\",\"#EF553B\",\"#00cc96\",\"#ab63fa\",\"#FFA15A\",\"#19d3f3\",\"#FF6692\",\"#B6E880\",\"#FF97FF\",\"#FECB52\"],\"font\":{\"color\":\"#2a3f5f\"},\"geo\":{\"bgcolor\":\"white\",\"lakecolor\":\"white\",\"landcolor\":\"#E5ECF6\",\"showlakes\":true,\"showland\":true,\"subunitcolor\":\"white\"},\"hoverlabel\":{\"align\":\"left\"},\"hovermode\":\"closest\",\"mapbox\":{\"style\":\"light\"},\"paper_bgcolor\":\"white\",\"plot_bgcolor\":\"#E5ECF6\",\"polar\":{\"angularaxis\":{\"gridcolor\":\"white\",\"linecolor\":\"white\",\"ticks\":\"\"},\"bgcolor\":\"#E5ECF6\",\"radialaxis\":{\"gridcolor\":\"white\",\"linecolor\":\"white\",\"ticks\":\"\"}},\"scene\":{\"xaxis\":{\"backgroundcolor\":\"#E5ECF6\",\"gridcolor\":\"white\",\"gridwidth\":2,\"linecolor\":\"white\",\"showbackground\":true,\"ticks\":\"\",\"zerolinecolor\":\"white\"},\"yaxis\":{\"backgroundcolor\":\"#E5ECF6\",\"gridcolor\":\"white\",\"gridwidth\":2,\"linecolor\":\"white\",\"showbackground\":true,\"ticks\":\"\",\"zerolinecolor\":\"white\"},\"zaxis\":{\"backgroundcolor\":\"#E5ECF6\",\"gridcolor\":\"white\",\"gridwidth\":2,\"linecolor\":\"white\",\"showbackground\":true,\"ticks\":\"\",\"zerolinecolor\":\"white\"}},\"shapedefaults\":{\"line\":{\"color\":\"#2a3f5f\"}},\"ternary\":{\"aaxis\":{\"gridcolor\":\"white\",\"linecolor\":\"white\",\"ticks\":\"\"},\"baxis\":{\"gridcolor\":\"white\",\"linecolor\":\"white\",\"ticks\":\"\"},\"bgcolor\":\"#E5ECF6\",\"caxis\":{\"gridcolor\":\"white\",\"linecolor\":\"white\",\"ticks\":\"\"}},\"title\":{\"x\":0.05},\"xaxis\":{\"automargin\":true,\"gridcolor\":\"white\",\"linecolor\":\"white\",\"ticks\":\"\",\"title\":{\"standoff\":15},\"zerolinecolor\":\"white\",\"zerolinewidth\":2},\"yaxis\":{\"automargin\":true,\"gridcolor\":\"white\",\"linecolor\":\"white\",\"ticks\":\"\",\"title\":{\"standoff\":15},\"zerolinecolor\":\"white\",\"zerolinewidth\":2}}},\"title\":{\"font\":{\"color\":\"#4D5663\"}},\"xaxis\":{\"gridcolor\":\"#E1E5ED\",\"showgrid\":true,\"tickfont\":{\"color\":\"#4D5663\"},\"title\":{\"font\":{\"color\":\"#4D5663\"},\"text\":\"change in log price\"},\"zerolinecolor\":\"#E1E5ED\"},\"yaxis\":{\"gridcolor\":\"#E1E5ED\",\"showgrid\":true,\"tickfont\":{\"color\":\"#4D5663\"},\"title\":{\"font\":{\"color\":\"#4D5663\"},\"text\":\"change in log cost\"},\"zerolinecolor\":\"#E1E5ED\"}},                        {\"showLink\": true, \"linkText\": \"Export to plot.ly\", \"plotlyServerURL\": \"https://plot.ly\", \"responsive\": true}                    ).then(function(){\n",
       "                            \n",
       "var gd = document.getElementById('28761548-54c1-4b60-92e8-a0d4ab47fb1f');\n",
       "var x = new MutationObserver(function (mutations, observer) {{\n",
       "        var display = window.getComputedStyle(gd).display;\n",
       "        if (!display || display === 'none') {{\n",
       "            console.log([gd, 'removed!']);\n",
       "            Plotly.purge(gd);\n",
       "            observer.disconnect();\n",
       "        }}\n",
       "}});\n",
       "\n",
       "// Listen for the removal of the full notebook cells\n",
       "var notebookContainer = gd.closest('#notebook-container');\n",
       "if (notebookContainer) {{\n",
       "    x.observe(notebookContainer, {childList: true});\n",
       "}}\n",
       "\n",
       "// Listen for the clearing of the current output cell\n",
       "var outputEl = gd.closest('.output');\n",
       "if (outputEl) {{\n",
       "    x.observe(outputEl, {childList: true});\n",
       "}}\n",
       "\n",
       "                        })                };                });            </script>        </div>"
      ]
     },
     "metadata": {},
     "output_type": "display_data"
    }
   ],
   "source": [
    "#safeway\n",
    "\n",
    "scale = [.5,.6,.7,.8,.9,1.,1.1,1.2,1.3,1.4,1.5]\n",
    "\n",
    "cost0 = solve_subsistence_problem(FoodNutrients,prices_sw,diet_min[group],diet_max[group],tol=tol).fun\n",
    "\n",
    "Price_response={}\n",
    "for s in scale:\n",
    "    cost = {}\n",
    "    for i,p in enumerate(prices_sw):\n",
    "        my_p = prices_sw.copy()\n",
    "        my_p[i] = p*s\n",
    "        result = solve_subsistence_problem(FoodNutrients,my_p,diet_min[group],diet_max[group],tol=tol)\n",
    "        cost[prices_sw.index[i]] = np.log(result.fun/cost0)\n",
    "    Price_response[np.log(s)] = cost\n",
    "\n",
    "Price_response = pd.DataFrame(Price_response).T\n",
    "Price_response.iplot(xTitle='change in log price',yTitle='change in log cost')"
   ]
  },
  {
   "cell_type": "code",
   "execution_count": 70,
   "id": "ac0d83cb",
   "metadata": {},
   "outputs": [
    {
     "data": {
      "text/html": [
       "        <script type=\"text/javascript\">\n",
       "        window.PlotlyConfig = {MathJaxConfig: 'local'};\n",
       "        if (window.MathJax) {MathJax.Hub.Config({SVG: {font: \"STIX-Web\"}});}\n",
       "        if (typeof require !== 'undefined') {\n",
       "        require.undef(\"plotly\");\n",
       "        requirejs.config({\n",
       "            paths: {\n",
       "                'plotly': ['https://cdn.plot.ly/plotly-2.3.1.min']\n",
       "            }\n",
       "        });\n",
       "        require(['plotly'], function(Plotly) {\n",
       "            window._Plotly = Plotly;\n",
       "        });\n",
       "        }\n",
       "        </script>\n",
       "        "
      ]
     },
     "metadata": {},
     "output_type": "display_data"
    },
    {
     "name": "stderr",
     "output_type": "stream",
     "text": [
      "/opt/conda/lib/python3.9/site-packages/pandas/core/dtypes/cast.py:1990: UnitStrippedWarning:\n",
      "\n",
      "The unit of the quantity is stripped when downcasting to ndarray.\n",
      "\n"
     ]
    },
    {
     "data": {
      "application/vnd.plotly.v1+json": {
       "config": {
        "linkText": "Export to plot.ly",
        "plotlyServerURL": "https://plot.ly",
        "showLink": true
       },
       "data": [
        {
         "line": {
          "color": "rgba(255, 153, 51, 1.0)",
          "dash": "solid",
          "shape": "linear",
          "width": 1.3
         },
         "mode": "lines",
         "name": "Peanut Butter",
         "text": "",
         "type": "scatter",
         "x": [
          1.4319023928907797,
          2.1478535893361697,
          2.5774243072034033,
          2.8638047857815594,
          3.1501852643597155,
          3.436565742937871,
          3.722946221516027,
          4.009326700094183,
          4.295707178672339,
          5.727609571563119,
          11.455219143126238
         ],
         "y": [
          1.3239286408585524,
          1.3239261720353248,
          1.323927410241978,
          1.3239285361803448,
          1.3239268988571637,
          1.3239286356857882,
          1.3239285761188988,
          0.8904417750029108,
          1.5602408761348674,
          2.3375906836460544e-08,
          2.4194809763316938e-11
         ]
        },
        {
         "line": {
          "color": "rgba(55, 128, 191, 1.0)",
          "dash": "solid",
          "shape": "linear",
          "width": 1.3
         },
         "mode": "lines",
         "name": "Black Beans",
         "text": "",
         "type": "scatter",
         "x": [
          1.4319023928907797,
          2.1478535893361697,
          2.5774243072034033,
          2.8638047857815594,
          3.1501852643597155,
          3.436565742937871,
          3.722946221516027,
          4.009326700094183,
          4.295707178672339,
          5.727609571563119,
          11.455219143126238
         ],
         "y": [
          1.1536734732149811,
          1.1536724712158584,
          1.1536728726483385,
          1.1536734161381164,
          1.1536724372509009,
          1.1536734717309802,
          1.1536734314479962,
          1.145601517960399,
          0.8012407869188787,
          0.272804490356567,
          0.20853888738420648
         ]
        },
        {
         "line": {
          "color": "rgba(50, 171, 96, 1.0)",
          "dash": "solid",
          "shape": "linear",
          "width": 1.3
         },
         "mode": "lines",
         "name": "Pinto Beans",
         "text": "",
         "type": "scatter",
         "x": [
          1.4319023928907797,
          2.1478535893361697,
          2.5774243072034033,
          2.8638047857815594,
          3.1501852643597155,
          3.436565742937871,
          3.722946221516027,
          4.009326700094183,
          4.295707178672339,
          5.727609571563119,
          11.455219143126238
         ],
         "y": [
          1.069740541997094,
          1.0697396405504316,
          1.0697402328626948,
          1.0697405211668796,
          1.0697403660242961,
          1.0697405433005378,
          1.0697405473080124,
          1.1661208448549765,
          1.226911455305667,
          1.1520744538285594,
          1.073727943718902
         ]
        },
        {
         "line": {
          "color": "rgba(128, 0, 128, 1.0)",
          "dash": "solid",
          "shape": "linear",
          "width": 1.3
         },
         "mode": "lines",
         "name": "Sliced Turkey",
         "text": "",
         "type": "scatter",
         "x": [
          1.4319023928907797,
          2.1478535893361697,
          2.5774243072034033,
          2.8638047857815594,
          3.1501852643597155,
          3.436565742937871,
          3.722946221516027,
          4.009326700094183,
          4.295707178672339,
          5.727609571563119,
          11.455219143126238
         ],
         "y": [
          0.39726071748438935,
          0.397260923539832,
          0.3972607658701652,
          0.39726071873229685,
          0.39726067222200656,
          0.3972607161234039,
          0.39726070011169184,
          0.14726045363009646,
          0.12782801538071412,
          0.02449155275641739,
          0.006249668983254085
         ]
        },
        {
         "line": {
          "color": "rgba(219, 64, 82, 1.0)",
          "dash": "solid",
          "shape": "linear",
          "width": 1.3
         },
         "mode": "lines",
         "name": "Almond Milk",
         "text": "",
         "type": "scatter",
         "x": [
          1.4319023928907797,
          2.1478535893361697,
          2.5774243072034033,
          2.8638047857815594,
          3.1501852643597155,
          3.436565742937871,
          3.722946221516027,
          4.009326700094183,
          4.295707178672339,
          5.727609571563119,
          11.455219143126238
         ],
         "y": [
          2.633538598188001e-09,
          1.4681439344158878e-06,
          4.764662473358312e-07,
          3.3570608065281297e-08,
          4.408798880249481e-07,
          8.709763365681307e-10,
          9.247493914189399e-09,
          4.5274552059554836e-08,
          3.0834260320847865e-11,
          2.3476181399698085e-08,
          4.768842561274373e-11
         ]
        },
        {
         "line": {
          "color": "rgba(0, 128, 128, 1.0)",
          "dash": "solid",
          "shape": "linear",
          "width": 1.3
         },
         "mode": "lines",
         "name": "2% milk",
         "text": "",
         "type": "scatter",
         "x": [
          1.4319023928907797,
          2.1478535893361697,
          2.5774243072034033,
          2.8638047857815594,
          3.1501852643597155,
          3.436565742937871,
          3.722946221516027,
          4.009326700094183,
          4.295707178672339,
          5.727609571563119,
          11.455219143126238
         ],
         "y": [
          6.553931598266861e-10,
          1.0880010641675576e-06,
          4.345395577005362e-07,
          3.366694471219793e-08,
          4.7626374425839405e-07,
          7.093677831423134e-10,
          1.1539632793586104e-08,
          5.5021966894273044e-08,
          4.348013651021132e-11,
          2.5004575702451456e-08,
          5.347892802322282e-11
         ]
        },
        {
         "line": {
          "color": "rgba(255, 255, 51, 1.0)",
          "dash": "solid",
          "shape": "linear",
          "width": 1.3
         },
         "mode": "lines",
         "name": "Cheddar cheese",
         "text": "",
         "type": "scatter",
         "x": [
          1.4319023928907797,
          2.1478535893361697,
          2.5774243072034033,
          2.8638047857815594,
          3.1501852643597155,
          3.436565742937871,
          3.722946221516027,
          4.009326700094183,
          4.295707178672339,
          5.727609571563119,
          11.455219143126238
         ],
         "y": [
          0.7650538963755372,
          0.7650529793849896,
          0.7650535725504194,
          0.7650538739796783,
          0.7650536670105175,
          0.7650538999239955,
          0.7650539048949302,
          1.1096692773003816,
          0.7077628995881858,
          0.22199250613065205,
          1.9403328860024126e-11
         ]
        },
        {
         "line": {
          "color": "rgba(128, 128, 0, 1.0)",
          "dash": "solid",
          "shape": "linear",
          "width": 1.3
         },
         "mode": "lines",
         "name": "Oat Milk",
         "text": "",
         "type": "scatter",
         "x": [
          1.4319023928907797,
          2.1478535893361697,
          2.5774243072034033,
          2.8638047857815594,
          3.1501852643597155,
          3.436565742937871,
          3.722946221516027,
          4.009326700094183,
          4.295707178672339,
          5.727609571563119,
          11.455219143126238
         ],
         "y": [
          1.9973559619695723e-10,
          6.829963586364173e-07,
          4.200771178169002e-07,
          4.519537128224468e-08,
          9.408217704073455e-07,
          3.2978344956873034e-09,
          1.2234427032818744e-07,
          1.269417511028215,
          2.276918529832043,
          4.133443467265438,
          4.750002648116708
         ]
        },
        {
         "line": {
          "color": "rgba(251, 128, 114, 1.0)",
          "dash": "solid",
          "shape": "linear",
          "width": 1.3
         },
         "mode": "lines",
         "name": "Wheat Cereal",
         "text": "",
         "type": "scatter",
         "x": [
          1.4319023928907797,
          2.1478535893361697,
          2.5774243072034033,
          2.8638047857815594,
          3.1501852643597155,
          3.436565742937871,
          3.722946221516027,
          4.009326700094183,
          4.295707178672339,
          5.727609571563119,
          11.455219143126238
         ],
         "y": [
          2.7768613517868047e-09,
          1.943023334513842e-06,
          8.730393939109515e-07,
          7.20633634772439e-08,
          1.1084542681728495e-06,
          2.133857833383131e-09,
          3.2743604290492674e-08,
          1.605545759873441e-07,
          2.558374275446568e-10,
          1.8562813019768185,
          2.1524140977448516
         ]
        },
        {
         "line": {
          "color": "rgba(128, 177, 211, 1.0)",
          "dash": "solid",
          "shape": "linear",
          "width": 1.3
         },
         "mode": "lines",
         "name": "Bananas",
         "text": "",
         "type": "scatter",
         "x": [
          1.4319023928907797,
          2.1478535893361697,
          2.5774243072034033,
          2.8638047857815594,
          3.1501852643597155,
          3.436565742937871,
          3.722946221516027,
          4.009326700094183,
          4.295707178672339,
          5.727609571563119,
          11.455219143126238
         ],
         "y": [
          3.1816148075724378e-09,
          4.601224358824558e-06,
          2.474763308705553e-06,
          2.2975377600390714e-07,
          3.652911609689873e-06,
          1.3774074490848886e-08,
          1.441822785726345e-07,
          9.516668050852576e-07,
          2.737027347061799e-11,
          1.7833763075049763e-07,
          2.5687566632544973e-10
         ]
        },
        {
         "line": {
          "color": "rgba(128, 177, 211, 0.8999999999999999)",
          "dash": "solid",
          "shape": "linear",
          "width": 1.3
         },
         "mode": "lines",
         "name": "Apples",
         "text": "",
         "type": "scatter",
         "x": [
          1.4319023928907797,
          2.1478535893361697,
          2.5774243072034033,
          2.8638047857815594,
          3.1501852643597155,
          3.436565742937871,
          3.722946221516027,
          4.009326700094183,
          4.295707178672339,
          5.727609571563119,
          11.455219143126238
         ],
         "y": [
          4.2455814203566726e-10,
          1.0911949966335632e-06,
          5.275375673866288e-07,
          4.58314298403733e-08,
          7.236567619925634e-07,
          1.152775932365457e-09,
          2.11706630712096e-08,
          1.088958804384321e-07,
          8.49803810881907e-11,
          4.188503712935018e-08,
          8.833274701712729e-11
         ]
        },
        {
         "line": {
          "color": "rgba(255, 153, 51, 0.8999999999999999)",
          "dash": "solid",
          "shape": "linear",
          "width": 1.3
         },
         "mode": "lines",
         "name": "Cauliflower",
         "text": "",
         "type": "scatter",
         "x": [
          1.4319023928907797,
          2.1478535893361697,
          2.5774243072034033,
          2.8638047857815594,
          3.1501852643597155,
          3.436565742937871,
          3.722946221516027,
          4.009326700094183,
          4.295707178672339,
          5.727609571563119,
          11.455219143126238
         ],
         "y": [
          0.021551730858574515,
          0.02154543933734366,
          0.021549007857618905,
          0.021551492683463284,
          0.021549680524736225,
          0.021551736624855735,
          0.021551711696260075,
          1.9424666993332158,
          5.707805938197459e-09,
          4.436603739474711e-08,
          6.9453960930525e-11
         ]
        },
        {
         "line": {
          "color": "rgba(55, 128, 191, 0.8999999999999999)",
          "dash": "solid",
          "shape": "linear",
          "width": 1.3
         },
         "mode": "lines",
         "name": "Broccoli",
         "text": "",
         "type": "scatter",
         "x": [
          1.4319023928907797,
          2.1478535893361697,
          2.5774243072034033,
          2.8638047857815594,
          3.1501852643597155,
          3.436565742937871,
          3.722946221516027,
          4.009326700094183,
          4.295707178672339,
          5.727609571563119,
          11.455219143126238
         ],
         "y": [
          3.7167812877814712e-09,
          5.358517761091723e-06,
          2.3894647843238985e-06,
          2.1953192333984732e-07,
          1.842033277900118e-06,
          8.416164236992913e-09,
          7.64336881197408e-08,
          3.804672373220688e-07,
          2.650241234306971e-10,
          5.3518656120621284e-08,
          3.751300605559979e-11
         ]
        },
        {
         "line": {
          "color": "rgba(50, 171, 96, 0.8999999999999999)",
          "dash": "solid",
          "shape": "linear",
          "width": 1.3
         },
         "mode": "lines",
         "name": "Romaine Lettuce",
         "text": "",
         "type": "scatter",
         "x": [
          1.4319023928907797,
          2.1478535893361697,
          2.5774243072034033,
          2.8638047857815594,
          3.1501852643597155,
          3.436565742937871,
          3.722946221516027,
          4.009326700094183,
          4.295707178672339,
          5.727609571563119,
          11.455219143126238
         ],
         "y": [
          4.947117714335665e-10,
          1.0625489472315e-06,
          4.620960729407691e-07,
          3.759277549587306e-08,
          5.427951779486626e-07,
          2.1815829085369633e-10,
          1.3035665297402614e-08,
          6.94047051434383e-08,
          4.412502223075057e-11,
          8.193936454780969e-08,
          0.2790908779242912
         ]
        },
        {
         "line": {
          "color": "rgba(128, 0, 128, 0.8999999999999999)",
          "dash": "solid",
          "shape": "linear",
          "width": 1.3
         },
         "mode": "lines",
         "name": "Cucumbers",
         "text": "",
         "type": "scatter",
         "x": [
          1.4319023928907797,
          2.1478535893361697,
          2.5774243072034033,
          2.8638047857815594,
          3.1501852643597155,
          3.436565742937871,
          3.722946221516027,
          4.009326700094183,
          4.295707178672339,
          5.727609571563119,
          11.455219143126238
         ],
         "y": [
          1.5476881616766576e-09,
          2.5919031917542286e-06,
          1.1857407584485992e-06,
          9.828518393017585e-08,
          1.5023669732997408e-06,
          2.9849848537255467e-09,
          4.019629336330288e-08,
          2.072698933588348e-07,
          1.637459266364394e-10,
          1.0086259494021534e-07,
          2.619979324396858e-10
         ]
        },
        {
         "line": {
          "color": "rgba(219, 64, 82, 0.8999999999999999)",
          "dash": "solid",
          "shape": "linear",
          "width": 1.3
         },
         "mode": "lines",
         "name": "Jalepenos",
         "text": "",
         "type": "scatter",
         "x": [
          1.4319023928907797,
          2.1478535893361697,
          2.5774243072034033,
          2.8638047857815594,
          3.1501852643597155,
          3.436565742937871,
          3.722946221516027,
          4.009326700094183,
          4.295707178672339,
          5.727609571563119,
          11.455219143126238
         ],
         "y": [
          8.485980894707117,
          8.485977542123038,
          8.485979451944761,
          8.485980768338901,
          8.485979463344357,
          8.485980882088901,
          8.485980803253053,
          6.469342410436926,
          8.821239328210972,
          11.663895162881209,
          11.050673614185861
         ]
        },
        {
         "line": {
          "color": "rgba(0, 128, 128, 0.8999999999999999)",
          "dash": "solid",
          "shape": "linear",
          "width": 1.3
         },
         "mode": "lines",
         "name": "Salt",
         "text": "",
         "type": "scatter",
         "x": [
          1.4319023928907797,
          2.1478535893361697,
          2.5774243072034033,
          2.8638047857815594,
          3.1501852643597155,
          3.436565742937871,
          3.722946221516027,
          4.009326700094183,
          4.295707178672339,
          5.727609571563119,
          11.455219143126238
         ],
         "y": [
          9.95055973529654e-10,
          9.290613421097853e-07,
          4.592509006677284e-07,
          4.632400333941198e-08,
          9.520988228684849e-07,
          1.2372845510972233e-08,
          5.272226165002067e-07,
          3.909695403302303e-06,
          2.5830134565103506e-10,
          4.22886011018303e-06,
          6.210665227167226e-09
         ]
        }
       ],
       "layout": {
        "legend": {
         "bgcolor": "#F5F6F9",
         "font": {
          "color": "#4D5663"
         }
        },
        "paper_bgcolor": "#F5F6F9",
        "plot_bgcolor": "#F5F6F9",
        "template": {
         "data": {
          "bar": [
           {
            "error_x": {
             "color": "#2a3f5f"
            },
            "error_y": {
             "color": "#2a3f5f"
            },
            "marker": {
             "line": {
              "color": "#E5ECF6",
              "width": 0.5
             },
             "pattern": {
              "fillmode": "overlay",
              "size": 10,
              "solidity": 0.2
             }
            },
            "type": "bar"
           }
          ],
          "barpolar": [
           {
            "marker": {
             "line": {
              "color": "#E5ECF6",
              "width": 0.5
             },
             "pattern": {
              "fillmode": "overlay",
              "size": 10,
              "solidity": 0.2
             }
            },
            "type": "barpolar"
           }
          ],
          "carpet": [
           {
            "aaxis": {
             "endlinecolor": "#2a3f5f",
             "gridcolor": "white",
             "linecolor": "white",
             "minorgridcolor": "white",
             "startlinecolor": "#2a3f5f"
            },
            "baxis": {
             "endlinecolor": "#2a3f5f",
             "gridcolor": "white",
             "linecolor": "white",
             "minorgridcolor": "white",
             "startlinecolor": "#2a3f5f"
            },
            "type": "carpet"
           }
          ],
          "choropleth": [
           {
            "colorbar": {
             "outlinewidth": 0,
             "ticks": ""
            },
            "type": "choropleth"
           }
          ],
          "contour": [
           {
            "colorbar": {
             "outlinewidth": 0,
             "ticks": ""
            },
            "colorscale": [
             [
              0,
              "#0d0887"
             ],
             [
              0.1111111111111111,
              "#46039f"
             ],
             [
              0.2222222222222222,
              "#7201a8"
             ],
             [
              0.3333333333333333,
              "#9c179e"
             ],
             [
              0.4444444444444444,
              "#bd3786"
             ],
             [
              0.5555555555555556,
              "#d8576b"
             ],
             [
              0.6666666666666666,
              "#ed7953"
             ],
             [
              0.7777777777777778,
              "#fb9f3a"
             ],
             [
              0.8888888888888888,
              "#fdca26"
             ],
             [
              1,
              "#f0f921"
             ]
            ],
            "type": "contour"
           }
          ],
          "contourcarpet": [
           {
            "colorbar": {
             "outlinewidth": 0,
             "ticks": ""
            },
            "type": "contourcarpet"
           }
          ],
          "heatmap": [
           {
            "colorbar": {
             "outlinewidth": 0,
             "ticks": ""
            },
            "colorscale": [
             [
              0,
              "#0d0887"
             ],
             [
              0.1111111111111111,
              "#46039f"
             ],
             [
              0.2222222222222222,
              "#7201a8"
             ],
             [
              0.3333333333333333,
              "#9c179e"
             ],
             [
              0.4444444444444444,
              "#bd3786"
             ],
             [
              0.5555555555555556,
              "#d8576b"
             ],
             [
              0.6666666666666666,
              "#ed7953"
             ],
             [
              0.7777777777777778,
              "#fb9f3a"
             ],
             [
              0.8888888888888888,
              "#fdca26"
             ],
             [
              1,
              "#f0f921"
             ]
            ],
            "type": "heatmap"
           }
          ],
          "heatmapgl": [
           {
            "colorbar": {
             "outlinewidth": 0,
             "ticks": ""
            },
            "colorscale": [
             [
              0,
              "#0d0887"
             ],
             [
              0.1111111111111111,
              "#46039f"
             ],
             [
              0.2222222222222222,
              "#7201a8"
             ],
             [
              0.3333333333333333,
              "#9c179e"
             ],
             [
              0.4444444444444444,
              "#bd3786"
             ],
             [
              0.5555555555555556,
              "#d8576b"
             ],
             [
              0.6666666666666666,
              "#ed7953"
             ],
             [
              0.7777777777777778,
              "#fb9f3a"
             ],
             [
              0.8888888888888888,
              "#fdca26"
             ],
             [
              1,
              "#f0f921"
             ]
            ],
            "type": "heatmapgl"
           }
          ],
          "histogram": [
           {
            "marker": {
             "pattern": {
              "fillmode": "overlay",
              "size": 10,
              "solidity": 0.2
             }
            },
            "type": "histogram"
           }
          ],
          "histogram2d": [
           {
            "colorbar": {
             "outlinewidth": 0,
             "ticks": ""
            },
            "colorscale": [
             [
              0,
              "#0d0887"
             ],
             [
              0.1111111111111111,
              "#46039f"
             ],
             [
              0.2222222222222222,
              "#7201a8"
             ],
             [
              0.3333333333333333,
              "#9c179e"
             ],
             [
              0.4444444444444444,
              "#bd3786"
             ],
             [
              0.5555555555555556,
              "#d8576b"
             ],
             [
              0.6666666666666666,
              "#ed7953"
             ],
             [
              0.7777777777777778,
              "#fb9f3a"
             ],
             [
              0.8888888888888888,
              "#fdca26"
             ],
             [
              1,
              "#f0f921"
             ]
            ],
            "type": "histogram2d"
           }
          ],
          "histogram2dcontour": [
           {
            "colorbar": {
             "outlinewidth": 0,
             "ticks": ""
            },
            "colorscale": [
             [
              0,
              "#0d0887"
             ],
             [
              0.1111111111111111,
              "#46039f"
             ],
             [
              0.2222222222222222,
              "#7201a8"
             ],
             [
              0.3333333333333333,
              "#9c179e"
             ],
             [
              0.4444444444444444,
              "#bd3786"
             ],
             [
              0.5555555555555556,
              "#d8576b"
             ],
             [
              0.6666666666666666,
              "#ed7953"
             ],
             [
              0.7777777777777778,
              "#fb9f3a"
             ],
             [
              0.8888888888888888,
              "#fdca26"
             ],
             [
              1,
              "#f0f921"
             ]
            ],
            "type": "histogram2dcontour"
           }
          ],
          "mesh3d": [
           {
            "colorbar": {
             "outlinewidth": 0,
             "ticks": ""
            },
            "type": "mesh3d"
           }
          ],
          "parcoords": [
           {
            "line": {
             "colorbar": {
              "outlinewidth": 0,
              "ticks": ""
             }
            },
            "type": "parcoords"
           }
          ],
          "pie": [
           {
            "automargin": true,
            "type": "pie"
           }
          ],
          "scatter": [
           {
            "marker": {
             "colorbar": {
              "outlinewidth": 0,
              "ticks": ""
             }
            },
            "type": "scatter"
           }
          ],
          "scatter3d": [
           {
            "line": {
             "colorbar": {
              "outlinewidth": 0,
              "ticks": ""
             }
            },
            "marker": {
             "colorbar": {
              "outlinewidth": 0,
              "ticks": ""
             }
            },
            "type": "scatter3d"
           }
          ],
          "scattercarpet": [
           {
            "marker": {
             "colorbar": {
              "outlinewidth": 0,
              "ticks": ""
             }
            },
            "type": "scattercarpet"
           }
          ],
          "scattergeo": [
           {
            "marker": {
             "colorbar": {
              "outlinewidth": 0,
              "ticks": ""
             }
            },
            "type": "scattergeo"
           }
          ],
          "scattergl": [
           {
            "marker": {
             "colorbar": {
              "outlinewidth": 0,
              "ticks": ""
             }
            },
            "type": "scattergl"
           }
          ],
          "scattermapbox": [
           {
            "marker": {
             "colorbar": {
              "outlinewidth": 0,
              "ticks": ""
             }
            },
            "type": "scattermapbox"
           }
          ],
          "scatterpolar": [
           {
            "marker": {
             "colorbar": {
              "outlinewidth": 0,
              "ticks": ""
             }
            },
            "type": "scatterpolar"
           }
          ],
          "scatterpolargl": [
           {
            "marker": {
             "colorbar": {
              "outlinewidth": 0,
              "ticks": ""
             }
            },
            "type": "scatterpolargl"
           }
          ],
          "scatterternary": [
           {
            "marker": {
             "colorbar": {
              "outlinewidth": 0,
              "ticks": ""
             }
            },
            "type": "scatterternary"
           }
          ],
          "surface": [
           {
            "colorbar": {
             "outlinewidth": 0,
             "ticks": ""
            },
            "colorscale": [
             [
              0,
              "#0d0887"
             ],
             [
              0.1111111111111111,
              "#46039f"
             ],
             [
              0.2222222222222222,
              "#7201a8"
             ],
             [
              0.3333333333333333,
              "#9c179e"
             ],
             [
              0.4444444444444444,
              "#bd3786"
             ],
             [
              0.5555555555555556,
              "#d8576b"
             ],
             [
              0.6666666666666666,
              "#ed7953"
             ],
             [
              0.7777777777777778,
              "#fb9f3a"
             ],
             [
              0.8888888888888888,
              "#fdca26"
             ],
             [
              1,
              "#f0f921"
             ]
            ],
            "type": "surface"
           }
          ],
          "table": [
           {
            "cells": {
             "fill": {
              "color": "#EBF0F8"
             },
             "line": {
              "color": "white"
             }
            },
            "header": {
             "fill": {
              "color": "#C8D4E3"
             },
             "line": {
              "color": "white"
             }
            },
            "type": "table"
           }
          ]
         },
         "layout": {
          "annotationdefaults": {
           "arrowcolor": "#2a3f5f",
           "arrowhead": 0,
           "arrowwidth": 1
          },
          "autotypenumbers": "strict",
          "coloraxis": {
           "colorbar": {
            "outlinewidth": 0,
            "ticks": ""
           }
          },
          "colorscale": {
           "diverging": [
            [
             0,
             "#8e0152"
            ],
            [
             0.1,
             "#c51b7d"
            ],
            [
             0.2,
             "#de77ae"
            ],
            [
             0.3,
             "#f1b6da"
            ],
            [
             0.4,
             "#fde0ef"
            ],
            [
             0.5,
             "#f7f7f7"
            ],
            [
             0.6,
             "#e6f5d0"
            ],
            [
             0.7,
             "#b8e186"
            ],
            [
             0.8,
             "#7fbc41"
            ],
            [
             0.9,
             "#4d9221"
            ],
            [
             1,
             "#276419"
            ]
           ],
           "sequential": [
            [
             0,
             "#0d0887"
            ],
            [
             0.1111111111111111,
             "#46039f"
            ],
            [
             0.2222222222222222,
             "#7201a8"
            ],
            [
             0.3333333333333333,
             "#9c179e"
            ],
            [
             0.4444444444444444,
             "#bd3786"
            ],
            [
             0.5555555555555556,
             "#d8576b"
            ],
            [
             0.6666666666666666,
             "#ed7953"
            ],
            [
             0.7777777777777778,
             "#fb9f3a"
            ],
            [
             0.8888888888888888,
             "#fdca26"
            ],
            [
             1,
             "#f0f921"
            ]
           ],
           "sequentialminus": [
            [
             0,
             "#0d0887"
            ],
            [
             0.1111111111111111,
             "#46039f"
            ],
            [
             0.2222222222222222,
             "#7201a8"
            ],
            [
             0.3333333333333333,
             "#9c179e"
            ],
            [
             0.4444444444444444,
             "#bd3786"
            ],
            [
             0.5555555555555556,
             "#d8576b"
            ],
            [
             0.6666666666666666,
             "#ed7953"
            ],
            [
             0.7777777777777778,
             "#fb9f3a"
            ],
            [
             0.8888888888888888,
             "#fdca26"
            ],
            [
             1,
             "#f0f921"
            ]
           ]
          },
          "colorway": [
           "#636efa",
           "#EF553B",
           "#00cc96",
           "#ab63fa",
           "#FFA15A",
           "#19d3f3",
           "#FF6692",
           "#B6E880",
           "#FF97FF",
           "#FECB52"
          ],
          "font": {
           "color": "#2a3f5f"
          },
          "geo": {
           "bgcolor": "white",
           "lakecolor": "white",
           "landcolor": "#E5ECF6",
           "showlakes": true,
           "showland": true,
           "subunitcolor": "white"
          },
          "hoverlabel": {
           "align": "left"
          },
          "hovermode": "closest",
          "mapbox": {
           "style": "light"
          },
          "paper_bgcolor": "white",
          "plot_bgcolor": "#E5ECF6",
          "polar": {
           "angularaxis": {
            "gridcolor": "white",
            "linecolor": "white",
            "ticks": ""
           },
           "bgcolor": "#E5ECF6",
           "radialaxis": {
            "gridcolor": "white",
            "linecolor": "white",
            "ticks": ""
           }
          },
          "scene": {
           "xaxis": {
            "backgroundcolor": "#E5ECF6",
            "gridcolor": "white",
            "gridwidth": 2,
            "linecolor": "white",
            "showbackground": true,
            "ticks": "",
            "zerolinecolor": "white"
           },
           "yaxis": {
            "backgroundcolor": "#E5ECF6",
            "gridcolor": "white",
            "gridwidth": 2,
            "linecolor": "white",
            "showbackground": true,
            "ticks": "",
            "zerolinecolor": "white"
           },
           "zaxis": {
            "backgroundcolor": "#E5ECF6",
            "gridcolor": "white",
            "gridwidth": 2,
            "linecolor": "white",
            "showbackground": true,
            "ticks": "",
            "zerolinecolor": "white"
           }
          },
          "shapedefaults": {
           "line": {
            "color": "#2a3f5f"
           }
          },
          "ternary": {
           "aaxis": {
            "gridcolor": "white",
            "linecolor": "white",
            "ticks": ""
           },
           "baxis": {
            "gridcolor": "white",
            "linecolor": "white",
            "ticks": ""
           },
           "bgcolor": "#E5ECF6",
           "caxis": {
            "gridcolor": "white",
            "linecolor": "white",
            "ticks": ""
           }
          },
          "title": {
           "x": 0.05
          },
          "xaxis": {
           "automargin": true,
           "gridcolor": "white",
           "linecolor": "white",
           "ticks": "",
           "title": {
            "standoff": 15
           },
           "zerolinecolor": "white",
           "zerolinewidth": 2
          },
          "yaxis": {
           "automargin": true,
           "gridcolor": "white",
           "linecolor": "white",
           "ticks": "",
           "title": {
            "standoff": 15
           },
           "zerolinecolor": "white",
           "zerolinewidth": 2
          }
         }
        },
        "title": {
         "font": {
          "color": "#4D5663"
         }
        },
        "xaxis": {
         "gridcolor": "#E1E5ED",
         "showgrid": true,
         "tickfont": {
          "color": "#4D5663"
         },
         "title": {
          "font": {
           "color": "#4D5663"
          },
          "text": "Sliced Turkey Price"
         },
         "zerolinecolor": "#E1E5ED"
        },
        "yaxis": {
         "gridcolor": "#E1E5ED",
         "showgrid": true,
         "tickfont": {
          "color": "#4D5663"
         },
         "title": {
          "font": {
           "color": "#4D5663"
          },
          "text": "Hectograms"
         },
         "zerolinecolor": "#E1E5ED"
        }
       }
      },
      "text/html": [
       "<div>                            <div id=\"9f60bf11-69af-418b-88c1-ad0e2a3a3e83\" class=\"plotly-graph-div\" style=\"height:525px; width:100%;\"></div>            <script type=\"text/javascript\">                require([\"plotly\"], function(Plotly) {                    window.PLOTLYENV=window.PLOTLYENV || {};\n",
       "                    window.PLOTLYENV.BASE_URL='https://plot.ly';                                    if (document.getElementById(\"9f60bf11-69af-418b-88c1-ad0e2a3a3e83\")) {                    Plotly.newPlot(                        \"9f60bf11-69af-418b-88c1-ad0e2a3a3e83\",                        [{\"line\":{\"color\":\"rgba(255, 153, 51, 1.0)\",\"dash\":\"solid\",\"shape\":\"linear\",\"width\":1.3},\"mode\":\"lines\",\"name\":\"Peanut Butter\",\"text\":\"\",\"type\":\"scatter\",\"x\":[1.4319023928907797,2.1478535893361697,2.5774243072034033,2.8638047857815594,3.1501852643597155,3.436565742937871,3.722946221516027,4.009326700094183,4.295707178672339,5.727609571563119,11.455219143126238],\"y\":[1.3239286408585524,1.3239261720353248,1.323927410241978,1.3239285361803448,1.3239268988571637,1.3239286356857882,1.3239285761188988,0.8904417750029108,1.5602408761348674,2.3375906836460544e-08,2.4194809763316938e-11]},{\"line\":{\"color\":\"rgba(55, 128, 191, 1.0)\",\"dash\":\"solid\",\"shape\":\"linear\",\"width\":1.3},\"mode\":\"lines\",\"name\":\"Black Beans\",\"text\":\"\",\"type\":\"scatter\",\"x\":[1.4319023928907797,2.1478535893361697,2.5774243072034033,2.8638047857815594,3.1501852643597155,3.436565742937871,3.722946221516027,4.009326700094183,4.295707178672339,5.727609571563119,11.455219143126238],\"y\":[1.1536734732149811,1.1536724712158584,1.1536728726483385,1.1536734161381164,1.1536724372509009,1.1536734717309802,1.1536734314479962,1.145601517960399,0.8012407869188787,0.272804490356567,0.20853888738420648]},{\"line\":{\"color\":\"rgba(50, 171, 96, 1.0)\",\"dash\":\"solid\",\"shape\":\"linear\",\"width\":1.3},\"mode\":\"lines\",\"name\":\"Pinto Beans\",\"text\":\"\",\"type\":\"scatter\",\"x\":[1.4319023928907797,2.1478535893361697,2.5774243072034033,2.8638047857815594,3.1501852643597155,3.436565742937871,3.722946221516027,4.009326700094183,4.295707178672339,5.727609571563119,11.455219143126238],\"y\":[1.069740541997094,1.0697396405504316,1.0697402328626948,1.0697405211668796,1.0697403660242961,1.0697405433005378,1.0697405473080124,1.1661208448549765,1.226911455305667,1.1520744538285594,1.073727943718902]},{\"line\":{\"color\":\"rgba(128, 0, 128, 1.0)\",\"dash\":\"solid\",\"shape\":\"linear\",\"width\":1.3},\"mode\":\"lines\",\"name\":\"Sliced Turkey\",\"text\":\"\",\"type\":\"scatter\",\"x\":[1.4319023928907797,2.1478535893361697,2.5774243072034033,2.8638047857815594,3.1501852643597155,3.436565742937871,3.722946221516027,4.009326700094183,4.295707178672339,5.727609571563119,11.455219143126238],\"y\":[0.39726071748438935,0.397260923539832,0.3972607658701652,0.39726071873229685,0.39726067222200656,0.3972607161234039,0.39726070011169184,0.14726045363009646,0.12782801538071412,0.02449155275641739,0.006249668983254085]},{\"line\":{\"color\":\"rgba(219, 64, 82, 1.0)\",\"dash\":\"solid\",\"shape\":\"linear\",\"width\":1.3},\"mode\":\"lines\",\"name\":\"Almond Milk\",\"text\":\"\",\"type\":\"scatter\",\"x\":[1.4319023928907797,2.1478535893361697,2.5774243072034033,2.8638047857815594,3.1501852643597155,3.436565742937871,3.722946221516027,4.009326700094183,4.295707178672339,5.727609571563119,11.455219143126238],\"y\":[2.633538598188001e-09,1.4681439344158878e-06,4.764662473358312e-07,3.3570608065281297e-08,4.408798880249481e-07,8.709763365681307e-10,9.247493914189399e-09,4.5274552059554836e-08,3.0834260320847865e-11,2.3476181399698085e-08,4.768842561274373e-11]},{\"line\":{\"color\":\"rgba(0, 128, 128, 1.0)\",\"dash\":\"solid\",\"shape\":\"linear\",\"width\":1.3},\"mode\":\"lines\",\"name\":\"2% milk\",\"text\":\"\",\"type\":\"scatter\",\"x\":[1.4319023928907797,2.1478535893361697,2.5774243072034033,2.8638047857815594,3.1501852643597155,3.436565742937871,3.722946221516027,4.009326700094183,4.295707178672339,5.727609571563119,11.455219143126238],\"y\":[6.553931598266861e-10,1.0880010641675576e-06,4.345395577005362e-07,3.366694471219793e-08,4.7626374425839405e-07,7.093677831423134e-10,1.1539632793586104e-08,5.5021966894273044e-08,4.348013651021132e-11,2.5004575702451456e-08,5.347892802322282e-11]},{\"line\":{\"color\":\"rgba(255, 255, 51, 1.0)\",\"dash\":\"solid\",\"shape\":\"linear\",\"width\":1.3},\"mode\":\"lines\",\"name\":\"Cheddar cheese\",\"text\":\"\",\"type\":\"scatter\",\"x\":[1.4319023928907797,2.1478535893361697,2.5774243072034033,2.8638047857815594,3.1501852643597155,3.436565742937871,3.722946221516027,4.009326700094183,4.295707178672339,5.727609571563119,11.455219143126238],\"y\":[0.7650538963755372,0.7650529793849896,0.7650535725504194,0.7650538739796783,0.7650536670105175,0.7650538999239955,0.7650539048949302,1.1096692773003816,0.7077628995881858,0.22199250613065205,1.9403328860024126e-11]},{\"line\":{\"color\":\"rgba(128, 128, 0, 1.0)\",\"dash\":\"solid\",\"shape\":\"linear\",\"width\":1.3},\"mode\":\"lines\",\"name\":\"Oat Milk\",\"text\":\"\",\"type\":\"scatter\",\"x\":[1.4319023928907797,2.1478535893361697,2.5774243072034033,2.8638047857815594,3.1501852643597155,3.436565742937871,3.722946221516027,4.009326700094183,4.295707178672339,5.727609571563119,11.455219143126238],\"y\":[1.9973559619695723e-10,6.829963586364173e-07,4.200771178169002e-07,4.519537128224468e-08,9.408217704073455e-07,3.2978344956873034e-09,1.2234427032818744e-07,1.269417511028215,2.276918529832043,4.133443467265438,4.750002648116708]},{\"line\":{\"color\":\"rgba(251, 128, 114, 1.0)\",\"dash\":\"solid\",\"shape\":\"linear\",\"width\":1.3},\"mode\":\"lines\",\"name\":\"Wheat Cereal\",\"text\":\"\",\"type\":\"scatter\",\"x\":[1.4319023928907797,2.1478535893361697,2.5774243072034033,2.8638047857815594,3.1501852643597155,3.436565742937871,3.722946221516027,4.009326700094183,4.295707178672339,5.727609571563119,11.455219143126238],\"y\":[2.7768613517868047e-09,1.943023334513842e-06,8.730393939109515e-07,7.20633634772439e-08,1.1084542681728495e-06,2.133857833383131e-09,3.2743604290492674e-08,1.605545759873441e-07,2.558374275446568e-10,1.8562813019768185,2.1524140977448516]},{\"line\":{\"color\":\"rgba(128, 177, 211, 1.0)\",\"dash\":\"solid\",\"shape\":\"linear\",\"width\":1.3},\"mode\":\"lines\",\"name\":\"Bananas\",\"text\":\"\",\"type\":\"scatter\",\"x\":[1.4319023928907797,2.1478535893361697,2.5774243072034033,2.8638047857815594,3.1501852643597155,3.436565742937871,3.722946221516027,4.009326700094183,4.295707178672339,5.727609571563119,11.455219143126238],\"y\":[3.1816148075724378e-09,4.601224358824558e-06,2.474763308705553e-06,2.2975377600390714e-07,3.652911609689873e-06,1.3774074490848886e-08,1.441822785726345e-07,9.516668050852576e-07,2.737027347061799e-11,1.7833763075049763e-07,2.5687566632544973e-10]},{\"line\":{\"color\":\"rgba(128, 177, 211, 0.8999999999999999)\",\"dash\":\"solid\",\"shape\":\"linear\",\"width\":1.3},\"mode\":\"lines\",\"name\":\"Apples\",\"text\":\"\",\"type\":\"scatter\",\"x\":[1.4319023928907797,2.1478535893361697,2.5774243072034033,2.8638047857815594,3.1501852643597155,3.436565742937871,3.722946221516027,4.009326700094183,4.295707178672339,5.727609571563119,11.455219143126238],\"y\":[4.2455814203566726e-10,1.0911949966335632e-06,5.275375673866288e-07,4.58314298403733e-08,7.236567619925634e-07,1.152775932365457e-09,2.11706630712096e-08,1.088958804384321e-07,8.49803810881907e-11,4.188503712935018e-08,8.833274701712729e-11]},{\"line\":{\"color\":\"rgba(255, 153, 51, 0.8999999999999999)\",\"dash\":\"solid\",\"shape\":\"linear\",\"width\":1.3},\"mode\":\"lines\",\"name\":\"Cauliflower\",\"text\":\"\",\"type\":\"scatter\",\"x\":[1.4319023928907797,2.1478535893361697,2.5774243072034033,2.8638047857815594,3.1501852643597155,3.436565742937871,3.722946221516027,4.009326700094183,4.295707178672339,5.727609571563119,11.455219143126238],\"y\":[0.021551730858574515,0.02154543933734366,0.021549007857618905,0.021551492683463284,0.021549680524736225,0.021551736624855735,0.021551711696260075,1.9424666993332158,5.707805938197459e-09,4.436603739474711e-08,6.9453960930525e-11]},{\"line\":{\"color\":\"rgba(55, 128, 191, 0.8999999999999999)\",\"dash\":\"solid\",\"shape\":\"linear\",\"width\":1.3},\"mode\":\"lines\",\"name\":\"Broccoli\",\"text\":\"\",\"type\":\"scatter\",\"x\":[1.4319023928907797,2.1478535893361697,2.5774243072034033,2.8638047857815594,3.1501852643597155,3.436565742937871,3.722946221516027,4.009326700094183,4.295707178672339,5.727609571563119,11.455219143126238],\"y\":[3.7167812877814712e-09,5.358517761091723e-06,2.3894647843238985e-06,2.1953192333984732e-07,1.842033277900118e-06,8.416164236992913e-09,7.64336881197408e-08,3.804672373220688e-07,2.650241234306971e-10,5.3518656120621284e-08,3.751300605559979e-11]},{\"line\":{\"color\":\"rgba(50, 171, 96, 0.8999999999999999)\",\"dash\":\"solid\",\"shape\":\"linear\",\"width\":1.3},\"mode\":\"lines\",\"name\":\"Romaine Lettuce\",\"text\":\"\",\"type\":\"scatter\",\"x\":[1.4319023928907797,2.1478535893361697,2.5774243072034033,2.8638047857815594,3.1501852643597155,3.436565742937871,3.722946221516027,4.009326700094183,4.295707178672339,5.727609571563119,11.455219143126238],\"y\":[4.947117714335665e-10,1.0625489472315e-06,4.620960729407691e-07,3.759277549587306e-08,5.427951779486626e-07,2.1815829085369633e-10,1.3035665297402614e-08,6.94047051434383e-08,4.412502223075057e-11,8.193936454780969e-08,0.2790908779242912]},{\"line\":{\"color\":\"rgba(128, 0, 128, 0.8999999999999999)\",\"dash\":\"solid\",\"shape\":\"linear\",\"width\":1.3},\"mode\":\"lines\",\"name\":\"Cucumbers\",\"text\":\"\",\"type\":\"scatter\",\"x\":[1.4319023928907797,2.1478535893361697,2.5774243072034033,2.8638047857815594,3.1501852643597155,3.436565742937871,3.722946221516027,4.009326700094183,4.295707178672339,5.727609571563119,11.455219143126238],\"y\":[1.5476881616766576e-09,2.5919031917542286e-06,1.1857407584485992e-06,9.828518393017585e-08,1.5023669732997408e-06,2.9849848537255467e-09,4.019629336330288e-08,2.072698933588348e-07,1.637459266364394e-10,1.0086259494021534e-07,2.619979324396858e-10]},{\"line\":{\"color\":\"rgba(219, 64, 82, 0.8999999999999999)\",\"dash\":\"solid\",\"shape\":\"linear\",\"width\":1.3},\"mode\":\"lines\",\"name\":\"Jalepenos\",\"text\":\"\",\"type\":\"scatter\",\"x\":[1.4319023928907797,2.1478535893361697,2.5774243072034033,2.8638047857815594,3.1501852643597155,3.436565742937871,3.722946221516027,4.009326700094183,4.295707178672339,5.727609571563119,11.455219143126238],\"y\":[8.485980894707117,8.485977542123038,8.485979451944761,8.485980768338901,8.485979463344357,8.485980882088901,8.485980803253053,6.469342410436926,8.821239328210972,11.663895162881209,11.050673614185861]},{\"line\":{\"color\":\"rgba(0, 128, 128, 0.8999999999999999)\",\"dash\":\"solid\",\"shape\":\"linear\",\"width\":1.3},\"mode\":\"lines\",\"name\":\"Salt\",\"text\":\"\",\"type\":\"scatter\",\"x\":[1.4319023928907797,2.1478535893361697,2.5774243072034033,2.8638047857815594,3.1501852643597155,3.436565742937871,3.722946221516027,4.009326700094183,4.295707178672339,5.727609571563119,11.455219143126238],\"y\":[9.95055973529654e-10,9.290613421097853e-07,4.592509006677284e-07,4.632400333941198e-08,9.520988228684849e-07,1.2372845510972233e-08,5.272226165002067e-07,3.909695403302303e-06,2.5830134565103506e-10,4.22886011018303e-06,6.210665227167226e-09]}],                        {\"legend\":{\"bgcolor\":\"#F5F6F9\",\"font\":{\"color\":\"#4D5663\"}},\"paper_bgcolor\":\"#F5F6F9\",\"plot_bgcolor\":\"#F5F6F9\",\"template\":{\"data\":{\"bar\":[{\"error_x\":{\"color\":\"#2a3f5f\"},\"error_y\":{\"color\":\"#2a3f5f\"},\"marker\":{\"line\":{\"color\":\"#E5ECF6\",\"width\":0.5},\"pattern\":{\"fillmode\":\"overlay\",\"size\":10,\"solidity\":0.2}},\"type\":\"bar\"}],\"barpolar\":[{\"marker\":{\"line\":{\"color\":\"#E5ECF6\",\"width\":0.5},\"pattern\":{\"fillmode\":\"overlay\",\"size\":10,\"solidity\":0.2}},\"type\":\"barpolar\"}],\"carpet\":[{\"aaxis\":{\"endlinecolor\":\"#2a3f5f\",\"gridcolor\":\"white\",\"linecolor\":\"white\",\"minorgridcolor\":\"white\",\"startlinecolor\":\"#2a3f5f\"},\"baxis\":{\"endlinecolor\":\"#2a3f5f\",\"gridcolor\":\"white\",\"linecolor\":\"white\",\"minorgridcolor\":\"white\",\"startlinecolor\":\"#2a3f5f\"},\"type\":\"carpet\"}],\"choropleth\":[{\"colorbar\":{\"outlinewidth\":0,\"ticks\":\"\"},\"type\":\"choropleth\"}],\"contour\":[{\"colorbar\":{\"outlinewidth\":0,\"ticks\":\"\"},\"colorscale\":[[0.0,\"#0d0887\"],[0.1111111111111111,\"#46039f\"],[0.2222222222222222,\"#7201a8\"],[0.3333333333333333,\"#9c179e\"],[0.4444444444444444,\"#bd3786\"],[0.5555555555555556,\"#d8576b\"],[0.6666666666666666,\"#ed7953\"],[0.7777777777777778,\"#fb9f3a\"],[0.8888888888888888,\"#fdca26\"],[1.0,\"#f0f921\"]],\"type\":\"contour\"}],\"contourcarpet\":[{\"colorbar\":{\"outlinewidth\":0,\"ticks\":\"\"},\"type\":\"contourcarpet\"}],\"heatmap\":[{\"colorbar\":{\"outlinewidth\":0,\"ticks\":\"\"},\"colorscale\":[[0.0,\"#0d0887\"],[0.1111111111111111,\"#46039f\"],[0.2222222222222222,\"#7201a8\"],[0.3333333333333333,\"#9c179e\"],[0.4444444444444444,\"#bd3786\"],[0.5555555555555556,\"#d8576b\"],[0.6666666666666666,\"#ed7953\"],[0.7777777777777778,\"#fb9f3a\"],[0.8888888888888888,\"#fdca26\"],[1.0,\"#f0f921\"]],\"type\":\"heatmap\"}],\"heatmapgl\":[{\"colorbar\":{\"outlinewidth\":0,\"ticks\":\"\"},\"colorscale\":[[0.0,\"#0d0887\"],[0.1111111111111111,\"#46039f\"],[0.2222222222222222,\"#7201a8\"],[0.3333333333333333,\"#9c179e\"],[0.4444444444444444,\"#bd3786\"],[0.5555555555555556,\"#d8576b\"],[0.6666666666666666,\"#ed7953\"],[0.7777777777777778,\"#fb9f3a\"],[0.8888888888888888,\"#fdca26\"],[1.0,\"#f0f921\"]],\"type\":\"heatmapgl\"}],\"histogram\":[{\"marker\":{\"pattern\":{\"fillmode\":\"overlay\",\"size\":10,\"solidity\":0.2}},\"type\":\"histogram\"}],\"histogram2d\":[{\"colorbar\":{\"outlinewidth\":0,\"ticks\":\"\"},\"colorscale\":[[0.0,\"#0d0887\"],[0.1111111111111111,\"#46039f\"],[0.2222222222222222,\"#7201a8\"],[0.3333333333333333,\"#9c179e\"],[0.4444444444444444,\"#bd3786\"],[0.5555555555555556,\"#d8576b\"],[0.6666666666666666,\"#ed7953\"],[0.7777777777777778,\"#fb9f3a\"],[0.8888888888888888,\"#fdca26\"],[1.0,\"#f0f921\"]],\"type\":\"histogram2d\"}],\"histogram2dcontour\":[{\"colorbar\":{\"outlinewidth\":0,\"ticks\":\"\"},\"colorscale\":[[0.0,\"#0d0887\"],[0.1111111111111111,\"#46039f\"],[0.2222222222222222,\"#7201a8\"],[0.3333333333333333,\"#9c179e\"],[0.4444444444444444,\"#bd3786\"],[0.5555555555555556,\"#d8576b\"],[0.6666666666666666,\"#ed7953\"],[0.7777777777777778,\"#fb9f3a\"],[0.8888888888888888,\"#fdca26\"],[1.0,\"#f0f921\"]],\"type\":\"histogram2dcontour\"}],\"mesh3d\":[{\"colorbar\":{\"outlinewidth\":0,\"ticks\":\"\"},\"type\":\"mesh3d\"}],\"parcoords\":[{\"line\":{\"colorbar\":{\"outlinewidth\":0,\"ticks\":\"\"}},\"type\":\"parcoords\"}],\"pie\":[{\"automargin\":true,\"type\":\"pie\"}],\"scatter\":[{\"marker\":{\"colorbar\":{\"outlinewidth\":0,\"ticks\":\"\"}},\"type\":\"scatter\"}],\"scatter3d\":[{\"line\":{\"colorbar\":{\"outlinewidth\":0,\"ticks\":\"\"}},\"marker\":{\"colorbar\":{\"outlinewidth\":0,\"ticks\":\"\"}},\"type\":\"scatter3d\"}],\"scattercarpet\":[{\"marker\":{\"colorbar\":{\"outlinewidth\":0,\"ticks\":\"\"}},\"type\":\"scattercarpet\"}],\"scattergeo\":[{\"marker\":{\"colorbar\":{\"outlinewidth\":0,\"ticks\":\"\"}},\"type\":\"scattergeo\"}],\"scattergl\":[{\"marker\":{\"colorbar\":{\"outlinewidth\":0,\"ticks\":\"\"}},\"type\":\"scattergl\"}],\"scattermapbox\":[{\"marker\":{\"colorbar\":{\"outlinewidth\":0,\"ticks\":\"\"}},\"type\":\"scattermapbox\"}],\"scatterpolar\":[{\"marker\":{\"colorbar\":{\"outlinewidth\":0,\"ticks\":\"\"}},\"type\":\"scatterpolar\"}],\"scatterpolargl\":[{\"marker\":{\"colorbar\":{\"outlinewidth\":0,\"ticks\":\"\"}},\"type\":\"scatterpolargl\"}],\"scatterternary\":[{\"marker\":{\"colorbar\":{\"outlinewidth\":0,\"ticks\":\"\"}},\"type\":\"scatterternary\"}],\"surface\":[{\"colorbar\":{\"outlinewidth\":0,\"ticks\":\"\"},\"colorscale\":[[0.0,\"#0d0887\"],[0.1111111111111111,\"#46039f\"],[0.2222222222222222,\"#7201a8\"],[0.3333333333333333,\"#9c179e\"],[0.4444444444444444,\"#bd3786\"],[0.5555555555555556,\"#d8576b\"],[0.6666666666666666,\"#ed7953\"],[0.7777777777777778,\"#fb9f3a\"],[0.8888888888888888,\"#fdca26\"],[1.0,\"#f0f921\"]],\"type\":\"surface\"}],\"table\":[{\"cells\":{\"fill\":{\"color\":\"#EBF0F8\"},\"line\":{\"color\":\"white\"}},\"header\":{\"fill\":{\"color\":\"#C8D4E3\"},\"line\":{\"color\":\"white\"}},\"type\":\"table\"}]},\"layout\":{\"annotationdefaults\":{\"arrowcolor\":\"#2a3f5f\",\"arrowhead\":0,\"arrowwidth\":1},\"autotypenumbers\":\"strict\",\"coloraxis\":{\"colorbar\":{\"outlinewidth\":0,\"ticks\":\"\"}},\"colorscale\":{\"diverging\":[[0,\"#8e0152\"],[0.1,\"#c51b7d\"],[0.2,\"#de77ae\"],[0.3,\"#f1b6da\"],[0.4,\"#fde0ef\"],[0.5,\"#f7f7f7\"],[0.6,\"#e6f5d0\"],[0.7,\"#b8e186\"],[0.8,\"#7fbc41\"],[0.9,\"#4d9221\"],[1,\"#276419\"]],\"sequential\":[[0.0,\"#0d0887\"],[0.1111111111111111,\"#46039f\"],[0.2222222222222222,\"#7201a8\"],[0.3333333333333333,\"#9c179e\"],[0.4444444444444444,\"#bd3786\"],[0.5555555555555556,\"#d8576b\"],[0.6666666666666666,\"#ed7953\"],[0.7777777777777778,\"#fb9f3a\"],[0.8888888888888888,\"#fdca26\"],[1.0,\"#f0f921\"]],\"sequentialminus\":[[0.0,\"#0d0887\"],[0.1111111111111111,\"#46039f\"],[0.2222222222222222,\"#7201a8\"],[0.3333333333333333,\"#9c179e\"],[0.4444444444444444,\"#bd3786\"],[0.5555555555555556,\"#d8576b\"],[0.6666666666666666,\"#ed7953\"],[0.7777777777777778,\"#fb9f3a\"],[0.8888888888888888,\"#fdca26\"],[1.0,\"#f0f921\"]]},\"colorway\":[\"#636efa\",\"#EF553B\",\"#00cc96\",\"#ab63fa\",\"#FFA15A\",\"#19d3f3\",\"#FF6692\",\"#B6E880\",\"#FF97FF\",\"#FECB52\"],\"font\":{\"color\":\"#2a3f5f\"},\"geo\":{\"bgcolor\":\"white\",\"lakecolor\":\"white\",\"landcolor\":\"#E5ECF6\",\"showlakes\":true,\"showland\":true,\"subunitcolor\":\"white\"},\"hoverlabel\":{\"align\":\"left\"},\"hovermode\":\"closest\",\"mapbox\":{\"style\":\"light\"},\"paper_bgcolor\":\"white\",\"plot_bgcolor\":\"#E5ECF6\",\"polar\":{\"angularaxis\":{\"gridcolor\":\"white\",\"linecolor\":\"white\",\"ticks\":\"\"},\"bgcolor\":\"#E5ECF6\",\"radialaxis\":{\"gridcolor\":\"white\",\"linecolor\":\"white\",\"ticks\":\"\"}},\"scene\":{\"xaxis\":{\"backgroundcolor\":\"#E5ECF6\",\"gridcolor\":\"white\",\"gridwidth\":2,\"linecolor\":\"white\",\"showbackground\":true,\"ticks\":\"\",\"zerolinecolor\":\"white\"},\"yaxis\":{\"backgroundcolor\":\"#E5ECF6\",\"gridcolor\":\"white\",\"gridwidth\":2,\"linecolor\":\"white\",\"showbackground\":true,\"ticks\":\"\",\"zerolinecolor\":\"white\"},\"zaxis\":{\"backgroundcolor\":\"#E5ECF6\",\"gridcolor\":\"white\",\"gridwidth\":2,\"linecolor\":\"white\",\"showbackground\":true,\"ticks\":\"\",\"zerolinecolor\":\"white\"}},\"shapedefaults\":{\"line\":{\"color\":\"#2a3f5f\"}},\"ternary\":{\"aaxis\":{\"gridcolor\":\"white\",\"linecolor\":\"white\",\"ticks\":\"\"},\"baxis\":{\"gridcolor\":\"white\",\"linecolor\":\"white\",\"ticks\":\"\"},\"bgcolor\":\"#E5ECF6\",\"caxis\":{\"gridcolor\":\"white\",\"linecolor\":\"white\",\"ticks\":\"\"}},\"title\":{\"x\":0.05},\"xaxis\":{\"automargin\":true,\"gridcolor\":\"white\",\"linecolor\":\"white\",\"ticks\":\"\",\"title\":{\"standoff\":15},\"zerolinecolor\":\"white\",\"zerolinewidth\":2},\"yaxis\":{\"automargin\":true,\"gridcolor\":\"white\",\"linecolor\":\"white\",\"ticks\":\"\",\"title\":{\"standoff\":15},\"zerolinecolor\":\"white\",\"zerolinewidth\":2}}},\"title\":{\"font\":{\"color\":\"#4D5663\"}},\"xaxis\":{\"gridcolor\":\"#E1E5ED\",\"showgrid\":true,\"tickfont\":{\"color\":\"#4D5663\"},\"title\":{\"font\":{\"color\":\"#4D5663\"},\"text\":\"Sliced Turkey Price\"},\"zerolinecolor\":\"#E1E5ED\"},\"yaxis\":{\"gridcolor\":\"#E1E5ED\",\"showgrid\":true,\"tickfont\":{\"color\":\"#4D5663\"},\"title\":{\"font\":{\"color\":\"#4D5663\"},\"text\":\"Hectograms\"},\"zerolinecolor\":\"#E1E5ED\"}},                        {\"showLink\": true, \"linkText\": \"Export to plot.ly\", \"plotlyServerURL\": \"https://plot.ly\", \"responsive\": true}                    ).then(function(){\n",
       "                            \n",
       "var gd = document.getElementById('9f60bf11-69af-418b-88c1-ad0e2a3a3e83');\n",
       "var x = new MutationObserver(function (mutations, observer) {{\n",
       "        var display = window.getComputedStyle(gd).display;\n",
       "        if (!display || display === 'none') {{\n",
       "            console.log([gd, 'removed!']);\n",
       "            Plotly.purge(gd);\n",
       "            observer.disconnect();\n",
       "        }}\n",
       "}});\n",
       "\n",
       "// Listen for the removal of the full notebook cells\n",
       "var notebookContainer = gd.closest('#notebook-container');\n",
       "if (notebookContainer) {{\n",
       "    x.observe(notebookContainer, {childList: true});\n",
       "}}\n",
       "\n",
       "// Listen for the clearing of the current output cell\n",
       "var outputEl = gd.closest('.output');\n",
       "if (outputEl) {{\n",
       "    x.observe(outputEl, {childList: true});\n",
       "}}\n",
       "\n",
       "                        })                };                });            </script>        </div>"
      ]
     },
     "metadata": {},
     "output_type": "display_data"
    }
   ],
   "source": [
    "cf.go_offline()\n",
    "\n",
    "ReferenceGood = 'Sliced Turkey'\n",
    "\n",
    "scale = [0.5,0.75,0.9,1.,1.1,1.2,1.3,1.4,1.5,2,4]\n",
    "\n",
    "cost0 = solve_subsistence_problem(FoodNutrients,prices_bb,diet_min[group],diet_max[group],tol=tol).fun\n",
    "\n",
    "my_p = prices_bb.copy()\n",
    "\n",
    "diet = {}\n",
    "for s in scale:\n",
    "\n",
    "    my_p[ReferenceGood] = prices_bb[ReferenceGood]*s\n",
    "    result = solve_subsistence_problem(FoodNutrients,my_p,diet_min[group],diet_max[group],tol=tol)\n",
    "    diet[my_p[ReferenceGood]] = result.diet\n",
    "\n",
    "Diet_response = pd.DataFrame(diet).T\n",
    "Diet_response.index.name = '%s Price' % ReferenceGood\n",
    "\n",
    "Diet_response.reset_index(inplace=True)\n",
    "\n",
    "# Get rid of units for index (cufflinks chokes)\n",
    "Diet_response['%s Price' % ReferenceGood] = Diet_response['%s Price' % ReferenceGood].apply(lambda x: x.magnitude)\n",
    "\n",
    "Diet_response = Diet_response.set_index('%s Price' % ReferenceGood)\n",
    "\n",
    "# Just look at goods consumed in quantities greater than error tolerance\n",
    "Diet_response.loc[:,(Diet_response>tol).sum()>0].iplot(xTitle='%s Price' % ReferenceGood,yTitle='Hectograms')"
   ]
  },
  {
   "cell_type": "code",
   "execution_count": 71,
   "id": "cf9122bc",
   "metadata": {},
   "outputs": [
    {
     "data": {
      "text/html": [
       "        <script type=\"text/javascript\">\n",
       "        window.PlotlyConfig = {MathJaxConfig: 'local'};\n",
       "        if (window.MathJax) {MathJax.Hub.Config({SVG: {font: \"STIX-Web\"}});}\n",
       "        if (typeof require !== 'undefined') {\n",
       "        require.undef(\"plotly\");\n",
       "        requirejs.config({\n",
       "            paths: {\n",
       "                'plotly': ['https://cdn.plot.ly/plotly-2.3.1.min']\n",
       "            }\n",
       "        });\n",
       "        require(['plotly'], function(Plotly) {\n",
       "            window._Plotly = Plotly;\n",
       "        });\n",
       "        }\n",
       "        </script>\n",
       "        "
      ]
     },
     "metadata": {},
     "output_type": "display_data"
    },
    {
     "data": {
      "application/vnd.plotly.v1+json": {
       "config": {
        "linkText": "Export to plot.ly",
        "plotlyServerURL": "https://plot.ly",
        "showLink": true
       },
       "data": [
        {
         "line": {
          "color": "rgba(255, 153, 51, 1.0)",
          "dash": "solid",
          "shape": "linear",
          "width": 1.3
         },
         "mode": "lines",
         "name": "Peanut Butter",
         "text": "",
         "type": "scatter",
         "x": [
          0.770515606336147,
          1.1557734095042205,
          1.3869280914050646,
          1.541031212672294,
          1.6951343339395235,
          1.8492374552067528,
          2.0033405764739824,
          2.1574436977412117,
          2.311546819008441,
          3.082062425344588,
          6.164124850689176
         ],
         "y": [
          1.827750000450671e-05,
          0.8854183844538476,
          1.3239286429463237,
          1.3239285361803448,
          1.3239269661025517,
          1.3239286434505675,
          1.3397908248621724,
          2.488535639188087,
          2.4885366130967825,
          2.488538618994755,
          2.4885385964886417
         ]
        },
        {
         "line": {
          "color": "rgba(55, 128, 191, 1.0)",
          "dash": "solid",
          "shape": "linear",
          "width": 1.3
         },
         "mode": "lines",
         "name": "Black Beans",
         "text": "",
         "type": "scatter",
         "x": [
          0.770515606336147,
          1.1557734095042205,
          1.3869280914050646,
          1.541031212672294,
          1.6951343339395235,
          1.8492374552067528,
          2.0033405764739824,
          2.1574436977412117,
          2.311546819008441,
          3.082062425344588,
          6.164124850689176
         ],
         "y": [
          0.42518048900020033,
          1.2998461721418897,
          1.1536734732633396,
          1.1536734161381164,
          1.1536724699787428,
          1.1536734732457907,
          1.1516525862688418,
          1.2656096221890538,
          1.2656099998191621,
          1.2656101245003901,
          1.265610119451692
         ]
        },
        {
         "line": {
          "color": "rgba(50, 171, 96, 1.0)",
          "dash": "solid",
          "shape": "linear",
          "width": 1.3
         },
         "mode": "lines",
         "name": "Pinto Beans",
         "text": "",
         "type": "scatter",
         "x": [
          0.770515606336147,
          1.1557734095042205,
          1.3869280914050646,
          1.541031212672294,
          1.6951343339395235,
          1.8492374552067528,
          2.0033405764739824,
          2.1574436977412117,
          2.311546819008441,
          3.082062425344588,
          6.164124850689176
         ],
         "y": [
          1.6202158023071953,
          1.0765327809519751,
          1.069740543016468,
          1.0697405211668796,
          1.0697399509320606,
          1.069740542825958,
          1.0665723542310592,
          0.6946674013743225,
          0.6946672069205092,
          0.6946673333101565,
          0.6946673344574774
         ]
        },
        {
         "line": {
          "color": "rgba(128, 0, 128, 1.0)",
          "dash": "solid",
          "shape": "linear",
          "width": 1.3
         },
         "mode": "lines",
         "name": "Sliced Turkey",
         "text": "",
         "type": "scatter",
         "x": [
          0.770515606336147,
          1.1557734095042205,
          1.3869280914050646,
          1.541031212672294,
          1.6951343339395235,
          1.8492374552067528,
          2.0033405764739824,
          2.1574436977412117,
          2.311546819008441,
          3.082062425344588,
          6.164124850689176
         ],
         "y": [
          0.19215125202370054,
          0.3198454425752572,
          0.3972607171293219,
          0.39726071873229685,
          0.39726078137959925,
          0.39726071719795275,
          0.40018928726305847,
          0.5431040964935065,
          0.5431040029973642,
          0.5431040703034419,
          0.5431040706815087
         ]
        },
        {
         "line": {
          "color": "rgba(219, 64, 82, 1.0)",
          "dash": "solid",
          "shape": "linear",
          "width": 1.3
         },
         "mode": "lines",
         "name": "Almond Milk",
         "text": "",
         "type": "scatter",
         "x": [
          0.770515606336147,
          1.1557734095042205,
          1.3869280914050646,
          1.541031212672294,
          1.6951343339395235,
          1.8492374552067528,
          2.0033405764739824,
          2.1574436977412117,
          2.311546819008441,
          3.082062425344588,
          6.164124850689176
         ],
         "y": [
          1.261505627870479e-08,
          6.823053379433977e-09,
          7.583330908224988e-11,
          3.3570608065281297e-08,
          9.898216118330626e-07,
          4.953608137139815e-10,
          0.04414934929098775,
          2.548441601982689,
          2.5484405726847177,
          2.548441351414025,
          2.54844135551923
         ]
        },
        {
         "line": {
          "color": "rgba(0, 128, 128, 1.0)",
          "dash": "solid",
          "shape": "linear",
          "width": 1.3
         },
         "mode": "lines",
         "name": "Cheddar cheese",
         "text": "",
         "type": "scatter",
         "x": [
          0.770515606336147,
          1.1557734095042205,
          1.3869280914050646,
          1.541031212672294,
          1.6951343339395235,
          1.8492374552067528,
          2.0033405764739824,
          2.1574436977412117,
          2.311546819008441,
          3.082062425344588,
          6.164124850689176
         ],
         "y": [
          1.5390518716503152,
          1.057187006663984,
          0.7650538975950845,
          0.7650538739796783,
          0.765053111030143,
          0.7650538970816642,
          0.7540026886469021,
          2.4572917180682085e-08,
          4.6458209032044615e-08,
          1.1857923779674597e-11,
          4.954800434544188e-12
         ]
        },
        {
         "line": {
          "color": "rgba(255, 255, 51, 1.0)",
          "dash": "solid",
          "shape": "linear",
          "width": 1.3
         },
         "mode": "lines",
         "name": "Oat Milk",
         "text": "",
         "type": "scatter",
         "x": [
          0.770515606336147,
          1.1557734095042205,
          1.3869280914050646,
          1.541031212672294,
          1.6951343339395235,
          1.8492374552067528,
          2.0033405764739824,
          2.1574436977412117,
          2.311546819008441,
          3.082062425344588,
          6.164124850689176
         ],
         "y": [
          2.2117434307522824e-08,
          8.756974964592776e-09,
          8.696556909646766e-11,
          4.519537128224468e-08,
          1.3060152690199503e-06,
          6.389786494360654e-10,
          1.983946219787815e-09,
          0.45516717955019925,
          0.4551679033331924,
          0.45516743757773137,
          0.45516743458143155
         ]
        },
        {
         "line": {
          "color": "rgba(128, 128, 0, 1.0)",
          "dash": "solid",
          "shape": "linear",
          "width": 1.3
         },
         "mode": "lines",
         "name": "Wheat Cereal",
         "text": "",
         "type": "scatter",
         "x": [
          0.770515606336147,
          1.1557734095042205,
          1.3869280914050646,
          1.541031212672294,
          1.6951343339395235,
          1.8492374552067528,
          2.0033405764739824,
          2.1574436977412117,
          2.311546819008441,
          3.082062425344588,
          6.164124850689176
         ],
         "y": [
          8.953088142606696e-09,
          1.7548591117878203e-08,
          2.509222248613396e-10,
          7.20633634772439e-08,
          1.4646053468629074e-06,
          4.894894277712661e-10,
          1.834370702738416e-10,
          2.201170153249256e-06,
          1.4058238206870608e-06,
          1.8191419471639295e-10,
          1.692779794160614e-08
         ]
        },
        {
         "line": {
          "color": "rgba(251, 128, 114, 1.0)",
          "dash": "solid",
          "shape": "linear",
          "width": 1.3
         },
         "mode": "lines",
         "name": "Bananas",
         "text": "",
         "type": "scatter",
         "x": [
          0.770515606336147,
          1.1557734095042205,
          1.3869280914050646,
          1.541031212672294,
          1.6951343339395235,
          1.8492374552067528,
          2.0033405764739824,
          2.1574436977412117,
          2.311546819008441,
          3.082062425344588,
          6.164124850689176
         ],
         "y": [
          5.8973588506752765,
          5.66455824453344e-07,
          2.0121236794480163e-09,
          2.2975377600390714e-07,
          3.6757519153413405e-06,
          7.33249057086784e-10,
          2.4300504089854397e-10,
          3.0298848201043935e-08,
          2.9185048921717775e-07,
          4.2798851596437456e-10,
          6.786544603685443e-10
         ]
        },
        {
         "line": {
          "color": "rgba(128, 177, 211, 1.0)",
          "dash": "solid",
          "shape": "linear",
          "width": 1.3
         },
         "mode": "lines",
         "name": "Cauliflower",
         "text": "",
         "type": "scatter",
         "x": [
          0.770515606336147,
          1.1557734095042205,
          1.3869280914050646,
          1.541031212672294,
          1.6951343339395235,
          1.8492374552067528,
          2.0033405764739824,
          2.1574436977412117,
          2.311546819008441,
          3.082062425344588,
          6.164124850689176
         ],
         "y": [
          1.3962072262871108,
          1.521124165190331,
          0.021551733812645378,
          0.021551492683463284,
          0.021546243270426754,
          0.021551733551902166,
          5.22999276311703e-11,
          1.60952475027909e-08,
          9.296854073504656e-08,
          2.848854232457362e-09,
          4.5170309591037444e-10
         ]
        },
        {
         "line": {
          "color": "rgba(128, 177, 211, 0.8999999999999999)",
          "dash": "solid",
          "shape": "linear",
          "width": 1.3
         },
         "mode": "lines",
         "name": "Broccoli",
         "text": "",
         "type": "scatter",
         "x": [
          0.770515606336147,
          1.1557734095042205,
          1.3869280914050646,
          1.541031212672294,
          1.6951343339395235,
          1.8492374552067528,
          2.0033405764739824,
          2.1574436977412117,
          2.311546819008441,
          3.082062425344588,
          6.164124850689176
         ],
         "y": [
          6.879270971718644e-08,
          4.5119073027932786e-08,
          1.2639559457684775e-09,
          2.1953192333984732e-07,
          4.2656302473538976e-06,
          1.4350744299198163e-10,
          1.400367261241313e-09,
          2.0870645751277194e-08,
          2.6730226298784367e-07,
          7.828164184268584e-10,
          7.340262497735741e-10
         ]
        },
        {
         "line": {
          "color": "rgba(255, 153, 51, 0.8999999999999999)",
          "dash": "solid",
          "shape": "linear",
          "width": 1.3
         },
         "mode": "lines",
         "name": "Romaine Lettuce",
         "text": "",
         "type": "scatter",
         "x": [
          0.770515606336147,
          1.1557734095042205,
          1.3869280914050646,
          1.541031212672294,
          1.6951343339395235,
          1.8492374552067528,
          2.0033405764739824,
          2.1574436977412117,
          2.311546819008441,
          3.082062425344588,
          6.164124850689176
         ],
         "y": [
          9.96526121436739e-09,
          1.2929330044928102e-08,
          1.7187241754471874e-11,
          3.759277549587306e-08,
          7.98692835822008e-07,
          2.029510883983266e-10,
          3.8181845461023655e-10,
          0.7224022977193786,
          0.7224031086878012,
          0.7224034628193859,
          0.7224034526486193
         ]
        },
        {
         "line": {
          "color": "rgba(55, 128, 191, 0.8999999999999999)",
          "dash": "solid",
          "shape": "linear",
          "width": 1.3
         },
         "mode": "lines",
         "name": "Cucumbers",
         "text": "",
         "type": "scatter",
         "x": [
          0.770515606336147,
          1.1557734095042205,
          1.3869280914050646,
          1.541031212672294,
          1.6951343339395235,
          1.8492374552067528,
          2.0033405764739824,
          2.1574436977412117,
          2.311546819008441,
          3.082062425344588,
          6.164124850689176
         ],
         "y": [
          4.7435455771469e-08,
          3.012019406316618e-08,
          3.2478816633069446e-10,
          9.828518393017585e-08,
          1.971525081786213e-06,
          4.736440967283273e-10,
          2.0845389734918146e-10,
          3.4464801298155946e-08,
          2.982654078221711e-07,
          3.7558532998183886e-10,
          5.949605610239616e-10
         ]
        },
        {
         "line": {
          "color": "rgba(50, 171, 96, 0.8999999999999999)",
          "dash": "solid",
          "shape": "linear",
          "width": 1.3
         },
         "mode": "lines",
         "name": "Jalepenos",
         "text": "",
         "type": "scatter",
         "x": [
          0.770515606336147,
          1.1557734095042205,
          1.3869280914050646,
          1.541031212672294,
          1.6951343339395235,
          1.8492374552067528,
          2.0033405764739824,
          2.1574436977412117,
          2.311546819008441,
          3.082062425344588,
          6.164124850689176
         ],
         "y": [
          5.590082140841298,
          6.776461242474051,
          8.485980895304285,
          8.485980768338901,
          8.485979091766014,
          8.485980896991537,
          8.477068681215039,
          3.7657666422762945,
          3.7657627171363615,
          3.7657592058263987,
          3.765759268923238
         ]
        },
        {
         "line": {
          "color": "rgba(128, 0, 128, 0.8999999999999999)",
          "dash": "solid",
          "shape": "linear",
          "width": 1.3
         },
         "mode": "lines",
         "name": "Salt",
         "text": "",
         "type": "scatter",
         "x": [
          0.770515606336147,
          1.1557734095042205,
          1.3869280914050646,
          1.541031212672294,
          1.6951343339395235,
          1.8492374552067528,
          2.0033405764739824,
          2.1574436977412117,
          2.311546819008441,
          3.082062425344588,
          6.164124850689176
         ],
         "y": [
          3.5198564498879894e-07,
          2.208498366053306e-06,
          1.1728719507395999e-09,
          4.632400333941198e-08,
          8.619757199042544e-07,
          1.727744126819825e-10,
          2.349723838973374e-10,
          1.6837299075237277e-06,
          5.968357942900941e-06,
          9.548269301396819e-11,
          2.1244161071683123e-10
         ]
        }
       ],
       "layout": {
        "legend": {
         "bgcolor": "#F5F6F9",
         "font": {
          "color": "#4D5663"
         }
        },
        "paper_bgcolor": "#F5F6F9",
        "plot_bgcolor": "#F5F6F9",
        "template": {
         "data": {
          "bar": [
           {
            "error_x": {
             "color": "#2a3f5f"
            },
            "error_y": {
             "color": "#2a3f5f"
            },
            "marker": {
             "line": {
              "color": "#E5ECF6",
              "width": 0.5
             },
             "pattern": {
              "fillmode": "overlay",
              "size": 10,
              "solidity": 0.2
             }
            },
            "type": "bar"
           }
          ],
          "barpolar": [
           {
            "marker": {
             "line": {
              "color": "#E5ECF6",
              "width": 0.5
             },
             "pattern": {
              "fillmode": "overlay",
              "size": 10,
              "solidity": 0.2
             }
            },
            "type": "barpolar"
           }
          ],
          "carpet": [
           {
            "aaxis": {
             "endlinecolor": "#2a3f5f",
             "gridcolor": "white",
             "linecolor": "white",
             "minorgridcolor": "white",
             "startlinecolor": "#2a3f5f"
            },
            "baxis": {
             "endlinecolor": "#2a3f5f",
             "gridcolor": "white",
             "linecolor": "white",
             "minorgridcolor": "white",
             "startlinecolor": "#2a3f5f"
            },
            "type": "carpet"
           }
          ],
          "choropleth": [
           {
            "colorbar": {
             "outlinewidth": 0,
             "ticks": ""
            },
            "type": "choropleth"
           }
          ],
          "contour": [
           {
            "colorbar": {
             "outlinewidth": 0,
             "ticks": ""
            },
            "colorscale": [
             [
              0,
              "#0d0887"
             ],
             [
              0.1111111111111111,
              "#46039f"
             ],
             [
              0.2222222222222222,
              "#7201a8"
             ],
             [
              0.3333333333333333,
              "#9c179e"
             ],
             [
              0.4444444444444444,
              "#bd3786"
             ],
             [
              0.5555555555555556,
              "#d8576b"
             ],
             [
              0.6666666666666666,
              "#ed7953"
             ],
             [
              0.7777777777777778,
              "#fb9f3a"
             ],
             [
              0.8888888888888888,
              "#fdca26"
             ],
             [
              1,
              "#f0f921"
             ]
            ],
            "type": "contour"
           }
          ],
          "contourcarpet": [
           {
            "colorbar": {
             "outlinewidth": 0,
             "ticks": ""
            },
            "type": "contourcarpet"
           }
          ],
          "heatmap": [
           {
            "colorbar": {
             "outlinewidth": 0,
             "ticks": ""
            },
            "colorscale": [
             [
              0,
              "#0d0887"
             ],
             [
              0.1111111111111111,
              "#46039f"
             ],
             [
              0.2222222222222222,
              "#7201a8"
             ],
             [
              0.3333333333333333,
              "#9c179e"
             ],
             [
              0.4444444444444444,
              "#bd3786"
             ],
             [
              0.5555555555555556,
              "#d8576b"
             ],
             [
              0.6666666666666666,
              "#ed7953"
             ],
             [
              0.7777777777777778,
              "#fb9f3a"
             ],
             [
              0.8888888888888888,
              "#fdca26"
             ],
             [
              1,
              "#f0f921"
             ]
            ],
            "type": "heatmap"
           }
          ],
          "heatmapgl": [
           {
            "colorbar": {
             "outlinewidth": 0,
             "ticks": ""
            },
            "colorscale": [
             [
              0,
              "#0d0887"
             ],
             [
              0.1111111111111111,
              "#46039f"
             ],
             [
              0.2222222222222222,
              "#7201a8"
             ],
             [
              0.3333333333333333,
              "#9c179e"
             ],
             [
              0.4444444444444444,
              "#bd3786"
             ],
             [
              0.5555555555555556,
              "#d8576b"
             ],
             [
              0.6666666666666666,
              "#ed7953"
             ],
             [
              0.7777777777777778,
              "#fb9f3a"
             ],
             [
              0.8888888888888888,
              "#fdca26"
             ],
             [
              1,
              "#f0f921"
             ]
            ],
            "type": "heatmapgl"
           }
          ],
          "histogram": [
           {
            "marker": {
             "pattern": {
              "fillmode": "overlay",
              "size": 10,
              "solidity": 0.2
             }
            },
            "type": "histogram"
           }
          ],
          "histogram2d": [
           {
            "colorbar": {
             "outlinewidth": 0,
             "ticks": ""
            },
            "colorscale": [
             [
              0,
              "#0d0887"
             ],
             [
              0.1111111111111111,
              "#46039f"
             ],
             [
              0.2222222222222222,
              "#7201a8"
             ],
             [
              0.3333333333333333,
              "#9c179e"
             ],
             [
              0.4444444444444444,
              "#bd3786"
             ],
             [
              0.5555555555555556,
              "#d8576b"
             ],
             [
              0.6666666666666666,
              "#ed7953"
             ],
             [
              0.7777777777777778,
              "#fb9f3a"
             ],
             [
              0.8888888888888888,
              "#fdca26"
             ],
             [
              1,
              "#f0f921"
             ]
            ],
            "type": "histogram2d"
           }
          ],
          "histogram2dcontour": [
           {
            "colorbar": {
             "outlinewidth": 0,
             "ticks": ""
            },
            "colorscale": [
             [
              0,
              "#0d0887"
             ],
             [
              0.1111111111111111,
              "#46039f"
             ],
             [
              0.2222222222222222,
              "#7201a8"
             ],
             [
              0.3333333333333333,
              "#9c179e"
             ],
             [
              0.4444444444444444,
              "#bd3786"
             ],
             [
              0.5555555555555556,
              "#d8576b"
             ],
             [
              0.6666666666666666,
              "#ed7953"
             ],
             [
              0.7777777777777778,
              "#fb9f3a"
             ],
             [
              0.8888888888888888,
              "#fdca26"
             ],
             [
              1,
              "#f0f921"
             ]
            ],
            "type": "histogram2dcontour"
           }
          ],
          "mesh3d": [
           {
            "colorbar": {
             "outlinewidth": 0,
             "ticks": ""
            },
            "type": "mesh3d"
           }
          ],
          "parcoords": [
           {
            "line": {
             "colorbar": {
              "outlinewidth": 0,
              "ticks": ""
             }
            },
            "type": "parcoords"
           }
          ],
          "pie": [
           {
            "automargin": true,
            "type": "pie"
           }
          ],
          "scatter": [
           {
            "marker": {
             "colorbar": {
              "outlinewidth": 0,
              "ticks": ""
             }
            },
            "type": "scatter"
           }
          ],
          "scatter3d": [
           {
            "line": {
             "colorbar": {
              "outlinewidth": 0,
              "ticks": ""
             }
            },
            "marker": {
             "colorbar": {
              "outlinewidth": 0,
              "ticks": ""
             }
            },
            "type": "scatter3d"
           }
          ],
          "scattercarpet": [
           {
            "marker": {
             "colorbar": {
              "outlinewidth": 0,
              "ticks": ""
             }
            },
            "type": "scattercarpet"
           }
          ],
          "scattergeo": [
           {
            "marker": {
             "colorbar": {
              "outlinewidth": 0,
              "ticks": ""
             }
            },
            "type": "scattergeo"
           }
          ],
          "scattergl": [
           {
            "marker": {
             "colorbar": {
              "outlinewidth": 0,
              "ticks": ""
             }
            },
            "type": "scattergl"
           }
          ],
          "scattermapbox": [
           {
            "marker": {
             "colorbar": {
              "outlinewidth": 0,
              "ticks": ""
             }
            },
            "type": "scattermapbox"
           }
          ],
          "scatterpolar": [
           {
            "marker": {
             "colorbar": {
              "outlinewidth": 0,
              "ticks": ""
             }
            },
            "type": "scatterpolar"
           }
          ],
          "scatterpolargl": [
           {
            "marker": {
             "colorbar": {
              "outlinewidth": 0,
              "ticks": ""
             }
            },
            "type": "scatterpolargl"
           }
          ],
          "scatterternary": [
           {
            "marker": {
             "colorbar": {
              "outlinewidth": 0,
              "ticks": ""
             }
            },
            "type": "scatterternary"
           }
          ],
          "surface": [
           {
            "colorbar": {
             "outlinewidth": 0,
             "ticks": ""
            },
            "colorscale": [
             [
              0,
              "#0d0887"
             ],
             [
              0.1111111111111111,
              "#46039f"
             ],
             [
              0.2222222222222222,
              "#7201a8"
             ],
             [
              0.3333333333333333,
              "#9c179e"
             ],
             [
              0.4444444444444444,
              "#bd3786"
             ],
             [
              0.5555555555555556,
              "#d8576b"
             ],
             [
              0.6666666666666666,
              "#ed7953"
             ],
             [
              0.7777777777777778,
              "#fb9f3a"
             ],
             [
              0.8888888888888888,
              "#fdca26"
             ],
             [
              1,
              "#f0f921"
             ]
            ],
            "type": "surface"
           }
          ],
          "table": [
           {
            "cells": {
             "fill": {
              "color": "#EBF0F8"
             },
             "line": {
              "color": "white"
             }
            },
            "header": {
             "fill": {
              "color": "#C8D4E3"
             },
             "line": {
              "color": "white"
             }
            },
            "type": "table"
           }
          ]
         },
         "layout": {
          "annotationdefaults": {
           "arrowcolor": "#2a3f5f",
           "arrowhead": 0,
           "arrowwidth": 1
          },
          "autotypenumbers": "strict",
          "coloraxis": {
           "colorbar": {
            "outlinewidth": 0,
            "ticks": ""
           }
          },
          "colorscale": {
           "diverging": [
            [
             0,
             "#8e0152"
            ],
            [
             0.1,
             "#c51b7d"
            ],
            [
             0.2,
             "#de77ae"
            ],
            [
             0.3,
             "#f1b6da"
            ],
            [
             0.4,
             "#fde0ef"
            ],
            [
             0.5,
             "#f7f7f7"
            ],
            [
             0.6,
             "#e6f5d0"
            ],
            [
             0.7,
             "#b8e186"
            ],
            [
             0.8,
             "#7fbc41"
            ],
            [
             0.9,
             "#4d9221"
            ],
            [
             1,
             "#276419"
            ]
           ],
           "sequential": [
            [
             0,
             "#0d0887"
            ],
            [
             0.1111111111111111,
             "#46039f"
            ],
            [
             0.2222222222222222,
             "#7201a8"
            ],
            [
             0.3333333333333333,
             "#9c179e"
            ],
            [
             0.4444444444444444,
             "#bd3786"
            ],
            [
             0.5555555555555556,
             "#d8576b"
            ],
            [
             0.6666666666666666,
             "#ed7953"
            ],
            [
             0.7777777777777778,
             "#fb9f3a"
            ],
            [
             0.8888888888888888,
             "#fdca26"
            ],
            [
             1,
             "#f0f921"
            ]
           ],
           "sequentialminus": [
            [
             0,
             "#0d0887"
            ],
            [
             0.1111111111111111,
             "#46039f"
            ],
            [
             0.2222222222222222,
             "#7201a8"
            ],
            [
             0.3333333333333333,
             "#9c179e"
            ],
            [
             0.4444444444444444,
             "#bd3786"
            ],
            [
             0.5555555555555556,
             "#d8576b"
            ],
            [
             0.6666666666666666,
             "#ed7953"
            ],
            [
             0.7777777777777778,
             "#fb9f3a"
            ],
            [
             0.8888888888888888,
             "#fdca26"
            ],
            [
             1,
             "#f0f921"
            ]
           ]
          },
          "colorway": [
           "#636efa",
           "#EF553B",
           "#00cc96",
           "#ab63fa",
           "#FFA15A",
           "#19d3f3",
           "#FF6692",
           "#B6E880",
           "#FF97FF",
           "#FECB52"
          ],
          "font": {
           "color": "#2a3f5f"
          },
          "geo": {
           "bgcolor": "white",
           "lakecolor": "white",
           "landcolor": "#E5ECF6",
           "showlakes": true,
           "showland": true,
           "subunitcolor": "white"
          },
          "hoverlabel": {
           "align": "left"
          },
          "hovermode": "closest",
          "mapbox": {
           "style": "light"
          },
          "paper_bgcolor": "white",
          "plot_bgcolor": "#E5ECF6",
          "polar": {
           "angularaxis": {
            "gridcolor": "white",
            "linecolor": "white",
            "ticks": ""
           },
           "bgcolor": "#E5ECF6",
           "radialaxis": {
            "gridcolor": "white",
            "linecolor": "white",
            "ticks": ""
           }
          },
          "scene": {
           "xaxis": {
            "backgroundcolor": "#E5ECF6",
            "gridcolor": "white",
            "gridwidth": 2,
            "linecolor": "white",
            "showbackground": true,
            "ticks": "",
            "zerolinecolor": "white"
           },
           "yaxis": {
            "backgroundcolor": "#E5ECF6",
            "gridcolor": "white",
            "gridwidth": 2,
            "linecolor": "white",
            "showbackground": true,
            "ticks": "",
            "zerolinecolor": "white"
           },
           "zaxis": {
            "backgroundcolor": "#E5ECF6",
            "gridcolor": "white",
            "gridwidth": 2,
            "linecolor": "white",
            "showbackground": true,
            "ticks": "",
            "zerolinecolor": "white"
           }
          },
          "shapedefaults": {
           "line": {
            "color": "#2a3f5f"
           }
          },
          "ternary": {
           "aaxis": {
            "gridcolor": "white",
            "linecolor": "white",
            "ticks": ""
           },
           "baxis": {
            "gridcolor": "white",
            "linecolor": "white",
            "ticks": ""
           },
           "bgcolor": "#E5ECF6",
           "caxis": {
            "gridcolor": "white",
            "linecolor": "white",
            "ticks": ""
           }
          },
          "title": {
           "x": 0.05
          },
          "xaxis": {
           "automargin": true,
           "gridcolor": "white",
           "linecolor": "white",
           "ticks": "",
           "title": {
            "standoff": 15
           },
           "zerolinecolor": "white",
           "zerolinewidth": 2
          },
          "yaxis": {
           "automargin": true,
           "gridcolor": "white",
           "linecolor": "white",
           "ticks": "",
           "title": {
            "standoff": 15
           },
           "zerolinecolor": "white",
           "zerolinewidth": 2
          }
         }
        },
        "title": {
         "font": {
          "color": "#4D5663"
         }
        },
        "xaxis": {
         "gridcolor": "#E1E5ED",
         "showgrid": true,
         "tickfont": {
          "color": "#4D5663"
         },
         "title": {
          "font": {
           "color": "#4D5663"
          },
          "text": "Cheddar cheese Price"
         },
         "zerolinecolor": "#E1E5ED"
        },
        "yaxis": {
         "gridcolor": "#E1E5ED",
         "showgrid": true,
         "tickfont": {
          "color": "#4D5663"
         },
         "title": {
          "font": {
           "color": "#4D5663"
          },
          "text": "Hectograms"
         },
         "zerolinecolor": "#E1E5ED"
        }
       }
      },
      "text/html": [
       "<div>                            <div id=\"8a038ca6-e7b6-472f-850e-b4108339a00a\" class=\"plotly-graph-div\" style=\"height:525px; width:100%;\"></div>            <script type=\"text/javascript\">                require([\"plotly\"], function(Plotly) {                    window.PLOTLYENV=window.PLOTLYENV || {};\n",
       "                    window.PLOTLYENV.BASE_URL='https://plot.ly';                                    if (document.getElementById(\"8a038ca6-e7b6-472f-850e-b4108339a00a\")) {                    Plotly.newPlot(                        \"8a038ca6-e7b6-472f-850e-b4108339a00a\",                        [{\"line\":{\"color\":\"rgba(255, 153, 51, 1.0)\",\"dash\":\"solid\",\"shape\":\"linear\",\"width\":1.3},\"mode\":\"lines\",\"name\":\"Peanut Butter\",\"text\":\"\",\"type\":\"scatter\",\"x\":[0.770515606336147,1.1557734095042205,1.3869280914050646,1.541031212672294,1.6951343339395235,1.8492374552067528,2.0033405764739824,2.1574436977412117,2.311546819008441,3.082062425344588,6.164124850689176],\"y\":[1.827750000450671e-05,0.8854183844538476,1.3239286429463237,1.3239285361803448,1.3239269661025517,1.3239286434505675,1.3397908248621724,2.488535639188087,2.4885366130967825,2.488538618994755,2.4885385964886417]},{\"line\":{\"color\":\"rgba(55, 128, 191, 1.0)\",\"dash\":\"solid\",\"shape\":\"linear\",\"width\":1.3},\"mode\":\"lines\",\"name\":\"Black Beans\",\"text\":\"\",\"type\":\"scatter\",\"x\":[0.770515606336147,1.1557734095042205,1.3869280914050646,1.541031212672294,1.6951343339395235,1.8492374552067528,2.0033405764739824,2.1574436977412117,2.311546819008441,3.082062425344588,6.164124850689176],\"y\":[0.42518048900020033,1.2998461721418897,1.1536734732633396,1.1536734161381164,1.1536724699787428,1.1536734732457907,1.1516525862688418,1.2656096221890538,1.2656099998191621,1.2656101245003901,1.265610119451692]},{\"line\":{\"color\":\"rgba(50, 171, 96, 1.0)\",\"dash\":\"solid\",\"shape\":\"linear\",\"width\":1.3},\"mode\":\"lines\",\"name\":\"Pinto Beans\",\"text\":\"\",\"type\":\"scatter\",\"x\":[0.770515606336147,1.1557734095042205,1.3869280914050646,1.541031212672294,1.6951343339395235,1.8492374552067528,2.0033405764739824,2.1574436977412117,2.311546819008441,3.082062425344588,6.164124850689176],\"y\":[1.6202158023071953,1.0765327809519751,1.069740543016468,1.0697405211668796,1.0697399509320606,1.069740542825958,1.0665723542310592,0.6946674013743225,0.6946672069205092,0.6946673333101565,0.6946673344574774]},{\"line\":{\"color\":\"rgba(128, 0, 128, 1.0)\",\"dash\":\"solid\",\"shape\":\"linear\",\"width\":1.3},\"mode\":\"lines\",\"name\":\"Sliced Turkey\",\"text\":\"\",\"type\":\"scatter\",\"x\":[0.770515606336147,1.1557734095042205,1.3869280914050646,1.541031212672294,1.6951343339395235,1.8492374552067528,2.0033405764739824,2.1574436977412117,2.311546819008441,3.082062425344588,6.164124850689176],\"y\":[0.19215125202370054,0.3198454425752572,0.3972607171293219,0.39726071873229685,0.39726078137959925,0.39726071719795275,0.40018928726305847,0.5431040964935065,0.5431040029973642,0.5431040703034419,0.5431040706815087]},{\"line\":{\"color\":\"rgba(219, 64, 82, 1.0)\",\"dash\":\"solid\",\"shape\":\"linear\",\"width\":1.3},\"mode\":\"lines\",\"name\":\"Almond Milk\",\"text\":\"\",\"type\":\"scatter\",\"x\":[0.770515606336147,1.1557734095042205,1.3869280914050646,1.541031212672294,1.6951343339395235,1.8492374552067528,2.0033405764739824,2.1574436977412117,2.311546819008441,3.082062425344588,6.164124850689176],\"y\":[1.261505627870479e-08,6.823053379433977e-09,7.583330908224988e-11,3.3570608065281297e-08,9.898216118330626e-07,4.953608137139815e-10,0.04414934929098775,2.548441601982689,2.5484405726847177,2.548441351414025,2.54844135551923]},{\"line\":{\"color\":\"rgba(0, 128, 128, 1.0)\",\"dash\":\"solid\",\"shape\":\"linear\",\"width\":1.3},\"mode\":\"lines\",\"name\":\"Cheddar cheese\",\"text\":\"\",\"type\":\"scatter\",\"x\":[0.770515606336147,1.1557734095042205,1.3869280914050646,1.541031212672294,1.6951343339395235,1.8492374552067528,2.0033405764739824,2.1574436977412117,2.311546819008441,3.082062425344588,6.164124850689176],\"y\":[1.5390518716503152,1.057187006663984,0.7650538975950845,0.7650538739796783,0.765053111030143,0.7650538970816642,0.7540026886469021,2.4572917180682085e-08,4.6458209032044615e-08,1.1857923779674597e-11,4.954800434544188e-12]},{\"line\":{\"color\":\"rgba(255, 255, 51, 1.0)\",\"dash\":\"solid\",\"shape\":\"linear\",\"width\":1.3},\"mode\":\"lines\",\"name\":\"Oat Milk\",\"text\":\"\",\"type\":\"scatter\",\"x\":[0.770515606336147,1.1557734095042205,1.3869280914050646,1.541031212672294,1.6951343339395235,1.8492374552067528,2.0033405764739824,2.1574436977412117,2.311546819008441,3.082062425344588,6.164124850689176],\"y\":[2.2117434307522824e-08,8.756974964592776e-09,8.696556909646766e-11,4.519537128224468e-08,1.3060152690199503e-06,6.389786494360654e-10,1.983946219787815e-09,0.45516717955019925,0.4551679033331924,0.45516743757773137,0.45516743458143155]},{\"line\":{\"color\":\"rgba(128, 128, 0, 1.0)\",\"dash\":\"solid\",\"shape\":\"linear\",\"width\":1.3},\"mode\":\"lines\",\"name\":\"Wheat Cereal\",\"text\":\"\",\"type\":\"scatter\",\"x\":[0.770515606336147,1.1557734095042205,1.3869280914050646,1.541031212672294,1.6951343339395235,1.8492374552067528,2.0033405764739824,2.1574436977412117,2.311546819008441,3.082062425344588,6.164124850689176],\"y\":[8.953088142606696e-09,1.7548591117878203e-08,2.509222248613396e-10,7.20633634772439e-08,1.4646053468629074e-06,4.894894277712661e-10,1.834370702738416e-10,2.201170153249256e-06,1.4058238206870608e-06,1.8191419471639295e-10,1.692779794160614e-08]},{\"line\":{\"color\":\"rgba(251, 128, 114, 1.0)\",\"dash\":\"solid\",\"shape\":\"linear\",\"width\":1.3},\"mode\":\"lines\",\"name\":\"Bananas\",\"text\":\"\",\"type\":\"scatter\",\"x\":[0.770515606336147,1.1557734095042205,1.3869280914050646,1.541031212672294,1.6951343339395235,1.8492374552067528,2.0033405764739824,2.1574436977412117,2.311546819008441,3.082062425344588,6.164124850689176],\"y\":[5.8973588506752765,5.66455824453344e-07,2.0121236794480163e-09,2.2975377600390714e-07,3.6757519153413405e-06,7.33249057086784e-10,2.4300504089854397e-10,3.0298848201043935e-08,2.9185048921717775e-07,4.2798851596437456e-10,6.786544603685443e-10]},{\"line\":{\"color\":\"rgba(128, 177, 211, 1.0)\",\"dash\":\"solid\",\"shape\":\"linear\",\"width\":1.3},\"mode\":\"lines\",\"name\":\"Cauliflower\",\"text\":\"\",\"type\":\"scatter\",\"x\":[0.770515606336147,1.1557734095042205,1.3869280914050646,1.541031212672294,1.6951343339395235,1.8492374552067528,2.0033405764739824,2.1574436977412117,2.311546819008441,3.082062425344588,6.164124850689176],\"y\":[1.3962072262871108,1.521124165190331,0.021551733812645378,0.021551492683463284,0.021546243270426754,0.021551733551902166,5.22999276311703e-11,1.60952475027909e-08,9.296854073504656e-08,2.848854232457362e-09,4.5170309591037444e-10]},{\"line\":{\"color\":\"rgba(128, 177, 211, 0.8999999999999999)\",\"dash\":\"solid\",\"shape\":\"linear\",\"width\":1.3},\"mode\":\"lines\",\"name\":\"Broccoli\",\"text\":\"\",\"type\":\"scatter\",\"x\":[0.770515606336147,1.1557734095042205,1.3869280914050646,1.541031212672294,1.6951343339395235,1.8492374552067528,2.0033405764739824,2.1574436977412117,2.311546819008441,3.082062425344588,6.164124850689176],\"y\":[6.879270971718644e-08,4.5119073027932786e-08,1.2639559457684775e-09,2.1953192333984732e-07,4.2656302473538976e-06,1.4350744299198163e-10,1.400367261241313e-09,2.0870645751277194e-08,2.6730226298784367e-07,7.828164184268584e-10,7.340262497735741e-10]},{\"line\":{\"color\":\"rgba(255, 153, 51, 0.8999999999999999)\",\"dash\":\"solid\",\"shape\":\"linear\",\"width\":1.3},\"mode\":\"lines\",\"name\":\"Romaine Lettuce\",\"text\":\"\",\"type\":\"scatter\",\"x\":[0.770515606336147,1.1557734095042205,1.3869280914050646,1.541031212672294,1.6951343339395235,1.8492374552067528,2.0033405764739824,2.1574436977412117,2.311546819008441,3.082062425344588,6.164124850689176],\"y\":[9.96526121436739e-09,1.2929330044928102e-08,1.7187241754471874e-11,3.759277549587306e-08,7.98692835822008e-07,2.029510883983266e-10,3.8181845461023655e-10,0.7224022977193786,0.7224031086878012,0.7224034628193859,0.7224034526486193]},{\"line\":{\"color\":\"rgba(55, 128, 191, 0.8999999999999999)\",\"dash\":\"solid\",\"shape\":\"linear\",\"width\":1.3},\"mode\":\"lines\",\"name\":\"Cucumbers\",\"text\":\"\",\"type\":\"scatter\",\"x\":[0.770515606336147,1.1557734095042205,1.3869280914050646,1.541031212672294,1.6951343339395235,1.8492374552067528,2.0033405764739824,2.1574436977412117,2.311546819008441,3.082062425344588,6.164124850689176],\"y\":[4.7435455771469e-08,3.012019406316618e-08,3.2478816633069446e-10,9.828518393017585e-08,1.971525081786213e-06,4.736440967283273e-10,2.0845389734918146e-10,3.4464801298155946e-08,2.982654078221711e-07,3.7558532998183886e-10,5.949605610239616e-10]},{\"line\":{\"color\":\"rgba(50, 171, 96, 0.8999999999999999)\",\"dash\":\"solid\",\"shape\":\"linear\",\"width\":1.3},\"mode\":\"lines\",\"name\":\"Jalepenos\",\"text\":\"\",\"type\":\"scatter\",\"x\":[0.770515606336147,1.1557734095042205,1.3869280914050646,1.541031212672294,1.6951343339395235,1.8492374552067528,2.0033405764739824,2.1574436977412117,2.311546819008441,3.082062425344588,6.164124850689176],\"y\":[5.590082140841298,6.776461242474051,8.485980895304285,8.485980768338901,8.485979091766014,8.485980896991537,8.477068681215039,3.7657666422762945,3.7657627171363615,3.7657592058263987,3.765759268923238]},{\"line\":{\"color\":\"rgba(128, 0, 128, 0.8999999999999999)\",\"dash\":\"solid\",\"shape\":\"linear\",\"width\":1.3},\"mode\":\"lines\",\"name\":\"Salt\",\"text\":\"\",\"type\":\"scatter\",\"x\":[0.770515606336147,1.1557734095042205,1.3869280914050646,1.541031212672294,1.6951343339395235,1.8492374552067528,2.0033405764739824,2.1574436977412117,2.311546819008441,3.082062425344588,6.164124850689176],\"y\":[3.5198564498879894e-07,2.208498366053306e-06,1.1728719507395999e-09,4.632400333941198e-08,8.619757199042544e-07,1.727744126819825e-10,2.349723838973374e-10,1.6837299075237277e-06,5.968357942900941e-06,9.548269301396819e-11,2.1244161071683123e-10]}],                        {\"legend\":{\"bgcolor\":\"#F5F6F9\",\"font\":{\"color\":\"#4D5663\"}},\"paper_bgcolor\":\"#F5F6F9\",\"plot_bgcolor\":\"#F5F6F9\",\"template\":{\"data\":{\"bar\":[{\"error_x\":{\"color\":\"#2a3f5f\"},\"error_y\":{\"color\":\"#2a3f5f\"},\"marker\":{\"line\":{\"color\":\"#E5ECF6\",\"width\":0.5},\"pattern\":{\"fillmode\":\"overlay\",\"size\":10,\"solidity\":0.2}},\"type\":\"bar\"}],\"barpolar\":[{\"marker\":{\"line\":{\"color\":\"#E5ECF6\",\"width\":0.5},\"pattern\":{\"fillmode\":\"overlay\",\"size\":10,\"solidity\":0.2}},\"type\":\"barpolar\"}],\"carpet\":[{\"aaxis\":{\"endlinecolor\":\"#2a3f5f\",\"gridcolor\":\"white\",\"linecolor\":\"white\",\"minorgridcolor\":\"white\",\"startlinecolor\":\"#2a3f5f\"},\"baxis\":{\"endlinecolor\":\"#2a3f5f\",\"gridcolor\":\"white\",\"linecolor\":\"white\",\"minorgridcolor\":\"white\",\"startlinecolor\":\"#2a3f5f\"},\"type\":\"carpet\"}],\"choropleth\":[{\"colorbar\":{\"outlinewidth\":0,\"ticks\":\"\"},\"type\":\"choropleth\"}],\"contour\":[{\"colorbar\":{\"outlinewidth\":0,\"ticks\":\"\"},\"colorscale\":[[0.0,\"#0d0887\"],[0.1111111111111111,\"#46039f\"],[0.2222222222222222,\"#7201a8\"],[0.3333333333333333,\"#9c179e\"],[0.4444444444444444,\"#bd3786\"],[0.5555555555555556,\"#d8576b\"],[0.6666666666666666,\"#ed7953\"],[0.7777777777777778,\"#fb9f3a\"],[0.8888888888888888,\"#fdca26\"],[1.0,\"#f0f921\"]],\"type\":\"contour\"}],\"contourcarpet\":[{\"colorbar\":{\"outlinewidth\":0,\"ticks\":\"\"},\"type\":\"contourcarpet\"}],\"heatmap\":[{\"colorbar\":{\"outlinewidth\":0,\"ticks\":\"\"},\"colorscale\":[[0.0,\"#0d0887\"],[0.1111111111111111,\"#46039f\"],[0.2222222222222222,\"#7201a8\"],[0.3333333333333333,\"#9c179e\"],[0.4444444444444444,\"#bd3786\"],[0.5555555555555556,\"#d8576b\"],[0.6666666666666666,\"#ed7953\"],[0.7777777777777778,\"#fb9f3a\"],[0.8888888888888888,\"#fdca26\"],[1.0,\"#f0f921\"]],\"type\":\"heatmap\"}],\"heatmapgl\":[{\"colorbar\":{\"outlinewidth\":0,\"ticks\":\"\"},\"colorscale\":[[0.0,\"#0d0887\"],[0.1111111111111111,\"#46039f\"],[0.2222222222222222,\"#7201a8\"],[0.3333333333333333,\"#9c179e\"],[0.4444444444444444,\"#bd3786\"],[0.5555555555555556,\"#d8576b\"],[0.6666666666666666,\"#ed7953\"],[0.7777777777777778,\"#fb9f3a\"],[0.8888888888888888,\"#fdca26\"],[1.0,\"#f0f921\"]],\"type\":\"heatmapgl\"}],\"histogram\":[{\"marker\":{\"pattern\":{\"fillmode\":\"overlay\",\"size\":10,\"solidity\":0.2}},\"type\":\"histogram\"}],\"histogram2d\":[{\"colorbar\":{\"outlinewidth\":0,\"ticks\":\"\"},\"colorscale\":[[0.0,\"#0d0887\"],[0.1111111111111111,\"#46039f\"],[0.2222222222222222,\"#7201a8\"],[0.3333333333333333,\"#9c179e\"],[0.4444444444444444,\"#bd3786\"],[0.5555555555555556,\"#d8576b\"],[0.6666666666666666,\"#ed7953\"],[0.7777777777777778,\"#fb9f3a\"],[0.8888888888888888,\"#fdca26\"],[1.0,\"#f0f921\"]],\"type\":\"histogram2d\"}],\"histogram2dcontour\":[{\"colorbar\":{\"outlinewidth\":0,\"ticks\":\"\"},\"colorscale\":[[0.0,\"#0d0887\"],[0.1111111111111111,\"#46039f\"],[0.2222222222222222,\"#7201a8\"],[0.3333333333333333,\"#9c179e\"],[0.4444444444444444,\"#bd3786\"],[0.5555555555555556,\"#d8576b\"],[0.6666666666666666,\"#ed7953\"],[0.7777777777777778,\"#fb9f3a\"],[0.8888888888888888,\"#fdca26\"],[1.0,\"#f0f921\"]],\"type\":\"histogram2dcontour\"}],\"mesh3d\":[{\"colorbar\":{\"outlinewidth\":0,\"ticks\":\"\"},\"type\":\"mesh3d\"}],\"parcoords\":[{\"line\":{\"colorbar\":{\"outlinewidth\":0,\"ticks\":\"\"}},\"type\":\"parcoords\"}],\"pie\":[{\"automargin\":true,\"type\":\"pie\"}],\"scatter\":[{\"marker\":{\"colorbar\":{\"outlinewidth\":0,\"ticks\":\"\"}},\"type\":\"scatter\"}],\"scatter3d\":[{\"line\":{\"colorbar\":{\"outlinewidth\":0,\"ticks\":\"\"}},\"marker\":{\"colorbar\":{\"outlinewidth\":0,\"ticks\":\"\"}},\"type\":\"scatter3d\"}],\"scattercarpet\":[{\"marker\":{\"colorbar\":{\"outlinewidth\":0,\"ticks\":\"\"}},\"type\":\"scattercarpet\"}],\"scattergeo\":[{\"marker\":{\"colorbar\":{\"outlinewidth\":0,\"ticks\":\"\"}},\"type\":\"scattergeo\"}],\"scattergl\":[{\"marker\":{\"colorbar\":{\"outlinewidth\":0,\"ticks\":\"\"}},\"type\":\"scattergl\"}],\"scattermapbox\":[{\"marker\":{\"colorbar\":{\"outlinewidth\":0,\"ticks\":\"\"}},\"type\":\"scattermapbox\"}],\"scatterpolar\":[{\"marker\":{\"colorbar\":{\"outlinewidth\":0,\"ticks\":\"\"}},\"type\":\"scatterpolar\"}],\"scatterpolargl\":[{\"marker\":{\"colorbar\":{\"outlinewidth\":0,\"ticks\":\"\"}},\"type\":\"scatterpolargl\"}],\"scatterternary\":[{\"marker\":{\"colorbar\":{\"outlinewidth\":0,\"ticks\":\"\"}},\"type\":\"scatterternary\"}],\"surface\":[{\"colorbar\":{\"outlinewidth\":0,\"ticks\":\"\"},\"colorscale\":[[0.0,\"#0d0887\"],[0.1111111111111111,\"#46039f\"],[0.2222222222222222,\"#7201a8\"],[0.3333333333333333,\"#9c179e\"],[0.4444444444444444,\"#bd3786\"],[0.5555555555555556,\"#d8576b\"],[0.6666666666666666,\"#ed7953\"],[0.7777777777777778,\"#fb9f3a\"],[0.8888888888888888,\"#fdca26\"],[1.0,\"#f0f921\"]],\"type\":\"surface\"}],\"table\":[{\"cells\":{\"fill\":{\"color\":\"#EBF0F8\"},\"line\":{\"color\":\"white\"}},\"header\":{\"fill\":{\"color\":\"#C8D4E3\"},\"line\":{\"color\":\"white\"}},\"type\":\"table\"}]},\"layout\":{\"annotationdefaults\":{\"arrowcolor\":\"#2a3f5f\",\"arrowhead\":0,\"arrowwidth\":1},\"autotypenumbers\":\"strict\",\"coloraxis\":{\"colorbar\":{\"outlinewidth\":0,\"ticks\":\"\"}},\"colorscale\":{\"diverging\":[[0,\"#8e0152\"],[0.1,\"#c51b7d\"],[0.2,\"#de77ae\"],[0.3,\"#f1b6da\"],[0.4,\"#fde0ef\"],[0.5,\"#f7f7f7\"],[0.6,\"#e6f5d0\"],[0.7,\"#b8e186\"],[0.8,\"#7fbc41\"],[0.9,\"#4d9221\"],[1,\"#276419\"]],\"sequential\":[[0.0,\"#0d0887\"],[0.1111111111111111,\"#46039f\"],[0.2222222222222222,\"#7201a8\"],[0.3333333333333333,\"#9c179e\"],[0.4444444444444444,\"#bd3786\"],[0.5555555555555556,\"#d8576b\"],[0.6666666666666666,\"#ed7953\"],[0.7777777777777778,\"#fb9f3a\"],[0.8888888888888888,\"#fdca26\"],[1.0,\"#f0f921\"]],\"sequentialminus\":[[0.0,\"#0d0887\"],[0.1111111111111111,\"#46039f\"],[0.2222222222222222,\"#7201a8\"],[0.3333333333333333,\"#9c179e\"],[0.4444444444444444,\"#bd3786\"],[0.5555555555555556,\"#d8576b\"],[0.6666666666666666,\"#ed7953\"],[0.7777777777777778,\"#fb9f3a\"],[0.8888888888888888,\"#fdca26\"],[1.0,\"#f0f921\"]]},\"colorway\":[\"#636efa\",\"#EF553B\",\"#00cc96\",\"#ab63fa\",\"#FFA15A\",\"#19d3f3\",\"#FF6692\",\"#B6E880\",\"#FF97FF\",\"#FECB52\"],\"font\":{\"color\":\"#2a3f5f\"},\"geo\":{\"bgcolor\":\"white\",\"lakecolor\":\"white\",\"landcolor\":\"#E5ECF6\",\"showlakes\":true,\"showland\":true,\"subunitcolor\":\"white\"},\"hoverlabel\":{\"align\":\"left\"},\"hovermode\":\"closest\",\"mapbox\":{\"style\":\"light\"},\"paper_bgcolor\":\"white\",\"plot_bgcolor\":\"#E5ECF6\",\"polar\":{\"angularaxis\":{\"gridcolor\":\"white\",\"linecolor\":\"white\",\"ticks\":\"\"},\"bgcolor\":\"#E5ECF6\",\"radialaxis\":{\"gridcolor\":\"white\",\"linecolor\":\"white\",\"ticks\":\"\"}},\"scene\":{\"xaxis\":{\"backgroundcolor\":\"#E5ECF6\",\"gridcolor\":\"white\",\"gridwidth\":2,\"linecolor\":\"white\",\"showbackground\":true,\"ticks\":\"\",\"zerolinecolor\":\"white\"},\"yaxis\":{\"backgroundcolor\":\"#E5ECF6\",\"gridcolor\":\"white\",\"gridwidth\":2,\"linecolor\":\"white\",\"showbackground\":true,\"ticks\":\"\",\"zerolinecolor\":\"white\"},\"zaxis\":{\"backgroundcolor\":\"#E5ECF6\",\"gridcolor\":\"white\",\"gridwidth\":2,\"linecolor\":\"white\",\"showbackground\":true,\"ticks\":\"\",\"zerolinecolor\":\"white\"}},\"shapedefaults\":{\"line\":{\"color\":\"#2a3f5f\"}},\"ternary\":{\"aaxis\":{\"gridcolor\":\"white\",\"linecolor\":\"white\",\"ticks\":\"\"},\"baxis\":{\"gridcolor\":\"white\",\"linecolor\":\"white\",\"ticks\":\"\"},\"bgcolor\":\"#E5ECF6\",\"caxis\":{\"gridcolor\":\"white\",\"linecolor\":\"white\",\"ticks\":\"\"}},\"title\":{\"x\":0.05},\"xaxis\":{\"automargin\":true,\"gridcolor\":\"white\",\"linecolor\":\"white\",\"ticks\":\"\",\"title\":{\"standoff\":15},\"zerolinecolor\":\"white\",\"zerolinewidth\":2},\"yaxis\":{\"automargin\":true,\"gridcolor\":\"white\",\"linecolor\":\"white\",\"ticks\":\"\",\"title\":{\"standoff\":15},\"zerolinecolor\":\"white\",\"zerolinewidth\":2}}},\"title\":{\"font\":{\"color\":\"#4D5663\"}},\"xaxis\":{\"gridcolor\":\"#E1E5ED\",\"showgrid\":true,\"tickfont\":{\"color\":\"#4D5663\"},\"title\":{\"font\":{\"color\":\"#4D5663\"},\"text\":\"Cheddar cheese Price\"},\"zerolinecolor\":\"#E1E5ED\"},\"yaxis\":{\"gridcolor\":\"#E1E5ED\",\"showgrid\":true,\"tickfont\":{\"color\":\"#4D5663\"},\"title\":{\"font\":{\"color\":\"#4D5663\"},\"text\":\"Hectograms\"},\"zerolinecolor\":\"#E1E5ED\"}},                        {\"showLink\": true, \"linkText\": \"Export to plot.ly\", \"plotlyServerURL\": \"https://plot.ly\", \"responsive\": true}                    ).then(function(){\n",
       "                            \n",
       "var gd = document.getElementById('8a038ca6-e7b6-472f-850e-b4108339a00a');\n",
       "var x = new MutationObserver(function (mutations, observer) {{\n",
       "        var display = window.getComputedStyle(gd).display;\n",
       "        if (!display || display === 'none') {{\n",
       "            console.log([gd, 'removed!']);\n",
       "            Plotly.purge(gd);\n",
       "            observer.disconnect();\n",
       "        }}\n",
       "}});\n",
       "\n",
       "// Listen for the removal of the full notebook cells\n",
       "var notebookContainer = gd.closest('#notebook-container');\n",
       "if (notebookContainer) {{\n",
       "    x.observe(notebookContainer, {childList: true});\n",
       "}}\n",
       "\n",
       "// Listen for the clearing of the current output cell\n",
       "var outputEl = gd.closest('.output');\n",
       "if (outputEl) {{\n",
       "    x.observe(outputEl, {childList: true});\n",
       "}}\n",
       "\n",
       "                        })                };                });            </script>        </div>"
      ]
     },
     "metadata": {},
     "output_type": "display_data"
    }
   ],
   "source": [
    "cf.go_offline()\n",
    "\n",
    "ReferenceGood = 'Cheddar cheese'\n",
    "\n",
    "scale = [0.5,0.75,0.9,1.,1.1,1.2,1.3,1.4,1.5,2,4]\n",
    "\n",
    "cost0 = solve_subsistence_problem(FoodNutrients,prices_bb,diet_min[group],diet_max[group],tol=tol).fun\n",
    "\n",
    "my_p = prices_bb.copy()\n",
    "\n",
    "diet = {}\n",
    "for s in scale:\n",
    "\n",
    "    my_p[ReferenceGood] = prices_bb[ReferenceGood]*s\n",
    "    result = solve_subsistence_problem(FoodNutrients,my_p,diet_min[group],diet_max[group],tol=tol)\n",
    "    diet[my_p[ReferenceGood]] = result.diet\n",
    "\n",
    "Diet_response = pd.DataFrame(diet).T\n",
    "Diet_response.index.name = '%s Price' % ReferenceGood\n",
    "\n",
    "Diet_response.reset_index(inplace=True)\n",
    "\n",
    "# Get rid of units for index (cufflinks chokes)\n",
    "Diet_response['%s Price' % ReferenceGood] = Diet_response['%s Price' % ReferenceGood].apply(lambda x: x.magnitude)\n",
    "\n",
    "Diet_response = Diet_response.set_index('%s Price' % ReferenceGood)\n",
    "\n",
    "# Just look at goods consumed in quantities greater than error tolerance\n",
    "Diet_response.loc[:,(Diet_response>tol).sum()>0].iplot(xTitle='%s Price' % ReferenceGood,yTitle='Hectograms')"
   ]
  },
  {
   "cell_type": "code",
   "execution_count": 72,
   "id": "45fa0c19",
   "metadata": {},
   "outputs": [
    {
     "data": {
      "text/html": [
       "        <script type=\"text/javascript\">\n",
       "        window.PlotlyConfig = {MathJaxConfig: 'local'};\n",
       "        if (window.MathJax) {MathJax.Hub.Config({SVG: {font: \"STIX-Web\"}});}\n",
       "        if (typeof require !== 'undefined') {\n",
       "        require.undef(\"plotly\");\n",
       "        requirejs.config({\n",
       "            paths: {\n",
       "                'plotly': ['https://cdn.plot.ly/plotly-2.3.1.min']\n",
       "            }\n",
       "        });\n",
       "        require(['plotly'], function(Plotly) {\n",
       "            window._Plotly = Plotly;\n",
       "        });\n",
       "        }\n",
       "        </script>\n",
       "        "
      ]
     },
     "metadata": {},
     "output_type": "display_data"
    },
    {
     "data": {
      "application/vnd.plotly.v1+json": {
       "config": {
        "linkText": "Export to plot.ly",
        "plotlyServerURL": "https://plot.ly",
        "showLink": true
       },
       "data": [
        {
         "line": {
          "color": "rgba(255, 153, 51, 1.0)",
          "dash": "solid",
          "shape": "linear",
          "width": 1.3
         },
         "mode": "lines",
         "name": "Peanut Butter",
         "text": "",
         "type": "scatter",
         "x": [
          0.08708259356302664,
          0.13062389034453997,
          0.15674866841344795,
          0.17416518712605328,
          0.19158170583865863,
          0.20899822455126393,
          0.22641474326386926,
          0.24383126197647456,
          0.26124778068907994,
          0.34833037425210656,
          0.6966607485042131
         ],
         "y": [
          4.4240222603734885e-09,
          1.3654911417079178e-07,
          1.3239246771117765,
          1.3239285361803448,
          1.4350701406883,
          1.4569304328348034,
          1.456930103419618,
          1.4569304322917922,
          1.45693043285156,
          1.4569301597761681,
          1.4569303089743901
         ]
        },
        {
         "line": {
          "color": "rgba(55, 128, 191, 1.0)",
          "dash": "solid",
          "shape": "linear",
          "width": 1.3
         },
         "mode": "lines",
         "name": "Black Beans",
         "text": "",
         "type": "scatter",
         "x": [
          0.08708259356302664,
          0.13062389034453997,
          0.15674866841344795,
          0.17416518712605328,
          0.19158170583865863,
          0.20899822455126393,
          0.22641474326386926,
          0.24383126197647456,
          0.26124778068907994,
          0.34833037425210656,
          0.6966607485042131
         ],
         "y": [
          0.9487122770092346,
          0.948712284071205,
          1.1536669348112882,
          1.1536734161381164,
          1.5520866321299474,
          1.7769442724954185,
          1.7769447566282797,
          1.7769442714751196,
          1.776944272490662,
          1.7769445352711584,
          1.7769437003211934
         ]
        },
        {
         "line": {
          "color": "rgba(50, 171, 96, 1.0)",
          "dash": "solid",
          "shape": "linear",
          "width": 1.3
         },
         "mode": "lines",
         "name": "Pinto Beans",
         "text": "",
         "type": "scatter",
         "x": [
          0.08708259356302664,
          0.13062389034453997,
          0.15674866841344795,
          0.17416518712605328,
          0.19158170583865863,
          0.20899822455126393,
          0.22641474326386926,
          0.24383126197647456,
          0.26124778068907994,
          0.34833037425210656,
          0.6966607485042131
         ],
         "y": [
          1.0572971544177538,
          1.0572970488400313,
          1.069742289046128,
          1.0697405211668796,
          0.8058950180497595,
          0.5760764430275993,
          0.5760760118366568,
          0.5760764436549053,
          0.5760764430344889,
          0.5760761085093253,
          0.5760768683510952
         ]
        },
        {
         "line": {
          "color": "rgba(128, 0, 128, 1.0)",
          "dash": "solid",
          "shape": "linear",
          "width": 1.3
         },
         "mode": "lines",
         "name": "Sliced Turkey",
         "text": "",
         "type": "scatter",
         "x": [
          0.08708259356302664,
          0.13062389034453997,
          0.15674866841344795,
          0.17416518712605328,
          0.19158170583865863,
          0.20899822455126393,
          0.22641474326386926,
          0.24383126197647456,
          0.26124778068907994,
          0.34833037425210656,
          0.6966607485042131
         ],
         "y": [
          0.395293891877689,
          0.3952938922297967,
          0.39726064433813435,
          0.39726071873229685,
          0.41098506845094096,
          0.4371359929210961,
          0.4371359358379059,
          0.43713599280839865,
          0.43713599292245636,
          0.43713595014882944,
          0.43713582550473573
         ]
        },
        {
         "line": {
          "color": "rgba(219, 64, 82, 1.0)",
          "dash": "solid",
          "shape": "linear",
          "width": 1.3
         },
         "mode": "lines",
         "name": "2% milk",
         "text": "",
         "type": "scatter",
         "x": [
          0.08708259356302664,
          0.13062389034453997,
          0.15674866841344795,
          0.17416518712605328,
          0.19158170583865863,
          0.20899822455126393,
          0.22641474326386926,
          0.24383126197647456,
          0.26124778068907994,
          0.34833037425210656,
          0.6966607485042131
         ],
         "y": [
          3.587709502022509e-09,
          1.2333999982835284e-07,
          1.1206748193446424e-06,
          3.366694471219793e-08,
          1.2624073129255989e-10,
          1.4028420744577237e-11,
          1.6395900164664358e-07,
          1.4216209993949236e-10,
          8.44546983903556e-12,
          1.543306715169278e-07,
          5.776521388526846e-08
         ]
        },
        {
         "line": {
          "color": "rgba(0, 128, 128, 1.0)",
          "dash": "solid",
          "shape": "linear",
          "width": 1.3
         },
         "mode": "lines",
         "name": "Cheddar cheese",
         "text": "",
         "type": "scatter",
         "x": [
          0.08708259356302664,
          0.13062389034453997,
          0.15674866841344795,
          0.17416518712605328,
          0.19158170583865863,
          0.20899822455126393,
          0.22641474326386926,
          0.24383126197647456,
          0.26124778068907994,
          0.34833037425210656,
          0.6966607485042131
         ],
         "y": [
          0.7724758773565302,
          0.7724758047560971,
          0.7650534785579317,
          0.7650538739796783,
          0.7132638925729458,
          0.6145811587665135,
          0.6145810851426948,
          0.6145811590421068,
          0.614581158768997,
          0.6145810497253749,
          0.6145813553015598
         ]
        },
        {
         "line": {
          "color": "rgba(255, 255, 51, 1.0)",
          "dash": "solid",
          "shape": "linear",
          "width": 1.3
         },
         "mode": "lines",
         "name": "Oat Milk",
         "text": "",
         "type": "scatter",
         "x": [
          0.08708259356302664,
          0.13062389034453997,
          0.15674866841344795,
          0.17416518712605328,
          0.19158170583865863,
          0.20899822455126393,
          0.22641474326386926,
          0.24383126197647456,
          0.26124778068907994,
          0.34833037425210656,
          0.6966607485042131
         ],
         "y": [
          5.7694246989484235e-09,
          1.8544610203308066e-07,
          1.7022140278579674e-06,
          4.519537128224468e-08,
          1.7572940108334574e-10,
          5.0474897073455594e-11,
          6.712253101030132e-07,
          4.094952276327866e-10,
          3.494090748157631e-11,
          6.263194490141743e-07,
          9.441679392031916e-07
         ]
        },
        {
         "line": {
          "color": "rgba(128, 128, 0, 1.0)",
          "dash": "solid",
          "shape": "linear",
          "width": 1.3
         },
         "mode": "lines",
         "name": "Wheat Cereal",
         "text": "",
         "type": "scatter",
         "x": [
          0.08708259356302664,
          0.13062389034453997,
          0.15674866841344795,
          0.17416518712605328,
          0.19158170583865863,
          0.20899822455126393,
          0.22641474326386926,
          0.24383126197647456,
          0.26124778068907994,
          0.34833037425210656,
          0.6966607485042131
         ],
         "y": [
          0.9983025470277949,
          0.9983024409935823,
          2.192288006999264e-06,
          7.20633634772439e-08,
          2.79799970193875e-10,
          2.7555573303479862e-11,
          3.1813972558400986e-07,
          2.7120494290821725e-10,
          1.666904972359074e-11,
          3.043531965809486e-07,
          1.686749302323008e-07
         ]
        },
        {
         "line": {
          "color": "rgba(251, 128, 114, 1.0)",
          "dash": "solid",
          "shape": "linear",
          "width": 1.3
         },
         "mode": "lines",
         "name": "Bananas",
         "text": "",
         "type": "scatter",
         "x": [
          0.08708259356302664,
          0.13062389034453997,
          0.15674866841344795,
          0.17416518712605328,
          0.19158170583865863,
          0.20899822455126393,
          0.22641474326386926,
          0.24383126197647456,
          0.26124778068907994,
          0.34833037425210656,
          0.6966607485042131
         ],
         "y": [
          7.0232137583857045e-09,
          3.6744956204383705e-07,
          5.413055823510341e-06,
          2.2975377600390714e-07,
          1.5095165480002277e-09,
          0.08247968999532955,
          0.08247492061057102,
          0.08247969441938895,
          0.08247969003796075,
          0.08247668477348462,
          0.08248124360345177
         ]
        },
        {
         "line": {
          "color": "rgba(128, 177, 211, 1.0)",
          "dash": "solid",
          "shape": "linear",
          "width": 1.3
         },
         "mode": "lines",
         "name": "Apples",
         "text": "",
         "type": "scatter",
         "x": [
          0.08708259356302664,
          0.13062389034453997,
          0.15674866841344795,
          0.17416518712605328,
          0.19158170583865863,
          0.20899822455126393,
          0.22641474326386926,
          0.24383126197647456,
          0.26124778068907994,
          0.34833037425210656,
          0.6966607485042131
         ],
         "y": [
          3.4717173267565115e-09,
          1.3459692653713636e-07,
          1.2908835086335373e-06,
          4.58314298403733e-08,
          2.0875625166600287e-10,
          3.104098747624892e-11,
          3.8414699719470674e-07,
          2.9326219855217115e-10,
          1.9313561875942777e-11,
          3.471390123627622e-07,
          1.1360246653547793e-07
         ]
        },
        {
         "line": {
          "color": "rgba(128, 177, 211, 0.8999999999999999)",
          "dash": "solid",
          "shape": "linear",
          "width": 1.3
         },
         "mode": "lines",
         "name": "Cauliflower",
         "text": "",
         "type": "scatter",
         "x": [
          0.08708259356302664,
          0.13062389034453997,
          0.15674866841344795,
          0.17416518712605328,
          0.19158170583865863,
          0.20899822455126393,
          0.22641474326386926,
          0.24383126197647456,
          0.26124778068907994,
          0.34833037425210656,
          0.6966607485042131
         ],
         "y": [
          2.941919430468703e-09,
          2.212161584195564e-07,
          0.021514469961095486,
          0.021551492683463284,
          1.9201433797854928,
          1.2722722958257783e-11,
          2.0432389661206886e-07,
          7.078090463820665e-09,
          9.515230904463862e-12,
          2.160133666828668e-07,
          8.587341880796865e-06
         ]
        },
        {
         "line": {
          "color": "rgba(255, 153, 51, 0.8999999999999999)",
          "dash": "solid",
          "shape": "linear",
          "width": 1.3
         },
         "mode": "lines",
         "name": "Broccoli",
         "text": "",
         "type": "scatter",
         "x": [
          0.08708259356302664,
          0.13062389034453997,
          0.15674866841344795,
          0.17416518712605328,
          0.19158170583865863,
          0.20899822455126393,
          0.22641474326386926,
          0.24383126197647456,
          0.26124778068907994,
          0.34833037425210656,
          0.6966607485042131
         ],
         "y": [
          2.39003937972479e-09,
          1.5748777126079674e-07,
          4.859439176929916e-06,
          2.1953192333984732e-07,
          3.4078079069559762e-09,
          2.750320342315684,
          2.750321445490515,
          2.7503203346446368,
          2.7503203423469373,
          2.750321032189387,
          2.750311839540366
         ]
        },
        {
         "line": {
          "color": "rgba(55, 128, 191, 0.8999999999999999)",
          "dash": "solid",
          "shape": "linear",
          "width": 1.3
         },
         "mode": "lines",
         "name": "Romaine Lettuce",
         "text": "",
         "type": "scatter",
         "x": [
          0.08708259356302664,
          0.13062389034453997,
          0.15674866841344795,
          0.17416518712605328,
          0.19158170583865863,
          0.20899822455126393,
          0.22641474326386926,
          0.24383126197647456,
          0.26124778068907994,
          0.34833037425210656,
          0.6966607485042131
         ],
         "y": [
          1.3916085475498152e-09,
          5.3323237234073935e-08,
          5.191434929092919e-07,
          3.759277549587306e-08,
          0.8588133233219359,
          1.1359053625504507,
          1.1359052980610829,
          1.1359053629091385,
          1.1359053625559985,
          1.1359054380370877,
          1.1359059171454584
         ]
        },
        {
         "line": {
          "color": "rgba(50, 171, 96, 0.8999999999999999)",
          "dash": "solid",
          "shape": "linear",
          "width": 1.3
         },
         "mode": "lines",
         "name": "Cucumbers",
         "text": "",
         "type": "scatter",
         "x": [
          0.08708259356302664,
          0.13062389034453997,
          0.15674866841344795,
          0.17416518712605328,
          0.19158170583865863,
          0.20899822455126393,
          0.22641474326386926,
          0.24383126197647456,
          0.26124778068907994,
          0.34833037425210656,
          0.6966607485042131
         ],
         "y": [
          9.233544652760879e-09,
          3.1558312592977963e-07,
          2.8090420466948736e-06,
          9.828518393017585e-08,
          8.509824136819871e-11,
          6.371368260362971e-12,
          7.933216130325552e-08,
          7.82204075855034e-11,
          4.726620223171163e-12,
          8.984874386631956e-08,
          2.476030381148241e-07
         ]
        },
        {
         "line": {
          "color": "rgba(128, 0, 128, 0.8999999999999999)",
          "dash": "solid",
          "shape": "linear",
          "width": 1.3
         },
         "mode": "lines",
         "name": "Jalepenos",
         "text": "",
         "type": "scatter",
         "x": [
          0.08708259356302664,
          0.13062389034453997,
          0.15674866841344795,
          0.17416518712605328,
          0.19158170583865863,
          0.20899822455126393,
          0.22641474326386926,
          0.24383126197647456,
          0.26124778068907994,
          0.34833037425210656,
          0.6966607485042131
         ],
         "y": [
          11.197033688073743,
          11.197031960420253,
          8.486048916252985,
          8.485980768338901,
          2.9045866707076664,
          1.0928178021999551e-10,
          9.279487944707e-07,
          4.324734797407524e-10,
          2.0512975868976382e-11,
          1.3852356380860982e-07,
          1.641936013840334e-08
         ]
        },
        {
         "line": {
          "color": "rgba(219, 64, 82, 0.8999999999999999)",
          "dash": "solid",
          "shape": "linear",
          "width": 1.3
         },
         "mode": "lines",
         "name": "Salt",
         "text": "",
         "type": "scatter",
         "x": [
          0.08708259356302664,
          0.13062389034453997,
          0.15674866841344795,
          0.17416518712605328,
          0.19158170583865863,
          0.20899822455126393,
          0.22641474326386926,
          0.24383126197647456,
          0.26124778068907994,
          0.34833037425210656,
          0.6966607485042131
         ],
         "y": [
          1.776994199045409e-07,
          8.914572653045605e-06,
          1.0706287942804922e-06,
          4.632400333941198e-08,
          1.1854955864477001e-11,
          6.547532801953526e-10,
          7.988765307130357e-06,
          1.2102542787738871e-11,
          4.1698977605354087e-10,
          7.38950443056655e-06,
          4.728628467067025e-09
         ]
        },
        {
         "line": {
          "color": "rgba(0, 128, 128, 0.8999999999999999)",
          "dash": "solid",
          "shape": "linear",
          "width": 1.3
         },
         "mode": "lines",
         "name": "Bread (multi grain)",
         "text": "",
         "type": "scatter",
         "x": [
          0.08708259356302664,
          0.13062389034453997,
          0.15674866841344795,
          0.17416518712605328,
          0.19158170583865863,
          0.20899822455126393,
          0.22641474326386926,
          0.24383126197647456,
          0.26124778068907994,
          0.34833037425210656,
          0.6966607485042131
         ],
         "y": [
          1.883196294348974e-09,
          9.87682020503137e-08,
          1.0461941864859156e-06,
          3.360669487049167e-08,
          1.07737619764426e-10,
          1.1953331775148333e-11,
          1.0656036005714626e-07,
          1.2206374596378148e-10,
          6.530020344652639e-12,
          1.2355499511186095e-07,
          8.599950988681576e-08
         ]
        }
       ],
       "layout": {
        "legend": {
         "bgcolor": "#F5F6F9",
         "font": {
          "color": "#4D5663"
         }
        },
        "paper_bgcolor": "#F5F6F9",
        "plot_bgcolor": "#F5F6F9",
        "template": {
         "data": {
          "bar": [
           {
            "error_x": {
             "color": "#2a3f5f"
            },
            "error_y": {
             "color": "#2a3f5f"
            },
            "marker": {
             "line": {
              "color": "#E5ECF6",
              "width": 0.5
             },
             "pattern": {
              "fillmode": "overlay",
              "size": 10,
              "solidity": 0.2
             }
            },
            "type": "bar"
           }
          ],
          "barpolar": [
           {
            "marker": {
             "line": {
              "color": "#E5ECF6",
              "width": 0.5
             },
             "pattern": {
              "fillmode": "overlay",
              "size": 10,
              "solidity": 0.2
             }
            },
            "type": "barpolar"
           }
          ],
          "carpet": [
           {
            "aaxis": {
             "endlinecolor": "#2a3f5f",
             "gridcolor": "white",
             "linecolor": "white",
             "minorgridcolor": "white",
             "startlinecolor": "#2a3f5f"
            },
            "baxis": {
             "endlinecolor": "#2a3f5f",
             "gridcolor": "white",
             "linecolor": "white",
             "minorgridcolor": "white",
             "startlinecolor": "#2a3f5f"
            },
            "type": "carpet"
           }
          ],
          "choropleth": [
           {
            "colorbar": {
             "outlinewidth": 0,
             "ticks": ""
            },
            "type": "choropleth"
           }
          ],
          "contour": [
           {
            "colorbar": {
             "outlinewidth": 0,
             "ticks": ""
            },
            "colorscale": [
             [
              0,
              "#0d0887"
             ],
             [
              0.1111111111111111,
              "#46039f"
             ],
             [
              0.2222222222222222,
              "#7201a8"
             ],
             [
              0.3333333333333333,
              "#9c179e"
             ],
             [
              0.4444444444444444,
              "#bd3786"
             ],
             [
              0.5555555555555556,
              "#d8576b"
             ],
             [
              0.6666666666666666,
              "#ed7953"
             ],
             [
              0.7777777777777778,
              "#fb9f3a"
             ],
             [
              0.8888888888888888,
              "#fdca26"
             ],
             [
              1,
              "#f0f921"
             ]
            ],
            "type": "contour"
           }
          ],
          "contourcarpet": [
           {
            "colorbar": {
             "outlinewidth": 0,
             "ticks": ""
            },
            "type": "contourcarpet"
           }
          ],
          "heatmap": [
           {
            "colorbar": {
             "outlinewidth": 0,
             "ticks": ""
            },
            "colorscale": [
             [
              0,
              "#0d0887"
             ],
             [
              0.1111111111111111,
              "#46039f"
             ],
             [
              0.2222222222222222,
              "#7201a8"
             ],
             [
              0.3333333333333333,
              "#9c179e"
             ],
             [
              0.4444444444444444,
              "#bd3786"
             ],
             [
              0.5555555555555556,
              "#d8576b"
             ],
             [
              0.6666666666666666,
              "#ed7953"
             ],
             [
              0.7777777777777778,
              "#fb9f3a"
             ],
             [
              0.8888888888888888,
              "#fdca26"
             ],
             [
              1,
              "#f0f921"
             ]
            ],
            "type": "heatmap"
           }
          ],
          "heatmapgl": [
           {
            "colorbar": {
             "outlinewidth": 0,
             "ticks": ""
            },
            "colorscale": [
             [
              0,
              "#0d0887"
             ],
             [
              0.1111111111111111,
              "#46039f"
             ],
             [
              0.2222222222222222,
              "#7201a8"
             ],
             [
              0.3333333333333333,
              "#9c179e"
             ],
             [
              0.4444444444444444,
              "#bd3786"
             ],
             [
              0.5555555555555556,
              "#d8576b"
             ],
             [
              0.6666666666666666,
              "#ed7953"
             ],
             [
              0.7777777777777778,
              "#fb9f3a"
             ],
             [
              0.8888888888888888,
              "#fdca26"
             ],
             [
              1,
              "#f0f921"
             ]
            ],
            "type": "heatmapgl"
           }
          ],
          "histogram": [
           {
            "marker": {
             "pattern": {
              "fillmode": "overlay",
              "size": 10,
              "solidity": 0.2
             }
            },
            "type": "histogram"
           }
          ],
          "histogram2d": [
           {
            "colorbar": {
             "outlinewidth": 0,
             "ticks": ""
            },
            "colorscale": [
             [
              0,
              "#0d0887"
             ],
             [
              0.1111111111111111,
              "#46039f"
             ],
             [
              0.2222222222222222,
              "#7201a8"
             ],
             [
              0.3333333333333333,
              "#9c179e"
             ],
             [
              0.4444444444444444,
              "#bd3786"
             ],
             [
              0.5555555555555556,
              "#d8576b"
             ],
             [
              0.6666666666666666,
              "#ed7953"
             ],
             [
              0.7777777777777778,
              "#fb9f3a"
             ],
             [
              0.8888888888888888,
              "#fdca26"
             ],
             [
              1,
              "#f0f921"
             ]
            ],
            "type": "histogram2d"
           }
          ],
          "histogram2dcontour": [
           {
            "colorbar": {
             "outlinewidth": 0,
             "ticks": ""
            },
            "colorscale": [
             [
              0,
              "#0d0887"
             ],
             [
              0.1111111111111111,
              "#46039f"
             ],
             [
              0.2222222222222222,
              "#7201a8"
             ],
             [
              0.3333333333333333,
              "#9c179e"
             ],
             [
              0.4444444444444444,
              "#bd3786"
             ],
             [
              0.5555555555555556,
              "#d8576b"
             ],
             [
              0.6666666666666666,
              "#ed7953"
             ],
             [
              0.7777777777777778,
              "#fb9f3a"
             ],
             [
              0.8888888888888888,
              "#fdca26"
             ],
             [
              1,
              "#f0f921"
             ]
            ],
            "type": "histogram2dcontour"
           }
          ],
          "mesh3d": [
           {
            "colorbar": {
             "outlinewidth": 0,
             "ticks": ""
            },
            "type": "mesh3d"
           }
          ],
          "parcoords": [
           {
            "line": {
             "colorbar": {
              "outlinewidth": 0,
              "ticks": ""
             }
            },
            "type": "parcoords"
           }
          ],
          "pie": [
           {
            "automargin": true,
            "type": "pie"
           }
          ],
          "scatter": [
           {
            "marker": {
             "colorbar": {
              "outlinewidth": 0,
              "ticks": ""
             }
            },
            "type": "scatter"
           }
          ],
          "scatter3d": [
           {
            "line": {
             "colorbar": {
              "outlinewidth": 0,
              "ticks": ""
             }
            },
            "marker": {
             "colorbar": {
              "outlinewidth": 0,
              "ticks": ""
             }
            },
            "type": "scatter3d"
           }
          ],
          "scattercarpet": [
           {
            "marker": {
             "colorbar": {
              "outlinewidth": 0,
              "ticks": ""
             }
            },
            "type": "scattercarpet"
           }
          ],
          "scattergeo": [
           {
            "marker": {
             "colorbar": {
              "outlinewidth": 0,
              "ticks": ""
             }
            },
            "type": "scattergeo"
           }
          ],
          "scattergl": [
           {
            "marker": {
             "colorbar": {
              "outlinewidth": 0,
              "ticks": ""
             }
            },
            "type": "scattergl"
           }
          ],
          "scattermapbox": [
           {
            "marker": {
             "colorbar": {
              "outlinewidth": 0,
              "ticks": ""
             }
            },
            "type": "scattermapbox"
           }
          ],
          "scatterpolar": [
           {
            "marker": {
             "colorbar": {
              "outlinewidth": 0,
              "ticks": ""
             }
            },
            "type": "scatterpolar"
           }
          ],
          "scatterpolargl": [
           {
            "marker": {
             "colorbar": {
              "outlinewidth": 0,
              "ticks": ""
             }
            },
            "type": "scatterpolargl"
           }
          ],
          "scatterternary": [
           {
            "marker": {
             "colorbar": {
              "outlinewidth": 0,
              "ticks": ""
             }
            },
            "type": "scatterternary"
           }
          ],
          "surface": [
           {
            "colorbar": {
             "outlinewidth": 0,
             "ticks": ""
            },
            "colorscale": [
             [
              0,
              "#0d0887"
             ],
             [
              0.1111111111111111,
              "#46039f"
             ],
             [
              0.2222222222222222,
              "#7201a8"
             ],
             [
              0.3333333333333333,
              "#9c179e"
             ],
             [
              0.4444444444444444,
              "#bd3786"
             ],
             [
              0.5555555555555556,
              "#d8576b"
             ],
             [
              0.6666666666666666,
              "#ed7953"
             ],
             [
              0.7777777777777778,
              "#fb9f3a"
             ],
             [
              0.8888888888888888,
              "#fdca26"
             ],
             [
              1,
              "#f0f921"
             ]
            ],
            "type": "surface"
           }
          ],
          "table": [
           {
            "cells": {
             "fill": {
              "color": "#EBF0F8"
             },
             "line": {
              "color": "white"
             }
            },
            "header": {
             "fill": {
              "color": "#C8D4E3"
             },
             "line": {
              "color": "white"
             }
            },
            "type": "table"
           }
          ]
         },
         "layout": {
          "annotationdefaults": {
           "arrowcolor": "#2a3f5f",
           "arrowhead": 0,
           "arrowwidth": 1
          },
          "autotypenumbers": "strict",
          "coloraxis": {
           "colorbar": {
            "outlinewidth": 0,
            "ticks": ""
           }
          },
          "colorscale": {
           "diverging": [
            [
             0,
             "#8e0152"
            ],
            [
             0.1,
             "#c51b7d"
            ],
            [
             0.2,
             "#de77ae"
            ],
            [
             0.3,
             "#f1b6da"
            ],
            [
             0.4,
             "#fde0ef"
            ],
            [
             0.5,
             "#f7f7f7"
            ],
            [
             0.6,
             "#e6f5d0"
            ],
            [
             0.7,
             "#b8e186"
            ],
            [
             0.8,
             "#7fbc41"
            ],
            [
             0.9,
             "#4d9221"
            ],
            [
             1,
             "#276419"
            ]
           ],
           "sequential": [
            [
             0,
             "#0d0887"
            ],
            [
             0.1111111111111111,
             "#46039f"
            ],
            [
             0.2222222222222222,
             "#7201a8"
            ],
            [
             0.3333333333333333,
             "#9c179e"
            ],
            [
             0.4444444444444444,
             "#bd3786"
            ],
            [
             0.5555555555555556,
             "#d8576b"
            ],
            [
             0.6666666666666666,
             "#ed7953"
            ],
            [
             0.7777777777777778,
             "#fb9f3a"
            ],
            [
             0.8888888888888888,
             "#fdca26"
            ],
            [
             1,
             "#f0f921"
            ]
           ],
           "sequentialminus": [
            [
             0,
             "#0d0887"
            ],
            [
             0.1111111111111111,
             "#46039f"
            ],
            [
             0.2222222222222222,
             "#7201a8"
            ],
            [
             0.3333333333333333,
             "#9c179e"
            ],
            [
             0.4444444444444444,
             "#bd3786"
            ],
            [
             0.5555555555555556,
             "#d8576b"
            ],
            [
             0.6666666666666666,
             "#ed7953"
            ],
            [
             0.7777777777777778,
             "#fb9f3a"
            ],
            [
             0.8888888888888888,
             "#fdca26"
            ],
            [
             1,
             "#f0f921"
            ]
           ]
          },
          "colorway": [
           "#636efa",
           "#EF553B",
           "#00cc96",
           "#ab63fa",
           "#FFA15A",
           "#19d3f3",
           "#FF6692",
           "#B6E880",
           "#FF97FF",
           "#FECB52"
          ],
          "font": {
           "color": "#2a3f5f"
          },
          "geo": {
           "bgcolor": "white",
           "lakecolor": "white",
           "landcolor": "#E5ECF6",
           "showlakes": true,
           "showland": true,
           "subunitcolor": "white"
          },
          "hoverlabel": {
           "align": "left"
          },
          "hovermode": "closest",
          "mapbox": {
           "style": "light"
          },
          "paper_bgcolor": "white",
          "plot_bgcolor": "#E5ECF6",
          "polar": {
           "angularaxis": {
            "gridcolor": "white",
            "linecolor": "white",
            "ticks": ""
           },
           "bgcolor": "#E5ECF6",
           "radialaxis": {
            "gridcolor": "white",
            "linecolor": "white",
            "ticks": ""
           }
          },
          "scene": {
           "xaxis": {
            "backgroundcolor": "#E5ECF6",
            "gridcolor": "white",
            "gridwidth": 2,
            "linecolor": "white",
            "showbackground": true,
            "ticks": "",
            "zerolinecolor": "white"
           },
           "yaxis": {
            "backgroundcolor": "#E5ECF6",
            "gridcolor": "white",
            "gridwidth": 2,
            "linecolor": "white",
            "showbackground": true,
            "ticks": "",
            "zerolinecolor": "white"
           },
           "zaxis": {
            "backgroundcolor": "#E5ECF6",
            "gridcolor": "white",
            "gridwidth": 2,
            "linecolor": "white",
            "showbackground": true,
            "ticks": "",
            "zerolinecolor": "white"
           }
          },
          "shapedefaults": {
           "line": {
            "color": "#2a3f5f"
           }
          },
          "ternary": {
           "aaxis": {
            "gridcolor": "white",
            "linecolor": "white",
            "ticks": ""
           },
           "baxis": {
            "gridcolor": "white",
            "linecolor": "white",
            "ticks": ""
           },
           "bgcolor": "#E5ECF6",
           "caxis": {
            "gridcolor": "white",
            "linecolor": "white",
            "ticks": ""
           }
          },
          "title": {
           "x": 0.05
          },
          "xaxis": {
           "automargin": true,
           "gridcolor": "white",
           "linecolor": "white",
           "ticks": "",
           "title": {
            "standoff": 15
           },
           "zerolinecolor": "white",
           "zerolinewidth": 2
          },
          "yaxis": {
           "automargin": true,
           "gridcolor": "white",
           "linecolor": "white",
           "ticks": "",
           "title": {
            "standoff": 15
           },
           "zerolinecolor": "white",
           "zerolinewidth": 2
          }
         }
        },
        "title": {
         "font": {
          "color": "#4D5663"
         }
        },
        "xaxis": {
         "gridcolor": "#E1E5ED",
         "showgrid": true,
         "tickfont": {
          "color": "#4D5663"
         },
         "title": {
          "font": {
           "color": "#4D5663"
          },
          "text": "Jalepenos Price"
         },
         "zerolinecolor": "#E1E5ED"
        },
        "yaxis": {
         "gridcolor": "#E1E5ED",
         "showgrid": true,
         "tickfont": {
          "color": "#4D5663"
         },
         "title": {
          "font": {
           "color": "#4D5663"
          },
          "text": "Hectograms"
         },
         "zerolinecolor": "#E1E5ED"
        }
       }
      },
      "text/html": [
       "<div>                            <div id=\"a36648f7-aff6-40b5-b2e6-7732fe01a5f4\" class=\"plotly-graph-div\" style=\"height:525px; width:100%;\"></div>            <script type=\"text/javascript\">                require([\"plotly\"], function(Plotly) {                    window.PLOTLYENV=window.PLOTLYENV || {};\n",
       "                    window.PLOTLYENV.BASE_URL='https://plot.ly';                                    if (document.getElementById(\"a36648f7-aff6-40b5-b2e6-7732fe01a5f4\")) {                    Plotly.newPlot(                        \"a36648f7-aff6-40b5-b2e6-7732fe01a5f4\",                        [{\"line\":{\"color\":\"rgba(255, 153, 51, 1.0)\",\"dash\":\"solid\",\"shape\":\"linear\",\"width\":1.3},\"mode\":\"lines\",\"name\":\"Peanut Butter\",\"text\":\"\",\"type\":\"scatter\",\"x\":[0.08708259356302664,0.13062389034453997,0.15674866841344795,0.17416518712605328,0.19158170583865863,0.20899822455126393,0.22641474326386926,0.24383126197647456,0.26124778068907994,0.34833037425210656,0.6966607485042131],\"y\":[4.4240222603734885e-09,1.3654911417079178e-07,1.3239246771117765,1.3239285361803448,1.4350701406883,1.4569304328348034,1.456930103419618,1.4569304322917922,1.45693043285156,1.4569301597761681,1.4569303089743901]},{\"line\":{\"color\":\"rgba(55, 128, 191, 1.0)\",\"dash\":\"solid\",\"shape\":\"linear\",\"width\":1.3},\"mode\":\"lines\",\"name\":\"Black Beans\",\"text\":\"\",\"type\":\"scatter\",\"x\":[0.08708259356302664,0.13062389034453997,0.15674866841344795,0.17416518712605328,0.19158170583865863,0.20899822455126393,0.22641474326386926,0.24383126197647456,0.26124778068907994,0.34833037425210656,0.6966607485042131],\"y\":[0.9487122770092346,0.948712284071205,1.1536669348112882,1.1536734161381164,1.5520866321299474,1.7769442724954185,1.7769447566282797,1.7769442714751196,1.776944272490662,1.7769445352711584,1.7769437003211934]},{\"line\":{\"color\":\"rgba(50, 171, 96, 1.0)\",\"dash\":\"solid\",\"shape\":\"linear\",\"width\":1.3},\"mode\":\"lines\",\"name\":\"Pinto Beans\",\"text\":\"\",\"type\":\"scatter\",\"x\":[0.08708259356302664,0.13062389034453997,0.15674866841344795,0.17416518712605328,0.19158170583865863,0.20899822455126393,0.22641474326386926,0.24383126197647456,0.26124778068907994,0.34833037425210656,0.6966607485042131],\"y\":[1.0572971544177538,1.0572970488400313,1.069742289046128,1.0697405211668796,0.8058950180497595,0.5760764430275993,0.5760760118366568,0.5760764436549053,0.5760764430344889,0.5760761085093253,0.5760768683510952]},{\"line\":{\"color\":\"rgba(128, 0, 128, 1.0)\",\"dash\":\"solid\",\"shape\":\"linear\",\"width\":1.3},\"mode\":\"lines\",\"name\":\"Sliced Turkey\",\"text\":\"\",\"type\":\"scatter\",\"x\":[0.08708259356302664,0.13062389034453997,0.15674866841344795,0.17416518712605328,0.19158170583865863,0.20899822455126393,0.22641474326386926,0.24383126197647456,0.26124778068907994,0.34833037425210656,0.6966607485042131],\"y\":[0.395293891877689,0.3952938922297967,0.39726064433813435,0.39726071873229685,0.41098506845094096,0.4371359929210961,0.4371359358379059,0.43713599280839865,0.43713599292245636,0.43713595014882944,0.43713582550473573]},{\"line\":{\"color\":\"rgba(219, 64, 82, 1.0)\",\"dash\":\"solid\",\"shape\":\"linear\",\"width\":1.3},\"mode\":\"lines\",\"name\":\"2% milk\",\"text\":\"\",\"type\":\"scatter\",\"x\":[0.08708259356302664,0.13062389034453997,0.15674866841344795,0.17416518712605328,0.19158170583865863,0.20899822455126393,0.22641474326386926,0.24383126197647456,0.26124778068907994,0.34833037425210656,0.6966607485042131],\"y\":[3.587709502022509e-09,1.2333999982835284e-07,1.1206748193446424e-06,3.366694471219793e-08,1.2624073129255989e-10,1.4028420744577237e-11,1.6395900164664358e-07,1.4216209993949236e-10,8.44546983903556e-12,1.543306715169278e-07,5.776521388526846e-08]},{\"line\":{\"color\":\"rgba(0, 128, 128, 1.0)\",\"dash\":\"solid\",\"shape\":\"linear\",\"width\":1.3},\"mode\":\"lines\",\"name\":\"Cheddar cheese\",\"text\":\"\",\"type\":\"scatter\",\"x\":[0.08708259356302664,0.13062389034453997,0.15674866841344795,0.17416518712605328,0.19158170583865863,0.20899822455126393,0.22641474326386926,0.24383126197647456,0.26124778068907994,0.34833037425210656,0.6966607485042131],\"y\":[0.7724758773565302,0.7724758047560971,0.7650534785579317,0.7650538739796783,0.7132638925729458,0.6145811587665135,0.6145810851426948,0.6145811590421068,0.614581158768997,0.6145810497253749,0.6145813553015598]},{\"line\":{\"color\":\"rgba(255, 255, 51, 1.0)\",\"dash\":\"solid\",\"shape\":\"linear\",\"width\":1.3},\"mode\":\"lines\",\"name\":\"Oat Milk\",\"text\":\"\",\"type\":\"scatter\",\"x\":[0.08708259356302664,0.13062389034453997,0.15674866841344795,0.17416518712605328,0.19158170583865863,0.20899822455126393,0.22641474326386926,0.24383126197647456,0.26124778068907994,0.34833037425210656,0.6966607485042131],\"y\":[5.7694246989484235e-09,1.8544610203308066e-07,1.7022140278579674e-06,4.519537128224468e-08,1.7572940108334574e-10,5.0474897073455594e-11,6.712253101030132e-07,4.094952276327866e-10,3.494090748157631e-11,6.263194490141743e-07,9.441679392031916e-07]},{\"line\":{\"color\":\"rgba(128, 128, 0, 1.0)\",\"dash\":\"solid\",\"shape\":\"linear\",\"width\":1.3},\"mode\":\"lines\",\"name\":\"Wheat Cereal\",\"text\":\"\",\"type\":\"scatter\",\"x\":[0.08708259356302664,0.13062389034453997,0.15674866841344795,0.17416518712605328,0.19158170583865863,0.20899822455126393,0.22641474326386926,0.24383126197647456,0.26124778068907994,0.34833037425210656,0.6966607485042131],\"y\":[0.9983025470277949,0.9983024409935823,2.192288006999264e-06,7.20633634772439e-08,2.79799970193875e-10,2.7555573303479862e-11,3.1813972558400986e-07,2.7120494290821725e-10,1.666904972359074e-11,3.043531965809486e-07,1.686749302323008e-07]},{\"line\":{\"color\":\"rgba(251, 128, 114, 1.0)\",\"dash\":\"solid\",\"shape\":\"linear\",\"width\":1.3},\"mode\":\"lines\",\"name\":\"Bananas\",\"text\":\"\",\"type\":\"scatter\",\"x\":[0.08708259356302664,0.13062389034453997,0.15674866841344795,0.17416518712605328,0.19158170583865863,0.20899822455126393,0.22641474326386926,0.24383126197647456,0.26124778068907994,0.34833037425210656,0.6966607485042131],\"y\":[7.0232137583857045e-09,3.6744956204383705e-07,5.413055823510341e-06,2.2975377600390714e-07,1.5095165480002277e-09,0.08247968999532955,0.08247492061057102,0.08247969441938895,0.08247969003796075,0.08247668477348462,0.08248124360345177]},{\"line\":{\"color\":\"rgba(128, 177, 211, 1.0)\",\"dash\":\"solid\",\"shape\":\"linear\",\"width\":1.3},\"mode\":\"lines\",\"name\":\"Apples\",\"text\":\"\",\"type\":\"scatter\",\"x\":[0.08708259356302664,0.13062389034453997,0.15674866841344795,0.17416518712605328,0.19158170583865863,0.20899822455126393,0.22641474326386926,0.24383126197647456,0.26124778068907994,0.34833037425210656,0.6966607485042131],\"y\":[3.4717173267565115e-09,1.3459692653713636e-07,1.2908835086335373e-06,4.58314298403733e-08,2.0875625166600287e-10,3.104098747624892e-11,3.8414699719470674e-07,2.9326219855217115e-10,1.9313561875942777e-11,3.471390123627622e-07,1.1360246653547793e-07]},{\"line\":{\"color\":\"rgba(128, 177, 211, 0.8999999999999999)\",\"dash\":\"solid\",\"shape\":\"linear\",\"width\":1.3},\"mode\":\"lines\",\"name\":\"Cauliflower\",\"text\":\"\",\"type\":\"scatter\",\"x\":[0.08708259356302664,0.13062389034453997,0.15674866841344795,0.17416518712605328,0.19158170583865863,0.20899822455126393,0.22641474326386926,0.24383126197647456,0.26124778068907994,0.34833037425210656,0.6966607485042131],\"y\":[2.941919430468703e-09,2.212161584195564e-07,0.021514469961095486,0.021551492683463284,1.9201433797854928,1.2722722958257783e-11,2.0432389661206886e-07,7.078090463820665e-09,9.515230904463862e-12,2.160133666828668e-07,8.587341880796865e-06]},{\"line\":{\"color\":\"rgba(255, 153, 51, 0.8999999999999999)\",\"dash\":\"solid\",\"shape\":\"linear\",\"width\":1.3},\"mode\":\"lines\",\"name\":\"Broccoli\",\"text\":\"\",\"type\":\"scatter\",\"x\":[0.08708259356302664,0.13062389034453997,0.15674866841344795,0.17416518712605328,0.19158170583865863,0.20899822455126393,0.22641474326386926,0.24383126197647456,0.26124778068907994,0.34833037425210656,0.6966607485042131],\"y\":[2.39003937972479e-09,1.5748777126079674e-07,4.859439176929916e-06,2.1953192333984732e-07,3.4078079069559762e-09,2.750320342315684,2.750321445490515,2.7503203346446368,2.7503203423469373,2.750321032189387,2.750311839540366]},{\"line\":{\"color\":\"rgba(55, 128, 191, 0.8999999999999999)\",\"dash\":\"solid\",\"shape\":\"linear\",\"width\":1.3},\"mode\":\"lines\",\"name\":\"Romaine Lettuce\",\"text\":\"\",\"type\":\"scatter\",\"x\":[0.08708259356302664,0.13062389034453997,0.15674866841344795,0.17416518712605328,0.19158170583865863,0.20899822455126393,0.22641474326386926,0.24383126197647456,0.26124778068907994,0.34833037425210656,0.6966607485042131],\"y\":[1.3916085475498152e-09,5.3323237234073935e-08,5.191434929092919e-07,3.759277549587306e-08,0.8588133233219359,1.1359053625504507,1.1359052980610829,1.1359053629091385,1.1359053625559985,1.1359054380370877,1.1359059171454584]},{\"line\":{\"color\":\"rgba(50, 171, 96, 0.8999999999999999)\",\"dash\":\"solid\",\"shape\":\"linear\",\"width\":1.3},\"mode\":\"lines\",\"name\":\"Cucumbers\",\"text\":\"\",\"type\":\"scatter\",\"x\":[0.08708259356302664,0.13062389034453997,0.15674866841344795,0.17416518712605328,0.19158170583865863,0.20899822455126393,0.22641474326386926,0.24383126197647456,0.26124778068907994,0.34833037425210656,0.6966607485042131],\"y\":[9.233544652760879e-09,3.1558312592977963e-07,2.8090420466948736e-06,9.828518393017585e-08,8.509824136819871e-11,6.371368260362971e-12,7.933216130325552e-08,7.82204075855034e-11,4.726620223171163e-12,8.984874386631956e-08,2.476030381148241e-07]},{\"line\":{\"color\":\"rgba(128, 0, 128, 0.8999999999999999)\",\"dash\":\"solid\",\"shape\":\"linear\",\"width\":1.3},\"mode\":\"lines\",\"name\":\"Jalepenos\",\"text\":\"\",\"type\":\"scatter\",\"x\":[0.08708259356302664,0.13062389034453997,0.15674866841344795,0.17416518712605328,0.19158170583865863,0.20899822455126393,0.22641474326386926,0.24383126197647456,0.26124778068907994,0.34833037425210656,0.6966607485042131],\"y\":[11.197033688073743,11.197031960420253,8.486048916252985,8.485980768338901,2.9045866707076664,1.0928178021999551e-10,9.279487944707e-07,4.324734797407524e-10,2.0512975868976382e-11,1.3852356380860982e-07,1.641936013840334e-08]},{\"line\":{\"color\":\"rgba(219, 64, 82, 0.8999999999999999)\",\"dash\":\"solid\",\"shape\":\"linear\",\"width\":1.3},\"mode\":\"lines\",\"name\":\"Salt\",\"text\":\"\",\"type\":\"scatter\",\"x\":[0.08708259356302664,0.13062389034453997,0.15674866841344795,0.17416518712605328,0.19158170583865863,0.20899822455126393,0.22641474326386926,0.24383126197647456,0.26124778068907994,0.34833037425210656,0.6966607485042131],\"y\":[1.776994199045409e-07,8.914572653045605e-06,1.0706287942804922e-06,4.632400333941198e-08,1.1854955864477001e-11,6.547532801953526e-10,7.988765307130357e-06,1.2102542787738871e-11,4.1698977605354087e-10,7.38950443056655e-06,4.728628467067025e-09]},{\"line\":{\"color\":\"rgba(0, 128, 128, 0.8999999999999999)\",\"dash\":\"solid\",\"shape\":\"linear\",\"width\":1.3},\"mode\":\"lines\",\"name\":\"Bread (multi grain)\",\"text\":\"\",\"type\":\"scatter\",\"x\":[0.08708259356302664,0.13062389034453997,0.15674866841344795,0.17416518712605328,0.19158170583865863,0.20899822455126393,0.22641474326386926,0.24383126197647456,0.26124778068907994,0.34833037425210656,0.6966607485042131],\"y\":[1.883196294348974e-09,9.87682020503137e-08,1.0461941864859156e-06,3.360669487049167e-08,1.07737619764426e-10,1.1953331775148333e-11,1.0656036005714626e-07,1.2206374596378148e-10,6.530020344652639e-12,1.2355499511186095e-07,8.599950988681576e-08]}],                        {\"legend\":{\"bgcolor\":\"#F5F6F9\",\"font\":{\"color\":\"#4D5663\"}},\"paper_bgcolor\":\"#F5F6F9\",\"plot_bgcolor\":\"#F5F6F9\",\"template\":{\"data\":{\"bar\":[{\"error_x\":{\"color\":\"#2a3f5f\"},\"error_y\":{\"color\":\"#2a3f5f\"},\"marker\":{\"line\":{\"color\":\"#E5ECF6\",\"width\":0.5},\"pattern\":{\"fillmode\":\"overlay\",\"size\":10,\"solidity\":0.2}},\"type\":\"bar\"}],\"barpolar\":[{\"marker\":{\"line\":{\"color\":\"#E5ECF6\",\"width\":0.5},\"pattern\":{\"fillmode\":\"overlay\",\"size\":10,\"solidity\":0.2}},\"type\":\"barpolar\"}],\"carpet\":[{\"aaxis\":{\"endlinecolor\":\"#2a3f5f\",\"gridcolor\":\"white\",\"linecolor\":\"white\",\"minorgridcolor\":\"white\",\"startlinecolor\":\"#2a3f5f\"},\"baxis\":{\"endlinecolor\":\"#2a3f5f\",\"gridcolor\":\"white\",\"linecolor\":\"white\",\"minorgridcolor\":\"white\",\"startlinecolor\":\"#2a3f5f\"},\"type\":\"carpet\"}],\"choropleth\":[{\"colorbar\":{\"outlinewidth\":0,\"ticks\":\"\"},\"type\":\"choropleth\"}],\"contour\":[{\"colorbar\":{\"outlinewidth\":0,\"ticks\":\"\"},\"colorscale\":[[0.0,\"#0d0887\"],[0.1111111111111111,\"#46039f\"],[0.2222222222222222,\"#7201a8\"],[0.3333333333333333,\"#9c179e\"],[0.4444444444444444,\"#bd3786\"],[0.5555555555555556,\"#d8576b\"],[0.6666666666666666,\"#ed7953\"],[0.7777777777777778,\"#fb9f3a\"],[0.8888888888888888,\"#fdca26\"],[1.0,\"#f0f921\"]],\"type\":\"contour\"}],\"contourcarpet\":[{\"colorbar\":{\"outlinewidth\":0,\"ticks\":\"\"},\"type\":\"contourcarpet\"}],\"heatmap\":[{\"colorbar\":{\"outlinewidth\":0,\"ticks\":\"\"},\"colorscale\":[[0.0,\"#0d0887\"],[0.1111111111111111,\"#46039f\"],[0.2222222222222222,\"#7201a8\"],[0.3333333333333333,\"#9c179e\"],[0.4444444444444444,\"#bd3786\"],[0.5555555555555556,\"#d8576b\"],[0.6666666666666666,\"#ed7953\"],[0.7777777777777778,\"#fb9f3a\"],[0.8888888888888888,\"#fdca26\"],[1.0,\"#f0f921\"]],\"type\":\"heatmap\"}],\"heatmapgl\":[{\"colorbar\":{\"outlinewidth\":0,\"ticks\":\"\"},\"colorscale\":[[0.0,\"#0d0887\"],[0.1111111111111111,\"#46039f\"],[0.2222222222222222,\"#7201a8\"],[0.3333333333333333,\"#9c179e\"],[0.4444444444444444,\"#bd3786\"],[0.5555555555555556,\"#d8576b\"],[0.6666666666666666,\"#ed7953\"],[0.7777777777777778,\"#fb9f3a\"],[0.8888888888888888,\"#fdca26\"],[1.0,\"#f0f921\"]],\"type\":\"heatmapgl\"}],\"histogram\":[{\"marker\":{\"pattern\":{\"fillmode\":\"overlay\",\"size\":10,\"solidity\":0.2}},\"type\":\"histogram\"}],\"histogram2d\":[{\"colorbar\":{\"outlinewidth\":0,\"ticks\":\"\"},\"colorscale\":[[0.0,\"#0d0887\"],[0.1111111111111111,\"#46039f\"],[0.2222222222222222,\"#7201a8\"],[0.3333333333333333,\"#9c179e\"],[0.4444444444444444,\"#bd3786\"],[0.5555555555555556,\"#d8576b\"],[0.6666666666666666,\"#ed7953\"],[0.7777777777777778,\"#fb9f3a\"],[0.8888888888888888,\"#fdca26\"],[1.0,\"#f0f921\"]],\"type\":\"histogram2d\"}],\"histogram2dcontour\":[{\"colorbar\":{\"outlinewidth\":0,\"ticks\":\"\"},\"colorscale\":[[0.0,\"#0d0887\"],[0.1111111111111111,\"#46039f\"],[0.2222222222222222,\"#7201a8\"],[0.3333333333333333,\"#9c179e\"],[0.4444444444444444,\"#bd3786\"],[0.5555555555555556,\"#d8576b\"],[0.6666666666666666,\"#ed7953\"],[0.7777777777777778,\"#fb9f3a\"],[0.8888888888888888,\"#fdca26\"],[1.0,\"#f0f921\"]],\"type\":\"histogram2dcontour\"}],\"mesh3d\":[{\"colorbar\":{\"outlinewidth\":0,\"ticks\":\"\"},\"type\":\"mesh3d\"}],\"parcoords\":[{\"line\":{\"colorbar\":{\"outlinewidth\":0,\"ticks\":\"\"}},\"type\":\"parcoords\"}],\"pie\":[{\"automargin\":true,\"type\":\"pie\"}],\"scatter\":[{\"marker\":{\"colorbar\":{\"outlinewidth\":0,\"ticks\":\"\"}},\"type\":\"scatter\"}],\"scatter3d\":[{\"line\":{\"colorbar\":{\"outlinewidth\":0,\"ticks\":\"\"}},\"marker\":{\"colorbar\":{\"outlinewidth\":0,\"ticks\":\"\"}},\"type\":\"scatter3d\"}],\"scattercarpet\":[{\"marker\":{\"colorbar\":{\"outlinewidth\":0,\"ticks\":\"\"}},\"type\":\"scattercarpet\"}],\"scattergeo\":[{\"marker\":{\"colorbar\":{\"outlinewidth\":0,\"ticks\":\"\"}},\"type\":\"scattergeo\"}],\"scattergl\":[{\"marker\":{\"colorbar\":{\"outlinewidth\":0,\"ticks\":\"\"}},\"type\":\"scattergl\"}],\"scattermapbox\":[{\"marker\":{\"colorbar\":{\"outlinewidth\":0,\"ticks\":\"\"}},\"type\":\"scattermapbox\"}],\"scatterpolar\":[{\"marker\":{\"colorbar\":{\"outlinewidth\":0,\"ticks\":\"\"}},\"type\":\"scatterpolar\"}],\"scatterpolargl\":[{\"marker\":{\"colorbar\":{\"outlinewidth\":0,\"ticks\":\"\"}},\"type\":\"scatterpolargl\"}],\"scatterternary\":[{\"marker\":{\"colorbar\":{\"outlinewidth\":0,\"ticks\":\"\"}},\"type\":\"scatterternary\"}],\"surface\":[{\"colorbar\":{\"outlinewidth\":0,\"ticks\":\"\"},\"colorscale\":[[0.0,\"#0d0887\"],[0.1111111111111111,\"#46039f\"],[0.2222222222222222,\"#7201a8\"],[0.3333333333333333,\"#9c179e\"],[0.4444444444444444,\"#bd3786\"],[0.5555555555555556,\"#d8576b\"],[0.6666666666666666,\"#ed7953\"],[0.7777777777777778,\"#fb9f3a\"],[0.8888888888888888,\"#fdca26\"],[1.0,\"#f0f921\"]],\"type\":\"surface\"}],\"table\":[{\"cells\":{\"fill\":{\"color\":\"#EBF0F8\"},\"line\":{\"color\":\"white\"}},\"header\":{\"fill\":{\"color\":\"#C8D4E3\"},\"line\":{\"color\":\"white\"}},\"type\":\"table\"}]},\"layout\":{\"annotationdefaults\":{\"arrowcolor\":\"#2a3f5f\",\"arrowhead\":0,\"arrowwidth\":1},\"autotypenumbers\":\"strict\",\"coloraxis\":{\"colorbar\":{\"outlinewidth\":0,\"ticks\":\"\"}},\"colorscale\":{\"diverging\":[[0,\"#8e0152\"],[0.1,\"#c51b7d\"],[0.2,\"#de77ae\"],[0.3,\"#f1b6da\"],[0.4,\"#fde0ef\"],[0.5,\"#f7f7f7\"],[0.6,\"#e6f5d0\"],[0.7,\"#b8e186\"],[0.8,\"#7fbc41\"],[0.9,\"#4d9221\"],[1,\"#276419\"]],\"sequential\":[[0.0,\"#0d0887\"],[0.1111111111111111,\"#46039f\"],[0.2222222222222222,\"#7201a8\"],[0.3333333333333333,\"#9c179e\"],[0.4444444444444444,\"#bd3786\"],[0.5555555555555556,\"#d8576b\"],[0.6666666666666666,\"#ed7953\"],[0.7777777777777778,\"#fb9f3a\"],[0.8888888888888888,\"#fdca26\"],[1.0,\"#f0f921\"]],\"sequentialminus\":[[0.0,\"#0d0887\"],[0.1111111111111111,\"#46039f\"],[0.2222222222222222,\"#7201a8\"],[0.3333333333333333,\"#9c179e\"],[0.4444444444444444,\"#bd3786\"],[0.5555555555555556,\"#d8576b\"],[0.6666666666666666,\"#ed7953\"],[0.7777777777777778,\"#fb9f3a\"],[0.8888888888888888,\"#fdca26\"],[1.0,\"#f0f921\"]]},\"colorway\":[\"#636efa\",\"#EF553B\",\"#00cc96\",\"#ab63fa\",\"#FFA15A\",\"#19d3f3\",\"#FF6692\",\"#B6E880\",\"#FF97FF\",\"#FECB52\"],\"font\":{\"color\":\"#2a3f5f\"},\"geo\":{\"bgcolor\":\"white\",\"lakecolor\":\"white\",\"landcolor\":\"#E5ECF6\",\"showlakes\":true,\"showland\":true,\"subunitcolor\":\"white\"},\"hoverlabel\":{\"align\":\"left\"},\"hovermode\":\"closest\",\"mapbox\":{\"style\":\"light\"},\"paper_bgcolor\":\"white\",\"plot_bgcolor\":\"#E5ECF6\",\"polar\":{\"angularaxis\":{\"gridcolor\":\"white\",\"linecolor\":\"white\",\"ticks\":\"\"},\"bgcolor\":\"#E5ECF6\",\"radialaxis\":{\"gridcolor\":\"white\",\"linecolor\":\"white\",\"ticks\":\"\"}},\"scene\":{\"xaxis\":{\"backgroundcolor\":\"#E5ECF6\",\"gridcolor\":\"white\",\"gridwidth\":2,\"linecolor\":\"white\",\"showbackground\":true,\"ticks\":\"\",\"zerolinecolor\":\"white\"},\"yaxis\":{\"backgroundcolor\":\"#E5ECF6\",\"gridcolor\":\"white\",\"gridwidth\":2,\"linecolor\":\"white\",\"showbackground\":true,\"ticks\":\"\",\"zerolinecolor\":\"white\"},\"zaxis\":{\"backgroundcolor\":\"#E5ECF6\",\"gridcolor\":\"white\",\"gridwidth\":2,\"linecolor\":\"white\",\"showbackground\":true,\"ticks\":\"\",\"zerolinecolor\":\"white\"}},\"shapedefaults\":{\"line\":{\"color\":\"#2a3f5f\"}},\"ternary\":{\"aaxis\":{\"gridcolor\":\"white\",\"linecolor\":\"white\",\"ticks\":\"\"},\"baxis\":{\"gridcolor\":\"white\",\"linecolor\":\"white\",\"ticks\":\"\"},\"bgcolor\":\"#E5ECF6\",\"caxis\":{\"gridcolor\":\"white\",\"linecolor\":\"white\",\"ticks\":\"\"}},\"title\":{\"x\":0.05},\"xaxis\":{\"automargin\":true,\"gridcolor\":\"white\",\"linecolor\":\"white\",\"ticks\":\"\",\"title\":{\"standoff\":15},\"zerolinecolor\":\"white\",\"zerolinewidth\":2},\"yaxis\":{\"automargin\":true,\"gridcolor\":\"white\",\"linecolor\":\"white\",\"ticks\":\"\",\"title\":{\"standoff\":15},\"zerolinecolor\":\"white\",\"zerolinewidth\":2}}},\"title\":{\"font\":{\"color\":\"#4D5663\"}},\"xaxis\":{\"gridcolor\":\"#E1E5ED\",\"showgrid\":true,\"tickfont\":{\"color\":\"#4D5663\"},\"title\":{\"font\":{\"color\":\"#4D5663\"},\"text\":\"Jalepenos Price\"},\"zerolinecolor\":\"#E1E5ED\"},\"yaxis\":{\"gridcolor\":\"#E1E5ED\",\"showgrid\":true,\"tickfont\":{\"color\":\"#4D5663\"},\"title\":{\"font\":{\"color\":\"#4D5663\"},\"text\":\"Hectograms\"},\"zerolinecolor\":\"#E1E5ED\"}},                        {\"showLink\": true, \"linkText\": \"Export to plot.ly\", \"plotlyServerURL\": \"https://plot.ly\", \"responsive\": true}                    ).then(function(){\n",
       "                            \n",
       "var gd = document.getElementById('a36648f7-aff6-40b5-b2e6-7732fe01a5f4');\n",
       "var x = new MutationObserver(function (mutations, observer) {{\n",
       "        var display = window.getComputedStyle(gd).display;\n",
       "        if (!display || display === 'none') {{\n",
       "            console.log([gd, 'removed!']);\n",
       "            Plotly.purge(gd);\n",
       "            observer.disconnect();\n",
       "        }}\n",
       "}});\n",
       "\n",
       "// Listen for the removal of the full notebook cells\n",
       "var notebookContainer = gd.closest('#notebook-container');\n",
       "if (notebookContainer) {{\n",
       "    x.observe(notebookContainer, {childList: true});\n",
       "}}\n",
       "\n",
       "// Listen for the clearing of the current output cell\n",
       "var outputEl = gd.closest('.output');\n",
       "if (outputEl) {{\n",
       "    x.observe(outputEl, {childList: true});\n",
       "}}\n",
       "\n",
       "                        })                };                });            </script>        </div>"
      ]
     },
     "metadata": {},
     "output_type": "display_data"
    }
   ],
   "source": [
    "cf.go_offline()\n",
    "\n",
    "ReferenceGood = 'Jalepenos'\n",
    "\n",
    "scale = [0.5,0.75,0.9,1.,1.1,1.2,1.3,1.4,1.5,2,4]\n",
    "\n",
    "cost0 = solve_subsistence_problem(FoodNutrients,prices_bb,diet_min[group],diet_max[group],tol=tol).fun\n",
    "\n",
    "my_p = prices_bb.copy()\n",
    "\n",
    "diet = {}\n",
    "for s in scale:\n",
    "\n",
    "    my_p[ReferenceGood] = prices_bb[ReferenceGood]*s\n",
    "    result = solve_subsistence_problem(FoodNutrients,my_p,diet_min[group],diet_max[group],tol=tol)\n",
    "    diet[my_p[ReferenceGood]] = result.diet\n",
    "\n",
    "Diet_response = pd.DataFrame(diet).T\n",
    "Diet_response.index.name = '%s Price' % ReferenceGood\n",
    "\n",
    "Diet_response.reset_index(inplace=True)\n",
    "\n",
    "# Get rid of units for index (cufflinks chokes)\n",
    "Diet_response['%s Price' % ReferenceGood] = Diet_response['%s Price' % ReferenceGood].apply(lambda x: x.magnitude)\n",
    "\n",
    "Diet_response = Diet_response.set_index('%s Price' % ReferenceGood)\n",
    "\n",
    "# Just look at goods consumed in quantities greater than error tolerance\n",
    "Diet_response.loc[:,(Diet_response>tol).sum()>0].iplot(xTitle='%s Price' % ReferenceGood,yTitle='Hectograms')"
   ]
  }
 ],
 "metadata": {
  "kernelspec": {
   "display_name": "Python 3 (ipykernel)",
   "language": "python",
   "name": "python3"
  },
  "language_info": {
   "codemirror_mode": {
    "name": "ipython",
    "version": 3
   },
   "file_extension": ".py",
   "mimetype": "text/x-python",
   "name": "python",
   "nbconvert_exporter": "python",
   "pygments_lexer": "ipython3",
   "version": "3.9.10"
  }
 },
 "nbformat": 4,
 "nbformat_minor": 5
}
