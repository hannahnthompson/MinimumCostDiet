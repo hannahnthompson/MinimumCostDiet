{
 "cells": [
  {
   "cell_type": "markdown",
   "id": "380f9245",
   "metadata": {},
   "source": [
    "# Justus von Liebig Final Code \n",
    "### Quinn Dahl, Hannah Thompson, Adrianna Ngo, Julia Goswick, Alex Yuan, Nick Everest"
   ]
  },
  {
   "cell_type": "code",
   "execution_count": 1,
   "id": "fe0c1acd",
   "metadata": {},
   "outputs": [
    {
     "name": "stdout",
     "output_type": "stream",
     "text": [
      "Requirement already satisfied: numpy>=1.20.3 in /opt/conda/lib/python3.9/site-packages (from -r requirements.txt (line 4)) (1.21.5)\n",
      "Requirement already satisfied: pandas>=1.2.5 in /opt/conda/lib/python3.9/site-packages (from -r requirements.txt (line 7)) (1.3.5)\n",
      "Collecting pint>=0.18\n",
      "  Using cached Pint-0.18-py2.py3-none-any.whl (209 kB)\n",
      "Requirement already satisfied: requests>=2.26.0 in /opt/conda/lib/python3.9/site-packages (from -r requirements.txt (line 13)) (2.26.0)\n",
      "Collecting eep153_tools\n",
      "  Using cached eep153_tools-0.11-py2.py3-none-any.whl (4.4 kB)\n",
      "Processing /home/jovyan/.cache/pip/wheels/20/7e/30/7d702acd6a1e89911301cd9dbf9cb9870ca80c0e64bc2cde23/gnupg-2.3.1-py3-none-any.whl\n",
      "Requirement already satisfied: python-dateutil>=2.7.3 in /opt/conda/lib/python3.9/site-packages (from pandas>=1.2.5->-r requirements.txt (line 7)) (2.8.0)\n",
      "Requirement already satisfied: pytz>=2017.3 in /opt/conda/lib/python3.9/site-packages (from pandas>=1.2.5->-r requirements.txt (line 7)) (2021.1)\n",
      "Requirement already satisfied: packaging in /opt/conda/lib/python3.9/site-packages (from pint>=0.18->-r requirements.txt (line 10)) (21.3)\n",
      "Requirement already satisfied: charset-normalizer~=2.0.0; python_version >= \"3\" in /opt/conda/lib/python3.9/site-packages (from requests>=2.26.0->-r requirements.txt (line 13)) (2.0.0)\n",
      "Requirement already satisfied: urllib3<1.27,>=1.21.1 in /opt/conda/lib/python3.9/site-packages (from requests>=2.26.0->-r requirements.txt (line 13)) (1.25.7)\n",
      "Requirement already satisfied: idna<4,>=2.5; python_version >= \"3\" in /opt/conda/lib/python3.9/site-packages (from requests>=2.26.0->-r requirements.txt (line 13)) (2.8)\n",
      "Requirement already satisfied: certifi>=2017.4.17 in /opt/conda/lib/python3.9/site-packages (from requests>=2.26.0->-r requirements.txt (line 13)) (2019.11.28)\n",
      "Requirement already satisfied: psutil>=1.2.1 in /opt/conda/lib/python3.9/site-packages (from gnupg->-r requirements.txt (line 17)) (5.9.0)\n",
      "Requirement already satisfied: six>=1.5 in /opt/conda/lib/python3.9/site-packages (from python-dateutil>=2.7.3->pandas>=1.2.5->-r requirements.txt (line 7)) (1.16.0)\n",
      "Requirement already satisfied: pyparsing!=3.0.5,>=2.0.2 in /opt/conda/lib/python3.9/site-packages (from packaging->pint>=0.18->-r requirements.txt (line 10)) (3.0.7)\n",
      "Installing collected packages: pint, eep153-tools, gnupg\n",
      "  Attempting uninstall: pint\n",
      "    Found existing installation: Pint 0.17\n",
      "    Uninstalling Pint-0.17:\n",
      "      Successfully uninstalled Pint-0.17\n",
      "Successfully installed eep153-tools-0.11 gnupg-2.3.1 pint-0.18\n",
      "Requirement already satisfied: scipy in /opt/conda/lib/python3.9/site-packages (1.7.3)\n",
      "Requirement already satisfied: numpy<1.23.0,>=1.16.5 in /opt/conda/lib/python3.9/site-packages (from scipy) (1.21.5)\n"
     ]
    }
   ],
   "source": [
    "!pip install -r requirements.txt\n",
    "!pip install scipy"
   ]
  },
  {
   "cell_type": "markdown",
   "id": "b33386e1",
   "metadata": {},
   "source": [
    "## [A] Description of Population of Interest\n",
    "\n",
    "As students at UC Berkeley, our group was interested in pursuing a topic that could help our peers. We took into consideration the grocery stores at which we most commonly shop and are accessible in terms of distance (taking the bus or walking). Additionally, we were interested in making our project inclusive to different diets.\n",
    "\n",
    "That being said, our project is a comparison of minimum cost diets for students shopping exclusively at specific stores in Berkeley, ideally adjustable based on diet type and personal preferences. We looked into stores such as Safeway, Berkeley Bowl, Whole Foods, and Trader Joe’s. \n",
    "\n",
    "We hope to find minimum cost meals and provide recipes for vegan, vegetarian, pescatarian, and omnivorous students. Hopefully our project can help next time you go grocery shopping!   \n"
   ]
  },
  {
   "cell_type": "markdown",
   "id": "74dc0ecd",
   "metadata": {},
   "source": [
    "## [A] Function for Dietary Reference Intakes"
   ]
  },
  {
   "cell_type": "code",
   "execution_count": 2,
   "id": "dbff53c3",
   "metadata": {},
   "outputs": [],
   "source": [
    "apikey = \"tJl01ofHyVljUR9Zpj444bDQ07REEpVXRdx1kpRl\""
   ]
  },
  {
   "cell_type": "code",
   "execution_count": 3,
   "id": "3cb988f6",
   "metadata": {},
   "outputs": [],
   "source": [
    "from scipy.optimize import linprog as lp\n",
    "import numpy as np\n",
    "import warnings\n",
    "\n",
    "def solve_subsistence_problem(FoodNutrients,Prices,diet_min,diet_max,max_weight=None,tol=1e-6):\n",
    "    \"\"\"Solve Stigler's Subsistence Cost Problem.\n",
    "\n",
    "    Inputs:\n",
    "       - FoodNutrients : A pd.DataFrame with rows corresponding to foods, columns to nutrients.\n",
    "       - Prices : A pd.Series of prices for different foods\n",
    "       - diet_min : A pd.Series of DRIs, with index corresponding to columns of FoodNutrients,\n",
    "                    describing minimum intakes.\n",
    "       - diet_max : A pd.Series of DRIs, with index corresponding to columns of FoodNutrients,\n",
    "                    describing maximum intakes.\n",
    "       - max_weight : Maximum weight (in hectograms) allowed for diet.\n",
    "       - tol : Solution values smaller than this in absolute value treated as zeros.\n",
    "       \n",
    "    \"\"\"\n",
    "    p = Prices.apply(lambda x:x.magnitude).dropna()\n",
    "\n",
    "    # Compile list that we have both prices and nutritional info for; drop if either missing\n",
    "    use = p.index.intersection(FoodNutrients.columns)\n",
    "    p = p[use]\n",
    "\n",
    "    # Drop nutritional information for foods we don't know the price of,\n",
    "    # and replace missing nutrients with zeros.\n",
    "    Aall = FoodNutrients[p.index].fillna(0)\n",
    "\n",
    "    # Drop rows of A that we don't have constraints for.\n",
    "    Amin = Aall.loc[Aall.index.intersection(diet_min.index)]\n",
    "\n",
    "    Amax = Aall.loc[Aall.index.intersection(diet_max.index)]\n",
    "\n",
    "    # Minimum requirements involve multiplying constraint by -1 to make <=.\n",
    "    A = pd.concat([Amin,\n",
    "                   -Amax])\n",
    "\n",
    "    b = pd.concat([diet_min,\n",
    "                   -diet_max]) # Note sign change for max constraints\n",
    "\n",
    "    # Make sure order of p, A, b are consistent\n",
    "    A = A.reindex(p.index,axis=1)\n",
    "    A = A.reindex(b.index,axis=0)\n",
    "\n",
    "    if max_weight is not None:\n",
    "        # Add up weights of foods consumed\n",
    "        A.loc['Hectograms'] = -1\n",
    "        b.loc['Hectograms'] = -max_weight\n",
    "        \n",
    "    # Now solve problem!  (Note that the linear program solver we'll use assumes\n",
    "    # \"less-than-or-equal\" constraints.  We can switch back and forth by\n",
    "    # multiplying $A$ and $b$ by $-1$.)\n",
    "\n",
    "    result = lp(p, -A, -b, method='interior-point')\n",
    "\n",
    "    result.A = A\n",
    "    result.b = b\n",
    "    \n",
    "    if result.success:\n",
    "        result.diet = pd.Series(result.x,index=p.index)\n",
    "    else: # No feasible solution?\n",
    "        warnings.warn(result.message)\n",
    "        result.diet = pd.Series(result.x,index=p.index)*np.nan  \n",
    "\n",
    "    return result"
   ]
  },
  {
   "cell_type": "markdown",
   "id": "6970fcb0",
   "metadata": {},
   "source": [
    "## [A] Data on prices for different foods"
   ]
  },
  {
   "cell_type": "code",
   "execution_count": 4,
   "id": "33f5a22c",
   "metadata": {},
   "outputs": [],
   "source": [
    "SHEETs = [(\"https://docs.google.com/spreadsheets/d/17XCCM7-_Vk2erOKQmZsOZ2fYSsPUGzbGyTYZd_02bVk/edit#gid=0\",\"Berkeley Bowl\")]\n",
    "SHEETs2 = [(\"https://docs.google.com/spreadsheets/d/17XCCM7-_Vk2erOKQmZsOZ2fYSsPUGzbGyTYZd_02bVk/edit#gid=0\",\"Safeway\")]\n",
    "SHEETs3 = [(\"https://docs.google.com/spreadsheets/d/17XCCM7-_Vk2erOKQmZsOZ2fYSsPUGzbGyTYZd_02bVk/edit#gid=0\",\"Whole Foods\")]\n",
    "SHEETs4 = [(\"https://docs.google.com/spreadsheets/d/17XCCM7-_Vk2erOKQmZsOZ2fYSsPUGzbGyTYZd_02bVk/edit#gid=0\",\"Trader Joe's\")]"
   ]
  },
  {
   "cell_type": "code",
   "execution_count": 5,
   "id": "4367e3df",
   "metadata": {},
   "outputs": [
    {
     "name": "stdout",
     "output_type": "stream",
     "text": [
      "Key available for students@eep153.iam.gserviceaccount.com.\n"
     ]
    },
    {
     "ename": "APIError",
     "evalue": "{'code': 429, 'message': \"Quota exceeded for quota metric 'Read requests' and limit 'Read requests per minute per user' of service 'sheets.googleapis.com' for consumer 'project_number:456913459995'.\", 'status': 'RESOURCE_EXHAUSTED', 'details': [{'@type': 'type.googleapis.com/google.rpc.ErrorInfo', 'reason': 'RATE_LIMIT_EXCEEDED', 'domain': 'googleapis.com', 'metadata': {'quota_metric': 'sheets.googleapis.com/read_requests', 'service': 'sheets.googleapis.com', 'consumer': 'projects/456913459995', 'quota_limit': 'ReadRequestsPerMinutePerUser'}}]}",
     "output_type": "error",
     "traceback": [
      "\u001b[0;31m---------------------------------------------------------------------------\u001b[0m",
      "\u001b[0;31mAPIError\u001b[0m                                  Traceback (most recent call last)",
      "Input \u001b[0;32mIn [5]\u001b[0m, in \u001b[0;36m<module>\u001b[0;34m\u001b[0m\n\u001b[1;32m      1\u001b[0m \u001b[38;5;28;01mimport\u001b[39;00m \u001b[38;5;21;01mpandas\u001b[39;00m \u001b[38;5;28;01mas\u001b[39;00m \u001b[38;5;21;01mpd\u001b[39;00m\n\u001b[1;32m      2\u001b[0m \u001b[38;5;28;01mfrom\u001b[39;00m \u001b[38;5;21;01meep153_tools\u001b[39;00m\u001b[38;5;21;01m.\u001b[39;00m\u001b[38;5;21;01msheets\u001b[39;00m \u001b[38;5;28;01mimport\u001b[39;00m read_sheets\n\u001b[0;32m----> 4\u001b[0m df_bb \u001b[38;5;241m=\u001b[39m \u001b[43mread_sheets\u001b[49m\u001b[43m(\u001b[49m\u001b[43mSHEETs\u001b[49m\u001b[43m[\u001b[49m\u001b[38;5;241;43m0\u001b[39;49m\u001b[43m]\u001b[49m\u001b[43m[\u001b[49m\u001b[38;5;241;43m0\u001b[39;49m\u001b[43m]\u001b[49m\u001b[43m)\u001b[49m[SHEETs[\u001b[38;5;241m0\u001b[39m][\u001b[38;5;241m1\u001b[39m]]\n\u001b[1;32m      5\u001b[0m df_sw \u001b[38;5;241m=\u001b[39m read_sheets(SHEETs2[\u001b[38;5;241m0\u001b[39m][\u001b[38;5;241m0\u001b[39m])[SHEETs2[\u001b[38;5;241m0\u001b[39m][\u001b[38;5;241m1\u001b[39m]]\n\u001b[1;32m      6\u001b[0m df_wf \u001b[38;5;241m=\u001b[39m read_sheets(SHEETs3[\u001b[38;5;241m0\u001b[39m][\u001b[38;5;241m0\u001b[39m])[SHEETs3[\u001b[38;5;241m0\u001b[39m][\u001b[38;5;241m1\u001b[39m]]\n",
      "File \u001b[0;32m/opt/conda/lib/python3.9/site-packages/eep153_tools/sheets.py:146\u001b[0m, in \u001b[0;36mread_sheets\u001b[0;34m(key, json_creds, sheet, force_numeric)\u001b[0m\n\u001b[1;32m    144\u001b[0m D\u001b[38;5;241m=\u001b[39m{}\n\u001b[1;32m    145\u001b[0m \u001b[38;5;28;01mfor\u001b[39;00m w \u001b[38;5;129;01min\u001b[39;00m wks:\n\u001b[0;32m--> 146\u001b[0m     data \u001b[38;5;241m=\u001b[39m \u001b[43mw\u001b[49m\u001b[38;5;241;43m.\u001b[39;49m\u001b[43mget_all_values\u001b[49m\u001b[43m(\u001b[49m\u001b[43m)\u001b[49m\n\u001b[1;32m    147\u001b[0m     headers \u001b[38;5;241m=\u001b[39m data\u001b[38;5;241m.\u001b[39mpop(\u001b[38;5;241m0\u001b[39m)\n\u001b[1;32m    148\u001b[0m     df \u001b[38;5;241m=\u001b[39m pd\u001b[38;5;241m.\u001b[39mDataFrame(data, columns\u001b[38;5;241m=\u001b[39mheaders)\n",
      "File \u001b[0;32m/opt/conda/lib/python3.9/site-packages/gspread/utils.py:593\u001b[0m, in \u001b[0;36maccepted_kwargs.<locals>.decorate.<locals>.wrapper\u001b[0;34m(*args, **kwargs)\u001b[0m\n\u001b[1;32m    590\u001b[0m \u001b[38;5;28;01mfor\u001b[39;00m k, v \u001b[38;5;129;01min\u001b[39;00m default_kwargs\u001b[38;5;241m.\u001b[39mitems():\n\u001b[1;32m    591\u001b[0m     kwargs\u001b[38;5;241m.\u001b[39msetdefault(k, v)\n\u001b[0;32m--> 593\u001b[0m \u001b[38;5;28;01mreturn\u001b[39;00m \u001b[43mf\u001b[49m\u001b[43m(\u001b[49m\u001b[38;5;241;43m*\u001b[39;49m\u001b[43margs\u001b[49m\u001b[43m,\u001b[49m\u001b[43m \u001b[49m\u001b[38;5;241;43m*\u001b[39;49m\u001b[38;5;241;43m*\u001b[39;49m\u001b[43mkwargs\u001b[49m\u001b[43m)\u001b[49m\n",
      "File \u001b[0;32m/opt/conda/lib/python3.9/site-packages/gspread/models.py:884\u001b[0m, in \u001b[0;36mWorksheet.get_all_values\u001b[0;34m(self, **kwargs)\u001b[0m\n\u001b[1;32m    861\u001b[0m \u001b[38;5;129m@accepted_kwargs\u001b[39m(\n\u001b[1;32m    862\u001b[0m     major_dimension\u001b[38;5;241m=\u001b[39m\u001b[38;5;28;01mNone\u001b[39;00m,\n\u001b[1;32m    863\u001b[0m     value_render_option\u001b[38;5;241m=\u001b[39m\u001b[38;5;28;01mNone\u001b[39;00m,\n\u001b[1;32m    864\u001b[0m     date_time_render_option\u001b[38;5;241m=\u001b[39m\u001b[38;5;28;01mNone\u001b[39;00m,\n\u001b[1;32m    865\u001b[0m )\n\u001b[1;32m    866\u001b[0m \u001b[38;5;28;01mdef\u001b[39;00m \u001b[38;5;21mget_all_values\u001b[39m(\u001b[38;5;28mself\u001b[39m, \u001b[38;5;241m*\u001b[39m\u001b[38;5;241m*\u001b[39mkwargs):\n\u001b[1;32m    867\u001b[0m     \u001b[38;5;124;03m\"\"\"Returns a list of lists containing all cells' values as strings.\u001b[39;00m\n\u001b[1;32m    868\u001b[0m \n\u001b[1;32m    869\u001b[0m \u001b[38;5;124;03m    This is an alias to :meth:`~gspread.models.Worksheet.get_values`\u001b[39;00m\n\u001b[0;32m   (...)\u001b[0m\n\u001b[1;32m    882\u001b[0m \u001b[38;5;124;03m        worksheet.get_values()\u001b[39;00m\n\u001b[1;32m    883\u001b[0m \u001b[38;5;124;03m    \"\"\"\u001b[39;00m\n\u001b[0;32m--> 884\u001b[0m     \u001b[38;5;28;01mreturn\u001b[39;00m \u001b[38;5;28;43mself\u001b[39;49m\u001b[38;5;241;43m.\u001b[39;49m\u001b[43mget_values\u001b[49m\u001b[43m(\u001b[49m\u001b[38;5;241;43m*\u001b[39;49m\u001b[38;5;241;43m*\u001b[39;49m\u001b[43mkwargs\u001b[49m\u001b[43m)\u001b[49m\n",
      "File \u001b[0;32m/opt/conda/lib/python3.9/site-packages/gspread/utils.py:593\u001b[0m, in \u001b[0;36maccepted_kwargs.<locals>.decorate.<locals>.wrapper\u001b[0;34m(*args, **kwargs)\u001b[0m\n\u001b[1;32m    590\u001b[0m \u001b[38;5;28;01mfor\u001b[39;00m k, v \u001b[38;5;129;01min\u001b[39;00m default_kwargs\u001b[38;5;241m.\u001b[39mitems():\n\u001b[1;32m    591\u001b[0m     kwargs\u001b[38;5;241m.\u001b[39msetdefault(k, v)\n\u001b[0;32m--> 593\u001b[0m \u001b[38;5;28;01mreturn\u001b[39;00m \u001b[43mf\u001b[49m\u001b[43m(\u001b[49m\u001b[38;5;241;43m*\u001b[39;49m\u001b[43margs\u001b[49m\u001b[43m,\u001b[49m\u001b[43m \u001b[49m\u001b[38;5;241;43m*\u001b[39;49m\u001b[38;5;241;43m*\u001b[39;49m\u001b[43mkwargs\u001b[49m\u001b[43m)\u001b[49m\n",
      "File \u001b[0;32m/opt/conda/lib/python3.9/site-packages/gspread/models.py:857\u001b[0m, in \u001b[0;36mWorksheet.get_values\u001b[0;34m(self, range_name, **kwargs)\u001b[0m\n\u001b[1;32m    792\u001b[0m \u001b[38;5;124;03m\"\"\"Returns a list of lists containing all values from specified range.\u001b[39;00m\n\u001b[1;32m    793\u001b[0m \n\u001b[1;32m    794\u001b[0m \u001b[38;5;124;03mBy default values are returned as strings. See ``value_render_option``\u001b[39;00m\n\u001b[0;32m   (...)\u001b[0m\n\u001b[1;32m    854\u001b[0m \u001b[38;5;124;03m    worksheet.get_values('A2:B4', value_render_option='FORMULA')\u001b[39;00m\n\u001b[1;32m    855\u001b[0m \u001b[38;5;124;03m\"\"\"\u001b[39;00m\n\u001b[1;32m    856\u001b[0m \u001b[38;5;28;01mtry\u001b[39;00m:\n\u001b[0;32m--> 857\u001b[0m     \u001b[38;5;28;01mreturn\u001b[39;00m fill_gaps(\u001b[38;5;28;43mself\u001b[39;49m\u001b[38;5;241;43m.\u001b[39;49m\u001b[43mget\u001b[49m\u001b[43m(\u001b[49m\u001b[43mrange_name\u001b[49m\u001b[43m,\u001b[49m\u001b[43m \u001b[49m\u001b[38;5;241;43m*\u001b[39;49m\u001b[38;5;241;43m*\u001b[39;49m\u001b[43mkwargs\u001b[49m\u001b[43m)\u001b[49m)\n\u001b[1;32m    858\u001b[0m \u001b[38;5;28;01mexcept\u001b[39;00m \u001b[38;5;167;01mKeyError\u001b[39;00m:\n\u001b[1;32m    859\u001b[0m     \u001b[38;5;28;01mreturn\u001b[39;00m []\n",
      "File \u001b[0;32m/opt/conda/lib/python3.9/site-packages/gspread/utils.py:593\u001b[0m, in \u001b[0;36maccepted_kwargs.<locals>.decorate.<locals>.wrapper\u001b[0;34m(*args, **kwargs)\u001b[0m\n\u001b[1;32m    590\u001b[0m \u001b[38;5;28;01mfor\u001b[39;00m k, v \u001b[38;5;129;01min\u001b[39;00m default_kwargs\u001b[38;5;241m.\u001b[39mitems():\n\u001b[1;32m    591\u001b[0m     kwargs\u001b[38;5;241m.\u001b[39msetdefault(k, v)\n\u001b[0;32m--> 593\u001b[0m \u001b[38;5;28;01mreturn\u001b[39;00m \u001b[43mf\u001b[49m\u001b[43m(\u001b[49m\u001b[38;5;241;43m*\u001b[39;49m\u001b[43margs\u001b[49m\u001b[43m,\u001b[49m\u001b[43m \u001b[49m\u001b[38;5;241;43m*\u001b[39;49m\u001b[38;5;241;43m*\u001b[39;49m\u001b[43mkwargs\u001b[49m\u001b[43m)\u001b[49m\n",
      "File \u001b[0;32m/opt/conda/lib/python3.9/site-packages/gspread/models.py:1136\u001b[0m, in \u001b[0;36mWorksheet.get\u001b[0;34m(self, range_name, **kwargs)\u001b[0m\n\u001b[1;32m   1126\u001b[0m range_name \u001b[38;5;241m=\u001b[39m absolute_range_name(\u001b[38;5;28mself\u001b[39m\u001b[38;5;241m.\u001b[39mtitle, range_name)\n\u001b[1;32m   1128\u001b[0m params \u001b[38;5;241m=\u001b[39m filter_dict_values(\n\u001b[1;32m   1129\u001b[0m     {\n\u001b[1;32m   1130\u001b[0m         \u001b[38;5;124m'\u001b[39m\u001b[38;5;124mmajorDimension\u001b[39m\u001b[38;5;124m'\u001b[39m: kwargs[\u001b[38;5;124m'\u001b[39m\u001b[38;5;124mmajor_dimension\u001b[39m\u001b[38;5;124m'\u001b[39m],\n\u001b[0;32m   (...)\u001b[0m\n\u001b[1;32m   1133\u001b[0m     }\n\u001b[1;32m   1134\u001b[0m )\n\u001b[0;32m-> 1136\u001b[0m response \u001b[38;5;241m=\u001b[39m \u001b[38;5;28;43mself\u001b[39;49m\u001b[38;5;241;43m.\u001b[39;49m\u001b[43mspreadsheet\u001b[49m\u001b[38;5;241;43m.\u001b[39;49m\u001b[43mvalues_get\u001b[49m\u001b[43m(\u001b[49m\u001b[43mrange_name\u001b[49m\u001b[43m,\u001b[49m\u001b[43m \u001b[49m\u001b[43mparams\u001b[49m\u001b[38;5;241;43m=\u001b[39;49m\u001b[43mparams\u001b[49m\u001b[43m)\u001b[49m\n\u001b[1;32m   1138\u001b[0m \u001b[38;5;28;01mreturn\u001b[39;00m ValueRange\u001b[38;5;241m.\u001b[39mfrom_json(response)\n",
      "File \u001b[0;32m/opt/conda/lib/python3.9/site-packages/gspread/models.py:221\u001b[0m, in \u001b[0;36mSpreadsheet.values_get\u001b[0;34m(self, range, params)\u001b[0m\n\u001b[1;32m    211\u001b[0m \u001b[38;5;124;03m\"\"\"Lower-level method that directly calls `spreadsheets.values.get <https://developers.google.com/sheets/api/reference/rest/v4/spreadsheets.values/get>`_.\u001b[39;00m\n\u001b[1;32m    212\u001b[0m \n\u001b[1;32m    213\u001b[0m \u001b[38;5;124;03m:param str range: The `A1 notation <https://developers.google.com/sheets/api/guides/concepts#a1_notation>`_ of the values to retrieve.\u001b[39;00m\n\u001b[0;32m   (...)\u001b[0m\n\u001b[1;32m    218\u001b[0m \u001b[38;5;124;03m.. versionadded:: 3.0\u001b[39;00m\n\u001b[1;32m    219\u001b[0m \u001b[38;5;124;03m\"\"\"\u001b[39;00m\n\u001b[1;32m    220\u001b[0m url \u001b[38;5;241m=\u001b[39m SPREADSHEET_VALUES_URL \u001b[38;5;241m%\u001b[39m (\u001b[38;5;28mself\u001b[39m\u001b[38;5;241m.\u001b[39mid, quote(\u001b[38;5;28mrange\u001b[39m))\n\u001b[0;32m--> 221\u001b[0m r \u001b[38;5;241m=\u001b[39m \u001b[38;5;28;43mself\u001b[39;49m\u001b[38;5;241;43m.\u001b[39;49m\u001b[43mclient\u001b[49m\u001b[38;5;241;43m.\u001b[39;49m\u001b[43mrequest\u001b[49m\u001b[43m(\u001b[49m\u001b[38;5;124;43m'\u001b[39;49m\u001b[38;5;124;43mget\u001b[39;49m\u001b[38;5;124;43m'\u001b[39;49m\u001b[43m,\u001b[49m\u001b[43m \u001b[49m\u001b[43murl\u001b[49m\u001b[43m,\u001b[49m\u001b[43m \u001b[49m\u001b[43mparams\u001b[49m\u001b[38;5;241;43m=\u001b[39;49m\u001b[43mparams\u001b[49m\u001b[43m)\u001b[49m\n\u001b[1;32m    222\u001b[0m \u001b[38;5;28;01mreturn\u001b[39;00m r\u001b[38;5;241m.\u001b[39mjson()\n",
      "File \u001b[0;32m/opt/conda/lib/python3.9/site-packages/gspread/client.py:76\u001b[0m, in \u001b[0;36mClient.request\u001b[0;34m(self, method, endpoint, params, data, json, files, headers)\u001b[0m\n\u001b[1;32m     74\u001b[0m     \u001b[38;5;28;01mreturn\u001b[39;00m response\n\u001b[1;32m     75\u001b[0m \u001b[38;5;28;01melse\u001b[39;00m:\n\u001b[0;32m---> 76\u001b[0m     \u001b[38;5;28;01mraise\u001b[39;00m APIError(response)\n",
      "\u001b[0;31mAPIError\u001b[0m: {'code': 429, 'message': \"Quota exceeded for quota metric 'Read requests' and limit 'Read requests per minute per user' of service 'sheets.googleapis.com' for consumer 'project_number:456913459995'.\", 'status': 'RESOURCE_EXHAUSTED', 'details': [{'@type': 'type.googleapis.com/google.rpc.ErrorInfo', 'reason': 'RATE_LIMIT_EXCEEDED', 'domain': 'googleapis.com', 'metadata': {'quota_metric': 'sheets.googleapis.com/read_requests', 'service': 'sheets.googleapis.com', 'consumer': 'projects/456913459995', 'quota_limit': 'ReadRequestsPerMinutePerUser'}}]}"
     ]
    }
   ],
   "source": [
    "import pandas as pd\n",
    "from eep153_tools.sheets import read_sheets\n",
    "\n",
    "df_bb = read_sheets(SHEETs[0][0])[SHEETs[0][1]]\n",
    "df_sw = read_sheets(SHEETs2[0][0])[SHEETs2[0][1]]\n",
    "df_wf = read_sheets(SHEETs3[0][0])[SHEETs3[0][1]]\n",
    "df_tj = read_sheets(SHEETs4[0][0])[SHEETs4[0][1]]"
   ]
  },
  {
   "cell_type": "code",
   "execution_count": null,
   "id": "d7825547",
   "metadata": {},
   "outputs": [],
   "source": [
    "# do NOT continuously run next cell"
   ]
  },
  {
   "cell_type": "code",
   "execution_count": null,
   "id": "1bd698bd",
   "metadata": {},
   "outputs": [],
   "source": [
    "##do not rerun this cell while making changes to other cells, just run once. It takes like 5 minutes to run\n",
    "import fooddatacentral as fdc\n",
    "import warnings\n",
    "\n",
    "D = {}\n",
    "count = 0\n",
    "for food in  df_bb.Food.tolist():\n",
    "    try:\n",
    "        FDC = df_bb.loc[df_bb.Food==food,:].FDC[count]\n",
    "        count+=1\n",
    "        D[food] = fdc.nutrients(apikey,FDC).Quantity\n",
    "    except AttributeError: \n",
    "        warnings.warn(\"Couldn't find FDC Code %s for food %s.\" % (food,FDC))        \n",
    "\n",
    "FoodNutrients = pd.DataFrame(D,dtype=float)"
   ]
  },
  {
   "cell_type": "code",
   "execution_count": null,
   "id": "3daccc85",
   "metadata": {},
   "outputs": [],
   "source": [
    "def change_df_col_to_int(df, col):\n",
    "   # df[col] = df[col].fillna(1)\n",
    "    df[col] = df[col].str.replace('$', '')\n",
    "    df[col] = df[col].astype(float)\n",
    "    return df"
   ]
  },
  {
   "cell_type": "code",
   "execution_count": null,
   "id": "a1499b6c",
   "metadata": {},
   "outputs": [],
   "source": [
    "change_df_col_to_int(df_bb, 'Price')\n",
    "change_df_col_to_int(df_sw, 'Price')\n",
    "change_df_col_to_int(df_wf, 'Price')\n",
    "change_df_col_to_int(df_tj, 'Price')"
   ]
  },
  {
   "cell_type": "code",
   "execution_count": null,
   "id": "6fc2f252",
   "metadata": {},
   "outputs": [],
   "source": [
    "# Convert food quantities to FDC units\n",
    "def find_unit_prices(df):\n",
    "    df['FDC Quantity'] = df[['Quantity','Units']].T.apply(lambda x : fdc.units(x['Quantity'],x['Units']))\n",
    "\n",
    "# Now may want to filter df by time or place--need to get a unique set of food names.\n",
    "    df['FDC Price'] = df['Price']/df['FDC Quantity']\n",
    "\n",
    "    df.dropna(how='any') # Drop food with any missing data\n",
    "\n",
    "# To use minimum price observed\n",
    "    Prices = df.groupby('Food',sort=False)['FDC Price'].min()\n",
    "    return Prices"
   ]
  },
  {
   "cell_type": "markdown",
   "id": "a3cc63f5",
   "metadata": {},
   "source": [
    "## [A] Nutritional Content "
   ]
  },
  {
   "cell_type": "code",
   "execution_count": null,
   "id": "9647d429",
   "metadata": {},
   "outputs": [],
   "source": [
    "prices_bb = find_unit_prices(df_bb)\n",
    "prices_sw = find_unit_prices(df_sw)\n",
    "prices_wf = find_unit_prices(df_wf)\n",
    "prices_tj = find_unit_prices(df_tj)"
   ]
  },
  {
   "cell_type": "code",
   "execution_count": null,
   "id": "322b2dd1",
   "metadata": {},
   "outputs": [],
   "source": [
    "from eep153_tools.sheets import read_sheets\n",
    "\n",
    "DRI_url = \"https://docs.google.com/spreadsheets/d/1y95IsQ4HKspPW3HHDtH7QMtlDA66IUsCHJLutVL-MMc/\"\n",
    "\n",
    "DRIs = read_sheets(DRI_url)\n",
    "\n",
    "# Define *minimums*\n",
    "diet_min = DRIs['diet_minimums'].set_index('Nutrition')\n",
    "\n",
    "# Define *maximums*\n",
    "diet_max = DRIs['diet_maximums'].set_index('Nutrition')"
   ]
  },
  {
   "cell_type": "code",
   "execution_count": null,
   "id": "0c189a16",
   "metadata": {},
   "outputs": [],
   "source": [
    "group = 'M 19-30'\n",
    "tol = 1e-6\n",
    "\n",
    "result = solve_subsistence_problem(FoodNutrients,prices_bb,diet_min[group],diet_max[group],tol=tol)\n",
    "\n",
    "print(\"Cost of diet at Berkeley Bowl for %s is $%4.2f per day.\\n\" % (group,result.fun))\n",
    "\n",
    "# Put back into nice series\n",
    "diet = result.diet\n",
    "\n",
    "print(\"\\nDiet (in 100s of grams or milliliters):\")\n",
    "print(diet[diet >= tol])  # Drop items with quantities less than precision of calculation.\n",
    "print()\n",
    "\n",
    "tab = pd.DataFrame({\"Outcome\":np.abs(result.A).dot(diet),\"Recommendation\":np.abs(result.b)})\n",
    "print(\"\\nWith the following nutritional outcomes of interest:\")\n",
    "print(tab)\n",
    "print()\n",
    "\n",
    "print(\"\\nConstraining nutrients are:\")\n",
    "excess = tab.diff(axis=1).iloc[:,1]\n",
    "print(excess.loc[np.abs(excess) < tol*100].index.tolist())"
   ]
  },
  {
   "cell_type": "code",
   "execution_count": null,
   "id": "e13b26af",
   "metadata": {},
   "outputs": [],
   "source": [
    "group = 'F 19-30'\n",
    "tol = 1e-6\n",
    "\n",
    "result = solve_subsistence_problem(FoodNutrients,prices_bb,diet_min[group],diet_max[group],tol=tol)\n",
    "\n",
    "print(\"Cost of diet at Berkeley Bowl for %s is $%4.2f per day.\\n\" % (group,result.fun))\n",
    "\n",
    "# Put back into nice series\n",
    "diet = result.diet\n",
    "\n",
    "print(\"\\nDiet (in 100s of grams or milliliters):\")\n",
    "print(diet[diet >= tol])  # Drop items with quantities less than precision of calculation.\n",
    "print()\n",
    "\n",
    "tab = pd.DataFrame({\"Outcome\":np.abs(result.A).dot(diet),\"Recommendation\":np.abs(result.b)})\n",
    "print(\"\\nWith the following nutritional outcomes of interest:\")\n",
    "print(tab)\n",
    "print()\n",
    "\n",
    "print(\"\\nConstraining nutrients are:\")\n",
    "excess = tab.diff(axis=1).iloc[:,1]\n",
    "print(excess.loc[np.abs(excess) < tol*100].index.tolist())"
   ]
  },
  {
   "cell_type": "code",
   "execution_count": null,
   "id": "9e245cb5",
   "metadata": {},
   "outputs": [],
   "source": [
    "# Get df_bb in terms of diet restrictions\n",
    "def diet_df(df, col):\n",
    "    return df[df[col] == 1]\n",
    "\n",
    "# Creating vegan, vegetarian, and pescetarian dfs for bb\n",
    "vegan_df_bb = diet_df(df_bb, 'Vegan (1/0)')\n",
    "veg_df_bb = diet_df(df_bb, 'Vegetarian (1/0)')\n",
    "pesc_df_bb = diet_df(df_bb, 'Pescetarian (1/0)')"
   ]
  },
  {
   "cell_type": "code",
   "execution_count": null,
   "id": "219cbcf4",
   "metadata": {},
   "outputs": [],
   "source": [
    "# find prices for diet restricted dfs\n",
    "vegan_prices_bb = find_unit_prices(vegan_df_bb)\n",
    "veg_prices_bb = find_unit_prices(veg_df_bb)\n",
    "pesc_prices_bb = find_unit_prices(pesc_df_bb)"
   ]
  },
  {
   "cell_type": "code",
   "execution_count": null,
   "id": "b3854510",
   "metadata": {},
   "outputs": [],
   "source": [
    "# find minimum cost meal with diet restrictions using solve_subsistence_problem()\n",
    "\n",
    "def diet_restricted_subsistence(prices, type, sex, store):\n",
    "    group = sex+' 19-30'\n",
    "    tol = 1e-6\n",
    "\n",
    "    result = solve_subsistence_problem(FoodNutrients,prices,diet_min[group],diet_max[group],tol=tol)\n",
    "\n",
    "    print(\"Cost of a \"+type+\" diet at \"+store+\" for %s is $%4.2f per day.\\n\" % (group,result.fun))\n",
    "\n",
    "    # Put back into nice series\n",
    "    diet = result.diet\n",
    "\n",
    "    print(\"\\nDiet (in 100s of grams or milliliters):\")\n",
    "    print(diet[diet >= tol])  # Drop items with quantities less than precision of calculation.\n",
    "    print()\n",
    "\n",
    "    tab = pd.DataFrame({\"Outcome\":np.abs(result.A).dot(diet),\"Recommendation\":np.abs(result.b)})\n",
    "    print(\"\\nWith the following nutritional outcomes of interest:\")\n",
    "    print(tab)\n",
    "    print()\n",
    "\n",
    "    print(\"\\nConstraining nutrients are:\")\n",
    "    excess = tab.diff(axis=1).iloc[:,1]\n",
    "    print(excess.loc[np.abs(excess) < tol*100].index.tolist())"
   ]
  },
  {
   "cell_type": "code",
   "execution_count": null,
   "id": "de3ce1bf",
   "metadata": {},
   "outputs": [],
   "source": [
    "vegan_bb_m = diet_restricted_subsistence(vegan_prices_bb, 'vegan', 'M', 'Berkeley Bowl')"
   ]
  },
  {
   "cell_type": "code",
   "execution_count": null,
   "id": "bee02bf8",
   "metadata": {},
   "outputs": [],
   "source": [
    "vegan_bb_f = diet_restricted_subsistence(vegan_prices_bb, 'vegan', 'F', 'Berkeley Bowl')"
   ]
  },
  {
   "cell_type": "code",
   "execution_count": null,
   "id": "87370d3c",
   "metadata": {},
   "outputs": [],
   "source": [
    "veg_bb_m = diet_restricted_subsistence(veg_prices_bb, 'vegetarian', 'M', 'Berkeley Bowl')"
   ]
  },
  {
   "cell_type": "code",
   "execution_count": null,
   "id": "8d6f716d",
   "metadata": {},
   "outputs": [],
   "source": [
    "veg_bb_f = diet_restricted_subsistence(veg_prices_bb, 'vegetarian', 'F', 'Berkeley Bowl')"
   ]
  },
  {
   "cell_type": "code",
   "execution_count": null,
   "id": "41db6e3f",
   "metadata": {},
   "outputs": [],
   "source": [
    "pesc_bb_m = diet_restricted_subsistence(pesc_prices_bb, 'pescetarian', 'M', 'Berkeley Bowl')"
   ]
  },
  {
   "cell_type": "code",
   "execution_count": null,
   "id": "b5505239",
   "metadata": {},
   "outputs": [],
   "source": [
    "pesc_bb_f = diet_restricted_subsistence(pesc_prices_bb, 'pescetarian', 'F', 'Berkeley Bowl')"
   ]
  },
  {
   "cell_type": "code",
   "execution_count": null,
   "id": "def1bfd8",
   "metadata": {},
   "outputs": [],
   "source": [
    "group = 'M 19-30'\n",
    "tol = 1e-6\n",
    "\n",
    "result = solve_subsistence_problem(FoodNutrients,prices_sw,diet_min[group],diet_max[group],tol=tol)\n",
    "\n",
    "print(\"Cost of diet at Safeway for %s is $%4.2f per day.\\n\" % (group,result.fun))\n",
    "\n",
    "# Put back into nice series\n",
    "diet = result.diet\n",
    "\n",
    "print(\"\\nDiet (in 100s of grams or milliliters):\")\n",
    "print(diet[diet >= tol])  # Drop items with quantities less than precision of calculation.\n",
    "print()\n",
    "\n",
    "tab = pd.DataFrame({\"Outcome\":np.abs(result.A).dot(diet),\"Recommendation\":np.abs(result.b)})\n",
    "print(\"\\nWith the following nutritional outcomes of interest:\")\n",
    "print(tab)\n",
    "print()\n",
    "\n",
    "print(\"\\nConstraining nutrients are:\")\n",
    "excess = tab.diff(axis=1).iloc[:,1]\n",
    "print(excess.loc[np.abs(excess) < tol*100].index.tolist())"
   ]
  },
  {
   "cell_type": "code",
   "execution_count": null,
   "id": "21902f0c",
   "metadata": {},
   "outputs": [],
   "source": [
    "group = 'F 19-30'\n",
    "tol = 1e-6\n",
    "\n",
    "result = solve_subsistence_problem(FoodNutrients,prices_sw,diet_min[group],diet_max[group],tol=tol)\n",
    "\n",
    "print(\"Cost of diet at Safeway for %s is $%4.2f per day.\\n\" % (group,result.fun))\n",
    "\n",
    "# Put back into nice series\n",
    "diet = result.diet\n",
    "\n",
    "print(\"\\nDiet (in 100s of grams or milliliters):\")\n",
    "print(diet[diet >= tol])  # Drop items with quantities less than precision of calculation.\n",
    "print()\n",
    "\n",
    "tab = pd.DataFrame({\"Outcome\":np.abs(result.A).dot(diet),\"Recommendation\":np.abs(result.b)})\n",
    "print(\"\\nWith the following nutritional outcomes of interest:\")\n",
    "print(tab)\n",
    "print()\n",
    "\n",
    "print(\"\\nConstraining nutrients are:\")\n",
    "excess = tab.diff(axis=1).iloc[:,1]\n",
    "print(excess.loc[np.abs(excess) < tol*100].index.tolist())"
   ]
  },
  {
   "cell_type": "code",
   "execution_count": null,
   "id": "ba501078",
   "metadata": {},
   "outputs": [],
   "source": [
    "# Creating vegan, vegetarian, and pescetarian dfs for sw\n",
    "vegan_df_sw = diet_df(df_sw, 'Vegan (1/0)')\n",
    "veg_df_sw = diet_df(df_sw, 'Vegetarian (1/0)')\n",
    "pesc_df_sw = diet_df(df_sw, 'Pescetarian (1/0)')\n",
    "# find prices for diet restricted dfs\n",
    "vegan_prices_sw = find_unit_prices(vegan_df_sw)\n",
    "veg_prices_sw = find_unit_prices(veg_df_sw)\n",
    "pesc_prices_sw = find_unit_prices(pesc_df_sw)"
   ]
  },
  {
   "cell_type": "code",
   "execution_count": null,
   "id": "bafe1b89",
   "metadata": {},
   "outputs": [],
   "source": [
    "vegan_sw_m = diet_restricted_subsistence(vegan_prices_sw, 'vegan', 'M', 'Safeway')"
   ]
  },
  {
   "cell_type": "code",
   "execution_count": null,
   "id": "0f809a03",
   "metadata": {},
   "outputs": [],
   "source": [
    "vegan_sw_f = diet_restricted_subsistence(vegan_prices_sw, 'vegan', 'F', 'Safeway')"
   ]
  },
  {
   "cell_type": "code",
   "execution_count": null,
   "id": "e2b13365",
   "metadata": {},
   "outputs": [],
   "source": [
    "veg_sw_m = diet_restricted_subsistence(veg_prices_sw, 'vegetarian', 'M', 'Safeway')"
   ]
  },
  {
   "cell_type": "code",
   "execution_count": null,
   "id": "12dfc281",
   "metadata": {},
   "outputs": [],
   "source": [
    "veg_sw_f = diet_restricted_subsistence(veg_prices_sw, 'vegetarian', 'F', 'Safeway')"
   ]
  },
  {
   "cell_type": "code",
   "execution_count": null,
   "id": "c5cfdb94",
   "metadata": {},
   "outputs": [],
   "source": [
    "pesc_sw_m = diet_restricted_subsistence(pesc_prices_sw, 'pescetarian', 'M', 'Safeway')"
   ]
  },
  {
   "cell_type": "code",
   "execution_count": null,
   "id": "d4bd88c5",
   "metadata": {},
   "outputs": [],
   "source": [
    "pesc_sw_f = diet_restricted_subsistence(pesc_prices_sw, 'pescetarian', 'F', 'Safeway')"
   ]
  },
  {
   "cell_type": "code",
   "execution_count": null,
   "id": "c531bc13",
   "metadata": {},
   "outputs": [],
   "source": [
    "group = 'M 19-30'\n",
    "tol = 1e-6\n",
    "\n",
    "result = solve_subsistence_problem(FoodNutrients,prices_wf,diet_min[group],diet_max[group],tol=tol)\n",
    "\n",
    "print(\"Cost of diet at Whole Foods for %s is $%4.2f per day.\\n\" % (group,result.fun))\n",
    "\n",
    "# Put back into nice series\n",
    "diet = result.diet\n",
    "\n",
    "print(\"\\nDiet (in 100s of grams or milliliters):\")\n",
    "print(diet[diet >= tol])  # Drop items with quantities less than precision of calculation.\n",
    "print()\n",
    "\n",
    "tab = pd.DataFrame({\"Outcome\":np.abs(result.A).dot(diet),\"Recommendation\":np.abs(result.b)})\n",
    "print(\"\\nWith the following nutritional outcomes of interest:\")\n",
    "print(tab)\n",
    "print()\n",
    "\n",
    "print(\"\\nConstraining nutrients are:\")\n",
    "excess = tab.diff(axis=1).iloc[:,1]\n",
    "print(excess.loc[np.abs(excess) < tol*100].index.tolist())"
   ]
  },
  {
   "cell_type": "code",
   "execution_count": null,
   "id": "7fec4069",
   "metadata": {},
   "outputs": [],
   "source": [
    "group = 'F 19-30'\n",
    "tol = 1e-6\n",
    "\n",
    "result = solve_subsistence_problem(FoodNutrients,prices_wf,diet_min[group],diet_max[group],tol=tol)\n",
    "\n",
    "print(\"Cost of diet at Whole Foods for %s is $%4.2f per day.\\n\" % (group,result.fun))\n",
    "\n",
    "# Put back into nice series\n",
    "diet = result.diet\n",
    "\n",
    "print(\"\\nDiet (in 100s of grams or milliliters):\")\n",
    "print(diet[diet >= tol])  # Drop items with quantities less than precision of calculation.\n",
    "print()\n",
    "\n",
    "tab = pd.DataFrame({\"Outcome\":np.abs(result.A).dot(diet),\"Recommendation\":np.abs(result.b)})\n",
    "print(\"\\nWith the following nutritional outcomes of interest:\")\n",
    "print(tab)\n",
    "print()\n",
    "\n",
    "print(\"\\nConstraining nutrients are:\")\n",
    "excess = tab.diff(axis=1).iloc[:,1]\n",
    "print(excess.loc[np.abs(excess) < tol*100].index.tolist())"
   ]
  },
  {
   "cell_type": "code",
   "execution_count": null,
   "id": "4e7a3ac2",
   "metadata": {},
   "outputs": [],
   "source": [
    "# Creating vegan, vegetarian, and pescetarian dfs for wf\n",
    "vegan_df_wf = diet_df(df_wf, 'Vegan (1/0)')\n",
    "veg_df_wf = diet_df(df_wf, 'Vegetarian (1/0)')\n",
    "pesc_df_wf = diet_df(df_wf, 'Pescetarian (1/0)')\n",
    "# find prices for diet restricted dfs\n",
    "vegan_prices_wf = find_unit_prices(vegan_df_wf)\n",
    "veg_prices_wf = find_unit_prices(veg_df_wf)\n",
    "pesc_prices_wf = find_unit_prices(pesc_df_wf)"
   ]
  },
  {
   "cell_type": "code",
   "execution_count": null,
   "id": "5d181965",
   "metadata": {},
   "outputs": [],
   "source": [
    "vegan_sw_m = diet_restricted_subsistence(vegan_prices_wf, 'vegan', 'M', 'Whole Foods')"
   ]
  },
  {
   "cell_type": "code",
   "execution_count": null,
   "id": "ff8b80d2",
   "metadata": {},
   "outputs": [],
   "source": [
    "vegan_sw_f = diet_restricted_subsistence(vegan_prices_wf, 'vegan', 'F', 'Whole Foods')"
   ]
  },
  {
   "cell_type": "code",
   "execution_count": null,
   "id": "ac68986c",
   "metadata": {},
   "outputs": [],
   "source": [
    "veg_sw_m = diet_restricted_subsistence(veg_prices_wf, 'vegetarian', 'M', 'Whole Foods')"
   ]
  },
  {
   "cell_type": "code",
   "execution_count": null,
   "id": "83a5af87",
   "metadata": {},
   "outputs": [],
   "source": [
    "veg_sw_f = diet_restricted_subsistence(veg_prices_wf, 'vegetarian', 'F', 'Whole Foods')"
   ]
  },
  {
   "cell_type": "code",
   "execution_count": null,
   "id": "0dc72ebc",
   "metadata": {},
   "outputs": [],
   "source": [
    "pesc_sw_m = diet_restricted_subsistence(pesc_prices_wf, 'pescetarian', 'M', 'Whole Foods')"
   ]
  },
  {
   "cell_type": "code",
   "execution_count": null,
   "id": "ec8f3de8",
   "metadata": {},
   "outputs": [],
   "source": [
    "pesc_sw_f = diet_restricted_subsistence(pesc_prices_wf, 'pescetarian', 'F', 'Whole Foods')"
   ]
  },
  {
   "cell_type": "code",
   "execution_count": null,
   "id": "f5c9d4e6",
   "metadata": {},
   "outputs": [],
   "source": [
    "group = 'M 19-30'\n",
    "tol = 1e-6\n",
    "\n",
    "result = solve_subsistence_problem(FoodNutrients,prices_tj,diet_min[group],diet_max[group],tol=tol)\n",
    "\n",
    "print(\"Cost of diet at Trader Joe's for %s is $%4.2f per day.\\n\" % (group,result.fun))\n",
    "\n",
    "# Put back into nice series\n",
    "diet = result.diet\n",
    "\n",
    "print(\"\\nDiet (in 100s of grams or milliliters):\")\n",
    "print(diet[diet >= tol])  # Drop items with quantities less than precision of calculation.\n",
    "print()\n",
    "\n",
    "tab = pd.DataFrame({\"Outcome\":np.abs(result.A).dot(diet),\"Recommendation\":np.abs(result.b)})\n",
    "print(\"\\nWith the following nutritional outcomes of interest:\")\n",
    "print(tab)\n",
    "print()\n",
    "\n",
    "print(\"\\nConstraining nutrients are:\")\n",
    "excess = tab.diff(axis=1).iloc[:,1]\n",
    "print(excess.loc[np.abs(excess) < tol*100].index.tolist())"
   ]
  },
  {
   "cell_type": "code",
   "execution_count": null,
   "id": "793e60a9",
   "metadata": {},
   "outputs": [],
   "source": [
    "group = 'F 19-30'\n",
    "tol = 1e-6\n",
    "\n",
    "result = solve_subsistence_problem(FoodNutrients,prices_tj,diet_min[group],diet_max[group],tol=tol)\n",
    "\n",
    "print(\"Cost of diet at Trader Joe's for %s is $%4.2f per day.\\n\" % (group,result.fun))\n",
    "\n",
    "# Put back into nice series\n",
    "diet = result.diet\n",
    "\n",
    "print(\"\\nDiet (in 100s of grams or milliliters):\")\n",
    "print(diet[diet >= tol])  # Drop items with quantities less than precision of calculation.\n",
    "print()\n",
    "\n",
    "tab = pd.DataFrame({\"Outcome\":np.abs(result.A).dot(diet),\"Recommendation\":np.abs(result.b)})\n",
    "print(\"\\nWith the following nutritional outcomes of interest:\")\n",
    "print(tab)\n",
    "print()\n",
    "\n",
    "print(\"\\nConstraining nutrients are:\")\n",
    "excess = tab.diff(axis=1).iloc[:,1]\n",
    "print(excess.loc[np.abs(excess) < tol*100].index.tolist())"
   ]
  },
  {
   "cell_type": "code",
   "execution_count": null,
   "id": "4ced7604",
   "metadata": {},
   "outputs": [],
   "source": [
    "# Creating vegan, vegetarian, and pescetarian dfs for tj\n",
    "vegan_df_tj = diet_df(df_tj, 'Vegan (1/0)')\n",
    "veg_df_tj = diet_df(df_tj, 'Vegetarian (1/0)')\n",
    "pesc_df_tj = diet_df(df_tj, 'Pescetarian (1/0)')\n",
    "# find prices for diet restricted dfs\n",
    "vegan_prices_tj = find_unit_prices(vegan_df_tj)\n",
    "veg_prices_tj = find_unit_prices(veg_df_tj)\n",
    "pesc_prices_tj = find_unit_prices(pesc_df_tj)"
   ]
  },
  {
   "cell_type": "code",
   "execution_count": null,
   "id": "d2d7ae00",
   "metadata": {},
   "outputs": [],
   "source": [
    "vegan_tj_m = diet_restricted_subsistence(vegan_prices_tj, 'vegan', 'M', \"Trader Joe's\")"
   ]
  },
  {
   "cell_type": "code",
   "execution_count": null,
   "id": "581e1a93",
   "metadata": {},
   "outputs": [],
   "source": [
    "vegan_tj_f = diet_restricted_subsistence(vegan_prices_tj, 'vegan', 'F', \"Trader Joe's\")"
   ]
  },
  {
   "cell_type": "code",
   "execution_count": null,
   "id": "74c65538",
   "metadata": {},
   "outputs": [],
   "source": [
    "veg_tj_m = diet_restricted_subsistence(veg_prices_tj, 'vegetarian', 'M', \"Trader Joe's\")"
   ]
  },
  {
   "cell_type": "code",
   "execution_count": null,
   "id": "15dcb339",
   "metadata": {},
   "outputs": [],
   "source": [
    "veg_tj_f = diet_restricted_subsistence(veg_prices_tj, 'vegetarian', 'F', \"Trader Joe's\")"
   ]
  },
  {
   "cell_type": "code",
   "execution_count": null,
   "id": "af7aa24f",
   "metadata": {},
   "outputs": [],
   "source": [
    "pesc_tj_m = diet_restricted_subsistence(pesc_prices_tj, 'pescetarian', 'M', \"Trader Joe's\")"
   ]
  },
  {
   "cell_type": "code",
   "execution_count": null,
   "id": "3023a434",
   "metadata": {},
   "outputs": [],
   "source": [
    "pesc_tj_f = diet_restricted_subsistence(pesc_prices_tj, 'pescetarian', 'F', \"Trader Joe's\")"
   ]
  },
  {
   "cell_type": "markdown",
   "id": "28e163b9",
   "metadata": {},
   "source": [
    "## Survey Data \n",
    "### Guide for identifying our Central Resarch question"
   ]
  },
  {
   "cell_type": "code",
   "execution_count": null,
   "id": "4d64f947",
   "metadata": {},
   "outputs": [],
   "source": [
    "!pip install eep153_tools\n",
    "!pip install python_gnupg\n",
    "\n",
    "from eep153_tools.sheets import decrypt_credentials\n",
    "#decrypt_credentials('../students.json.gpg')"
   ]
  },
  {
   "cell_type": "code",
   "execution_count": null,
   "id": "03cf42ee",
   "metadata": {},
   "outputs": [],
   "source": [
    "import matplotlib.pyplot as plt\n",
    "from  scipy.optimize import linprog as lp\n",
    "import numpy as np\n",
    "import warnings\n",
    "import pandas as pd\n",
    "\n",
    "from eep153_tools.sheets import read_sheets\n",
    "SHEET = [(\"https://docs.google.com/spreadsheets/d/1aI1wYbJ1LY-en_B9wt1kHJ0CB9Hh6QibausCN5l6FlA/edit?usp=sharing\",\"Form Responses 1\")]"
   ]
  },
  {
   "cell_type": "code",
   "execution_count": null,
   "id": "29c442c1",
   "metadata": {},
   "outputs": [],
   "source": [
    "df_survey = read_sheets(SHEET[0][0])[SHEET[0][1]]"
   ]
  },
  {
   "cell_type": "code",
   "execution_count": null,
   "id": "ff9a93f4",
   "metadata": {},
   "outputs": [],
   "source": [
    "df_survey"
   ]
  },
  {
   "cell_type": "code",
   "execution_count": null,
   "id": "6fa56c74",
   "metadata": {},
   "outputs": [],
   "source": [
    "def change_df_col_to_int(df, col):\n",
    "   # df[col] = df[col].dropna()\n",
    "    df[col] = df[col].str.replace('$', '')\n",
    "    df[col] = df[col].astype(float)\n",
    "    return df"
   ]
  },
  {
   "cell_type": "code",
   "execution_count": null,
   "id": "85388254",
   "metadata": {},
   "outputs": [],
   "source": [
    "df_survey['How many times per week do you go grocery shopping?'].value_counts()"
   ]
  },
  {
   "cell_type": "code",
   "execution_count": null,
   "id": "0cab126a",
   "metadata": {},
   "outputs": [],
   "source": [
    "GroceryShopping_dict = {'Once a Week':77, 'Twice a Week':5, 'Three times a Week':1, 'Four Times a Week': 2}\n",
    "frequency_of_shopping = list(GroceryShopping_dict.keys())\n",
    "values = list(GroceryShopping_dict.values())\n",
    "fig_GroceryShopping_Freq = plt.figure(figsize = (10, 5))\n",
    "\n",
    "# Bar plot\n",
    "plt.bar(frequency_of_shopping, values, color ='green',\n",
    "        width = 0.5)\n",
    "plt.xlabel(\"Grocery Shop Trips Per Week\")\n",
    "plt.ylabel(\"Number of Respondents\")\n",
    "plt.title(\"How many times per week do you go grocery shopping?\")\n",
    "plt.show()"
   ]
  },
  {
   "cell_type": "code",
   "execution_count": null,
   "id": "834078d7",
   "metadata": {},
   "outputs": [],
   "source": [
    "df_survey['How much do you spend on an average grocery-shopping trip?'].value_counts()"
   ]
  },
  {
   "cell_type": "code",
   "execution_count": null,
   "id": "36f715e8",
   "metadata": {},
   "outputs": [],
   "source": [
    "GrocerySpending_dict = {'$ 0 - 20':3, '$ 20 - 40 ':33, '$ 40 - 60':25, '$ 60 - 80':12, '$ 80 - 100':7, '$ 100 +':5}\n",
    "spending_per_shopping = list(GrocerySpending_dict.keys())\n",
    "values = list(GrocerySpending_dict.values())\n",
    "fig_GrocerySpending_Per = plt.figure(figsize = (10, 5))\n",
    "\n",
    "# Bar plot\n",
    "plt.bar(spending_per_shopping, values, color = ['green','blue', 'red', 'purple', 'orange', 'brown']\n",
    "        , width = 0.5)\n",
    "\n",
    "plt.xlabel(\"Approx Grocery Spending Per Trip\")\n",
    "plt.ylabel(\"Number of Respondents\")\n",
    "plt.title(\"How much do you spend on an average grocery-shopping trip?\")\n",
    "plt.show()"
   ]
  },
  {
   "cell_type": "code",
   "execution_count": null,
   "id": "b004aef2",
   "metadata": {},
   "outputs": [],
   "source": [
    "df_survey['Where do you grocery shop the most in Berkeley?'].value_counts()"
   ]
  },
  {
   "cell_type": "code",
   "execution_count": null,
   "id": "706fe900",
   "metadata": {},
   "outputs": [],
   "source": [
    "tj_percent = (59/86)*100\n",
    "safeway_percent = (14/86)*100\n",
    "bb_percent= (11/86)*100\n",
    "wf_percent = (2/86)*100"
   ]
  },
  {
   "cell_type": "code",
   "execution_count": null,
   "id": "66bc8737",
   "metadata": {},
   "outputs": [],
   "source": [
    "# Pie chart, where the slices will be ordered and plotted counter-clockwise:\n",
    "labels = 'Trader Joes', 'Safeway', 'Berkeley Bowl', 'Whole Foods'\n",
    "sizes = [tj_percent, safeway_percent, bb_percent, wf_percent]\n",
    "explode = (0.1, 0, 0, 0)  # only \"explode\" the 1st slice Trader Joes\n",
    "\n",
    "fig1, ax1 = plt.subplots()\n",
    "ax1.pie(sizes, explode=explode, labels=labels, autopct='%1.1f%%',\n",
    "        shadow=True, startangle=90)\n",
    "ax1.axis('equal')  # Equal aspect ratio ensures that pie is drawn as a circle.\n",
    "plt.title(\"Where do you grocery shop the most in Berkeley?\")\n",
    "plt.show()"
   ]
  },
  {
   "cell_type": "code",
   "execution_count": null,
   "id": "33f4ddb0",
   "metadata": {},
   "outputs": [],
   "source": [
    "df_survey['What is your preferred diet?'].value_counts()"
   ]
  },
  {
   "cell_type": "code",
   "execution_count": null,
   "id": "0b286052",
   "metadata": {},
   "outputs": [],
   "source": [
    "om_percent = (66/86)*100\n",
    "veget_percent = (14/86)*100\n",
    "vegan_percent= (3/86)*100\n",
    "pesc_percent = (3/86)*100"
   ]
  },
  {
   "cell_type": "code",
   "execution_count": null,
   "id": "77fdbb9e",
   "metadata": {},
   "outputs": [],
   "source": [
    "labels_diet = 'Omnivorous', 'Vegetarian', 'Vegan', 'Pescatarian'\n",
    "sizes_diet = [om_percent, veget_percent, vegan_percent, pesc_percent]\n",
    "explode_diet = (0.1, 0, 0, 0)  # only \"explode\" the 1st slice Trader Joes\n",
    "\n",
    "fig1, ax1 = plt.subplots()\n",
    "ax1.pie(sizes, explode=explode_diet, labels=labels_diet, autopct='%1.1f%%',\n",
    "        shadow=True, startangle=90)\n",
    "ax1.axis('equal')  # Equal aspect ratio ensures that pie is drawn as a circle.\n",
    "plt.title(\"What is your preferred diet?\")\n",
    "plt.show()"
   ]
  },
  {
   "cell_type": "markdown",
   "id": "22bae65d",
   "metadata": {},
   "source": [
    "## [C]Sensitivity Analysis\n",
    "As prices change, we should expect the minimum cost diet to also change. The code below creates a graph which changes prices away from the `base’ case one food at a time, and plots changes in total diet cost. We see that increases in price have a relatively lower impact (increase) on total diet cost compared to a decrease in price. For example, if there were discounts one week, it would most likely have a pretty large impact on the cost of the total diet. We find that cheddar cheese is very sensitive to price, while sliced turkey is sensitive to increases and jalapenos are sensitive to decreases."
   ]
  },
  {
   "cell_type": "code",
   "execution_count": null,
   "id": "22a42f35",
   "metadata": {},
   "outputs": [],
   "source": [
    "import cufflinks as cf\n",
    "cf.go_offline()\n",
    "\n",
    "#Berkeley Bowl\n",
    "\n",
    "scale = [.5,.6,.7,.8,.9,1.,1.1,1.2,1.3,1.4,1.5]\n",
    "\n",
    "cost0 = solve_subsistence_problem(FoodNutrients,prices_bb,diet_min[group],diet_max[group],tol=tol).fun\n",
    "\n",
    "Price_response={}\n",
    "for s in scale:\n",
    "    cost = {}\n",
    "    for i,p in enumerate(prices_bb):\n",
    "        my_p = prices_bb.copy()\n",
    "        my_p[i] = p*s\n",
    "        result = solve_subsistence_problem(FoodNutrients,my_p,diet_min[group],diet_max[group],tol=tol)\n",
    "        cost[prices_bb.index[i]] = np.log(result.fun/cost0)\n",
    "    Price_response[np.log(s)] = cost\n",
    "\n",
    "Price_response = pd.DataFrame(Price_response).T\n",
    "Price_response.iplot(xTitle='change in log price',yTitle='change in log cost')"
   ]
  },
  {
   "cell_type": "markdown",
   "id": "3fd71c4d",
   "metadata": {},
   "source": [
    "###  Trader Joe's\n",
    "We find that at Trader Joe's, Romaine Lettuce and peanut butter are most sensitive to price changes, both increases and decreases"
   ]
  },
  {
   "cell_type": "code",
   "execution_count": null,
   "id": "4ae6d895",
   "metadata": {},
   "outputs": [],
   "source": [
    "#trader joes\n",
    "\n",
    "scale = [.5,.6,.7,.8,.9,1.,1.1,1.2,1.3,1.4,1.5]\n",
    "\n",
    "cost0 = solve_subsistence_problem(FoodNutrients,prices_tj,diet_min[group],diet_max[group],tol=tol).fun\n",
    "\n",
    "Price_response={}\n",
    "for s in scale:\n",
    "    cost = {}\n",
    "    for i,p in enumerate(prices_tj):\n",
    "        my_p = prices_tj.copy()\n",
    "        my_p[i] = p*s\n",
    "        result = solve_subsistence_problem(FoodNutrients,my_p,diet_min[group],diet_max[group],tol=tol)\n",
    "        cost[prices_tj.index[i]] = np.log(result.fun/cost0)\n",
    "    Price_response[np.log(s)] = cost\n",
    "\n",
    "Price_response = pd.DataFrame(Price_response).T\n",
    "Price_response.iplot(xTitle='change in log price',yTitle='change in log cost')"
   ]
  },
  {
   "cell_type": "markdown",
   "id": "84ff8eb6",
   "metadata": {},
   "source": [
    "### Whole Foods\n",
    "We find that at Whole Foods, Almond milk is the most sensitive to price changes across the board, while bananas and peanut butter are specifically sensitive to decreases, and sliced turkey and chickpeas are more sensitive to price increases."
   ]
  },
  {
   "cell_type": "code",
   "execution_count": null,
   "id": "255197ad",
   "metadata": {},
   "outputs": [],
   "source": [
    "#whole foods\n",
    "\n",
    "scale = [.5,.6,.7,.8,.9,1.,1.1,1.2,1.3,1.4,1.5]\n",
    "\n",
    "cost0 = solve_subsistence_problem(FoodNutrients,prices_wf,diet_min[group],diet_max[group],tol=tol).fun\n",
    "\n",
    "Price_response={}\n",
    "for s in scale:\n",
    "    cost = {}\n",
    "    for i,p in enumerate(prices_wf):\n",
    "        my_p = prices_wf.copy()\n",
    "        my_p[i] = p*s\n",
    "        result = solve_subsistence_problem(FoodNutrients,my_p,diet_min[group],diet_max[group],tol=tol)\n",
    "        cost[prices_wf.index[i]] = np.log(result.fun/cost0)\n",
    "    Price_response[np.log(s)] = cost\n",
    "\n",
    "Price_response = pd.DataFrame(Price_response).T\n",
    "Price_response.iplot(xTitle='change in log price',yTitle='change in log cost')"
   ]
  },
  {
   "cell_type": "markdown",
   "id": "e20db41a",
   "metadata": {},
   "source": [
    "### Safeway\n",
    "We find that at Safeway, Peanut butter is sensitive to price across the board, while romaine lettuce is sensitive to increases and sliced turkey is sensitive to decreases."
   ]
  },
  {
   "cell_type": "code",
   "execution_count": null,
   "id": "5a7d0653",
   "metadata": {},
   "outputs": [],
   "source": [
    "#safeway\n",
    "\n",
    "scale = [.5,.6,.7,.8,.9,1.,1.1,1.2,1.3,1.4,1.5]\n",
    "\n",
    "cost0 = solve_subsistence_problem(FoodNutrients,prices_sw,diet_min[group],diet_max[group],tol=tol).fun\n",
    "\n",
    "Price_response={}\n",
    "for s in scale:\n",
    "    cost = {}\n",
    "    for i,p in enumerate(prices_sw):\n",
    "        my_p = prices_sw.copy()\n",
    "        my_p[i] = p*s\n",
    "        result = solve_subsistence_problem(FoodNutrients,my_p,diet_min[group],diet_max[group],tol=tol)\n",
    "        cost[prices_sw.index[i]] = np.log(result.fun/cost0)\n",
    "    Price_response[np.log(s)] = cost\n",
    "\n",
    "Price_response = pd.DataFrame(Price_response).T\n",
    "Price_response.iplot(xTitle='change in log price',yTitle='change in log cost')"
   ]
  },
  {
   "cell_type": "code",
   "execution_count": null,
   "id": "ac0d83cb",
   "metadata": {},
   "outputs": [],
   "source": [
    "cf.go_offline()\n",
    "\n",
    "ReferenceGood = 'Sliced Turkey'\n",
    "\n",
    "scale = [0.5,0.75,0.9,1.,1.1,1.2,1.3,1.4,1.5,2,4]\n",
    "\n",
    "cost0 = solve_subsistence_problem(FoodNutrients,prices_bb,diet_min[group],diet_max[group],tol=tol).fun\n",
    "\n",
    "my_p = prices_bb.copy()\n",
    "\n",
    "diet = {}\n",
    "for s in scale:\n",
    "\n",
    "    my_p[ReferenceGood] = prices_bb[ReferenceGood]*s\n",
    "    result = solve_subsistence_problem(FoodNutrients,my_p,diet_min[group],diet_max[group],tol=tol)\n",
    "    diet[my_p[ReferenceGood]] = result.diet\n",
    "\n",
    "Diet_response = pd.DataFrame(diet).T\n",
    "Diet_response.index.name = '%s Price' % ReferenceGood\n",
    "\n",
    "Diet_response.reset_index(inplace=True)\n",
    "\n",
    "# Get rid of units for index (cufflinks chokes)\n",
    "Diet_response['%s Price' % ReferenceGood] = Diet_response['%s Price' % ReferenceGood].apply(lambda x: x.magnitude)\n",
    "\n",
    "Diet_response = Diet_response.set_index('%s Price' % ReferenceGood)\n",
    "\n",
    "# Just look at goods consumed in quantities greater than error tolerance\n",
    "Diet_response.loc[:,(Diet_response>tol).sum()>0].iplot(xTitle='%s Price' % ReferenceGood,yTitle='Hectograms')"
   ]
  },
  {
   "cell_type": "code",
   "execution_count": null,
   "id": "cf9122bc",
   "metadata": {},
   "outputs": [],
   "source": [
    "cf.go_offline()\n",
    "\n",
    "ReferenceGood = 'Cheddar cheese'\n",
    "\n",
    "scale = [0.5,0.75,0.9,1.,1.1,1.2,1.3,1.4,1.5,2,4]\n",
    "\n",
    "cost0 = solve_subsistence_problem(FoodNutrients,prices_bb,diet_min[group],diet_max[group],tol=tol).fun\n",
    "\n",
    "my_p = prices_bb.copy()\n",
    "\n",
    "diet = {}\n",
    "for s in scale:\n",
    "\n",
    "    my_p[ReferenceGood] = prices_bb[ReferenceGood]*s\n",
    "    result = solve_subsistence_problem(FoodNutrients,my_p,diet_min[group],diet_max[group],tol=tol)\n",
    "    diet[my_p[ReferenceGood]] = result.diet\n",
    "\n",
    "Diet_response = pd.DataFrame(diet).T\n",
    "Diet_response.index.name = '%s Price' % ReferenceGood\n",
    "\n",
    "Diet_response.reset_index(inplace=True)\n",
    "\n",
    "# Get rid of units for index (cufflinks chokes)\n",
    "Diet_response['%s Price' % ReferenceGood] = Diet_response['%s Price' % ReferenceGood].apply(lambda x: x.magnitude)\n",
    "\n",
    "Diet_response = Diet_response.set_index('%s Price' % ReferenceGood)\n",
    "\n",
    "# Just look at goods consumed in quantities greater than error tolerance\n",
    "Diet_response.loc[:,(Diet_response>tol).sum()>0].iplot(xTitle='%s Price' % ReferenceGood,yTitle='Hectograms')"
   ]
  },
  {
   "cell_type": "code",
   "execution_count": null,
   "id": "45fa0c19",
   "metadata": {},
   "outputs": [],
   "source": [
    "cf.go_offline()\n",
    "\n",
    "ReferenceGood = 'Jalepenos'\n",
    "\n",
    "scale = [0.5,0.75,0.9,1.,1.1,1.2,1.3,1.4,1.5,2,4]\n",
    "\n",
    "cost0 = solve_subsistence_problem(FoodNutrients,prices_bb,diet_min[group],diet_max[group],tol=tol).fun\n",
    "\n",
    "my_p = prices_bb.copy()\n",
    "\n",
    "diet = {}\n",
    "for s in scale:\n",
    "\n",
    "    my_p[ReferenceGood] = prices_bb[ReferenceGood]*s\n",
    "    result = solve_subsistence_problem(FoodNutrients,my_p,diet_min[group],diet_max[group],tol=tol)\n",
    "    diet[my_p[ReferenceGood]] = result.diet\n",
    "\n",
    "Diet_response = pd.DataFrame(diet).T\n",
    "Diet_response.index.name = '%s Price' % ReferenceGood\n",
    "\n",
    "Diet_response.reset_index(inplace=True)\n",
    "\n",
    "# Get rid of units for index (cufflinks chokes)\n",
    "Diet_response['%s Price' % ReferenceGood] = Diet_response['%s Price' % ReferenceGood].apply(lambda x: x.magnitude)\n",
    "\n",
    "Diet_response = Diet_response.set_index('%s Price' % ReferenceGood)\n",
    "\n",
    "# Just look at goods consumed in quantities greater than error tolerance\n",
    "Diet_response.loc[:,(Diet_response>tol).sum()>0].iplot(xTitle='%s Price' % ReferenceGood,yTitle='Hectograms')"
   ]
  }
 ],
 "metadata": {
  "kernelspec": {
   "display_name": "Python 3 (ipykernel)",
   "language": "python",
   "name": "python3"
  },
  "language_info": {
   "codemirror_mode": {
    "name": "ipython",
    "version": 3
   },
   "file_extension": ".py",
   "mimetype": "text/x-python",
   "name": "python",
   "nbconvert_exporter": "python",
   "pygments_lexer": "ipython3",
   "version": "3.9.10"
  }
 },
 "nbformat": 4,
 "nbformat_minor": 5
}
