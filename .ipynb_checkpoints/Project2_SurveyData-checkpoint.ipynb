{
 "cells": [
  {
   "cell_type": "code",
   "execution_count": 2,
   "id": "7fc90caa",
   "metadata": {},
   "outputs": [
    {
     "name": "stdout",
     "output_type": "stream",
     "text": [
      "Requirement already satisfied: eep153_tools in /opt/conda/lib/python3.9/site-packages (0.11)\n",
      "Requirement already satisfied: python_gnupg in /opt/conda/lib/python3.9/site-packages (0.4.8)\n"
     ]
    }
   ],
   "source": [
    "!pip install eep153_tools\n",
    "!pip install python_gnupg\n",
    "\n",
    "from eep153_tools.sheets import decrypt_credentials\n",
    "#decrypt_credentials('../students.json.gpg')"
   ]
  },
  {
   "cell_type": "code",
   "execution_count": 3,
   "id": "61e2d984",
   "metadata": {},
   "outputs": [],
   "source": [
    "import matplotlib.pyplot as plt\n",
    "from  scipy.optimize import linprog as lp\n",
    "import numpy as np\n",
    "import warnings\n",
    "import pandas as pd\n",
    "\n",
    "from eep153_tools.sheets import read_sheets\n",
    "SHEET = [(\"https://docs.google.com/spreadsheets/d/1aI1wYbJ1LY-en_B9wt1kHJ0CB9Hh6QibausCN5l6FlA/edit?usp=sharing\",\"Form Responses 1\")]"
   ]
  },
  {
   "cell_type": "code",
   "execution_count": 4,
   "id": "ea3c838e",
   "metadata": {},
   "outputs": [
    {
     "name": "stdout",
     "output_type": "stream",
     "text": [
      "Key available for students@eep153.iam.gserviceaccount.com.\n"
     ]
    }
   ],
   "source": [
    "df_survey = read_sheets(SHEET[0][0])[SHEET[0][1]]"
   ]
  },
  {
   "cell_type": "code",
   "execution_count": 5,
   "id": "83ae2462",
   "metadata": {},
   "outputs": [
    {
     "data": {
      "text/html": [
       "<div>\n",
       "<style scoped>\n",
       "    .dataframe tbody tr th:only-of-type {\n",
       "        vertical-align: middle;\n",
       "    }\n",
       "\n",
       "    .dataframe tbody tr th {\n",
       "        vertical-align: top;\n",
       "    }\n",
       "\n",
       "    .dataframe thead th {\n",
       "        text-align: right;\n",
       "    }\n",
       "</style>\n",
       "<table border=\"1\" class=\"dataframe\">\n",
       "  <thead>\n",
       "    <tr style=\"text-align: right;\">\n",
       "      <th></th>\n",
       "      <th>Timestamp</th>\n",
       "      <th>Score</th>\n",
       "      <th>What is your preferred diet?</th>\n",
       "      <th>Where do you grocery shop the most in Berkeley?</th>\n",
       "      <th>How much do you spend on an average grocery-shopping trip?</th>\n",
       "      <th>How many times per week do you go grocery shopping?</th>\n",
       "    </tr>\n",
       "  </thead>\n",
       "  <tbody>\n",
       "    <tr>\n",
       "      <th>0</th>\n",
       "      <td>2/28/2022 17:22:24</td>\n",
       "      <td>NaN</td>\n",
       "      <td>Omnivorous</td>\n",
       "      <td>Berkeley Bowl</td>\n",
       "      <td>$ 100 +</td>\n",
       "      <td>1.0</td>\n",
       "    </tr>\n",
       "    <tr>\n",
       "      <th>1</th>\n",
       "      <td>2/28/2022 17:22:29</td>\n",
       "      <td>NaN</td>\n",
       "      <td>Omnivorous</td>\n",
       "      <td>Trader Joe's</td>\n",
       "      <td>$ 0 - 20</td>\n",
       "      <td>1.0</td>\n",
       "    </tr>\n",
       "    <tr>\n",
       "      <th>2</th>\n",
       "      <td>2/28/2022 17:22:46</td>\n",
       "      <td>NaN</td>\n",
       "      <td>Vegetarian</td>\n",
       "      <td>Trader Joe's</td>\n",
       "      <td>$ 60 - 80</td>\n",
       "      <td>1.0</td>\n",
       "    </tr>\n",
       "    <tr>\n",
       "      <th>3</th>\n",
       "      <td>2/28/2022 17:22:51</td>\n",
       "      <td>NaN</td>\n",
       "      <td>Omnivorous</td>\n",
       "      <td>Trader Joe's</td>\n",
       "      <td>$ 40 - 60</td>\n",
       "      <td>1.0</td>\n",
       "    </tr>\n",
       "    <tr>\n",
       "      <th>4</th>\n",
       "      <td>2/28/2022 17:23:42</td>\n",
       "      <td>NaN</td>\n",
       "      <td>Omnivorous</td>\n",
       "      <td>Trader Joe's</td>\n",
       "      <td>$ 100 +</td>\n",
       "      <td>1.0</td>\n",
       "    </tr>\n",
       "    <tr>\n",
       "      <th>...</th>\n",
       "      <td>...</td>\n",
       "      <td>...</td>\n",
       "      <td>...</td>\n",
       "      <td>...</td>\n",
       "      <td>...</td>\n",
       "      <td>...</td>\n",
       "    </tr>\n",
       "    <tr>\n",
       "      <th>81</th>\n",
       "      <td>3/1/2022 16:01:43</td>\n",
       "      <td>NaN</td>\n",
       "      <td>Pescatarian</td>\n",
       "      <td>Safeway</td>\n",
       "      <td>$ 20 - 40</td>\n",
       "      <td>1.0</td>\n",
       "    </tr>\n",
       "    <tr>\n",
       "      <th>82</th>\n",
       "      <td>3/1/2022 20:49:14</td>\n",
       "      <td>NaN</td>\n",
       "      <td>Omnivorous</td>\n",
       "      <td>Trader Joe's</td>\n",
       "      <td>$ 40 - 60</td>\n",
       "      <td>2.0</td>\n",
       "    </tr>\n",
       "    <tr>\n",
       "      <th>83</th>\n",
       "      <td>3/1/2022 22:26:14</td>\n",
       "      <td>NaN</td>\n",
       "      <td>Omnivorous</td>\n",
       "      <td>Trader Joe's</td>\n",
       "      <td>$ 80 - 100</td>\n",
       "      <td>1.0</td>\n",
       "    </tr>\n",
       "    <tr>\n",
       "      <th>84</th>\n",
       "      <td>3/2/2022 18:35:35</td>\n",
       "      <td>NaN</td>\n",
       "      <td>Omnivorous</td>\n",
       "      <td>Trader Joe's</td>\n",
       "      <td>$ 80 - 100</td>\n",
       "      <td>1.0</td>\n",
       "    </tr>\n",
       "    <tr>\n",
       "      <th>85</th>\n",
       "      <td>3/2/2022 20:36:39</td>\n",
       "      <td>NaN</td>\n",
       "      <td>Omnivorous</td>\n",
       "      <td>Trader Joe's</td>\n",
       "      <td>$ 20 - 40</td>\n",
       "      <td>1.0</td>\n",
       "    </tr>\n",
       "  </tbody>\n",
       "</table>\n",
       "<p>86 rows × 6 columns</p>\n",
       "</div>"
      ],
      "text/plain": [
       "             Timestamp  Score What is your preferred diet?  \\\n",
       "0   2/28/2022 17:22:24    NaN                   Omnivorous   \n",
       "1   2/28/2022 17:22:29    NaN                   Omnivorous   \n",
       "2   2/28/2022 17:22:46    NaN                   Vegetarian   \n",
       "3   2/28/2022 17:22:51    NaN                   Omnivorous   \n",
       "4   2/28/2022 17:23:42    NaN                   Omnivorous   \n",
       "..                 ...    ...                          ...   \n",
       "81   3/1/2022 16:01:43    NaN                  Pescatarian   \n",
       "82   3/1/2022 20:49:14    NaN                   Omnivorous   \n",
       "83   3/1/2022 22:26:14    NaN                   Omnivorous   \n",
       "84   3/2/2022 18:35:35    NaN                   Omnivorous   \n",
       "85   3/2/2022 20:36:39    NaN                   Omnivorous   \n",
       "\n",
       "   Where do you grocery shop the most in Berkeley?  \\\n",
       "0                                    Berkeley Bowl   \n",
       "1                                     Trader Joe's   \n",
       "2                                     Trader Joe's   \n",
       "3                                     Trader Joe's   \n",
       "4                                     Trader Joe's   \n",
       "..                                             ...   \n",
       "81                                         Safeway   \n",
       "82                                    Trader Joe's   \n",
       "83                                    Trader Joe's   \n",
       "84                                    Trader Joe's   \n",
       "85                                    Trader Joe's   \n",
       "\n",
       "   How much do you spend on an average grocery-shopping trip?  \\\n",
       "0                                             $ 100 +           \n",
       "1                                            $ 0 - 20           \n",
       "2                                           $ 60 - 80           \n",
       "3                                           $ 40 - 60           \n",
       "4                                             $ 100 +           \n",
       "..                                                ...           \n",
       "81                                          $ 20 - 40           \n",
       "82                                          $ 40 - 60           \n",
       "83                                         $ 80 - 100           \n",
       "84                                         $ 80 - 100           \n",
       "85                                          $ 20 - 40           \n",
       "\n",
       "    How many times per week do you go grocery shopping?  \n",
       "0                                                 1.0    \n",
       "1                                                 1.0    \n",
       "2                                                 1.0    \n",
       "3                                                 1.0    \n",
       "4                                                 1.0    \n",
       "..                                                ...    \n",
       "81                                                1.0    \n",
       "82                                                2.0    \n",
       "83                                                1.0    \n",
       "84                                                1.0    \n",
       "85                                                1.0    \n",
       "\n",
       "[86 rows x 6 columns]"
      ]
     },
     "execution_count": 5,
     "metadata": {},
     "output_type": "execute_result"
    }
   ],
   "source": [
    "df_survey"
   ]
  },
  {
   "cell_type": "code",
   "execution_count": 6,
   "id": "731a9280",
   "metadata": {},
   "outputs": [],
   "source": [
    "def change_df_col_to_int(df, col):\n",
    "   # df[col] = df[col].dropna()\n",
    "    df[col] = df[col].str.replace('$', '')\n",
    "    df[col] = df[col].astype(float)\n",
    "    return df"
   ]
  },
  {
   "cell_type": "code",
   "execution_count": 7,
   "id": "ba5b8e78",
   "metadata": {},
   "outputs": [],
   "source": [
    "#change_df_col_to_int(df_survey, 'How much do you spend on an average grocery-shopping trip?')\n",
    "#Could not get this code to run"
   ]
  },
  {
   "cell_type": "code",
   "execution_count": 8,
   "id": "193cda70",
   "metadata": {},
   "outputs": [
    {
     "data": {
      "text/plain": [
       "1.0    77\n",
       "2.0     5\n",
       "4.0     2\n",
       "3.0     1\n",
       "Name: How many times per week do you go grocery shopping?, dtype: int64"
      ]
     },
     "execution_count": 8,
     "metadata": {},
     "output_type": "execute_result"
    }
   ],
   "source": [
    "df_survey['How many times per week do you go grocery shopping?'].value_counts()"
   ]
  },
  {
   "cell_type": "code",
   "execution_count": 9,
   "id": "98eca923",
   "metadata": {},
   "outputs": [
    {
     "data": {
      "image/png": "[encoded data removed]",
      "text/plain": [
       "<Figure size 720x360 with 1 Axes>"
      ]
     },
     "metadata": {
      "needs_background": "light"
     },
     "output_type": "display_data"
    }
   ],
   "source": [
    "GroceryShopping_dict = {'Once a Week':77, 'Twice a Week':5, 'Three times a Week':1, 'Four Times a Week': 2}\n",
    "frequency_of_shopping = list(GroceryShopping_dict.keys())\n",
    "values = list(GroceryShopping_dict.values())\n",
    "fig_GroceryShopping_Freq = plt.figure(figsize = (10, 5))\n",
    "\n",
    "# Bar plot\n",
    "plt.bar(frequency_of_shopping, values, color ='green',\n",
    "        width = 0.5)\n",
    "plt.xlabel(\"Grocery Shop Trips Per Week\")\n",
    "plt.ylabel(\"Number of Respondents\")\n",
    "plt.title(\"How many times per week do you go grocery shopping?\")\n",
    "plt.show()"
   ]
  },
  {
   "cell_type": "markdown",
   "id": "fb99e648",
   "metadata": {},
   "source": [
    "## Approximate Spending Per Grocery Run"
   ]
  },
  {
   "cell_type": "code",
   "execution_count": 14,
   "id": "8625b1a1",
   "metadata": {},
   "outputs": [
    {
     "data": {
      "text/plain": [
       "$ 20 - 40     33\n",
       "$ 40 - 60     25\n",
       "$ 60 - 80     12\n",
       "$ 80 - 100     7\n",
       "$ 100 +        5\n",
       "$ 0 - 20       3\n",
       "               1\n",
       "Name: How much do you spend on an average grocery-shopping trip?, dtype: int64"
      ]
     },
     "execution_count": 14,
     "metadata": {},
     "output_type": "execute_result"
    }
   ],
   "source": [
    "df_survey['How much do you spend on an average grocery-shopping trip?'].value_counts()"
   ]
  },
  {
   "cell_type": "code",
   "execution_count": 21,
   "id": "77235666",
   "metadata": {},
   "outputs": [
    {
     "data": {
      "image/png": "[encoded data removed]",
      "text/plain": [
       "<Figure size 720x360 with 1 Axes>"
      ]
     },
     "metadata": {
      "needs_background": "light"
     },
     "output_type": "display_data"
    }
   ],
   "source": [
    "GrocerySpending_dict = {'$ 0 - 20':3, '$ 20 - 40 ':33, '$ 40 - 60':25, '$ 60 - 80':12, '$ 80 - 100':7, '$ 100 +':5}\n",
    "spending_per_shopping = list(GrocerySpending_dict.keys())\n",
    "values = list(GrocerySpending_dict.values())\n",
    "fig_GrocerySpending_Per = plt.figure(figsize = (10, 5))\n",
    "\n",
    "# Bar plot\n",
    "plt.bar(spending_per_shopping, values, color = ['green','blue', 'red', 'purple', 'orange', 'brown']\n",
    "        , width = 0.5)\n",
    "\n",
    "plt.xlabel(\"Approx Grocery Spending Per Trip\")\n",
    "plt.ylabel(\"Number of Respondents\")\n",
    "plt.title(\"How much do you spend on an average grocery-shopping trip?\")\n",
    "plt.show()"
   ]
  },
  {
   "cell_type": "markdown",
   "id": "380a4aad",
   "metadata": {},
   "source": [
    "## Grocery Store Preferences\n",
    "\n"
   ]
  },
  {
   "cell_type": "code",
   "execution_count": 10,
   "id": "29f3f9d9",
   "metadata": {},
   "outputs": [
    {
     "data": {
      "text/plain": [
       "Trader Joe's     59\n",
       "Safeway          14\n",
       "Berkeley Bowl    11\n",
       "Whole Foods       2\n",
       "Name: Where do you grocery shop the most in Berkeley?, dtype: int64"
      ]
     },
     "execution_count": 10,
     "metadata": {},
     "output_type": "execute_result"
    }
   ],
   "source": [
    "df_survey['Where do you grocery shop the most in Berkeley?'].value_counts()"
   ]
  },
  {
   "cell_type": "code",
   "execution_count": 12,
   "id": "ee72e111",
   "metadata": {},
   "outputs": [],
   "source": [
    "tj_percent = (59/86)*100\n",
    "safeway_percent = (14/86)*100\n",
    "bb_percent= (11/86)*100\n",
    "wf_percent = (2/86)*100\n"
   ]
  },
  {
   "cell_type": "code",
   "execution_count": 13,
   "id": "bc9c5ed6",
   "metadata": {},
   "outputs": [
    {
     "data": {
      "image/png": "[encoded data removed]",
      "text/plain": [
       "<Figure size 432x288 with 1 Axes>"
      ]
     },
     "metadata": {},
     "output_type": "display_data"
    }
   ],
   "source": [
    "# Pie chart, where the slices will be ordered and plotted counter-clockwise:\n",
    "labels = 'Trader Joes', 'Safeway', 'Berkeley Bowl', 'Whole Foods'\n",
    "sizes = [tj_percent, safeway_percent, bb_percent, wf_percent]\n",
    "explode = (0.1, 0, 0, 0)  # only \"explode\" the 1st slice Trader Joes\n",
    "\n",
    "fig1, ax1 = plt.subplots()\n",
    "ax1.pie(sizes, explode=explode, labels=labels, autopct='%1.1f%%',\n",
    "        shadow=True, startangle=90)\n",
    "ax1.axis('equal')  # Equal aspect ratio ensures that pie is drawn as a circle.\n",
    "\n",
    "plt.show()"
   ]
  },
  {
   "cell_type": "code",
   "execution_count": null,
   "id": "f280bf03",
   "metadata": {},
   "outputs": [],
   "source": []
  }
 ],
 "metadata": {
  "kernelspec": {
   "display_name": "Python 3 (ipykernel)",
   "language": "python",
   "name": "python3"
  },
  "language_info": {
   "codemirror_mode": {
    "name": "ipython",
    "version": 3
   },
   "file_extension": ".py",
   "mimetype": "text/x-python",
   "name": "python",
   "nbconvert_exporter": "python",
   "pygments_lexer": "ipython3",
   "version": "3.9.5"
  }
 },
 "nbformat": 4,
 "nbformat_minor": 5
}
